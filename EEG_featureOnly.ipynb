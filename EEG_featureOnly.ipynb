{
  "cells": [
    {
      "cell_type": "code",
      "execution_count": 1,
      "metadata": {
        "colab": {
          "base_uri": "https://localhost:8080/"
        },
        "id": "Jqj1V21QZ4yU",
        "outputId": "afb1b611-be7d-463a-f561-3379b918fa1f"
      },
      "outputs": [
        {
          "name": "stdout",
          "output_type": "stream",
          "text": [
            "源目录: dataset_1k2k3k_withbandpass_extrafeatures_v3\n",
            "目标目录: data_1k2k3k_nobandpass_organized_dataset\n"
          ]
        },
        {
          "name": "stderr",
          "output_type": "stream",
          "text": [
            "处理目录: 100%|██████████| 19/19 [00:27<00:00,  1.43s/it]"
          ]
        },
        {
          "name": "stdout",
          "output_type": "stream",
          "text": [
            "文件整理完成。\n"
          ]
        },
        {
          "name": "stderr",
          "output_type": "stream",
          "text": [
            "\n"
          ]
        }
      ],
      "source": [
        "import os\n",
        "import shutil\n",
        "from tqdm import tqdm\n",
        "\n",
        "def organize_files(src_root_dir, dst_root_dir):\n",
        "    cases = ['case1', 'case2', 'case3', 'case4']\n",
        "\n",
        "    # 为每个 case 创建目录\n",
        "    for case in cases:\n",
        "        case_dir = os.path.join(dst_root_dir, case)\n",
        "        if not os.path.exists(case_dir):\n",
        "            os.makedirs(case_dir)\n",
        "\n",
        "    # 遍历源目录\n",
        "    for main_dir in tqdm(os.listdir(src_root_dir), desc=\"处理目录\"):\n",
        "        main_dir_path = os.path.join(src_root_dir, main_dir)\n",
        "        if os.path.isdir(main_dir_path):\n",
        "            for sub_dir in os.listdir(main_dir_path):\n",
        "                sub_dir_path = os.path.join(main_dir_path, sub_dir)\n",
        "                if os.path.isdir(sub_dir_path):\n",
        "                    case_name = sub_dir.split('_')[0]\n",
        "                    case_dir = os.path.join(dst_root_dir, case_name)\n",
        "\n",
        "                    for filename in os.listdir(sub_dir_path):\n",
        "                        if filename.endswith('.npy'):\n",
        "                            src_npy_path = os.path.join(sub_dir_path, filename)\n",
        "                            dst_npy_path = os.path.join(case_dir, f\"{main_dir}_{sub_dir}_{filename}\")\n",
        "                            shutil.copy(src_npy_path, dst_npy_path)\n",
        "                            # print(f\"已复制 {src_npy_path} 到 {dst_npy_path}\")\n",
        "\n",
        "src_directory = 'dataset_1k2k3k_withbandpass_extrafeatures_v3'\n",
        "dst_directory = 'data_1k2k3k_nobandpass_organized_dataset'\n",
        "\n",
        "print(f\"源目录: {src_directory}\")\n",
        "print(f\"目标目录: {dst_directory}\")\n",
        "\n",
        "if not os.path.exists(src_directory):\n",
        "    print(f\"源目录不存在: {src_directory}\")\n",
        "else:\n",
        "    organize_files(src_directory, dst_directory)\n",
        "    print(\"文件整理完成。\")"
      ]
    },
    {
      "cell_type": "code",
      "execution_count": 2,
      "metadata": {
        "id": "pFSqZ0jwCMSv"
      },
      "outputs": [],
      "source": [
        "import numpy as np\n",
        "import pandas as pd\n",
        "\n",
        "from pathlib import Path\n",
        "from tqdm import tqdm\n",
        "\n",
        "import torchaudio\n",
        "from sklearn.model_selection import train_test_split\n",
        "import os\n",
        "import sys"
      ]
    },
    {
      "cell_type": "code",
      "execution_count": 3,
      "metadata": {
        "colab": {
          "base_uri": "https://localhost:8080/"
        },
        "id": "7MXAESg_Dqr6",
        "outputId": "5190ad35-d456-4a0b-8f25-201297db492e"
      },
      "outputs": [
        {
          "name": "stderr",
          "output_type": "stream",
          "text": [
            "处理 case1: 684it [00:03, 200.75it/s]\n",
            "处理 case2: 684it [00:04, 149.60it/s]\n",
            "处理 case3: 1368it [00:10, 134.72it/s]\n",
            "处理 case4: 1368it [00:09, 141.56it/s]"
          ]
        },
        {
          "name": "stdout",
          "output_type": "stream",
          "text": [
            "收集了 4104 个项目。\n",
            "\n",
            "数据分布:\n",
            "case1: 684 个项目\n",
            "case2: 684 个项目\n",
            "case3: 1368 个项目\n",
            "case4: 1368 个项目\n",
            "\n",
            "具有能量特征的项目: 4104 / 4104\n"
          ]
        },
        {
          "name": "stderr",
          "output_type": "stream",
          "text": [
            "\n"
          ]
        }
      ],
      "source": [
        "import os\n",
        "from pathlib import Path\n",
        "import numpy as np\n",
        "from tqdm import tqdm\n",
        "\n",
        "data = []\n",
        "\n",
        "for case in ['case1', 'case2', 'case3', 'case4']:\n",
        "    case_path = Path(f'data_1k2k3k_nobandpass_organized_dataset/{case}')\n",
        "    for path in tqdm(case_path.glob(\"*.npy\"), desc=f\"处理 {case}\"):\n",
        "        name = path.stem\n",
        "        # 获取文件名的各个部分\n",
        "        parts = path.name.split('_')\n",
        "        prefix = parts[0]  # 前缀\n",
        "        case_id = '_'.join(parts[1:-2])  # case_id（可能包含多个部分）\n",
        "        sample_set = parts[-2]  # sample_set\n",
        "\n",
        "        try:\n",
        "            # 加载 .npy 文件\n",
        "            npy_path = path.with_suffix('.npy')\n",
        "            if npy_path.exists():\n",
        "                energy_features = np.load(npy_path)\n",
        "\n",
        "            data.append({\n",
        "                \"name\": name,\n",
        "                \"path\": str(path),\n",
        "                \"case\": case,\n",
        "                \"prefix\": prefix,\n",
        "                \"case_id\": case_id,\n",
        "                \"sample_set\": sample_set,\n",
        "                \"energy_features\": energy_features\n",
        "            })\n",
        "        except Exception as e:\n",
        "            print(f\"处理文件 {path} 时出错: {str(e)}\")\n",
        "            # 跳过损坏的文件\n",
        "            pass\n",
        "\n",
        "# 显示收集到的数据条目数\n",
        "print(f\"收集了 {len(data)} 个项目。\")\n",
        "\n",
        "# 数据统计\n",
        "case_counts = {case: sum(1 for item in data if item['case'] == case) for case in ['case1', 'case2', 'case3', 'case4']}\n",
        "print(\"\\n数据分布:\")\n",
        "for case, count in case_counts.items():\n",
        "    print(f\"{case}: {count} 个项目\")\n",
        "\n",
        "# 检查是否所有项目都有能量特征\n",
        "items_with_features = sum(1 for item in data if item['energy_features'] is not None)\n",
        "print(f\"\\n具有能量特征的项目: {items_with_features} / {len(data)}\")"
      ]
    },
    {
      "cell_type": "code",
      "execution_count": 4,
      "metadata": {},
      "outputs": [
        {
          "data": {
            "text/html": [
              "<div>\n",
              "<style scoped>\n",
              "    .dataframe tbody tr th:only-of-type {\n",
              "        vertical-align: middle;\n",
              "    }\n",
              "\n",
              "    .dataframe tbody tr th {\n",
              "        vertical-align: top;\n",
              "    }\n",
              "\n",
              "    .dataframe thead th {\n",
              "        text-align: right;\n",
              "    }\n",
              "</style>\n",
              "<table border=\"1\" class=\"dataframe\">\n",
              "  <thead>\n",
              "    <tr style=\"text-align: right;\">\n",
              "      <th></th>\n",
              "      <th>name</th>\n",
              "      <th>path</th>\n",
              "      <th>case</th>\n",
              "      <th>prefix</th>\n",
              "      <th>case_id</th>\n",
              "      <th>sample_set</th>\n",
              "      <th>energy_features</th>\n",
              "    </tr>\n",
              "  </thead>\n",
              "  <tbody>\n",
              "    <tr>\n",
              "      <th>0</th>\n",
              "      <td>A10_case1_1_sample_10_2</td>\n",
              "      <td>data_1k2k3k_nobandpass_organized_dataset\\case1...</td>\n",
              "      <td>case1</td>\n",
              "      <td>A10</td>\n",
              "      <td>case1_1_sample</td>\n",
              "      <td>10</td>\n",
              "      <td>4.071372111649566</td>\n",
              "    </tr>\n",
              "    <tr>\n",
              "      <th>1</th>\n",
              "      <td>A10_case1_1_sample_11_2</td>\n",
              "      <td>data_1k2k3k_nobandpass_organized_dataset\\case1...</td>\n",
              "      <td>case1</td>\n",
              "      <td>A10</td>\n",
              "      <td>case1_1_sample</td>\n",
              "      <td>11</td>\n",
              "      <td>3.197134666321631</td>\n",
              "    </tr>\n",
              "    <tr>\n",
              "      <th>2</th>\n",
              "      <td>A10_case1_1_sample_12_2</td>\n",
              "      <td>data_1k2k3k_nobandpass_organized_dataset\\case1...</td>\n",
              "      <td>case1</td>\n",
              "      <td>A10</td>\n",
              "      <td>case1_1_sample</td>\n",
              "      <td>12</td>\n",
              "      <td>3.6374339150299875</td>\n",
              "    </tr>\n",
              "    <tr>\n",
              "      <th>3</th>\n",
              "      <td>A10_case1_1_sample_13_3</td>\n",
              "      <td>data_1k2k3k_nobandpass_organized_dataset\\case1...</td>\n",
              "      <td>case1</td>\n",
              "      <td>A10</td>\n",
              "      <td>case1_1_sample</td>\n",
              "      <td>13</td>\n",
              "      <td>0.4854435119452205</td>\n",
              "    </tr>\n",
              "    <tr>\n",
              "      <th>4</th>\n",
              "      <td>A10_case1_1_sample_14_3</td>\n",
              "      <td>data_1k2k3k_nobandpass_organized_dataset\\case1...</td>\n",
              "      <td>case1</td>\n",
              "      <td>A10</td>\n",
              "      <td>case1_1_sample</td>\n",
              "      <td>14</td>\n",
              "      <td>0.21410850642453738</td>\n",
              "    </tr>\n",
              "  </tbody>\n",
              "</table>\n",
              "</div>"
            ],
            "text/plain": [
              "                      name                                               path  \\\n",
              "0  A10_case1_1_sample_10_2  data_1k2k3k_nobandpass_organized_dataset\\case1...   \n",
              "1  A10_case1_1_sample_11_2  data_1k2k3k_nobandpass_organized_dataset\\case1...   \n",
              "2  A10_case1_1_sample_12_2  data_1k2k3k_nobandpass_organized_dataset\\case1...   \n",
              "3  A10_case1_1_sample_13_3  data_1k2k3k_nobandpass_organized_dataset\\case1...   \n",
              "4  A10_case1_1_sample_14_3  data_1k2k3k_nobandpass_organized_dataset\\case1...   \n",
              "\n",
              "    case prefix         case_id sample_set      energy_features  \n",
              "0  case1    A10  case1_1_sample         10    4.071372111649566  \n",
              "1  case1    A10  case1_1_sample         11    3.197134666321631  \n",
              "2  case1    A10  case1_1_sample         12   3.6374339150299875  \n",
              "3  case1    A10  case1_1_sample         13   0.4854435119452205  \n",
              "4  case1    A10  case1_1_sample         14  0.21410850642453738  "
            ]
          },
          "execution_count": 4,
          "metadata": {},
          "output_type": "execute_result"
        }
      ],
      "source": [
        "import pandas as pd\n",
        "df = pd.DataFrame(data)\n",
        "df.head()"
      ]
    },
    {
      "cell_type": "code",
      "execution_count": 5,
      "metadata": {
        "colab": {
          "base_uri": "https://localhost:8080/",
          "height": 206
        },
        "id": "10b89ZpLDqx9",
        "outputId": "9fcff095-47fb-462b-965a-1889bf392fa9"
      },
      "outputs": [],
      "source": [
        "import pandas as pd\n",
        "df = pd.DataFrame(data)\n",
        "df.head()\n",
        "df = df.sample(frac=1).reset_index(drop=True)"
      ]
    },
    {
      "cell_type": "markdown",
      "metadata": {
        "id": "i2hwRai7BNrx"
      },
      "source": [
        "Let's display some random sample of the dataset and run it a couple of times to get a feeling for the audio and the emotional label."
      ]
    },
    {
      "cell_type": "code",
      "execution_count": 8,
      "metadata": {
        "colab": {
          "base_uri": "https://localhost:8080/",
          "height": 494,
          "referenced_widgets": [
            "6bc9503574d646bbb4af755e3cd3e3bd",
            "02466142c6c24bb3a76bfe582e2c98d7",
            "2375620c24ce43a5a7cdc67a7195ba62",
            "97696705d820421facb0f6b00c317f89",
            "070519028e4e4e939e848791c8fba4f8",
            "cdb05b93e52b42a0bd8bb3cf793273b8",
            "125bf3d9cbae4b36ae8d08ad88419eac",
            "8f24bd1dd65f47f797e016586877ce78",
            "b6e672714fc5455fbaf2a6e7044f6046",
            "b814dee7fda444d586722ed29f88b054",
            "b7846c0e8e0a4d1897ac0e87159f6899",
            "47089d15d93f410ab5e8b9e3033cd463",
            "82c261d0020449e88f80f5d76faed453",
            "c4cfee75c9d14d2bafcfbf871ce3fbc8",
            "87c56116531948338d5f2dde995cc9ac",
            "5d8332f417304126b6c759c059639431",
            "cdc8ec639d354fe88cdb118dbe155a29",
            "e1c94b90d50948f0977e923b1c4eae6e",
            "a113ecbb240a4a30a0b3e346f01e12dd",
            "45212ee9f7dc486fadc535e9a90f1420",
            "61af082e366c4e88bd0a39f6a474efff",
            "9c0ba2b7274a4d379fbe0ae75edd8819"
          ]
        },
        "id": "mlim-044xtJN",
        "outputId": "6c4c8da3-b851-4f25-b911-0e7d9ae0ad06"
      },
      "outputs": [
        {
          "name": "stdout",
          "output_type": "stream",
          "text": [
            "训练数据集形状: (3283, 7)\n",
            "测试数据集形状: (821, 7)\n",
            "\n",
            "训练数据集中每个 case 的样本数:\n",
            "case\n",
            "case3    1095\n",
            "case4    1094\n",
            "case1     547\n",
            "case2     547\n",
            "Name: count, dtype: int64\n",
            "\n",
            "验证数据集中每个 case 的样本数:\n",
            "case\n",
            "case4    274\n",
            "case3    273\n",
            "case1    137\n",
            "case2    137\n",
            "Name: count, dtype: int64\n",
            "\n",
            "这是一个有 4 个类别的分类问题: ['case1', 'case2', 'case3', 'case4']\n"
          ]
        },
        {
          "name": "stderr",
          "output_type": "stream",
          "text": [
            "Map: 100%|██████████| 3283/3283 [00:00<00:00, 247544.31 examples/s]\n",
            "Map: 100%|██████████| 821/821 [00:00<00:00, 399017.80 examples/s]"
          ]
        },
        {
          "name": "stdout",
          "output_type": "stream",
          "text": [
            "\n",
            "带有能量特征的训练数据集:\n",
            "{'energy_features': [0.07321549042228526, 33.11227428622621, 3.6374339150299875, 0.013138705499983416, 175.39704312275228], 'labels': [0, 3, 0, 0, 3]}\n",
            "\n",
            "带有能量特征的验证数据集:\n",
            "{'energy_features': [11.063609211383412, 245.78904389559597, 0.12018817243463786, 11.255839661838182, 993.8337578568035], 'labels': [3, 2, 0, 1, 3]}\n",
            "\n",
            "训练样本中包含能量特征的数量: 3283 / 3283\n",
            "验证样本中包含能量特征的数量: 821 / 821\n",
            "\n",
            "数据类型检查:\n",
            "energy_features 的数据类型: float64\n",
            "\n",
            "前5个样本的 energy_features:\n",
            "0      2.595416\n",
            "1      1.882986\n",
            "2    885.436748\n",
            "3     93.589134\n",
            "4     11.226658\n",
            "Name: energy_features, dtype: float64\n"
          ]
        },
        {
          "name": "stderr",
          "output_type": "stream",
          "text": [
            "\n"
          ]
        }
      ],
      "source": [
        "import numpy as np\n",
        "import pandas as pd\n",
        "from sklearn.model_selection import train_test_split\n",
        "from datasets import Dataset\n",
        "from transformers import TrainingArguments, Trainer\n",
        "import torch\n",
        "from torch import nn\n",
        "\n",
        "# 处理 energy_features 列的函数\n",
        "def process_energy_features(df):\n",
        "    new_values = []\n",
        "    for v in df[\"energy_features\"]:\n",
        "        if isinstance(v, np.ndarray):\n",
        "            new_values.append(float(v.item()))  # 使用 item() 来获取数组中的单个值\n",
        "        else:\n",
        "            new_values.append(float(v))\n",
        "    df[\"energy_float\"] = new_values\n",
        "    return df\n",
        "\n",
        "# 处理数据\n",
        "df = process_energy_features(df)\n",
        "df = df.drop(columns=[\"energy_features\"])\n",
        "df = df.rename(columns={\"energy_float\": \"energy_features\"})\n",
        "\n",
        "# 定义辅助函数\n",
        "def label_to_id(label, label_list):\n",
        "    return label_list.index(label)\n",
        "\n",
        "# 数据集分割\n",
        "train_df, test_df = train_test_split(df, test_size=0.2, random_state=101, stratify=df[\"case\"])\n",
        "\n",
        "# 重置索引\n",
        "train_df = train_df.reset_index(drop=True)\n",
        "test_df = test_df.reset_index(drop=True)\n",
        "\n",
        "# 打印数据集的形状\n",
        "print(\"训练数据集形状:\", train_df.shape)\n",
        "print(\"测试数据集形状:\", test_df.shape)\n",
        "\n",
        "# 创建 Dataset 对象\n",
        "train_dataset = Dataset.from_pandas(train_df)\n",
        "eval_dataset = Dataset.from_pandas(test_df)\n",
        "\n",
        "# 指定输出列\n",
        "output_column = \"case\"\n",
        "\n",
        "# 打印每个 case 的样本数\n",
        "print(\"\\n训练数据集中每个 case 的样本数:\")\n",
        "print(train_df[output_column].value_counts())\n",
        "print(\"\\n验证数据集中每个 case 的样本数:\")\n",
        "print(test_df[output_column].value_counts())\n",
        "\n",
        "# 识别和排序标签列表\n",
        "label_list = sorted(df[\"case\"].unique())\n",
        "num_labels = len(label_list)\n",
        "print(f\"\\n这是一个有 {num_labels} 个类别的分类问题: {label_list}\")\n",
        "\n",
        "# 预处理函数\n",
        "def preprocess_function(examples):\n",
        "    labels = [label_to_id(label, label_list) for label in examples[\"case\"]]\n",
        "    energy_features = examples[\"energy_features\"]\n",
        "    return {\n",
        "        \"labels\": labels, \n",
        "        \"energy_features\": energy_features\n",
        "    }\n",
        "\n",
        "# 应用预处理\n",
        "train_dataset = train_dataset.map(preprocess_function, batched=True, remove_columns=train_dataset.column_names)\n",
        "eval_dataset = eval_dataset.map(preprocess_function, batched=True, remove_columns=eval_dataset.column_names)\n",
        "\n",
        "# 检查能量特征加载情况\n",
        "print(\"\\n带有能量特征的训练数据集:\")\n",
        "print(train_dataset[:5])\n",
        "print(\"\\n带有能量特征的验证数据集:\")\n",
        "print(eval_dataset[:5])\n",
        "\n",
        "# 统计包含能量特征的样本数\n",
        "train_with_features = sum(1 for item in train_dataset if item['energy_features'] is not None)\n",
        "eval_with_features = sum(1 for item in eval_dataset if item['energy_features'] is not None)\n",
        "print(f\"\\n训练样本中包含能量特征的数量: {train_with_features} / {len(train_dataset)}\")\n",
        "print(f\"验证样本中包含能量特征的数量: {eval_with_features} / {len(eval_dataset)}\")\n",
        "\n",
        "# 定义模型\n",
        "class SimpleClassifier(nn.Module):\n",
        "    def __init__(self, input_dim, num_labels):\n",
        "        super().__init__()\n",
        "        self.linear = nn.Linear(input_dim, num_labels)\n",
        "    \n",
        "    def forward(self, x):\n",
        "        return self.linear(x)\n",
        "\n",
        "# 数据整理函数\n",
        "def collate_fn(batch):\n",
        "    energy_features = torch.tensor([item['energy_features'] for item in batch], dtype=torch.float)\n",
        "    labels = torch.tensor([item['labels'] for item in batch], dtype=torch.long)\n",
        "    return {'energy_features': energy_features, 'labels': labels}\n",
        "\n",
        "# 计算指标\n",
        "def compute_metrics(eval_pred):\n",
        "    predictions, labels = eval_pred\n",
        "    predictions = np.argmax(predictions, axis=1)\n",
        "    return {'accuracy': (predictions == labels).mean()}\n",
        "\n",
        "# 初始化模型\n",
        "model = SimpleClassifier(input_dim=1, num_labels=num_labels)\n",
        "\n",
        "# 打印一些数据检查信息\n",
        "print(\"\\n数据类型检查:\")\n",
        "print(\"energy_features 的数据类型:\", df[\"energy_features\"].dtype)\n",
        "print(\"\\n前5个样本的 energy_features:\")\n",
        "print(df[\"energy_features\"].head())"
      ]
    },
    {
      "cell_type": "code",
      "execution_count": 9,
      "metadata": {},
      "outputs": [
        {
          "data": {
            "text/html": [
              "<div>\n",
              "<style scoped>\n",
              "    .dataframe tbody tr th:only-of-type {\n",
              "        vertical-align: middle;\n",
              "    }\n",
              "\n",
              "    .dataframe tbody tr th {\n",
              "        vertical-align: top;\n",
              "    }\n",
              "\n",
              "    .dataframe thead th {\n",
              "        text-align: right;\n",
              "    }\n",
              "</style>\n",
              "<table border=\"1\" class=\"dataframe\">\n",
              "  <thead>\n",
              "    <tr style=\"text-align: right;\">\n",
              "      <th></th>\n",
              "      <th>name</th>\n",
              "      <th>path</th>\n",
              "      <th>case</th>\n",
              "      <th>prefix</th>\n",
              "      <th>case_id</th>\n",
              "      <th>sample_set</th>\n",
              "      <th>energy_features</th>\n",
              "    </tr>\n",
              "  </thead>\n",
              "  <tbody>\n",
              "    <tr>\n",
              "      <th>0</th>\n",
              "      <td>A4_case1_1_sample_7_2</td>\n",
              "      <td>data_1k2k3k_nobandpass_organized_dataset\\case1...</td>\n",
              "      <td>case1</td>\n",
              "      <td>A4</td>\n",
              "      <td>case1_1_sample</td>\n",
              "      <td>7</td>\n",
              "      <td>2.595416</td>\n",
              "    </tr>\n",
              "    <tr>\n",
              "      <th>1</th>\n",
              "      <td>A9_case1_2_sample_8_2</td>\n",
              "      <td>data_1k2k3k_nobandpass_organized_dataset\\case1...</td>\n",
              "      <td>case1</td>\n",
              "      <td>A9</td>\n",
              "      <td>case1_2_sample</td>\n",
              "      <td>8</td>\n",
              "      <td>1.882986</td>\n",
              "    </tr>\n",
              "    <tr>\n",
              "      <th>2</th>\n",
              "      <td>A4_case2_2_sample_10_1</td>\n",
              "      <td>data_1k2k3k_nobandpass_organized_dataset\\case2...</td>\n",
              "      <td>case2</td>\n",
              "      <td>A4</td>\n",
              "      <td>case2_2_sample</td>\n",
              "      <td>10</td>\n",
              "      <td>885.436748</td>\n",
              "    </tr>\n",
              "    <tr>\n",
              "      <th>3</th>\n",
              "      <td>E4_case4_3_sample_14_3</td>\n",
              "      <td>data_1k2k3k_nobandpass_organized_dataset\\case4...</td>\n",
              "      <td>case4</td>\n",
              "      <td>E4</td>\n",
              "      <td>case4_3_sample</td>\n",
              "      <td>14</td>\n",
              "      <td>93.589134</td>\n",
              "    </tr>\n",
              "    <tr>\n",
              "      <th>4</th>\n",
              "      <td>E9_case4_12_sample_71_3</td>\n",
              "      <td>data_1k2k3k_nobandpass_organized_dataset\\case4...</td>\n",
              "      <td>case4</td>\n",
              "      <td>E9</td>\n",
              "      <td>case4_12_sample</td>\n",
              "      <td>71</td>\n",
              "      <td>11.226658</td>\n",
              "    </tr>\n",
              "  </tbody>\n",
              "</table>\n",
              "</div>"
            ],
            "text/plain": [
              "                      name                                               path  \\\n",
              "0    A4_case1_1_sample_7_2  data_1k2k3k_nobandpass_organized_dataset\\case1...   \n",
              "1    A9_case1_2_sample_8_2  data_1k2k3k_nobandpass_organized_dataset\\case1...   \n",
              "2   A4_case2_2_sample_10_1  data_1k2k3k_nobandpass_organized_dataset\\case2...   \n",
              "3   E4_case4_3_sample_14_3  data_1k2k3k_nobandpass_organized_dataset\\case4...   \n",
              "4  E9_case4_12_sample_71_3  data_1k2k3k_nobandpass_organized_dataset\\case4...   \n",
              "\n",
              "    case prefix          case_id sample_set  energy_features  \n",
              "0  case1     A4   case1_1_sample          7         2.595416  \n",
              "1  case1     A9   case1_2_sample          8         1.882986  \n",
              "2  case2     A4   case2_2_sample         10       885.436748  \n",
              "3  case4     E4   case4_3_sample         14        93.589134  \n",
              "4  case4     E9  case4_12_sample         71        11.226658  "
            ]
          },
          "execution_count": 9,
          "metadata": {},
          "output_type": "execute_result"
        }
      ],
      "source": [
        "df.head(5)"
      ]
    },
    {
      "cell_type": "markdown",
      "metadata": {
        "id": "QL7q6DfcH0Fs"
      },
      "source": [
        "## Model\n",
        "\n",
        "Before diving into the training part, we need to build our classification model based on the merge strategy."
      ]
    },
    {
      "cell_type": "code",
      "execution_count": 11,
      "metadata": {
        "id": "KHMhxFGoR4Hb"
      },
      "outputs": [
        {
          "name": "stderr",
          "output_type": "stream",
          "text": [
            "c:\\Users\\81951\\miniconda3\\envs\\eeg_new\\lib\\site-packages\\torch\\nn\\modules\\transformer.py:306: UserWarning: enable_nested_tensor is True, but self.use_nested_tensor is False because encoder_layer.self_attn.batch_first was not True(use batch_first for better inference performance)\n",
            "  warnings.warn(f\"enable_nested_tensor is True, but self.use_nested_tensor is False because {why_not_sparsity_fast_path}\")\n",
            "c:\\Users\\81951\\miniconda3\\envs\\eeg_new\\lib\\site-packages\\transformers\\training_args.py:1525: FutureWarning: `evaluation_strategy` is deprecated and will be removed in version 4.46 of 🤗 Transformers. Use `eval_strategy` instead\n",
            "  warnings.warn(\n",
            "  0%|          | 0/410 [00:00<?, ?it/s]c:\\Users\\81951\\miniconda3\\envs\\eeg_new\\lib\\site-packages\\torch\\nn\\functional.py:5504: UserWarning: 1Torch was not compiled with flash attention. (Triggered internally at C:\\actions-runner\\_work\\pytorch\\pytorch\\builder\\windows\\pytorch\\aten\\src\\ATen\\native\\transformers\\cuda\\sdp_utils.cpp:455.)\n",
            "  attn_output = scaled_dot_product_attention(q, k, v, attn_mask, dropout_p, is_causal)\n",
            "Could not estimate the number of tokens of the input, floating-point operations will not be computed\n",
            "  2%|▏         | 10/410 [00:01<00:29, 13.71it/s]"
          ]
        },
        {
          "name": "stdout",
          "output_type": "stream",
          "text": [
            "{'loss': 1.4959, 'grad_norm': 5.934451580047607, 'learning_rate': 9.75609756097561e-05, 'epoch': 0.02}\n"
          ]
        },
        {
          "name": "stderr",
          "output_type": "stream",
          "text": [
            "                                                \n",
            "  2%|▏         | 10/410 [00:02<00:29, 13.71it/s]  "
          ]
        },
        {
          "name": "stdout",
          "output_type": "stream",
          "text": [
            "{'eval_loss': 1.1893579959869385, 'eval_accuracy': 0.4604141414165497, 'eval_runtime': 1.3284, 'eval_samples_per_second': 618.036, 'eval_steps_per_second': 155.074, 'epoch': 0.02}\n"
          ]
        },
        {
          "name": "stderr",
          "output_type": "stream",
          "text": [
            "  5%|▍         | 20/410 [00:03<00:56,  6.95it/s]"
          ]
        },
        {
          "name": "stdout",
          "output_type": "stream",
          "text": [
            "{'loss': 1.2647, 'grad_norm': 5.565686225891113, 'learning_rate': 9.51219512195122e-05, 'epoch': 0.05}\n"
          ]
        },
        {
          "name": "stderr",
          "output_type": "stream",
          "text": [
            "                                                \n",
            "  5%|▍         | 20/410 [00:04<00:56,  6.95it/s]  "
          ]
        },
        {
          "name": "stdout",
          "output_type": "stream",
          "text": [
            "{'eval_loss': 0.968656599521637, 'eval_accuracy': 0.4835566282272339, 'eval_runtime': 1.2354, 'eval_samples_per_second': 664.568, 'eval_steps_per_second': 166.749, 'epoch': 0.05}\n"
          ]
        },
        {
          "name": "stderr",
          "output_type": "stream",
          "text": [
            "  7%|▋         | 30/410 [00:06<01:08,  5.51it/s]"
          ]
        },
        {
          "name": "stdout",
          "output_type": "stream",
          "text": [
            "{'loss': 1.1053, 'grad_norm': 10.294601440429688, 'learning_rate': 9.26829268292683e-05, 'epoch': 0.07}\n"
          ]
        },
        {
          "name": "stderr",
          "output_type": "stream",
          "text": [
            "                                                \n",
            "  7%|▋         | 30/410 [00:07<01:08,  5.51it/s]  "
          ]
        },
        {
          "name": "stdout",
          "output_type": "stream",
          "text": [
            "{'eval_loss': 1.0071831941604614, 'eval_accuracy': 0.47381243109703064, 'eval_runtime': 1.2717, 'eval_samples_per_second': 645.58, 'eval_steps_per_second': 161.985, 'epoch': 0.07}\n"
          ]
        },
        {
          "name": "stderr",
          "output_type": "stream",
          "text": [
            " 10%|▉         | 40/410 [00:08<01:01,  6.03it/s]"
          ]
        },
        {
          "name": "stdout",
          "output_type": "stream",
          "text": [
            "{'loss': 1.0794, 'grad_norm': 2.9233145713806152, 'learning_rate': 9.02439024390244e-05, 'epoch': 0.1}\n"
          ]
        },
        {
          "name": "stderr",
          "output_type": "stream",
          "text": [
            "                                                \n",
            " 10%|▉         | 40/410 [00:10<01:01,  6.03it/s]  "
          ]
        },
        {
          "name": "stdout",
          "output_type": "stream",
          "text": [
            "{'eval_loss': 1.0682835578918457, 'eval_accuracy': 0.4652862250804901, 'eval_runtime': 1.1942, 'eval_samples_per_second': 687.48, 'eval_steps_per_second': 172.498, 'epoch': 0.1}\n"
          ]
        },
        {
          "name": "stderr",
          "output_type": "stream",
          "text": [
            " 12%|█▏        | 50/410 [00:11<00:51,  6.94it/s]"
          ]
        },
        {
          "name": "stdout",
          "output_type": "stream",
          "text": [
            "{'loss': 1.1559, 'grad_norm': 7.282463550567627, 'learning_rate': 8.78048780487805e-05, 'epoch': 0.12}\n"
          ]
        },
        {
          "name": "stderr",
          "output_type": "stream",
          "text": [
            "                                                \n",
            " 12%|█▏        | 50/410 [00:12<00:51,  6.94it/s]  "
          ]
        },
        {
          "name": "stdout",
          "output_type": "stream",
          "text": [
            "{'eval_loss': 1.048591136932373, 'eval_accuracy': 0.47015833854675293, 'eval_runtime': 1.2186, 'eval_samples_per_second': 673.729, 'eval_steps_per_second': 169.048, 'epoch': 0.12}\n"
          ]
        },
        {
          "name": "stderr",
          "output_type": "stream",
          "text": [
            " 15%|█▍        | 60/410 [00:13<00:50,  6.86it/s]"
          ]
        },
        {
          "name": "stdout",
          "output_type": "stream",
          "text": [
            "{'loss': 1.1213, 'grad_norm': 18.375062942504883, 'learning_rate': 8.53658536585366e-05, 'epoch': 0.15}\n"
          ]
        },
        {
          "name": "stderr",
          "output_type": "stream",
          "text": [
            "                                                \n",
            " 15%|█▍        | 60/410 [00:14<00:50,  6.86it/s]  "
          ]
        },
        {
          "name": "stdout",
          "output_type": "stream",
          "text": [
            "{'eval_loss': 1.0111593008041382, 'eval_accuracy': 0.47381243109703064, 'eval_runtime': 1.2256, 'eval_samples_per_second': 669.903, 'eval_steps_per_second': 168.088, 'epoch': 0.15}\n"
          ]
        },
        {
          "name": "stderr",
          "output_type": "stream",
          "text": [
            " 17%|█▋        | 70/410 [00:15<00:48,  6.99it/s]"
          ]
        },
        {
          "name": "stdout",
          "output_type": "stream",
          "text": [
            "{'loss': 0.9405, 'grad_norm': 5.121417999267578, 'learning_rate': 8.292682926829268e-05, 'epoch': 0.17}\n"
          ]
        },
        {
          "name": "stderr",
          "output_type": "stream",
          "text": [
            "                                                \n",
            " 17%|█▋        | 70/410 [00:16<00:48,  6.99it/s]  "
          ]
        },
        {
          "name": "stdout",
          "output_type": "stream",
          "text": [
            "{'eval_loss': 1.0978834629058838, 'eval_accuracy': 0.4908648133277893, 'eval_runtime': 1.2347, 'eval_samples_per_second': 664.928, 'eval_steps_per_second': 166.84, 'epoch': 0.17}\n"
          ]
        },
        {
          "name": "stderr",
          "output_type": "stream",
          "text": [
            " 20%|█▉        | 80/410 [00:17<00:46,  7.15it/s]"
          ]
        },
        {
          "name": "stdout",
          "output_type": "stream",
          "text": [
            "{'loss': 1.3695, 'grad_norm': 10.376787185668945, 'learning_rate': 8.073170731707318e-05, 'epoch': 0.19}\n"
          ]
        },
        {
          "name": "stderr",
          "output_type": "stream",
          "text": [
            "                                                \n",
            " 20%|█▉        | 80/410 [00:19<00:46,  7.15it/s]  "
          ]
        },
        {
          "name": "stdout",
          "output_type": "stream",
          "text": [
            "{'eval_loss': 1.180609107017517, 'eval_accuracy': 0.47868454456329346, 'eval_runtime': 1.2721, 'eval_samples_per_second': 645.372, 'eval_steps_per_second': 161.933, 'epoch': 0.19}\n"
          ]
        },
        {
          "name": "stderr",
          "output_type": "stream",
          "text": [
            " 22%|██▏       | 90/410 [00:20<00:45,  7.01it/s]"
          ]
        },
        {
          "name": "stdout",
          "output_type": "stream",
          "text": [
            "{'loss': 1.4868, 'grad_norm': 4.4701924324035645, 'learning_rate': 7.853658536585367e-05, 'epoch': 0.22}\n"
          ]
        },
        {
          "name": "stderr",
          "output_type": "stream",
          "text": [
            "                                                \n",
            " 22%|██▏       | 90/410 [00:21<00:45,  7.01it/s]  "
          ]
        },
        {
          "name": "stdout",
          "output_type": "stream",
          "text": [
            "{'eval_loss': 1.1565855741500854, 'eval_accuracy': 0.4823386073112488, 'eval_runtime': 1.1762, 'eval_samples_per_second': 698.034, 'eval_steps_per_second': 175.146, 'epoch': 0.22}\n"
          ]
        },
        {
          "name": "stderr",
          "output_type": "stream",
          "text": [
            " 24%|██▍       | 100/410 [00:22<00:41,  7.53it/s]"
          ]
        },
        {
          "name": "stdout",
          "output_type": "stream",
          "text": [
            "{'loss': 1.0092, 'grad_norm': 5.3505473136901855, 'learning_rate': 7.609756097560976e-05, 'epoch': 0.24}\n"
          ]
        },
        {
          "name": "stderr",
          "output_type": "stream",
          "text": [
            "                                                 \n",
            " 24%|██▍       | 100/410 [00:23<00:41,  7.53it/s] "
          ]
        },
        {
          "name": "stdout",
          "output_type": "stream",
          "text": [
            "{'eval_loss': 1.019242763519287, 'eval_accuracy': 0.47259441018104553, 'eval_runtime': 1.2182, 'eval_samples_per_second': 673.958, 'eval_steps_per_second': 169.105, 'epoch': 0.24}\n"
          ]
        },
        {
          "name": "stderr",
          "output_type": "stream",
          "text": [
            " 27%|██▋       | 110/410 [00:24<00:44,  6.72it/s]"
          ]
        },
        {
          "name": "stdout",
          "output_type": "stream",
          "text": [
            "{'loss': 0.8289, 'grad_norm': 2.3280856609344482, 'learning_rate': 7.365853658536585e-05, 'epoch': 0.27}\n"
          ]
        },
        {
          "name": "stderr",
          "output_type": "stream",
          "text": [
            "                                                 \n",
            " 27%|██▋       | 110/410 [00:25<00:44,  6.72it/s] "
          ]
        },
        {
          "name": "stdout",
          "output_type": "stream",
          "text": [
            "{'eval_loss': 1.1530696153640747, 'eval_accuracy': 0.47381243109703064, 'eval_runtime': 1.1916, 'eval_samples_per_second': 689.0, 'eval_steps_per_second': 172.88, 'epoch': 0.27}\n"
          ]
        },
        {
          "name": "stderr",
          "output_type": "stream",
          "text": [
            " 29%|██▉       | 120/410 [00:26<00:38,  7.44it/s]"
          ]
        },
        {
          "name": "stdout",
          "output_type": "stream",
          "text": [
            "{'loss': 1.1783, 'grad_norm': 6.410701274871826, 'learning_rate': 7.121951219512195e-05, 'epoch': 0.29}\n"
          ]
        },
        {
          "name": "stderr",
          "output_type": "stream",
          "text": [
            "                                                 \n",
            " 29%|██▉       | 120/410 [00:28<00:38,  7.44it/s] "
          ]
        },
        {
          "name": "stdout",
          "output_type": "stream",
          "text": [
            "{'eval_loss': 1.1240954399108887, 'eval_accuracy': 0.47137635946273804, 'eval_runtime': 1.2515, 'eval_samples_per_second': 656.037, 'eval_steps_per_second': 164.608, 'epoch': 0.29}\n"
          ]
        },
        {
          "name": "stderr",
          "output_type": "stream",
          "text": [
            " 32%|███▏      | 130/410 [00:29<00:41,  6.77it/s]"
          ]
        },
        {
          "name": "stdout",
          "output_type": "stream",
          "text": [
            "{'loss': 1.0242, 'grad_norm': 3.56785249710083, 'learning_rate': 6.878048780487805e-05, 'epoch': 0.32}\n"
          ]
        },
        {
          "name": "stderr",
          "output_type": "stream",
          "text": [
            "                                                 \n",
            " 32%|███▏      | 130/410 [00:30<00:41,  6.77it/s] "
          ]
        },
        {
          "name": "stdout",
          "output_type": "stream",
          "text": [
            "{'eval_loss': 1.014062523841858, 'eval_accuracy': 0.47259441018104553, 'eval_runtime': 1.2798, 'eval_samples_per_second': 641.514, 'eval_steps_per_second': 160.964, 'epoch': 0.32}\n"
          ]
        },
        {
          "name": "stderr",
          "output_type": "stream",
          "text": [
            " 34%|███▍      | 140/410 [00:31<00:38,  6.96it/s]"
          ]
        },
        {
          "name": "stdout",
          "output_type": "stream",
          "text": [
            "{'loss': 1.0119, 'grad_norm': 4.759372234344482, 'learning_rate': 6.634146341463415e-05, 'epoch': 0.34}\n"
          ]
        },
        {
          "name": "stderr",
          "output_type": "stream",
          "text": [
            "                                                 \n",
            " 34%|███▍      | 140/410 [00:32<00:38,  6.96it/s] "
          ]
        },
        {
          "name": "stdout",
          "output_type": "stream",
          "text": [
            "{'eval_loss': 1.0231857299804688, 'eval_accuracy': 0.47381243109703064, 'eval_runtime': 1.2138, 'eval_samples_per_second': 676.393, 'eval_steps_per_second': 169.716, 'epoch': 0.34}\n"
          ]
        },
        {
          "name": "stderr",
          "output_type": "stream",
          "text": [
            " 37%|███▋      | 150/410 [00:33<00:34,  7.54it/s]"
          ]
        },
        {
          "name": "stdout",
          "output_type": "stream",
          "text": [
            "{'loss': 0.9755, 'grad_norm': 3.1859962940216064, 'learning_rate': 6.390243902439025e-05, 'epoch': 0.37}\n"
          ]
        },
        {
          "name": "stderr",
          "output_type": "stream",
          "text": [
            "                                                 \n",
            " 37%|███▋      | 150/410 [00:35<00:34,  7.54it/s] "
          ]
        },
        {
          "name": "stdout",
          "output_type": "stream",
          "text": [
            "{'eval_loss': 1.017181158065796, 'eval_accuracy': 0.47381243109703064, 'eval_runtime': 1.2531, 'eval_samples_per_second': 655.175, 'eval_steps_per_second': 164.392, 'epoch': 0.37}\n"
          ]
        },
        {
          "name": "stderr",
          "output_type": "stream",
          "text": [
            " 39%|███▉      | 160/410 [00:36<00:31,  7.82it/s]"
          ]
        },
        {
          "name": "stdout",
          "output_type": "stream",
          "text": [
            "{'loss': 0.999, 'grad_norm': 4.143805503845215, 'learning_rate': 6.146341463414634e-05, 'epoch': 0.39}\n"
          ]
        },
        {
          "name": "stderr",
          "output_type": "stream",
          "text": [
            "                                                 \n",
            " 39%|███▉      | 160/410 [00:37<00:31,  7.82it/s] "
          ]
        },
        {
          "name": "stdout",
          "output_type": "stream",
          "text": [
            "{'eval_loss': 1.0147358179092407, 'eval_accuracy': 0.47259441018104553, 'eval_runtime': 1.3288, 'eval_samples_per_second': 617.834, 'eval_steps_per_second': 155.023, 'epoch': 0.39}\n"
          ]
        },
        {
          "name": "stderr",
          "output_type": "stream",
          "text": [
            " 41%|████▏     | 170/410 [00:38<00:35,  6.78it/s]"
          ]
        },
        {
          "name": "stdout",
          "output_type": "stream",
          "text": [
            "{'loss': 0.9565, 'grad_norm': 9.80313491821289, 'learning_rate': 5.902439024390244e-05, 'epoch': 0.41}\n"
          ]
        },
        {
          "name": "stderr",
          "output_type": "stream",
          "text": [
            "                                                 \n",
            " 41%|████▏     | 170/410 [00:39<00:35,  6.78it/s] "
          ]
        },
        {
          "name": "stdout",
          "output_type": "stream",
          "text": [
            "{'eval_loss': 1.0360673666000366, 'eval_accuracy': 0.47259441018104553, 'eval_runtime': 1.2188, 'eval_samples_per_second': 673.596, 'eval_steps_per_second': 169.014, 'epoch': 0.41}\n"
          ]
        },
        {
          "name": "stderr",
          "output_type": "stream",
          "text": [
            " 44%|████▍     | 180/410 [00:40<00:33,  6.95it/s]"
          ]
        },
        {
          "name": "stdout",
          "output_type": "stream",
          "text": [
            "{'loss': 1.1007, 'grad_norm': 7.774517059326172, 'learning_rate': 5.6585365853658533e-05, 'epoch': 0.44}\n"
          ]
        },
        {
          "name": "stderr",
          "output_type": "stream",
          "text": [
            "                                                 \n",
            " 44%|████▍     | 180/410 [00:42<00:33,  6.95it/s] "
          ]
        },
        {
          "name": "stdout",
          "output_type": "stream",
          "text": [
            "{'eval_loss': 0.9991481900215149, 'eval_accuracy': 0.47381243109703064, 'eval_runtime': 1.27, 'eval_samples_per_second': 646.458, 'eval_steps_per_second': 162.205, 'epoch': 0.44}\n"
          ]
        },
        {
          "name": "stderr",
          "output_type": "stream",
          "text": [
            " 46%|████▋     | 190/410 [00:43<00:32,  6.74it/s]"
          ]
        },
        {
          "name": "stdout",
          "output_type": "stream",
          "text": [
            "{'loss': 1.0925, 'grad_norm': 5.032519817352295, 'learning_rate': 5.414634146341464e-05, 'epoch': 0.46}\n"
          ]
        },
        {
          "name": "stderr",
          "output_type": "stream",
          "text": [
            "                                                 \n",
            " 46%|████▋     | 190/410 [00:44<00:32,  6.74it/s] "
          ]
        },
        {
          "name": "stdout",
          "output_type": "stream",
          "text": [
            "{'eval_loss': 1.0065792798995972, 'eval_accuracy': 0.47381243109703064, 'eval_runtime': 1.2542, 'eval_samples_per_second': 654.612, 'eval_steps_per_second': 164.251, 'epoch': 0.46}\n"
          ]
        },
        {
          "name": "stderr",
          "output_type": "stream",
          "text": [
            " 49%|████▉     | 200/410 [00:45<00:31,  6.73it/s]"
          ]
        },
        {
          "name": "stdout",
          "output_type": "stream",
          "text": [
            "{'loss': 0.9326, 'grad_norm': 6.278726577758789, 'learning_rate': 5.1707317073170736e-05, 'epoch': 0.49}\n"
          ]
        },
        {
          "name": "stderr",
          "output_type": "stream",
          "text": [
            "                                                 \n",
            " 49%|████▉     | 200/410 [00:46<00:31,  6.73it/s] "
          ]
        },
        {
          "name": "stdout",
          "output_type": "stream",
          "text": [
            "{'eval_loss': 1.0147473812103271, 'eval_accuracy': 0.47259441018104553, 'eval_runtime': 1.2275, 'eval_samples_per_second': 668.851, 'eval_steps_per_second': 167.824, 'epoch': 0.49}\n"
          ]
        },
        {
          "name": "stderr",
          "output_type": "stream",
          "text": [
            " 51%|█████     | 210/410 [00:47<00:31,  6.31it/s]"
          ]
        },
        {
          "name": "stdout",
          "output_type": "stream",
          "text": [
            "{'loss': 1.1036, 'grad_norm': 7.69120979309082, 'learning_rate': 4.926829268292683e-05, 'epoch': 0.51}\n"
          ]
        },
        {
          "name": "stderr",
          "output_type": "stream",
          "text": [
            "                                                 \n",
            " 51%|█████     | 210/410 [00:49<00:31,  6.31it/s] "
          ]
        },
        {
          "name": "stdout",
          "output_type": "stream",
          "text": [
            "{'eval_loss': 1.0611748695373535, 'eval_accuracy': 0.47259441018104553, 'eval_runtime': 1.2883, 'eval_samples_per_second': 637.251, 'eval_steps_per_second': 159.895, 'epoch': 0.51}\n"
          ]
        },
        {
          "name": "stderr",
          "output_type": "stream",
          "text": [
            " 54%|█████▎    | 220/410 [00:50<00:29,  6.54it/s]"
          ]
        },
        {
          "name": "stdout",
          "output_type": "stream",
          "text": [
            "{'loss': 1.1026, 'grad_norm': 4.128659725189209, 'learning_rate': 4.682926829268293e-05, 'epoch': 0.54}\n"
          ]
        },
        {
          "name": "stderr",
          "output_type": "stream",
          "text": [
            "                                                 \n",
            " 54%|█████▎    | 220/410 [00:51<00:29,  6.54it/s] "
          ]
        },
        {
          "name": "stdout",
          "output_type": "stream",
          "text": [
            "{'eval_loss': 1.0064667463302612, 'eval_accuracy': 0.47259441018104553, 'eval_runtime': 1.2769, 'eval_samples_per_second': 642.978, 'eval_steps_per_second': 161.332, 'epoch': 0.54}\n"
          ]
        },
        {
          "name": "stderr",
          "output_type": "stream",
          "text": [
            " 56%|█████▌    | 230/410 [00:52<00:24,  7.37it/s]"
          ]
        },
        {
          "name": "stdout",
          "output_type": "stream",
          "text": [
            "{'loss': 1.1025, 'grad_norm': 5.319516181945801, 'learning_rate': 4.4390243902439024e-05, 'epoch': 0.56}\n"
          ]
        },
        {
          "name": "stderr",
          "output_type": "stream",
          "text": [
            "                                                 \n",
            " 56%|█████▌    | 230/410 [00:53<00:24,  7.37it/s] "
          ]
        },
        {
          "name": "stdout",
          "output_type": "stream",
          "text": [
            "{'eval_loss': 1.0025233030319214, 'eval_accuracy': 0.47381243109703064, 'eval_runtime': 1.3103, 'eval_samples_per_second': 626.566, 'eval_steps_per_second': 157.214, 'epoch': 0.56}\n"
          ]
        },
        {
          "name": "stderr",
          "output_type": "stream",
          "text": [
            " 59%|█████▊    | 240/410 [00:55<00:23,  7.29it/s]"
          ]
        },
        {
          "name": "stdout",
          "output_type": "stream",
          "text": [
            "{'loss': 1.058, 'grad_norm': 2.92557430267334, 'learning_rate': 4.195121951219512e-05, 'epoch': 0.58}\n"
          ]
        },
        {
          "name": "stderr",
          "output_type": "stream",
          "text": [
            "                                                 \n",
            " 59%|█████▊    | 240/410 [00:56<00:23,  7.29it/s] "
          ]
        },
        {
          "name": "stdout",
          "output_type": "stream",
          "text": [
            "{'eval_loss': 0.9859239459037781, 'eval_accuracy': 0.4835566282272339, 'eval_runtime': 1.3476, 'eval_samples_per_second': 609.249, 'eval_steps_per_second': 152.869, 'epoch': 0.58}\n"
          ]
        },
        {
          "name": "stderr",
          "output_type": "stream",
          "text": [
            " 61%|██████    | 250/410 [00:57<00:21,  7.30it/s]"
          ]
        },
        {
          "name": "stdout",
          "output_type": "stream",
          "text": [
            "{'loss': 1.1351, 'grad_norm': 8.762629508972168, 'learning_rate': 3.951219512195122e-05, 'epoch': 0.61}\n"
          ]
        },
        {
          "name": "stderr",
          "output_type": "stream",
          "text": [
            "                                                 \n",
            " 61%|██████    | 250/410 [00:58<00:21,  7.30it/s] "
          ]
        },
        {
          "name": "stdout",
          "output_type": "stream",
          "text": [
            "{'eval_loss': 0.9825782179832458, 'eval_accuracy': 0.4872107207775116, 'eval_runtime': 1.4443, 'eval_samples_per_second': 568.439, 'eval_steps_per_second': 142.629, 'epoch': 0.61}\n"
          ]
        },
        {
          "name": "stderr",
          "output_type": "stream",
          "text": [
            " 63%|██████▎   | 260/410 [00:59<00:20,  7.29it/s]"
          ]
        },
        {
          "name": "stdout",
          "output_type": "stream",
          "text": [
            "{'loss': 1.0278, 'grad_norm': 5.99693489074707, 'learning_rate': 3.707317073170732e-05, 'epoch': 0.63}\n"
          ]
        },
        {
          "name": "stderr",
          "output_type": "stream",
          "text": [
            "                                                 \n",
            " 63%|██████▎   | 260/410 [01:01<00:20,  7.29it/s] "
          ]
        },
        {
          "name": "stdout",
          "output_type": "stream",
          "text": [
            "{'eval_loss': 1.0397249460220337, 'eval_accuracy': 0.4872107207775116, 'eval_runtime': 1.2616, 'eval_samples_per_second': 650.739, 'eval_steps_per_second': 163.279, 'epoch': 0.63}\n"
          ]
        },
        {
          "name": "stderr",
          "output_type": "stream",
          "text": [
            " 66%|██████▌   | 270/410 [01:02<00:19,  7.11it/s]"
          ]
        },
        {
          "name": "stdout",
          "output_type": "stream",
          "text": [
            "{'loss': 1.1505, 'grad_norm': 3.9375317096710205, 'learning_rate': 3.4634146341463416e-05, 'epoch': 0.66}\n"
          ]
        },
        {
          "name": "stderr",
          "output_type": "stream",
          "text": [
            "                                                 \n",
            " 66%|██████▌   | 270/410 [01:03<00:19,  7.11it/s] "
          ]
        },
        {
          "name": "stdout",
          "output_type": "stream",
          "text": [
            "{'eval_loss': 0.9953012466430664, 'eval_accuracy': 0.4847746789455414, 'eval_runtime': 1.3188, 'eval_samples_per_second': 622.52, 'eval_steps_per_second': 156.199, 'epoch': 0.66}\n"
          ]
        },
        {
          "name": "stderr",
          "output_type": "stream",
          "text": [
            " 68%|██████▊   | 280/410 [01:04<00:21,  6.00it/s]"
          ]
        },
        {
          "name": "stdout",
          "output_type": "stream",
          "text": [
            "{'loss': 0.9947, 'grad_norm': 3.86800217628479, 'learning_rate': 3.2195121951219514e-05, 'epoch': 0.68}\n"
          ]
        },
        {
          "name": "stderr",
          "output_type": "stream",
          "text": [
            "                                                 \n",
            " 68%|██████▊   | 280/410 [01:05<00:21,  6.00it/s] "
          ]
        },
        {
          "name": "stdout",
          "output_type": "stream",
          "text": [
            "{'eval_loss': 0.9717870354652405, 'eval_accuracy': 0.48112058639526367, 'eval_runtime': 1.2413, 'eval_samples_per_second': 661.382, 'eval_steps_per_second': 165.95, 'epoch': 0.68}\n"
          ]
        },
        {
          "name": "stderr",
          "output_type": "stream",
          "text": [
            " 71%|███████   | 290/410 [01:06<00:15,  7.68it/s]"
          ]
        },
        {
          "name": "stdout",
          "output_type": "stream",
          "text": [
            "{'loss': 0.86, 'grad_norm': 2.8648548126220703, 'learning_rate': 2.975609756097561e-05, 'epoch': 0.71}\n"
          ]
        },
        {
          "name": "stderr",
          "output_type": "stream",
          "text": [
            "                                                 \n",
            " 71%|███████   | 290/410 [01:08<00:15,  7.68it/s] "
          ]
        },
        {
          "name": "stdout",
          "output_type": "stream",
          "text": [
            "{'eval_loss': 1.0334666967391968, 'eval_accuracy': 0.48112058639526367, 'eval_runtime': 1.2491, 'eval_samples_per_second': 657.272, 'eval_steps_per_second': 164.918, 'epoch': 0.71}\n"
          ]
        },
        {
          "name": "stderr",
          "output_type": "stream",
          "text": [
            " 73%|███████▎  | 300/410 [01:09<00:14,  7.59it/s]"
          ]
        },
        {
          "name": "stdout",
          "output_type": "stream",
          "text": [
            "{'loss': 1.1464, 'grad_norm': 5.990636348724365, 'learning_rate': 2.731707317073171e-05, 'epoch': 0.73}\n"
          ]
        },
        {
          "name": "stderr",
          "output_type": "stream",
          "text": [
            "                                                 \n",
            " 73%|███████▎  | 300/410 [01:10<00:14,  7.59it/s] "
          ]
        },
        {
          "name": "stdout",
          "output_type": "stream",
          "text": [
            "{'eval_loss': 1.0052778720855713, 'eval_accuracy': 0.47990256547927856, 'eval_runtime': 1.4365, 'eval_samples_per_second': 571.511, 'eval_steps_per_second': 143.4, 'epoch': 0.73}\n"
          ]
        },
        {
          "name": "stderr",
          "output_type": "stream",
          "text": [
            " 76%|███████▌  | 310/410 [01:11<00:13,  7.24it/s]"
          ]
        },
        {
          "name": "stdout",
          "output_type": "stream",
          "text": [
            "{'loss': 1.1137, 'grad_norm': 7.039565563201904, 'learning_rate': 2.4878048780487805e-05, 'epoch': 0.76}\n"
          ]
        },
        {
          "name": "stderr",
          "output_type": "stream",
          "text": [
            "                                                 \n",
            " 76%|███████▌  | 310/410 [01:13<00:13,  7.24it/s] "
          ]
        },
        {
          "name": "stdout",
          "output_type": "stream",
          "text": [
            "{'eval_loss': 0.9726890325546265, 'eval_accuracy': 0.48112058639526367, 'eval_runtime': 1.304, 'eval_samples_per_second': 629.625, 'eval_steps_per_second': 157.981, 'epoch': 0.76}\n"
          ]
        },
        {
          "name": "stderr",
          "output_type": "stream",
          "text": [
            " 78%|███████▊  | 320/410 [01:14<00:13,  6.50it/s]"
          ]
        },
        {
          "name": "stdout",
          "output_type": "stream",
          "text": [
            "{'loss': 0.9822, 'grad_norm': 6.407066345214844, 'learning_rate': 2.2439024390243904e-05, 'epoch': 0.78}\n"
          ]
        },
        {
          "name": "stderr",
          "output_type": "stream",
          "text": [
            "                                                 \n",
            " 78%|███████▊  | 320/410 [01:15<00:13,  6.50it/s] "
          ]
        },
        {
          "name": "stdout",
          "output_type": "stream",
          "text": [
            "{'eval_loss': 0.9701511859893799, 'eval_accuracy': 0.48112058639526367, 'eval_runtime': 1.3287, 'eval_samples_per_second': 617.896, 'eval_steps_per_second': 155.038, 'epoch': 0.78}\n"
          ]
        },
        {
          "name": "stderr",
          "output_type": "stream",
          "text": [
            " 80%|████████  | 330/410 [01:16<00:11,  7.17it/s]"
          ]
        },
        {
          "name": "stdout",
          "output_type": "stream",
          "text": [
            "{'loss': 1.047, 'grad_norm': 6.650015830993652, 'learning_rate': 2e-05, 'epoch': 0.8}\n"
          ]
        },
        {
          "name": "stderr",
          "output_type": "stream",
          "text": [
            "                                                 \n",
            " 80%|████████  | 330/410 [01:18<00:11,  7.17it/s] "
          ]
        },
        {
          "name": "stdout",
          "output_type": "stream",
          "text": [
            "{'eval_loss': 0.9714782238006592, 'eval_accuracy': 0.48112058639526367, 'eval_runtime': 1.4252, 'eval_samples_per_second': 576.078, 'eval_steps_per_second': 144.546, 'epoch': 0.8}\n"
          ]
        },
        {
          "name": "stderr",
          "output_type": "stream",
          "text": [
            " 83%|████████▎ | 340/410 [01:19<00:10,  6.76it/s]"
          ]
        },
        {
          "name": "stdout",
          "output_type": "stream",
          "text": [
            "{'loss': 1.0672, 'grad_norm': 3.011765718460083, 'learning_rate': 1.7560975609756096e-05, 'epoch': 0.83}\n"
          ]
        },
        {
          "name": "stderr",
          "output_type": "stream",
          "text": [
            "                                                 \n",
            " 83%|████████▎ | 340/410 [01:20<00:10,  6.76it/s] "
          ]
        },
        {
          "name": "stdout",
          "output_type": "stream",
          "text": [
            "{'eval_loss': 0.9702971577644348, 'eval_accuracy': 0.48112058639526367, 'eval_runtime': 1.3916, 'eval_samples_per_second': 589.954, 'eval_steps_per_second': 148.027, 'epoch': 0.83}\n"
          ]
        },
        {
          "name": "stderr",
          "output_type": "stream",
          "text": [
            " 85%|████████▌ | 350/410 [01:21<00:07,  7.59it/s]"
          ]
        },
        {
          "name": "stdout",
          "output_type": "stream",
          "text": [
            "{'loss': 0.9919, 'grad_norm': 3.513758420944214, 'learning_rate': 1.5121951219512196e-05, 'epoch': 0.85}\n"
          ]
        },
        {
          "name": "stderr",
          "output_type": "stream",
          "text": [
            "                                                 \n",
            " 85%|████████▌ | 350/410 [01:23<00:07,  7.59it/s] "
          ]
        },
        {
          "name": "stdout",
          "output_type": "stream",
          "text": [
            "{'eval_loss': 0.9764745235443115, 'eval_accuracy': 0.48112058639526367, 'eval_runtime': 1.7068, 'eval_samples_per_second': 481.018, 'eval_steps_per_second': 120.694, 'epoch': 0.85}\n"
          ]
        },
        {
          "name": "stderr",
          "output_type": "stream",
          "text": [
            " 88%|████████▊ | 360/410 [01:24<00:08,  6.09it/s]"
          ]
        },
        {
          "name": "stdout",
          "output_type": "stream",
          "text": [
            "{'loss': 0.9431, 'grad_norm': 11.876274108886719, 'learning_rate': 1.2682926829268294e-05, 'epoch': 0.88}\n"
          ]
        },
        {
          "name": "stderr",
          "output_type": "stream",
          "text": [
            "                                                 \n",
            " 88%|████████▊ | 360/410 [01:26<00:08,  6.09it/s] "
          ]
        },
        {
          "name": "stdout",
          "output_type": "stream",
          "text": [
            "{'eval_loss': 0.9711700081825256, 'eval_accuracy': 0.48112058639526367, 'eval_runtime': 1.3813, 'eval_samples_per_second': 594.363, 'eval_steps_per_second': 149.134, 'epoch': 0.88}\n"
          ]
        },
        {
          "name": "stderr",
          "output_type": "stream",
          "text": [
            " 90%|█████████ | 370/410 [01:27<00:06,  6.11it/s]"
          ]
        },
        {
          "name": "stdout",
          "output_type": "stream",
          "text": [
            "{'loss': 0.9602, 'grad_norm': 5.580501079559326, 'learning_rate': 1.024390243902439e-05, 'epoch': 0.9}\n"
          ]
        },
        {
          "name": "stderr",
          "output_type": "stream",
          "text": [
            "                                                 \n",
            " 90%|█████████ | 370/410 [01:28<00:06,  6.11it/s] "
          ]
        },
        {
          "name": "stdout",
          "output_type": "stream",
          "text": [
            "{'eval_loss': 0.9689047932624817, 'eval_accuracy': 0.48112058639526367, 'eval_runtime': 1.3125, 'eval_samples_per_second': 625.537, 'eval_steps_per_second': 156.956, 'epoch': 0.9}\n"
          ]
        },
        {
          "name": "stderr",
          "output_type": "stream",
          "text": [
            " 93%|█████████▎| 380/410 [01:29<00:04,  6.73it/s]"
          ]
        },
        {
          "name": "stdout",
          "output_type": "stream",
          "text": [
            "{'loss': 0.9685, 'grad_norm': 7.638960361480713, 'learning_rate': 7.804878048780489e-06, 'epoch': 0.93}\n"
          ]
        },
        {
          "name": "stderr",
          "output_type": "stream",
          "text": [
            "                                                 \n",
            " 93%|█████████▎| 380/410 [01:30<00:04,  6.73it/s] "
          ]
        },
        {
          "name": "stdout",
          "output_type": "stream",
          "text": [
            "{'eval_loss': 0.9678650498390198, 'eval_accuracy': 0.48112058639526367, 'eval_runtime': 1.2593, 'eval_samples_per_second': 651.94, 'eval_steps_per_second': 163.58, 'epoch': 0.93}\n"
          ]
        },
        {
          "name": "stderr",
          "output_type": "stream",
          "text": [
            " 95%|█████████▌| 390/410 [01:32<00:02,  7.00it/s]"
          ]
        },
        {
          "name": "stdout",
          "output_type": "stream",
          "text": [
            "{'loss': 0.9696, 'grad_norm': 9.11452865600586, 'learning_rate': 5.365853658536585e-06, 'epoch': 0.95}\n"
          ]
        },
        {
          "name": "stderr",
          "output_type": "stream",
          "text": [
            "                                                 \n",
            " 95%|█████████▌| 390/410 [01:33<00:02,  7.00it/s] "
          ]
        },
        {
          "name": "stdout",
          "output_type": "stream",
          "text": [
            "{'eval_loss': 0.9682180285453796, 'eval_accuracy': 0.48112058639526367, 'eval_runtime': 1.5129, 'eval_samples_per_second': 542.671, 'eval_steps_per_second': 136.164, 'epoch': 0.95}\n"
          ]
        },
        {
          "name": "stderr",
          "output_type": "stream",
          "text": [
            " 98%|█████████▊| 400/410 [01:34<00:01,  6.81it/s]"
          ]
        },
        {
          "name": "stdout",
          "output_type": "stream",
          "text": [
            "{'loss': 0.9777, 'grad_norm': 2.898589611053467, 'learning_rate': 2.9268292682926833e-06, 'epoch': 0.97}\n"
          ]
        },
        {
          "name": "stderr",
          "output_type": "stream",
          "text": [
            "                                                 \n",
            " 98%|█████████▊| 400/410 [01:36<00:01,  6.81it/s] "
          ]
        },
        {
          "name": "stdout",
          "output_type": "stream",
          "text": [
            "{'eval_loss': 0.9683374762535095, 'eval_accuracy': 0.48112058639526367, 'eval_runtime': 1.6236, 'eval_samples_per_second': 505.665, 'eval_steps_per_second': 126.878, 'epoch': 0.97}\n"
          ]
        },
        {
          "name": "stderr",
          "output_type": "stream",
          "text": [
            "100%|██████████| 410/410 [01:37<00:00,  6.43it/s]"
          ]
        },
        {
          "name": "stdout",
          "output_type": "stream",
          "text": [
            "{'loss': 0.8512, 'grad_norm': 7.0485663414001465, 'learning_rate': 4.878048780487805e-07, 'epoch': 1.0}\n"
          ]
        },
        {
          "name": "stderr",
          "output_type": "stream",
          "text": [
            "                                                 \n",
            "100%|██████████| 410/410 [01:39<00:00,  6.43it/s] "
          ]
        },
        {
          "name": "stdout",
          "output_type": "stream",
          "text": [
            "{'eval_loss': 0.9682682752609253, 'eval_accuracy': 0.48112058639526367, 'eval_runtime': 1.4587, 'eval_samples_per_second': 562.836, 'eval_steps_per_second': 141.223, 'epoch': 1.0}\n"
          ]
        },
        {
          "name": "stderr",
          "output_type": "stream",
          "text": [
            "100%|██████████| 410/410 [01:39<00:00,  4.11it/s]"
          ]
        },
        {
          "name": "stdout",
          "output_type": "stream",
          "text": [
            "{'train_runtime': 99.6941, 'train_samples_per_second': 32.931, 'train_steps_per_second': 4.113, 'train_loss': 1.0654193878173828, 'epoch': 1.0}\n"
          ]
        },
        {
          "name": "stderr",
          "output_type": "stream",
          "text": [
            "\n"
          ]
        },
        {
          "data": {
            "text/plain": [
              "TrainOutput(global_step=410, training_loss=1.0654193878173828, metrics={'train_runtime': 99.6941, 'train_samples_per_second': 32.931, 'train_steps_per_second': 4.113, 'total_flos': 0.0, 'train_loss': 1.0654193878173828, 'epoch': 0.9987819732034104})"
            ]
          },
          "execution_count": 11,
          "metadata": {},
          "output_type": "execute_result"
        }
      ],
      "source": [
        "from dataclasses import dataclass\n",
        "from typing import Optional, Tuple, Dict, List, Union\n",
        "import torch\n",
        "import torch.nn as nn\n",
        "import numpy as np\n",
        "from transformers import PreTrainedModel, AutoConfig, TrainingArguments, Trainer, EvalPrediction\n",
        "from transformers.file_utils import ModelOutput\n",
        "from packaging import version\n",
        "import os\n",
        "\n",
        "@dataclass\n",
        "class EnergyFeatureClassifierOutput(ModelOutput):\n",
        "    loss: Optional[torch.FloatTensor] = None\n",
        "    logits: torch.FloatTensor = None\n",
        "    hidden_states: Optional[Tuple[torch.FloatTensor]] = None\n",
        "    attentions: Optional[Tuple[torch.FloatTensor]] = None\n",
        "\n",
        "class Wav2Vec2ClassificationHead(nn.Module):\n",
        "    def __init__(self, config):\n",
        "        super().__init__()\n",
        "        self.dense = nn.Linear(config.hidden_size, config.hidden_size)\n",
        "        self.dropout = nn.Dropout(config.final_dropout)\n",
        "        self.out_proj = nn.Linear(config.hidden_size, config.num_labels)\n",
        "\n",
        "    def forward(self, features, **kwargs):\n",
        "        x = features\n",
        "        x = self.dropout(x)\n",
        "        x = self.dense(x)\n",
        "        x = torch.tanh(x)\n",
        "        x = self.dropout(x)\n",
        "        x = self.out_proj(x)\n",
        "        return x\n",
        "\n",
        "class EnergyFeatureEncoder(nn.Module):\n",
        "    def __init__(self, config):\n",
        "        super().__init__()\n",
        "        self.config = config\n",
        "        self.proj = nn.Sequential(\n",
        "            nn.Linear(1, 256),  # 输入维度为1\n",
        "            nn.ReLU(),\n",
        "            nn.Linear(256, config.hidden_size)\n",
        "        )\n",
        "        self.layer_norm = nn.LayerNorm(config.hidden_size)\n",
        "        self.dropout = nn.Dropout(config.hidden_dropout_prob)\n",
        "\n",
        "    def forward(self, energy_features):\n",
        "        hidden_states = self.proj(energy_features.unsqueeze(-1))  # 将一维输入转为 (batch_size, 1)\n",
        "        hidden_states = self.layer_norm(hidden_states)\n",
        "        hidden_states = self.dropout(hidden_states)\n",
        "        return hidden_states\n",
        "\n",
        "class SimpleWav2Vec2Model(nn.Module):\n",
        "    def __init__(self, config):\n",
        "        super().__init__()\n",
        "        self.config = config\n",
        "        encoder_layer = nn.TransformerEncoderLayer(d_model=config.hidden_size, nhead=config.num_attention_heads)\n",
        "        self.encoder = nn.TransformerEncoder(encoder_layer, num_layers=config.num_hidden_layers)\n",
        "\n",
        "    def forward(self, hidden_states, attention_mask=None):\n",
        "        if attention_mask is not None:\n",
        "            attention_mask = attention_mask.unsqueeze(1).unsqueeze(2)\n",
        "            attention_mask = (1.0 - attention_mask) * -10000.0\n",
        "        \n",
        "        encoder_outputs = self.encoder(hidden_states.transpose(0, 1), src_key_padding_mask=attention_mask)\n",
        "        return encoder_outputs.transpose(0, 1)\n",
        "\n",
        "class Wav2Vec2ForEnergyClassification(PreTrainedModel):\n",
        "    def __init__(self, config):\n",
        "        super().__init__(config)\n",
        "        self.config = config\n",
        "        self.num_labels = config.num_labels\n",
        "        self.pooling_mode = config.pooling_mode\n",
        "        self.energy_feature_encoder = EnergyFeatureEncoder(config)\n",
        "        self.wav2vec2 = SimpleWav2Vec2Model(config)\n",
        "        self.classifier = Wav2Vec2ClassificationHead(config)\n",
        "\n",
        "    def freeze_feature_extractor(self):\n",
        "        self.energy_feature_encoder.eval()\n",
        "        for param in self.energy_feature_encoder.parameters():\n",
        "            param.requires_grad = False\n",
        "\n",
        "    def merged_strategy(self, hidden_states, mode=\"mean\"):\n",
        "        if mode == \"mean\":\n",
        "            outputs = torch.mean(hidden_states, dim=1)\n",
        "        elif mode == \"sum\":\n",
        "            outputs = torch.sum(hidden_states, dim=1)\n",
        "        elif mode == \"max\":\n",
        "            outputs = torch.max(hidden_states, dim=1)[0]\n",
        "        else:\n",
        "            raise Exception(\n",
        "                \"The pooling method hasn't been defined! Your pooling mode must be one of these ['mean', 'sum', 'max']\")\n",
        "        return outputs\n",
        "\n",
        "    def forward(\n",
        "            self,\n",
        "            energy_features,\n",
        "            attention_mask=None,\n",
        "            output_attentions=None,\n",
        "            output_hidden_states=None,\n",
        "            return_dict=None,\n",
        "            labels=None,\n",
        "    ):\n",
        "        return_dict = return_dict if return_dict is not None else self.config.use_return_dict\n",
        "\n",
        "        hidden_states = self.energy_feature_encoder(energy_features)\n",
        "        hidden_states = hidden_states.unsqueeze(1)  # 添加序列维度\n",
        "        hidden_states = self.wav2vec2(hidden_states, attention_mask)\n",
        "        hidden_states = self.merged_strategy(hidden_states, mode=self.pooling_mode)\n",
        "        logits = self.classifier(hidden_states)\n",
        "\n",
        "        loss = None\n",
        "        if labels is not None:\n",
        "            if self.config.problem_type is None:\n",
        "                if self.num_labels == 1:\n",
        "                    self.config.problem_type = \"regression\"\n",
        "                elif self.num_labels > 1 and (labels.dtype == torch.long or labels.dtype == torch.int):\n",
        "                    self.config.problem_type = \"single_label_classification\"\n",
        "                else:\n",
        "                    self.config.problem_type = \"multi_label_classification\"\n",
        "\n",
        "            if self.config.problem_type == \"regression\":\n",
        "                loss_fct = nn.MSELoss()\n",
        "                loss = loss_fct(logits.view(-1, self.num_labels), labels)\n",
        "            elif self.config.problem_type == \"single_label_classification\":\n",
        "                loss_fct = nn.CrossEntropyLoss()\n",
        "                loss = loss_fct(logits.view(-1, self.num_labels), labels.view(-1))\n",
        "            elif self.config.problem_type == \"multi_label_classification\":\n",
        "                loss_fct = nn.BCEWithLogitsLoss()\n",
        "                loss = loss_fct(logits, labels)\n",
        "\n",
        "        if not return_dict:\n",
        "            output = (logits,)\n",
        "            return ((loss,) + output) if loss is not None else output\n",
        "\n",
        "        return EnergyFeatureClassifierOutput(\n",
        "            loss=loss,\n",
        "            logits=logits,\n",
        "            hidden_states=hidden_states,\n",
        "            attentions=None,\n",
        "        )\n",
        "\n",
        "@dataclass\n",
        "class DataCollatorForEnergyFeatures:\n",
        "    def __call__(self, features: List[Dict[str, Union[List[int], torch.Tensor, np.ndarray]]]) -> Dict[str, torch.Tensor]:\n",
        "        label_features = [feature[\"labels\"] for feature in features]\n",
        "        energy_features = [feature[\"energy_features\"] for feature in features]\n",
        "\n",
        "        d_type = torch.long if isinstance(label_features[0], int) else torch.float\n",
        "\n",
        "        batch = {}\n",
        "        batch[\"labels\"] = torch.tensor(label_features, dtype=d_type)\n",
        "\n",
        "        # 处理能量特征\n",
        "        padded_energy_features = []\n",
        "        for ef in energy_features:\n",
        "            if isinstance(ef, (list, np.ndarray)):\n",
        "                ef = ef[0] if len(ef) > 0 else 0.0  # 取第一个元素，如果是空列表则用0.0\n",
        "            elif isinstance(ef, (int, float)):\n",
        "                ef = float(ef)\n",
        "            else:\n",
        "                ef = 0.0  # 默认值\n",
        "            padded_energy_features.append(ef)\n",
        "\n",
        "        # 将列表转换为张量\n",
        "        batch[\"energy_features\"] = torch.tensor(padded_energy_features, dtype=torch.float)\n",
        "\n",
        "        return batch\n",
        "\n",
        "def compute_metrics(p: EvalPrediction):\n",
        "    preds = p.predictions[0] if isinstance(p.predictions, tuple) else p.predictions\n",
        "    preds = np.squeeze(preds) if is_regression else np.argmax(preds, axis=1)\n",
        "\n",
        "    if is_regression:\n",
        "        return {\"mse\": ((preds - p.label_ids) ** 2).mean().item()}\n",
        "    else:\n",
        "        return {\"accuracy\": (preds == p.label_ids).astype(np.float32).mean().item()}\n",
        "\n",
        "# 加载或创建配置\n",
        "model_name_or_path = \"c3f9d884181a224a6ac87bf8885c84d1cff3384f\"  # 使用预训练的 wav2vec2 模型配置\n",
        "config = AutoConfig.from_pretrained(model_name_or_path)\n",
        "\n",
        "# 设置能量特征维度和其他必要的配置\n",
        "config.energy_feature_dim = 1  # 一维输入\n",
        "config.num_labels = 4\n",
        "config.problem_type = \"single_label_classification\"\n",
        "config.pooling_mode = \"mean\"\n",
        "config.hidden_dropout_prob = 0.1\n",
        "config.final_dropout = 0.1\n",
        "config.hidden_size = 768  # 确保这与预训练模型的隐藏大小一致\n",
        "config.num_attention_heads = 12\n",
        "config.num_hidden_layers = 12\n",
        "\n",
        "# 创建数据整理器实例\n",
        "data_collator = DataCollatorForEnergyFeatures()\n",
        "\n",
        "is_regression = False\n",
        "\n",
        "# 创建模型实例\n",
        "model = Wav2Vec2ForEnergyClassification(config)\n",
        "\n",
        "# 设置训练参数\n",
        "training_args = TrainingArguments(\n",
        "    output_dir=\"./results_energybased\",\n",
        "    per_device_train_batch_size=4,\n",
        "    per_device_eval_batch_size=4,\n",
        "    gradient_accumulation_steps=2,\n",
        "    evaluation_strategy=\"steps\",\n",
        "    num_train_epochs=1,\n",
        "    fp16=True,\n",
        "    save_steps=10,\n",
        "    eval_steps=10,\n",
        "    logging_steps=10,\n",
        "    learning_rate=1e-4,\n",
        "    save_total_limit=2,\n",
        ")\n",
        "\n",
        "# 创建训练器\n",
        "trainer = Trainer(\n",
        "    model=model,\n",
        "    data_collator=data_collator,\n",
        "    args=training_args,\n",
        "    compute_metrics=compute_metrics,\n",
        "    train_dataset=train_dataset,  # 请确保您已经定义了 train_dataset\n",
        "    eval_dataset=eval_dataset,    # 请确保您已经定义了 eval_dataset\n",
        ")\n",
        "\n",
        "# 开始训练\n",
        "trainer.train()"
      ]
    },
    {
      "cell_type": "code",
      "execution_count": 12,
      "metadata": {},
      "outputs": [
        {
          "name": "stderr",
          "output_type": "stream",
          "text": [
            "100%|██████████| 206/206 [00:01<00:00, 143.15it/s]\n"
          ]
        },
        {
          "data": {
            "text/plain": [
              "{'eval_loss': 0.9682682752609253,\n",
              " 'eval_accuracy': 0.48112058639526367,\n",
              " 'eval_runtime': 1.4516,\n",
              " 'eval_samples_per_second': 565.574,\n",
              " 'eval_steps_per_second': 141.91,\n",
              " 'epoch': 0.9987819732034104}"
            ]
          },
          "execution_count": 12,
          "metadata": {},
          "output_type": "execute_result"
        }
      ],
      "source": [
        "trainer.evaluate(eval_dataset=eval_dataset)"
      ]
    }
  ],
  "metadata": {
    "accelerator": "GPU",
    "colab": {
      "gpuType": "T4",
      "provenance": []
    },
    "kernelspec": {
      "display_name": "Python 3",
      "name": "python3"
    },
    "language_info": {
      "codemirror_mode": {
        "name": "ipython",
        "version": 3
      },
      "file_extension": ".py",
      "mimetype": "text/x-python",
      "name": "python",
      "nbconvert_exporter": "python",
      "pygments_lexer": "ipython3",
      "version": "3.8.19"
    },
    "widgets": {
      "application/vnd.jupyter.widget-state+json": {
        "002fefb1d9054f79a8635ddd3a1faa68": {
          "model_module": "@jupyter-widgets/base",
          "model_module_version": "1.2.0",
          "model_name": "LayoutModel",
          "state": {
            "_model_module": "@jupyter-widgets/base",
            "_model_module_version": "1.2.0",
            "_model_name": "LayoutModel",
            "_view_count": null,
            "_view_module": "@jupyter-widgets/base",
            "_view_module_version": "1.2.0",
            "_view_name": "LayoutView",
            "align_content": null,
            "align_items": null,
            "align_self": null,
            "border": null,
            "bottom": null,
            "display": null,
            "flex": null,
            "flex_flow": null,
            "grid_area": null,
            "grid_auto_columns": null,
            "grid_auto_flow": null,
            "grid_auto_rows": null,
            "grid_column": null,
            "grid_gap": null,
            "grid_row": null,
            "grid_template_areas": null,
            "grid_template_columns": null,
            "grid_template_rows": null,
            "height": null,
            "justify_content": null,
            "justify_items": null,
            "left": null,
            "margin": null,
            "max_height": null,
            "max_width": null,
            "min_height": null,
            "min_width": null,
            "object_fit": null,
            "object_position": null,
            "order": null,
            "overflow": null,
            "overflow_x": null,
            "overflow_y": null,
            "padding": null,
            "right": null,
            "top": null,
            "visibility": null,
            "width": null
          }
        },
        "02466142c6c24bb3a76bfe582e2c98d7": {
          "model_module": "@jupyter-widgets/controls",
          "model_module_version": "1.5.0",
          "model_name": "HTMLModel",
          "state": {
            "_dom_classes": [],
            "_model_module": "@jupyter-widgets/controls",
            "_model_module_version": "1.5.0",
            "_model_name": "HTMLModel",
            "_view_count": null,
            "_view_module": "@jupyter-widgets/controls",
            "_view_module_version": "1.5.0",
            "_view_name": "HTMLView",
            "description": "",
            "description_tooltip": null,
            "layout": "IPY_MODEL_cdb05b93e52b42a0bd8bb3cf793273b8",
            "placeholder": "​",
            "style": "IPY_MODEL_125bf3d9cbae4b36ae8d08ad88419eac",
            "value": "Generating train split: "
          }
        },
        "03955f8da28241dfa158a9afaecbe02b": {
          "model_module": "@jupyter-widgets/base",
          "model_module_version": "1.2.0",
          "model_name": "LayoutModel",
          "state": {
            "_model_module": "@jupyter-widgets/base",
            "_model_module_version": "1.2.0",
            "_model_name": "LayoutModel",
            "_view_count": null,
            "_view_module": "@jupyter-widgets/base",
            "_view_module_version": "1.2.0",
            "_view_name": "LayoutView",
            "align_content": null,
            "align_items": null,
            "align_self": null,
            "border": null,
            "bottom": null,
            "display": null,
            "flex": null,
            "flex_flow": null,
            "grid_area": null,
            "grid_auto_columns": null,
            "grid_auto_flow": null,
            "grid_auto_rows": null,
            "grid_column": null,
            "grid_gap": null,
            "grid_row": null,
            "grid_template_areas": null,
            "grid_template_columns": null,
            "grid_template_rows": null,
            "height": null,
            "justify_content": null,
            "justify_items": null,
            "left": null,
            "margin": null,
            "max_height": null,
            "max_width": null,
            "min_height": null,
            "min_width": null,
            "object_fit": null,
            "object_position": null,
            "order": null,
            "overflow": null,
            "overflow_x": null,
            "overflow_y": null,
            "padding": null,
            "right": null,
            "top": null,
            "visibility": null,
            "width": null
          }
        },
        "0436f4ba0a344253a944b70f249361a9": {
          "model_module": "@jupyter-widgets/controls",
          "model_module_version": "1.5.0",
          "model_name": "HTMLModel",
          "state": {
            "_dom_classes": [],
            "_model_module": "@jupyter-widgets/controls",
            "_model_module_version": "1.5.0",
            "_model_name": "HTMLModel",
            "_view_count": null,
            "_view_module": "@jupyter-widgets/controls",
            "_view_module_version": "1.5.0",
            "_view_name": "HTMLView",
            "description": "",
            "description_tooltip": null,
            "layout": "IPY_MODEL_5f905354208a4e9896ecfc3f13679baf",
            "placeholder": "​",
            "style": "IPY_MODEL_c8d3126fbda14474aad4d9712a3cfe50",
            "value": " 212/212 [00:00&lt;00:00, 15.6kB/s]"
          }
        },
        "070519028e4e4e939e848791c8fba4f8": {
          "model_module": "@jupyter-widgets/base",
          "model_module_version": "1.2.0",
          "model_name": "LayoutModel",
          "state": {
            "_model_module": "@jupyter-widgets/base",
            "_model_module_version": "1.2.0",
            "_model_name": "LayoutModel",
            "_view_count": null,
            "_view_module": "@jupyter-widgets/base",
            "_view_module_version": "1.2.0",
            "_view_name": "LayoutView",
            "align_content": null,
            "align_items": null,
            "align_self": null,
            "border": null,
            "bottom": null,
            "display": null,
            "flex": null,
            "flex_flow": null,
            "grid_area": null,
            "grid_auto_columns": null,
            "grid_auto_flow": null,
            "grid_auto_rows": null,
            "grid_column": null,
            "grid_gap": null,
            "grid_row": null,
            "grid_template_areas": null,
            "grid_template_columns": null,
            "grid_template_rows": null,
            "height": null,
            "justify_content": null,
            "justify_items": null,
            "left": null,
            "margin": null,
            "max_height": null,
            "max_width": null,
            "min_height": null,
            "min_width": null,
            "object_fit": null,
            "object_position": null,
            "order": null,
            "overflow": null,
            "overflow_x": null,
            "overflow_y": null,
            "padding": null,
            "right": null,
            "top": null,
            "visibility": null,
            "width": null
          }
        },
        "08446a145df74417a74adf87504850eb": {
          "model_module": "@jupyter-widgets/base",
          "model_module_version": "1.2.0",
          "model_name": "LayoutModel",
          "state": {
            "_model_module": "@jupyter-widgets/base",
            "_model_module_version": "1.2.0",
            "_model_name": "LayoutModel",
            "_view_count": null,
            "_view_module": "@jupyter-widgets/base",
            "_view_module_version": "1.2.0",
            "_view_name": "LayoutView",
            "align_content": null,
            "align_items": null,
            "align_self": null,
            "border": null,
            "bottom": null,
            "display": null,
            "flex": null,
            "flex_flow": null,
            "grid_area": null,
            "grid_auto_columns": null,
            "grid_auto_flow": null,
            "grid_auto_rows": null,
            "grid_column": null,
            "grid_gap": null,
            "grid_row": null,
            "grid_template_areas": null,
            "grid_template_columns": null,
            "grid_template_rows": null,
            "height": null,
            "justify_content": null,
            "justify_items": null,
            "left": null,
            "margin": null,
            "max_height": null,
            "max_width": null,
            "min_height": null,
            "min_width": null,
            "object_fit": null,
            "object_position": null,
            "order": null,
            "overflow": null,
            "overflow_x": null,
            "overflow_y": null,
            "padding": null,
            "right": null,
            "top": null,
            "visibility": null,
            "width": null
          }
        },
        "0b3835ef7e0644fbbae707024d11aee8": {
          "model_module": "@jupyter-widgets/controls",
          "model_module_version": "1.5.0",
          "model_name": "DescriptionStyleModel",
          "state": {
            "_model_module": "@jupyter-widgets/controls",
            "_model_module_version": "1.5.0",
            "_model_name": "DescriptionStyleModel",
            "_view_count": null,
            "_view_module": "@jupyter-widgets/base",
            "_view_module_version": "1.2.0",
            "_view_name": "StyleView",
            "description_width": ""
          }
        },
        "125bf3d9cbae4b36ae8d08ad88419eac": {
          "model_module": "@jupyter-widgets/controls",
          "model_module_version": "1.5.0",
          "model_name": "DescriptionStyleModel",
          "state": {
            "_model_module": "@jupyter-widgets/controls",
            "_model_module_version": "1.5.0",
            "_model_name": "DescriptionStyleModel",
            "_view_count": null,
            "_view_module": "@jupyter-widgets/base",
            "_view_module_version": "1.2.0",
            "_view_name": "StyleView",
            "description_width": ""
          }
        },
        "184c7c132bc7449e8d3ac27ffa609c94": {
          "model_module": "@jupyter-widgets/base",
          "model_module_version": "1.2.0",
          "model_name": "LayoutModel",
          "state": {
            "_model_module": "@jupyter-widgets/base",
            "_model_module_version": "1.2.0",
            "_model_name": "LayoutModel",
            "_view_count": null,
            "_view_module": "@jupyter-widgets/base",
            "_view_module_version": "1.2.0",
            "_view_name": "LayoutView",
            "align_content": null,
            "align_items": null,
            "align_self": null,
            "border": null,
            "bottom": null,
            "display": null,
            "flex": null,
            "flex_flow": null,
            "grid_area": null,
            "grid_auto_columns": null,
            "grid_auto_flow": null,
            "grid_auto_rows": null,
            "grid_column": null,
            "grid_gap": null,
            "grid_row": null,
            "grid_template_areas": null,
            "grid_template_columns": null,
            "grid_template_rows": null,
            "height": null,
            "justify_content": null,
            "justify_items": null,
            "left": null,
            "margin": null,
            "max_height": null,
            "max_width": null,
            "min_height": null,
            "min_width": null,
            "object_fit": null,
            "object_position": null,
            "order": null,
            "overflow": null,
            "overflow_x": null,
            "overflow_y": null,
            "padding": null,
            "right": null,
            "top": null,
            "visibility": null,
            "width": null
          }
        },
        "186aaef493c94b89b01b3573dad29da4": {
          "model_module": "@jupyter-widgets/controls",
          "model_module_version": "1.5.0",
          "model_name": "FloatProgressModel",
          "state": {
            "_dom_classes": [],
            "_model_module": "@jupyter-widgets/controls",
            "_model_module_version": "1.5.0",
            "_model_name": "FloatProgressModel",
            "_view_count": null,
            "_view_module": "@jupyter-widgets/controls",
            "_view_module_version": "1.5.0",
            "_view_name": "ProgressView",
            "bar_style": "success",
            "description": "",
            "description_tooltip": null,
            "layout": "IPY_MODEL_e0a50e46b3d64db88024c43f04cd4c83",
            "max": 1269737156,
            "min": 0,
            "orientation": "horizontal",
            "style": "IPY_MODEL_bf57c3f360214fd28caa375a048e95b0",
            "value": 1269737156
          }
        },
        "1bb9aa9295424199b91ecc09cade6f54": {
          "model_module": "@jupyter-widgets/controls",
          "model_module_version": "1.5.0",
          "model_name": "HTMLModel",
          "state": {
            "_dom_classes": [],
            "_model_module": "@jupyter-widgets/controls",
            "_model_module_version": "1.5.0",
            "_model_name": "HTMLModel",
            "_view_count": null,
            "_view_module": "@jupyter-widgets/controls",
            "_view_module_version": "1.5.0",
            "_view_name": "HTMLView",
            "description": "",
            "description_tooltip": null,
            "layout": "IPY_MODEL_6609441304d7482bb49e92f293f4d4dc",
            "placeholder": "​",
            "style": "IPY_MODEL_7729c08261484537851400243a9f7686",
            "value": ""
          }
        },
        "1d7b73b315704b3ca070d2034c0a18be": {
          "model_module": "@jupyter-widgets/controls",
          "model_module_version": "1.5.0",
          "model_name": "DescriptionStyleModel",
          "state": {
            "_model_module": "@jupyter-widgets/controls",
            "_model_module_version": "1.5.0",
            "_model_name": "DescriptionStyleModel",
            "_view_count": null,
            "_view_module": "@jupyter-widgets/base",
            "_view_module_version": "1.2.0",
            "_view_name": "StyleView",
            "description_width": ""
          }
        },
        "2375620c24ce43a5a7cdc67a7195ba62": {
          "model_module": "@jupyter-widgets/controls",
          "model_module_version": "1.5.0",
          "model_name": "FloatProgressModel",
          "state": {
            "_dom_classes": [],
            "_model_module": "@jupyter-widgets/controls",
            "_model_module_version": "1.5.0",
            "_model_name": "FloatProgressModel",
            "_view_count": null,
            "_view_module": "@jupyter-widgets/controls",
            "_view_module_version": "1.5.0",
            "_view_name": "ProgressView",
            "bar_style": "success",
            "description": "",
            "description_tooltip": null,
            "layout": "IPY_MODEL_8f24bd1dd65f47f797e016586877ce78",
            "max": 1,
            "min": 0,
            "orientation": "horizontal",
            "style": "IPY_MODEL_b6e672714fc5455fbaf2a6e7044f6046",
            "value": 1
          }
        },
        "2521434905d5469b8d56f2166302e58f": {
          "model_module": "@jupyter-widgets/controls",
          "model_module_version": "1.5.0",
          "model_name": "ProgressStyleModel",
          "state": {
            "_model_module": "@jupyter-widgets/controls",
            "_model_module_version": "1.5.0",
            "_model_name": "ProgressStyleModel",
            "_view_count": null,
            "_view_module": "@jupyter-widgets/base",
            "_view_module_version": "1.2.0",
            "_view_name": "StyleView",
            "bar_color": null,
            "description_width": ""
          }
        },
        "2571030dc32442098ba7caddbbbaea1d": {
          "model_module": "@jupyter-widgets/base",
          "model_module_version": "1.2.0",
          "model_name": "LayoutModel",
          "state": {
            "_model_module": "@jupyter-widgets/base",
            "_model_module_version": "1.2.0",
            "_model_name": "LayoutModel",
            "_view_count": null,
            "_view_module": "@jupyter-widgets/base",
            "_view_module_version": "1.2.0",
            "_view_name": "LayoutView",
            "align_content": null,
            "align_items": null,
            "align_self": null,
            "border": null,
            "bottom": null,
            "display": null,
            "flex": null,
            "flex_flow": null,
            "grid_area": null,
            "grid_auto_columns": null,
            "grid_auto_flow": null,
            "grid_auto_rows": null,
            "grid_column": null,
            "grid_gap": null,
            "grid_row": null,
            "grid_template_areas": null,
            "grid_template_columns": null,
            "grid_template_rows": null,
            "height": null,
            "justify_content": null,
            "justify_items": null,
            "left": null,
            "margin": null,
            "max_height": null,
            "max_width": null,
            "min_height": null,
            "min_width": null,
            "object_fit": null,
            "object_position": null,
            "order": null,
            "overflow": null,
            "overflow_x": null,
            "overflow_y": null,
            "padding": null,
            "right": null,
            "top": null,
            "visibility": null,
            "width": null
          }
        },
        "27f27cd583a949e59109bbe0e94dc701": {
          "model_module": "@jupyter-widgets/base",
          "model_module_version": "1.2.0",
          "model_name": "LayoutModel",
          "state": {
            "_model_module": "@jupyter-widgets/base",
            "_model_module_version": "1.2.0",
            "_model_name": "LayoutModel",
            "_view_count": null,
            "_view_module": "@jupyter-widgets/base",
            "_view_module_version": "1.2.0",
            "_view_name": "LayoutView",
            "align_content": null,
            "align_items": null,
            "align_self": null,
            "border": null,
            "bottom": null,
            "display": null,
            "flex": null,
            "flex_flow": null,
            "grid_area": null,
            "grid_auto_columns": null,
            "grid_auto_flow": null,
            "grid_auto_rows": null,
            "grid_column": null,
            "grid_gap": null,
            "grid_row": null,
            "grid_template_areas": null,
            "grid_template_columns": null,
            "grid_template_rows": null,
            "height": null,
            "justify_content": null,
            "justify_items": null,
            "left": null,
            "margin": null,
            "max_height": null,
            "max_width": null,
            "min_height": null,
            "min_width": null,
            "object_fit": null,
            "object_position": null,
            "order": null,
            "overflow": null,
            "overflow_x": null,
            "overflow_y": null,
            "padding": null,
            "right": null,
            "top": null,
            "visibility": null,
            "width": null
          }
        },
        "2e4ba782559a447a8570f0cb58593e6a": {
          "model_module": "@jupyter-widgets/controls",
          "model_module_version": "1.5.0",
          "model_name": "HBoxModel",
          "state": {
            "_dom_classes": [],
            "_model_module": "@jupyter-widgets/controls",
            "_model_module_version": "1.5.0",
            "_model_name": "HBoxModel",
            "_view_count": null,
            "_view_module": "@jupyter-widgets/controls",
            "_view_module_version": "1.5.0",
            "_view_name": "HBoxView",
            "box_style": "",
            "children": [
              "IPY_MODEL_7a811ac4270b46f18711a2e2ffcd6b14",
              "IPY_MODEL_9cd90d97577c4e41b13f32567f2a313a",
              "IPY_MODEL_f4a32c227a044ee6ba3977a5d0988ab0"
            ],
            "layout": "IPY_MODEL_a3eede0e854a4ae393cc9cec3970f5aa"
          }
        },
        "2f54998c726745e18a54cea63178d3c4": {
          "model_module": "@jupyter-widgets/controls",
          "model_module_version": "1.5.0",
          "model_name": "DescriptionStyleModel",
          "state": {
            "_model_module": "@jupyter-widgets/controls",
            "_model_module_version": "1.5.0",
            "_model_name": "DescriptionStyleModel",
            "_view_count": null,
            "_view_module": "@jupyter-widgets/base",
            "_view_module_version": "1.2.0",
            "_view_name": "StyleView",
            "description_width": ""
          }
        },
        "33a66026aa494e3d8c9f889ea8ac2fc9": {
          "model_module": "@jupyter-widgets/controls",
          "model_module_version": "1.5.0",
          "model_name": "HBoxModel",
          "state": {
            "_dom_classes": [],
            "_model_module": "@jupyter-widgets/controls",
            "_model_module_version": "1.5.0",
            "_model_name": "HBoxModel",
            "_view_count": null,
            "_view_module": "@jupyter-widgets/controls",
            "_view_module_version": "1.5.0",
            "_view_name": "HBoxView",
            "box_style": "",
            "children": [
              "IPY_MODEL_eee58ce2ae4a4cdf89d9d24e4ab47960",
              "IPY_MODEL_40cb9b63e74c4513900c859974370ac7",
              "IPY_MODEL_f84e80019ca4415587d16d23b3282f0d"
            ],
            "layout": "IPY_MODEL_a2489033e6194d2a877e75bce3351217"
          }
        },
        "3ee888a18f6b4979a54eb7b4ad4c735f": {
          "model_module": "@jupyter-widgets/base",
          "model_module_version": "1.2.0",
          "model_name": "LayoutModel",
          "state": {
            "_model_module": "@jupyter-widgets/base",
            "_model_module_version": "1.2.0",
            "_model_name": "LayoutModel",
            "_view_count": null,
            "_view_module": "@jupyter-widgets/base",
            "_view_module_version": "1.2.0",
            "_view_name": "LayoutView",
            "align_content": null,
            "align_items": null,
            "align_self": null,
            "border": null,
            "bottom": null,
            "display": null,
            "flex": null,
            "flex_flow": null,
            "grid_area": null,
            "grid_auto_columns": null,
            "grid_auto_flow": null,
            "grid_auto_rows": null,
            "grid_column": null,
            "grid_gap": null,
            "grid_row": null,
            "grid_template_areas": null,
            "grid_template_columns": null,
            "grid_template_rows": null,
            "height": null,
            "justify_content": null,
            "justify_items": null,
            "left": null,
            "margin": null,
            "max_height": null,
            "max_width": null,
            "min_height": null,
            "min_width": null,
            "object_fit": null,
            "object_position": null,
            "order": null,
            "overflow": null,
            "overflow_x": null,
            "overflow_y": null,
            "padding": null,
            "right": null,
            "top": null,
            "visibility": null,
            "width": null
          }
        },
        "40cb9b63e74c4513900c859974370ac7": {
          "model_module": "@jupyter-widgets/controls",
          "model_module_version": "1.5.0",
          "model_name": "FloatProgressModel",
          "state": {
            "_dom_classes": [],
            "_model_module": "@jupyter-widgets/controls",
            "_model_module_version": "1.5.0",
            "_model_name": "FloatProgressModel",
            "_view_count": null,
            "_view_module": "@jupyter-widgets/controls",
            "_view_module_version": "1.5.0",
            "_view_name": "ProgressView",
            "bar_style": "success",
            "description": "",
            "description_tooltip": null,
            "layout": "IPY_MODEL_27f27cd583a949e59109bbe0e94dc701",
            "max": 821,
            "min": 0,
            "orientation": "horizontal",
            "style": "IPY_MODEL_b2919f1f580c435aa58a24605077b5df",
            "value": 821
          }
        },
        "414b962a3115441da7ea56525e11565c": {
          "model_module": "@jupyter-widgets/base",
          "model_module_version": "1.2.0",
          "model_name": "LayoutModel",
          "state": {
            "_model_module": "@jupyter-widgets/base",
            "_model_module_version": "1.2.0",
            "_model_name": "LayoutModel",
            "_view_count": null,
            "_view_module": "@jupyter-widgets/base",
            "_view_module_version": "1.2.0",
            "_view_name": "LayoutView",
            "align_content": null,
            "align_items": null,
            "align_self": null,
            "border": null,
            "bottom": null,
            "display": null,
            "flex": null,
            "flex_flow": null,
            "grid_area": null,
            "grid_auto_columns": null,
            "grid_auto_flow": null,
            "grid_auto_rows": null,
            "grid_column": null,
            "grid_gap": null,
            "grid_row": null,
            "grid_template_areas": null,
            "grid_template_columns": null,
            "grid_template_rows": null,
            "height": null,
            "justify_content": null,
            "justify_items": null,
            "left": null,
            "margin": null,
            "max_height": null,
            "max_width": null,
            "min_height": null,
            "min_width": null,
            "object_fit": null,
            "object_position": null,
            "order": null,
            "overflow": null,
            "overflow_x": null,
            "overflow_y": null,
            "padding": null,
            "right": null,
            "top": null,
            "visibility": null,
            "width": null
          }
        },
        "4290806b83dd406d83224999af168cb0": {
          "model_module": "@jupyter-widgets/base",
          "model_module_version": "1.2.0",
          "model_name": "LayoutModel",
          "state": {
            "_model_module": "@jupyter-widgets/base",
            "_model_module_version": "1.2.0",
            "_model_name": "LayoutModel",
            "_view_count": null,
            "_view_module": "@jupyter-widgets/base",
            "_view_module_version": "1.2.0",
            "_view_name": "LayoutView",
            "align_content": null,
            "align_items": null,
            "align_self": null,
            "border": null,
            "bottom": null,
            "display": null,
            "flex": null,
            "flex_flow": null,
            "grid_area": null,
            "grid_auto_columns": null,
            "grid_auto_flow": null,
            "grid_auto_rows": null,
            "grid_column": null,
            "grid_gap": null,
            "grid_row": null,
            "grid_template_areas": null,
            "grid_template_columns": null,
            "grid_template_rows": null,
            "height": null,
            "justify_content": null,
            "justify_items": null,
            "left": null,
            "margin": null,
            "max_height": null,
            "max_width": null,
            "min_height": null,
            "min_width": null,
            "object_fit": null,
            "object_position": null,
            "order": null,
            "overflow": null,
            "overflow_x": null,
            "overflow_y": null,
            "padding": null,
            "right": null,
            "top": null,
            "visibility": null,
            "width": null
          }
        },
        "45212ee9f7dc486fadc535e9a90f1420": {
          "model_module": "@jupyter-widgets/controls",
          "model_module_version": "1.5.0",
          "model_name": "ProgressStyleModel",
          "state": {
            "_model_module": "@jupyter-widgets/controls",
            "_model_module_version": "1.5.0",
            "_model_name": "ProgressStyleModel",
            "_view_count": null,
            "_view_module": "@jupyter-widgets/base",
            "_view_module_version": "1.2.0",
            "_view_name": "StyleView",
            "bar_color": null,
            "description_width": ""
          }
        },
        "459041ab9f7e4815b8f0e6e45b83f531": {
          "model_module": "@jupyter-widgets/controls",
          "model_module_version": "1.5.0",
          "model_name": "HTMLModel",
          "state": {
            "_dom_classes": [],
            "_model_module": "@jupyter-widgets/controls",
            "_model_module_version": "1.5.0",
            "_model_name": "HTMLModel",
            "_view_count": null,
            "_view_module": "@jupyter-widgets/controls",
            "_view_module_version": "1.5.0",
            "_view_name": "HTMLView",
            "description": "",
            "description_tooltip": null,
            "layout": "IPY_MODEL_8c22c60cc98e4929986af14fdd91624f",
            "placeholder": "​",
            "style": "IPY_MODEL_87fb489932754d7d98353a1619621499",
            "value": " 3283/3283 [00:27&lt;00:00, 248.98 examples/s]"
          }
        },
        "47089d15d93f410ab5e8b9e3033cd463": {
          "model_module": "@jupyter-widgets/controls",
          "model_module_version": "1.5.0",
          "model_name": "HBoxModel",
          "state": {
            "_dom_classes": [],
            "_model_module": "@jupyter-widgets/controls",
            "_model_module_version": "1.5.0",
            "_model_name": "HBoxModel",
            "_view_count": null,
            "_view_module": "@jupyter-widgets/controls",
            "_view_module_version": "1.5.0",
            "_view_name": "HBoxView",
            "box_style": "",
            "children": [
              "IPY_MODEL_82c261d0020449e88f80f5d76faed453",
              "IPY_MODEL_c4cfee75c9d14d2bafcfbf871ce3fbc8",
              "IPY_MODEL_87c56116531948338d5f2dde995cc9ac"
            ],
            "layout": "IPY_MODEL_5d8332f417304126b6c759c059639431"
          }
        },
        "5646d6b3cf974c3d9b2571d8556cc92a": {
          "model_module": "@jupyter-widgets/controls",
          "model_module_version": "1.5.0",
          "model_name": "FloatProgressModel",
          "state": {
            "_dom_classes": [],
            "_model_module": "@jupyter-widgets/controls",
            "_model_module_version": "1.5.0",
            "_model_name": "FloatProgressModel",
            "_view_count": null,
            "_view_module": "@jupyter-widgets/controls",
            "_view_module_version": "1.5.0",
            "_view_name": "ProgressView",
            "bar_style": "success",
            "description": "",
            "description_tooltip": null,
            "layout": "IPY_MODEL_2571030dc32442098ba7caddbbbaea1d",
            "max": 212,
            "min": 0,
            "orientation": "horizontal",
            "style": "IPY_MODEL_c174b22e20fe4b2692b26e6ce60e97e8",
            "value": 212
          }
        },
        "596907c3e3e24e5490ed6982b955cfe9": {
          "model_module": "@jupyter-widgets/controls",
          "model_module_version": "1.5.0",
          "model_name": "DescriptionStyleModel",
          "state": {
            "_model_module": "@jupyter-widgets/controls",
            "_model_module_version": "1.5.0",
            "_model_name": "DescriptionStyleModel",
            "_view_count": null,
            "_view_module": "@jupyter-widgets/base",
            "_view_module_version": "1.2.0",
            "_view_name": "StyleView",
            "description_width": ""
          }
        },
        "5b3ce0832b12432db3be3d125fe6c1e1": {
          "model_module": "@jupyter-widgets/controls",
          "model_module_version": "1.5.0",
          "model_name": "DescriptionStyleModel",
          "state": {
            "_model_module": "@jupyter-widgets/controls",
            "_model_module_version": "1.5.0",
            "_model_name": "DescriptionStyleModel",
            "_view_count": null,
            "_view_module": "@jupyter-widgets/base",
            "_view_module_version": "1.2.0",
            "_view_name": "StyleView",
            "description_width": ""
          }
        },
        "5d8332f417304126b6c759c059639431": {
          "model_module": "@jupyter-widgets/base",
          "model_module_version": "1.2.0",
          "model_name": "LayoutModel",
          "state": {
            "_model_module": "@jupyter-widgets/base",
            "_model_module_version": "1.2.0",
            "_model_name": "LayoutModel",
            "_view_count": null,
            "_view_module": "@jupyter-widgets/base",
            "_view_module_version": "1.2.0",
            "_view_name": "LayoutView",
            "align_content": null,
            "align_items": null,
            "align_self": null,
            "border": null,
            "bottom": null,
            "display": null,
            "flex": null,
            "flex_flow": null,
            "grid_area": null,
            "grid_auto_columns": null,
            "grid_auto_flow": null,
            "grid_auto_rows": null,
            "grid_column": null,
            "grid_gap": null,
            "grid_row": null,
            "grid_template_areas": null,
            "grid_template_columns": null,
            "grid_template_rows": null,
            "height": null,
            "justify_content": null,
            "justify_items": null,
            "left": null,
            "margin": null,
            "max_height": null,
            "max_width": null,
            "min_height": null,
            "min_width": null,
            "object_fit": null,
            "object_position": null,
            "order": null,
            "overflow": null,
            "overflow_x": null,
            "overflow_y": null,
            "padding": null,
            "right": null,
            "top": null,
            "visibility": null,
            "width": null
          }
        },
        "5f905354208a4e9896ecfc3f13679baf": {
          "model_module": "@jupyter-widgets/base",
          "model_module_version": "1.2.0",
          "model_name": "LayoutModel",
          "state": {
            "_model_module": "@jupyter-widgets/base",
            "_model_module_version": "1.2.0",
            "_model_name": "LayoutModel",
            "_view_count": null,
            "_view_module": "@jupyter-widgets/base",
            "_view_module_version": "1.2.0",
            "_view_name": "LayoutView",
            "align_content": null,
            "align_items": null,
            "align_self": null,
            "border": null,
            "bottom": null,
            "display": null,
            "flex": null,
            "flex_flow": null,
            "grid_area": null,
            "grid_auto_columns": null,
            "grid_auto_flow": null,
            "grid_auto_rows": null,
            "grid_column": null,
            "grid_gap": null,
            "grid_row": null,
            "grid_template_areas": null,
            "grid_template_columns": null,
            "grid_template_rows": null,
            "height": null,
            "justify_content": null,
            "justify_items": null,
            "left": null,
            "margin": null,
            "max_height": null,
            "max_width": null,
            "min_height": null,
            "min_width": null,
            "object_fit": null,
            "object_position": null,
            "order": null,
            "overflow": null,
            "overflow_x": null,
            "overflow_y": null,
            "padding": null,
            "right": null,
            "top": null,
            "visibility": null,
            "width": null
          }
        },
        "60258d4042104391b1d42a4685c0225d": {
          "model_module": "@jupyter-widgets/controls",
          "model_module_version": "1.5.0",
          "model_name": "HBoxModel",
          "state": {
            "_dom_classes": [],
            "_model_module": "@jupyter-widgets/controls",
            "_model_module_version": "1.5.0",
            "_model_name": "HBoxModel",
            "_view_count": null,
            "_view_module": "@jupyter-widgets/controls",
            "_view_module_version": "1.5.0",
            "_view_name": "HBoxView",
            "box_style": "",
            "children": [
              "IPY_MODEL_1bb9aa9295424199b91ecc09cade6f54",
              "IPY_MODEL_68d9fd60ec964e2db65959db15cab40f",
              "IPY_MODEL_a7fc064c52654dc2981760a2e3e0f2d7"
            ],
            "layout": "IPY_MODEL_84df066719e341d6a99a9a7524c19fe6"
          }
        },
        "61af082e366c4e88bd0a39f6a474efff": {
          "model_module": "@jupyter-widgets/base",
          "model_module_version": "1.2.0",
          "model_name": "LayoutModel",
          "state": {
            "_model_module": "@jupyter-widgets/base",
            "_model_module_version": "1.2.0",
            "_model_name": "LayoutModel",
            "_view_count": null,
            "_view_module": "@jupyter-widgets/base",
            "_view_module_version": "1.2.0",
            "_view_name": "LayoutView",
            "align_content": null,
            "align_items": null,
            "align_self": null,
            "border": null,
            "bottom": null,
            "display": null,
            "flex": null,
            "flex_flow": null,
            "grid_area": null,
            "grid_auto_columns": null,
            "grid_auto_flow": null,
            "grid_auto_rows": null,
            "grid_column": null,
            "grid_gap": null,
            "grid_row": null,
            "grid_template_areas": null,
            "grid_template_columns": null,
            "grid_template_rows": null,
            "height": null,
            "justify_content": null,
            "justify_items": null,
            "left": null,
            "margin": null,
            "max_height": null,
            "max_width": null,
            "min_height": null,
            "min_width": null,
            "object_fit": null,
            "object_position": null,
            "order": null,
            "overflow": null,
            "overflow_x": null,
            "overflow_y": null,
            "padding": null,
            "right": null,
            "top": null,
            "visibility": null,
            "width": null
          }
        },
        "6609441304d7482bb49e92f293f4d4dc": {
          "model_module": "@jupyter-widgets/base",
          "model_module_version": "1.2.0",
          "model_name": "LayoutModel",
          "state": {
            "_model_module": "@jupyter-widgets/base",
            "_model_module_version": "1.2.0",
            "_model_name": "LayoutModel",
            "_view_count": null,
            "_view_module": "@jupyter-widgets/base",
            "_view_module_version": "1.2.0",
            "_view_name": "LayoutView",
            "align_content": null,
            "align_items": null,
            "align_self": null,
            "border": null,
            "bottom": null,
            "display": null,
            "flex": null,
            "flex_flow": null,
            "grid_area": null,
            "grid_auto_columns": null,
            "grid_auto_flow": null,
            "grid_auto_rows": null,
            "grid_column": null,
            "grid_gap": null,
            "grid_row": null,
            "grid_template_areas": null,
            "grid_template_columns": null,
            "grid_template_rows": null,
            "height": null,
            "justify_content": null,
            "justify_items": null,
            "left": null,
            "margin": null,
            "max_height": null,
            "max_width": null,
            "min_height": null,
            "min_width": null,
            "object_fit": null,
            "object_position": null,
            "order": null,
            "overflow": null,
            "overflow_x": null,
            "overflow_y": null,
            "padding": null,
            "right": null,
            "top": null,
            "visibility": null,
            "width": null
          }
        },
        "66cf60d1131d41789f2ac6dd40433f51": {
          "model_module": "@jupyter-widgets/controls",
          "model_module_version": "1.5.0",
          "model_name": "DescriptionStyleModel",
          "state": {
            "_model_module": "@jupyter-widgets/controls",
            "_model_module_version": "1.5.0",
            "_model_name": "DescriptionStyleModel",
            "_view_count": null,
            "_view_module": "@jupyter-widgets/base",
            "_view_module_version": "1.2.0",
            "_view_name": "StyleView",
            "description_width": ""
          }
        },
        "68d9fd60ec964e2db65959db15cab40f": {
          "model_module": "@jupyter-widgets/controls",
          "model_module_version": "1.5.0",
          "model_name": "FloatProgressModel",
          "state": {
            "_dom_classes": [],
            "_model_module": "@jupyter-widgets/controls",
            "_model_module_version": "1.5.0",
            "_model_name": "FloatProgressModel",
            "_view_count": null,
            "_view_module": "@jupyter-widgets/controls",
            "_view_module_version": "1.5.0",
            "_view_name": "ProgressView",
            "bar_style": "success",
            "description": "",
            "description_tooltip": null,
            "layout": "IPY_MODEL_c3420f433c4d447593e7e579380acb9b",
            "max": 1,
            "min": 0,
            "orientation": "horizontal",
            "style": "IPY_MODEL_fabba6c7e45a4f1a90934107c9384cfd",
            "value": 0
          }
        },
        "69be6584725c4c8eb3c67f6a88f0ba0d": {
          "model_module": "@jupyter-widgets/base",
          "model_module_version": "1.2.0",
          "model_name": "LayoutModel",
          "state": {
            "_model_module": "@jupyter-widgets/base",
            "_model_module_version": "1.2.0",
            "_model_name": "LayoutModel",
            "_view_count": null,
            "_view_module": "@jupyter-widgets/base",
            "_view_module_version": "1.2.0",
            "_view_name": "LayoutView",
            "align_content": null,
            "align_items": null,
            "align_self": null,
            "border": null,
            "bottom": null,
            "display": null,
            "flex": null,
            "flex_flow": null,
            "grid_area": null,
            "grid_auto_columns": null,
            "grid_auto_flow": null,
            "grid_auto_rows": null,
            "grid_column": null,
            "grid_gap": null,
            "grid_row": null,
            "grid_template_areas": null,
            "grid_template_columns": null,
            "grid_template_rows": null,
            "height": null,
            "justify_content": null,
            "justify_items": null,
            "left": null,
            "margin": null,
            "max_height": null,
            "max_width": null,
            "min_height": null,
            "min_width": null,
            "object_fit": null,
            "object_position": null,
            "order": null,
            "overflow": null,
            "overflow_x": null,
            "overflow_y": null,
            "padding": null,
            "right": null,
            "top": null,
            "visibility": null,
            "width": null
          }
        },
        "6bc9503574d646bbb4af755e3cd3e3bd": {
          "model_module": "@jupyter-widgets/controls",
          "model_module_version": "1.5.0",
          "model_name": "HBoxModel",
          "state": {
            "_dom_classes": [],
            "_model_module": "@jupyter-widgets/controls",
            "_model_module_version": "1.5.0",
            "_model_name": "HBoxModel",
            "_view_count": null,
            "_view_module": "@jupyter-widgets/controls",
            "_view_module_version": "1.5.0",
            "_view_name": "HBoxView",
            "box_style": "",
            "children": [
              "IPY_MODEL_02466142c6c24bb3a76bfe582e2c98d7",
              "IPY_MODEL_2375620c24ce43a5a7cdc67a7195ba62",
              "IPY_MODEL_97696705d820421facb0f6b00c317f89"
            ],
            "layout": "IPY_MODEL_070519028e4e4e939e848791c8fba4f8"
          }
        },
        "7133f68258ad45c99368033a26bea133": {
          "model_module": "@jupyter-widgets/controls",
          "model_module_version": "1.5.0",
          "model_name": "HTMLModel",
          "state": {
            "_dom_classes": [],
            "_model_module": "@jupyter-widgets/controls",
            "_model_module_version": "1.5.0",
            "_model_name": "HTMLModel",
            "_view_count": null,
            "_view_module": "@jupyter-widgets/controls",
            "_view_module_version": "1.5.0",
            "_view_name": "HTMLView",
            "description": "",
            "description_tooltip": null,
            "layout": "IPY_MODEL_4290806b83dd406d83224999af168cb0",
            "placeholder": "​",
            "style": "IPY_MODEL_2f54998c726745e18a54cea63178d3c4",
            "value": "pytorch_model.bin: 100%"
          }
        },
        "72394a869e404ef58467494a8c5d9d8e": {
          "model_module": "@jupyter-widgets/base",
          "model_module_version": "1.2.0",
          "model_name": "LayoutModel",
          "state": {
            "_model_module": "@jupyter-widgets/base",
            "_model_module_version": "1.2.0",
            "_model_name": "LayoutModel",
            "_view_count": null,
            "_view_module": "@jupyter-widgets/base",
            "_view_module_version": "1.2.0",
            "_view_name": "LayoutView",
            "align_content": null,
            "align_items": null,
            "align_self": null,
            "border": null,
            "bottom": null,
            "display": null,
            "flex": null,
            "flex_flow": null,
            "grid_area": null,
            "grid_auto_columns": null,
            "grid_auto_flow": null,
            "grid_auto_rows": null,
            "grid_column": null,
            "grid_gap": null,
            "grid_row": null,
            "grid_template_areas": null,
            "grid_template_columns": null,
            "grid_template_rows": null,
            "height": null,
            "justify_content": null,
            "justify_items": null,
            "left": null,
            "margin": null,
            "max_height": null,
            "max_width": null,
            "min_height": null,
            "min_width": null,
            "object_fit": null,
            "object_position": null,
            "order": null,
            "overflow": null,
            "overflow_x": null,
            "overflow_y": null,
            "padding": null,
            "right": null,
            "top": null,
            "visibility": null,
            "width": null
          }
        },
        "7729c08261484537851400243a9f7686": {
          "model_module": "@jupyter-widgets/controls",
          "model_module_version": "1.5.0",
          "model_name": "DescriptionStyleModel",
          "state": {
            "_model_module": "@jupyter-widgets/controls",
            "_model_module_version": "1.5.0",
            "_model_name": "DescriptionStyleModel",
            "_view_count": null,
            "_view_module": "@jupyter-widgets/base",
            "_view_module_version": "1.2.0",
            "_view_name": "StyleView",
            "description_width": ""
          }
        },
        "7a811ac4270b46f18711a2e2ffcd6b14": {
          "model_module": "@jupyter-widgets/controls",
          "model_module_version": "1.5.0",
          "model_name": "HTMLModel",
          "state": {
            "_dom_classes": [],
            "_model_module": "@jupyter-widgets/controls",
            "_model_module_version": "1.5.0",
            "_model_name": "HTMLModel",
            "_view_count": null,
            "_view_module": "@jupyter-widgets/controls",
            "_view_module_version": "1.5.0",
            "_view_name": "HTMLView",
            "description": "",
            "description_tooltip": null,
            "layout": "IPY_MODEL_3ee888a18f6b4979a54eb7b4ad4c735f",
            "placeholder": "​",
            "style": "IPY_MODEL_66cf60d1131d41789f2ac6dd40433f51",
            "value": "config.json: 100%"
          }
        },
        "7b00c09231b64e20837efdce39fe3088": {
          "model_module": "@jupyter-widgets/controls",
          "model_module_version": "1.5.0",
          "model_name": "HBoxModel",
          "state": {
            "_dom_classes": [],
            "_model_module": "@jupyter-widgets/controls",
            "_model_module_version": "1.5.0",
            "_model_name": "HBoxModel",
            "_view_count": null,
            "_view_module": "@jupyter-widgets/controls",
            "_view_module_version": "1.5.0",
            "_view_name": "HBoxView",
            "box_style": "",
            "children": [
              "IPY_MODEL_e976ae9e526e4836b5836b0d71378fc5",
              "IPY_MODEL_e61fe41284004f9b81adba7b5640d80a",
              "IPY_MODEL_459041ab9f7e4815b8f0e6e45b83f531"
            ],
            "layout": "IPY_MODEL_a01f3a32e906444cb59299ca89aef75c"
          }
        },
        "7be10ad736f346e59b64b8761e70a4e4": {
          "model_module": "@jupyter-widgets/controls",
          "model_module_version": "1.5.0",
          "model_name": "DescriptionStyleModel",
          "state": {
            "_model_module": "@jupyter-widgets/controls",
            "_model_module_version": "1.5.0",
            "_model_name": "DescriptionStyleModel",
            "_view_count": null,
            "_view_module": "@jupyter-widgets/base",
            "_view_module_version": "1.2.0",
            "_view_name": "StyleView",
            "description_width": ""
          }
        },
        "82c261d0020449e88f80f5d76faed453": {
          "model_module": "@jupyter-widgets/controls",
          "model_module_version": "1.5.0",
          "model_name": "HTMLModel",
          "state": {
            "_dom_classes": [],
            "_model_module": "@jupyter-widgets/controls",
            "_model_module_version": "1.5.0",
            "_model_name": "HTMLModel",
            "_view_count": null,
            "_view_module": "@jupyter-widgets/controls",
            "_view_module_version": "1.5.0",
            "_view_name": "HTMLView",
            "description": "",
            "description_tooltip": null,
            "layout": "IPY_MODEL_cdc8ec639d354fe88cdb118dbe155a29",
            "placeholder": "​",
            "style": "IPY_MODEL_e1c94b90d50948f0977e923b1c4eae6e",
            "value": "Generating validation split: "
          }
        },
        "84162b58ebd44a1fa2563dd67cd4dec0": {
          "model_module": "@jupyter-widgets/base",
          "model_module_version": "1.2.0",
          "model_name": "LayoutModel",
          "state": {
            "_model_module": "@jupyter-widgets/base",
            "_model_module_version": "1.2.0",
            "_model_name": "LayoutModel",
            "_view_count": null,
            "_view_module": "@jupyter-widgets/base",
            "_view_module_version": "1.2.0",
            "_view_name": "LayoutView",
            "align_content": null,
            "align_items": null,
            "align_self": null,
            "border": null,
            "bottom": null,
            "display": null,
            "flex": null,
            "flex_flow": null,
            "grid_area": null,
            "grid_auto_columns": null,
            "grid_auto_flow": null,
            "grid_auto_rows": null,
            "grid_column": null,
            "grid_gap": null,
            "grid_row": null,
            "grid_template_areas": null,
            "grid_template_columns": null,
            "grid_template_rows": null,
            "height": null,
            "justify_content": null,
            "justify_items": null,
            "left": null,
            "margin": null,
            "max_height": null,
            "max_width": null,
            "min_height": null,
            "min_width": null,
            "object_fit": null,
            "object_position": null,
            "order": null,
            "overflow": null,
            "overflow_x": null,
            "overflow_y": null,
            "padding": null,
            "right": null,
            "top": null,
            "visibility": null,
            "width": null
          }
        },
        "84df066719e341d6a99a9a7524c19fe6": {
          "model_module": "@jupyter-widgets/base",
          "model_module_version": "1.2.0",
          "model_name": "LayoutModel",
          "state": {
            "_model_module": "@jupyter-widgets/base",
            "_model_module_version": "1.2.0",
            "_model_name": "LayoutModel",
            "_view_count": null,
            "_view_module": "@jupyter-widgets/base",
            "_view_module_version": "1.2.0",
            "_view_name": "LayoutView",
            "align_content": null,
            "align_items": null,
            "align_self": null,
            "border": null,
            "bottom": null,
            "display": null,
            "flex": null,
            "flex_flow": null,
            "grid_area": null,
            "grid_auto_columns": null,
            "grid_auto_flow": null,
            "grid_auto_rows": null,
            "grid_column": null,
            "grid_gap": null,
            "grid_row": null,
            "grid_template_areas": null,
            "grid_template_columns": null,
            "grid_template_rows": null,
            "height": null,
            "justify_content": null,
            "justify_items": null,
            "left": null,
            "margin": null,
            "max_height": null,
            "max_width": null,
            "min_height": null,
            "min_width": null,
            "object_fit": null,
            "object_position": null,
            "order": null,
            "overflow": null,
            "overflow_x": null,
            "overflow_y": null,
            "padding": null,
            "right": null,
            "top": null,
            "visibility": null,
            "width": null
          }
        },
        "87c56116531948338d5f2dde995cc9ac": {
          "model_module": "@jupyter-widgets/controls",
          "model_module_version": "1.5.0",
          "model_name": "HTMLModel",
          "state": {
            "_dom_classes": [],
            "_model_module": "@jupyter-widgets/controls",
            "_model_module_version": "1.5.0",
            "_model_name": "HTMLModel",
            "_view_count": null,
            "_view_module": "@jupyter-widgets/controls",
            "_view_module_version": "1.5.0",
            "_view_name": "HTMLView",
            "description": "",
            "description_tooltip": null,
            "layout": "IPY_MODEL_61af082e366c4e88bd0a39f6a474efff",
            "placeholder": "​",
            "style": "IPY_MODEL_9c0ba2b7274a4d379fbe0ae75edd8819",
            "value": " 821/0 [00:00&lt;00:00, 28553.50 examples/s]"
          }
        },
        "87fb489932754d7d98353a1619621499": {
          "model_module": "@jupyter-widgets/controls",
          "model_module_version": "1.5.0",
          "model_name": "DescriptionStyleModel",
          "state": {
            "_model_module": "@jupyter-widgets/controls",
            "_model_module_version": "1.5.0",
            "_model_name": "DescriptionStyleModel",
            "_view_count": null,
            "_view_module": "@jupyter-widgets/base",
            "_view_module_version": "1.2.0",
            "_view_name": "StyleView",
            "description_width": ""
          }
        },
        "8c22c60cc98e4929986af14fdd91624f": {
          "model_module": "@jupyter-widgets/base",
          "model_module_version": "1.2.0",
          "model_name": "LayoutModel",
          "state": {
            "_model_module": "@jupyter-widgets/base",
            "_model_module_version": "1.2.0",
            "_model_name": "LayoutModel",
            "_view_count": null,
            "_view_module": "@jupyter-widgets/base",
            "_view_module_version": "1.2.0",
            "_view_name": "LayoutView",
            "align_content": null,
            "align_items": null,
            "align_self": null,
            "border": null,
            "bottom": null,
            "display": null,
            "flex": null,
            "flex_flow": null,
            "grid_area": null,
            "grid_auto_columns": null,
            "grid_auto_flow": null,
            "grid_auto_rows": null,
            "grid_column": null,
            "grid_gap": null,
            "grid_row": null,
            "grid_template_areas": null,
            "grid_template_columns": null,
            "grid_template_rows": null,
            "height": null,
            "justify_content": null,
            "justify_items": null,
            "left": null,
            "margin": null,
            "max_height": null,
            "max_width": null,
            "min_height": null,
            "min_width": null,
            "object_fit": null,
            "object_position": null,
            "order": null,
            "overflow": null,
            "overflow_x": null,
            "overflow_y": null,
            "padding": null,
            "right": null,
            "top": null,
            "visibility": null,
            "width": null
          }
        },
        "8f24bd1dd65f47f797e016586877ce78": {
          "model_module": "@jupyter-widgets/base",
          "model_module_version": "1.2.0",
          "model_name": "LayoutModel",
          "state": {
            "_model_module": "@jupyter-widgets/base",
            "_model_module_version": "1.2.0",
            "_model_name": "LayoutModel",
            "_view_count": null,
            "_view_module": "@jupyter-widgets/base",
            "_view_module_version": "1.2.0",
            "_view_name": "LayoutView",
            "align_content": null,
            "align_items": null,
            "align_self": null,
            "border": null,
            "bottom": null,
            "display": null,
            "flex": null,
            "flex_flow": null,
            "grid_area": null,
            "grid_auto_columns": null,
            "grid_auto_flow": null,
            "grid_auto_rows": null,
            "grid_column": null,
            "grid_gap": null,
            "grid_row": null,
            "grid_template_areas": null,
            "grid_template_columns": null,
            "grid_template_rows": null,
            "height": null,
            "justify_content": null,
            "justify_items": null,
            "left": null,
            "margin": null,
            "max_height": null,
            "max_width": null,
            "min_height": null,
            "min_width": null,
            "object_fit": null,
            "object_position": null,
            "order": null,
            "overflow": null,
            "overflow_x": null,
            "overflow_y": null,
            "padding": null,
            "right": null,
            "top": null,
            "visibility": null,
            "width": "20px"
          }
        },
        "97696705d820421facb0f6b00c317f89": {
          "model_module": "@jupyter-widgets/controls",
          "model_module_version": "1.5.0",
          "model_name": "HTMLModel",
          "state": {
            "_dom_classes": [],
            "_model_module": "@jupyter-widgets/controls",
            "_model_module_version": "1.5.0",
            "_model_name": "HTMLModel",
            "_view_count": null,
            "_view_module": "@jupyter-widgets/controls",
            "_view_module_version": "1.5.0",
            "_view_name": "HTMLView",
            "description": "",
            "description_tooltip": null,
            "layout": "IPY_MODEL_b814dee7fda444d586722ed29f88b054",
            "placeholder": "​",
            "style": "IPY_MODEL_b7846c0e8e0a4d1897ac0e87159f6899",
            "value": " 3283/0 [00:00&lt;00:00, 46050.71 examples/s]"
          }
        },
        "9c0ba2b7274a4d379fbe0ae75edd8819": {
          "model_module": "@jupyter-widgets/controls",
          "model_module_version": "1.5.0",
          "model_name": "DescriptionStyleModel",
          "state": {
            "_model_module": "@jupyter-widgets/controls",
            "_model_module_version": "1.5.0",
            "_model_name": "DescriptionStyleModel",
            "_view_count": null,
            "_view_module": "@jupyter-widgets/base",
            "_view_module_version": "1.2.0",
            "_view_name": "StyleView",
            "description_width": ""
          }
        },
        "9cd90d97577c4e41b13f32567f2a313a": {
          "model_module": "@jupyter-widgets/controls",
          "model_module_version": "1.5.0",
          "model_name": "FloatProgressModel",
          "state": {
            "_dom_classes": [],
            "_model_module": "@jupyter-widgets/controls",
            "_model_module_version": "1.5.0",
            "_model_name": "FloatProgressModel",
            "_view_count": null,
            "_view_module": "@jupyter-widgets/controls",
            "_view_module_version": "1.5.0",
            "_view_name": "ProgressView",
            "bar_style": "success",
            "description": "",
            "description_tooltip": null,
            "layout": "IPY_MODEL_08446a145df74417a74adf87504850eb",
            "max": 1768,
            "min": 0,
            "orientation": "horizontal",
            "style": "IPY_MODEL_be773d9d20c344b2922ff4f72a58009b",
            "value": 1768
          }
        },
        "9d50a81a41e244889a1df24351cb7e2c": {
          "model_module": "@jupyter-widgets/base",
          "model_module_version": "1.2.0",
          "model_name": "LayoutModel",
          "state": {
            "_model_module": "@jupyter-widgets/base",
            "_model_module_version": "1.2.0",
            "_model_name": "LayoutModel",
            "_view_count": null,
            "_view_module": "@jupyter-widgets/base",
            "_view_module_version": "1.2.0",
            "_view_name": "LayoutView",
            "align_content": null,
            "align_items": null,
            "align_self": null,
            "border": null,
            "bottom": null,
            "display": null,
            "flex": null,
            "flex_flow": null,
            "grid_area": null,
            "grid_auto_columns": null,
            "grid_auto_flow": null,
            "grid_auto_rows": null,
            "grid_column": null,
            "grid_gap": null,
            "grid_row": null,
            "grid_template_areas": null,
            "grid_template_columns": null,
            "grid_template_rows": null,
            "height": null,
            "justify_content": null,
            "justify_items": null,
            "left": null,
            "margin": null,
            "max_height": null,
            "max_width": null,
            "min_height": null,
            "min_width": null,
            "object_fit": null,
            "object_position": null,
            "order": null,
            "overflow": null,
            "overflow_x": null,
            "overflow_y": null,
            "padding": null,
            "right": null,
            "top": null,
            "visibility": null,
            "width": null
          }
        },
        "a01f3a32e906444cb59299ca89aef75c": {
          "model_module": "@jupyter-widgets/base",
          "model_module_version": "1.2.0",
          "model_name": "LayoutModel",
          "state": {
            "_model_module": "@jupyter-widgets/base",
            "_model_module_version": "1.2.0",
            "_model_name": "LayoutModel",
            "_view_count": null,
            "_view_module": "@jupyter-widgets/base",
            "_view_module_version": "1.2.0",
            "_view_name": "LayoutView",
            "align_content": null,
            "align_items": null,
            "align_self": null,
            "border": null,
            "bottom": null,
            "display": null,
            "flex": null,
            "flex_flow": null,
            "grid_area": null,
            "grid_auto_columns": null,
            "grid_auto_flow": null,
            "grid_auto_rows": null,
            "grid_column": null,
            "grid_gap": null,
            "grid_row": null,
            "grid_template_areas": null,
            "grid_template_columns": null,
            "grid_template_rows": null,
            "height": null,
            "justify_content": null,
            "justify_items": null,
            "left": null,
            "margin": null,
            "max_height": null,
            "max_width": null,
            "min_height": null,
            "min_width": null,
            "object_fit": null,
            "object_position": null,
            "order": null,
            "overflow": null,
            "overflow_x": null,
            "overflow_y": null,
            "padding": null,
            "right": null,
            "top": null,
            "visibility": null,
            "width": null
          }
        },
        "a07cfab0d06a4a45b387dc37dfc2671a": {
          "model_module": "@jupyter-widgets/controls",
          "model_module_version": "1.5.0",
          "model_name": "DescriptionStyleModel",
          "state": {
            "_model_module": "@jupyter-widgets/controls",
            "_model_module_version": "1.5.0",
            "_model_name": "DescriptionStyleModel",
            "_view_count": null,
            "_view_module": "@jupyter-widgets/base",
            "_view_module_version": "1.2.0",
            "_view_name": "StyleView",
            "description_width": ""
          }
        },
        "a113ecbb240a4a30a0b3e346f01e12dd": {
          "model_module": "@jupyter-widgets/base",
          "model_module_version": "1.2.0",
          "model_name": "LayoutModel",
          "state": {
            "_model_module": "@jupyter-widgets/base",
            "_model_module_version": "1.2.0",
            "_model_name": "LayoutModel",
            "_view_count": null,
            "_view_module": "@jupyter-widgets/base",
            "_view_module_version": "1.2.0",
            "_view_name": "LayoutView",
            "align_content": null,
            "align_items": null,
            "align_self": null,
            "border": null,
            "bottom": null,
            "display": null,
            "flex": null,
            "flex_flow": null,
            "grid_area": null,
            "grid_auto_columns": null,
            "grid_auto_flow": null,
            "grid_auto_rows": null,
            "grid_column": null,
            "grid_gap": null,
            "grid_row": null,
            "grid_template_areas": null,
            "grid_template_columns": null,
            "grid_template_rows": null,
            "height": null,
            "justify_content": null,
            "justify_items": null,
            "left": null,
            "margin": null,
            "max_height": null,
            "max_width": null,
            "min_height": null,
            "min_width": null,
            "object_fit": null,
            "object_position": null,
            "order": null,
            "overflow": null,
            "overflow_x": null,
            "overflow_y": null,
            "padding": null,
            "right": null,
            "top": null,
            "visibility": null,
            "width": "20px"
          }
        },
        "a146d1bd9344405a8131c42e0e8d70e7": {
          "model_module": "@jupyter-widgets/controls",
          "model_module_version": "1.5.0",
          "model_name": "HTMLModel",
          "state": {
            "_dom_classes": [],
            "_model_module": "@jupyter-widgets/controls",
            "_model_module_version": "1.5.0",
            "_model_name": "HTMLModel",
            "_view_count": null,
            "_view_module": "@jupyter-widgets/controls",
            "_view_module_version": "1.5.0",
            "_view_name": "HTMLView",
            "description": "",
            "description_tooltip": null,
            "layout": "IPY_MODEL_414b962a3115441da7ea56525e11565c",
            "placeholder": "​",
            "style": "IPY_MODEL_e0f08ac478154dfd88d58b30096cf6c0",
            "value": "preprocessor_config.json: 100%"
          }
        },
        "a2489033e6194d2a877e75bce3351217": {
          "model_module": "@jupyter-widgets/base",
          "model_module_version": "1.2.0",
          "model_name": "LayoutModel",
          "state": {
            "_model_module": "@jupyter-widgets/base",
            "_model_module_version": "1.2.0",
            "_model_name": "LayoutModel",
            "_view_count": null,
            "_view_module": "@jupyter-widgets/base",
            "_view_module_version": "1.2.0",
            "_view_name": "LayoutView",
            "align_content": null,
            "align_items": null,
            "align_self": null,
            "border": null,
            "bottom": null,
            "display": null,
            "flex": null,
            "flex_flow": null,
            "grid_area": null,
            "grid_auto_columns": null,
            "grid_auto_flow": null,
            "grid_auto_rows": null,
            "grid_column": null,
            "grid_gap": null,
            "grid_row": null,
            "grid_template_areas": null,
            "grid_template_columns": null,
            "grid_template_rows": null,
            "height": null,
            "justify_content": null,
            "justify_items": null,
            "left": null,
            "margin": null,
            "max_height": null,
            "max_width": null,
            "min_height": null,
            "min_width": null,
            "object_fit": null,
            "object_position": null,
            "order": null,
            "overflow": null,
            "overflow_x": null,
            "overflow_y": null,
            "padding": null,
            "right": null,
            "top": null,
            "visibility": null,
            "width": null
          }
        },
        "a386b101bf804f0f9a0f71412072e0d4": {
          "model_module": "@jupyter-widgets/controls",
          "model_module_version": "1.5.0",
          "model_name": "HBoxModel",
          "state": {
            "_dom_classes": [],
            "_model_module": "@jupyter-widgets/controls",
            "_model_module_version": "1.5.0",
            "_model_name": "HBoxModel",
            "_view_count": null,
            "_view_module": "@jupyter-widgets/controls",
            "_view_module_version": "1.5.0",
            "_view_name": "HBoxView",
            "box_style": "",
            "children": [
              "IPY_MODEL_a146d1bd9344405a8131c42e0e8d70e7",
              "IPY_MODEL_5646d6b3cf974c3d9b2571d8556cc92a",
              "IPY_MODEL_0436f4ba0a344253a944b70f249361a9"
            ],
            "layout": "IPY_MODEL_03955f8da28241dfa158a9afaecbe02b"
          }
        },
        "a3eede0e854a4ae393cc9cec3970f5aa": {
          "model_module": "@jupyter-widgets/base",
          "model_module_version": "1.2.0",
          "model_name": "LayoutModel",
          "state": {
            "_model_module": "@jupyter-widgets/base",
            "_model_module_version": "1.2.0",
            "_model_name": "LayoutModel",
            "_view_count": null,
            "_view_module": "@jupyter-widgets/base",
            "_view_module_version": "1.2.0",
            "_view_name": "LayoutView",
            "align_content": null,
            "align_items": null,
            "align_self": null,
            "border": null,
            "bottom": null,
            "display": null,
            "flex": null,
            "flex_flow": null,
            "grid_area": null,
            "grid_auto_columns": null,
            "grid_auto_flow": null,
            "grid_auto_rows": null,
            "grid_column": null,
            "grid_gap": null,
            "grid_row": null,
            "grid_template_areas": null,
            "grid_template_columns": null,
            "grid_template_rows": null,
            "height": null,
            "justify_content": null,
            "justify_items": null,
            "left": null,
            "margin": null,
            "max_height": null,
            "max_width": null,
            "min_height": null,
            "min_width": null,
            "object_fit": null,
            "object_position": null,
            "order": null,
            "overflow": null,
            "overflow_x": null,
            "overflow_y": null,
            "padding": null,
            "right": null,
            "top": null,
            "visibility": null,
            "width": null
          }
        },
        "a7fc064c52654dc2981760a2e3e0f2d7": {
          "model_module": "@jupyter-widgets/controls",
          "model_module_version": "1.5.0",
          "model_name": "HTMLModel",
          "state": {
            "_dom_classes": [],
            "_model_module": "@jupyter-widgets/controls",
            "_model_module_version": "1.5.0",
            "_model_name": "HTMLModel",
            "_view_count": null,
            "_view_module": "@jupyter-widgets/controls",
            "_view_module_version": "1.5.0",
            "_view_name": "HTMLView",
            "description": "",
            "description_tooltip": null,
            "layout": "IPY_MODEL_faeaeb0489604dd19390c80d03bf42e0",
            "placeholder": "​",
            "style": "IPY_MODEL_1d7b73b315704b3ca070d2034c0a18be",
            "value": " 0/0 [00:00&lt;?, ?it/s]"
          }
        },
        "b2919f1f580c435aa58a24605077b5df": {
          "model_module": "@jupyter-widgets/controls",
          "model_module_version": "1.5.0",
          "model_name": "ProgressStyleModel",
          "state": {
            "_model_module": "@jupyter-widgets/controls",
            "_model_module_version": "1.5.0",
            "_model_name": "ProgressStyleModel",
            "_view_count": null,
            "_view_module": "@jupyter-widgets/base",
            "_view_module_version": "1.2.0",
            "_view_name": "StyleView",
            "bar_color": null,
            "description_width": ""
          }
        },
        "b6e672714fc5455fbaf2a6e7044f6046": {
          "model_module": "@jupyter-widgets/controls",
          "model_module_version": "1.5.0",
          "model_name": "ProgressStyleModel",
          "state": {
            "_model_module": "@jupyter-widgets/controls",
            "_model_module_version": "1.5.0",
            "_model_name": "ProgressStyleModel",
            "_view_count": null,
            "_view_module": "@jupyter-widgets/base",
            "_view_module_version": "1.2.0",
            "_view_name": "StyleView",
            "bar_color": null,
            "description_width": ""
          }
        },
        "b7846c0e8e0a4d1897ac0e87159f6899": {
          "model_module": "@jupyter-widgets/controls",
          "model_module_version": "1.5.0",
          "model_name": "DescriptionStyleModel",
          "state": {
            "_model_module": "@jupyter-widgets/controls",
            "_model_module_version": "1.5.0",
            "_model_name": "DescriptionStyleModel",
            "_view_count": null,
            "_view_module": "@jupyter-widgets/base",
            "_view_module_version": "1.2.0",
            "_view_name": "StyleView",
            "description_width": ""
          }
        },
        "b814dee7fda444d586722ed29f88b054": {
          "model_module": "@jupyter-widgets/base",
          "model_module_version": "1.2.0",
          "model_name": "LayoutModel",
          "state": {
            "_model_module": "@jupyter-widgets/base",
            "_model_module_version": "1.2.0",
            "_model_name": "LayoutModel",
            "_view_count": null,
            "_view_module": "@jupyter-widgets/base",
            "_view_module_version": "1.2.0",
            "_view_name": "LayoutView",
            "align_content": null,
            "align_items": null,
            "align_self": null,
            "border": null,
            "bottom": null,
            "display": null,
            "flex": null,
            "flex_flow": null,
            "grid_area": null,
            "grid_auto_columns": null,
            "grid_auto_flow": null,
            "grid_auto_rows": null,
            "grid_column": null,
            "grid_gap": null,
            "grid_row": null,
            "grid_template_areas": null,
            "grid_template_columns": null,
            "grid_template_rows": null,
            "height": null,
            "justify_content": null,
            "justify_items": null,
            "left": null,
            "margin": null,
            "max_height": null,
            "max_width": null,
            "min_height": null,
            "min_width": null,
            "object_fit": null,
            "object_position": null,
            "order": null,
            "overflow": null,
            "overflow_x": null,
            "overflow_y": null,
            "padding": null,
            "right": null,
            "top": null,
            "visibility": null,
            "width": null
          }
        },
        "be773d9d20c344b2922ff4f72a58009b": {
          "model_module": "@jupyter-widgets/controls",
          "model_module_version": "1.5.0",
          "model_name": "ProgressStyleModel",
          "state": {
            "_model_module": "@jupyter-widgets/controls",
            "_model_module_version": "1.5.0",
            "_model_name": "ProgressStyleModel",
            "_view_count": null,
            "_view_module": "@jupyter-widgets/base",
            "_view_module_version": "1.2.0",
            "_view_name": "StyleView",
            "bar_color": null,
            "description_width": ""
          }
        },
        "bf57c3f360214fd28caa375a048e95b0": {
          "model_module": "@jupyter-widgets/controls",
          "model_module_version": "1.5.0",
          "model_name": "ProgressStyleModel",
          "state": {
            "_model_module": "@jupyter-widgets/controls",
            "_model_module_version": "1.5.0",
            "_model_name": "ProgressStyleModel",
            "_view_count": null,
            "_view_module": "@jupyter-widgets/base",
            "_view_module_version": "1.2.0",
            "_view_name": "StyleView",
            "bar_color": null,
            "description_width": ""
          }
        },
        "c174b22e20fe4b2692b26e6ce60e97e8": {
          "model_module": "@jupyter-widgets/controls",
          "model_module_version": "1.5.0",
          "model_name": "ProgressStyleModel",
          "state": {
            "_model_module": "@jupyter-widgets/controls",
            "_model_module_version": "1.5.0",
            "_model_name": "ProgressStyleModel",
            "_view_count": null,
            "_view_module": "@jupyter-widgets/base",
            "_view_module_version": "1.2.0",
            "_view_name": "StyleView",
            "bar_color": null,
            "description_width": ""
          }
        },
        "c3420f433c4d447593e7e579380acb9b": {
          "model_module": "@jupyter-widgets/base",
          "model_module_version": "1.2.0",
          "model_name": "LayoutModel",
          "state": {
            "_model_module": "@jupyter-widgets/base",
            "_model_module_version": "1.2.0",
            "_model_name": "LayoutModel",
            "_view_count": null,
            "_view_module": "@jupyter-widgets/base",
            "_view_module_version": "1.2.0",
            "_view_name": "LayoutView",
            "align_content": null,
            "align_items": null,
            "align_self": null,
            "border": null,
            "bottom": null,
            "display": null,
            "flex": null,
            "flex_flow": null,
            "grid_area": null,
            "grid_auto_columns": null,
            "grid_auto_flow": null,
            "grid_auto_rows": null,
            "grid_column": null,
            "grid_gap": null,
            "grid_row": null,
            "grid_template_areas": null,
            "grid_template_columns": null,
            "grid_template_rows": null,
            "height": null,
            "justify_content": null,
            "justify_items": null,
            "left": null,
            "margin": null,
            "max_height": null,
            "max_width": null,
            "min_height": null,
            "min_width": null,
            "object_fit": null,
            "object_position": null,
            "order": null,
            "overflow": null,
            "overflow_x": null,
            "overflow_y": null,
            "padding": null,
            "right": null,
            "top": null,
            "visibility": null,
            "width": "20px"
          }
        },
        "c4cfee75c9d14d2bafcfbf871ce3fbc8": {
          "model_module": "@jupyter-widgets/controls",
          "model_module_version": "1.5.0",
          "model_name": "FloatProgressModel",
          "state": {
            "_dom_classes": [],
            "_model_module": "@jupyter-widgets/controls",
            "_model_module_version": "1.5.0",
            "_model_name": "FloatProgressModel",
            "_view_count": null,
            "_view_module": "@jupyter-widgets/controls",
            "_view_module_version": "1.5.0",
            "_view_name": "ProgressView",
            "bar_style": "success",
            "description": "",
            "description_tooltip": null,
            "layout": "IPY_MODEL_a113ecbb240a4a30a0b3e346f01e12dd",
            "max": 1,
            "min": 0,
            "orientation": "horizontal",
            "style": "IPY_MODEL_45212ee9f7dc486fadc535e9a90f1420",
            "value": 1
          }
        },
        "c8d3126fbda14474aad4d9712a3cfe50": {
          "model_module": "@jupyter-widgets/controls",
          "model_module_version": "1.5.0",
          "model_name": "DescriptionStyleModel",
          "state": {
            "_model_module": "@jupyter-widgets/controls",
            "_model_module_version": "1.5.0",
            "_model_name": "DescriptionStyleModel",
            "_view_count": null,
            "_view_module": "@jupyter-widgets/base",
            "_view_module_version": "1.2.0",
            "_view_name": "StyleView",
            "description_width": ""
          }
        },
        "cdb05b93e52b42a0bd8bb3cf793273b8": {
          "model_module": "@jupyter-widgets/base",
          "model_module_version": "1.2.0",
          "model_name": "LayoutModel",
          "state": {
            "_model_module": "@jupyter-widgets/base",
            "_model_module_version": "1.2.0",
            "_model_name": "LayoutModel",
            "_view_count": null,
            "_view_module": "@jupyter-widgets/base",
            "_view_module_version": "1.2.0",
            "_view_name": "LayoutView",
            "align_content": null,
            "align_items": null,
            "align_self": null,
            "border": null,
            "bottom": null,
            "display": null,
            "flex": null,
            "flex_flow": null,
            "grid_area": null,
            "grid_auto_columns": null,
            "grid_auto_flow": null,
            "grid_auto_rows": null,
            "grid_column": null,
            "grid_gap": null,
            "grid_row": null,
            "grid_template_areas": null,
            "grid_template_columns": null,
            "grid_template_rows": null,
            "height": null,
            "justify_content": null,
            "justify_items": null,
            "left": null,
            "margin": null,
            "max_height": null,
            "max_width": null,
            "min_height": null,
            "min_width": null,
            "object_fit": null,
            "object_position": null,
            "order": null,
            "overflow": null,
            "overflow_x": null,
            "overflow_y": null,
            "padding": null,
            "right": null,
            "top": null,
            "visibility": null,
            "width": null
          }
        },
        "cdc8ec639d354fe88cdb118dbe155a29": {
          "model_module": "@jupyter-widgets/base",
          "model_module_version": "1.2.0",
          "model_name": "LayoutModel",
          "state": {
            "_model_module": "@jupyter-widgets/base",
            "_model_module_version": "1.2.0",
            "_model_name": "LayoutModel",
            "_view_count": null,
            "_view_module": "@jupyter-widgets/base",
            "_view_module_version": "1.2.0",
            "_view_name": "LayoutView",
            "align_content": null,
            "align_items": null,
            "align_self": null,
            "border": null,
            "bottom": null,
            "display": null,
            "flex": null,
            "flex_flow": null,
            "grid_area": null,
            "grid_auto_columns": null,
            "grid_auto_flow": null,
            "grid_auto_rows": null,
            "grid_column": null,
            "grid_gap": null,
            "grid_row": null,
            "grid_template_areas": null,
            "grid_template_columns": null,
            "grid_template_rows": null,
            "height": null,
            "justify_content": null,
            "justify_items": null,
            "left": null,
            "margin": null,
            "max_height": null,
            "max_width": null,
            "min_height": null,
            "min_width": null,
            "object_fit": null,
            "object_position": null,
            "order": null,
            "overflow": null,
            "overflow_x": null,
            "overflow_y": null,
            "padding": null,
            "right": null,
            "top": null,
            "visibility": null,
            "width": null
          }
        },
        "d9016606c6d3483e8a48d8bdd1c9cca5": {
          "model_module": "@jupyter-widgets/controls",
          "model_module_version": "1.5.0",
          "model_name": "HBoxModel",
          "state": {
            "_dom_classes": [],
            "_model_module": "@jupyter-widgets/controls",
            "_model_module_version": "1.5.0",
            "_model_name": "HBoxModel",
            "_view_count": null,
            "_view_module": "@jupyter-widgets/controls",
            "_view_module_version": "1.5.0",
            "_view_name": "HBoxView",
            "box_style": "",
            "children": [
              "IPY_MODEL_7133f68258ad45c99368033a26bea133",
              "IPY_MODEL_186aaef493c94b89b01b3573dad29da4",
              "IPY_MODEL_fe63bedbce924346bfa082344678ea32"
            ],
            "layout": "IPY_MODEL_184c7c132bc7449e8d3ac27ffa609c94"
          }
        },
        "e0a50e46b3d64db88024c43f04cd4c83": {
          "model_module": "@jupyter-widgets/base",
          "model_module_version": "1.2.0",
          "model_name": "LayoutModel",
          "state": {
            "_model_module": "@jupyter-widgets/base",
            "_model_module_version": "1.2.0",
            "_model_name": "LayoutModel",
            "_view_count": null,
            "_view_module": "@jupyter-widgets/base",
            "_view_module_version": "1.2.0",
            "_view_name": "LayoutView",
            "align_content": null,
            "align_items": null,
            "align_self": null,
            "border": null,
            "bottom": null,
            "display": null,
            "flex": null,
            "flex_flow": null,
            "grid_area": null,
            "grid_auto_columns": null,
            "grid_auto_flow": null,
            "grid_auto_rows": null,
            "grid_column": null,
            "grid_gap": null,
            "grid_row": null,
            "grid_template_areas": null,
            "grid_template_columns": null,
            "grid_template_rows": null,
            "height": null,
            "justify_content": null,
            "justify_items": null,
            "left": null,
            "margin": null,
            "max_height": null,
            "max_width": null,
            "min_height": null,
            "min_width": null,
            "object_fit": null,
            "object_position": null,
            "order": null,
            "overflow": null,
            "overflow_x": null,
            "overflow_y": null,
            "padding": null,
            "right": null,
            "top": null,
            "visibility": null,
            "width": null
          }
        },
        "e0f08ac478154dfd88d58b30096cf6c0": {
          "model_module": "@jupyter-widgets/controls",
          "model_module_version": "1.5.0",
          "model_name": "DescriptionStyleModel",
          "state": {
            "_model_module": "@jupyter-widgets/controls",
            "_model_module_version": "1.5.0",
            "_model_name": "DescriptionStyleModel",
            "_view_count": null,
            "_view_module": "@jupyter-widgets/base",
            "_view_module_version": "1.2.0",
            "_view_name": "StyleView",
            "description_width": ""
          }
        },
        "e1c94b90d50948f0977e923b1c4eae6e": {
          "model_module": "@jupyter-widgets/controls",
          "model_module_version": "1.5.0",
          "model_name": "DescriptionStyleModel",
          "state": {
            "_model_module": "@jupyter-widgets/controls",
            "_model_module_version": "1.5.0",
            "_model_name": "DescriptionStyleModel",
            "_view_count": null,
            "_view_module": "@jupyter-widgets/base",
            "_view_module_version": "1.2.0",
            "_view_name": "StyleView",
            "description_width": ""
          }
        },
        "e61fe41284004f9b81adba7b5640d80a": {
          "model_module": "@jupyter-widgets/controls",
          "model_module_version": "1.5.0",
          "model_name": "FloatProgressModel",
          "state": {
            "_dom_classes": [],
            "_model_module": "@jupyter-widgets/controls",
            "_model_module_version": "1.5.0",
            "_model_name": "FloatProgressModel",
            "_view_count": null,
            "_view_module": "@jupyter-widgets/controls",
            "_view_module_version": "1.5.0",
            "_view_name": "ProgressView",
            "bar_style": "success",
            "description": "",
            "description_tooltip": null,
            "layout": "IPY_MODEL_9d50a81a41e244889a1df24351cb7e2c",
            "max": 3283,
            "min": 0,
            "orientation": "horizontal",
            "style": "IPY_MODEL_2521434905d5469b8d56f2166302e58f",
            "value": 3283
          }
        },
        "e976ae9e526e4836b5836b0d71378fc5": {
          "model_module": "@jupyter-widgets/controls",
          "model_module_version": "1.5.0",
          "model_name": "HTMLModel",
          "state": {
            "_dom_classes": [],
            "_model_module": "@jupyter-widgets/controls",
            "_model_module_version": "1.5.0",
            "_model_name": "HTMLModel",
            "_view_count": null,
            "_view_module": "@jupyter-widgets/controls",
            "_view_module_version": "1.5.0",
            "_view_name": "HTMLView",
            "description": "",
            "description_tooltip": null,
            "layout": "IPY_MODEL_84162b58ebd44a1fa2563dd67cd4dec0",
            "placeholder": "​",
            "style": "IPY_MODEL_0b3835ef7e0644fbbae707024d11aee8",
            "value": "Map (num_proc=4): 100%"
          }
        },
        "edb5bf54b8c74c7c8d23c347bb6f40c0": {
          "model_module": "@jupyter-widgets/base",
          "model_module_version": "1.2.0",
          "model_name": "LayoutModel",
          "state": {
            "_model_module": "@jupyter-widgets/base",
            "_model_module_version": "1.2.0",
            "_model_name": "LayoutModel",
            "_view_count": null,
            "_view_module": "@jupyter-widgets/base",
            "_view_module_version": "1.2.0",
            "_view_name": "LayoutView",
            "align_content": null,
            "align_items": null,
            "align_self": null,
            "border": null,
            "bottom": null,
            "display": null,
            "flex": null,
            "flex_flow": null,
            "grid_area": null,
            "grid_auto_columns": null,
            "grid_auto_flow": null,
            "grid_auto_rows": null,
            "grid_column": null,
            "grid_gap": null,
            "grid_row": null,
            "grid_template_areas": null,
            "grid_template_columns": null,
            "grid_template_rows": null,
            "height": null,
            "justify_content": null,
            "justify_items": null,
            "left": null,
            "margin": null,
            "max_height": null,
            "max_width": null,
            "min_height": null,
            "min_width": null,
            "object_fit": null,
            "object_position": null,
            "order": null,
            "overflow": null,
            "overflow_x": null,
            "overflow_y": null,
            "padding": null,
            "right": null,
            "top": null,
            "visibility": null,
            "width": null
          }
        },
        "eee58ce2ae4a4cdf89d9d24e4ab47960": {
          "model_module": "@jupyter-widgets/controls",
          "model_module_version": "1.5.0",
          "model_name": "HTMLModel",
          "state": {
            "_dom_classes": [],
            "_model_module": "@jupyter-widgets/controls",
            "_model_module_version": "1.5.0",
            "_model_name": "HTMLModel",
            "_view_count": null,
            "_view_module": "@jupyter-widgets/controls",
            "_view_module_version": "1.5.0",
            "_view_name": "HTMLView",
            "description": "",
            "description_tooltip": null,
            "layout": "IPY_MODEL_002fefb1d9054f79a8635ddd3a1faa68",
            "placeholder": "​",
            "style": "IPY_MODEL_5b3ce0832b12432db3be3d125fe6c1e1",
            "value": "Map (num_proc=4): 100%"
          }
        },
        "f4a32c227a044ee6ba3977a5d0988ab0": {
          "model_module": "@jupyter-widgets/controls",
          "model_module_version": "1.5.0",
          "model_name": "HTMLModel",
          "state": {
            "_dom_classes": [],
            "_model_module": "@jupyter-widgets/controls",
            "_model_module_version": "1.5.0",
            "_model_name": "HTMLModel",
            "_view_count": null,
            "_view_module": "@jupyter-widgets/controls",
            "_view_module_version": "1.5.0",
            "_view_name": "HTMLView",
            "description": "",
            "description_tooltip": null,
            "layout": "IPY_MODEL_72394a869e404ef58467494a8c5d9d8e",
            "placeholder": "​",
            "style": "IPY_MODEL_7be10ad736f346e59b64b8761e70a4e4",
            "value": " 1.77k/1.77k [00:00&lt;00:00, 78.4kB/s]"
          }
        },
        "f84e80019ca4415587d16d23b3282f0d": {
          "model_module": "@jupyter-widgets/controls",
          "model_module_version": "1.5.0",
          "model_name": "HTMLModel",
          "state": {
            "_dom_classes": [],
            "_model_module": "@jupyter-widgets/controls",
            "_model_module_version": "1.5.0",
            "_model_name": "HTMLModel",
            "_view_count": null,
            "_view_module": "@jupyter-widgets/controls",
            "_view_module_version": "1.5.0",
            "_view_name": "HTMLView",
            "description": "",
            "description_tooltip": null,
            "layout": "IPY_MODEL_69be6584725c4c8eb3c67f6a88f0ba0d",
            "placeholder": "​",
            "style": "IPY_MODEL_596907c3e3e24e5490ed6982b955cfe9",
            "value": " 821/821 [00:12&lt;00:00, 151.91 examples/s]"
          }
        },
        "fabba6c7e45a4f1a90934107c9384cfd": {
          "model_module": "@jupyter-widgets/controls",
          "model_module_version": "1.5.0",
          "model_name": "ProgressStyleModel",
          "state": {
            "_model_module": "@jupyter-widgets/controls",
            "_model_module_version": "1.5.0",
            "_model_name": "ProgressStyleModel",
            "_view_count": null,
            "_view_module": "@jupyter-widgets/base",
            "_view_module_version": "1.2.0",
            "_view_name": "StyleView",
            "bar_color": null,
            "description_width": ""
          }
        },
        "faeaeb0489604dd19390c80d03bf42e0": {
          "model_module": "@jupyter-widgets/base",
          "model_module_version": "1.2.0",
          "model_name": "LayoutModel",
          "state": {
            "_model_module": "@jupyter-widgets/base",
            "_model_module_version": "1.2.0",
            "_model_name": "LayoutModel",
            "_view_count": null,
            "_view_module": "@jupyter-widgets/base",
            "_view_module_version": "1.2.0",
            "_view_name": "LayoutView",
            "align_content": null,
            "align_items": null,
            "align_self": null,
            "border": null,
            "bottom": null,
            "display": null,
            "flex": null,
            "flex_flow": null,
            "grid_area": null,
            "grid_auto_columns": null,
            "grid_auto_flow": null,
            "grid_auto_rows": null,
            "grid_column": null,
            "grid_gap": null,
            "grid_row": null,
            "grid_template_areas": null,
            "grid_template_columns": null,
            "grid_template_rows": null,
            "height": null,
            "justify_content": null,
            "justify_items": null,
            "left": null,
            "margin": null,
            "max_height": null,
            "max_width": null,
            "min_height": null,
            "min_width": null,
            "object_fit": null,
            "object_position": null,
            "order": null,
            "overflow": null,
            "overflow_x": null,
            "overflow_y": null,
            "padding": null,
            "right": null,
            "top": null,
            "visibility": null,
            "width": null
          }
        },
        "fe63bedbce924346bfa082344678ea32": {
          "model_module": "@jupyter-widgets/controls",
          "model_module_version": "1.5.0",
          "model_name": "HTMLModel",
          "state": {
            "_dom_classes": [],
            "_model_module": "@jupyter-widgets/controls",
            "_model_module_version": "1.5.0",
            "_model_name": "HTMLModel",
            "_view_count": null,
            "_view_module": "@jupyter-widgets/controls",
            "_view_module_version": "1.5.0",
            "_view_name": "HTMLView",
            "description": "",
            "description_tooltip": null,
            "layout": "IPY_MODEL_edb5bf54b8c74c7c8d23c347bb6f40c0",
            "placeholder": "​",
            "style": "IPY_MODEL_a07cfab0d06a4a45b387dc37dfc2671a",
            "value": " 1.27G/1.27G [00:05&lt;00:00, 259MB/s]"
          }
        }
      }
    }
  },
  "nbformat": 4,
  "nbformat_minor": 0
}
