{
  "cells": [
    {
      "cell_type": "code",
      "execution_count": null,
      "metadata": {
        "colab": {
          "base_uri": "https://localhost:8080/"
        },
        "id": "Jqj1V21QZ4yU",
        "outputId": "afb1b611-be7d-463a-f561-3379b918fa1f"
      },
      "outputs": [],
      "source": [
        "import os\n",
        "import shutil\n",
        "from tqdm import tqdm\n",
        "\n",
        "def organize_files(src_root_dir, dst_root_dir):\n",
        "    cases = ['case1', 'case2', 'case3', 'case4']\n",
        "\n",
        "    # Create directories for each case\n",
        "    for case in cases:\n",
        "        case_dir = os.path.join(dst_root_dir, case)\n",
        "        if not os.path.exists(case_dir):\n",
        "            os.makedirs(case_dir)\n",
        "\n",
        "    # Traverse the source directory\n",
        "    for main_dir in tqdm(os.listdir(src_root_dir), desc=\"Processing directories\"):\n",
        "        main_dir_path = os.path.join(src_root_dir, main_dir)\n",
        "        if os.path.isdir(main_dir_path):\n",
        "            for sub_dir in os.listdir(main_dir_path):\n",
        "                sub_dir_path = os.path.join(main_dir_path, sub_dir)\n",
        "                if os.path.isdir(sub_dir_path):\n",
        "                    case_name = sub_dir.split('_')[0]\n",
        "                    case_dir = os.path.join(dst_root_dir, case_name)\n",
        "\n",
        "                    for filename in os.listdir(sub_dir_path):\n",
        "                        if filename.endswith('.wav'):\n",
        "                            src_wav_path = os.path.join(sub_dir_path, filename)\n",
        "                            dst_wav_path = os.path.join(case_dir, f\"{main_dir}_{sub_dir}_{filename}\")\n",
        "                            shutil.copy(src_wav_path, dst_wav_path)\n",
        "                            # print(f\"Copied {src_wav_path} to {dst_wav_path}\")\n",
        "\n",
        "                            # Copy corresponding .npy file\n",
        "                            src_npy_path = src_wav_path.replace('.wav', '.npy')\n",
        "                            dst_npy_path = dst_wav_path.replace('.wav', '.npy')\n",
        "                            if os.path.exists(src_npy_path):\n",
        "                                shutil.copy(src_npy_path, dst_npy_path)\n",
        "                                # print(f\"Copied {src_npy_path} to {dst_npy_path}\")\n",
        "src_directory = 'dataset_1k2k3k_withbandpass_extrafeatures'\n",
        "dst_directory = 'data_1k2k3k_withbandpass_organized_dataset_extrafeatures'\n",
        "    \n",
        "print(f\"源目录: {src_directory}\")\n",
        "print(f\"目标目录: {dst_directory}\")\n",
        "\n",
        "if not os.path.exists(src_directory):\n",
        "    print(f\"源目录不存在: {src_directory}\")\n",
        "    \n",
        "organize_files(src_directory, dst_directory)\n",
        "print(\"文件整理完成。\")"
      ]
    },
    {
      "cell_type": "code",
      "execution_count": 34,
      "metadata": {
        "id": "pFSqZ0jwCMSv"
      },
      "outputs": [],
      "source": [
        "import numpy as np\n",
        "import pandas as pd\n",
        "\n",
        "from pathlib import Path\n",
        "from tqdm import tqdm\n",
        "\n",
        "import torchaudio\n",
        "from sklearn.model_selection import train_test_split\n",
        "import os\n",
        "import sys"
      ]
    },
    {
      "cell_type": "code",
      "execution_count": 35,
      "metadata": {
        "colab": {
          "base_uri": "https://localhost:8080/"
        },
        "id": "7MXAESg_Dqr6",
        "outputId": "5190ad35-d456-4a0b-8f25-201297db492e"
      },
      "outputs": [
        {
          "name": "stderr",
          "output_type": "stream",
          "text": [
            "\n",
            "\u001b[A\n",
            "\u001b[A\n",
            "\u001b[A\n",
            "\u001b[A\n",
            "\u001b[A\n",
            "\u001b[A\n",
            "\u001b[A\n",
            "\u001b[A\n",
            "\u001b[A\n",
            "\u001b[A\n",
            "\u001b[A\n",
            "\u001b[A\n",
            "\u001b[A\n",
            "\u001b[A\n",
            "\u001b[A\n",
            "\u001b[A\n",
            "\u001b[A\n",
            "\u001b[A\n",
            "\u001b[A\n",
            "\u001b[A\n",
            "\u001b[A\n",
            "\u001b[A\n",
            "\u001b[A\n",
            "\u001b[A\n",
            "\u001b[A\n",
            "\u001b[A\n",
            "\u001b[A\n",
            "\u001b[A\n",
            "\u001b[A\n",
            "\u001b[A\n",
            "\u001b[A\n",
            "\u001b[A\n",
            "\u001b[A\n",
            "\u001b[A\n",
            "\u001b[A\n",
            "\u001b[A\n",
            "\u001b[A\n",
            "\u001b[A\n",
            "\u001b[A\n",
            "\u001b[A\n",
            "\u001b[A\n",
            "\u001b[A\n",
            "\u001b[A\n",
            "\u001b[A\n",
            "\u001b[A\n",
            "\u001b[A\n",
            "\u001b[A\n",
            "\u001b[A\n",
            "\u001b[A\n",
            "\u001b[A\n",
            "\u001b[A\n",
            "\u001b[A\n",
            "\u001b[A\n",
            "\u001b[A\n",
            "\u001b[A\n",
            "\u001b[A\n",
            "\u001b[A\n",
            "\u001b[A\n",
            "\u001b[A\n",
            "\u001b[A\n",
            "\u001b[A\n",
            "\u001b[A\n",
            "\u001b[A\n",
            "\u001b[A\n",
            "\u001b[A\n",
            "\u001b[A\n",
            "\u001b[A\n",
            "\u001b[A\n",
            "\u001b[A\n",
            "\u001b[A\n",
            "\u001b[A\n",
            "\u001b[A\n",
            "\u001b[A\n",
            "\u001b[A\n",
            "\u001b[A\n",
            "\u001b[A\n",
            "\u001b[A\n",
            "\u001b[A\n",
            "\u001b[A\n",
            "\u001b[A\n",
            "\u001b[A\n",
            "\u001b[A\n",
            "\u001b[A\n",
            "\u001b[A\n",
            "\u001b[A\n",
            "\u001b[A\n",
            "\u001b[A\n",
            "\u001b[A\n",
            "\u001b[A\n",
            "\u001b[A\n",
            "\u001b[A\n",
            "\u001b[A\n",
            "\u001b[A\n",
            "\u001b[A\n",
            "\u001b[A\n",
            "\u001b[A\n",
            "\u001b[A\n",
            "\u001b[A\n",
            "\u001b[A\n",
            "\u001b[A\n",
            "\u001b[A\n",
            "\u001b[A\n",
            "\u001b[A\n",
            "\u001b[A\n",
            "\u001b[A\n",
            "\u001b[A\n",
            "\u001b[A\n",
            "\u001b[A\n",
            "\u001b[A\n",
            "\u001b[A\n",
            "\u001b[A\n",
            "\u001b[A\n",
            "\u001b[A\n",
            "\u001b[A\n",
            "\u001b[A\n",
            "\u001b[A\n",
            "\u001b[A\n",
            "\u001b[A\n",
            "\u001b[A\n",
            "\u001b[A\n",
            "\u001b[A\n",
            "\u001b[A\n",
            "\u001b[A\n",
            "\u001b[A\n",
            "\u001b[A\n",
            "\u001b[A\n",
            "\u001b[A\n",
            "\u001b[A\n",
            "\u001b[A\n",
            "\u001b[A\n",
            "\u001b[A\n",
            "\u001b[A\n",
            "\u001b[A\n",
            "\u001b[A\n",
            "\u001b[A\n",
            "\u001b[A\n",
            "\u001b[A\n",
            "\u001b[A\n",
            "\u001b[A\n",
            "\u001b[A\n",
            "\u001b[A\n",
            "\u001b[A\n",
            "\u001b[A\n",
            "\u001b[A\n",
            "\u001b[A\n",
            "\u001b[A\n",
            "\u001b[A\n",
            "\u001b[A\n",
            "\u001b[A\n",
            "\u001b[A\n",
            "\u001b[A\n",
            "\u001b[A\n",
            "\u001b[A\n",
            "\u001b[A\n",
            "\u001b[A\n",
            "\u001b[A\n",
            "\u001b[A\n",
            "\u001b[A\n",
            "\u001b[A\n",
            "\u001b[A\n",
            "\u001b[A\n",
            "\u001b[A\n",
            "\u001b[A\n",
            "\u001b[A\n",
            "\u001b[A\n",
            "\u001b[A\n",
            "\u001b[A\n",
            "\u001b[A\n",
            "\u001b[A\n",
            "\u001b[A\n",
            "\u001b[A\n",
            "\u001b[A\n",
            "\u001b[A\n",
            "\u001b[A\n",
            "\u001b[A\n",
            "\u001b[A\n",
            "\u001b[A\n",
            "\u001b[A\n",
            "\u001b[A\n",
            "\u001b[A\n",
            "\u001b[A\n",
            "\u001b[A\n",
            "\u001b[A\n",
            "\u001b[A\n",
            "\u001b[A\n",
            "\u001b[A\n",
            "\u001b[A\n",
            "\u001b[A\n",
            "\u001b[A\n",
            "\u001b[A\n",
            "\u001b[A\n",
            "\u001b[A\n",
            "\u001b[A\n",
            "\u001b[A\n",
            "\u001b[A\n",
            "\u001b[A\n",
            "\u001b[A\n",
            "\u001b[A\n",
            "Processing case4: 1368it [00:26, 52.27it/s]"
          ]
        },
        {
          "name": "stdout",
          "output_type": "stream",
          "text": [
            "Collected 4104 items.\n",
            "\n",
            "Data distribution:\n",
            "case1: 684 items\n",
            "case2: 684 items\n",
            "case3: 1368 items\n",
            "case4: 1368 items\n",
            "\n",
            "Items with energy features: 4104 out of 4104\n"
          ]
        },
        {
          "name": "stderr",
          "output_type": "stream",
          "text": [
            "\n"
          ]
        }
      ],
      "source": [
        "import os\n",
        "from pathlib import Path\n",
        "import torchaudio\n",
        "import numpy as np\n",
        "from tqdm import tqdm\n",
        "\n",
        "data = []\n",
        "\n",
        "for case in ['case1', 'case2', 'case3', 'case4']:\n",
        "    case_path = Path(f'data_1k2k3k_withbandpass_organized_dataset_extrafeatures/{case}')\n",
        "    for path in tqdm(case_path.glob(\"*.wav\"), desc=f\"Processing {case}\"):\n",
        "        name = path.stem\n",
        "        # 获取文件名的各个部分\n",
        "        parts = path.name.split('_')\n",
        "        prefix = parts[0]  # 前缀\n",
        "        case_id = '_'.join(parts[1:-2])  # case_id（可能包含多个部分）\n",
        "        sample_set = parts[-2]  # sample_set\n",
        "\n",
        "        try:\n",
        "            # 加载音频文件\n",
        "            audio, sr = torchaudio.load(path)\n",
        "            \n",
        "            # 加载对应的 .npy 文件\n",
        "            npy_path = path.with_suffix('.npy')\n",
        "            if npy_path.exists():\n",
        "                energy_features = np.load(npy_path)\n",
        "            else:\n",
        "                energy_features = None\n",
        "                print(f\"Warning: No .npy file found for {path}\")\n",
        "\n",
        "            data.append({\n",
        "                \"name\": name,\n",
        "                \"path\": str(path),\n",
        "                \"case\": case,\n",
        "                \"prefix\": prefix,\n",
        "                \"case_id\": case_id,\n",
        "                \"sample_set\": sample_set,\n",
        "                \"audio\": audio,\n",
        "                \"sr\": sr,\n",
        "                \"energy_features\": energy_features\n",
        "            })\n",
        "        except Exception as e:\n",
        "            print(f\"Error processing file {path}: {str(e)}\")\n",
        "            # 跳过损坏的文件\n",
        "            pass\n",
        "\n",
        "# 显示收集到的数据条目数\n",
        "print(f\"Collected {len(data)} items.\")\n",
        "\n",
        "# 数据统计\n",
        "case_counts = {case: sum(1 for item in data if item['case'] == case) for case in ['case1', 'case2', 'case3', 'case4']}\n",
        "print(\"\\nData distribution:\")\n",
        "for case, count in case_counts.items():\n",
        "    print(f\"{case}: {count} items\")\n",
        "\n",
        "# 检查是否所有项目都有能量特征\n",
        "items_with_features = sum(1 for item in data if item['energy_features'] is not None)\n",
        "print(f\"\\nItems with energy features: {items_with_features} out of {len(data)}\")"
      ]
    },
    {
      "cell_type": "code",
      "execution_count": 36,
      "metadata": {},
      "outputs": [
        {
          "data": {
            "text/html": [
              "<div>\n",
              "<style scoped>\n",
              "    .dataframe tbody tr th:only-of-type {\n",
              "        vertical-align: middle;\n",
              "    }\n",
              "\n",
              "    .dataframe tbody tr th {\n",
              "        vertical-align: top;\n",
              "    }\n",
              "\n",
              "    .dataframe thead th {\n",
              "        text-align: right;\n",
              "    }\n",
              "</style>\n",
              "<table border=\"1\" class=\"dataframe\">\n",
              "  <thead>\n",
              "    <tr style=\"text-align: right;\">\n",
              "      <th></th>\n",
              "      <th>name</th>\n",
              "      <th>path</th>\n",
              "      <th>case</th>\n",
              "      <th>prefix</th>\n",
              "      <th>case_id</th>\n",
              "      <th>sample_set</th>\n",
              "      <th>audio</th>\n",
              "      <th>sr</th>\n",
              "      <th>energy_features</th>\n",
              "    </tr>\n",
              "  </thead>\n",
              "  <tbody>\n",
              "    <tr>\n",
              "      <th>0</th>\n",
              "      <td>A10_case1_1_sample_10_1</td>\n",
              "      <td>data_1k2k3k_withbandpass_organized_dataset_ext...</td>\n",
              "      <td>case1</td>\n",
              "      <td>A10</td>\n",
              "      <td>case1_1_sample</td>\n",
              "      <td>10</td>\n",
              "      <td>[[tensor(0.), tensor(0.), tensor(0.), tensor(0...</td>\n",
              "      <td>44100</td>\n",
              "      <td>[16.78448970500176]</td>\n",
              "    </tr>\n",
              "    <tr>\n",
              "      <th>1</th>\n",
              "      <td>A10_case1_1_sample_11_2</td>\n",
              "      <td>data_1k2k3k_withbandpass_organized_dataset_ext...</td>\n",
              "      <td>case1</td>\n",
              "      <td>A10</td>\n",
              "      <td>case1_1_sample</td>\n",
              "      <td>11</td>\n",
              "      <td>[[tensor(-3.0518e-05), tensor(-3.0518e-05), te...</td>\n",
              "      <td>44100</td>\n",
              "      <td>[1759.3997667828337]</td>\n",
              "    </tr>\n",
              "    <tr>\n",
              "      <th>2</th>\n",
              "      <td>A10_case1_1_sample_12_3</td>\n",
              "      <td>data_1k2k3k_withbandpass_organized_dataset_ext...</td>\n",
              "      <td>case1</td>\n",
              "      <td>A10</td>\n",
              "      <td>case1_1_sample</td>\n",
              "      <td>12</td>\n",
              "      <td>[[tensor(0.), tensor(0.), tensor(0.), tensor(0...</td>\n",
              "      <td>44100</td>\n",
              "      <td>[157.18668590383268]</td>\n",
              "    </tr>\n",
              "    <tr>\n",
              "      <th>3</th>\n",
              "      <td>A10_case1_1_sample_13_1</td>\n",
              "      <td>data_1k2k3k_withbandpass_organized_dataset_ext...</td>\n",
              "      <td>case1</td>\n",
              "      <td>A10</td>\n",
              "      <td>case1_1_sample</td>\n",
              "      <td>13</td>\n",
              "      <td>[[tensor(0.), tensor(-3.0518e-05), tensor(-3.0...</td>\n",
              "      <td>44100</td>\n",
              "      <td>[0.0]</td>\n",
              "    </tr>\n",
              "    <tr>\n",
              "      <th>4</th>\n",
              "      <td>A10_case1_1_sample_14_2</td>\n",
              "      <td>data_1k2k3k_withbandpass_organized_dataset_ext...</td>\n",
              "      <td>case1</td>\n",
              "      <td>A10</td>\n",
              "      <td>case1_1_sample</td>\n",
              "      <td>14</td>\n",
              "      <td>[[tensor(0.), tensor(0.), tensor(0.), tensor(0...</td>\n",
              "      <td>44100</td>\n",
              "      <td>[1759.3978719585243]</td>\n",
              "    </tr>\n",
              "  </tbody>\n",
              "</table>\n",
              "</div>"
            ],
            "text/plain": [
              "                      name                                               path  \\\n",
              "0  A10_case1_1_sample_10_1  data_1k2k3k_withbandpass_organized_dataset_ext...   \n",
              "1  A10_case1_1_sample_11_2  data_1k2k3k_withbandpass_organized_dataset_ext...   \n",
              "2  A10_case1_1_sample_12_3  data_1k2k3k_withbandpass_organized_dataset_ext...   \n",
              "3  A10_case1_1_sample_13_1  data_1k2k3k_withbandpass_organized_dataset_ext...   \n",
              "4  A10_case1_1_sample_14_2  data_1k2k3k_withbandpass_organized_dataset_ext...   \n",
              "\n",
              "    case prefix         case_id sample_set  \\\n",
              "0  case1    A10  case1_1_sample         10   \n",
              "1  case1    A10  case1_1_sample         11   \n",
              "2  case1    A10  case1_1_sample         12   \n",
              "3  case1    A10  case1_1_sample         13   \n",
              "4  case1    A10  case1_1_sample         14   \n",
              "\n",
              "                                               audio     sr  \\\n",
              "0  [[tensor(0.), tensor(0.), tensor(0.), tensor(0...  44100   \n",
              "1  [[tensor(-3.0518e-05), tensor(-3.0518e-05), te...  44100   \n",
              "2  [[tensor(0.), tensor(0.), tensor(0.), tensor(0...  44100   \n",
              "3  [[tensor(0.), tensor(-3.0518e-05), tensor(-3.0...  44100   \n",
              "4  [[tensor(0.), tensor(0.), tensor(0.), tensor(0...  44100   \n",
              "\n",
              "        energy_features  \n",
              "0   [16.78448970500176]  \n",
              "1  [1759.3997667828337]  \n",
              "2  [157.18668590383268]  \n",
              "3                 [0.0]  \n",
              "4  [1759.3978719585243]  "
            ]
          },
          "execution_count": 36,
          "metadata": {},
          "output_type": "execute_result"
        }
      ],
      "source": [
        "import pandas as pd\n",
        "df = pd.DataFrame(data)\n",
        "df.head()"
      ]
    },
    {
      "cell_type": "code",
      "execution_count": 37,
      "metadata": {
        "colab": {
          "base_uri": "https://localhost:8080/",
          "height": 206
        },
        "id": "10b89ZpLDqx9",
        "outputId": "9fcff095-47fb-462b-965a-1889bf392fa9"
      },
      "outputs": [],
      "source": [
        "import pandas as pd\n",
        "df = pd.DataFrame(data)\n",
        "df.head()\n",
        "df = df.sample(frac=1).reset_index(drop=True)"
      ]
    },
    {
      "cell_type": "markdown",
      "metadata": {
        "id": "i2hwRai7BNrx"
      },
      "source": [
        "Let's display some random sample of the dataset and run it a couple of times to get a feeling for the audio and the emotional label."
      ]
    },
    {
      "cell_type": "code",
      "execution_count": 66,
      "metadata": {
        "colab": {
          "base_uri": "https://localhost:8080/",
          "height": 494,
          "referenced_widgets": [
            "6bc9503574d646bbb4af755e3cd3e3bd",
            "02466142c6c24bb3a76bfe582e2c98d7",
            "2375620c24ce43a5a7cdc67a7195ba62",
            "97696705d820421facb0f6b00c317f89",
            "070519028e4e4e939e848791c8fba4f8",
            "cdb05b93e52b42a0bd8bb3cf793273b8",
            "125bf3d9cbae4b36ae8d08ad88419eac",
            "8f24bd1dd65f47f797e016586877ce78",
            "b6e672714fc5455fbaf2a6e7044f6046",
            "b814dee7fda444d586722ed29f88b054",
            "b7846c0e8e0a4d1897ac0e87159f6899",
            "47089d15d93f410ab5e8b9e3033cd463",
            "82c261d0020449e88f80f5d76faed453",
            "c4cfee75c9d14d2bafcfbf871ce3fbc8",
            "87c56116531948338d5f2dde995cc9ac",
            "5d8332f417304126b6c759c059639431",
            "cdc8ec639d354fe88cdb118dbe155a29",
            "e1c94b90d50948f0977e923b1c4eae6e",
            "a113ecbb240a4a30a0b3e346f01e12dd",
            "45212ee9f7dc486fadc535e9a90f1420",
            "61af082e366c4e88bd0a39f6a474efff",
            "9c0ba2b7274a4d379fbe0ae75edd8819"
          ]
        },
        "id": "mlim-044xtJN",
        "outputId": "6c4c8da3-b851-4f25-b911-0e7d9ae0ad06"
      },
      "outputs": [
        {
          "name": "stdout",
          "output_type": "stream",
          "text": [
            "Train dataset shape: (3283, 10)\n",
            "Test dataset shape: (821, 10)\n"
          ]
        },
        {
          "name": "stderr",
          "output_type": "stream",
          "text": [
            "Generating train split: 3283 examples [00:00, 184474.31 examples/s]\n",
            "Generating validation split: 821 examples [00:00, 118725.82 examples/s]\n"
          ]
        },
        {
          "name": "stdout",
          "output_type": "stream",
          "text": [
            "Train dataset preview:\n",
            "{'name': ['A5_case1_2_sample_8_2', 'A1_case4_10_sample_57_1', 'E4_case1_1_sample_7_1', 'E11_case1_1_sample_4_1', 'A6_case4_10_sample_58_1'], 'path': ['data_1k2k3k_withbandpass_organized_dataset_extrafeatures\\\\case1\\\\A5_case1_2_sample_8_2.wav', 'data_1k2k3k_withbandpass_organized_dataset_extrafeatures\\\\case4\\\\A1_case4_10_sample_57_1.wav', 'data_1k2k3k_withbandpass_organized_dataset_extrafeatures\\\\case1\\\\E4_case1_1_sample_7_1.wav', 'data_1k2k3k_withbandpass_organized_dataset_extrafeatures\\\\case1\\\\E11_case1_1_sample_4_1.wav', 'data_1k2k3k_withbandpass_organized_dataset_extrafeatures\\\\case4\\\\A6_case4_10_sample_58_1.wav'], 'case': ['case1', 'case4', 'case1', 'case1', 'case4'], 'prefix': ['A5', 'A1', 'E4', 'E11', 'A6'], 'case_id': ['case1_2_sample', 'case4_10_sample', 'case1_1_sample', 'case1_1_sample', 'case4_10_sample'], 'sample_set': [8, 57, 7, 4, 58], 'audio': ['tensor([[ 0.0000e+00, -3.0518e-05, -3.0518e-05,  ...,  3.3569e-04,\\n          3.3569e-04,  2.7466e-04]])', 'tensor([[ 0.0000,  0.0000,  0.0000,  ..., -0.0611,  0.0461,  0.1450]])', 'tensor([[-3.0518e-05, -3.0518e-05, -3.0518e-05,  ..., -9.3048e-02,\\n          9.9182e-03,  1.1108e-01]])', 'tensor([[ 0.0000,  0.0000,  0.0000,  ..., -0.0455,  0.0063,  0.0571]])', 'tensor([[ 0.0000,  0.0000,  0.0000,  ..., -0.0147,  0.0937,  0.1852]])'], 'sr': [44100, 44100, 44100, 44100, 44100], 'energy_features': ['[127.04822707]', '[107.39481748]', '[0.]', '[0.48084873]', '[5.35901215]'], 'energy_features_path': ['data_1k2k3k_withbandpass_organized_dataset_extrafeatures\\\\case1\\\\A5_case1_2_sample_8_2.npy', 'data_1k2k3k_withbandpass_organized_dataset_extrafeatures\\\\case4\\\\A1_case4_10_sample_57_1.npy', 'data_1k2k3k_withbandpass_organized_dataset_extrafeatures\\\\case1\\\\E4_case1_1_sample_7_1.npy', 'data_1k2k3k_withbandpass_organized_dataset_extrafeatures\\\\case1\\\\E11_case1_1_sample_4_1.npy', 'data_1k2k3k_withbandpass_organized_dataset_extrafeatures\\\\case4\\\\A6_case4_10_sample_58_1.npy']}\n",
            "Validation dataset preview:\n",
            "{'name': ['E2_case4_5_sample_30_2', 'E11_case3_8_sample_43_2', 'E11_case1_2_sample_16_1', 'A4_case2_2_sample_9_1', 'A2_case4_11_sample_65_2'], 'path': ['data_1k2k3k_withbandpass_organized_dataset_extrafeatures\\\\case4\\\\E2_case4_5_sample_30_2.wav', 'data_1k2k3k_withbandpass_organized_dataset_extrafeatures\\\\case3\\\\E11_case3_8_sample_43_2.wav', 'data_1k2k3k_withbandpass_organized_dataset_extrafeatures\\\\case1\\\\E11_case1_2_sample_16_1.wav', 'data_1k2k3k_withbandpass_organized_dataset_extrafeatures\\\\case2\\\\A4_case2_2_sample_9_1.wav', 'data_1k2k3k_withbandpass_organized_dataset_extrafeatures\\\\case4\\\\A2_case4_11_sample_65_2.wav'], 'case': ['case4', 'case3', 'case1', 'case2', 'case4'], 'prefix': ['E2', 'E11', 'E11', 'A4', 'A2'], 'case_id': ['case4_5_sample', 'case3_8_sample', 'case1_2_sample', 'case2_2_sample', 'case4_11_sample'], 'sample_set': [30, 43, 16, 9, 65], 'audio': ['tensor([[0.0000, 0.0000, 0.0000,  ..., 0.0402, 0.0503, 0.0562]])', 'tensor([[0.0000, 0.0000, 0.0000,  ..., 0.0395, 0.0491, 0.0548]])', 'tensor([[ 0.0000,  0.0000,  0.0000,  ..., -0.0295,  0.0233,  0.0719]])', 'tensor([[-3.0518e-05, -3.0518e-05, -3.0518e-05,  ...,  1.2482e-02,\\n          1.0605e-01,  1.8051e-01]])', 'tensor([[ 0.0000,  0.0000,  0.0000,  ..., -0.0287, -0.0399, -0.0479]])'], 'sr': [44100, 44100, 44100, 44100, 44100], 'energy_features': ['[4.3254431]', '[8.3484778]', '[5.16627895]', '[70.20438448]', '[3.93247147]'], 'energy_features_path': ['data_1k2k3k_withbandpass_organized_dataset_extrafeatures\\\\case4\\\\E2_case4_5_sample_30_2.npy', 'data_1k2k3k_withbandpass_organized_dataset_extrafeatures\\\\case3\\\\E11_case3_8_sample_43_2.npy', 'data_1k2k3k_withbandpass_organized_dataset_extrafeatures\\\\case1\\\\E11_case1_2_sample_16_1.npy', 'data_1k2k3k_withbandpass_organized_dataset_extrafeatures\\\\case2\\\\A4_case2_2_sample_9_1.npy', 'data_1k2k3k_withbandpass_organized_dataset_extrafeatures\\\\case4\\\\A2_case4_11_sample_65_2.npy']}\n",
            "Sample count per case in training dataset:\n",
            "case\n",
            "case3    1095\n",
            "case4    1094\n",
            "case1     547\n",
            "case2     547\n",
            "Name: count, dtype: int64\n",
            "Sample count per case in validation dataset:\n",
            "case\n",
            "case4    274\n",
            "case3    273\n",
            "case1    137\n",
            "case2    137\n",
            "Name: count, dtype: int64\n",
            "A classification problem with 4 classes: ['case1', 'case2', 'case3', 'case4']\n"
          ]
        },
        {
          "name": "stderr",
          "output_type": "stream",
          "text": [
            "Map: 100%|██████████| 3283/3283 [00:01<00:00, 2913.22 examples/s]\n",
            "Map: 100%|██████████| 821/821 [00:00<00:00, 2783.30 examples/s]\n"
          ]
        },
        {
          "name": "stdout",
          "output_type": "stream",
          "text": [
            "Train dataset with energy features:\n",
            "{'name': ['A5_case1_2_sample_8_2', 'A1_case4_10_sample_57_1', 'E4_case1_1_sample_7_1', 'E11_case1_1_sample_4_1', 'A6_case4_10_sample_58_1'], 'path': ['data_1k2k3k_withbandpass_organized_dataset_extrafeatures\\\\case1\\\\A5_case1_2_sample_8_2.wav', 'data_1k2k3k_withbandpass_organized_dataset_extrafeatures\\\\case4\\\\A1_case4_10_sample_57_1.wav', 'data_1k2k3k_withbandpass_organized_dataset_extrafeatures\\\\case1\\\\E4_case1_1_sample_7_1.wav', 'data_1k2k3k_withbandpass_organized_dataset_extrafeatures\\\\case1\\\\E11_case1_1_sample_4_1.wav', 'data_1k2k3k_withbandpass_organized_dataset_extrafeatures\\\\case4\\\\A6_case4_10_sample_58_1.wav'], 'case': ['case1', 'case4', 'case1', 'case1', 'case4'], 'prefix': ['A5', 'A1', 'E4', 'E11', 'A6'], 'case_id': ['case1_2_sample', 'case4_10_sample', 'case1_1_sample', 'case1_1_sample', 'case4_10_sample'], 'sample_set': [8, 57, 7, 4, 58], 'audio': ['tensor([[ 0.0000e+00, -3.0518e-05, -3.0518e-05,  ...,  3.3569e-04,\\n          3.3569e-04,  2.7466e-04]])', 'tensor([[ 0.0000,  0.0000,  0.0000,  ..., -0.0611,  0.0461,  0.1450]])', 'tensor([[-3.0518e-05, -3.0518e-05, -3.0518e-05,  ..., -9.3048e-02,\\n          9.9182e-03,  1.1108e-01]])', 'tensor([[ 0.0000,  0.0000,  0.0000,  ..., -0.0455,  0.0063,  0.0571]])', 'tensor([[ 0.0000,  0.0000,  0.0000,  ..., -0.0147,  0.0937,  0.1852]])'], 'sr': [44100, 44100, 44100, 44100, 44100], 'energy_features': [[127.0482270736867], [107.39481747573018], [0.0], [0.48084873418110874], [5.359012154593074]], 'energy_features_path': ['data_1k2k3k_withbandpass_organized_dataset_extrafeatures\\\\case1\\\\A5_case1_2_sample_8_2.npy', 'data_1k2k3k_withbandpass_organized_dataset_extrafeatures\\\\case4\\\\A1_case4_10_sample_57_1.npy', 'data_1k2k3k_withbandpass_organized_dataset_extrafeatures\\\\case1\\\\E4_case1_1_sample_7_1.npy', 'data_1k2k3k_withbandpass_organized_dataset_extrafeatures\\\\case1\\\\E11_case1_1_sample_4_1.npy', 'data_1k2k3k_withbandpass_organized_dataset_extrafeatures\\\\case4\\\\A6_case4_10_sample_58_1.npy']}\n",
            "Validation dataset with energy features:\n",
            "{'name': ['E2_case4_5_sample_30_2', 'E11_case3_8_sample_43_2', 'E11_case1_2_sample_16_1', 'A4_case2_2_sample_9_1', 'A2_case4_11_sample_65_2'], 'path': ['data_1k2k3k_withbandpass_organized_dataset_extrafeatures\\\\case4\\\\E2_case4_5_sample_30_2.wav', 'data_1k2k3k_withbandpass_organized_dataset_extrafeatures\\\\case3\\\\E11_case3_8_sample_43_2.wav', 'data_1k2k3k_withbandpass_organized_dataset_extrafeatures\\\\case1\\\\E11_case1_2_sample_16_1.wav', 'data_1k2k3k_withbandpass_organized_dataset_extrafeatures\\\\case2\\\\A4_case2_2_sample_9_1.wav', 'data_1k2k3k_withbandpass_organized_dataset_extrafeatures\\\\case4\\\\A2_case4_11_sample_65_2.wav'], 'case': ['case4', 'case3', 'case1', 'case2', 'case4'], 'prefix': ['E2', 'E11', 'E11', 'A4', 'A2'], 'case_id': ['case4_5_sample', 'case3_8_sample', 'case1_2_sample', 'case2_2_sample', 'case4_11_sample'], 'sample_set': [30, 43, 16, 9, 65], 'audio': ['tensor([[0.0000, 0.0000, 0.0000,  ..., 0.0402, 0.0503, 0.0562]])', 'tensor([[0.0000, 0.0000, 0.0000,  ..., 0.0395, 0.0491, 0.0548]])', 'tensor([[ 0.0000,  0.0000,  0.0000,  ..., -0.0295,  0.0233,  0.0719]])', 'tensor([[-3.0518e-05, -3.0518e-05, -3.0518e-05,  ...,  1.2482e-02,\\n          1.0605e-01,  1.8051e-01]])', 'tensor([[ 0.0000,  0.0000,  0.0000,  ..., -0.0287, -0.0399, -0.0479]])'], 'sr': [44100, 44100, 44100, 44100, 44100], 'energy_features': [[4.3254430978560094], [8.348477798120541], [5.166278954297468], [70.20438448204004], [3.93247146515111]], 'energy_features_path': ['data_1k2k3k_withbandpass_organized_dataset_extrafeatures\\\\case4\\\\E2_case4_5_sample_30_2.npy', 'data_1k2k3k_withbandpass_organized_dataset_extrafeatures\\\\case3\\\\E11_case3_8_sample_43_2.npy', 'data_1k2k3k_withbandpass_organized_dataset_extrafeatures\\\\case1\\\\E11_case1_2_sample_16_1.npy', 'data_1k2k3k_withbandpass_organized_dataset_extrafeatures\\\\case2\\\\A4_case2_2_sample_9_1.npy', 'data_1k2k3k_withbandpass_organized_dataset_extrafeatures\\\\case4\\\\A2_case4_11_sample_65_2.npy']}\n",
            "Train samples with energy features: 3283 out of 3283\n",
            "Validation samples with energy features: 821 out of 821\n"
          ]
        }
      ],
      "source": [
        "import os\n",
        "import pandas as pd\n",
        "import torchaudio\n",
        "import librosa\n",
        "import numpy as np\n",
        "import torch\n",
        "from sklearn.model_selection import train_test_split\n",
        "from tqdm import tqdm\n",
        "from pathlib import Path\n",
        "from datasets import load_dataset, Dataset\n",
        "\n",
        "save_path = \"data_1k2k3k_withbandpass_organized_dataset_extrafeatures\"\n",
        "\n",
        "# 确保 df 中包含 energy_features_path\n",
        "df['energy_features_path'] = df['path'].apply(lambda x: x.replace('.wav', '.npy'))\n",
        "\n",
        "# 使用 \"case\" 标签进行 stratify\n",
        "train_df, test_df = train_test_split(df, test_size=0.2, random_state=101, stratify=df[\"case\"])\n",
        "\n",
        "# 重置索引\n",
        "train_df = train_df.reset_index(drop=True)\n",
        "test_df = test_df.reset_index(drop=True)\n",
        "\n",
        "# 保存为 CSV 文件\n",
        "os.makedirs(save_path, exist_ok=True)\n",
        "train_df.to_csv(f\"{save_path}/train.csv\", sep=\"\\t\", encoding=\"utf-8\", index=False)\n",
        "test_df.to_csv(f\"{save_path}/test.csv\", sep=\"\\t\", encoding=\"utf-8\", index=False)\n",
        "\n",
        "# 打印数据集的形状\n",
        "print(\"Train dataset shape:\", train_df.shape)\n",
        "print(\"Test dataset shape:\", test_df.shape)\n",
        "\n",
        "# 加载数据集\n",
        "data_files = {\n",
        "    \"train\": f\"{save_path}/train.csv\",\n",
        "    \"validation\": f\"{save_path}/test.csv\",\n",
        "}\n",
        "\n",
        "dataset = load_dataset(\"csv\", data_files=data_files, delimiter=\"\\t\")\n",
        "train_dataset = dataset[\"train\"]\n",
        "eval_dataset = dataset[\"validation\"]\n",
        "\n",
        "# 指定输入和输出列\n",
        "input_column = \"path\"\n",
        "output_column = \"case\"\n",
        "\n",
        "# 打印数据集的前几行，检查数据完整性\n",
        "print(\"Train dataset preview:\")\n",
        "print(train_dataset[:5])\n",
        "print(\"Validation dataset preview:\")\n",
        "print(eval_dataset[:5])\n",
        "\n",
        "# 打印每个 case 的样本数\n",
        "print(\"Sample count per case in training dataset:\")\n",
        "print(train_dataset.to_pandas()[output_column].value_counts())\n",
        "print(\"Sample count per case in validation dataset:\")\n",
        "print(eval_dataset.to_pandas()[output_column].value_counts())\n",
        "\n",
        "# 识别和排序标签列表\n",
        "label_list = train_dataset.unique(output_column)\n",
        "label_list.sort()  # Let's sort it for determinism\n",
        "num_labels = len(label_list)\n",
        "print(f\"A classification problem with {num_labels} classes: {label_list}\")\n",
        "\n",
        "# 加载能量特征\n",
        "def load_energy_features(example):\n",
        "    energy_path = example.get('energy_features_path')\n",
        "    if energy_path and os.path.exists(energy_path):\n",
        "        try:\n",
        "            example['energy_features'] = np.load(energy_path).tolist()\n",
        "        except Exception as e:\n",
        "            print(f\"Error loading energy features from {energy_path}: {e}\")\n",
        "            example['energy_features'] = None\n",
        "    else:\n",
        "        example['energy_features'] = None\n",
        "    return example\n",
        "\n",
        "train_dataset = train_dataset.map(load_energy_features)\n",
        "eval_dataset = eval_dataset.map(load_energy_features)\n",
        "\n",
        "# 检查能量特征加载情况\n",
        "print(\"Train dataset with energy features:\")\n",
        "print(train_dataset[:5])\n",
        "print(\"Validation dataset with energy features:\")\n",
        "print(eval_dataset[:5])\n",
        "\n",
        "# 统计包含能量特征的样本数\n",
        "train_with_features = sum(1 for item in train_dataset if item['energy_features'] is not None)\n",
        "eval_with_features = sum(1 for item in eval_dataset if item['energy_features'] is not None)\n",
        "print(f\"Train samples with energy features: {train_with_features} out of {len(train_dataset)}\")\n",
        "print(f\"Validation samples with energy features: {eval_with_features} out of {len(eval_dataset)}\")"
      ]
    },
    {
      "cell_type": "markdown",
      "metadata": {
        "id": "kcnD-d_rDElt"
      },
      "source": [
        "## Prepare Data for Training"
      ]
    },
    {
      "cell_type": "code",
      "execution_count": 39,
      "metadata": {
        "colab": {
          "base_uri": "https://localhost:8080/"
        },
        "id": "nnVfxQYDDIc6",
        "outputId": "94ecaca5-e6ca-4dc3-a924-9a71da48628c"
      },
      "outputs": [
        {
          "name": "stdout",
          "output_type": "stream",
          "text": [
            "Dataset({\n",
            "    features: ['name', 'path', 'case', 'prefix', 'case_id', 'sample_set', 'audio', 'sr', 'energy_features', 'energy_features_path'],\n",
            "    num_rows: 3283\n",
            "})\n",
            "Dataset({\n",
            "    features: ['name', 'path', 'case', 'prefix', 'case_id', 'sample_set', 'audio', 'sr', 'energy_features', 'energy_features_path'],\n",
            "    num_rows: 821\n",
            "})\n"
          ]
        }
      ],
      "source": [
        "# Loading the created dataset using datasets\n",
        "from datasets import load_dataset\n",
        "\n",
        "# 定义数据文件路径\n",
        "data_files = {\n",
        "    \"train\": \"data_1k2k3k_withbandpass_organized_dataset_extrafeatures/train.csv\",\n",
        "    \"validation\": \"data_1k2k3k_withbandpass_organized_dataset_extrafeatures/test.csv\",\n",
        "}\n",
        "\n",
        "# 加载数据集\n",
        "dataset = load_dataset(\"csv\", data_files=data_files, delimiter=\"\\t\")\n",
        "train_dataset = dataset[\"train\"]\n",
        "eval_dataset = dataset[\"validation\"]\n",
        "\n",
        "# 打印数据集信息\n",
        "print(train_dataset)\n",
        "print(eval_dataset)\n"
      ]
    },
    {
      "cell_type": "code",
      "execution_count": 40,
      "metadata": {
        "id": "rsOrQPBOEVOy"
      },
      "outputs": [],
      "source": [
        "input_column = \"path\"\n",
        "output_column = \"case\""
      ]
    },
    {
      "cell_type": "code",
      "execution_count": 41,
      "metadata": {
        "colab": {
          "base_uri": "https://localhost:8080/"
        },
        "id": "-gh7fQ1XEpC7",
        "outputId": "ff243bf8-1714-42e6-f126-c6926735e475"
      },
      "outputs": [
        {
          "name": "stdout",
          "output_type": "stream",
          "text": [
            "A classification problem with 4 classes: ['case1', 'case2', 'case3', 'case4']\n"
          ]
        }
      ],
      "source": [
        "# we need to distinguish the unique labels in our SER dataset\n",
        "label_list = train_dataset.unique(output_column)\n",
        "label_list.sort()  # Let's sort it for determinism\n",
        "num_labels = len(label_list)\n",
        "print(f\"A classification problem with {num_labels} classes: {label_list}\")"
      ]
    },
    {
      "cell_type": "markdown",
      "metadata": {
        "id": "4TkGYrVTFR6Y"
      },
      "source": [
        "In order to preprocess the audio into our classification model, we need to set up the relevant Wav2Vec2 assets regarding our language in this case `lighteternal/wav2vec2-large-xlsr-53-greek` fine-tuned by [Dimitris Papadopoulos](https://huggingface.co/lighteternal/wav2vec2-large-xlsr-53-greek). To handle the context representations in any audio length we use a merge strategy plan (pooling mode) to concatenate that 3D representations into 2D representations.\n",
        "\n",
        "There are three merge strategies `mean`, `sum`, and `max`. In this example, we achieved better results on the mean approach. In the following, we need to initiate the config and the feature extractor from the Dimitris model."
      ]
    },
    {
      "cell_type": "code",
      "execution_count": 42,
      "metadata": {
        "colab": {
          "base_uri": "https://localhost:8080/",
          "height": 123,
          "referenced_widgets": [
            "60258d4042104391b1d42a4685c0225d",
            "1bb9aa9295424199b91ecc09cade6f54",
            "68d9fd60ec964e2db65959db15cab40f",
            "a7fc064c52654dc2981760a2e3e0f2d7",
            "84df066719e341d6a99a9a7524c19fe6",
            "6609441304d7482bb49e92f293f4d4dc",
            "7729c08261484537851400243a9f7686",
            "c3420f433c4d447593e7e579380acb9b",
            "fabba6c7e45a4f1a90934107c9384cfd",
            "faeaeb0489604dd19390c80d03bf42e0",
            "1d7b73b315704b3ca070d2034c0a18be"
          ]
        },
        "id": "rQrGaFohGzVo",
        "outputId": "bbc35250-0618-4305-937c-7a3c36f0ec4b"
      },
      "outputs": [],
      "source": [
        "from transformers import AutoConfig, Wav2Vec2Processor"
      ]
    },
    {
      "cell_type": "code",
      "execution_count": 43,
      "metadata": {
        "id": "9Y1adr7vFrq7"
      },
      "outputs": [],
      "source": [
        "model_name_or_path = \"c3f9d884181a224a6ac87bf8885c84d1cff3384f\"\n",
        "pooling_mode = \"mean\""
      ]
    },
    {
      "cell_type": "code",
      "execution_count": 44,
      "metadata": {
        "colab": {
          "base_uri": "https://localhost:8080/",
          "height": 156,
          "referenced_widgets": [
            "2e4ba782559a447a8570f0cb58593e6a",
            "7a811ac4270b46f18711a2e2ffcd6b14",
            "9cd90d97577c4e41b13f32567f2a313a",
            "f4a32c227a044ee6ba3977a5d0988ab0",
            "a3eede0e854a4ae393cc9cec3970f5aa",
            "3ee888a18f6b4979a54eb7b4ad4c735f",
            "66cf60d1131d41789f2ac6dd40433f51",
            "08446a145df74417a74adf87504850eb",
            "be773d9d20c344b2922ff4f72a58009b",
            "72394a869e404ef58467494a8c5d9d8e",
            "7be10ad736f346e59b64b8761e70a4e4"
          ]
        },
        "id": "AZjDSmBRGqr6",
        "outputId": "314220b3-c3d6-484f-ec39-0a18ae10e769"
      },
      "outputs": [],
      "source": [
        "# config\n",
        "config = AutoConfig.from_pretrained(\n",
        "    model_name_or_path,\n",
        "    num_labels=num_labels,\n",
        "    label2id={label: i for i, label in enumerate(label_list)},\n",
        "    id2label={i: label for i, label in enumerate(label_list)},\n",
        "    finetuning_task=\"audio_classification\",\n",
        ")\n",
        "setattr(config, 'pooling_mode', pooling_mode)\n",
        "\n",
        "setattr(config, 'use_energy_features', True)\n",
        "setattr(config, 'energy_feature_dim', 2)  # 修改为2，表示使用2维能量特征"
      ]
    },
    {
      "cell_type": "code",
      "execution_count": 45,
      "metadata": {
        "colab": {
          "base_uri": "https://localhost:8080/",
          "height": 67,
          "referenced_widgets": [
            "a386b101bf804f0f9a0f71412072e0d4",
            "a146d1bd9344405a8131c42e0e8d70e7",
            "5646d6b3cf974c3d9b2571d8556cc92a",
            "0436f4ba0a344253a944b70f249361a9",
            "03955f8da28241dfa158a9afaecbe02b",
            "414b962a3115441da7ea56525e11565c",
            "e0f08ac478154dfd88d58b30096cf6c0",
            "2571030dc32442098ba7caddbbbaea1d",
            "c174b22e20fe4b2692b26e6ce60e97e8",
            "5f905354208a4e9896ecfc3f13679baf",
            "c8d3126fbda14474aad4d9712a3cfe50"
          ]
        },
        "id": "ZXVl9qW1Gw_-",
        "outputId": "a8519e5d-5d2f-4f53-dba8-831c068d63aa"
      },
      "outputs": [
        {
          "name": "stdout",
          "output_type": "stream",
          "text": [
            "The target sampling rate: 16000\n"
          ]
        }
      ],
      "source": [
        "# processor = Wav2Vec2Processor.from_pretrained(model_name_or_path,)\n",
        "from transformers import Wav2Vec2FeatureExtractor\n",
        "processor = Wav2Vec2FeatureExtractor.from_pretrained(model_name_or_path)\n",
        "# target_sampling_rate = processor.feature_extractor.sampling_rate\n",
        "target_sampling_rate = 16000\n",
        "print(f\"The target sampling rate: {target_sampling_rate}\")"
      ]
    },
    {
      "cell_type": "markdown",
      "metadata": {
        "id": "CbGuYgLqHXZg"
      },
      "source": [
        "# Preprocess Data"
      ]
    },
    {
      "cell_type": "markdown",
      "metadata": {
        "id": "qLk-eM1DFjtE"
      },
      "source": [
        "So far, we downloaded, loaded, and split the SER dataset into train and test sets. The instantiated our strategy configuration for using context representations in our classification problem SER. Now, we need to extract features from the audio path in context representation tensors and feed them into our classification model to determine the emotion in the speech.\n",
        "\n",
        "Since the audio file is saved in the `.wav` format, it is easy to use **[Librosa](https://librosa.org/doc/latest/index.html)** or others, but we suppose that the format may be in the `.mp3` format in case of generality. We found that the **[Torchaudio](https://pytorch.org/audio/stable/index.html)** library works best for reading in `.mp3` data.\n",
        "\n",
        "An audio file usually stores both its values and the sampling rate with which the speech signal was digitalized. We want to store both in the dataset and write a **map(...)** function accordingly. Also, we need to handle the string labels into integers for our specific classification task in this case, the **single-label classification** you may want to use for your **regression** or even **multi-label classification**."
      ]
    },
    {
      "cell_type": "code",
      "execution_count": 46,
      "metadata": {
        "id": "6UqlIV3uGxDA"
      },
      "outputs": [],
      "source": [
        "import torchaudio\n",
        "import numpy as np\n",
        "\n",
        "def speech_file_to_array_fn(path, target_sampling_rate=16000):\n",
        "    speech_array, sampling_rate = torchaudio.load(path)\n",
        "    if sampling_rate != target_sampling_rate:\n",
        "        resampler = torchaudio.transforms.Resample(sampling_rate, target_sampling_rate)\n",
        "        speech_array = resampler(speech_array)\n",
        "    speech = speech_array.squeeze().numpy()\n",
        "    return speech\n",
        "\n",
        "def label_to_id(label, label_list):\n",
        "    if isinstance(label_list, list) and len(label_list) > 0:\n",
        "        return label_list.index(label) if label in label_list else -1\n",
        "    return label\n",
        "\n",
        "# 新增函数：加载能量特征\n",
        "def load_energy_features(path):\n",
        "    try:\n",
        "        return np.load(path)\n",
        "    except Exception as e:\n",
        "        print(f\"Error loading energy features from {path}: {e}\")\n",
        "        return None"
      ]
    },
    {
      "cell_type": "code",
      "execution_count": 47,
      "metadata": {
        "colab": {
          "base_uri": "https://localhost:8080/",
          "height": 242,
          "referenced_widgets": [
            "7b00c09231b64e20837efdce39fe3088",
            "e976ae9e526e4836b5836b0d71378fc5",
            "e61fe41284004f9b81adba7b5640d80a",
            "459041ab9f7e4815b8f0e6e45b83f531",
            "a01f3a32e906444cb59299ca89aef75c",
            "84162b58ebd44a1fa2563dd67cd4dec0",
            "0b3835ef7e0644fbbae707024d11aee8",
            "9d50a81a41e244889a1df24351cb7e2c",
            "2521434905d5469b8d56f2166302e58f",
            "8c22c60cc98e4929986af14fdd91624f",
            "87fb489932754d7d98353a1619621499",
            "33a66026aa494e3d8c9f889ea8ac2fc9",
            "eee58ce2ae4a4cdf89d9d24e4ab47960",
            "40cb9b63e74c4513900c859974370ac7",
            "f84e80019ca4415587d16d23b3282f0d",
            "a2489033e6194d2a877e75bce3351217",
            "002fefb1d9054f79a8635ddd3a1faa68",
            "5b3ce0832b12432db3be3d125fe6c1e1",
            "27f27cd583a949e59109bbe0e94dc701",
            "b2919f1f580c435aa58a24605077b5df",
            "69be6584725c4c8eb3c67f6a88f0ba0d",
            "596907c3e3e24e5490ed6982b955cfe9"
          ]
        },
        "id": "ioP8FfR2GxHi",
        "outputId": "497774d3-8d3b-48c0-e31d-d38ff5f260e9"
      },
      "outputs": [
        {
          "name": "stdout",
          "output_type": "stream",
          "text": [
            "A classification problem with 4 classes: ['case1', 'case2', 'case3', 'case4']\n"
          ]
        },
        {
          "name": "stderr",
          "output_type": "stream",
          "text": [
            "\n",
            "\u001b[A\n",
            "\u001b[A\n",
            "\u001b[A\n",
            "\u001b[A\n",
            "\u001b[A\n",
            "\u001b[A\n",
            "\u001b[A\n",
            "\u001b[A\n",
            "\u001b[A\n",
            "\u001b[A\n",
            "\u001b[A\n",
            "\u001b[A\n",
            "\u001b[A\n",
            "\u001b[A\n",
            "\u001b[A\n",
            "\u001b[A\n",
            "\u001b[A\n",
            "\u001b[A\n",
            "\u001b[A\n",
            "\u001b[A\n",
            "\u001b[A\n",
            "\u001b[A\n",
            "\u001b[A\n",
            "\u001b[A\n",
            "\u001b[A\n",
            "\u001b[A\n",
            "\u001b[A\n",
            "\u001b[A\n",
            "\u001b[A\n",
            "\u001b[A\n",
            "\u001b[A\n",
            "\u001b[A\n",
            "\u001b[A\n",
            "Map: 100%|██████████| 3283/3283 [00:07<00:00, 447.28 examples/s]\n",
            "\n",
            "\u001b[A\n",
            "\u001b[A\n",
            "\u001b[A\n",
            "\u001b[A\n",
            "\u001b[A\n",
            "\u001b[A\n",
            "\u001b[A\n",
            "\u001b[A\n",
            "Map: 100%|██████████| 821/821 [00:01<00:00, 442.66 examples/s]\n"
          ]
        },
        {
          "name": "stdout",
          "output_type": "stream",
          "text": [
            "Dataset({\n",
            "    features: ['path', 'case', 'audio', 'sr', 'energy_features', 'energy_features_path', 'input_values', 'attention_mask', 'labels'],\n",
            "    num_rows: 3283\n",
            "})\n",
            "Dataset({\n",
            "    features: ['path', 'case', 'audio', 'sr', 'energy_features', 'energy_features_path', 'input_values', 'attention_mask', 'labels'],\n",
            "    num_rows: 821\n",
            "})\n",
            "\n",
            "Processed train dataset example:\n",
            "{'path': 'data_1k2k3k_withbandpass_organized_dataset_extrafeatures\\\\case1\\\\A5_case1_2_sample_8_2.wav', 'case': 'case1', 'audio': 'tensor([[ 0.0000e+00, -3.0518e-05, -3.0518e-05,  ...,  3.3569e-04,\\n          3.3569e-04,  2.7466e-04]])', 'sr': 44100, 'energy_features': [127.0482270736867], 'energy_features_path': 'data_1k2k3k_withbandpass_organized_dataset_extrafeatures\\\\case1\\\\A5_case1_2_sample_8_2.npy', 'input_values': [0.01309523731470108, -0.042359739542007446, -0.034966085106134415, -0.03830160200595856, -0.03639433905482292, -0.037745311856269836, 0.025754626840353012, 0.03985517472028732, 0.035041164606809616, 0.037955060601234436, -0.02788936160504818, -0.037838615477085114, -0.040607452392578125, -0.01873081736266613, 0.04228464886546135, 0.03248119726777077, 0.04339103400707245, -0.009627451188862324, -0.044143904000520706, -0.03233398124575615, -0.04336676746606827, -0.016029298305511475, 0.04121116176247597, 0.03477811440825462, 0.03799983114004135, 0.035579144954681396, 0.0387008935213089, -0.023481374606490135, -0.04082668200135231, -0.035520847886800766, -0.03769062086939812, 0.01987108588218689, 0.09589266031980515, 0.11181676387786865, 0.04293647035956383, -0.022844761610031128, -0.09435434639453888, -0.11795186996459961, -0.09504538774490356, -0.0069441176019608974, 0.12795133888721466, 0.19549115002155304, 0.1458943635225296, -0.002274943981319666, -0.18082542717456818, -0.26577743887901306, -0.20176932215690613, 0.0022107393015176058, 0.21235422790050507, 0.3417356610298157, 0.22963277995586395, -0.0039198873564600945, -0.26106953620910645, -0.39875009655952454, -0.2843204438686371, -0.0279752928763628, 0.27704811096191406, 0.4682031273841858, 0.3589494228363037, 0.022490084171295166, -0.3305336833000183, -0.5492025017738342, -0.40831705927848816, -0.018864337354898453, 0.39538252353668213, 0.5735021233558655, 0.3984881341457367, 0.01731123961508274, -0.39990904927253723, -0.5764572620391846, -0.4467047452926636, -0.0446031428873539, 0.40655404329299927, 0.6228955984115601, 0.4792236089706421, 0.037208616733551025, -0.46864211559295654, -0.70637446641922, -0.4981580972671509, 0.04232567548751831, 0.5163198113441467, 0.6663740873336792, 0.42491260170936584, -0.07341121137142181, -0.5291579961776733, -0.6395107507705688, -0.41752591729164124, 0.05332421883940697, 0.49409157037734985, 0.674371600151062, 0.40289726853370667, -0.09766964614391327, -0.5726852416992188, -0.6946354508399963, -0.3714810311794281, 0.18522155284881592, 0.6106284260749817, 0.6285831332206726, 0.2612926661968231, -0.2463870793581009, -0.595464825630188, -0.5510145425796509, -0.18872474133968353, 0.25574472546577454, 0.5730746984481812, 0.5331076979637146, 0.15963904559612274, -0.32139626145362854, -0.6133337616920471, -0.5245378613471985, -0.06128447502851486, 0.4398435652256012, 0.6459029912948608, 0.4350605607032776, -0.08425604552030563, -0.5473279356956482, -0.6214214563369751, -0.29727262258529663, 0.1732461303472519, 0.5519665479660034, 0.5884788036346436, 0.2658535838127136, -0.21220530569553375, -0.5736353397369385, -0.6092408895492554, -0.2603917419910431, 0.32426029443740845, 0.7274124026298523, 0.6475077271461487, 0.14517518877983093, -0.47759419679641724, -0.7868334650993347, -0.576792299747467, 0.01972556672990322, 0.5518316030502319, 0.7890879511833191, 0.5226525068283081, -0.02412511222064495, -0.5536688566207886, -0.7993724346160889, -0.5652005076408386, 0.02629825472831726, 0.6402804255485535, 0.914079487323761, 0.5858259201049805, -0.12053091824054718, -0.7683215737342834, -0.9187849164009094, -0.5131730437278748, 0.23158593475818634, 0.8189396262168884, 0.8830207586288452, 0.45132046937942505, -0.1989542543888092, -0.7697787880897522, -0.8913052678108215, -0.5040537118911743, 0.1769881248474121, 0.7751489281654358, 0.9428386092185974, 0.5781410336494446, -0.1939048171043396, -0.86530601978302, -0.977410614490509, -0.4932607114315033, 0.2599170207977295, 0.8311377167701721, 0.8746453523635864, 0.4018535315990448, -0.21961413323879242, -0.728248655796051, -0.824550986289978, -0.48394957184791565, 0.11356372386217117, 0.6714500188827515, 0.8597941398620605, 0.5314715504646301, -0.09787380695343018, -0.6999695301055908, -0.8412933945655823, -0.5184815526008606, 0.11975812166929245, 0.6106358766555786, 0.7388250231742859, 0.4676029086112976, -0.0461343489587307, -0.4785616397857666, -0.6474463939666748, -0.5233932137489319, -0.10327724367380142, 0.3742218315601349, 0.6567879915237427, 0.5617660880088806, 0.12610270082950592, -0.3843931257724762, -0.640203058719635, -0.5160213708877563, -0.11331316083669662, 0.28732526302337646, 0.48713862895965576, 0.44507646560668945, 0.17260883748531342, -0.14809080958366394, -0.4052482545375824, -0.48741817474365234, -0.3171868622303009, 0.07926713675260544, 0.4156591594219208, 0.5178700685501099, 0.3123551607131958, -0.08837708085775375, -0.3785029351711273, -0.407049298286438, -0.26432397961616516, -0.0030829953029751778, 0.23945651948451996, 0.34297284483909607, 0.30517223477363586, 0.12969382107257843, -0.12253841757774353, -0.3684142231941223, -0.39012035727500916, -0.17879843711853027, 0.12893374264240265, 0.3656768798828125, 0.3645869493484497, 0.14715440571308136, -0.09982160478830338, -0.2476537823677063, -0.26843932271003723, -0.19477680325508118, -0.05037323758006096, 0.1427256017923355, 0.2970893383026123, 0.2947188913822174, 0.11812502145767212, -0.1543121486902237, -0.3212376832962036, -0.32189062237739563, -0.09123794734477997, 0.16098594665527344, 0.2674596607685089, 0.23370753228664398, 0.07447783648967743, -0.06701915711164474, -0.17382031679153442, -0.21789732575416565, -0.16523313522338867, -0.041407715529203415, 0.13388030230998993, 0.274019718170166, 0.19647550582885742, -0.004764376673847437, -0.20974771678447723, -0.26380717754364014, -0.15077801048755646, 0.012430998496711254, 0.12011056393384933, 0.10522200912237167, 0.11713055521249771, 0.07392319291830063, 0.0017251258250325918, -0.09790777415037155, -0.1878615915775299, -0.17024017870426178, -0.04819754883646965, 0.11971843242645264, 0.19813640415668488, 0.14452269673347473, 0.01647345721721649, -0.0734851285815239, -0.11444679647684097, -0.1090879961848259, -0.11422840505838394, -0.09000454843044281, 0.035241417586803436, 0.1612178385257721, 0.1895047277212143, 0.12904465198516846, -0.033545881509780884, -0.2337484359741211, -0.236143097281456, -0.08559738844633102, 0.0597059465944767, 0.15747731924057007, 0.19120121002197266, 0.12979722023010254, 0.0559118427336216, -0.073868528008461, -0.21791471540927887, -0.2660357356071472, -0.11054424196481705, 0.10003864765167236, 0.29455938935279846, 0.28503069281578064, 0.0800989493727684, -0.18384180963039398, -0.2702174484729767, -0.17277935147285461, -0.027117615565657616, 0.0889836922287941, 0.13820765912532806, 0.11707063019275665, 0.05588279664516449, -0.058837614953517914, -0.11464113742113113, -0.10640429705381393, -0.0063773468136787415, 0.1176813468337059, 0.09220846742391586, -0.023833367973566055, -0.20481061935424805, -0.20464210212230682, 0.0329328291118145, 0.3050667941570282, 0.38752761483192444, 0.16998842358589172, -0.2213742434978485, -0.5260347127914429, -0.4850596785545349, -0.1649024337530136, 0.3084583580493927, 0.6570540070533752, 0.6879550218582153, 0.26683667302131653, -0.3699592351913452, -0.9159548878669739, -0.9875447750091553, -0.4127446115016937, 0.525141716003418, 1.2458041906356812, 1.2677607536315918, 0.4426496624946594, -0.7317529320716858, -1.482224702835083, -1.3963667154312134, -0.4494260847568512, 0.7877020239830017, 1.6523900032043457, 1.6034762859344482, 0.6447113752365112, -0.8133091330528259, -1.895198941230774, -1.897375226020813, -0.7640705704689026, 0.9377573132514954, 2.1821248531341553, 2.1723644733428955, 0.8070412278175354, -1.1017001867294312, -2.405442953109741, -2.300943374633789, -0.8421887755393982, 1.1430035829544067, 2.5037009716033936, 2.443040370941162, 0.9691973328590393, -1.1309094429016113, -2.623277187347412, -2.6583101749420166, -1.0908455848693848, 1.2313144207000732, 2.8589119911193848, 2.8292300701141357, 1.054409384727478, -1.3543150424957275, -2.9494266510009766, -2.8308494091033936, -1.027405858039856, 1.3527770042419434, 2.9431660175323486, 2.835176944732666, 1.0858157873153687, -1.3256548643112183, -2.9556612968444824, -2.8906118869781494, -1.1333286762237549, 1.375407338142395, 3.033942699432373, 2.877911329269409, 1.031290888786316, -1.465552806854248, -3.008690357208252, -2.7400290966033936, -0.8952288627624512, 1.4029914140701294, 2.834693670272827, 2.608294725418091, 0.878902792930603, -1.3132574558258057, -2.7413101196289062, -2.547788143157959, -0.8545141220092773, 1.3018944263458252, 2.667142629623413, 2.3940062522888184, 0.7183131575584412, -1.3330639600753784, -2.502894878387451, -2.1464083194732666, -0.5798736810684204, 1.2274571657180786, 2.2513880729675293, 1.9130058288574219, 0.5425726175308228, -1.0763838291168213, -2.050693988800049, -1.776841402053833, -0.4972952902317047, 1.0591217279434204, 1.923919916152954, 1.5905613899230957, 0.3402448296546936, -1.0540893077850342, -1.694402813911438, -1.276095986366272, -0.20395372807979584, 0.8948418498039246, 1.3836709260940552, 1.0356521606445312, 0.16824738681316376, -0.7527179718017578, -1.1643818616867065, -0.918852686882019, -0.13411173224449158, 0.7016618251800537, 1.0601098537445068, 0.7352349162101746, -0.01855122111737728, -0.7054214477539062, -0.8375731706619263, -0.4809496998786926, 0.12364307790994644, 0.5667502880096436, 0.6094699501991272, 0.26958149671554565, -0.13930003345012665, -0.40640789270401, -0.43232008814811707, -0.21456372737884521, 0.13472145795822144, 0.37334150075912476, 0.3885897397994995, 0.11581914871931076, -0.2271951287984848, -0.35076388716697693, -0.23884661495685577, 0.06376206129789352, 0.3162938356399536, 0.29472702741622925, 0.07518056780099869, -0.16902971267700195, -0.25918176770210266, -0.16543079912662506, -0.007481866981834173, 0.14077603816986084, 0.19088415801525116, 0.17148961126804352, 0.04773412644863129, -0.11106736958026886, -0.24791622161865234, -0.2150079905986786, -0.002725284080952406, 0.17190960049629211, 0.26347172260284424, 0.14309494197368622, -0.0642504021525383, -0.17357084155082703, -0.17163392901420593, -0.06467997282743454, 0.0264193844050169, 0.04118318110704422, 0.030034255236387253, 0.07877689599990845, 0.11937212198972702, 0.05537731945514679, -0.012184668332338333, -0.12943290174007416, -0.1570645272731781, -0.07589559257030487, 0.0104416124522686, 0.06075385957956314, 0.10817938297986984, 0.16913864016532898, 0.17342834174633026, 0.04593498259782791, -0.14627817273139954, -0.36049318313598633, -0.3505997061729431, -0.05994898080825806, 0.311737060546875, 0.5194395184516907, 0.4145140051841736, 0.06678200513124466, -0.34461647272109985, -0.5578981637954712, -0.483024537563324, -0.13488854467868805, 0.32989826798439026, 0.653292179107666, 0.6376790404319763, 0.26584383845329285, -0.3291151523590088, -0.8270155191421509, -0.8283135294914246, -0.27350276708602905, 0.4612695574760437, 0.9717979431152344, 0.8806894421577454, 0.2840607464313507, -0.4726891815662384, -0.9683380126953125, -0.9040821194648743, -0.399314284324646, 0.35974419116973877, 0.9406550526618958, 1.0356172323226929, 0.5452054738998413, -0.3287369906902313, -1.0742237567901611, -1.1545090675354004, -0.5721547603607178, 0.38781100511550903, 1.0919921398162842, 1.1492764949798584, 0.5607746243476868, -0.35460197925567627, -1.012007236480713, -1.137306571006775, -0.6782317757606506, 0.20506519079208374, 0.968159556388855, 1.206695795059204, 0.8266743421554565, -0.1266196221113205, -0.9999032020568848, -1.2690855264663696, -0.8232460618019104, 0.1379159539937973, 1.0004069805145264, 1.2430797815322876, 0.8181827068328857, -0.05844881385564804, -0.8517022728919983, -1.2083232402801514, -0.8970398902893066, -0.12204274535179138, 0.7580601572990417, 1.2641942501068115, 1.0335590839385986, 0.19511932134628296, -0.7808099985122681, -1.3083710670471191, -1.0221706628799438, -0.18490391969680786, 0.770907461643219, 1.2402925491333008, 1.0261098146438599, 0.24393488466739655, -0.6261902451515198, -1.160332202911377, -1.067918300628662, -0.392736554145813, 0.5478609204292297, 1.212044358253479, 1.158752202987671, 0.4540627896785736, -0.5467085838317871, -1.244677186012268, -1.1510019302368164, -0.3750469386577606, 0.5506131649017334, 1.1211804151535034, 1.0330681800842285, 0.3894685208797455, -0.42779624462127686, -1.0203677415847778, -1.068071961402893, -0.5111552476882935, 0.3698532283306122, 1.03512704372406, 1.0869401693344116, 0.5040339231491089, -0.38163337111473083, -1.023852825164795, -1.0087881088256836, -0.42429277300834656, 0.37061113119125366, 0.8802300095558167, 0.8629586100578308, 0.3711419105529785, -0.25099343061447144, -0.7410560250282288, -0.8306563496589661, -0.47775009274482727, 0.15070074796676636, 0.6906720399856567, 0.8356153964996338, 0.44105276465415955, -0.19522075355052948, -0.6526530385017395, -0.6808477640151978, -0.3470284342765808, 0.17174473404884338, 0.48674964904785156, 0.5182304978370667, 0.2884930670261383, -0.047143492847681046, -0.3289734125137329, -0.44109949469566345, -0.33023566007614136, -0.025934774428606033, 0.28295981884002686, 0.4143339991569519, 0.28928738832473755, -0.007594962604343891, -0.23692086338996887, -0.2548525035381317, -0.14492245018482208, -0.0072297160513699055, 0.04374558478593826, 0.07491498440504074, 0.10871483385562897, 0.11351458728313446, 0.09537874162197113, -0.008224674500524998, -0.0989372655749321, -0.16232942044734955, -0.11705804616212845, -0.04340776056051254, 0.022342616692185402, 0.09037312865257263, 0.16119177639484406, 0.19379839301109314, 0.14662720263004303, -0.060656409710645676, -0.31429195404052734, -0.39302223920822144, -0.2254815399646759, 0.14172115921974182, 0.44760820269584656, 0.47687581181526184, 0.20905868709087372, -0.16163362562656403, -0.4777047038078308, -0.49360591173171997, -0.2882670760154724, 0.07357455044984818, 0.4791508913040161, 0.6209070086479187, 0.4291698932647705, -0.04304828494787216, -0.5805065631866455, -0.7849571108818054, -0.4952748715877533, 0.11502078920602798, 0.6656938195228577, 0.8036812543869019, 0.4634495973587036, -0.12334587424993515, -0.6393709182739258, -0.7704381942749023, -0.5320165753364563, 0.05345255881547928, 0.5867871046066284, 0.8386464715003967, 0.63531094789505, 0.021125026047229767, -0.6553797125816345, -0.9461310505867004, -0.6697235107421875, 0.027081845328211784, 0.655954897403717, 0.9000917673110962, 0.6003828644752502, 0.004981271922588348, -0.5815421342849731, -0.8025171756744385, -0.5983613133430481, -0.11662409454584122, 0.4368788003921509, 0.7745267152786255, 0.7033563852310181, 0.19789966940879822, -0.44213366508483887, -0.79563307762146, -0.7122495174407959, -0.19164997339248657, 0.41669654846191406, 0.7031145095825195, 0.6364173889160156, 0.2154109627008438, -0.24732835590839386, -0.5667722225189209, -0.6278635859489441, -0.33149439096450806, 0.10254942625761032, 0.5508579015731812, 0.7035200595855713, 0.4527151584625244, -0.05199217051267624, -0.5422667860984802, -0.7035402059555054, -0.45843902230262756, 0.00347846164368093, 0.44365549087524414, 0.6390144228935242, 0.5216844081878662, 0.16976714134216309, -0.30055510997772217, -0.6562926769256592, -0.699126660823822, -0.310558944940567, 0.30950015783309937, 0.765217125415802, 0.8235961198806763, 0.3773694932460785, -0.3214343190193176, -0.8444468379020691, -0.8756706714630127, -0.3827001452445984, 0.2705060541629791, 0.8020250797271729, 0.9164437055587769, 0.5227681994438171, -0.18980401754379272, -0.8562585711479187, -1.0835185050964355, -0.6614149808883667, 0.2400636225938797, 1.0174942016601562, 1.1710152626037598, 0.6062546968460083, -0.32669830322265625, -1.0911200046539307, -1.17600417137146, -0.5951899886131287, 0.3255528509616852, 1.0230835676193237, 1.2103993892669678, 0.6845383644104004, -0.2482728362083435, -1.0941842794418335, -1.3100409507751465, -0.7358225584030151, 0.3288605809211731, 1.2434204816818237, 1.3877822160720825, 0.6960907578468323, -0.42765873670578003, -1.25776207447052, -1.3141690492630005, -0.608918309211731, 0.4382155239582062, 1.189292550086975, 1.3119951486587524, 0.6648687124252319, -0.3684738278388977, -1.1756253242492676, -1.3537019491195679, -0.7143694758415222, 0.3737459182739258, 1.261667013168335, 1.3787134885787964, 0.6544622182846069, -0.452912837266922, -1.2398618459701538, -1.269012451171875, -0.5335668921470642, 0.42903921008110046, 1.1212005615234375, 1.195168375968933, 0.5781755447387695, -0.36000508069992065, -1.0582668781280518, -1.1993159055709839, -0.5973341464996338, 0.38690128922462463, 1.1322604417800903, 1.1724573373794556, 0.5051764845848083, -0.4526713192462921, -1.0808719396591187, -1.0362935066223145, -0.3614298403263092, 0.41499748826026917, 0.9424188137054443, 0.9364835023880005, 0.4113825261592865, -0.34260082244873047, -0.8853442668914795, -0.9583010673522949, -0.4088384211063385, 0.38714078068733215, 0.9352855086326599, 0.9012672901153564, 0.31963732838630676, -0.42908021807670593, -0.8976054191589355, -0.7714903354644775, -0.23326422274112701, 0.4241602122783661, 0.7548966407775879, 0.6882722973823547, 0.2417379766702652, -0.35151031613349915, -0.7432184815406799, -0.7011427283287048, -0.2554694414138794, 0.3577970266342163, 0.7493665218353271, 0.6661451458930969, 0.170989990234375, -0.43858206272125244, -0.7277753949165344, -0.5165390372276306, -0.04346461594104767, 0.39693811535835266, 0.5801867842674255, 0.4310082793235779, 0.08809320628643036, -0.2981729805469513, -0.532619059085846, -0.46048104763031006, -0.09406470507383347, 0.3267921507358551, 0.5756507515907288, 0.4163910150527954, 0.009763340465724468, -0.3853069841861725, -0.4874730408191681, -0.2730436325073242, 0.06403017789125443, 0.3468826413154602, 0.3739476501941681, 0.2293700873851776, -0.04017028957605362, -0.21307311952114105, -0.29265111684799194, -0.22050470113754272, -0.019278790801763535, 0.1899334192276001, 0.33951514959335327, 0.2311437875032425, -0.046149738132953644, -0.24543620645999908, -0.2500433027744293, -0.07251099497079849, 0.07604001462459564, 0.11631624400615692, 0.09446385502815247, 0.019851280376315117, -0.03753936290740967, -0.03702289238572121, -0.036887772381305695, -0.038208335638046265, -0.034675151109695435, -0.04310093820095062, 0.00998547300696373, 0.0413181334733963, 0.03717862442135811, 0.03085469827055931, 0.0872226431965828, 0.08295086026191711, -0.011315860785543919, -0.17144468426704407, -0.26111486554145813, -0.15167927742004395, 0.1106182262301445, 0.3254609704017639, 0.32079067826271057, 0.09786894172430038, -0.2169775366783142, -0.36296409368515015, -0.32866278290748596, -0.08910900354385376, 0.14957557618618011, 0.3520011603832245, 0.39599892497062683, 0.20533305406570435, -0.06952934712171555, -0.4126608073711395, -0.5205320119857788, -0.35085248947143555, 0.07792650908231735, 0.46891626715660095, 0.5732009410858154, 0.37198755145072937, -0.05170203372836113, -0.423455148935318, -0.5720017552375793, -0.48058703541755676, -0.16883167624473572, 0.28444746136665344, 0.6278471350669861, 0.7046310901641846, 0.37411782145500183, -0.21971160173416138, -0.7731469869613647, -0.8793599605560303, -0.4990541636943817, 0.196376770734787, 0.8142309188842773, 1.0003693103790283, 0.6480618715286255, -0.07691536843776703, -0.7796849012374878, -1.1483733654022217, -0.9397566914558411, -0.1451243907213211, 0.8267346024513245, 1.4291497468948364, 1.2287750244140625, 0.2175588458776474, -0.9567196369171143, -1.6574575901031494, -1.3938539028167725, -0.2868765890598297, 1.0182712078094482, 1.756290316581726, 1.5791285037994385, 0.4461325407028198, -0.9703925848007202, -1.9131032228469849, -1.8057340383529663, -0.6359748840332031, 0.9985297918319702, 2.129680871963501, 2.0542612075805664, 0.7078679203987122, -1.1175193786621094, -2.283524751663208, -2.150897979736328, -0.7693512439727783, 1.1153204441070557, 2.3388450145721436, 2.2423338890075684, 0.8932603001594543, -1.0385005474090576, -2.371953010559082, -2.4275338649749756, -1.046064019203186, 1.0050408840179443, 2.5273709297180176, 2.5761048793792725, 1.0538017749786377, -1.0874940156936646, -2.6062140464782715, -2.573976755142212, -1.0296121835708618, 1.0718845129013062, 2.5283968448638916, 2.5421371459960938, 1.1099292039871216, -0.9806790947914124, -2.500048875808716, -2.598482608795166, -1.1988654136657715, 0.9248178601264954, 2.5094008445739746, 2.6219537258148193, 1.1608071327209473, -1.0093345642089844, -2.514178991317749, -2.4937117099761963, -1.0727052688598633, 0.948888897895813, 2.3464343547821045, 2.346992254257202, 1.047532081604004, -0.8493784070014954, -2.196770191192627, -2.2777187824249268, -1.0292198657989502, 0.798189103603363, 2.1498594284057617, 2.2078356742858887, 0.9318034052848816, -0.8523311018943787, -2.066727876663208, -1.984175205230713, -0.7567357420921326, 0.821331262588501, 1.8155217170715332, 1.7522382736206055, 0.7413967847824097, -0.6470255255699158, -1.5984920263290405, -1.6241648197174072, -0.710204005241394, 0.5883384943008423, 1.5288751125335693, 1.500221848487854, 0.5809247493743896, -0.6154114603996277, -1.381282091140747, -1.2671855688095093, -0.41268524527549744, 0.5512536764144897, 1.1121984720230103, 1.0338735580444336, 0.3940404951572418, -0.40637126564979553, -0.9137739539146423, -0.9120351672172546, -0.4165966212749481, 0.3347032964229584, 0.8458502292633057, 0.8131408095359802, 0.322496622800827, -0.3598133623600006, -0.709608793258667, -0.6113489866256714, -0.20541322231292725, 0.2540566623210907, 0.48731309175491333, 0.44942542910575867, 0.19690607488155365, -0.10622833669185638, -0.33536607027053833, -0.4092753231525421, -0.2549517750740051, 0.04791916534304619, 0.30289581418037415, 0.33465856313705444, 0.1782681941986084, -0.032483723014593124, -0.22844848036766052, -0.23840193450450897, -0.096687451004982, 0.014270534738898277, 0.05561783164739609, 0.11311344057321548, 0.10915522277355194, 0.1116056963801384, 0.030758116394281387, -0.11342217028141022, -0.19125226140022278, -0.16174115240573883, -0.0019426411017775536, 0.12174994498491287, 0.15881530940532684, 0.08550699055194855, 0.013757902197539806, -0.03341113403439522, -0.06770014017820358, -0.11685162037611008, -0.11004636436700821, -0.040887072682380676, 0.10630632191896439, 0.18794246017932892, 0.14535078406333923, -0.0038449768908321857, -0.1544264405965805, -0.170217826962471, -0.04422366991639137, 0.08229362964630127, 0.11786451935768127, 0.0878453254699707, 0.01118049118667841, -0.03923901915550232, -0.036859236657619476, -0.03634924814105034, -0.04007004201412201, -0.02386881783604622, 0.04748283699154854, 0.11385650932788849, 0.06438864022493362, -0.04813406988978386, -0.11931546032428741, -0.08018019795417786, 0.05927865207195282, 0.11861288547515869, 0.07851003110408783, -0.029549574479460716, -0.11298683285713196, -0.097931869328022, -0.00372752221301198, 0.07171253859996796, 0.11493055522441864, 0.10862327367067337, 0.052692756056785583, -0.02617061138153076, -0.13304246962070465, -0.19671602547168732, -0.13974736630916595, 0.055013250559568405, 0.2677435278892517, 0.30656906962394714, 0.10922704637050629, -0.2040417194366455, -0.345800518989563, -0.276843786239624, -0.030635550618171692, 0.22074858844280243, 0.3445349335670471, 0.26948031783103943, 0.06835498660802841, -0.19932521879673004, -0.3991374671459198, -0.3670833110809326, -0.1406988650560379, 0.2319471836090088, 0.5133362412452698, 0.478654146194458, 0.09282854199409485, -0.33338797092437744, -0.5755152702331543, -0.45021021366119385, -0.04094527289271355, 0.3708179295063019, 0.5393242835998535, 0.4259187579154968, 0.08542761951684952, -0.32825586199760437, -0.5554038286209106, -0.4907054305076599, -0.15953713655471802, 0.3248979449272156, 0.6647599339485168, 0.6268027424812317, 0.16229483485221863, -0.414501428604126, -0.7113777995109558, -0.570713996887207, -0.07654737681150436, 0.4162936806678772, 0.6324780583381653, 0.5384951829910278, 0.12492997199296951, -0.3567577600479126, -0.6325548887252808, -0.586094319820404, -0.2028072625398636, 0.31813356280326843, 0.7326506972312927, 0.6915827393531799, 0.21836985647678375, -0.39400529861450195, -0.7437555193901062, -0.6083106994628906, -0.15785902738571167, 0.35970640182495117, 0.6370989084243774, 0.5488080978393555, 0.20707784593105316, -0.21703939139842987, -0.576984167098999, -0.621600329875946, -0.32964926958084106, 0.18584421277046204, 0.6190603971481323, 0.6954367160797119, 0.31872040033340454, -0.21530529856681824, -0.5995238423347473, -0.6274884939193726, -0.26478123664855957, 0.15051567554473877, 0.5131159424781799, 0.5347856283187866, 0.3135637938976288, -0.002967247972264886, -0.41011306643486023, -0.5773389339447021, -0.43656277656555176, -0.028570780530571938, 0.4202747941017151, 0.6068235635757446, 0.404236376285553, -0.015905773267149925, -0.378030002117157, -0.4898029863834381, -0.3261587917804718, -0.05448196828365326, 0.22397518157958984, 0.3540380001068115, 0.35150641202926636, 0.19991596043109894, -0.07772073149681091, -0.31949830055236816, -0.41541388630867004, -0.2588975429534912, 0.05741671100258827, 0.2907155752182007, 0.33477655053138733, 0.22064775228500366, 0.05819294974207878, -0.11074482649564743, -0.21348300576210022, -0.26437100768089294, -0.2512803077697754, -0.07221689075231552, 0.20080143213272095, 0.40523388981819153, 0.4167781174182892, 0.13485468924045563, -0.22362284362316132, -0.47450143098831177, -0.43082231283187866, -0.19150874018669128, 0.14457912743091583, 0.4250796139240265, 0.5415099859237671, 0.3683035671710968, -0.003994193393737078, -0.49488258361816406, -0.7209843993186951, -0.559970498085022, -0.0370539166033268, 0.5810170769691467, 0.861928403377533, 0.6343110799789429, 0.0003132234560325742, -0.5892763733863831, -0.8657020330429077, -0.6851472854614258, -0.11292573809623718, 0.5164298415184021, 0.9189884662628174, 0.7963979840278625, 0.25555962324142456, -0.5046963095664978, -1.0127018690109253, -0.9515784978866577, -0.3063490092754364, 0.545953631401062, 1.0956555604934692, 0.9816705584526062, 0.2868574559688568, -0.5230950117111206, -1.0174810886383057, -0.9384896755218506, -0.3867959678173065, 0.40009909868240356, 0.9989637732505798, 1.0266761779785156, 0.4954977333545685, -0.3433581292629242, -1.0192118883132935, -1.1065971851348877, -0.4979947805404663, 0.3995218575000763, 1.0350399017333984, 1.056455373764038, 0.47406435012817383, -0.35337212681770325, -0.9312801361083984, -0.9560537338256836, -0.5288987755775452, 0.20493915677070618, 0.8105028867721558, 0.9984129071235657, 0.60258948802948, -0.1441270411014557, -0.864023745059967, -0.9933763146400452, -0.5643426179885864, 0.21588540077209473, 0.8187510371208191, 0.8824915885925293, 0.450423926115036, -0.19282859563827515, -0.661281168460846, -0.7835707664489746, -0.45156413316726685, 0.0947863981127739, 0.5898851752281189, 0.7799790501594543, 0.44743025302886963, -0.10157731175422668, -0.5886570811271667, -0.7076127529144287, -0.3713683485984802, 0.1867724508047104, 0.5874502658843994, 0.5680299401283264, 0.2331066131591797, -0.19501818716526031, -0.4836561679840088, -0.41393357515335083, -0.16314920783042908, 0.15858367085456848, 0.40111565589904785, 0.389671266078949, 0.16670040786266327, -0.18696407973766327, -0.41201895475387573, -0.33313247561454773, -0.038788750767707825, 0.2996084988117218, 0.4189048707485199, 0.23425452411174774, -0.12528079748153687, -0.3366517424583435, -0.30402007699012756, -0.07941851764917374, 0.1807713657617569, 0.30368101596832275, 0.28168508410453796, 0.07843950390815735, -0.18866929411888123, -0.3323768079280853, -0.3045109212398529, -0.06929558515548706, 0.25797832012176514, 0.411699503660202, 0.30736851692199707, -0.05791780352592468, -0.3731705844402313, -0.4453819692134857, -0.23651205003261566, 0.11835727095603943, 0.38914990425109863, 0.372720867395401, 0.16963186860084534, -0.08765139430761337, -0.32441478967666626, -0.3634392023086548, -0.2297830581665039, 0.04296565800905228, 0.3424031734466553, 0.45069411396980286, 0.2525540292263031, -0.14824099838733673, -0.42754122614860535, -0.43163377046585083, -0.14424997568130493, 0.19789059460163116, 0.3884941339492798, 0.333497017621994, 0.10690601915121078, -0.14466696977615356, -0.3173559308052063, -0.32077696919441223, -0.15071818232536316, 0.09835708141326904, 0.3304387032985687, 0.3614749312400818, 0.14433349668979645, -0.17983360588550568, -0.40340709686279297, -0.3471425771713257, -0.05782010406255722, 0.224716454744339, 0.3397345244884491, 0.19808539748191833, -0.018216831609606743, -0.18792086839675903, -0.25996240973472595, -0.16398926079273224, -0.03396827355027199, 0.1465967297554016, 0.2692083418369293, 0.2400214672088623, 0.04902002215385437, -0.23313617706298828, -0.3372983932495117, -0.19663414359092712, 0.06151164695620537, 0.3012132942676544, 0.3092168867588043, 0.104316845536232, -0.14835882186889648, -0.25764593482017517, -0.2351379692554474, -0.11081738024950027, 0.10374539345502853, 0.2522978186607361, 0.2676369249820709, 0.18159495294094086, -0.093885637819767, -0.3633340895175934, -0.3876863718032837, -0.15046651661396027, 0.21535323560237885, 0.45871466398239136, 0.3870340883731842, 0.07330507040023804, -0.2694632411003113, -0.4518284201622009, -0.36555057764053345, -0.08086865395307541, 0.23028279840946198, 0.45290499925613403, 0.45649638772010803, 0.16664616763591766, -0.25071823596954346, -0.5486382842063904, -0.5470378994941711, -0.17849069833755493, 0.37690842151641846, 0.6947408318519592, 0.5701017379760742, 0.11871205270290375, -0.4135977327823639, -0.7155036330223083, -0.5633554458618164, -0.12293092161417007, 0.386406809091568, 0.7078984379768372, 0.6772686243057251, 0.23054787516593933, -0.3909461200237274, -0.8480766415596008, -0.8165203928947449, -0.27430328726768494, 0.4711979627609253, 0.9678427577018738, 0.8541423678398132, 0.22518201172351837, -0.5027469396591187, -0.9664333462715149, -0.8463619351387024, -0.2524561882019043, 0.4351649880409241, 0.9340543746948242, 0.9236617088317871, 0.36992090940475464, -0.4299018383026123, -1.0503445863723755, -1.0387877225875854, -0.41249367594718933, 0.5216100215911865, 1.124667763710022, 1.0524640083312988, 0.3586541414260864, -0.5180819034576416, -1.0446761846542358, -0.9836085438728333, -0.4030366837978363, 0.397573322057724, 0.9954137802124023, 1.029096245765686, 0.500400960445404, -0.33761298656463623, -1.0162835121154785, -1.1083937883377075, -0.5040101408958435, 0.39404547214508057, 1.0590519905090332, 1.0591914653778076, 0.4785254895687103, -0.34678584337234497, -0.9314802885055542, -0.9452345967292786, -0.49830174446105957, 0.23674367368221283, 0.8083056807518005, 0.9571768641471863, 0.5862705707550049, -0.12282639741897583, -0.796076238155365, -0.984581708908081, -0.5840932130813599, 0.13476519286632538, 0.7462358474731445, 0.8816460967063904, 0.49522024393081665, -0.11799657344818115, -0.5823459029197693, -0.723696768283844, -0.5032294988632202, -0.01997552439570427, 0.4376809895038605, 0.6906467080116272, 0.5846671462059021, 0.13040456175804138, -0.37044674158096313, -0.6901500821113586, -0.5581921935081482, -0.1189713105559349, 0.34990566968917847, 0.5602416396141052, 0.4365004003047943, 0.15429463982582092, -0.19071316719055176, -0.3875727653503418, -0.41590771079063416, -0.2996175289154053, 0.020818881690502167, 0.33907943964004517, 0.48865678906440735, 0.3691299557685852, 0.006519812624901533, -0.3288295567035675, -0.47708404064178467, -0.3247528076171875, -0.05611845478415489, 0.2006279081106186, 0.33445149660110474, 0.32403621077537537, 0.17208446562290192, -0.07022178918123245, -0.3283763825893402, -0.42190873622894287, -0.30782830715179443, -0.0034066420048475266, 0.36923691630363464, 0.5086756348609924, 0.34297770261764526, -0.035960402339696884, -0.32549232244491577, -0.42204970121383667, -0.31120067834854126, -0.07609277218580246, 0.23264817893505096, 0.43054670095443726, 0.446450412273407, 0.22260218858718872, -0.18165960907936096, -0.5267499685287476, -0.5291287302970886, -0.22976015508174896, 0.2557402551174164, 0.5393022894859314, 0.5107749700546265, 0.16477832198143005, -0.19203466176986694, -0.46469783782958984, -0.4421767592430115, -0.23728518187999725, 0.08656097203493118, 0.3930603861808777, 0.4957940876483917, 0.3382527530193329, -0.06268683820962906, -0.45479878783226013, -0.5646482706069946, -0.3021027445793152, 0.13474203646183014, 0.4528350532054901, 0.4845028519630432, 0.22864647209644318, -0.11506009101867676, -0.35104432702064514, -0.4041164815425873, -0.23843641579151154, 0.018860414624214172, 0.30299320816993713, 0.42692235112190247, 0.30347898602485657, -0.003097969340160489, -0.3332269787788391, -0.4538039565086365, -0.26277413964271545, 0.0773569718003273, 0.34273847937583923, 0.36329135298728943, 0.15015114843845367, -0.05261855944991112, -0.2369769960641861, -0.26697930693626404, -0.16837799549102783, -0.020281050354242325, 0.18339449167251587, 0.29757511615753174, 0.22301574051380157, -0.007109733298420906, -0.27183252573013306, -0.3267948627471924, -0.15327642858028412, 0.11374790221452713, 0.3259599506855011, 0.2788478434085846, 0.06811315566301346, -0.12597499787807465, -0.24705375730991364, -0.2236907184123993, -0.06976985931396484, 0.0800061747431755, 0.20928680896759033, 0.2683037519454956, 0.15217824280261993, -0.12704125046730042, -0.3204754889011383, -0.32489216327667236, -0.10895880311727524, 0.2105804979801178, 0.34518375992774963, 0.27293723821640015, 0.02662002108991146, -0.22853824496269226, -0.3342951834201813, -0.2459835261106491, -0.0668448731303215, 0.14476759731769562, 0.29336801171302795, 0.32535359263420105, 0.1659691333770752, -0.10749336332082748, -0.3557868003845215, -0.3980685770511627, -0.17479832470417023, 0.1791810244321823, 0.40283462405204773, 0.3926507830619812, 0.16699190437793732, -0.14452193677425385, -0.3322456479072571, -0.3876684010028839, -0.2773774266242981, 6.63754326524213e-05, 0.28519320487976074, 0.46309754252433777, 0.43991658091545105, 0.09456276893615723, -0.35710376501083374, -0.5869693160057068, -0.4984434247016907, -0.0879909098148346, 0.36357203125953674, 0.5640707015991211, 0.49881651997566223, 0.18178017437458038, -0.24528264999389648, -0.5705879926681519, -0.6251901984214783, -0.33103832602500916, 0.1636262685060501, 0.6347671747207642, 0.7576545476913452, 0.41327542066574097, -0.21095392107963562, -0.7061235904693604, -0.7810308337211609, -0.41761142015457153, 0.2067822962999344, 0.6430279016494751, 0.7655553221702576, 0.47237706184387207, -0.06360894441604614, -0.5966625809669495, -0.826304018497467, -0.5923172831535339, -0.012122662737965584, 0.6094851493835449, 0.9135008454322815, 0.6224040389060974, -0.04057160019874573, -0.6647754311561584, -0.8731265068054199, -0.5917599201202393, 0.0072054434567689896, 0.5401877164840698, 0.7941034436225891, 0.5967994332313538, 0.07906465232372284, -0.44920530915260315, -0.7798539996147156, -0.665745735168457, -0.14194680750370026, 0.4886702001094818, 0.8543263077735901, 0.6689273118972778, 0.061587680131196976, -0.5262719988822937, -0.7816343307495117, -0.5719186663627625, -0.04503795504570007, 0.42930322885513306, 0.6461127996444702, 0.5512385964393616, 0.1321566104888916, -0.35651347041130066, -0.6529701352119446, -0.5788038372993469, -0.16261181235313416, 0.3988252878189087, 0.7007743120193481, 0.5517511963844299, 0.052065275609493256, -0.46982601284980774, -0.6528355479240417, -0.4174483120441437, -0.005563634913414717, 0.40618473291397095, 0.5679733753204346, 0.41391611099243164, 0.0828193724155426, -0.33302733302116394, -0.5601270198822021, -0.4671533405780792, -0.05920693650841713, 0.42614901065826416, 0.6494379043579102, 0.43881434202194214, -0.05061902478337288, -0.4980573058128357, -0.6169999837875366, -0.32604390382766724, 0.08680608123540878, 0.45774906873703003, 0.5340971946716309, 0.2990172803401947, -0.07006583362817764, -0.37722721695899963, -0.5484663844108582, -0.3891970217227936, 0.04212397336959839, 0.46437308192253113, 0.5904642939567566, 0.32581833004951477, -0.11974899470806122, -0.5016418695449829, -0.5353165864944458, -0.23629680275917053, 0.15896877646446228, 0.44724276661872864, 0.45318979024887085, 0.21993590891361237, -0.0893593281507492, -0.3727547824382782, -0.44816887378692627, -0.299605131149292, 0.039692170917987823, 0.3918825089931488, 0.4885900616645813, 0.2906949818134308, -0.11092023551464081, -0.40662580728530884, -0.45269089937210083, -0.20041075348854065, 0.11650367081165314, 0.30327627062797546, 0.33304426074028015, 0.16861864924430847, -0.04513552039861679, -0.22891376912593842, -0.33300814032554626, -0.24952110648155212, -0.0039060735143721104, 0.2519189417362213, 0.3493148386478424, 0.2303992509841919, -0.04555395990610123, -0.2371075600385666, -0.2495962381362915, -0.123818039894104, 0.044811587780714035, 0.11903849989175797, 0.1103735864162445, 0.10051652044057846, 0.042692944407463074, -0.012509815394878387, -0.10683172196149826, -0.11473900824785233, -0.08842093497514725, 0.017538944259285927, 0.10842934250831604, 0.10168978571891785, 0.03225031867623329, -0.03721191734075546, -0.022515561431646347, 0.04249588027596474, -0.016633162274956703, -0.08749169856309891, -0.12239794433116913, -0.0662570521235466, 0.10514383763074875, 0.1865243762731552, 0.17045316100120544, 0.016464876011013985, -0.1310868114233017, -0.1969154328107834, -0.1411951780319214, -0.07534494996070862, 0.05010605603456497, 0.17517778277397156, 0.25276586413383484, 0.19554781913757324, -0.012476072646677494, -0.28102564811706543, -0.39499956369400024, -0.2108858823776245, 0.09625479578971863, 0.34810078144073486, 0.4049318730831146, 0.17578256130218506, -0.12730522453784943, -0.34933146834373474, -0.3983818292617798, -0.2165893018245697, 0.06005183979868889, 0.3507821261882782, 0.49211233854293823, 0.3301350474357605, -0.025476334616541862, -0.4310254156589508, -0.6111002564430237, -0.3735468089580536, 0.1454768180847168, 0.564230740070343, 0.62306147813797, 0.31270888447761536, -0.17584228515625, -0.5151515603065491, -0.6159976124763489, -0.33231091499328613, 0.1057535856962204, 0.5283312797546387, 0.6991848945617676, 0.45121315121650696, -0.0793394073843956, -0.6355689167976379, -0.8226282000541687, -0.4781719744205475, 0.20837488770484924, 0.7581378817558289, 0.8455446362495422, 0.4182182550430298, -0.2473142445087433, -0.7562928795814514, -0.8491914868354797, -0.45952972769737244, 0.2159193903207779, 0.7737167477607727, 0.9186920523643494, 0.5258263349533081, -0.20820163190364838, -0.9010315537452698, -1.0536364316940308, -0.5478895902633667, 0.30873239040374756, 0.9994458556175232, 1.0611385107040405, 0.4699191749095917, -0.3965293765068054, -1.0440419912338257, -1.0491894483566284, -0.4819578528404236, 0.37565433979034424, 1.049005389213562, 1.14133620262146, 0.5888853669166565, -0.3738863468170166, -1.1470122337341309, -1.263744592666626, -0.5836006999015808, 0.5095243453979492, 1.2942111492156982, 1.2714545726776123, 0.49369826912879944, -0.5499784350395203, -1.271095871925354, -1.2424110174179077, -0.474470317363739, 0.524925708770752, 1.2446664571762085, 1.2671903371810913, 0.5982956886291504, -0.4978838860988617, -1.3183971643447876, -1.3442755937576294, -0.5955337882041931, 0.5681825280189514, 1.3342149257659912, 1.3290163278579712, 0.5244355201721191, -0.5738813877105713, -1.2603694200515747, -1.2471821308135986, -0.5038126707077026, 0.44001850485801697, 1.1773943901062012, 1.2383207082748413, 0.6208049058914185, -0.3776075839996338, -1.1795724630355835, -1.3166694641113281, -0.6322383880615234, 0.3935440182685852, 1.1680595874786377, 1.2318121194839478, 0.5779569149017334, -0.3836129605770111, -1.0457277297973633, -1.1184686422348022, -0.6103526949882507, 0.2214425951242447, 0.9008760452270508, 1.127143383026123, 0.7023648619651794, -0.1255791038274765, -0.8735533952713013, -1.1546759605407715, -0.7220099568367004, 0.12497106939554214, 0.881414532661438, 1.0886653661727905, 0.6422640681266785, -0.11121829599142075, -0.7696563601493835, -0.962932288646698, -0.6620034575462341, -0.0388205349445343, 0.6372832655906677, 0.9692197442054749, 0.7443534135818481, 0.086712546646595, -0.6302436590194702, -1.0003021955490112, -0.764227569103241, -0.07003868371248245, 0.6839649677276611, 0.928179144859314, 0.656416654586792, 0.04360812157392502, -0.5617600083351135, -0.815761923789978, -0.6509442329406738, -0.14367371797561646, 0.4572036564350128, 0.8350604176521301, 0.7128066420555115, 0.13198721408843994, -0.5370334982872009, -0.8729835152626038, -0.6715922951698303, -0.022503666579723358, 0.5788142681121826, 0.8431349992752075, 0.5647932291030884, -0.03172966092824936, -0.5479133129119873, -0.7138108015060425, -0.519786536693573, -0.003956815227866173, 0.49477651715278625, 0.7510437369346619, 0.5447598099708557, -0.034078773111104965, -0.5862390398979187, -0.8492494225502014, -0.5164021253585815, 0.15869341790676117, 0.7147946953773499, 0.8031811118125916, 0.3597845733165741, -0.27294379472732544, -0.7073286771774292, -0.7376038432121277, -0.33870935440063477, 0.24825981259346008, 0.7073114514350891, 0.7544550895690918, 0.3819621205329895, -0.26631277799606323, -0.8050279021263123, -0.8495538830757141, -0.33143946528434753, 0.4085949957370758, 0.8970345854759216, 0.8262341022491455, 0.2403370440006256, -0.5060136914253235, -0.8842355012893677, -0.7785965204238892, -0.2118392437696457, 0.46100836992263794, 0.8940915465354919, 0.8231473565101624, 0.2756635844707489, -0.492822527885437, -1.0051523447036743, -0.8924481868743896, -0.2516343295574188, 0.5989158153533936, 1.1018511056900024, 0.9225014448165894, 0.1242862269282341, -0.702471911907196, -1.0846617221832275, -0.8314368724822998, -0.08814391493797302, 0.6896381378173828, 1.0642551183700562, 0.8557124733924866, 0.1584114283323288, -0.696005642414093, -1.1620081663131714, -0.9188331961631775, -0.10148551315069199, 0.8220193982124329, 1.2501728534698486, 0.8858630657196045, -0.00805618241429329, -0.9015051126480103, -1.2360106706619263, -0.804581344127655, 0.07229357212781906, 0.8746047616004944, 1.183725118637085, 0.7943047285079956, -0.05222624912858009, -0.9055591225624084, -1.2481029033660889, -0.863067626953125, 0.11023737490177155, 1.0373507738113403, 1.3526536226272583, 0.7630906701087952, -0.27500584721565247, -1.1092249155044556, -1.2678638696670532, -0.6326408982276917, 0.33196547627449036, 1.0896244049072266, 1.2012814283370972, 0.625542402267456, -0.33927807211875916, -1.1015288829803467, -1.2213633060455322, -0.6213204264640808, 0.3750125765800476, 1.1780667304992676, 1.2620967626571655, 0.5189031362533569, -0.519646942615509, -1.2064515352249146, -1.1495915651321411, -0.3801640272140503, 0.5592942237854004, 1.1396636962890625, 1.0667046308517456, 0.36115700006484985, -0.54221510887146, -1.1243226528167725, -1.0511279106140137, -0.3532204031944275, 0.5711637139320374, 1.1492466926574707, 1.021957516670227, 0.22974646091461182, -0.7084155678749084, -1.152833104133606, -0.8929916620254517, -0.08017195761203766, 0.7351242303848267, 1.0461153984069824, 0.7319709062576294, 0.022988982498645782, -0.6966877579689026, -0.9858867526054382, -0.6899785995483398, -0.02007290907204151, 0.7127140760421753, 1.0090610980987549, 0.6637091040611267, -0.13212205469608307, -0.8348124623298645, -0.9752049446105957, -0.5111089944839478, 0.27785244584083557, 0.8468219637870789, 0.8477110862731934, 0.34597909450531006, -0.320484459400177, -0.7299954891204834, -0.7439562678337097, -0.2928447127342224, 0.3245616555213928, 0.7298807501792908, 0.7468889951705933, 0.2641695439815521, -0.40472492575645447, -0.8136626482009888, -0.70618736743927, -0.10251699388027191, 0.5224261283874512, 0.7792667746543884, 0.5420823097229004, -0.027998976409435272, -0.515861451625824, -0.6418098211288452, -0.4328969120979309, 0.027763212099671364, 0.439566969871521, 0.6043636798858643, 0.3996117115020752, -0.031253594905138016, -0.43983039259910583, -0.6314845085144043, -0.38079527020454407, 0.15071651339530945, 0.5327828526496887, 0.5276064872741699, 0.19039931893348694, -0.26444923877716064, -0.47977399826049805, -0.3817472457885742, -0.07158196717500687, 0.24745658040046692, 0.39252105355262756, 0.304610013961792, 0.05212157219648361, -0.24665169417858124, -0.39313191175460815, -0.3066524565219879, 0.01729457825422287, 0.36114266514778137, 0.4375346004962921, 0.21848149597644806, -0.17492787539958954, -0.48565617203712463, -0.3996129035949707, -0.01805977150797844, 0.34264782071113586, 0.47308966517448425, 0.2884279489517212, -0.052654366940259933, -0.3504713177680969, -0.47457998991012573, -0.3281685709953308, 0.06802548468112946, 0.41519179940223694, 0.5730372071266174, 0.34772077202796936, -0.1150999441742897, -0.5650316476821899, -0.6899616718292236, -0.3167420029640198, 0.27084052562713623, 0.6718593239784241, 0.651936411857605, 0.22867488861083984, -0.30433735251426697, -0.6687039136886597, -0.6184437274932861, -0.25597548484802246, 0.273849219083786, 0.6853670477867126, 0.7054520845413208, 0.32337987422943115, -0.3051730990409851, -0.7912023663520813, -0.8045157790184021, -0.2918233871459961, 0.3950457274913788, 0.8248243927955627, 0.7586203217506409, 0.23371021449565887, -0.4202510416507721, -0.8019626140594482, -0.7285410761833191, -0.22517119348049164, 0.34739696979522705, 0.769218921661377, 0.7914985418319702, 0.3264586627483368, -0.3310268223285675, -0.8409674763679504, -0.8276907205581665, -0.28914469480514526, 0.399419903755188, 0.8853991031646729, 0.7857627868652344, 0.2113039195537567, -0.4112083315849304, -0.7742688655853271, -0.6994039416313171, -0.26365354657173157, 0.3160512447357178, 0.728344202041626, 0.7423232197761536, 0.3381204605102539, -0.2683396637439728, -0.7540374994277954, -0.7543811202049255, -0.2763422429561615, 0.3601919114589691, 0.7651808261871338, 0.6661444902420044, 0.22216647863388062, -0.2824117839336395, -0.6122373342514038, -0.57937091588974, -0.21129465103149414, 0.20461848378181458, 0.4819534122943878, 0.5598553419113159, 0.2898043990135193, -0.14239422976970673, -0.4786108136177063, -0.5605445504188538, -0.28669753670692444, 0.14754319190979004, 0.4659193158149719, 0.4372521638870239, 0.19448284804821014, -0.11367656290531158, -0.29005593061447144, -0.3232460618019104, -0.21961788833141327, -0.016770469024777412, 0.1585954874753952, 0.303945928812027, 0.2986089289188385, 0.09315598756074905, -0.11710084229707718, -0.26016372442245483, -0.2545243203639984, -0.09623615443706512, 0.09853486716747284, 0.17950965464115143, 0.1867443025112152, 0.13209234178066254, 0.08185958117246628, -0.051044054329395294, -0.189256951212883, -0.2675788402557373, -0.18987855315208435, 0.04752152040600777, 0.27593642473220825, 0.30887219309806824, 0.17429287731647491, -0.09701289236545563, -0.22995202243328094, -0.2722533643245697, -0.17566627264022827, -0.017438234761357307, 0.15127365291118622, 0.3050633668899536, 0.2853899598121643, 0.10706726461648941, -0.21011117100715637, -0.4099137485027313, -0.33437854051589966, -0.04916810616850853, 0.276883602142334, 0.39636319875717163, 0.2567812204360962, -0.011127580888569355, -0.23585966229438782, -0.29251807928085327, -0.22569671273231506, -0.04620453342795372, 0.17530140280723572, 0.2625303268432617, 0.26177483797073364, 0.0975969135761261, -0.18029353022575378, -0.33120793104171753, -0.2535974383354187, -0.00670466385781765, 0.23688586056232452, 0.2527587413787842, 0.1538051962852478, -0.04465808719396591, -0.19228069484233856, -0.1502198427915573, -0.037382543087005615, 0.03235497325658798, 0.055470336228609085, 0.11627502739429474, 0.05385729670524597, 0.012433649972081184, -0.08647684752941132, -0.11867241561412811, -0.04500066488981247, 0.09177684783935547, 0.11518096178770065, 0.034370675683021545, -0.11160838603973389, -0.1827293038368225, -0.10138918459415436, 0.0886899083852768, 0.1978141814470291, 0.15553227066993713, -0.02846398949623108, -0.16139259934425354, -0.19097214937210083, -0.12776990234851837, -0.014234173111617565, 0.11985985934734344, 0.20187947154045105, 0.20291143655776978, 0.04302956163883209, -0.17115063965320587, -0.33355769515037537, -0.30112239718437195, -0.020918047055602074, 0.2802013158798218, 0.39836880564689636, 0.24290628731250763, -0.06477774679660797, -0.31295347213745117, -0.32521840929985046, -0.23146864771842957, 0.018462274223566055, 0.23881040513515472, 0.3237135708332062, 0.28072842955589294, 0.08525049686431885, -0.19710834324359894, -0.3876734673976898, -0.3228040337562561, -0.07128118723630905, 0.25464075803756714, 0.399306058883667, 0.28452134132385254, 0.032439202070236206, -0.18336845934391022, -0.2673632800579071, -0.19995026290416718, -0.12730135023593903, 0.0069228410720825195, 0.14644205570220947, 0.2541082799434662, 0.23941637575626373, 0.11159580200910568, -0.15421240031719208, -0.30725014209747314, -0.28134387731552124, -0.11692309379577637, 0.09159364551305771, 0.22875647246837616, 0.2620075047016144, 0.24678415060043335, 0.10740729421377182, -0.1478404849767685, -0.3589569628238678, -0.4745738208293915, -0.2217804193496704, 0.1921398639678955, 0.5221215486526489, 0.5635828375816345, 0.22080457210540771, -0.1977776437997818, -0.5686224102973938, -0.5942429900169373, -0.2927897572517395, 0.12378504127264023, 0.5245128273963928, 0.67991042137146, 0.437780499458313, -0.07958889752626419, -0.6031518578529358, -0.8312601447105408, -0.5375892519950867, 0.09299769252538681, 0.6889785528182983, 0.8437356352806091, 0.48687705397605896, -0.10784900933504105, -0.6328848004341125, -0.7653394341468811, -0.5033521056175232, 0.03839810937643051, 0.5535312294960022, 0.7738211750984192, 0.5815342664718628, 0.03160853683948517, -0.5174199938774109, -0.781317412853241, -0.5761224031448364, -0.02466721087694168, 0.5524307489395142, 0.7490033507347107, 0.49046117067337036, -0.01781495288014412, -0.4497137665748596, -0.5659123063087463, -0.3875885605812073, -0.0358322374522686, 0.29097554087638855, 0.48114579916000366, 0.4089817404747009, 0.08922911435365677, -0.23986849188804626, -0.4241594672203064, -0.3285626769065857, -0.03994682431221008, 0.24415583908557892, 0.3128308653831482, 0.17711195349693298, -0.02998412773013115, -0.1236676275730133, -0.0802711769938469, -0.005638170056045055, 0.04022471606731415, -0.030519654974341393, -0.036147233098745346, -0.04325808212161064, 0.012518959119915962, 0.036662813276052475, 0.06823483109474182, 0.11986872553825378, 0.09486672282218933, -0.02130562625825405, -0.18737302720546722, -0.2661582827568054, -0.19514533877372742, 0.1002747043967247, 0.36649289727211, 0.41097259521484375, 0.17383840680122375, -0.18181316554546356, -0.44374290108680725, -0.42845645546913147, -0.17010115087032318, 0.14036498963832855, 0.37989920377731323, 0.48961955308914185, 0.31841763854026794, -0.084066241979599, -0.44526559114456177, -0.625948965549469, -0.4190409779548645, 0.05862550437450409, 0.5540294647216797, 0.7271810173988342, 0.46075332164764404, -0.0849061980843544, -0.5721810460090637, -0.7205264568328857, -0.4754489064216614, 0.03417486324906349, 0.49643611907958984, 0.7087154388427734, 0.6076900959014893, 0.14275361597537994, -0.47722893953323364, -0.8507854342460632, -0.7543421387672424, -0.1661534160375595, 0.5526366829872131, 0.9288570284843445, 0.7712652087211609, 0.1514538824558258, -0.5284703373908997, -0.8913115859031677, -0.7448386549949646, -0.20490698516368866, 0.42954015731811523, 0.8907045125961304, 0.8457503318786621, 0.3510305881500244, -0.38848862051963806, -0.9535336494445801, -0.9686340093612671, -0.39240044355392456, 0.40847593545913696, 0.9613960981369019, 0.9197704792022705, 0.3613682687282562, -0.3991679251194, -0.8888757824897766, -0.8722842335700989, -0.4089660346508026, 0.2714105546474457, 0.7964600324630737, 0.9410792589187622, 0.5399714112281799, -0.23201361298561096, -0.8684441447257996, -0.9885151386260986, -0.5149653553962708, 0.253446489572525, 0.8132995367050171, 0.870308518409729, 0.42819344997406006, -0.21308299899101257, -0.6411623358726501, -0.7060068845748901, -0.39896759390830994, 0.07414215803146362, 0.5080873966217041, 0.6390760540962219, 0.45028355717658997, -0.005743112880736589, -0.3981451094150543, -0.48170244693756104, -0.322211354970932, 0.008990122005343437, 0.23454804718494415, 0.25578951835632324, 0.15384797751903534, 0.10433505475521088, 0.11522385478019714, 0.03987067565321922, -0.06848734617233276, -0.2590178847312927, -0.34816569089889526, -0.22791187465190887, 0.04587150737643242, 0.35619673132896423, 0.5459728240966797, 0.4418882429599762, 0.07336431741714478, -0.3667446970939636, -0.7395118474960327, -0.7390196919441223, -0.2689651548862457, 0.487773597240448, 1.0498433113098145, 1.0464093685150146, 0.3524843752384186, -0.6570964455604553, -1.290326714515686, -1.2084347009658813, -0.356283575296402, 0.723774790763855, 1.4420324563980103, 1.3287979364395142, 0.46140047907829285, -0.6924410462379456, -1.567354679107666, -1.5468473434448242, -0.6003554463386536, 0.7847760915756226, 1.7478444576263428, 1.7144708633422852, 0.6209440231323242, -0.9096640348434448, -1.8858120441436768, -1.7384251356124878, -0.5764015913009644, 0.9515986442565918, 1.8882994651794434, 1.728005290031433, 0.5954034924507141, -0.875474750995636, -1.8908590078353882, -1.8248456716537476, -0.6607617735862732, 0.9219815135002136, 1.9754343032836914, 1.8784488439559937, 0.6041269898414612, -0.9986802339553833, -1.9737536907196045, -1.7678959369659424, -0.5187676548957825, 1.0047930479049683, 1.8770939111709595, 1.6222187280654907, 0.46957001090049744, -0.8885961771011353, -1.7580300569534302, -1.618780255317688, -0.5220057964324951, 0.8814955949783325, 1.7642567157745361, 1.5327471494674683, 0.4104304313659668, -0.9586973190307617, -1.7102888822555542, -1.3757761716842651, -0.259858101606369, 0.9409987926483154, 1.5246201753616333, 1.1584843397140503, 0.22982697188854218, -0.8073153495788574, -1.377994418144226, -1.1006484031677246, -0.22004865109920502, 0.7809382081031799, 1.2976608276367188, 1.0227798223495483, 0.1370755136013031, -0.8072347044944763, -1.2139012813568115, -0.837211549282074, -0.0067756036296486855, 0.7654457688331604, 1.0224189758300781, 0.6624809503555298, -0.01981111615896225, -0.6068207621574402, -0.8616260290145874, -0.6091576218605042, 0.007868706248700619, 0.5610057711601257, 0.7791585922241211, 0.5567917823791504, -0.007112468592822552, -0.5712377429008484, -0.7122020721435547, -0.39743030071258545, 0.11141131073236465, 0.5037492513656616, 0.5297811627388, 0.2643669843673706, -0.07447374612092972, -0.3210861384868622, -0.40918105840682983, -0.25471678376197815, 0.0054353270679712296, 0.24664711952209473, 0.3954846262931824, 0.2553986608982086, -0.009138890542089939, -0.2494552731513977, -0.3350990414619446, -0.17488573491573334, 0.04343084245920181, 0.18710651993751526, 0.17448627948760986, 0.10201658308506012, 0.04356718808412552, -0.0024582778569310904, -0.07867381721735, -0.1688225269317627, -0.19442234933376312, -0.05474173650145531, 0.11916540563106537, 0.24526740610599518, 0.24207785725593567, 0.052057672291994095, -0.09149361401796341, -0.2218610644340515, -0.2618458867073059, -0.17517708241939545, 0.002664403524249792, 0.2137388437986374, 0.395889014005661, 0.35509350895881653, 0.023802906274795532, -0.3323047459125519, -0.5457271933555603, -0.4160953760147095, 0.024886174127459526, 0.46556273102760315, 0.6027117371559143, 0.352046936750412, -0.06562432646751404, -0.46052125096321106, -0.6099668145179749, -0.4210042953491211, 0.007381202187389135, 0.4764191806316376, 0.6964830756187439, 0.5573084354400635, 0.015329495072364807, -0.5964664816856384, -0.8620527982711792, -0.5792689919471741, 0.10389510542154312, 0.7190885543823242, 0.9145866632461548, 0.49287083745002747, -0.16029773652553558, -0.717547595500946, -0.8623659610748291, -0.5464956760406494, 0.11279455572366714, 0.7253017425537109, 0.9395204782485962, 0.6083219051361084, -0.08586105704307556, -0.7964541912078857, -1.043431043624878, -0.62961745262146, 0.17170992493629456, 0.8685165047645569, 0.9810559153556824, 0.5414806008338928, -0.20509201288223267, -0.803330659866333, -0.9040716290473938, -0.5087565779685974, 0.15618796646595, 0.7419094443321228, 0.9143032431602478, 0.5795481204986572, -0.13425610959529877, -0.7777862548828125, -0.9684723019599915, -0.5239733457565308, 0.22325995564460754, 0.818702757358551, 0.8642386794090271, 0.36507266759872437, -0.2594526708126068, -0.7066888213157654, -0.7148988246917725, -0.31508177518844604, 0.21310123801231384, 0.6232370138168335, 0.6801300644874573, 0.3412504196166992, -0.22052569687366486, -0.6286582350730896, -0.6641064882278442, -0.23606859147548676, 0.32432305812835693, 0.6176739931106567, 0.5211966633796692, 0.07554347813129425, -0.4084063768386841, -0.547012984752655, -0.3382023274898529, 0.02011302299797535, 0.34589818120002747, 0.4197946786880493, 0.2849859893321991, -0.06331505626440048, -0.34051668643951416, -0.42735809087753296, -0.2439878284931183, 0.16745758056640625, 0.45815369486808777, 0.42648711800575256, 0.09588588029146194, -0.32775112986564636, -0.5242021679878235, -0.325367271900177, 0.06425797939300537, 0.436480313539505, 0.4618876278400421, 0.24691900610923767, -0.14306265115737915, -0.4519733786582947, -0.45766836404800415, -0.2463742345571518, 0.17034770548343658, 0.5268417000770569, 0.6096970438957214, 0.245579794049263, -0.3208577334880829, -0.6772441864013672, -0.6224726438522339, -0.11133737117052078, 0.4599857032299042, 0.7410473823547363, 0.5873143076896667, 0.030080031603574753, -0.4957934319972992, -0.7209406495094299, -0.5243330597877502, -0.041850604116916656, 0.45961418747901917, 0.7446796298027039, 0.5863794684410095, 0.09128949046134949, -0.5139219760894775, -0.8309723734855652, -0.6145085692405701, -0.002872536890208721, 0.6262466311454773, 0.8165459036827087, 0.4974078834056854, -0.06265732645988464, -0.5617125034332275, -0.7122129201889038, -0.4338544011116028, 0.021838553249835968, 0.46140068769454956, 0.641046941280365, 0.4967154264450073, 0.01430283859372139, -0.45695191621780396, -0.6720962524414062, -0.4848233461380005, 0.029822375625371933, 0.4715171158313751, 0.6010977625846863, 0.343806654214859, -0.08283928781747818, -0.41722339391708374, -0.4544181227684021, -0.262359619140625, 0.018972842022776604, 0.26678982377052307, 0.3455753028392792, 0.2879338264465332, 0.036366794258356094, -0.2439914494752884, -0.38181906938552856, -0.25204190611839294, 0.021405363455414772, 0.276015043258667, 0.29846063256263733, 0.14304868876934052, -0.06938706338405609, -0.19507959485054016, -0.13954533636569977, -0.025839781388640404, 0.03592676669359207, 0.08750902116298676, 0.12073826789855957, 0.0721747949719429, 0.0011603070888668299, -0.09515238553285599, -0.11431826651096344, -0.035263627767562866, 0.07669579982757568, 0.1456415057182312, 0.061858873814344406, -0.07223580032587051, -0.18422389030456543, -0.11186563968658447, 0.04663192108273506, 0.1863703429698944, 0.15562696754932404, 0.024482326582074165, -0.09603135287761688, -0.11131903529167175, -0.11534344404935837, -0.08432158082723618, 0.016489529982209206, 0.15168730914592743, 0.24726204574108124, 0.15214090049266815, -0.03562580794095993, -0.2502979040145874, -0.33850762248039246, -0.15650725364685059, 0.11339224129915237, 0.3137355446815491, 0.2908443808555603, 0.0876951515674591, -0.12582238018512726, -0.25891488790512085, -0.26525264978408813, -0.16658693552017212, 0.046954039484262466, 0.2515372037887573, 0.34666261076927185, 0.2916557788848877, -0.002050914568826556, -0.3291890025138855, -0.42397719621658325, -0.282378613948822, 0.06222255155444145, 0.34102264046669006, 0.4023173153400421, 0.2332155704498291, -0.03157975524663925, -0.26244300603866577, -0.34476238489151, -0.29376140236854553, -0.09002893418073654, 0.17900265753269196, 0.3822568356990814, 0.3738540709018707, 0.1092194989323616, -0.23998644948005676, -0.42028719186782837, -0.3555065095424652, -0.06448325514793396, 0.1997947245836258, 0.33146458864212036, 0.2669329345226288, 0.0879121944308281, -0.09235704690217972, -0.22690659761428833, -0.2648344039916992, -0.20465430617332458, -0.009897042065858841, 0.242865651845932, 0.31283465027809143, 0.23193100094795227, -0.02475130744278431, -0.2141387164592743, -0.251994788646698, -0.14451226592063904, -0.01130297314375639, 0.06208587810397148, 0.11141734570264816, 0.16968727111816406, 0.18593081831932068, 0.0987425372004509, -0.08430075645446777, -0.22700949013233185, -0.2643263339996338, -0.12320887297391891, 0.08903691917657852, 0.23129090666770935, 0.2371903955936432, 0.1318678855895996, 0.0014659067383036017, -0.11158587038516998, -0.21346993744373322, -0.2681220471858978, -0.1407570242881775, 0.08882644027471542, 0.33044618368148804, 0.38871923089027405, 0.193793386220932, -0.11551884561777115, -0.35917794704437256, -0.3703722059726715, -0.18468888103961945, 0.08312646299600601, 0.2555486261844635, 0.33148613572120667, 0.2507874071598053, 0.07467475533485413, -0.19409887492656708, -0.37368008494377136, -0.3545149266719818, -0.10309229046106339, 0.20162954926490784, 0.3985677659511566, 0.3538852334022522, 0.09775785356760025, -0.14640776813030243, -0.3189772367477417, -0.29597505927085876, -0.13756942749023438, 0.008349728770554066, 0.1856246292591095, 0.3247634768486023, 0.2818649411201477, 0.08539808541536331, -0.1552065908908844, -0.3622211217880249, -0.33862003684043884, -0.12015561759471893, 0.13404081761837006, 0.3127521872520447, 0.3216801583766937, 0.18907396495342255, 0.025623850524425507, -0.18670012056827545, -0.3557295501232147, -0.3716839849948883, -0.14325790107250214, 0.18516938388347626, 0.48550960421562195, 0.5111640691757202, 0.2000635266304016, -0.26348885893821716, -0.5406976938247681, -0.5198886394500732, -0.22292883694171906, 0.1977977454662323, 0.4787868857383728, 0.5588093400001526, 0.3566495478153229, -0.0973467156291008, -0.5466376543045044, -0.7169440984725952, -0.43880435824394226, 0.13711047172546387, 0.6809293031692505, 0.8168888092041016, 0.41619953513145447, -0.23333929479122162, -0.704296350479126, -0.7719634771347046, -0.3975042402744293, 0.22734728455543518, 0.68128901720047, 0.790823757648468, 0.4649199843406677, -0.15734823048114777, -0.7099466323852539, -0.8955987691879272, -0.5199596881866455, 0.21375028789043427, 0.8233897686004639, 0.9499833583831787, 0.45224595069885254, -0.30291613936424255, -0.8480788469314575, -0.8766304850578308, -0.37188535928726196, 0.33291348814964294, 0.7928136587142944, 0.8105822801589966, 0.38366079330444336, -0.31796151399612427, -0.8519905209541321, -0.8763675689697266, -0.3876223862171173, 0.37276914715766907, 0.9318218231201172, 0.855987548828125, 0.2516203224658966, -0.48781004548072815, -0.9314639568328857, -0.736983060836792, -0.14599008858203888, 0.5009650588035583, 0.806464672088623, 0.6535166501998901, 0.1260768622159958, -0.46968451142311096, -0.7730345726013184, -0.6219589114189148, -0.06835706532001495, 0.5519617199897766, 0.7981589436531067, 0.5627458691596985, -0.05738379806280136, -0.6372045278549194, -0.7643389701843262, -0.37805286049842834, 0.186105415225029, 0.5913496613502502, 0.5890725255012512, 0.21436740458011627, -0.22894404828548431, -0.5237036347389221, -0.4832879900932312, -0.18357756733894348, 0.28233107924461365, 0.5509837865829468, 0.47306764125823975, 0.09270431846380234, -0.391745388507843, -0.6323961019515991, -0.3812311887741089, 0.10168937593698502, 0.5064276456832886, 0.5287911295890808, 0.20767764747142792, -0.25607842206954956, -0.48820844292640686, -0.4267595410346985, -0.12485288828611374, 0.2577376365661621, 0.48870980739593506, 0.42621171474456787, 0.11258538067340851, -0.33509063720703125, -0.5615509748458862, -0.43772485852241516, -0.027655158191919327, 0.4457772374153137, 0.629141628742218, 0.3756692111492157, -0.14059582352638245, -0.5451666712760925, -0.5673036575317383, -0.24043144285678864, 0.18250034749507904, 0.5078834295272827, 0.5012813210487366, 0.2241782695055008, -0.17491859197616577, -0.46503061056137085, -0.541943371295929, -0.23700200021266937, 0.1911017894744873, 0.5120468735694885, 0.520196259021759, 0.15518426895141602, -0.2733701169490814, -0.554426908493042, -0.39545950293540955, -0.060557812452316284, 0.3015654385089874, 0.41296058893203735, 0.26403799653053284, 0.00655679777264595, -0.23741120100021362, -0.3450656235218048, -0.26119464635849, -0.0062623582780361176, 0.26276764273643494, 0.40257084369659424, 0.24181236326694489, -0.09990186244249344, -0.38392868638038635, -0.37219393253326416, -0.07367534935474396, 0.2581433951854706, 0.39880794286727905, 0.22815115749835968, -0.07131726294755936, -0.3445710837841034, -0.36298808455467224, -0.15340197086334229, 0.09991565346717834, 0.3389170467853546, 0.4063875377178192, 0.20295369625091553, -0.14586091041564941, -0.48995351791381836, -0.5416074991226196, -0.1945538967847824, 0.33116620779037476, 0.7041227221488953, 0.6014993786811829, 0.14107748866081238, -0.4396973252296448, -0.7740931510925293, -0.6071310639381409, -0.07205197960138321, 0.48563358187675476, 0.7811842560768127, 0.6695629954338074, 0.14372403919696808, -0.47399458289146423, -0.9299554228782654, -0.8346119523048401, -0.2404738962650299, 0.5849096775054932, 1.1147570610046387, 0.9361186623573303, 0.14656580984592438, -0.7159458994865417, -1.1571409702301025, -0.9040768146514893, -0.1346255987882614, 0.7104516625404358, 1.1330152750015259, 0.9496525526046753, 0.18634924292564392, -0.6913660168647766, -1.2154524326324463, -1.000526785850525, -0.1576322466135025, 0.8227134943008423, 1.2932463884353638, 0.9487147927284241, -0.0024353312328457832, -0.8896271586418152, -1.2037739753723145, -0.77906334400177, 0.1009247750043869, 0.8568080067634583, 1.0642021894454956, 0.645990252494812, -0.10872317105531693, -0.8231639266014099, -0.997799813747406, -0.539562463760376, 0.25635913014411926, 0.9167875051498413, 0.9543555378913879, 0.38217243552207947, -0.48625579476356506, -0.9733855724334717, -0.7813008427619934, -0.09202917665243149, 0.6620378494262695, 0.8775047659873962, 0.5465881824493408, -0.13590583205223083, -0.6803542375564575, -0.8055171966552734, -0.3936726748943329, 0.29493802785873413, 0.8077558279037476, 0.8150432109832764, 0.2982407808303833, -0.5138270258903503, -0.9965903759002686, -0.82335364818573, -0.06177593767642975, 0.8084919452667236, 1.1322399377822876, 0.7205517292022705, -0.1954384595155716, -0.9667443633079529, -1.1312191486358643, -0.5857977867126465, 0.318594366312027, 1.0413192510604858, 1.1588575839996338, 0.559436023235321, -0.4358266294002533, -1.2050769329071045, -1.2790391445159912, -0.5180993676185608, 0.6068342328071594, 1.3954973220825195, 1.3026949167251587, 0.37216639518737793, -0.8376112580299377, -1.4870197772979736, -1.2228764295578003, -0.2020108550786972, 0.9195343852043152, 1.45564866065979, 1.1334384679794312, 0.13408036530017853, -0.9615071415901184, -1.5347223281860352, -1.1786375045776367, -0.10113021731376648, 1.0711833238601685, 1.6092482805252075, 1.1138417720794678, -0.06107810139656067, -1.2152595520019531, -1.618165135383606, -1.0024070739746094, 0.22508560121059418, 1.2738863229751587, 1.506561279296875, 0.8714885711669922, -0.2313023805618286, -1.216465711593628, -1.487335443496704, -0.8695746064186096, 0.24859555065631866, 1.2587635517120361, 1.5069772005081177, 0.8165063858032227, -0.38690856099128723, -1.3252859115600586, -1.4569185972213745, -0.6504641771316528, 0.49884873628616333, 1.2733650207519531, 1.2909157276153564, 0.5254985094070435, -0.4735412895679474, -1.1756281852722168, -1.164561152458191, -0.4997020363807678, 0.45587432384490967, 1.1351840496063232, 1.145311951637268, 0.4397145211696625, -0.5759009122848511, -1.166473388671875, -0.9967032074928284, -0.20522336661815643, 0.6561935544013977, 1.050754189491272, 0.759713888168335, 0.05834377184510231, -0.6442800164222717, -0.8727247714996338, -0.6175573468208313, -0.009826420806348324, 0.5890598893165588, 0.8210339546203613, 0.5432928204536438, -0.09310522675514221, -0.6817525625228882, -0.8018913269042969, -0.3434304893016815, 0.2971913814544678, 0.7438675165176392, 0.6536198854446411, 0.09879845380783081, -0.4731905460357666, -0.696223258972168, -0.46273961663246155, 0.06720344722270966, 0.5279115438461304, 0.6302874684333801, 0.35654935240745544, -0.14521248638629913, -0.6086509823799133, -0.6788932085037231, -0.31960734724998474, 0.295357346534729, 0.7523420453071594, 0.7165047526359558, 0.17926520109176636, -0.5076829195022583, -0.8563342690467834, -0.6158011555671692, -0.02269013784825802, 0.5897069573402405, 0.7987567186355591, 0.543304979801178, 0.010994164273142815, -0.5720632076263428, -0.7984499335289001, -0.5828450322151184, -0.012418408878147602, 0.5997788310050964, 0.8629608154296875, 0.606736421585083, -0.05752582848072052, -0.7106523513793945, -0.8900838494300842, -0.499824583530426, 0.15636658668518066, 0.6887983679771423, 0.7678855061531067, 0.41729915142059326, -0.13778658211231232, -0.562170684337616, -0.6981379389762878, -0.42499610781669617, 0.05348511040210724, 0.49237799644470215, 0.7064531445503235, 0.47405752539634705, -0.04146411642432213, -0.5429834723472595, -0.6361796259880066, -0.3903878629207611, 0.08497253060340881, 0.4502350091934204, 0.5177382826805115, 0.29656851291656494, -0.020356062799692154, -0.27321353554725647, -0.41349926590919495, -0.3641476035118103, -0.09862856566905975, 0.21845407783985138, 0.4676678478717804, 0.4290674030780792, 0.11917026340961456, -0.25512784719467163, -0.4451678693294525, -0.36136749386787415, -0.09102682024240494, 0.205475315451622, 0.33570775389671326, 0.3227091133594513, 0.16315163671970367, -0.05991983413696289, -0.28067904710769653, -0.39750897884368896, -0.2629319727420807, 0.04056203365325928, 0.33328670263290405, 0.47752681374549866, 0.26485490798950195, -0.09912759810686111, -0.3873620927333832, -0.4001172184944153, -0.2236364632844925, 0.09022600948810577, 0.31699585914611816, 0.3378738462924957, 0.29595252871513367, 0.029137887060642242, -0.2671697735786438, -0.4146462678909302, -0.35673093795776367, -0.05678151547908783, 0.3222772479057312, 0.49153196811676025, 0.36840319633483887, -0.012662115506827831, -0.3467189371585846, -0.41731497645378113, -0.29871490597724915, -0.026476243510842323, 0.19823597371578217, 0.3523729145526886, 0.3430280089378357, 0.13182930648326874, -0.18235625326633453, -0.38581031560897827, -0.40318551659584045, -0.17631752789020538, 0.20943264663219452, 0.44211694598197937, 0.37350210547447205, 0.10875251889228821, -0.20717094838619232, -0.3432033360004425, -0.27912724018096924, -0.14055219292640686, 0.05118785798549652, 0.2370775192975998, 0.2676502466201782, 0.2179272621870041, 0.023016080260276794, -0.21497152745723724, -0.3404545485973358, -0.23169896006584167, -0.008397988975048065, 0.2125539630651474, 0.24849145114421844, 0.14897361397743225, 0.02572263777256012, -0.07325073331594467, -0.10605250298976898, -0.1492619663476944, -0.18740884959697723, -0.08982112258672714, 0.09362650662660599, 0.23172160983085632, 0.26121026277542114, 0.11161358654499054, -0.10093271732330322, -0.23226042091846466, -0.2576409876346588, -0.1624574363231659, 0.023120218887925148, 0.1660338193178177, 0.30162879824638367, 0.3113376200199127, 0.12450241297483444, -0.18813978135585785, -0.4464266002178192, -0.4602900445461273, -0.13851380348205566, 0.297900527715683, 0.5593904852867126, 0.47939515113830566, 0.10534078627824783, -0.3624803125858307, -0.5588709115982056, -0.47330963611602783, -0.1255696564912796, 0.2986690402030945, 0.595071017742157, 0.6086524128913879, 0.2515537142753601, -0.34314054250717163, -0.740986704826355, -0.7350390553474426, -0.24400080740451813, 0.4453759491443634, 0.8346303105354309, 0.7358906269073486, 0.18018648028373718, -0.4963206946849823, -0.8323724269866943, -0.7464553117752075, -0.22245416045188904, 0.43255019187927246, 0.8552001118659973, 0.8489755988121033, 0.29838278889656067, -0.47288841009140015, -0.9959350824356079, -0.949627161026001, -0.2655705213546753, 0.5858076214790344, 1.0624574422836304, 0.9163309931755066, 0.22746920585632324, -0.5961642861366272, -1.0442695617675781, -0.8702232241630554, -0.2290223389863968, 0.5256093740463257, 1.025248408317566, 0.9510067701339722, 0.3175293207168579, -0.5509153604507446, -1.105849027633667, -1.023985505104065, -0.2939409911632538, 0.614351212978363, 1.1336489915847778, 0.9775907397270203, 0.26183396577835083, -0.5877619385719299, -1.067113995552063, -0.9287705421447754, -0.32464924454689026, 0.47374680638313293, 1.0029791593551636, 1.002638578414917, 0.4363020360469818, -0.4214193522930145, -1.059289574623108, -1.0670636892318726, -0.4553747773170471, 0.43559736013412476, 1.038960337638855, 1.00009024143219, 0.451871782541275, -0.3429456353187561, -0.9042546153068542, -0.9619989991188049, -0.4897181987762451, 0.1942361742258072, 0.8020787239074707, 0.9958608746528625, 0.6145990490913391, -0.09802064299583435, -0.826416015625, -1.0495197772979736, -0.6195650696754456, 0.11086459457874298, 0.7839517593383789, 0.9648796916007996, 0.6107668876647949, -0.06611566990613937, -0.6354985237121582, -0.8700178265571594, -0.6453079581260681, -0.06611911952495575, 0.5399534106254578, 0.8892211318016052, 0.721259593963623, 0.14791898429393768, -0.547865629196167, -0.8677353262901306, -0.6987053751945496, -0.13205425441265106, 0.47565582394599915, 0.745452880859375, 0.5947719216346741, 0.19166533648967743, -0.30774688720703125, -0.6052880883216858, -0.5946731567382812, -0.29836729168891907, 0.17915412783622742, 0.5581005811691284, 0.6608659029006958, 0.35904133319854736, -0.1455399990081787, -0.5412887334823608, -0.5930399298667908, -0.3162967264652252, 0.048751406371593475, 0.3670962452888489, 0.4709089398384094, 0.35890743136405945, 0.10189725458621979, -0.19455373287200928, -0.4569656550884247, -0.45226922631263733, -0.21867667138576508, 0.15831208229064941, 0.4432397484779358, 0.4863070249557495, 0.268539160490036, -0.08959199488162994, -0.3691674470901489, -0.4195730984210968, -0.3246092200279236, -0.06712518632411957, 0.2122701108455658, 0.44399794936180115, 0.4665238857269287, 0.18474775552749634, -0.18641342222690582, -0.5068007707595825, -0.5366488099098206, -0.21068336069583893, 0.21562445163726807, 0.4484255909919739, 0.45858198404312134, 0.23120927810668945, -0.1165403202176094, -0.36974650621414185, -0.41868215799331665, -0.33251500129699707, -0.03282061219215393, 0.2956278324127197, 0.5040581226348877, 0.4158942401409149, 0.06213052570819855, -0.34963852167129517, -0.5491587519645691, -0.40863272547721863, -0.05626153573393822, 0.24701237678527832, 0.3984096348285675, 0.38769567012786865, 0.17553889751434326, -0.10762086510658264, -0.3591771721839905, -0.4525481164455414, -0.31696632504463196, 0.02313484624028206, 0.36147066950798035, 0.5262341499328613, 0.3662964999675751, 0.004641504026949406, -0.37110430002212524, -0.48791515827178955, -0.3413051962852478, -0.04445044323801994, 0.22548530995845795, 0.40872713923454285, 0.4123706817626953, 0.18812640011310577, -0.1768619418144226, -0.47194942831993103, -0.5369572043418884, -0.2551352381706238, 0.19770455360412598, 0.5148255825042725, 0.5223501920700073, 0.20583795011043549, -0.1613273173570633, -0.4361046850681305, -0.4648211896419525, -0.27255645394325256, 0.006841196212917566, 0.31293201446533203, 0.4813137650489807, 0.40620318055152893, 0.08684732019901276, -0.31252026557922363, -0.5542110204696655, -0.4064268171787262, -0.01904061622917652, 0.3387738764286041, 0.48877373337745667, 0.3527085483074188, 0.07810059189796448, -0.22853492200374603, -0.3925617039203644, -0.39604905247688293, -0.19820380210876465, 0.10543914139270782, 0.36266961693763733, 0.46769607067108154, 0.26957035064697266, -0.09438668936491013, -0.4171980619430542, -0.47529006004333496, -0.23860953748226166, 0.08132199943065643, 0.3337045907974243, 0.3586932122707367, 0.20534318685531616, -0.004108683206140995, -0.20076884329319, -0.3192417025566101, -0.32423126697540283, -0.14116138219833374, 0.16844353079795837, 0.3737846612930298, 0.3551335632801056, 0.10240403562784195, -0.14411301910877228, -0.3147641718387604, -0.25014087557792664, -0.10205202549695969, 0.02620047517120838, 0.13982261717319489, 0.18848539888858795, 0.18475741147994995, 0.12346132099628448, -0.04151282459497452, -0.258720725774765, -0.333953320980072, -0.15520456433296204, 0.04506304860115051, 0.26186269521713257, 0.3256247341632843, 0.19160990417003632, 0.023942600935697556, -0.16177481412887573, -0.2965318262577057, -0.33575955033302307, -0.17759743332862854, 0.0851612389087677, 0.38911616802215576, 0.48950880765914917, 0.29052457213401794, -0.11230141669511795, -0.4756932854652405, -0.5243802070617676, -0.28308746218681335, 0.11541922390460968, 0.47384577989578247, 0.5563253164291382, 0.3723667860031128, 0.0010104004759341478, -0.42017388343811035, -0.6373441815376282, -0.5126795172691345, -0.07218631356954575, 0.4596027731895447, 0.7451454997062683, 0.5805673003196716, 0.0157531276345253, -0.5438825488090515, -0.7313477993011475, -0.5136598944664001, -0.04065469279885292, 0.4014691412448883, 0.641667902469635, 0.5283395648002625, 0.16940352320671082, -0.2479977160692215, -0.5472068190574646, -0.6047438979148865, -0.31465521454811096, 0.10653980076313019, 0.4619804322719574, 0.5618581771850586, 0.37564486265182495, 0.040638670325279236, -0.2626377046108246, -0.45006418228149414, -0.518362820148468, -0.4013339579105377, -0.028267208486795425, 0.409882515668869, 0.7902671694755554, 0.7824824452400208, 0.27486446499824524, -0.4806290566921234, -1.0624241828918457, -1.072422981262207, -0.4902989864349365, 0.4594670236110687, 1.1976940631866455, 1.3771363496780396, 0.7980462908744812, -0.331666499376297, -1.3880785703659058, -1.8108956813812256, -1.1588799953460693, 0.2967238426208496, 1.7254968881607056, 2.2465567588806152, 1.3881757259368896, -0.3817724287509918, -1.9971314668655396, -2.544088125228882, -1.5822765827178955, 0.355171263217926, 2.1416730880737305, 2.774801254272461, 1.843300700187683, -0.21192654967308044, -2.300157070159912, -3.1048951148986816, -2.0903520584106445, 0.2192808985710144, 2.505439519882202, 3.384516477584839, 2.2338314056396484, -0.2871672511100769, -2.6670026779174805, -3.5021016597747803, -2.2877261638641357, 0.27543702721595764, 2.7008140087127686, 3.577080249786377, 2.4170987606048584, -0.16632750630378723, -2.7408089637756348, -3.7366044521331787, -2.559450387954712, 0.1619545966386795, 2.821927547454834, 3.823089838027954, 2.5290277004241943, -0.2253359705209732, -2.8385488986968994, -3.740487575531006, -2.4428791999816895, 0.22269800305366516, 2.7143406867980957, 3.6144092082977295, 2.4126086235046387, -0.15134213864803314, -2.590161085128784, -3.5198333263397217, -2.3745412826538086, 0.15688882768154144, 2.5603528022766113, 3.4065635204315186, 2.2054972648620605, -0.24308708310127258, -2.4547152519226074, -3.105332374572754, -1.9717637300491333, 0.26497015357017517, 2.2144246101379395, 2.799812078475952, 1.7902467250823975, -0.20837260782718658, -1.9985004663467407, -2.6147098541259766, -1.6319422721862793, 0.2393302321434021, 1.8948262929916382, 2.352792501449585, 1.3616218566894531, -0.3599470853805542, -1.7213250398635864, -1.97474205493927, -1.0130538940429688, 0.4255068004131317, 1.4398283958435059, 1.557356357574463, 0.7881748676300049, -0.3485058844089508, -1.2008424997329712, -1.3024210929870605, -0.5777550339698792, 0.42555463314056396, 1.0634891986846924, 1.0021882057189941, 0.2957180142402649, -0.5254412889480591, -0.9038313031196594, -0.6497488617897034, 0.017923446372151375, 0.5744113922119141, 0.6488420367240906, 0.3051421344280243, -0.20238268375396729, -0.517882764339447, -0.4779973030090332, -0.08597039431333542, 0.32051175832748413, 0.5571737885475159, 0.3577115535736084, -0.11281252652406693, -0.5487353205680847, -0.6177257299423218, -0.24966958165168762, 0.4070770740509033, 0.7911124229431152, 0.6361760497093201, 0.018592525273561478, -0.651810884475708, -0.877112865447998, -0.5672820210456848, 0.14403457939624786, 0.746085524559021, 0.8939754962921143, 0.5095532536506653, -0.17842641472816467, -0.792891263961792, -0.9739692807197571, -0.5731285810470581, 0.20915620028972626, 0.9490930438041687, 1.0999560356140137, 0.5240997076034546, -0.3724777400493622, -1.0584899187088013, -1.0663026571273804, -0.41281044483184814, 0.45903027057647705, 1.0196138620376587, 0.977547824382782, 0.36288344860076904, -0.43667885661125183, -0.9635456800460815, -0.9541988372802734, -0.4143582880496979, 0.3887835144996643, 1.0016701221466064, 0.9737286567687988, 0.3508254885673523, -0.47180211544036865, -0.9773666858673096, -0.8697906136512756, -0.21564920246601105, 0.502794086933136, 0.8448458313941956, 0.6867567300796509, 0.150242879986763, -0.43441516160964966, -0.7023981809616089, -0.6121698021888733, -0.19026781618595123, 0.3686170279979706, 0.6975212097167969, 0.5678175687789917, 0.111167773604393, -0.39611560106277466, -0.6392956972122192, -0.4204590320587158, 0.0385361984372139, 0.42445439100265503, 0.4756360352039337, 0.2073984295129776, -0.09497489035129547, -0.24950943887233734, -0.24392834305763245, -0.11685287952423096, 0.07334738969802856, 0.17428366839885712, 0.18863868713378906, 0.05526517331600189, -0.10006756335496902, -0.19891630113124847, -0.10099470615386963, 0.06294316053390503, 0.18358151614665985, 0.14953453838825226, -0.05006484314799309, -0.2449394166469574, -0.21164286136627197, -0.0022501267958432436, 0.19770343601703644, 0.2724030613899231, 0.13659633696079254, -0.12761394679546356, -0.25178682804107666, -0.24390694499015808, -0.05492633208632469, 0.13335761427879333, 0.2819471061229706, 0.31802815198898315, 0.13685768842697144, -0.17980188131332397, -0.40824446082115173, -0.38748300075531006, -0.08356515318155289, 0.3464648127555847, 0.5280382037162781, 0.3537828028202057, -0.08341339975595474, -0.43936657905578613, -0.4938591420650482, -0.257248193025589, 0.15469664335250854, 0.43288591504096985, 0.49446937441825867, 0.25830313563346863, -0.10271534323692322, -0.4589848518371582, -0.5352102518081665, -0.27706167101860046, 0.19816400110721588, 0.6002940535545349, 0.5996351838111877, 0.2130362093448639, -0.33521172404289246, -0.6344863772392273, -0.5211305022239685, -0.06644722819328308, 0.4196212887763977, 0.6228529214859009, 0.4509553909301758, 0.029525913298130035, -0.3943672478199005, -0.5874698162078857, -0.45626917481422424, -0.055004607886075974, 0.4521942734718323, 0.6981927156448364, 0.47616341710090637, -0.08776388317346573, -0.5703399181365967, -0.7203468084335327, -0.3629118502140045, 0.2177981436252594, 0.6258538961410522, 0.6483663320541382, 0.2374589443206787, -0.2339426428079605, -0.5762174725532532, -0.5699979066848755, -0.20035365223884583, 0.24174736440181732, 0.5736026763916016, 0.5821463465690613, 0.17535842955112457, -0.3853817880153656, -0.7026128768920898, -0.5444435477256775, -0.04064056649804115, 0.5364730358123779, 0.7029460072517395, 0.4053908884525299, -0.1484127640724182, -0.5829214453697205, -0.6113495826721191, -0.280023455619812, 0.21256773173809052, 0.5593603849411011, 0.5575876832008362, 0.25312647223472595, -0.26534637808799744, -0.666873037815094, -0.6223561763763428, -0.1799987256526947, 0.4166000187397003, 0.7793344855308533, 0.5587380528450012, -0.036647625267505646, -0.6060807108879089, -0.7869325280189514, -0.4232136905193329, 0.19894826412200928, 0.6515575647354126, 0.7060655951499939, 0.3399929106235504, -0.223105788230896, -0.6708008646965027, -0.7584477066993713, -0.3540104627609253, 0.305258184671402, 0.8329831957817078, 0.8269186615943909, 0.2801553010940552, -0.49411648511886597, -0.9261249899864197, -0.7615283131599426, -0.11924418061971664, 0.5982783436775208, 0.949565052986145, 0.6870250105857849, 0.04337964951992035, -0.5945146679878235, -0.9265670776367188, -0.6923109292984009, -0.05997810885310173, 0.6315369009971619, 0.997986912727356, 0.7491849660873413, -0.016201598569750786, -0.7695813179016113, -1.0805754661560059, -0.6949021220207214, 0.10758325457572937, 0.8111476302146912, 1.0058815479278564, 0.5877137184143066, -0.1838601529598236, -0.7602887749671936, -0.9207690358161926, -0.5783577561378479, 0.11852388828992844, 0.7418384552001953, 0.974550724029541, 0.6269433498382568, -0.12975595891475677, -0.8257929682731628, -0.9990605115890503, -0.5246481895446777, 0.25173020362854004, 0.8363173007965088, 0.8673163056373596, 0.3841826617717743, -0.2568521201610565, -0.7274924516677856, -0.764411985874176, -0.40015020966529846, 0.18307359516620636, 0.6658726930618286, 0.7605474591255188, 0.42080774903297424, -0.1852283775806427, -0.6751195192337036, -0.7329122424125671, -0.33445125818252563, 0.2508653700351715, 0.6618648171424866, 0.6357272863388062, 0.219922736287117, -0.2747301459312439, -0.5199860334396362, -0.487465500831604, -0.18716779351234436, 0.17920733988285065, 0.4435572028160095, 0.4611303508281708, 0.2417263388633728, -0.14473247528076172, -0.46581149101257324, -0.4814821779727936, -0.18278342485427856, 0.2122059166431427, 0.4429299235343933, 0.35204747319221497, 0.05544720217585564, -0.20501652359962463, -0.32633131742477417, -0.2200743705034256, -0.05997737497091293, 0.0912587121129036, 0.23673900961875916, 0.23714293539524078, 0.10249341279268265, -0.09678330272436142, -0.2378166913986206, -0.22999617457389832, -0.025236422196030617, 0.13263098895549774, 0.1898774355649948, 0.12020454555749893, -0.02298019640147686, -0.11352969706058502, -0.07711503654718399, 0.005118499044328928, 0.03420337662100792, -0.031795207411050797, -0.0442841500043869, -0.0009865075116977096, 0.04057662561535835, 0.03955816105008125, 0.01904233731329441, -0.03012867271900177, 0.03928769752383232, 0.03310371935367584, -0.028134183958172798, -0.10104941576719284, -0.11099058389663696, 0.008808471262454987, 0.1495552361011505, 0.1986057460308075, 0.09641683846712112, -0.11258825659751892, -0.23643769323825836, -0.19651687145233154, -0.015450545586645603, 0.14106355607509613, 0.18790754675865173, 0.1773635745048523, 0.07514850795269012, -0.06670576333999634, -0.19970053434371948, -0.2688116729259491, -0.17222709953784943, 0.10091504454612732, 0.3102470934391022, 0.33324161171913147, 0.13463930785655975, -0.18109586834907532, -0.38863369822502136, -0.30381157994270325, -0.04644488915801048, 0.2041110396385193, 0.34181714057922363, 0.28211286664009094, 0.08213754743337631, -0.1273578256368637, -0.3068988621234894, -0.34720492362976074, -0.2064739465713501, 0.13871021568775177, 0.4199143946170807, 0.4400709271430969, 0.18408916890621185, -0.2156141996383667, -0.47912096977233887, -0.4156593382358551, -0.1132267415523529, 0.1914234310388565, 0.391861230134964, 0.37578973174095154, 0.191212996840477, -0.1290280818939209, -0.3926827609539032, -0.4659111201763153, -0.29489120841026306, 0.07684893161058426, 0.4715326130390167, 0.5586293935775757, 0.2604564428329468, -0.16505345702171326, -0.497994989156723, -0.5356993079185486, -0.24307194352149963, 0.15811066329479218, 0.4551980495452881, 0.5212013125419617, 0.31663352251052856, -0.09099091589450836, -0.4570074677467346, -0.6237415671348572, -0.417386919260025, 0.04644278064370155, 0.5193508267402649, 0.7036973834037781, 0.4482894837856293, -0.11923246830701828, -0.5924038290977478, -0.7080185413360596, -0.44218647480010986, 0.06281360983848572, 0.5207823514938354, 0.7210415601730347, 0.5381409525871277, 0.00745033286511898, -0.5282134413719177, -0.8433216214179993, -0.67592853307724, -0.041611477732658386, 0.6512135863304138, 0.9815647006034851, 0.6930065155029297, -0.028067942708730698, -0.7025048136711121, -0.9768961071968079, -0.6629794836044312, 0.009109764359891415, 0.6793519258499146, 0.9440834522247314, 0.7341704368591309, 0.08411119878292084, -0.6338892579078674, -1.0611615180969238, -0.8364087343215942, -0.08781508356332779, 0.7168410420417786, 1.1305428743362427, 0.8277978897094727, 0.03799236938357353, -0.7323845028877258, -1.074972152709961, -0.7827383875846863, -0.05960717052221298, 0.6551893949508667, 1.0026699304580688, 0.8072598576545715, 0.16371876001358032, -0.58310467004776, -1.0615501403808594, -0.8683130741119385, -0.18609605729579926, 0.6669186949729919, 1.0828535556793213, 0.8534488677978516, 0.12879127264022827, -0.666004478931427, -0.9987306594848633, -0.7533101439476013, -0.13425876200199127, 0.5297813415527344, 0.8590907454490662, 0.7634713053703308, 0.24763834476470947, -0.4357519745826721, -0.8811433911323547, -0.8005126118659973, -0.25862032175064087, 0.44778603315353394, 0.8504096865653992, 0.7464455962181091, 0.17348414659500122, -0.4255272448062897, -0.7333154082298279, -0.6173100471496582, -0.18939845263957977, 0.28173282742500305, 0.5880175828933716, 0.6135745048522949, 0.2869619131088257, -0.1977730542421341, -0.5879287123680115, -0.6450825333595276, -0.299847275018692, 0.20484931766986847, 0.5825133919715881, 0.5602014064788818, 0.19800928235054016, -0.20093382894992828, -0.4439484179019928, -0.4638364613056183, -0.21731865406036377, 0.10198532789945602, 0.3649091422557831, 0.4130396842956543, 0.26824066042900085, -0.026206135749816895, -0.35754749178886414, -0.4437499940395355, -0.24963147938251495, 0.0846327617764473, 0.3731687366962433, 0.3587956130504608, 0.13721512258052826, -0.10565082728862762, -0.25526654720306396, -0.2393224835395813, -0.1016097292304039, 0.051274821162223816, 0.15048158168792725, 0.19265078008174896, 0.13527652621269226, -0.021750442683696747, -0.20170368254184723, -0.23374977707862854, -0.10741501301527023, 0.10794425755739212, 0.24725383520126343, 0.15117664635181427, -0.05091358348727226, -0.19052143394947052, -0.1736486554145813, -0.024125924333930016, 0.10906235873699188, 0.16259030997753143, 0.09597226977348328, 0.006757428869605064, -0.1021042987704277, -0.1855037361383438, -0.17488199472427368, -0.07172189652919769, 0.12484543770551682, 0.31388726830482483, 0.24881893396377563, -0.030004026368260384, -0.2904511094093323, -0.39362168312072754, -0.19596216082572937, 0.11065477132797241, 0.3580125570297241, 0.3972969949245453, 0.1668320745229721, -0.11846921592950821, -0.3532150387763977, -0.42183807492256165, -0.2640964984893799, 0.076399065554142, 0.42250627279281616, 0.5476614236831665, 0.31892988085746765, -0.1316981315612793, -0.5463004112243652, -0.6222270131111145, -0.28088057041168213, 0.24761931598186493, 0.594806969165802, 0.5944780707359314, 0.2614692151546478, -0.20929178595542908, -0.5735243558883667, -0.6194921135902405, -0.3583582937717438, 0.14144422113895416, 0.5844855904579163, 0.7154542207717896, 0.420175164937973, -0.18610364198684692, -0.7083461880683899, -0.7871838212013245, -0.399425208568573, 0.24012720584869385, 0.6987934708595276, 0.7649081945419312, 0.3752972185611725, -0.18565373122692108, -0.6589823961257935, -0.7685598731040955, -0.4694945812225342, 0.12366656959056854, 0.6694164276123047, 0.8825597167015076, 0.5700052976608276, -0.10350882261991501, -0.7440470457077026, -0.9773613214492798, -0.5628848075866699, 0.15643633902072906, 0.7848103642463684, 0.9196391105651855, 0.5555867552757263, -0.09079544991254807, -0.6830576658248901, -0.9323537945747375, -0.6900895237922668, -0.010154982097446918, 0.6965676546096802, 1.008779525756836, 0.7543523907661438, 0.006742165423929691, -0.7660689353942871, -1.090412974357605, -0.7677683234214783, 0.0013271489879116416, 0.7781961560249329, 1.0504544973373413, 0.7422652244567871, 0.06330931186676025, -0.7009780406951904, -1.0410773754119873, -0.8465619683265686, -0.13799253106117249, 0.6692546606063843, 1.122317910194397, 0.9678012132644653, 0.17182059586048126, -0.7216321229934692, -1.167021632194519, -0.8949585556983948, -0.11579981446266174, 0.6836841702461243, 1.0913032293319702, 0.877958357334137, 0.1814587414264679, -0.5888831615447998, -1.0440502166748047, -0.9679489731788635, -0.33212387561798096, 0.5614389777183533, 1.1157623529434204, 1.0334419012069702, 0.3085426986217499, -0.5987570881843567, -1.1311653852462769, -1.0075191259384155, -0.28348538279533386, 0.5384641885757446, 1.038176417350769, 0.9573613405227661, 0.3594051003456116, -0.3991268277168274, -0.9607173800468445, -0.9851990938186646, -0.45634925365448, 0.3527299165725708, 0.9538546800613403, 1.0488533973693848, 0.49831798672676086, -0.36612561345100403, -0.9575653672218323, -0.9850618243217468, -0.4244403541088104, 0.30296626687049866, 0.8190975189208984, 0.8944234848022461, 0.5058591961860657, -0.1530340015888214, -0.7559113502502441, -0.9306275844573975, -0.5855725407600403, 0.11086729168891907, 0.7633103132247925, 0.9709759950637817, 0.5858359336853027, -0.14789743721485138, -0.7418085932731628, -0.8558614253997803, -0.49359679222106934, 0.12538008391857147, 0.5984422564506531, 0.7745718955993652, 0.5308898091316223, 0.0205649696290493, -0.5430986285209656, -0.7790533900260925, -0.5754918456077576, -0.021490205079317093, 0.5478138327598572, 0.7810840606689453, 0.5107078552246094, -0.056093476712703705, -0.559725821018219, -0.678573489189148, -0.38263067603111267, 0.08289187401533127, 0.46319252252578735, 0.561610221862793, 0.343005508184433, -0.06397443264722824, -0.42711666226387024, -0.5777758359909058, -0.36215487122535706, 0.10183324664831161, 0.49516773223876953, 0.5828564167022705, 0.2643614113330841, -0.22713729739189148, -0.5471550822257996, -0.4921451807022095, -0.12120495736598969, 0.3032558262348175, 0.4950474500656128, 0.359605610370636, 0.05109192803502083, -0.27232542634010315, -0.4657973647117615, -0.3660821318626404, -0.03915462642908096, 0.38140442967414856, 0.5758119225502014, 0.3743269741535187, -0.08870594948530197, -0.5084619522094727, -0.6202532649040222, -0.2746431231498718, 0.26996323466300964, 0.597865879535675, 0.5364547371864319, 0.1274649202823639, -0.325623095035553, -0.6021204590797424, -0.531882107257843, -0.1280134618282318, 0.34502288699150085, 0.6759917140007019, 0.6096640825271606, 0.13584786653518677, -0.476480096578598, -0.8212732076644897, -0.6255654096603394, -0.009940813295543194, 0.6383445858955383, 0.8798328042030334, 0.5754157304763794, -0.10275691002607346, -0.6586586833000183, -0.8221787214279175, -0.5039589405059814, 0.11434418708086014, 0.6547295451164246, 0.8579900860786438, 0.5794103741645813, -0.06107717752456665, -0.7275976538658142, -0.984065055847168, -0.6032487154006958, 0.17466609179973602, 0.8328136205673218, 0.9768019318580627, 0.5212017893791199, -0.2554532587528229, -0.8266748785972595, -0.8912569880485535, -0.4718230664730072, 0.2060004472732544, 0.7497484087944031, 0.8923911452293396, 0.5476788878440857, -0.1619345247745514, -0.7783458232879639, -0.9679180383682251, -0.5626228451728821, 0.22874853014945984, 0.8419220447540283, 0.9469242691993713, 0.47946780920028687, -0.29025042057037354, -0.7865766286849976, -0.8190679550170898, -0.40323224663734436, 0.2309577316045761, 0.6903268694877625, 0.8143311738967896, 0.4571094512939453, -0.16031323373317719, -0.7114095687866211, -0.8502233028411865, -0.456318736076355, 0.22395043075084686, 0.7756508588790894, 0.7996761798858643, 0.36914750933647156, -0.2779806852340698, -0.7232040762901306, -0.720346212387085, -0.29724985361099243, 0.21508271992206573, 0.6218579411506653, 0.6908600330352783, 0.323774129152298, -0.18980063498020172, -0.6308549642562866, -0.7355334162712097, -0.35721006989479065, 0.25767073035240173, 0.7097806334495544, 0.7174888849258423, 0.21058949828147888, -0.36373504996299744, -0.700339674949646, -0.5604330897331238, -0.15737509727478027, 0.3243919909000397, 0.6306242942810059, 0.5490689873695374, 0.17027734220027924, -0.3122246265411377, -0.6493645906448364, -0.6133486032485962, -0.18630459904670715, 0.4004305899143219, 0.7075998187065125, 0.58004230260849, 0.02778335101902485, -0.48044338822364807, -0.7027711868286133, -0.5004764795303345, 0.007319095078855753, 0.4828450679779053, 0.6430946588516235, 0.4710623323917389, 0.03486199676990509, -0.4737376570701599, -0.7055544257164001, -0.5249671936035156, -0.009672368876636028, 0.5662437677383423, 0.7996699213981628, 0.543507993221283, -0.11528322845697403, -0.6503371000289917, -0.7869493961334229, -0.4370139539241791, 0.1493769735097885, 0.6506349444389343, 0.7638500928878784, 0.42406341433525085, -0.15441489219665527, -0.6493706107139587, -0.7955437898635864, -0.5302148461341858, 0.13105891644954681, 0.7400587201118469, 0.9167227149009705, 0.5342141389846802, -0.21204222738742828, -0.8061209321022034, -0.903935968875885, -0.45545056462287903, 0.2645297050476074, 0.817084014415741, 0.8980388045310974, 0.4571284055709839, -0.23155614733695984, -0.8083189129829407, -0.9709100723266602, -0.6002397537231445, 0.1828044056892395, 0.8998231887817383, 1.117141604423523, 0.629436731338501, -0.2667202651500702, -0.9779443740844727, -1.1293691396713257, -0.571489691734314, 0.28413036465644836, 0.9623056650161743, 1.111354947090149, 0.6215143799781799, -0.2062428593635559, -0.9542603492736816, -1.1622179746627808, -0.7553812861442566, 0.13434557616710663, 1.014281988143921, 1.306081771850586, 0.8130684494972229, -0.20906350016593933, -1.0666453838348389, -1.3160711526870728, -0.7591623067855835, 0.1785992532968521, 1.0219483375549316, 1.277534008026123, 0.8214112520217896, -0.09071240574121475, -0.9576964378356934, -1.302605152130127, -0.9633938670158386, 0.008840528316795826, 0.9804611206054688, 1.4134172201156616, 0.9948058128356934, -0.02055208384990692, -1.0337512493133545, -1.4022719860076904, -0.9391313791275024, 0.03956415131688118, 0.922938883304596, 1.3078882694244385, 0.9587169289588928, 0.08137763291597366, -0.851318895816803, -1.3399707078933716, -1.0543497800827026, -0.13476841151714325, 0.8865135908126831, 1.3542753458023071, 1.0266013145446777, 0.08229434490203857, -0.9179848432540894, -1.318289875984192, -0.9077649712562561, -0.03148941323161125, 0.790567934513092, 1.1813106536865234, 0.8692345023155212, 0.08422724902629852, -0.7176846265792847, -1.1494580507278442, -0.8892967104911804, -0.11914601176977158, 0.7344666123390198, 1.1275298595428467, 0.8035979866981506, 0.008526742458343506, -0.7581070065498352, -1.0102269649505615, -0.6360183358192444, 0.04352393001317978, 0.6562747359275818, 0.8484247326850891, 0.5421485900878906, 0.013158961199223995, -0.5260422825813293, -0.7464893460273743, -0.537991464138031, -0.00801092479377985, 0.5319539308547974, 0.7013500928878784, 0.43543797731399536, -0.120836541056633, -0.510861337184906, -0.5434012413024902, -0.23140597343444824, 0.18984998762607574, 0.3714826703071594, 0.3153139650821686, 0.13037216663360596, -0.08244717121124268, -0.21543467044830322, -0.19067201018333435, -0.07383240014314651, 0.06640364974737167, 0.18273957073688507, 0.11580022424459457, -0.03341872617602348, -0.15710963308811188, -0.13105233013629913, 0.0453200526535511, 0.23436863720417023, 0.1923815757036209, -0.04647102579474449, -0.27717268466949463, -0.3275861144065857, -0.10491137206554413, 0.22223305702209473, 0.42043834924697876, 0.34125423431396484, 0.05596115067601204, -0.28349724411964417, -0.47619059681892395, -0.4207707345485687, -0.09198162704706192, 0.3370121121406555, 0.6305933594703674, 0.5502119660377502, 0.10276398807764053, -0.5098291039466858, -0.7825688123703003, -0.603635311126709, 0.019545936957001686, 0.6462188959121704, 0.8636901378631592, 0.5504366755485535, -0.08370601385831833, -0.6446852087974548, -0.8239449858665466, -0.5363797545433044, 0.06615088135004044, 0.6475706100463867, 0.900393009185791, 0.6088297367095947, -0.04381439462304115, -0.7201998233795166, -0.9799655079841614, -0.6223471164703369, 0.12493638694286346, 0.789521336555481, 0.907342255115509, 0.5139404535293579, -0.15333393216133118, -0.7245349287986755, -0.8379411101341248, -0.4863651394844055, 0.08584548532962799, 0.5979246497154236, 0.7932408452033997, 0.5416349172592163, -0.016167493537068367, -0.5968559384346008, -0.8259359002113342, -0.5069987773895264, 0.10167500376701355, 0.591031551361084, 0.7037596702575684, 0.39148858189582825, -0.09037546813488007, -0.47183096408843994, -0.5584147572517395, -0.37441596388816833, -0.029362035915255547, 0.3193473219871521, 0.4802972674369812, 0.40345972776412964, 0.10778287053108215, -0.2663951814174652, -0.4877842664718628, -0.38858258724212646, -0.0860135406255722, 0.2064771056175232, 0.33275967836380005, 0.2730276584625244, 0.11345680058002472, -0.031983133405447006, -0.15486589074134827, -0.24502193927764893, -0.26626479625701904, -0.12660954892635345, 0.078914113342762, 0.29714614152908325, 0.3878933787345886, 0.19814634323120117, -0.047393057495355606, -0.30024218559265137, -0.41405802965164185, -0.2720184028148651, -0.06130523607134819, 0.19820265471935272, 0.4269510507583618, 0.47438931465148926, 0.24063748121261597, -0.2157541811466217, -0.5942792296409607, -0.6442717909812927, -0.2734437882900238, 0.28463828563690186, 0.7232052683830261, 0.7052890658378601, 0.2431379109621048, -0.30316847562789917, -0.7205783128738403, -0.7201073169708252, -0.3652347922325134, 0.23093964159488678, 0.7281365990638733, 0.8431864380836487, 0.47162380814552307, -0.2409193515777588, -0.8388909697532654, -0.9806757569313049, -0.4720022976398468, 0.35435768961906433, 0.9124387502670288, 0.972200334072113, 0.43630358576774597, -0.31990596652030945, -0.8701940774917603, -0.945292592048645, -0.5030011534690857, 0.2177233248949051, 0.8452104330062866, 1.0638333559036255, 0.599307119846344, -0.21536347270011902, -0.9574023485183716, -1.1266696453094482, -0.5922437906265259, 0.267753541469574, 0.9871047139167786, 1.0866672992706299, 0.560174286365509, -0.23264391720294952, -0.8498284220695496, -0.9889040589332581, -0.6109821200370789, 0.11100779473781586, 0.7871886491775513, 1.0504175424575806, 0.7232658863067627, -0.033291321247816086, -0.8142765164375305, -1.1072593927383423, -0.6918140649795532, 0.10494355857372284, 0.783502459526062, 0.9980226755142212, 0.6329553127288818, -0.03902893140912056, -0.6493345499038696, -0.8707596063613892, -0.6582961678504944, -0.08440762758255005, 0.5327935814857483, 0.8924619555473328, 0.7394439578056335, 0.13065919280052185, -0.5438126921653748, -0.8710378408432007, -0.6831661462783813, -0.0861743912100792, 0.5117530822753906, 0.7777334451675415, 0.5983094573020935, 0.1160062775015831, -0.37181633710861206, -0.6322134733200073, -0.5585786700248718, -0.23303194344043732, 0.26083096861839294, 0.6099157333374023, 0.6306750774383545, 0.2502666711807251, -0.2915477454662323, -0.5972747206687927, -0.557316780090332, -0.17096203565597534, 0.2899981141090393, 0.4880426824092865, 0.42463648319244385, 0.16464701294898987, -0.14005275070667267, -0.3690166771411896, -0.41442570090293884, -0.24835222959518433, 0.08480944484472275, 0.38932132720947266, 0.4589889347553253, 0.232731893658638, -0.13868960738182068, -0.3773702085018158, -0.3840774893760681, -0.1267063468694687, 0.17521736025810242, 0.28991562128067017, 0.26186704635620117, 0.10719979554414749, -0.08539052307605743, -0.19309428334236145, -0.2574346959590912, -0.1616019904613495, 0.02496534399688244, 0.22577190399169922, 0.2978783845901489, 0.17364509403705597, -0.10566543787717819, -0.2626848518848419, -0.2305985540151596, -0.10176664590835571, 0.1090727373957634, 0.19762371480464935, 0.15017779171466827, 0.04886438697576523, -0.054764747619628906, -0.13167868554592133, -0.18769299983978271, -0.132451593875885, 0.03491993993520737, 0.20276309549808502, 0.2583375573158264, 0.12726566195487976, -0.11986234784126282, -0.2644156813621521, -0.21860197186470032, -0.014636189676821232, 0.13889743387699127, 0.19032004475593567, 0.15459507703781128, 0.01833123341202736, -0.09022577106952667, -0.15873345732688904, -0.1845989227294922, -0.07060059159994125, 0.061338238418102264, 0.2093595713376999, 0.21743027865886688, 0.010304639115929604, -0.19194304943084717, -0.27381017804145813, -0.14484259486198425, 0.0648714229464531, 0.25382012128829956, 0.19340230524539948, 0.02763836644589901, -0.12906129658222198, -0.19940201938152313, -0.13651739060878754, -0.005146049428731203, 0.113980732858181, 0.1855262964963913, 0.1743658185005188, 0.03859259933233261, -0.21269892156124115, -0.3198598623275757, -0.23025298118591309, 0.05796487256884575, 0.3593645691871643, 0.390085905790329, 0.16530686616897583, -0.18243570625782013, -0.41396564245224, -0.322221964597702, -0.09393049776554108, 0.22093258798122406, 0.40814435482025146, 0.35251736640930176, 0.13725073635578156, -0.186723530292511, -0.44775018095970154, -0.4603137671947479, -0.18914979696273804, 0.27950963377952576, 0.6157429814338684, 0.5108208656311035, 0.07539261132478714, -0.39483267068862915, -0.6451453566551208, -0.46687835454940796, -0.02109995111823082, 0.4228537976741791, 0.6222841739654541, 0.45837536454200745, 0.0488896369934082, -0.40692007541656494, -0.6402345299720764, -0.525783121585846, -0.06423036009073257, 0.4760233759880066, 0.7465595602989197, 0.5677352547645569, -0.0005246171494945884, -0.5895244479179382, -0.770991325378418, -0.44331109523773193, 0.13650569319725037, 0.5665963888168335, 0.6549106240272522, 0.40124598145484924, -0.10238999128341675, -0.5404646992683411, -0.6488214135169983, -0.42841917276382446, 0.08723098784685135, 0.5729879140853882, 0.708907425403595, 0.41312623023986816, -0.18332792818546295, -0.647566556930542, -0.6893036365509033, -0.2897370457649231, 0.30529290437698364, 0.6269270777702332, 0.5568530559539795, 0.18120522797107697, -0.2439885437488556, -0.5496436953544617, -0.5017669796943665, -0.1784285008907318, 0.24152682721614838, 0.5800732374191284, 0.5614530444145203, 0.15646296739578247, -0.3266567587852478, -0.6233197450637817, -0.48759958148002625, -0.05130992457270622, 0.3992103636264801, 0.5774485468864441, 0.34927037358283997, -0.05144551396369934, -0.3651953935623169, -0.4705594480037689, -0.320006787776947, 0.0009301450336351991, 0.3020497262477875, 0.46921196579933167, 0.332638144493103, -0.009345307014882565, -0.3639744818210602, -0.4997881352901459, -0.2675427794456482, 0.1390226036310196, 0.4323092997074127, 0.43202149868011475, 0.1607998162508011, -0.17131420969963074, -0.33424022793769836, -0.30273690819740295, -0.10975946485996246, 0.09676830470561981, 0.29270920157432556, 0.33991739153862, 0.18143227696418762, -0.09590636938810349, -0.3378083109855652, -0.3836405277252197, -0.12160656601190567, 0.17391350865364075, 0.3626936972141266, 0.29685935378074646, 0.0201139897108078, -0.22582392394542694, -0.27405571937561035, -0.15790539979934692, 0.024986647069454193, 0.15339845418930054, 0.19543474912643433, 0.1533721387386322, 0.03344886749982834, -0.1141972616314888, -0.19594188034534454, -0.15351800620555878, -0.028697289526462555, 0.19017702341079712, 0.2315192073583603, 0.07549832761287689, -0.1245761513710022, -0.20125997066497803, -0.12733639776706696, 0.0639248862862587, 0.17727342247962952, 0.13795413076877594, 0.02081236243247986, -0.10220613330602646, -0.11283785104751587, -0.11009055376052856, -0.03049268014729023, 0.07595878839492798, 0.1751459836959839, 0.16922618448734283, 0.04920980706810951, -0.1560065895318985, -0.32338348031044006, -0.192450612783432, 0.0697954073548317, 0.31306523084640503, 0.3598513603210449, 0.1207394152879715, -0.1721697300672531, -0.3758569657802582, -0.32628491520881653, -0.06908620893955231, 0.1771499365568161, 0.3761542737483978, 0.378976434469223, 0.15561111271381378, -0.17856746912002563, -0.4552967846393585, -0.4783230125904083, -0.17522032558918, 0.25882717967033386, 0.5989505052566528, 0.5385671257972717, 0.12920904159545898, -0.3589630126953125, -0.6186224818229675, -0.49043965339660645, -0.07892122119665146, 0.3367212414741516, 0.5716302990913391, 0.5037827491760254, 0.16238698363304138, -0.312453031539917, -0.6351532340049744, -0.6030461192131042, -0.19052794575691223, 0.3703441023826599, 0.7631814479827881, 0.6395077109336853, 0.11835390329360962, -0.4315623641014099, -0.7152544260025024, -0.5553246736526489, -0.10431843250989914, 0.35154467821121216, 0.6166408658027649, 0.5594002604484558, 0.17628996074199677, -0.28414276242256165, -0.6272813677787781, -0.6088123321533203, -0.218791663646698, 0.34185150265693665, 0.6907200217247009, 0.5860821008682251, 0.13645631074905396, -0.3662633001804352, -0.5741820335388184, -0.46854060888290405, -0.1228877604007721, 0.26324865221977234, 0.4582352638244629, 0.4131760895252228, 0.19730044901371002, -0.11993981897830963, -0.39328068494796753, -0.42729270458221436, -0.2134978175163269, 0.10360926389694214, 0.34872519969940186, 0.35802632570266724, 0.14746242761611938, -0.06200025975704193, -0.19066043198108673, -0.18246468901634216, -0.12500452995300293, -0.055283185094594955, 0.017297858372330666, 0.12240830808877945, 0.20462748408317566, 0.23388342559337616, 0.10843924432992935, -0.10366421937942505, -0.25746405124664307, -0.25377845764160156, -0.1646975427865982, 0.021117480471730232, 0.16818779706954956, 0.29343563318252563, 0.34218087792396545, 0.1893577128648758, -0.1408444046974182, -0.44924530386924744, -0.5427975654602051, -0.2788373827934265, 0.2002219557762146, 0.5909379720687866, 0.6415421366691589, 0.29875051975250244, -0.22307316958904266, -0.6303138732910156, -0.6948009729385376, -0.4067489206790924, 0.12946683168411255, 0.6257361173629761, 0.8477936387062073, 0.5621216893196106, -0.08981002122163773, -0.7469127178192139, -1.026111364364624, -0.648522138595581, 0.10543074458837509, 0.8366456031799316, 1.065428614616394, 0.6405019164085388, -0.11951541155576706, -0.8004169464111328, -1.0484400987625122, -0.7150709629058838, -0.017797168344259262, 0.7513976097106934, 1.0843536853790283, 0.8372130393981934, 0.07758506387472153, -0.7759007215499878, -1.163282036781311, -0.8815550804138184, -0.03931541368365288, 0.78532874584198, 1.1502975225448608, 0.8258869647979736, 0.07674091309309006, -0.6936908960342407, -1.0225880146026611, -0.8177081942558289, -0.1893414855003357, 0.5564649701118469, 1.0312776565551758, 0.8955798745155334, 0.27360254526138306, -0.5341106653213501, -1.0394294261932373, -0.8742581605911255, -0.20708945393562317, 0.5136585235595703, 0.9289088845252991, 0.7717186212539673, 0.23977170884609222, -0.3919205069541931, -0.7575141787528992, -0.7802922129631042, -0.34115394949913025, 0.27238255739212036, 0.7363076210021973, 0.837875247001648, 0.4151691496372223, -0.2207450270652771, -0.7480462789535522, -0.7731046080589294, -0.38365668058395386, 0.21721185743808746, 0.6508501768112183, 0.6753016114234924, 0.3590874969959259, -0.10444563627243042, -0.5078425407409668, -0.6372124552726746, -0.46544426679611206, 0.005436749663203955, 0.5029458403587341, 0.7011634111404419, 0.48092567920684814, -0.08351866900920868, -0.5870091319084167, -0.6837977766990662, -0.3906691074371338, 0.1438707709312439, 0.5446907877922058, 0.6054653525352478, 0.3088230788707733, -0.17617467045783997, -0.5400072336196899, -0.6102844476699829, -0.28504350781440735, 0.23451553285121918, 0.6266517639160156, 0.6365595459938049, 0.19093260169029236, -0.46107521653175354, -0.8195101618766785, -0.6379175782203674, 0.022827045992016792, 0.7086058855056763, 0.9162518382072449, 0.5141815543174744, -0.21521250903606415, -0.8719207048416138, -0.9941592216491699, -0.5203765034675598, 0.3258576989173889, 1.0144495964050293, 1.176949381828308, 0.5748870968818665, -0.46533089876174927, -1.3216331005096436, -1.4107975959777832, -0.5993914008140564, 0.7060014605522156, 1.6280403137207031, 1.5427742004394531, 0.5137077569961548, -0.869535505771637, -1.7823724746704102, -1.6433664560317993, -0.5341266393661499, 0.9552517533302307, 1.932361364364624, 1.8167881965637207, 0.6224457621574402, -1.0388755798339844, -2.161299228668213, -2.0404293537139893, -0.6267112493515015, 1.205165147781372, 2.386845350265503, 2.1355957984924316, 0.5964003801345825, -1.3014395236968994, -2.4524784088134766, -2.181952953338623, -0.6315102577209473, 1.3061223030090332, 2.4705264568328857, 2.289440393447876, 0.752436637878418, -1.297132134437561, -2.616182804107666, -2.4111387729644775, -0.7834700345993042, 1.3759187459945679, 2.7021842002868652, 2.452709674835205, 0.7278255224227905, -1.3775091171264648, -2.653560161590576, -2.3965396881103516, -0.760299801826477, 1.2631611824035645, 2.59236741065979, 2.431652069091797, 0.8674583435058594, -1.1945539712905884, -2.5800716876983643, -2.457428455352783, -0.8821529746055603, 1.2209092378616333, 2.5756661891937256, 2.369547128677368, 0.840116024017334, -1.171736717224121, -2.4249484539031982, -2.199620246887207, -0.817150354385376, 1.021281123161316, 2.228858709335327, 2.1445276737213135, 0.8692935705184937, -0.9139277935028076, -2.1208882331848145, -2.093172788619995, -0.8294302821159363, 0.8598564863204956, 2.0171663761138916, 1.8972907066345215, 0.7111976742744446, -0.8102043867111206, -1.7743498086929321, -1.6967905759811401, -0.683643102645874, 0.6426531672477722, 1.540807843208313, 1.559239387512207, 0.7563508152961731, -0.500382661819458, -1.397247552871704, -1.466070532798767, -0.6753311157226562, 0.4953683912754059, 1.26250422000885, 1.2476873397827148, 0.5140162110328674, -0.43350374698638916, -1.0330086946487427, -1.0036060810089111, -0.4591222107410431, 0.2833021581172943, 0.8159757256507874, 0.8988433480262756, 0.5052817463874817, -0.16603022813796997, -0.7334184050559998, -0.8255445957183838, -0.4320879876613617, 0.1782299131155014, 0.6289688944816589, 0.6633714437484741, 0.30867716670036316, -0.14069046080112457, -0.4586363434791565, -0.44279947876930237, -0.24467545747756958, 0.010549958795309067, 0.24841813743114471, 0.36765605211257935, 0.3079925775527954, 0.0665108859539032, -0.22166937589645386, -0.35377588868141174, -0.23852340877056122, -0.03631046786904335, 0.17674507200717926, 0.2612280249595642, 0.14314591884613037, 0.013615665957331657, -0.06028275191783905, -0.11443720012903214, -0.10860314220190048, -0.11532055586576462, -0.06915624439716339, 0.0700431540608406, 0.17773033678531647, 0.1693747639656067, 0.037188299000263214, -0.11247994005680084, -0.1396722048521042, -0.08713851124048233, 0.015470308251678944, 0.0406692773103714, 0.03508111834526062, 0.03761007636785507, 0.03664221614599228, 0.035984721034765244, -0.018022652715444565, -0.1008249893784523, -0.09243825823068619, -0.022509830072522163, 0.07683378458023071, 0.09352674335241318, 0.003839534940198064, -0.03598644211888313, -0.04257892817258835, 0.02684079110622406, 0.10855677723884583, 0.04552267864346504, -0.0379059836268425, -0.11711297184228897, -0.06479362398386002, 0.012093519791960716, 0.04062061011791229, 0.03550853952765465, 0.03684753552079201, 0.03834003955125809, 0.027681730687618256, -0.06562722474336624, -0.17005561292171478, -0.17654813826084137, 0.007132205180823803, 0.18496538698673248, 0.26065951585769653, 0.13073410093784332, -0.08874709159135818, -0.2565183937549591, -0.23133400082588196, -0.09370847791433334, 0.07025425881147385, 0.1763797402381897, 0.1895734667778015, 0.13957388699054718, 0.0033326514530926943, -0.1312219798564911, -0.255229651927948, -0.19598737359046936, 0.016791924834251404, 0.21235471963882446, 0.2670673727989197, 0.12089350074529648, -0.097105473279953, -0.25559812784194946, -0.20579074323177338, -0.04153093323111534, 0.08706334978342056, 0.11857320368289948, 0.08169005066156387, 0.025102097541093826, -0.020692892372608185, -0.08000127971172333, -0.10834333300590515, -0.03721422702074051, 0.0457177497446537, 0.1227189302444458, 0.07434115558862686, -0.06534165143966675, -0.11641452461481094, -0.08201933652162552, 0.06655075401067734, 0.19364772737026215, 0.16739888489246368, 0.0008035642676986754, -0.21621963381767273, -0.2444435954093933, -0.1215026006102562, 0.11303220689296722, 0.25443482398986816, 0.261366069316864, 0.12587228417396545, -0.08408290892839432, -0.29750505089759827, -0.3962570130825043, -0.22030706703662872, 0.13690230250358582, 0.5061184167861938, 0.5450831055641174, 0.25650787353515625, -0.2655227482318878, -0.6642325520515442, -0.6265031695365906, -0.17378948628902435, 0.36885201930999756, 0.6734132170677185, 0.6262863874435425, 0.21859650313854218, -0.3410615921020508, -0.7459411025047302, -0.7253683805465698, -0.3119097948074341, 0.350448340177536, 0.862992525100708, 0.8768884539604187, 0.3065306544303894, -0.44569653272628784, -0.964555025100708, -0.8866305351257324, -0.3027212619781494, 0.4956124424934387, 0.983512818813324, 0.8768873810768127, 0.3003736138343811, -0.4306332468986511, -0.9450220465660095, -0.9482978582382202, -0.4414950907230377, 0.3770705759525299, 1.0275689363479614, 1.0669039487838745, 0.48316729068756104, -0.41553401947021484, -1.0357611179351807, -1.087821364402771, -0.44887039065361023, 0.4006059765815735, 0.9959052205085754, 1.0105055570602417, 0.5016340613365173, -0.25438380241394043, -0.9006194472312927, -1.0653150081634521, -0.6410553455352783, 0.1871241331100464, 0.9195202589035034, 1.153529167175293, 0.7197064161300659, -0.17259004712104797, -0.9108096957206726, -1.1069400310516357, -0.6612807512283325, 0.12233962118625641, 0.7630478143692017, 1.0038981437683105, 0.7220505475997925, 0.04005912318825722, -0.6195579767227173, -0.9838001132011414, -0.8269806504249573, -0.1778918355703354, 0.5852966904640198, 1.0205576419830322, 0.8409112095832825, 0.21290312707424164, -0.532778263092041, -0.9118250012397766, -0.8115432262420654, -0.28256040811538696, 0.37442395091056824, 0.7601701021194458, 0.8237513303756714, 0.44154229760169983, -0.16805993020534515, -0.7245913147926331, -0.8981095552444458, -0.5841168761253357, 0.11417189240455627, 0.7483608722686768, 0.9329332113265991, 0.5896821618080139, -0.08331957459449768, -0.6593780517578125, -0.8501974940299988, -0.6164106130599976, -0.11841458082199097, 0.49443429708480835, 0.8547350168228149, 0.7473285794258118, 0.2414110004901886, -0.46181848645210266, -0.9396400451660156, -0.8752516508102417, -0.25551384687423706, 0.49323493242263794, 0.9170719981193542, 0.8025320172309875, 0.2571243941783905, -0.3744799792766571, -0.8361513018608093, -0.8439473509788513, -0.4057775139808655, 0.27384671568870544, 0.8051235675811768, 0.9067122936248779, 0.4977274537086487, -0.2518866956233978, -0.8707287311553955, -0.9857823252677917, -0.5145196318626404, 0.29473450779914856, 0.8344904184341431, 0.8996033668518066, 0.46095138788223267, -0.1737922579050064, -0.7248818278312683, -0.855315625667572, -0.5467157363891602, 0.06952568888664246, 0.6719791293144226, 0.9321845173835754, 0.6577788591384888, -0.051497749984264374, -0.6799491047859192, -0.8974669575691223, -0.5757070183753967, 0.04063260182738304, 0.5841385126113892, 0.7776695489883423, 0.5367559790611267, 0.047969136387109756, -0.4265093505382538, -0.6802796721458435, -0.5920647382736206, -0.16041076183319092, 0.3544537127017975, 0.6819499135017395, 0.6187506318092346, 0.20321866869926453, -0.3168275058269501, -0.629570722579956, -0.53883296251297, -0.17459429800510406, 0.22117246687412262, 0.45337140560150146, 0.4511217176914215, 0.24915753304958344, -0.038942571729421616, -0.33786410093307495, -0.48562952876091003, -0.38693246245384216, -0.041758500039577484, 0.3046916723251343, 0.486277312040329, 0.37890586256980896, 0.06155264005064964, -0.23454469442367554, -0.3450154960155487, -0.3090631067752838, -0.1892542690038681, 0.014178146608173847, 0.21922948956489563, 0.40226829051971436, 0.34302249550819397, 0.11740462481975555, -0.22420887649059296, -0.4764154851436615, -0.4607998728752136, -0.18285048007965088, 0.19807922840118408, 0.4784206748008728, 0.4632725417613983, 0.263110876083374, -0.07633276283740997, -0.4198642671108246, -0.5956183671951294, -0.49104228615760803, -0.06015552952885628, 0.46994441747665405, 0.76841139793396, 0.6040417551994324, 0.04532516002655029, -0.6094303131103516, -0.8743166327476501, -0.647092342376709, -0.04121594503521919, 0.5853199362754822, 0.8831734657287598, 0.7062416672706604, 0.12638702988624573, -0.5528770685195923, -0.9661228060722351, -0.8837501406669617, -0.2325388342142105, 0.6157922744750977, 1.1411768198013306, 0.9376935958862305, 0.20573246479034424, -0.7025836706161499, -1.1602997779846191, -0.9327744841575623, -0.16934263706207275, 0.6985802054405212, 1.1410589218139648, 0.9321255087852478, 0.25419503450393677, -0.6375553011894226, -1.1466349363327026, -1.0210204124450684, -0.3065590262413025, 0.6355770826339722, 1.2068212032318115, 1.0784218311309814, 0.2651394307613373, -0.6781923174858093, -1.1716914176940918, -1.0003662109375, -0.22718876600265503, 0.6197546124458313, 1.0347023010253906, 0.9114291667938232, 0.2923699915409088, -0.46539103984832764, -0.968711256980896, -0.9671053290367126, -0.3786431550979614, 0.441132128238678, 0.9648329019546509, 0.9073915481567383, 0.34849420189857483, -0.40417298674583435, -0.8917434811592102, -0.8234977126121521, -0.3343653380870819, 0.24687255918979645, 0.6691914200782776, 0.7303757667541504, 0.42762765288352966, -0.07183411717414856, -0.5538053512573242, -0.7478216886520386, -0.5284013152122498, -0.025323539972305298, 0.4976349472999573, 0.716107189655304, 0.5431086421012878, 0.06994733959436417, -0.41007569432258606, -0.627769410610199, -0.564474880695343, -0.22735099494457245, 0.19003333151340485, 0.572622537612915, 0.6952504515647888, 0.444778710603714, -0.0655159205198288, -0.5942678451538086, -0.8296905755996704, -0.5772312879562378, 0.015566962771117687, 0.5945450067520142, 0.8463231921195984, 0.6269205808639526, 0.06056500971317291, -0.5087823271751404, -0.8515552878379822, -0.7802920937538147, -0.27989843487739563, 0.468659907579422, 0.9843351244926453, 0.932385265827179, 0.31429925560951233, -0.5370620489120483, -1.0887401103973389, -0.9921876788139343, -0.29914477467536926, 0.5405265092849731, 1.0914520025253296, 0.9898403286933899, 0.35502034425735474, -0.4668568968772888, -1.0497546195983887, -1.087492823600769, -0.4876880645751953, 0.4361661970615387, 1.1133109331130981, 1.1587989330291748, 0.4850539565086365, -0.5048667192459106, -1.201702356338501, -1.1625325679779053, -0.41880887746810913, 0.5319972634315491, 1.1314810514450073, 1.0726653337478638, 0.4128352403640747, -0.43584248423576355, -1.063604474067688, -1.0724334716796875, -0.4728364050388336, 0.42860403656959534, 1.127046823501587, 1.1486567258834839, 0.49816393852233887, -0.4817585051059723, -1.157010793685913, -1.0799168348312378, -0.38509348034858704, 0.5123939514160156, 1.0400680303573608, 0.9826511144638062, 0.37794628739356995, -0.4527183771133423, -0.9780473709106445, -0.9739918112754822, -0.4212351143360138, 0.3921414911746979, 1.0073306560516357, 0.9819090962409973, 0.3603232800960541, -0.46439987421035767, -1.038236141204834, -0.912351131439209, -0.250717431306839, 0.5028839111328125, 0.9394745826721191, 0.7524430155754089, 0.1951296329498291, -0.4359990656375885, -0.8340738415718079, -0.7476718425750732, -0.2389121949672699, 0.44401711225509644, 0.9005451798439026, 0.7573384046554565, 0.15586742758750916, -0.5243414044380188, -0.9047995209693909, -0.7009089589118958, -0.04780125245451927, 0.591524600982666, 0.859612762928009, 0.5889124274253845, 0.01840144768357277, -0.5482407808303833, -0.7785530090332031, -0.5726025104522705, -0.014482530765235424, 0.5494504570960999, 0.792317271232605, 0.5901594758033752, -0.021278664469718933, -0.6373222470283508, -0.8393111228942871, -0.4946737587451935, 0.15070214867591858, 0.6860777735710144, 0.7511295080184937, 0.37736260890960693, -0.19922150671482086, -0.6161187887191772, -0.6670992374420166, -0.3488216996192932, 0.13513261079788208, 0.5673238635063171, 0.6820334196090698, 0.3802386224269867, -0.16640785336494446, -0.6214184761047363, -0.6977789998054504, -0.29385262727737427, 0.29401153326034546, 0.6433181762695312, 0.5800555348396301, 0.14207962155342102, -0.30754736065864563, -0.5524082779884338, -0.4624554216861725, -0.09846492856740952, 0.27483707666397095, 0.4699350893497467, 0.45535510778427124, 0.17486916482448578, -0.24756106734275818, -0.5436850786209106, -0.4371430575847626, -0.08303909003734589, 0.36133795976638794, 0.4920976758003235, 0.33030009269714355, -0.04258178547024727, -0.35776710510253906, -0.3873594105243683, -0.1991017907857895, 0.05574725568294525, 0.2674594819545746, 0.3333725333213806, 0.1975020468235016, -0.014021310955286026, -0.2235410064458847, -0.34048882126808167, -0.19846324622631073, 0.05711519345641136, 0.30008888244628906, 0.3088391423225403, 0.1124119684100151, -0.16320498287677765, -0.2734011113643646, -0.22729463875293732, -0.039132602512836456, 0.084046870470047, 0.14957408607006073, 0.19253508746623993, 0.1386881321668625, 0.05164914205670357, -0.09182125329971313, -0.24942409992218018, -0.24412882328033447, -0.12055202573537827, 0.13407613337039948, 0.24888303875923157, 0.26426199078559875, 0.12818482518196106, -0.0711018443107605, -0.20191961526870728, -0.32118406891822815, -0.32427430152893066, -0.11031519621610641, 0.23492847383022308, 0.50359046459198, 0.533541738986969, 0.20396637916564941, -0.3465827703475952, -0.7386786341667175, -0.7048652172088623, -0.19752666354179382, 0.43120497465133667, 0.8099234700202942, 0.7824119329452515, 0.3149145245552063, -0.3674457371234894, -0.9191171526908875, -0.9809039235115051, -0.4751022160053253, 0.39018362760543823, 1.1186566352844238, 1.2325849533081055, 0.5454690456390381, -0.519256055355072, -1.3251370191574097, -1.3669178485870361, -0.559077799320221, 0.5917457938194275, 1.362898349761963, 1.372036099433899, 0.5689423084259033, -0.5385468602180481, -1.4147967100143433, -1.5294917821884155, -0.7334319949150085, 0.5321492552757263, 1.532102108001709, 1.656570553779602, 0.7722543478012085, -0.6359339952468872, -1.6507586240768433, -1.664109706878662, -0.691118061542511, 0.6606025099754333, 1.5907052755355835, 1.632742166519165, 0.7008232474327087, -0.5647750496864319, -1.552074670791626, -1.640081763267517, -0.78553706407547, 0.5236086249351501, 1.54580819606781, 1.6567668914794922, 0.7901358008384705, -0.5613553524017334, -1.5343074798583984, -1.5475497245788574, -0.7053150534629822, 0.5320932865142822, 1.3761028051376343, 1.4235104322433472, 0.6511728167533875, -0.40130722522735596, -1.2020888328552246, -1.3347586393356323, -0.6941609978675842, 0.3341934382915497, 1.127294659614563, 1.2902427911758423, 0.6864672303199768, -0.32592490315437317, -1.0576025247573853, -1.1557884216308594, -0.5457204580307007, 0.2718660533428192, 0.870790421962738, 0.9197413325309753, 0.5257863998413086, -0.1229315921664238, -0.6618918180465698, -0.8138476610183716, -0.5522541403770447, 0.009991561993956566, 0.5691679120063782, 0.7786406874656677, 0.5491088628768921, -0.0016495074378326535, -0.45668551325798035, -0.6020094752311707, -0.3973158001899719, -0.038053933531045914, 0.245523139834404, 0.40072089433670044, 0.35625436902046204, 0.1881960928440094, -0.07950261980295181, -0.30076536536216736, -0.41558384895324707, -0.2639215886592865, 0.01111550536006689, 0.2765355706214905, 0.34952765703201294, 0.26119181513786316, 0.052036624401807785, -0.13806721568107605, -0.22193124890327454, -0.26202234625816345, -0.17736491560935974, -0.06657595932483673, 0.18367381393909454, 0.3221352994441986, 0.3251940608024597, 0.11390238255262375, -0.20402123034000397, -0.3892987072467804, -0.32779160141944885, -0.08018509298563004, 0.13912782073020935, 0.2952876687049866, 0.28886282444000244, 0.18264667689800262, -0.041867464780807495, -0.2753778398036957, -0.368725061416626, -0.2914574444293976, 0.006982984486967325, 0.33278951048851013, 0.4225442707538605, 0.27880170941352844, -0.06975465267896652, -0.3304138779640198, -0.3600848615169525, -0.21470388770103455, 0.05991298705339432, 0.22192177176475525, 0.263794481754303, 0.222364142537117, 0.08012213557958603, -0.13234920799732208, -0.30901047587394714, -0.266494482755661, -0.039226505905389786, 0.20661281049251556, 0.27402111887931824, 0.1872510015964508, -0.08503991365432739, -0.19654278457164764, -0.1560296267271042, -0.03011206164956093, 0.08455152809619904, 0.08531815558671951, 0.02449788525700569, -0.026493193581700325, -0.04317709803581238, 0.02200264297425747, 0.04059024900197983, 0.03472649306058884, 0.03877810016274452, 0.030978189781308174, -0.05616365000605583, -0.14040616154670715, -0.15421777963638306, -0.011855317279696465, 0.195964515209198, 0.2699221968650818, 0.14885209500789642, -0.10195349156856537, -0.3375944495201111, -0.3407839834690094, -0.1255379021167755, 0.17737233638763428, 0.38114577531814575, 0.3426695168018341, 0.13107948005199432, -0.12530936300754547, -0.3624262511730194, -0.4674447178840637, -0.2729725241661072, 0.10304484516382217, 0.4959647059440613, 0.6215795874595642, 0.29773494601249695, -0.23385687172412872, -0.6221066117286682, -0.641926646232605, -0.25843545794487, 0.2627606987953186, 0.5883684754371643, 0.5957650542259216, 0.28834953904151917, -0.1813320368528366, -0.5814642906188965, -0.6894364356994629, -0.3732059895992279, 0.14760223031044006, 0.6199522018432617, 0.7685730457305908, 0.42679864168167114, -0.17491312325000763, -0.6690019369125366, -0.7414454817771912, -0.3849201500415802, 0.1658908724784851, 0.5928171873092651, 0.6540467143058777, 0.4039534032344818, -0.045521724969148636, -0.47072628140449524, -0.6546223759651184, -0.5015676021575928, -0.04482034221291542, 0.45942336320877075, 0.7064720392227173, 0.5047954320907593, 0.03892036899924278, -0.40884342789649963, -0.5663517713546753, -0.4169566333293915, -0.08809752762317657, 0.273950457572937, 0.4189327657222748, 0.38324958086013794, 0.21093295514583588, -0.07264361530542374, -0.3644210398197174, -0.47147542238235474, -0.3058966100215912, 0.029110990464687347, 0.3427340090274811, 0.4192388355731964, 0.27912184596061707, 0.06694628298282623, -0.1638784557580948, -0.3112871050834656, -0.34373852610588074, -0.2214265763759613, -0.01469789445400238, 0.24284183979034424, 0.4652111530303955, 0.443414568901062, 0.13958027958869934, -0.2801209092140198, -0.5464427471160889, -0.49943169951438904, -0.19319665431976318, 0.20302033424377441, 0.48796623945236206, 0.5522779822349548, 0.3195808529853821, -0.0646057277917862, -0.504294216632843, -0.7006708383560181, -0.4957810342311859, -0.003244322258979082, 0.6121438145637512, 0.8609108924865723, 0.5991974472999573, -0.04395192116498947, -0.6422559022903442, -0.8673766851425171, -0.6463216543197632, -0.0013515162281692028, 0.6155393719673157, 0.9134032726287842, 0.7321721911430359, 0.13700181245803833, -0.5613593459129333, -1.0415376424789429, -0.8947293758392334, -0.18047361075878143, 0.6538133025169373, 1.1510016918182373, 0.9197371602058411, 0.16667474806308746, -0.7139594554901123, -1.1311681270599365, -0.8750898838043213, -0.16745229065418243, 0.6210301518440247, 1.0656347274780273, 0.9332192540168762, 0.29883936047554016, -0.572225034236908, -1.13693106174469, -1.0581263303756714, -0.2879316806793213, 0.6330237984657288, 1.2000726461410522, 1.0222513675689697, 0.2172526866197586, -0.6714595556259155, -1.1416093111038208, -0.9138352870941162, -0.20772810280323029, 0.590419590473175, 1.0513228178024292, 0.9013183116912842, 0.26760637760162354, -0.5494169592857361, -1.0603885650634766, -0.8949381709098816, -0.2020517885684967, 0.6380560398101807, 1.0861361026763916, 0.8502711057662964, 0.07286538183689117, -0.7191497683525085, -1.003238558769226, -0.6835230588912964, 0.014039542526006699, 0.6706214547157288, 0.9010974168777466, 0.6535605192184448, -0.01575588248670101, -0.6841598749160767, -0.9733254909515381, -0.6379251480102539, 0.12555266916751862, 0.8189029693603516, 0.9977629780769348, 0.5149345993995667, -0.303337037563324, -0.9272418022155762, -0.9124680161476135, -0.3457030951976776, 0.4055602252483368, 0.8897274732589722, 0.8291990756988525, 0.27271538972854614, -0.4611313045024872, -0.973832905292511, -0.8754415512084961, -0.21358725428581238, 0.6160699725151062, 1.0909031629562378, 0.8853020071983337, 0.0765092670917511, -0.8020403385162354, -1.1679737567901611, -0.8009416460990906, 0.11513218283653259, 0.9389165043830872, 1.110327959060669, 0.6554597020149231, -0.18775489926338196, -0.9381771683692932, -1.1101995706558228, -0.6522745490074158, 0.21645928919315338, 1.036396861076355, 1.2048091888427734, 0.6584151983261108, -0.36432793736457825, -1.1773415803909302, -1.2486525774002075, -0.5184024572372437, 0.5258314609527588, 1.2148468494415283, 1.150086760520935, 0.42702510952949524, -0.5859107971191406, -1.1936869621276855, -1.13495934009552, -0.4213871657848358, 0.5636056065559387, 1.2164405584335327, 1.1432081460952759, 0.41074609756469727, -0.6215336918830872, -1.3066836595535278, -1.1606478691101074, -0.2843919098377228, 0.7643693685531616, 1.3009977340698242, 1.0194042921066284, 0.18136194348335266, -0.7350994944572449, -1.156216025352478, -0.9300075769424438, -0.18517781794071198, 0.6837813854217529, 1.1515171527862549, 0.9506937265396118, 0.1823728084564209, -0.7134535908699036, -1.1656662225723267, -0.9034492373466492, -0.06739553064107895, 0.773935854434967, 1.127233624458313, 0.769092857837677, -0.04544037953019142, -0.7652773261070251, -0.9984437227249146, -0.6767247915267944, 0.023129872977733612, 0.6849738359451294, 0.9430393576622009, 0.6529408097267151, -0.02832314372062683, -0.6890590190887451, -0.9477234482765198, -0.6040142774581909, 0.13981223106384277, 0.767119288444519, 0.8716863393783569, 0.4179912805557251, -0.27383118867874146, -0.7325596213340759, -0.7150644659996033, -0.2795293629169464, 0.2950443923473358, 0.6300498247146606, 0.6301058530807495, 0.22296485304832458, -0.2948337197303772, -0.648205041885376, -0.5902844667434692, -0.12027140706777573, 0.45448416471481323, 0.7053818106651306, 0.462069571018219, -0.11516338586807251, -0.5789180397987366, -0.6296433806419373, -0.2816673815250397, 0.25489458441734314, 0.6099633574485779, 0.5226251482963562, 0.13872650265693665, -0.3424715995788574, -0.6146385073661804, -0.5243712663650513, -0.10616061836481094, 0.43490034341812134, 0.7123600840568542, 0.5603560209274292, 0.008294371888041496, -0.6442927718162537, -0.8585476279258728, -0.5043259859085083, 0.18345299363136292, 0.7367790937423706, 0.8404114246368408, 0.4172877371311188, -0.25255799293518066, -0.742585301399231, -0.8120112419128418, -0.4120485782623291, 0.2079085260629654, 0.7727704048156738, 0.9068604707717896, 0.4757865071296692, -0.264301061630249, -0.8946487903594971, -0.9877906441688538, -0.43146073818206787, 0.38144853711128235, 0.9433581829071045, 0.9269522428512573, 0.3866398334503174, -0.37081053853034973, -0.8711473345756531, -0.8699614405632019, -0.4013881981372833, 0.2354215681552887, 0.7831510305404663, 0.917689323425293, 0.5040591359138489, -0.20097392797470093, -0.8164076805114746, -0.9248008728027344, -0.46640545129776, 0.23802192509174347, 0.7873427867889404, 0.8241133689880371, 0.3726211190223694, -0.21610264480113983, -0.64783775806427, -0.6936002373695374, -0.4355422556400299, 0.0838245376944542, 0.5450749397277832, 0.7248030304908752, 0.49274250864982605, -0.04233285412192345, -0.553106963634491, -0.6950744390487671, -0.42596447467803955, 0.07185719162225723, 0.4767569601535797, 0.5752436518669128, 0.34628865122795105, -0.029359769076108932, -0.32018569111824036, -0.47505369782447815, -0.34962770342826843, -0.08635582029819489, 0.20850130915641785, 0.4305087625980377, 0.42936787009239197, 0.13986094295978546, -0.21909506618976593, -0.40259894728660583, -0.3443177342414856, -0.0833154022693634, 0.1579696536064148, 0.28709909319877625, 0.2649155557155609, 0.15047064423561096, -0.0006985137588344514, -0.16094018518924713, -0.2546161413192749, -0.27092841267585754, -0.11412190645933151, 0.14838646352291107, 0.3126648962497711, 0.327309787273407, 0.1294444501399994, -0.14059172570705414, -0.29443061351776123, -0.29300302267074585, -0.15339083969593048, -0.014731685630977154, 0.20348244905471802, 0.3354659080505371, 0.3255833685398102, 0.09696387499570847, -0.2286594808101654, -0.4718444049358368, -0.42087411880493164, -0.06607960909605026, 0.2950979173183441, 0.4968780279159546, 0.3595944344997406, 0.08588792383670807, -0.2671884000301361, -0.41454488039016724, -0.39673730731010437, -0.2026052474975586, 0.1453564465045929, 0.42197364568710327, 0.5191141366958618, 0.33921563625335693, -0.11232142895460129, -0.4985513687133789, -0.621666669845581, -0.3425254821777344, 0.083625927567482, 0.4721698760986328, 0.6240076422691345, 0.4147240221500397, 0.005665581673383713, -0.4032230079174042, -0.6519491672515869, -0.5944264531135559, -0.18925529718399048, 0.3575665056705475, 0.8157688975334167, 0.7976850867271423, 0.25705841183662415, -0.44401389360427856, -0.9333003759384155, -0.8784139156341553, -0.3238994777202606, 0.4189208745956421, 0.9166976809501648, 0.9550303220748901, 0.47523626685142517, -0.309897243976593, -0.9632262587547302, -1.121315836906433, -0.6519004106521606, 0.2746604382991791, 1.0826618671417236, 1.2990059852600098, 0.6819580793380737, -0.34640923142433167, -1.1482852697372437, -1.3270741701126099, -0.7227264046669006, 0.2751463055610657, 1.1261454820632935, 1.3461616039276123, 0.8518921136856079, -0.13678495585918427, -1.0796880722045898, -1.458066701889038, -1.0085341930389404, 0.09353271126747131, 1.184659481048584, 1.5724396705627441, 1.0345457792282104, -0.1083776131272316, -1.1969789266586304, -1.5241897106170654, -0.9780710339546204, 0.0724482387304306, 1.077527403831482, 1.4789553880691528, 1.0694341659545898, 0.05464940890669823, -0.9828914403915405, -1.5192686319351196, -1.1718047857284546, -0.14952296018600464, 0.9726108908653259, 1.5249979496002197, 1.1588819026947021, 0.11210986226797104, -0.9306174516677856, -1.4252233505249023, -1.080721378326416, -0.17375585436820984, 0.7729302048683167, 1.27944815158844, 1.0859955549240112, 0.3161592483520508, -0.6153436303138733, -1.225340723991394, -1.132557988166809, -0.37128451466560364, 0.5673327445983887, 1.1519180536270142, 1.04645574092865, 0.3373081386089325, -0.49239128828048706, -0.9878135323524475, -0.896609902381897, -0.355523943901062, 0.32840943336486816, 0.7745262980461121, 0.8398051857948303, 0.4356507956981659, -0.19243532419204712, -0.7067444324493408, -0.8311954140663147, -0.45598357915878296, 0.18633240461349487, 0.6335681080818176, 0.6877274513244629, 0.3488205671310425, -0.1055528074502945, -0.4195185601711273, -0.4954463839530945, -0.3548896610736847, -0.04865123704075813, 0.22514255344867706, 0.3922884166240692, 0.40174323320388794, 0.16773511469364166, -0.1575581431388855, -0.3697567582130432, -0.3572736084461212, -0.1510850340127945, 0.051770035177469254, 0.24267932772636414, 0.24569979310035706, 0.17475800216197968, 0.0812835544347763, -0.06399001181125641, -0.1939653605222702, -0.2907721698284149, -0.2388349026441574, -0.014670121483504772, 0.2509947717189789, 0.34382912516593933, 0.2497500330209732, 0.005703579634428024, -0.235166534781456, -0.32642990350723267, -0.27780118584632874, -0.10954546928405762, 0.09839554131031036, 0.2943379580974579, 0.3746309280395508, 0.23788240551948547, -0.09580521285533905, -0.38823285698890686, -0.4921683371067047, -0.2570498585700989, 0.17474862933158875, 0.4548552632331848, 0.4546525180339813, 0.22046226263046265, -0.14682182669639587, -0.39626091718673706, -0.4607698917388916, -0.27514564990997314, 0.02970382384955883, 0.3863236904144287, 0.5487427115440369, 0.3776155412197113, -0.03778085485100746, -0.45114263892173767, -0.6331421732902527, -0.3817961513996124, 0.10430348664522171, 0.5119965076446533, 0.6101388931274414, 0.3017861545085907, -0.11515796929597855, -0.46778303384780884, -0.5631833076477051, -0.3617698550224304, 0.03767654672265053, 0.4414978623390198, 0.6265808343887329, 0.44276973605155945, -0.0426274836063385, -0.5332325100898743, -0.6641736030578613, -0.36720770597457886, 0.14955802261829376, 0.5586344599723816, 0.5959287881851196, 0.2898852527141571, -0.12939171493053436, -0.48194390535354614, -0.5222901105880737, -0.26682034134864807, 0.07667014002799988, 0.42891252040863037, 0.5507267713546753, 0.35420748591423035, -0.11847078800201416, -0.48517873883247375, -0.5575903058052063, -0.28849494457244873, 0.19176167249679565, 0.49540793895721436, 0.44559988379478455, 0.15464873611927032, -0.18057915568351746, -0.39820173382759094, -0.35558032989501953, -0.15385664999485016, 0.10921899974346161, 0.3206542432308197, 0.3705196976661682, 0.19133546948432922, -0.11394480615854263, -0.344703733921051, -0.3644085228443146, -0.11185277253389359, 0.19813352823257446, 0.3421648144721985, 0.23507572710514069, -0.00841099489480257, -0.1724698692560196, -0.19467435777187347, -0.1261759102344513, 0.008111263625323772, 0.09726540744304657, 0.11376388370990753, 0.10946270823478699, 0.042093466967344284, -0.08248931169509888, -0.18990081548690796, -0.14623193442821503, 0.011263100430369377, 0.1761518269777298, 0.18911615014076233, 0.05138438940048218, -0.1293652206659317, -0.17930935323238373, -0.08942057937383652, 0.015932533890008926, 0.10851675271987915, 0.1014488935470581, 0.037043195217847824, 0.03525899723172188, -0.028383569791913033, -0.09838736057281494, -0.11807913333177567, -0.06231424957513809, 0.04859437420964241, 0.17713704705238342, 0.16702887415885925, 0.03234801068902016, -0.12683305144309998, -0.191475972533226, -0.12383357435464859, 0.008025219663977623, 0.08574564754962921, 0.1133493185043335, 0.11306291073560715, 0.0914011001586914, -0.009487790986895561, -0.1351357251405716, -0.2593456208705902, -0.1863292157649994, 0.02222326770424843, 0.23268145322799683, 0.33860883116722107, 0.18840116262435913, -0.07113131880760193, -0.30464833974838257, -0.31264883279800415, -0.17462553083896637, 0.02256559021770954, 0.2372828871011734, 0.34278422594070435, 0.3092659115791321, 0.08014616370201111, -0.2485634684562683, -0.4826730787754059, -0.4047565460205078, -0.05605616047978401, 0.3522285223007202, 0.5640137791633606, 0.4198586344718933, 0.049065809696912766, -0.35714858770370483, -0.5540062189102173, -0.3912063241004944, -0.10391755402088165, 0.2990110516548157, 0.5627277493476868, 0.5240407586097717, 0.19798998534679413, -0.296342670917511, -0.6615036129951477, -0.6324315667152405, -0.19136962294578552, 0.4027675986289978, 0.7191075086593628, 0.585802435874939, 0.12915590405464172, -0.3821744918823242, -0.6660745143890381, -0.5418194532394409, -0.1793486624956131, 0.30545321106910706, 0.6055240631103516, 0.5960953831672668, 0.25731754302978516, -0.2824588418006897, -0.6798622012138367, -0.6431185603141785, -0.2179851084947586, 0.32536080479621887, 0.6294811964035034, 0.5382541418075562, 0.14193955063819885, -0.28853821754455566, -0.4820840060710907, -0.41264608502388, -0.1559913158416748, 0.16136042773723602, 0.3747956156730652, 0.4121088981628418, 0.22812724113464355, -0.0925971269607544, -0.3478119373321533, -0.3765573799610138, -0.14236041903495789, 0.1203167662024498, 0.2584986388683319, 0.19221821427345276, 0.02850353717803955, -0.10044275969266891, -0.09566061943769455, -0.03307558223605156, -0.03883723169565201, -0.03672150522470474, -0.036251481622457504, -0.03997286409139633, 0.01915070042014122, 0.04428752511739731, 0.10246460139751434, 0.11399976909160614, 0.10553907603025436, 0.01704302988946438, -0.16755779087543488, -0.3124150037765503, -0.2513512969017029, 0.003134661354124546, 0.32081231474876404, 0.49231451749801636, 0.3534492552280426, -0.0561688207089901, -0.4506392180919647, -0.5660377144813538, -0.3448864221572876, 0.05799136683344841, 0.45251959562301636, 0.6423187851905823, 0.5006262063980103, 0.05294978618621826, -0.47384461760520935, -0.8275781273841858, -0.7244909405708313, -0.11305028200149536, 0.623365581035614, 0.9994941353797913, 0.7670273780822754, 0.0526433102786541, -0.670129656791687, -1.0422537326812744, -0.8003514409065247, -0.11835230141878128, 0.6443237066268921, 1.0598050355911255, 0.9320603013038635, 0.2684706449508667, -0.6017059683799744, -1.1837801933288574, -1.075765609741211, -0.2931532561779022, 0.6560948491096497, 1.2654646635055542, 1.1057103872299194, 0.28021687269210815, -0.6686326861381531, -1.2202867269515991, -1.0526885986328125, -0.3184453248977661, 0.5471203923225403, 1.1296591758728027, 1.1128745079040527, 0.45572617650032043, -0.4592653810977936, -1.1301095485687256, -1.154043436050415, -0.4959379732608795, 0.44156065583229065, 1.1146949529647827, 1.0835154056549072, 0.44133299589157104, -0.38813942670822144, -0.9235789179801941, -0.9513723254203796, -0.472580224275589, 0.1823609173297882, 0.748154878616333, 0.9122225046157837, 0.5972540974617004, -0.044834353029727936, -0.6454985737800598, -0.8556663393974304, -0.5927414298057556, 0.027437936514616013, 0.5450223088264465, 0.710094690322876, 0.535460889339447, 0.08510288596153259, -0.32143357396125793, -0.5317381620407104, -0.523527979850769, -0.27365702390670776, 0.06583694368600845, 0.4364387094974518, 0.5821185111999512, 0.42640888690948486, 0.025432808324694633, -0.37227359414100647, -0.5653825402259827, -0.4573489725589752, -0.15019093453884125, 0.2163323611021042, 0.4671325087547302, 0.5370340347290039, 0.34533530473709106, -0.01726260408759117, -0.4198128581047058, -0.660759449005127, -0.5387366414070129, -0.05988167226314545, 0.4766254425048828, 0.7627080678939819, 0.6079964637756348, 0.12254991382360458, -0.43888649344444275, -0.7503301501274109, -0.6757516264915466, -0.24319587647914886, 0.30521416664123535, 0.7454253435134888, 0.8351502418518066, 0.4286273717880249, -0.2507100999355316, -0.8571644425392151, -0.981713593006134, -0.4957101345062256, 0.25134843587875366, 0.8587499260902405, 0.9904344081878662, 0.5404155850410461, -0.19678065180778503, -0.782776415348053, -0.9760555624961853, -0.6372237801551819, 0.06280586123466492, 0.7628655433654785, 1.0890545845031738, 0.7769911289215088, 0.013046161271631718, -0.7970861196517944, -1.1766377687454224, -0.8189824223518372, 0.014352135360240936, 0.8233770132064819, 1.134189486503601, 0.790553092956543, 0.06530194729566574, -0.6991350054740906, -1.0668632984161377, -0.8475178480148315, -0.14245349168777466, 0.6385728120803833, 1.1185871362686157, 0.9696171283721924, 0.1867063045501709, -0.6951420903205872, -1.164656400680542, -0.957567572593689, -0.1529819369316101, 0.6899020075798035, 1.0761258602142334, 0.8527924418449402, 0.16927482187747955, -0.5791769027709961, -0.9888288974761963, -0.8602166175842285, -0.2299017310142517, 0.5036680698394775, 1.013416051864624, 0.9139511585235596, 0.25322893261909485, -0.5684865713119507, -1.044830560684204, -0.8557959198951721, -0.16720996797084808, 0.5932526588439941, 0.9182899594306946, 0.7281760573387146, 0.11874518543481827, -0.5177189707756042, -0.8330933451652527, -0.6983668804168701, -0.1703433245420456, 0.46270987391471863, 0.8416759967803955, 0.7238537073135376, 0.10221532732248306, -0.6027324795722961, -0.8622056841850281, -0.6059032678604126, 0.05515599995851517, 0.6366762518882751, 0.7776151895523071, 0.4423573315143585, -0.12975268065929413, -0.5842521786689758, -0.6948460936546326, -0.4016280472278595, 0.1314142793416977, 0.5821442008018494, 0.7156122922897339, 0.3794395327568054, -0.2415498048067093, -0.699885368347168, -0.7286478281021118, -0.28315243124961853, 0.4003407955169678, 0.778653621673584, 0.6268612742424011, 0.08234259486198425, -0.44191256165504456, -0.7017474174499512, -0.5298876166343689, -0.0474993959069252, 0.45896339416503906, 0.6978799700737, 0.5531088709831238, 0.04536347836256027, -0.5206589102745056, -0.7802812457084656, -0.5804564952850342, 0.06556118279695511, 0.6372489333152771, 0.8441207408905029, 0.4460728168487549, -0.18524202704429626, -0.6965712904930115, -0.7412525415420532, -0.3332656919956207, 0.24931392073631287, 0.6595345735549927, 0.6866864562034607, 0.33506760001182556, -0.2546377182006836, -0.6735547184944153, -0.708167314529419, -0.28211864829063416, 0.356209397315979, 0.7561027407646179, 0.6780405640602112, 0.17365145683288574, -0.5029358267784119, -0.7856808304786682, -0.5652778148651123, -0.02943236753344536, 0.5134575366973877, 0.7039660811424255, 0.4582687020301819, -0.025249680504202843, -0.5133009552955627, -0.7039089202880859, -0.45915326476097107, 0.05332444608211517, 0.5984880328178406, 0.7453588247299194, 0.4078543484210968, -0.20471766591072083, -0.6823074817657471, -0.7437009215354919, -0.2640615999698639, 0.3416467607021332, 0.6916053295135498, 0.620447039604187, 0.15892347693443298, -0.35421377420425415, -0.6372684240341187, -0.5926389694213867, -0.17264629900455475, 0.3467126786708832, 0.6976802945137024, 0.6113165020942688, 0.1551477611064911, -0.42366036772727966, -0.7748115062713623, -0.6033158898353577, -0.008006327785551548, 0.5229141712188721, 0.7197545766830444, 0.4672964811325073, -0.03952941298484802, -0.49160200357437134, -0.6447161436080933, -0.4574357569217682, -0.0015906741609796882, 0.45625242590904236, 0.6424835920333862, 0.49699991941452026, 0.0134175606071949, -0.49765005707740784, -0.713198184967041, -0.458217978477478, 0.07425559312105179, 0.5313029885292053, 0.630938708782196, 0.34341609477996826, -0.1303112655878067, -0.4457509219646454, -0.5141376852989197, -0.3042311370372772, 0.03804503008723259, 0.35535624623298645, 0.49299490451812744, 0.33537954092025757, 0.00861033983528614, -0.35784661769866943, -0.4935332238674164, -0.3069593012332916, 0.06341316550970078, 0.370917409658432, 0.3894555866718292, 0.1719624251127243, -0.09542927891016006, -0.2560507357120514, -0.23580655455589294, -0.132801353931427, -0.003794702934101224, 0.11514022201299667, 0.1873367577791214, 0.1694912612438202, 0.05224471166729927, -0.07974731177091599, -0.16270148754119873, -0.1187664046883583, -0.02530054934322834, 0.042408522218465805, 0.029358386993408203, -0.03769421949982643, 0.00027266450342722237, 0.07968148589134216, 0.11762551963329315, 0.08915799111127853, -0.0922340452671051, -0.2341780811548233, -0.2054743617773056, -0.031044643372297287, 0.13198019564151764, 0.253004789352417, 0.23711246252059937, 0.1021135225892067, -0.09704037010669708, -0.24399501085281372, -0.345874160528183, -0.2541879415512085, 0.043075207620859146, 0.3798713684082031, 0.4912436902523041, 0.302690327167511, -0.0974232405424118, -0.4648754298686981, -0.5336043238639832, -0.23955044150352478, 0.17531916499137878, 0.4754767417907715, 0.5267518162727356, 0.290495365858078, -0.09864781051874161, -0.4388757348060608, -0.5775205492973328, -0.4396314024925232, 0.05148054286837578, 0.5135547518730164, 0.7033339738845825, 0.46063289046287537, -0.10982260853052139, -0.59952312707901, -0.6811486482620239, -0.36421021819114685, 0.11241781711578369, 0.5135321021080017, 0.6449402570724487, 0.37237945199012756, -0.04782980680465698, -0.4400217533111572, -0.6420943737030029, -0.4745827913284302, -0.008435684256255627, 0.47125816345214844, 0.7078679203987122, 0.47737011313438416, -0.06281566619873047, -0.5305307507514954, -0.639594316482544, -0.36255088448524475, 0.05712863430380821, 0.4532144069671631, 0.5594776272773743, 0.37708091735839844, 0.021596645936369896, -0.358339786529541, -0.5610324144363403, -0.4592832624912262, -0.06586726009845734, 0.41144710779190063, 0.6443532109260559, 0.4545709192752838, 0.00397507194429636, -0.4339028596878052, -0.5559027791023254, -0.37284982204437256, -0.004707175772637129, 0.34200164675712585, 0.48638007044792175, 0.37200912833213806, 0.05924118682742119, -0.28967052698135376, -0.4919240176677704, -0.4343205392360687, -0.07439488172531128, 0.31780996918678284, 0.5363258719444275, 0.42754846811294556, 0.0019723710138350725, -0.3555278480052948, -0.46411681175231934, -0.3031657338142395, 0.0001692133373580873, 0.2842043340206146, 0.3914322555065155, 0.2857101261615753, 0.07758620381355286, -0.1916298270225525, -0.3884018361568451, -0.3666554093360901, -0.09289740025997162, 0.25328218936920166, 0.42338448762893677, 0.34285300970077515, 0.014793794602155685, -0.28286582231521606, -0.3942214250564575, -0.21153081953525543, -0.0067915176041424274, 0.19860225915908813, 0.26999619603157043, 0.22080139815807343, 0.08067712932825089, -0.1266244798898697, -0.2940310835838318, -0.2811533808708191, -0.08015570789575577, 0.18840286135673523, 0.3471885323524475, 0.28096556663513184, 0.03830163925886154, -0.2089225798845291, -0.29756781458854675, -0.2032560557126999, 0.003700088942423463, 0.14872506260871887, 0.18784311413764954, 0.18330635130405426, 0.11897549778223038, -0.06057576835155487, -0.21375519037246704, -0.268360435962677, -0.14956386387348175, 0.061907265335321426, 0.2651728391647339, 0.2593875825405121, 0.06599213927984238, -0.13347333669662476, -0.23874065279960632, -0.19691482186317444, -0.08054790645837784, 0.03358835354447365, 0.13765166699886322, 0.1902887523174286, 0.17665627598762512, 0.009804016910493374, -0.1773703396320343, -0.2614155113697052, -0.21351763606071472, 0.0074883922934532166, 0.25382062792778015, 0.31404879689216614, 0.13714207708835602, -0.07215165346860886, -0.2248086929321289, -0.2419443577528, -0.14526750147342682, -0.00199665199033916, 0.1435074657201767, 0.23896445333957672, 0.22941173613071442, 0.06340651959180832, -0.20922771096229553, -0.34679386019706726, -0.264295369386673, 0.04382937029004097, 0.2813176214694977, 0.3457869291305542, 0.1678866446018219, -0.125326469540596, -0.30406439304351807, -0.2863011360168457, -0.12909764051437378, 0.0853208675980568, 0.25063735246658325, 0.2573692500591278, 0.1760818362236023, -0.06952952593564987, -0.28544875979423523, -0.3445550501346588, -0.18421326577663422, 0.17125862836837769, 0.40987151861190796, 0.35947877168655396, 0.06875146180391312, -0.23393069207668304, -0.3994446396827698, -0.2549268901348114, -0.03733179718255997, 0.2152601182460785, 0.32722610235214233, 0.2858102023601532, 0.09520196914672852, -0.1682811677455902, -0.3623439073562622, -0.3961159586906433, -0.11698772013187408, 0.26173678040504456, 0.4830021858215332, 0.3992006778717041, 0.03741633892059326, -0.32384538650512695, -0.47105276584625244, -0.3184901177883148, -0.012503258883953094, 0.2502238154411316, 0.4084780216217041, 0.3227216601371765, 0.0844854786992073, -0.2176237553358078, -0.4519685208797455, -0.4042415916919708, -0.10029060393571854, 0.2954882085323334, 0.5151758790016174, 0.3908091187477112, 0.027072785422205925, -0.37924325466156006, -0.48612523078918457, -0.30417707562446594, 0.029837561771273613, 0.31198886036872864, 0.39096036553382874, 0.29753440618515015, 0.054689981043338776, -0.23532184958457947, -0.41648098826408386, -0.3630317151546478, -0.07249023765325546, 0.2777640223503113, 0.4515934884548187, 0.303104966878891, -0.01295675802975893, -0.33437344431877136, -0.41133785247802734, -0.19178277254104614, 0.06258773803710938, 0.23666507005691528, 0.2546231150627136, 0.13437917828559875, -0.025770239531993866, -0.16329644620418549, -0.25832706689834595, -0.1744116246700287, 0.01867317408323288, 0.21916095912456512, 0.2530305087566376, 0.10241904854774475, -0.14366963505744934, -0.26904377341270447, -0.20253603160381317, 0.011587027460336685, 0.17350570857524872, 0.1900537759065628, 0.05681415647268295, -0.08770973980426788, -0.16274164617061615, -0.11419318616390228, -0.025904456153512, 0.07930340617895126, 0.1748286634683609, 0.1843315064907074, 0.0752161368727684, -0.08748125284910202, -0.2557052969932556, -0.23815837502479553, -0.028147684410214424, 0.24718503654003143, 0.3337993621826172, 0.18230286240577698, -0.08401727676391602, -0.283499538898468, -0.3052046597003937, -0.17127197980880737, 0.034795310348272324, 0.2288307249546051, 0.3163987994194031, 0.2365444153547287, 0.01725410670042038, -0.2477099448442459, -0.4100271463394165, -0.31789958477020264, 0.009192313998937607, 0.36172083020210266, 0.4958021640777588, 0.2811390161514282, -0.07212148606777191, -0.37772777676582336, -0.4051577150821686, -0.24574360251426697, 0.02174561843276024, 0.3220815360546112, 0.41990867257118225, 0.3675727844238281, 0.08396454900503159, -0.29338380694389343, -0.5274560451507568, -0.47243428230285645, -0.06961598247289658, 0.3800588846206665, 0.5679801106452942, 0.42438435554504395, 0.016091058030724525, -0.3822524845600128, -0.5515015721321106, -0.4154199957847595, -0.08746186643838882, 0.3035755753517151, 0.5313435792922974, 0.5171152949333191, 0.16888877749443054, -0.3005279004573822, -0.6324624419212341, -0.6064533591270447, -0.17578423023223877, 0.3809465765953064, 0.6938185691833496, 0.5713594555854797, 0.10725057125091553, -0.3866550028324127, -0.6090292930603027, -0.5255614519119263, -0.1505172848701477, 0.2937662601470947, 0.6088079214096069, 0.5843014717102051, 0.22098484635353088, -0.3203255534172058, -0.6941968202590942, -0.6213673949241638, -0.18201453983783722, 0.4081808924674988, 0.7225265502929688, 0.5482307076454163, 0.0699876993894577, -0.42739158868789673, -0.6524818539619446, -0.4673319160938263, -0.05828768387436867, 0.3515574336051941, 0.6182960271835327, 0.514296293258667, 0.10186029970645905, -0.41559451818466187, -0.6990448236465454, -0.5492382645606995, -0.020968681201338768, 0.5221759080886841, 0.7033198475837708, 0.4445718824863434, -0.10517626255750656, -0.5586656332015991, -0.6319040656089783, -0.3618852198123932, 0.10964811593294144, 0.49096420407295227, 0.6248534321784973, 0.3748375475406647, -0.09657545387744904, -0.5169031620025635, -0.6529626846313477, -0.37318283319473267, 0.16943851113319397, 0.6490283608436584, 0.6713218688964844, 0.28490468859672546, -0.2981828451156616, -0.6744455695152283, -0.618431031703949, -0.16739703714847565, 0.32624492049217224, 0.5930460691452026, 0.5472611784934998, 0.15940438210964203, -0.27978429198265076, -0.5903730988502502, -0.5658079385757446, -0.1931530237197876, 0.35180550813674927, 0.6965773105621338, 0.5816017389297485, 0.06939680874347687, -0.4458630383014679, -0.7081442475318909, -0.4665290117263794, 0.02154865674674511, 0.42629122734069824, 0.5698743462562561, 0.37157294154167175, -0.028878571465611458, -0.39121586084365845, -0.5421699285507202, -0.4074084460735321, -0.026985403150320053, 0.4383030831813812, 0.6281037330627441, 0.3944886326789856, -0.09414302557706833, -0.46934548020362854, -0.5638837218284607, -0.3108808100223541, 0.1490769237279892, 0.4565197229385376, 0.446191668510437, 0.2137584388256073, -0.10180005431175232, -0.37239792943000793, -0.4218476414680481, -0.29564544558525085, 0.0527389794588089, 0.3990974426269531, 0.48559141159057617, 0.2839823365211487, -0.13182689249515533, -0.45904541015625, -0.4705539345741272, -0.19956302642822266, 0.1767980456352234, 0.39032718539237976, 0.3649795651435852, 0.1480114758014679, -0.12280701845884323, -0.30573081970214844, -0.34704869985580444, -0.22659586369991302, 0.052398573607206345, 0.32614612579345703, 0.41069185733795166, 0.22035609185695648, -0.09977804869413376, -0.3440465033054352, -0.36539751291275024, -0.1382819265127182, 0.125538632273674, 0.2879071831703186, 0.25304871797561646, 0.11386758089065552, -0.04500441625714302, -0.16954682767391205, -0.21170172095298767, -0.1853199601173401, -0.02050541527569294, 0.16867804527282715, 0.2599470615386963, 0.2188068926334381, 0.01371887605637312, -0.17159442603588104, -0.2448049783706665, -0.13653284311294556, 0.03607163578271866, 0.10746229439973831, 0.11698966473340988, 0.07255493104457855, 0.02887842431664467, 0.04115355387330055, -0.05437527969479561, -0.11284874379634857, -0.11680349707603455, -0.03857443854212761, 0.09439035505056381, 0.11287722736597061, 0.05385078117251396, -0.016828596591949463, -0.04883721098303795, 0.009304678067564964, 0.029484938830137253, -0.031835418194532394, -0.08808981627225876, -0.08061904460191727, 0.04321719706058502, 0.10857860743999481, 0.1140948086977005, 0.026141313835978508, -0.036423079669475555, -0.09530419111251831, -0.06825228035449982, -0.02749003656208515, -0.04464356601238251, -0.011271710507571697, 0.09359834343194962, 0.1841561198234558, 0.15592487156391144, 0.019435040652751923, -0.1881347894668579, -0.2737888991832733, -0.15177996456623077, 0.06140118092298508, 0.21535485982894897, 0.25068408250808716, 0.13467632234096527, -0.003276017727330327, -0.16793100535869598, -0.2596617043018341, -0.23032832145690918, -0.07870104908943176, 0.18892067670822144, 0.3901953101158142, 0.35540103912353516, 0.04755033552646637, -0.3067450225353241, -0.4764060974121094, -0.32228830456733704, 0.022497717291116714, 0.3515407145023346, 0.44108930230140686, 0.2979002296924591, -0.010028575547039509, -0.3408530056476593, -0.4888276755809784, -0.36973851919174194, -0.0544356107711792, 0.3644484281539917, 0.6216195225715637, 0.49423372745513916, -0.0013940472854301333, -0.5255222320556641, -0.7178503274917603, -0.47094881534576416, 0.07538183778524399, 0.5788249969482422, 0.6913642883300781, 0.45252665877342224, -0.06231174245476723, -0.5340507626533508, -0.7481852173805237, -0.5257622003555298, -0.0014867200516164303, 0.6235141158103943, 0.9127134084701538, 0.6107283234596252, -0.06279827654361725, -0.7846828103065491, -1.008224368095398, -0.5871910452842712, 0.20376114547252655, 0.8298581838607788, 1.0012619495391846, 0.5819772481918335, -0.209904283285141, -0.8429751992225647, -1.073305368423462, -0.6512482762336731, 0.15132121741771698, 0.9333251118659973, 1.1859794855117798, 0.6945737600326538, -0.24098877608776093, -1.0950583219528198, -1.2753053903579712, -0.6431249976158142, 0.3582831919193268, 1.1461824178695679, 1.2056182622909546, 0.5803003907203674, -0.3593539893627167, -1.1224749088287354, -1.2331327199935913, -0.6549420952796936, 0.3090747594833374, 1.142202615737915, 1.3321484327316284, 0.7038863301277161, -0.37329840660095215, -1.2498172521591187, -1.3994280099868774, -0.6708667278289795, 0.4216316044330597, 1.2345901727676392, 1.3205318450927734, 0.6076690554618835, -0.4092258810997009, -1.158195972442627, -1.2786146402359009, -0.7041370272636414, 0.2764093577861786, 1.1454216241836548, 1.358647108078003, 0.7479145526885986, -0.31491199135780334, -1.2123843431472778, -1.3561508655548096, -0.7342710494995117, 0.3802206218242645, 1.172705888748169, 1.275020718574524, 0.6556767225265503, -0.2977803349494934, -1.0640207529067993, -1.2106752395629883, -0.7197587490081787, 0.2128591388463974, 1.0144137144088745, 1.270588755607605, 0.7408924698829651, -0.25372061133384705, -1.0821892023086548, -1.2555522918701172, -0.6584209203720093, 0.3208419978618622, 1.0354692935943604, 1.126013994216919, 0.5748443007469177, -0.27564504742622375, -0.9078603982925415, -1.065001130104065, -0.6207769513130188, 0.1959967315196991, 0.8892017602920532, 1.1133583784103394, 0.63997882604599, -0.2039186656475067, -0.9453721642494202, -1.111782431602478, -0.576015055179596, 0.28630512952804565, 0.9274965524673462, 0.9751535058021545, 0.4814889430999756, -0.27120241522789, -0.8270443081855774, -0.929817259311676, -0.517727792263031, 0.20371001958847046, 0.8053192496299744, 0.9701467752456665, 0.5514399409294128, -0.23337578773498535, -0.8906446695327759, -0.9660173058509827, -0.431585431098938, 0.37507185339927673, 0.8899481296539307, 0.8807281255722046, 0.36060255765914917, -0.3285832107067108, -0.785703182220459, -0.816707193851471, -0.3927895724773407, 0.26552489399909973, 0.8019693493843079, 0.878947377204895, 0.43281593918800354, -0.3060392141342163, -0.8520234227180481, -0.8752267956733704, -0.343723326921463, 0.40149831771850586, 0.869202196598053, 0.802763044834137, 0.27620285749435425, -0.377480149269104, -0.7519228458404541, -0.7125453352928162, -0.2965816557407379, 0.2707068622112274, 0.7273377180099487, 0.7560129165649414, 0.35983601212501526, -0.298974871635437, -0.7933642864227295, -0.7858054637908936, -0.27907249331474304, 0.34973961114883423, 0.730478048324585, 0.6380690932273865, 0.19575421512126923, -0.3054811358451843, -0.5832173824310303, -0.5748695731163025, -0.23827432096004486, 0.17860408127307892, 0.558091402053833, 0.6262162327766418, 0.3123328387737274, -0.17019428312778473, -0.5665158629417419, -0.6083548665046692, -0.2570112347602844, 0.21572066843509674, 0.5180858373641968, 0.48861584067344666, 0.19440172612667084, -0.1560317724943161, -0.36976054310798645, -0.41647621989250183, -0.2692713141441345, 0.04149412736296654, 0.3464653789997101, 0.4940335154533386, 0.34131187200546265, -0.04661062732338905, -0.37513190507888794, -0.46418458223342896, -0.2583129107952118, 0.0897962898015976, 0.33849334716796875, 0.35589680075645447, 0.19944560527801514, -0.010096135549247265, -0.20622946321964264, -0.31810474395751953, -0.2492043524980545, -0.070752814412117, 0.20562496781349182, 0.34839099645614624, 0.27047187089920044, 0.023472853004932404, -0.2284785956144333, -0.3390308618545532, -0.19713273644447327, 0.08658633381128311, 0.256274938583374, 0.2402026504278183, 0.10674785077571869, -0.04639185592532158, -0.1520378142595291, -0.18155144155025482, -0.11806714534759521, 0.010568952187895775, 0.1560191661119461, 0.19366060197353363, 0.11673862487077713, -0.09937536716461182, -0.26031407713890076, -0.2276865839958191, -0.04039585590362549, 0.17786501348018646, 0.2573799788951874, 0.15291453897953033, -0.046440478414297104, -0.18622717261314392, -0.1888314038515091, -0.10381964594125748, 0.04509791359305382, 0.16440632939338684, 0.24391531944274902, 0.15079741179943085, -0.04300020635128021, -0.250242680311203, -0.3528299629688263, -0.20872487127780914, 0.11335663497447968, 0.3826858401298523, 0.39368098974227905, 0.12679187953472137, -0.18296639621257782, -0.3922830820083618, -0.3640693426132202, -0.14035756886005402, 0.11945213377475739, 0.3342808187007904, 0.4066202938556671, 0.223081573843956, -0.08467493206262589, -0.4134797751903534, -0.5252266526222229, -0.275261253118515, 0.15410305559635162, 0.4858812689781189, 0.5570021867752075, 0.2730022370815277, -0.20611810684204102, -0.5002564787864685, -0.5123804211616516, -0.24544458091259003, 0.12346938997507095, 0.41894277930259705, 0.5420961380004883, 0.37074875831604004, -0.034578837454319, -0.4844803214073181, -0.6220000982284546, -0.40359261631965637, 0.08138438314199448, 0.5486786365509033, 0.6339301466941833, 0.36054593324661255, -0.13427911698818207, -0.5038809776306152, -0.5449444651603699, -0.3578248918056488, 0.015322493389248848, 0.4100469648838043, 0.5637691020965576, 0.43632084131240845, 0.023629233241081238, -0.44397154450416565, -0.6735293865203857, -0.4687846004962921, 0.048931386321783066, 0.5160865187644958, 0.6503677368164062, 0.3919275999069214, -0.09709130972623825, -0.4904801845550537, -0.5468074083328247, -0.34513476490974426, 0.030287260189652443, 0.4209205210208893, 0.5645963549613953, 0.40258845686912537, -0.0039043750148266554, -0.42548617720603943, -0.5694146156311035, -0.3786225914955139, 0.05725392699241638, 0.46711450815200806, 0.5502199530601501, 0.2946925759315491, -0.1311134546995163, -0.408719539642334, -0.3837265372276306, -0.2015380710363388, 0.06925017386674881, 0.2858103811740875, 0.33633220195770264, 0.24796658754348755, 0.004957275465130806, -0.24872352182865143, -0.3361503481864929, -0.20622164011001587, 0.028626635670661926, 0.26461681723594666, 0.28154897689819336, 0.12134252488613129, -0.07993441820144653, -0.11346570402383804, -0.11507105082273483, -0.06336139887571335, -0.03227285295724869, -0.03293521702289581, 0.06091029942035675, 0.1391589492559433, 0.17903198301792145, 0.06314311176538467, -0.0643029734492302, -0.1686996966600418, -0.15079014003276825, -0.07121293991804123, -0.008212347514927387, 0.0617792084813118, 0.12943372130393982, 0.19192922115325928, 0.15372981131076813, -0.03548436239361763, -0.24647420644760132, -0.34933674335479736, -0.23836278915405273, 0.06107085198163986, 0.3313274383544922, 0.38556018471717834, 0.2092485874891281, -0.07659841328859329, -0.3073340654373169, -0.34345611929893494, -0.24192239344120026, -0.02266314998269081, 0.2396789938211441, 0.4522373378276825, 0.39848610758781433, 0.09883657097816467, -0.3263462781906128, -0.5662329196929932, -0.4610711932182312, -0.06662239134311676, 0.3874058127403259, 0.5646326541900635, 0.43171426653862, 0.08025764673948288, -0.30404993891716003, -0.5310245752334595, -0.4680391550064087, -0.15953506529331207, 0.25454723834991455, 0.5481604337692261, 0.6089601516723633, 0.2732526659965515, -0.279349148273468, -0.6638612747192383, -0.6327254772186279, -0.19699357450008392, 0.3172415792942047, 0.6180528402328491, 0.5826485753059387, 0.22595898807048798, -0.19401833415031433, -0.5509601831436157, -0.598335862159729, -0.30060282349586487, 0.1485843062400818, 0.5571744441986084, 0.6602823734283447, 0.3652311861515045, -0.17938829958438873, -0.5834356546401978, -0.6217239499092102, -0.29576241970062256, 0.1811075210571289, 0.49166640639305115, 0.5185303688049316, 0.2653326392173767, -0.07540978491306305, -0.3342133164405823, -0.47507429122924805, -0.33712783455848694, -0.04316847771406174, 0.30215004086494446, 0.4935540556907654, 0.3765070140361786, 0.0641096755862236, -0.25963589549064636, -0.4126031696796417, -0.3097042739391327, -0.08541116863489151, 0.13597902655601501, 0.2528246343135834, 0.264841765165329, 0.22805994749069214, 0.0458434633910656, -0.20926283299922943, -0.386736124753952, -0.347655713558197, -0.10063197463750839, 0.2234298139810562, 0.4090181887149811, 0.3808414041996002, 0.12996691465377808, -0.16891701519489288, -0.3688599467277527, -0.39369407296180725, -0.23156613111495972, 0.07112409174442291, 0.37284979224205017, 0.49831515550613403, 0.3869977593421936, -0.03519139438867569, -0.4615948498249054, -0.5926350951194763, -0.3568843603134155, 0.11338387429714203, 0.5015546083450317, 0.5295732021331787, 0.2704192101955414, -0.09064491838216782, -0.40417811274528503, -0.44870784878730774, -0.2448742538690567, 0.04409373179078102, 0.32153043150901794, 0.40945300459861755, 0.24911275506019592, -0.07876090705394745, -0.31148988008499146, -0.30209290981292725, -0.06875701248645782, 0.19356942176818848, 0.25640788674354553, 0.075433149933815, -0.15343967080116272, -0.19829130172729492, -0.048800062388181686, 0.237273707985878, 0.31797346472740173, 0.16321727633476257, -0.14418677985668182, -0.41111570596694946, -0.46078255772590637, -0.18578189611434937, 0.23267491161823273, 0.6025378704071045, 0.6812795400619507, 0.3082628548145294, -0.3790453374385834, -0.9626103043556213, -0.9607095122337341, -0.3231467604637146, 0.6420506834983826, 1.2814704179763794, 1.1458345651626587, 0.27442073822021484, -0.878466784954071, -1.5132546424865723, -1.2601665258407593, -0.26103994250297546, 0.9341471791267395, 1.6545534133911133, 1.4335769414901733, 0.32412290573120117, -1.0634877681732178, -1.9284327030181885, -1.645307183265686, -0.3089112341403961, 1.2769510746002197, 2.1515653133392334, 1.7224305868148804, 0.21626755595207214, -1.3925210237503052, -2.1901357173919678, -1.6817784309387207, -0.19576583802700043, 1.3978461027145386, 2.233875036239624, 1.7547993659973145, 0.22674468159675598, -1.4406177997589111, -2.311391830444336, -1.822135090827942, -0.22214260697364807, 1.5331776142120361, 2.345109462738037, 1.7262333631515503, 0.07913953810930252, -1.5428663492202759, -2.2164249420166016, -1.5757697820663452, -0.0520188994705677, 1.418293833732605, 2.0358798503875732, 1.4663729667663574, 0.08820569515228271, -1.3295401334762573, -1.9739465713500977, -1.4291337728500366, -0.05855553224682808, 1.3152419328689575, 1.8454673290252686, 1.2106287479400635, -0.0636066347360611, -1.2129236459732056, -1.5936394929885864, -1.0098707675933838, 0.0948641374707222, 1.0494931936264038, 1.3113092184066772, 0.8736379742622375, -0.02998274751007557, -0.8497223854064941, -1.1543179750442505, -0.7612641453742981, 0.038090962916612625, 0.7974473237991333, 1.0102778673171997, 0.5989096760749817, -0.1493859589099884, -0.6831939220428467, -0.7241145372390747, -0.3551185131072998, 0.15524975955486298, 0.4667329490184784, 0.4669153690338135, 0.22955335676670074, -0.07397442311048508, -0.2835302948951721, -0.3263646066188812, -0.17434144020080566, 0.08820071816444397, 0.2500835061073303, 0.2164112776517868, 0.004324232693761587, -0.16898348927497864, -0.1607309728860855, -0.02608320116996765, 0.1627190113067627, 0.18002183735370636, 0.0143479835242033, -0.20264090597629547, -0.2515009343624115, -0.06132528558373451, 0.13467898964881897, 0.24887585639953613, 0.2179212123155594, 0.062192153185606, -0.08864976465702057, -0.24212396144866943, -0.26482221484184265, -0.14632517099380493, 0.11217624694108963, 0.3358166217803955, 0.3576596677303314, 0.12997888028621674, -0.19073352217674255, -0.4128653109073639, -0.3159031271934509, -0.033912159502506256, 0.23441892862319946, 0.31694674491882324, 0.17894260585308075, -0.02088429033756256, -0.15741705894470215, -0.18985654413700104, -0.16808508336544037, -0.04459860548377037, 0.12039235234260559, 0.1892189234495163, 0.16275310516357422, -0.023223960772156715, -0.15873785316944122, -0.18758007884025574, -0.033987414091825485, 0.14008770883083344, 0.1725013256072998, 0.04824862629175186, -0.11608865857124329, -0.20247943699359894, -0.063865065574646, 0.11386653780937195, 0.18857428431510925, 0.16372504830360413, 0.030843479558825493, -0.13060641288757324, -0.25091421604156494, -0.24430586397647858, -0.06156788021326065, 0.14242039620876312, 0.3520401120185852, 0.3966800570487976, 0.12775123119354248, -0.2868111729621887, -0.5575242638587952, -0.47332271933555603, -0.03334949165582657, 0.41090378165245056, 0.6268593668937683, 0.46497464179992676, 0.0038212782237678766, -0.4089578688144684, -0.6344404220581055, -0.5409544706344604, -0.10034286975860596, 0.416526198387146, 0.767035186290741, 0.6917266249656677, 0.1420086771249771, -0.5440481901168823, -0.91459721326828, -0.7428902983665466, -0.08544410020112991, 0.6287638545036316, 0.9296556711196899, 0.7014315128326416, 0.050462979823350906, -0.5881115794181824, -0.9104026556015015, -0.7390708327293396, -0.1552143543958664, 0.539776086807251, 0.9635993242263794, 0.8554136157035828, 0.2113407701253891, -0.5934906601905823, -1.038619041442871, -0.8233255743980408, -0.1214328408241272, 0.6344508528709412, 1.000717282295227, 0.7339432239532471, 0.09383347630500793, -0.5706322193145752, -0.8690775632858276, -0.6904509663581848, -0.13709674775600433, 0.4981153607368469, 0.8294028639793396, 0.7434947490692139, 0.160793736577034, -0.5037728548049927, -0.826784074306488, -0.6284788250923157, -0.02795904316008091, 0.4958092272281647, 0.7085587978363037, 0.44827479124069214, 0.0023662690073251724, -0.3852333128452301, -0.48315468430519104, -0.31419673562049866, -0.05009492114186287, 0.25560712814331055, 0.39641615748405457, 0.2912371754646301, 0.0072974106296896935, -0.2638307213783264, -0.3304171562194824, -0.16218098998069763, 0.09666109830141068, 0.25163573026657104, 0.14277923107147217, -0.062317028641700745, -0.17849935591220856, -0.12491532415151596, 0.02410682663321495, 0.15415777266025543, 0.13258343935012817, 0.013192858546972275, -0.12178508937358856, -0.1919308453798294, -0.1623636931180954, -0.03786889836192131, 0.16376525163650513, 0.3082338869571686, 0.27191534638404846, 0.04553733393549919, -0.2804311215877533, -0.45498034358024597, -0.3191092908382416, 0.03306898474693298, 0.4472741186618805, 0.5536887049674988, 0.280791699886322, -0.11984189599752426, -0.48048776388168335, -0.5231428742408752, -0.27295172214508057, 0.11492566019296646, 0.45482850074768066, 0.5621080994606018, 0.3554677665233612, -0.07868985831737518, -0.5293450355529785, -0.7056549191474915, -0.41735902428627014, 0.1546487957239151, 0.636496901512146, 0.7235558032989502, 0.3163438141345978, -0.2453019618988037, -0.6407973766326904, -0.6528245806694031, -0.265701562166214, 0.21783038973808289, 0.5561408996582031, 0.6342667937278748, 0.34640008211135864, -0.17325370013713837, -0.6170200109481812, -0.6934316754341125, -0.3413439691066742, 0.23078879714012146, 0.6995682120323181, 0.6600351333618164, 0.21700870990753174, -0.3338835835456848, -0.6288045644760132, -0.5651359558105469, -0.1740807294845581, 0.3004348576068878, 0.5667387247085571, 0.5455631613731384, 0.23536591231822968, -0.23489026725292206, -0.571432888507843, -0.5880051851272583, -0.21851421892642975, 0.30307215452194214, 0.6486767530441284, 0.5712385773658752, 0.13394233584403992, -0.375530868768692, -0.6283301115036011, -0.4835662245750427, -0.09548080712556839, 0.3130587935447693, 0.5577190518379211, 0.4774705171585083, 0.15732331573963165, -0.24506448209285736, -0.585983157157898, -0.5565316081047058, -0.14792171120643616, 0.3337819278240204, 0.6279963254928589, 0.5560727119445801, 0.10012694448232651, -0.40831995010375977, -0.6244227290153503, -0.4743313789367676, -0.07972540706396103, 0.3271394968032837, 0.5233561992645264, 0.4476782977581024, 0.15135197341442108, -0.26975366473197937, -0.5577645301818848, -0.5150174498558044, -0.15048357844352722, 0.31866803765296936, 0.5928314328193665, 0.5195057392120361, 0.09700048714876175, -0.34564080834388733, -0.5479697585105896, -0.4131258726119995, -0.07052943855524063, 0.27970170974731445, 0.4425262212753296, 0.39177510142326355, 0.15633328258991241, -0.1894647628068924, -0.44279664754867554, -0.46080535650253296, -0.18350985646247864, 0.1898222118616104, 0.44789111614227295, 0.4063740670681, 0.09811843186616898, -0.2324906289577484, -0.3494933843612671, -0.250986248254776, -0.039062414318323135, 0.12642867863178253, 0.18578770756721497, 0.18635012209415436, 0.14250461757183075, -0.014001223258674145, -0.15516754984855652, -0.18970736861228943, -0.1413988173007965, 0.016465945169329643, 0.13463161885738373, 0.1266331821680069, 0.06612245738506317, -0.016751674935221672, -0.006346238311380148, 0.04976768046617508, -0.017843065783381462, -0.12223523110151291, -0.1989828497171402, -0.09077285975217819, 0.09333358705043793, 0.22528499364852905, 0.26076239347457886, 0.09052591025829315, -0.11540475487709045, -0.2384805977344513, -0.2615961730480194, -0.20419855415821075, -0.009713334031403065, 0.259871244430542, 0.4063148498535156, 0.3732125163078308, 0.024535151198506355, -0.35325583815574646, -0.5657493472099304, -0.42957958579063416, 0.013741891831159592, 0.46115660667419434, 0.6270063519477844, 0.4191303849220276, 0.004443580284714699, -0.4279475808143616, -0.6378206610679626, -0.5301690697669983, -0.10199165344238281, 0.4075307250022888, 0.7513906359672546, 0.6736083626747131, 0.1474686861038208, -0.4855470061302185, -0.8467942476272583, -0.7096383571624756, -0.10566069930791855, 0.5535291433334351, 0.864163339138031, 0.6475299596786499, 0.12829631567001343, -0.4791489541530609, -0.7920281887054443, -0.6969122886657715, -0.19837495684623718, 0.3994508981704712, 0.8098412156105042, 0.775634229183197, 0.272300124168396, -0.40893125534057617, -0.8670346736907959, -0.786486029624939, -0.2254924178123474, 0.4190830886363983, 0.765324592590332, 0.6922625303268433, 0.23875056207180023, -0.3073182702064514, -0.6681082248687744, -0.6672981381416321, -0.3512924611568451, 0.19821353256702423, 0.6338917016983032, 0.7372543811798096, 0.38911008834838867, -0.22575139999389648, -0.6964708566665649, -0.7272234559059143, -0.3361910879611969, 0.1991717368364334, 0.5704843997955322, 0.586247980594635, 0.3309425115585327, -0.07202013581991196, -0.4598085582256317, -0.5805505514144897, -0.405010849237442, -0.004201889503747225, 0.4191189706325531, 0.6319532990455627, 0.40518438816070557, -0.03271554782986641, -0.48478445410728455, -0.5804715156555176, -0.322480171918869, 0.08547067642211914, 0.4220384657382965, 0.47536587715148926, 0.28361985087394714, -0.016933932900428772, -0.3222469985485077, -0.42868027091026306, -0.3239201605319977, 0.0062568411231040955, 0.33023741841316223, 0.4978138208389282, 0.32120200991630554, -0.10011106729507446, -0.42983129620552063, -0.43108874559402466, -0.16006015241146088, 0.18708686530590057, 0.3916013538837433, 0.32782599329948425, 0.09622342884540558, -0.1505553275346756, -0.32582178711891174, -0.27067092061042786, -0.056853994727134705, 0.14407460391521454, 0.3286839723587036, 0.27000418305397034, 0.04083799198269844, -0.2885247468948364, -0.422146737575531, -0.24261268973350525, 0.13221228122711182, 0.3769977390766144, 0.37673208117485046, 0.09584110975265503, -0.22151093184947968, -0.3531794846057892, -0.24040436744689941, -0.03280138969421387, 0.2426844984292984, 0.34562262892723083, 0.3026016652584076, 0.053718067705631256, -0.2469450831413269, -0.43773162364959717, -0.35434362292289734, -0.02357306331396103, 0.3771115243434906, 0.5315068364143372, 0.29023146629333496, -0.139839768409729, -0.4606032371520996, -0.4685665965080261, -0.19596219062805176, 0.18745723366737366, 0.43279677629470825, 0.4419655203819275, 0.1874004453420639, -0.15475137531757355, -0.40774622559547424, -0.48769694566726685, -0.20448307693004608, 0.21266908943653107, 0.5228085517883301, 0.5004055500030518, 0.1197313442826271, -0.2926444709300995, -0.5486481785774231, -0.42648845911026, -0.04022343456745148, 0.3484450578689575, 0.4752920866012573, 0.30374759435653687, -0.0027965367771685123, -0.28698650002479553, -0.41627779603004456, -0.3550429940223694, -0.04733702540397644, 0.27219265699386597, 0.47114965319633484, 0.34289032220840454, -0.03324708342552185, -0.35668936371803284, -0.4692564308643341, -0.23336589336395264, 0.11813245713710785, 0.3352252244949341, 0.3083014488220215, 0.12492799758911133, -0.08267958462238312, -0.23070169985294342, -0.2380046397447586, -0.13825653493404388, 0.006929790135473013, 0.1904902309179306, 0.2552422285079956, 0.14809073507785797, -0.013074804097414017, -0.19050924479961395, -0.21047955751419067, -0.037228938192129135, 0.10937295854091644, 0.11505285650491714, 0.04955018684267998, -0.03642323240637779, -0.04150160029530525, -0.0038817417807877064, 0.04834833741188049, 0.012142166495323181, -0.0441242977976799, -0.08307244628667831, -0.046938009560108185, 0.016812141984701157, 0.03594687953591347, 0.07014603167772293, 0.12259916961193085, 0.08661844581365585, -0.005454461555927992, -0.14125967025756836, -0.24330684542655945, -0.17385022342205048, 0.06707680225372314, 0.29947909712791443, 0.3385866582393646, 0.13573995232582092, -0.19827306270599365, -0.41396525502204895, -0.3171737492084503, -0.08064275234937668, 0.22384381294250488, 0.38851940631866455, 0.37844815850257874, 0.14951501786708832, -0.19943374395370483, -0.44903436303138733, -0.48167598247528076, -0.17646852135658264, 0.2540189027786255, 0.6021764874458313, 0.5662052631378174, 0.12708285450935364, -0.4063507914543152, -0.647723376750946, -0.4925631880760193, -0.05511483550071716, 0.41422832012176514, 0.6448519229888916, 0.49848276376724243, 0.09773074090480804, -0.3430948555469513, -0.6508617997169495, -0.6051612496376038, -0.14403827488422394, 0.39908042550086975, 0.762450098991394, 0.6317852139472961, 0.045080311596393585, -0.49612075090408325, -0.7496632933616638, -0.5483798980712891, 0.02520766295492649, 0.4995019733905792, 0.6789724826812744, 0.4780588448047638, 0.03229401633143425, -0.4340551495552063, -0.6419908404350281, -0.5148215293884277, -0.05296081304550171, 0.49281883239746094, 0.7274592518806458, 0.5313146710395813, -0.03751460090279579, -0.5477392673492432, -0.696965217590332, -0.4037850499153137, 0.12240192294120789, 0.5206699371337891, 0.5685712695121765, 0.3076850175857544, -0.10440573841333389, -0.43746864795684814, -0.5404348373413086, -0.34963834285736084, 0.02636788785457611, 0.4203530251979828, 0.5481561422348022, 0.30523481965065, -0.11794357746839523, -0.4589028060436249, -0.470380961894989, -0.1603582203388214, 0.201934814453125, 0.34881505370140076, 0.26037630438804626, 0.050158992409706116, -0.12066482752561569, -0.18224158883094788, -0.09300166368484497, -0.011872299015522003, 0.03602834790945053, 0.04186403751373291, 0.01210441067814827, -0.04406939446926117, -0.027415893971920013, 0.07236161082983017, 0.21623362600803375, 0.2275167852640152, 0.03073791228234768, -0.2787024676799774, -0.4709402918815613, -0.34332016110420227, 0.09246940165758133, 0.5483911633491516, 0.702967643737793, 0.36533594131469727, -0.26885420083999634, -0.7404769062995911, -0.8404418230056763, -0.43678751587867737, 0.26088976860046387, 0.8377081751823425, 1.0449223518371582, 0.5741695761680603, -0.29356417059898376, -1.0985565185546875, -1.3017475605010986, -0.6945772767066956, 0.4367619454860687, 1.3413268327713013, 1.4655333757400513, 0.6654272079467773, -0.5804421901702881, -1.5040843486785889, -1.5435010194778442, -0.685725212097168, 0.6093177199363708, 1.5834970474243164, 1.669803261756897, 0.7843570709228516, -0.6134542226791382, -1.749316930770874, -1.8285136222839355, -0.8195735812187195, 0.7408992648124695, 1.934639573097229, 1.9179917573928833, 0.7213552594184875, -0.8970707654953003, -1.9713917970657349, -1.8841794729232788, -0.7028542757034302, 0.8867414593696594, 1.9578397274017334, 1.8777834177017212, 0.7318105101585388, -0.8699392676353455, -1.9830982685089111, -1.9335159063339233, -0.7287006974220276, 0.9644336700439453, 2.0632147789001465, 1.9296643733978271, 0.607541024684906, -1.0363633632659912, -2.0080697536468506, -1.7613489627838135, -0.5229595303535461, 0.9678798317909241, 1.8555654287338257, 1.6745954751968384, 0.5780823826789856, -0.8510836958885193, -1.8086549043655396, -1.6700565814971924, -0.5643793344497681, 0.8585788011550903, 1.7697166204452515, 1.5928828716278076, 0.46993783116340637, -0.8765046000480652, -1.6141421794891357, -1.402989149093628, -0.40361323952674866, 0.7299201488494873, 1.3831480741500854, 1.2609525918960571, 0.437418669462204, -0.5847973227500916, -1.280527949333191, -1.2261769771575928, -0.49018412828445435, 0.5106803774833679, 1.1441657543182373, 1.0642396211624146, 0.3747420608997345, -0.46088218688964844, -0.9766142964363098, -0.8680993318557739, -0.3241395354270935, 0.30680304765701294, 0.7172589302062988, 0.7379013299942017, 0.4136536717414856, -0.12491253763437271, -0.5406123399734497, -0.7017070651054382, -0.42624643445014954, 0.05687493085861206, 0.467453271150589, 0.5574507117271423, 0.3427092134952545, 0.0008909956668503582, -0.27106499671936035, -0.3410050570964813, -0.30190712213516235, -0.16587233543395996, 0.03887830302119255, 0.24491478502750397, 0.3697584867477417, 0.30689772963523865, 0.08634083718061447, -0.1949438452720642, -0.38447239995002747, -0.38270413875579834, -0.15356458723545074, 0.10498812049627304, 0.2931431829929352, 0.39173731207847595, 0.3157217502593994, 0.08021865785121918, -0.2649172246456146, -0.5197412371635437, -0.5180864930152893, -0.18637239933013916, 0.3277105689048767, 0.6794094443321228, 0.6044948697090149, 0.17541471123695374, -0.35811299085617065, -0.6725369691848755, -0.6298192739486694, -0.2572343945503235, 0.2645587921142578, 0.6683310270309448, 0.7332088351249695, 0.4031662046909332, -0.1973472386598587, -0.7780239582061768, -0.8615445494651794, -0.41731536388397217, 0.29265710711479187, 0.8602294325828552, 0.8851065635681152, 0.38920295238494873, -0.3233039677143097, -0.8204825520515442, -0.8528956174850464, -0.4059527516365051, 0.21785061061382294, 0.7861379981040955, 0.9089469909667969, 0.5283706784248352, -0.18214672803878784, -0.8124284744262695, -0.9817010164260864, -0.5513038635253906, 0.21543370187282562, 0.882865846157074, 0.9468448758125305, 0.45955926179885864, -0.23805272579193115, -0.7542051672935486, -0.8382617831230164, -0.46111831068992615, 0.1659960001707077, 0.6709505915641785, 0.8598620891571045, 0.5364387631416321, -0.08638226985931396, -0.6707624197006226, -0.9023799300193787, -0.5289570689201355, 0.12341569364070892, 0.6867299675941467, 0.8271128535270691, 0.41915279626846313, -0.1295553743839264, -0.5922186374664307, -0.6814262270927429, -0.42376908659935, 0.030901575461030006, 0.4355388879776001, 0.6437252759933472, 0.4574242830276489, 0.009176366962492466, -0.46132320165634155, -0.6469367146492004, -0.4212283492088318, 0.040393516421318054, 0.4426127076148987, 0.5714681148529053, 0.2905384302139282, -0.07326285541057587, -0.32914960384368896, -0.4071003496646881, -0.2419119030237198, -0.004237061832100153, 0.25502195954322815, 0.36827966570854187, 0.304470419883728, 0.04778670147061348, -0.25897926092147827, -0.3954169750213623, -0.24158529937267303, 0.03592735901474953, 0.31171393394470215, 0.3047909736633301, 0.14458581805229187, -0.12166321277618408, -0.23761287331581116, -0.20054173469543457, -0.09416406601667404, 0.05088673159480095, 0.1645289808511734, 0.19335424900054932, 0.14518316090106964, -0.05396699160337448, -0.24531102180480957, -0.29165980219841003, -0.09489372372627258, 0.19367463886737823, 0.3494124114513397, 0.26329532265663147, -0.041445109993219376, -0.28264448046684265, -0.3428604006767273, -0.20720607042312622, 0.06628170609474182, 0.28352969884872437, 0.3364427089691162, 0.2516864240169525, 0.0006063417531549931, -0.31292569637298584, -0.47670218348503113, -0.33939775824546814, 0.044823840260505676, 0.4653211534023285, 0.6282621026039124, 0.34142085909843445, -0.17620958387851715, -0.5804784297943115, -0.6145275235176086, -0.28331422805786133, 0.19888277351856232, 0.592508852481842, 0.6364153027534485, 0.34817445278167725, -0.16425766050815582, -0.6307557225227356, -0.7743825912475586, -0.43395572900772095, 0.21311916410923004, 0.7815646529197693, 0.9201557040214539, 0.4562011659145355, -0.31727004051208496, -0.919704020023346, -0.9589737057685852, -0.3989422619342804, 0.3726983666419983, 0.9263309240341187, 0.9850894212722778, 0.4698440432548523, -0.3239635229110718, -0.9710275530815125, -1.1374402046203613, -0.6149464845657349, 0.3135223388671875, 1.100950002670288, 1.2541414499282837, 0.6026593446731567, -0.4093884825706482, -1.1630629301071167, -1.2521408796310425, -0.5941759347915649, 0.41695258021354675, 1.1689127683639526, 1.2438623905181885, 0.6103021502494812, -0.34266650676727295, -1.1364810466766357, -1.3176889419555664, -0.7326028347015381, 0.34619662165641785, 1.2409533262252808, 1.3958293199539185, 0.7118726372718811, -0.3809954524040222, -1.2268052101135254, -1.318955421447754, -0.6307275891304016, 0.3734445571899414, 1.147925615310669, 1.272661805152893, 0.6919357776641846, -0.2536149024963379, -1.102164387702942, -1.3270974159240723, -0.7893389463424683, 0.22895638644695282, 1.125799536705017, 1.359763741493225, 0.7616814970970154, -0.27387872338294983, -1.110771894454956, -1.2650290727615356, -0.688031792640686, 0.21996621787548065, 0.9662776589393616, 1.1565899848937988, 0.7265908122062683, -0.07553774118423462, -0.8660848736763, -1.1645992994308472, -0.7968957424163818, 0.040998607873916626, 0.8406013250350952, 1.1534067392349243, 0.7405886650085449, -0.08288261294364929, -0.7981776595115662, -1.0092096328735352, -0.694512665271759, 0.029520947486162186, 0.6254098415374756, 0.8942887187004089, 0.6984038949012756, 0.11908193677663803, -0.5363826155662537, -0.861306369304657, -0.7234993577003479, -0.17053303122520447, 0.48156073689460754, 0.8459421992301941, 0.7080814838409424, 0.1428990513086319, -0.4677809476852417, -0.7206242680549622, -0.5944911241531372, -0.17660585045814514, 0.27259039878845215, 0.6002448797225952, 0.6018100380897522, 0.29205042123794556, -0.1886519193649292, -0.578495979309082, -0.6547067761421204, -0.32779961824417114, 0.17669346928596497, 0.5540876388549805, 0.6007537841796875, 0.2817554473876953, -0.1802658885717392, -0.45091819763183594, -0.48250383138656616, -0.28912603855133057, 0.05500895529985428, 0.3330819010734558, 0.4826761484146118, 0.3880898654460907, 0.020622722804546356, -0.351162314414978, -0.5007025003433228, -0.3582891821861267, -0.00975849013775587, 0.3361749053001404, 0.402800053358078, 0.2363666296005249, -0.03417392820119858, -0.24056239426136017, -0.2643079459667206, -0.23003295063972473, -0.10047027468681335, 0.11508667469024658, 0.2589741051197052, 0.25338229537010193, 0.10423581302165985, -0.11866389214992523, -0.26176705956459045, -0.2295905202627182, -0.09401579201221466, 0.10036312788724899, 0.1612837016582489, 0.11189894378185272, 0.053526539355516434, 0.03604739531874657, -0.0009275728953070939, -0.07844454050064087, -0.1739523559808731, -0.17170393466949463, -0.04428013414144516, 0.12113459408283234, 0.18489056825637817, 0.18564510345458984, 0.0711965262889862, -0.041614606976509094, -0.14646928012371063, -0.18774700164794922, -0.18963249027729034, -0.07430566102266312, 0.14027522504329681, 0.3431364893913269, 0.3819025456905365, 0.16040843725204468, -0.21988454461097717, -0.472419410943985, -0.42576032876968384, -0.15998922288417816, 0.2476085126399994, 0.4776137173175812, 0.46106746792793274, 0.21480219066143036, -0.1835729330778122, -0.5017420649528503, -0.5657404661178589, -0.34830787777900696, 0.1438082903623581, 0.6267911791801453, 0.778656005859375, 0.4010063409805298, -0.22920256853103638, -0.7503572702407837, -0.8060936331748962, -0.3886524736881256, 0.2861156165599823, 0.7327759265899658, 0.7940965294837952, 0.38675689697265625, -0.23725003004074097, -0.7652533650398254, -0.8748164772987366, -0.527058482170105, 0.19329389929771423, 0.8318129777908325, 0.9967978000640869, 0.5158522129058838, -0.27971088886260986, -0.916129469871521, -0.9927265644073486, -0.42232611775398254, 0.3257876932621002, 0.8688529133796692, 0.8912478685379028, 0.43823716044425964, -0.2554943561553955, -0.8037378787994385, -0.9147454500198364, -0.5163335204124451, 0.22429221868515015, 0.8486720323562622, 0.9414563179016113, 0.45621252059936523, -0.31078946590423584, -0.8583576679229736, -0.8367076516151428, -0.3177553117275238, 0.340827614068985, 0.7449550628662109, 0.6714366674423218, 0.2419613003730774, -0.2737579345703125, -0.6045964956283569, -0.6018922924995422, -0.264158695936203, 0.22482146322727203, 0.5934285521507263, 0.5465371012687683, 0.18129000067710876, -0.30533450841903687, -0.5742046236991882, -0.43176430463790894, -0.022550763562321663, 0.32739686965942383, 0.40984582901000977, 0.22916877269744873, -0.04402599856257439, -0.2371453046798706, -0.25051239132881165, -0.12230675667524338, 0.04189244285225868, 0.21394497156143188, 0.2267029732465744, 0.08540105074644089, -0.12704616785049438, -0.2687789499759674, -0.2105838507413864, 0.05385083332657814, 0.30170637369155884, 0.3318462073802948, 0.07989941537380219, -0.22966408729553223, -0.3913935124874115, -0.2769000828266144, 0.027311278507113457, 0.29284045100212097, 0.3699825406074524, 0.2675815224647522, 0.014796914532780647, -0.28977540135383606, -0.44402310252189636, -0.34826651215553284, -0.005327238701283932, 0.4075446128845215, 0.5814704298973083, 0.4144476354122162, -0.05019834637641907, -0.48822900652885437, -0.6519850492477417, -0.3903881311416626, 0.13708198070526123, 0.5326218605041504, 0.6077044606208801, 0.3740064203739166, -0.07443343847990036, -0.4959094524383545, -0.643405556678772, -0.4545139968395233, 0.028884556144475937, 0.5604315996170044, 0.785255491733551, 0.5271185636520386, -0.09161484986543655, -0.6441400647163391, -0.7895706295967102, -0.44739678502082825, 0.1717664748430252, 0.6426070332527161, 0.7058291435241699, 0.39202573895454407, -0.14776532351970673, -0.5830011963844299, -0.7171077728271484, -0.4657161831855774, 0.10160607844591141, 0.6585016846656799, 0.8235421776771545, 0.45136499404907227, -0.2110295444726944, -0.7462893128395081, -0.8274633884429932, -0.3522161841392517, 0.31376856565475464, 0.73136967420578, 0.7079566717147827, 0.25725656747817993, -0.29180923104286194, -0.7041260004043579, -0.6772812008857727, -0.2581537067890167, 0.3291677236557007, 0.7708099484443665, 0.7556294202804565, 0.24468901753425598, -0.49141746759414673, -0.9284224510192871, -0.7308413982391357, -0.06685132533311844, 0.6596715450286865, 0.9878263473510742, 0.6443265676498413, -0.09478572010993958, -0.7915900349617004, -1.0083993673324585, -0.6186383366584778, 0.19918203353881836, 0.9502191543579102, 1.1574196815490723, 0.6659618616104126, -0.35077399015426636, -1.2449712753295898, -1.370347023010254, -0.5985940098762512, 0.6069773435592651, 1.5556330680847168, 1.5221736431121826, 0.46295812726020813, -0.8561965823173523, -1.7456990480422974, -1.5460189580917358, -0.4026082158088684, 1.0029159784317017, 1.911659598350525, 1.7298754453659058, 0.45977023243904114, -1.1952999830245972, -2.2169108390808105, -1.9284965991973877, -0.41900235414505005, 1.4506034851074219, 2.4558472633361816, 1.9942857027053833, 0.2639409601688385, -1.661510944366455, -2.5779926776885986, -2.000321388244629, -0.2415313720703125, 1.6713875532150269, 2.639186143875122, 2.0645222663879395, 0.29749777913093567, -1.7088898420333862, -2.7608847618103027, -2.1845929622650146, -0.28362229466438293, 1.8248552083969116, 2.880765914916992, 2.181567668914795, 0.18722505867481232, -1.879673957824707, -2.8024981021881104, -2.074631452560425, -0.21822534501552582, 1.7690407037734985, 2.6987602710723877, 2.09433650970459, 0.28838875889778137, -1.6514942646026611, -2.6239776611328125, -2.084510087966919, -0.3025650382041931, 1.6184709072113037, 2.553806781768799, 1.968279480934143, 0.25689461827278137, -1.519270420074463, -2.321176052093506, -1.7789092063903809, -0.2915220260620117, 1.2708731889724731, 2.0910022258758545, 1.7033263444900513, 0.378914475440979, -1.0857771635055542, -1.9201099872589111, -1.6165199279785156, -0.39479994773864746, 1.0137118101119995, 1.7402317523956299, 1.4320836067199707, 0.3591528832912445, -0.8106738924980164, -1.4180670976638794, -1.1477136611938477, -0.3379383981227875, 0.5944471955299377, 1.1253767013549805, 1.0183501243591309, 0.4230097532272339, -0.37473243474960327, -0.9187573194503784, -0.899653434753418, -0.37304776906967163, 0.33183473348617554, 0.7581291794776917, 0.6798651218414307, 0.24241949617862701, -0.24704444408416748, -0.4801828861236572, -0.4041112959384918, -0.1709965616464615, 0.039684463292360306, 0.22697967290878296, 0.269624799489975, 0.1777392029762268, 0.0310628954321146, -0.08543267846107483, -0.12143707275390625, -0.07717161625623703, -0.033943627029657364, -0.03345862776041031, -0.07393096387386322, -0.11703314632177353, 0.034387603402137756, 0.2544834613800049, 0.3344286382198334, 0.19688540697097778, -0.12164401262998581, -0.4155610501766205, -0.4461754262447357, -0.19179560244083405, 0.17838019132614136, 0.47659406065940857, 0.5554066896438599, 0.32334205508232117, -0.10987024009227753, -0.5363489985466003, -0.7013301849365234, -0.4893746078014374, 0.06701253354549408, 0.6806406378746033, 0.8698587417602539, 0.5421767234802246, -0.1680169254541397, -0.797274112701416, -0.9643083214759827, -0.5350244641304016, 0.19634635746479034, 0.8217695355415344, 0.964654803276062, 0.5895956158638, -0.12967625260353088, -0.8421026468276978, -1.087491750717163, -0.6742565631866455, 0.11628297716379166, 0.908289909362793, 1.1890465021133423, 0.7096149325370789, -0.22382941842079163, -1.0143826007843018, -1.1896109580993652, -0.6896602511405945, 0.2514515519142151, 1.0101380348205566, 1.1447227001190186, 0.6841632127761841, -0.17948298156261444, -0.951656699180603, -1.2063095569610596, -0.75527423620224, 0.11875606328248978, 1.0098145008087158, 1.2796998023986816, 0.7832077741622925, -0.18610695004463196, -1.0608519315719604, -1.262279987335205, -0.7323630452156067, 0.21246980130672455, 0.9522789120674133, 1.1585639715194702, 0.7311999797821045, -0.10561442375183105, -0.862384021282196, -1.1774258613586426, -0.8450016975402832, 0.02381170727312565, 0.9089402556419373, 1.2294000387191772, 0.8364109396934509, -0.0575784370303154, -0.9143288135528564, -1.1579023599624634, -0.7510745525360107, 0.04319910705089569, 0.7823179364204407, 1.1007243394851685, 0.7678942680358887, 0.08891771733760834, -0.6926903128623962, -1.0795814990997314, -0.8834596872329712, -0.15886589884757996, 0.7036561369895935, 1.109833836555481, 0.8556872606277466, 0.08729197829961777, -0.7106401920318604, -1.0609543323516846, -0.7446423768997192, -0.07869411259889603, 0.6025102138519287, 0.9250523447990417, 0.7403682470321655, 0.15445849299430847, -0.5049696564674377, -0.9147102236747742, -0.8053275346755981, -0.18744762241840363, 0.5246071219444275, 0.9282148480415344, 0.7300820350646973, 0.0968802347779274, -0.5552160739898682, -0.8569780588150024, -0.6266272664070129, -0.035609595477581024, 0.46808409690856934, 0.7016574144363403, 0.5491892695426941, 0.10528387874364853, -0.3944008946418762, -0.6583870053291321, -0.5511409044265747, -0.1254650205373764, 0.39660704135894775, 0.6410409212112427, 0.4892810583114624, 0.01865420676767826, -0.41053423285484314, -0.5183437466621399, -0.3156375288963318, 0.021748755127191544, 0.30009084939956665, 0.343230277299881, 0.25785547494888306, 0.044121723622083664, -0.14489081501960754, -0.2529264986515045, -0.2412044107913971, -0.11889798939228058, 0.08525692671537399, 0.22009895741939545, 0.1678639054298401, 0.04453093931078911, -0.09259073436260223, -0.07899552583694458, -0.03151911869645119, -0.03537373244762421, -0.07456237077713013, -0.12486628443002701, -0.0327114500105381, 0.11047839373350143, 0.234844371676445, 0.19751368463039398, 0.02519506774842739, -0.18840429186820984, -0.26681509613990784, -0.19297917187213898, -0.01959904469549656, 0.16466888785362244, 0.29612836241722107, 0.33962270617485046, 0.14422892034053802, -0.17499801516532898, -0.4493376612663269, -0.47625797986984253, -0.15532982349395752, 0.2764390707015991, 0.606617271900177, 0.5255882740020752, 0.10951589792966843, -0.3529277741909027, -0.6146374344825745, -0.5182671546936035, -0.12989653646945953, 0.3485737442970276, 0.6188856363296509, 0.57729172706604, 0.2054416835308075, -0.3326363265514374, -0.7156069874763489, -0.6997202038764954, -0.1991828978061676, 0.4193742275238037, 0.8137405514717102, 0.7053943872451782, 0.15644621849060059, -0.46787288784980774, -0.773379385471344, -0.6430472135543823, -0.15312746167182922, 0.39272943139076233, 0.7494171857833862, 0.7006542086601257, 0.23872968554496765, -0.38776302337646484, -0.8013765811920166, -0.7590301036834717, -0.2577662467956543, 0.43374520540237427, 0.8466523289680481, 0.7549351453781128, 0.18575772643089294, -0.454253613948822, -0.7671359777450562, -0.644318699836731, -0.1849479377269745, 0.3723287582397461, 0.7013643980026245, 0.6348434090614319, 0.24113494157791138, -0.2915698289871216, -0.7065595984458923, -0.6954607963562012, -0.20485524833202362, 0.3847317099571228, 0.7047095894813538, 0.5913127064704895, 0.11115092784166336, -0.3947114646434784, -0.6238031983375549, -0.45939961075782776, -0.08479676395654678, 0.2828841805458069, 0.47276321053504944, 0.42552411556243896, 0.0909803956747055, -0.26170670986175537, -0.4790244400501251, -0.4061774015426636, -0.061423804610967636, 0.3419528007507324, 0.493828147649765, 0.29835599660873413, -0.07345101982355118, -0.3752437233924866, -0.3879210650920868, -0.13501496613025665, 0.16421258449554443, 0.30396538972854614, 0.2836421728134155, 0.10480602085590363, -0.14362995326519012, -0.2914438247680664, -0.28810885548591614, -0.08778627216815948, 0.18960945308208466, 0.38880324363708496, 0.3175071179866791, -0.023145589977502823, -0.3213984966278076, -0.41597339510917664, -0.20268824696540833, 0.14836066961288452, 0.3892309069633484, 0.36830705404281616, 0.129366934299469, -0.14822912216186523, -0.3181503415107727, -0.326793909072876, -0.164872944355011, 0.09747495502233505, 0.3648153245449066, 0.44697582721710205, 0.24353328347206116, -0.1349884420633316, -0.48945528268814087, -0.5176143050193787, -0.20284539461135864, 0.21655474603176117, 0.4708455502986908, 0.43680548667907715, 0.18438932299613953, -0.1633758842945099, -0.3937773108482361, -0.44389069080352783, -0.2705749273300171, 0.06408753991127014, 0.3991524279117584, 0.5450745820999146, 0.3746899366378784, -0.027288297191262245, -0.4769571125507355, -0.6282393336296082, -0.39194533228874207, 0.08339813351631165, 0.4657589793205261, 0.5727411508560181, 0.37647396326065063, -0.009591983631253242, -0.36921554803848267, -0.5856239795684814, -0.5173013806343079, -0.13290371000766754, 0.35339152812957764, 0.6838853359222412, 0.660610020160675, 0.1909829080104828, -0.42222708463668823, -0.7593852877616882, -0.6678881645202637, -0.18327145278453827, 0.4253951609134674, 0.7607738971710205, 0.6646484732627869, 0.2327091544866562, -0.34169942140579224, -0.7621515989303589, -0.8094491362571716, -0.3758184313774109, 0.32874903082847595, 0.8494545221328735, 0.8776766061782837, 0.38455629348754883, -0.37341469526290894, -0.9163148403167725, -0.8891117572784424, -0.3494164049625397, 0.3784423768520355, 0.8434280157089233, 0.8240997195243835, 0.38096827268600464, -0.254776269197464, -0.7734553813934326, -0.883944034576416, -0.4545321762561798, 0.24132150411605835, 0.8262935876846313, 0.9186323285102844, 0.44073426723480225, -0.304048091173172, -0.8081315159797668, -0.7859504818916321, -0.3560160994529724, 0.26742544770240784, 0.6800107359886169, 0.6831013560295105, 0.3512042462825775, -0.15697363018989563, -0.5590566992759705, -0.6962577700614929, -0.4046618640422821, 0.11591891199350357, 0.5737998485565186, 0.645933210849762, 0.3179563283920288, -0.16505305469036102, -0.5093287229537964, -0.5043566226959229, -0.22141863405704498, 0.13399729132652283, 0.3539676070213318, 0.3673582673072815, 0.21386730670928955, -0.03668378293514252, -0.2588399052619934, -0.33243292570114136, -0.21799398958683014, 0.015818078070878983, 0.2574417293071747, 0.3115697205066681, 0.1342436522245407, -0.08257775753736496, -0.19601187109947205, -0.1595141589641571, -0.021152712404727936, 0.040628913789987564, 0.03534437343478203, 0.03709864988923073, 0.037570107728242874, 0.03430216386914253, 0.04255085811018944, 0.011164619587361813, -0.04285554587841034, -0.034424860030412674, -0.03898230567574501, -0.035283174365758896, -0.040879905223846436, -0.004258150700479746, 0.07822974771261215, 0.11124064028263092, 0.11604372411966324, -0.0032074383925646544, -0.19498707354068756, -0.237676739692688, -0.1161399632692337, 0.08486874401569366, 0.23175613582134247, 0.20522060990333557, 0.0636022761464119, -0.07270336896181107, -0.18094122409820557, -0.1787046194076538, -0.11582577973604202, -0.028623133897781372, 0.10702173411846161, 0.21924759447574615, 0.21825338900089264, 0.058354780077934265, -0.15162310004234314, -0.276127427816391, -0.18231897056102753, 0.0031125706154853106, 0.13955910503864288, 0.19534188508987427, 0.16391333937644958, 0.05977245792746544, -0.0243825800716877, -0.12058199197053909, -0.22348102927207947, -0.22145704925060272, -0.07104728370904922, 0.13613824546337128, 0.32321906089782715, 0.27870506048202515, 0.051858000457286835, -0.21640613675117493, -0.34674352407455444, -0.2695140540599823, -0.06524887681007385, 0.13989593088626862, 0.2935897409915924, 0.32364705204963684, 0.19478340446949005, -0.0992768183350563, -0.3575301766395569, -0.4751022458076477, -0.233462393283844, 0.16551461815834045, 0.4887503683567047, 0.5038012862205505, 0.18149861693382263, -0.22300419211387634, -0.4774695336818695, -0.4184958040714264, -0.16718238592147827, 0.173289492726326, 0.4330269694328308, 0.4742119312286377, 0.22528405487537384, -0.12753264605998993, -0.48873111605644226, -0.5482897162437439, -0.23248660564422607, 0.22460702061653137, 0.5436960458755493, 0.492580384016037, 0.1285851150751114, -0.34319978952407837, -0.5546379089355469, -0.3852442502975464, -0.004422822035849094, 0.29986292123794556, 0.42304617166519165, 0.3281324803829193, 0.03439118340611458, -0.3042512536048889, -0.4713408350944519, -0.33586883544921875, 0.013143859803676605, 0.4147147536277771, 0.5203742384910583, 0.25233030319213867, -0.2237149327993393, -0.5408130884170532, -0.45812171697616577, -0.086164191365242, 0.3579805791378021, 0.5485460758209229, 0.3761144280433655, 0.01293662004172802, -0.38661110401153564, -0.569665253162384, -0.4184211492538452, 0.02068249136209488, 0.4928968846797943, 0.7050377726554871, 0.46168333292007446, -0.12859000265598297, -0.7004311084747314, -0.8394599556922913, -0.41698697209358215, 0.31746381521224976, 0.8473923206329346, 0.8780259490013123, 0.33647239208221436, -0.38892871141433716, -0.8551964163780212, -0.869993269443512, -0.3615868091583252, 0.3721189796924591, 0.9323117136955261, 0.9431557655334473, 0.4160553514957428, -0.4337587356567383, -1.0680978298187256, -1.0768786668777466, -0.37733155488967896, 0.5837937593460083, 1.1678944826126099, 1.0254586935043335, 0.2897104024887085, -0.6096176505088806, -1.1438311338424683, -1.0167577266693115, -0.3226456642150879, 0.5413241982460022, 1.093360424041748, 1.0660786628723145, 0.3931031823158264, -0.5408869981765747, -1.2013417482376099, -1.0952303409576416, -0.30167877674102783, 0.67384934425354, 1.220719814300537, 1.004661202430725, 0.22726742923259735, -0.6659722924232483, -1.1155000925064087, -0.9255281686782837, -0.1868826448917389, 0.6050158143043518, 1.072623610496521, 0.9248122572898865, 0.22723808884620667, -0.6093200445175171, -1.0987629890441895, -0.9247519969940186, -0.1513604372739792, 0.6961209177970886, 1.0901130437850952, 0.7793064117431641, 0.011630085296928883, -0.6980030536651611, -0.9536836743354797, -0.6404355764389038, -0.0007128657889552414, 0.6076623201370239, 0.8578428626060486, 0.6266250014305115, 0.023664629086852074, -0.6331554055213928, -0.8774329423904419, -0.5934357643127441, 0.06464731693267822, 0.6941282749176025, 0.8712618350982666, 0.48531588912010193, -0.1864858716726303, -0.6881011724472046, -0.7482894659042358, -0.35313868522644043, 0.20862239599227905, 0.6202325820922852, 0.6781200170516968, 0.361202210187912, -0.19488060474395752, -0.6231256127357483, -0.7030115127563477, -0.3548164367675781, 0.26893115043640137, 0.709857702255249, 0.7038967609405518, 0.20529040694236755, -0.4096771478652954, -0.7130391001701355, -0.5939669013023376, -0.1380230337381363, 0.4116572141647339, 0.6520225405693054, 0.5357367992401123, 0.1327846795320511, -0.3520101010799408, -0.6849934458732605, -0.5951022505760193, -0.17425474524497986, 0.41405826807022095, 0.7647867798805237, 0.633622407913208, 0.06981172412633896, -0.573053777217865, -0.7996504306793213, -0.5386871099472046, 0.048674505203962326, 0.5416180491447449, 0.7500012516975403, 0.5287265181541443, -0.003483184613287449, -0.5103446245193481, -0.7755018472671509, -0.6015470623970032, -0.010013071820139885, 0.5815003514289856, 0.9055380821228027, 0.6264685988426208, -0.07246088236570358, -0.7355366945266724, -0.9308141469955444, -0.5461821556091309, 0.14069287478923798, 0.7358176708221436, 0.8493401408195496, 0.5171256065368652, -0.11954092979431152, -0.690493106842041, -0.8927189111709595, -0.5899890065193176, 0.08643537759780884, 0.7595331072807312, 0.9945863485336304, 0.6129143834114075, -0.20123173296451569, -0.9126970171928406, -1.0524353981018066, -0.5344604849815369, 0.28834956884384155, 0.9015167951583862, 0.9759525060653687, 0.4959624111652374, -0.2638613283634186, -0.8524265885353088, -0.9852275252342224, -0.5286703109741211, 0.23633794486522675, 0.9191133975982666, 1.0654720067977905, 0.5337611436843872, -0.37384194135665894, -1.0445150136947632, -1.0568915605545044, -0.4120541214942932, 0.47140103578567505, 1.0358883142471313, 0.9465529918670654, 0.31323692202568054, -0.4192952513694763, -0.9333249926567078, -0.9012605547904968, -0.3139035999774933, 0.4334086775779724, 0.9575679302215576, 0.8999747037887573, 0.25673091411590576, -0.5183218717575073, -0.9743618369102478, -0.8296664953231812, -0.10205890238285065, 0.5908064246177673, 0.9270035028457642, 0.6378305554389954, 0.0157360527664423, -0.5681886076927185, -0.7820644378662109, -0.5245373249053955, -0.01281118206679821, 0.5408051013946533, 0.7558133006095886, 0.5170958638191223, -0.0699024498462677, -0.6060200929641724, -0.7678077220916748, -0.40094929933547974, 0.22598618268966675, 0.6681062579154968, 0.658053457736969, 0.2336987853050232, -0.30159273743629456, -0.6080909967422485, -0.5285927057266235, -0.1651347279548645, 0.29962748289108276, 0.5402275919914246, 0.5171297788619995, 0.16356243193149567, -0.3084084093570709, -0.6183153986930847, -0.546959400177002, -0.09455148130655289, 0.43983229994773865, 0.6781551241874695, 0.4513237476348877, -0.0434328131377697, -0.5024274587631226, -0.621555507183075, -0.36834362149238586, 0.046015724539756775, 0.4259939193725586, 0.5519994497299194, 0.35680216550827026, -0.045411426573991776, -0.40245571732521057, -0.567924439907074, -0.4148086607456207, 0.0074277413077652454, 0.474774032831192, 0.620278537273407, 0.36259716749191284, -0.09795339405536652, -0.4590122103691101, -0.5030641555786133, -0.2603117525577545, 0.05676696076989174, 0.32887616753578186, 0.3874821662902832, 0.2663714587688446, 0.0467103011906147, -0.21856099367141724, -0.3737509250640869, -0.3478318452835083, -0.09843803942203522, 0.1920223832130432, 0.3443584442138672, 0.2894716262817383, 0.09620492905378342, -0.10063517838716507, -0.18547847867012024, -0.1844373494386673, -0.18615470826625824, -0.11883184313774109, 0.05088680237531662, 0.2620493471622467, 0.3700835406780243, 0.2971479892730713, 0.009163149632513523, -0.32718634605407715, -0.4913153648376465, -0.3666257858276367, -0.05069437250494957, 0.31726178526878357, 0.5365291237831116, 0.5183773636817932, 0.22285756468772888, -0.2561880946159363, -0.6326056122779846, -0.7368486523628235, -0.3710572123527527, 0.28685471415519714, 0.829463541507721, 0.8884426355361938, 0.4034713804721832, -0.35118040442466736, -0.9079709649085999, -0.9655487537384033, -0.4381372332572937, 0.33409467339515686, 0.9270002245903015, 1.056643009185791, 0.5828821659088135, -0.24868875741958618, -0.9810145497322083, -1.224300503730774, -0.7280575633049011, 0.27270978689193726, 1.1438196897506714, 1.3298903703689575, 0.7135666012763977, -0.3491296172142029, -1.1577163934707642, -1.3066900968551636, -0.7018985152244568, 0.27850502729415894, 1.1008039712905884, 1.3039579391479492, 0.7711569666862488, -0.21027453243732452, -1.0865504741668701, -1.374624252319336, -0.8409900665283203, 0.208149716258049, 1.174575686454773, 1.398897409439087, 0.7658900618553162, -0.295619398355484, -1.1026628017425537, -1.2415977716445923, -0.6720717549324036, 0.2534560263156891, 0.947268545627594, 1.1403789520263672, 0.668016254901886, -0.15584796667099, -0.9274497032165527, -1.1427536010742188, -0.6670994162559509, 0.2010885328054428, 0.9551616907119751, 1.0582436323165894, 0.5576417446136475, -0.2408895045518875, -0.8528361320495605, -0.9028564691543579, -0.416459321975708, 0.22929640114307404, 0.7099941968917847, 0.7800323367118835, 0.3994598686695099, -0.1933186948299408, -0.6483867168426514, -0.7463080286979675, -0.36572694778442383, 0.22810575366020203, 0.728964626789093, 0.7010625600814819, 0.2302435040473938, -0.3402908742427826, -0.6593632102012634, -0.5483754873275757, -0.09552418440580368, 0.34600064158439636, 0.5473301410675049, 0.41354700922966003, 0.06490051001310349, -0.31641075015068054, -0.5590177178382874, -0.4588374197483063, -0.05579215660691261, 0.3821280002593994, 0.631219208240509, 0.40543484687805176, -0.06833646446466446, -0.5046050548553467, -0.6189209818840027, -0.28812459111213684, 0.1814645528793335, 0.5254954695701599, 0.5163922905921936, 0.22281360626220703, -0.17950180172920227, -0.4544765055179596, -0.4881875514984131, -0.2433888167142868, 0.18221266567707062, 0.5005599856376648, 0.5333223342895508, 0.22599011659622192, -0.26036882400512695, -0.6056541800498962, -0.5304053425788879, -0.1264287680387497, 0.3521641492843628, 0.5529197454452515, 0.3603438436985016, 0.031526241451501846, -0.31441831588745117, -0.4281081557273865, -0.34984302520751953, -0.06532969325780869, 0.25101324915885925, 0.4192711412906647, 0.35248473286628723, 0.052188221365213394, -0.2948667109012604, -0.4269995391368866, -0.2643373906612396, 0.09128505736589432, 0.324421763420105, 0.3231825828552246, 0.1074332520365715, -0.15547342598438263, -0.25909140706062317, -0.17417152225971222, 0.007591492496430874, 0.1548134684562683, 0.18412458896636963, 0.10031314194202423, -0.01870371587574482, -0.15340875089168549, -0.18556764721870422, -0.09647971391677856, 0.15253576636314392, 0.29944881796836853, 0.23107491433620453, -0.04850558191537857, -0.32549163699150085, -0.4041646122932434, -0.14132629334926605, 0.23727327585220337, 0.4577536880970001, 0.39039847254753113, 0.07506386190652847, -0.3207910358905792, -0.4915807545185089, -0.43177691102027893, -0.0799756646156311, 0.345315545797348, 0.6109294295310974, 0.5911949276924133, 0.12883830070495605, -0.482272744178772, -0.8389466404914856, -0.6998060345649719, -0.08732376247644424, 0.620608925819397, 0.9450027346611023, 0.7001368403434753, 0.022141486406326294, -0.6732809543609619, -0.9752979874610901, -0.7645071744918823, -0.08073561638593674, 0.6759943962097168, 1.0696943998336792, 0.8972092270851135, 0.14183959364891052, -0.7601929306983948, -1.2592501640319824, -1.0059090852737427, -0.0984526053071022, 0.9252609610557556, 1.361985683441162, 0.9580851793289185, 0.01940704695880413, -0.9327210187911987, -1.331308126449585, -0.9932363629341125, -0.09103928506374359, 0.8702772259712219, 1.3746999502182007, 1.0727459192276, 0.11779161542654037, -0.9375907182693481, -1.4575397968292236, -1.1193510293960571, -0.06748110800981522, 1.0128650665283203, 1.4387280941009521, 1.0040591955184937, -0.009713148698210716, -0.9900547862052917, -1.3540343046188354, -0.9702445268630981, -0.05134930834174156, 0.8920403718948364, 1.3034605979919434, 0.9870046377182007, 0.11942385137081146, -0.883215606212616, -1.311740517616272, -0.9616780877113342, -0.027706803753972054, 0.8814473152160645, 1.2512426376342773, 0.871545672416687, -0.0035784251522272825, -0.7888995409011841, -1.0588458776474, -0.738372266292572, -0.04617020860314369, 0.6299243569374084, 0.9217969179153442, 0.7588735222816467, 0.14325273036956787, -0.5819854736328125, -0.9373378157615662, -0.7024088501930237, -0.0797189250588417, 0.5626764893531799, 0.7972755432128906, 0.5653275847434998, 0.03492407873272896, -0.41315150260925293, -0.6256603002548218, -0.47097963094711304, -0.13634519279003143, 0.25337934494018555, 0.5155343413352966, 0.4925425946712494, 0.21723885834217072, -0.20587068796157837, -0.4812038242816925, -0.46102845668792725, -0.1495799422264099, 0.2083064466714859, 0.3690003752708435, 0.3140192925930023, 0.12365646660327911, -0.08384821563959122, -0.22606834769248962, -0.26043182611465454, -0.17350156605243683, -0.06148773431777954, 0.14542798697948456, 0.2683316171169281, 0.23928771913051605, 0.06902310252189636, -0.1480642855167389, -0.2741865813732147, -0.18855434656143188, 0.0002769705606624484, 0.11502038687467575, 0.17890101671218872, 0.11775889247655869, 0.07209357619285583, -0.00023709103697910905, -0.10222772508859634, -0.1877845823764801, -0.1492481380701065, -0.0011641234159469604, 0.18369100987911224, 0.24178184568881989, 0.12295487523078918, -0.06486384570598602, -0.17987841367721558, -0.16170552372932434, -0.024449406191706657, 0.07483167201280594, 0.12249980866909027, 0.0820927545428276, 0.03619058430194855, 0.006075684912502766, -0.07602555304765701, -0.11629017442464828, -0.09723442792892456, 0.012064198032021523, 0.1530100405216217, 0.1697196662425995, 0.04315534979104996, -0.149329274892807, -0.1868835687637329, -0.083106130361557, 0.08354798704385757, 0.18404258787631989, 0.11918892711400986, 0.011826463043689728, -0.08975518494844437, -0.11369983851909637, -0.11370670795440674, -0.05481572449207306, 0.05635049194097519, 0.19936609268188477, 0.23525956273078918, 0.09429670870304108, -0.10678543895483017, -0.3072104752063751, -0.30243033170700073, -0.06876356154680252, 0.23909921944141388, 0.3540956676006317, 0.27492755651474, 0.021281026303768158, -0.19031229615211487, -0.3419889807701111, -0.2874104380607605, -0.09694503992795944, 0.16598711907863617, 0.3842349350452423, 0.40539631247520447, 0.18518640100955963, -0.1930449903011322, -0.4829988479614258, -0.484231561422348, -0.1464827060699463, 0.2779180109500885, 0.5389742255210876, 0.45477521419525146, 0.13519850373268127, -0.22893571853637695, -0.4593115448951721, -0.47799959778785706, -0.2511148750782013, 0.13345284759998322, 0.4848428964614868, 0.596045196056366, 0.36616435647010803, -0.1444813460111618, -0.6188604831695557, -0.6691665649414062, -0.3431100845336914, 0.1975068747997284, 0.5673686265945435, 0.6112553477287292, 0.34159138798713684, -0.1284721940755844, -0.4940789043903351, -0.6203545331954956, -0.41556257009506226, 0.02347862347960472, 0.4966255724430084, 0.7025394439697266, 0.4853723347187042, -0.01013941690325737, -0.5306017994880676, -0.7046017050743103, -0.4693743884563446, 0.037982404232025146, 0.477769672870636, 0.6259903907775879, 0.39899539947509766, -0.009781008586287498, -0.37480035424232483, -0.5623912811279297, -0.45505455136299133, -0.13033923506736755, 0.3282844126224518, 0.6048417687416077, 0.5215188264846802, 0.10326242446899414, -0.36456534266471863, -0.5697551369667053, -0.4326927363872528, -0.05724110081791878, 0.3044268786907196, 0.4485573172569275, 0.35946062207221985, 0.12577182054519653, -0.18675769865512848, -0.3869202733039856, -0.4044889211654663, -0.20421737432479858, 0.13797247409820557, 0.4197359085083008, 0.4412623643875122, 0.18098561465740204, -0.1616283506155014, -0.3968999981880188, -0.3589930534362793, -0.13636544346809387, 0.12948694825172424, 0.2902939021587372, 0.29823198914527893, 0.14953455328941345, -0.06028923764824867, -0.24156798422336578, -0.33469918370246887, -0.23309491574764252, 0.015640024095773697, 0.2748710811138153, 0.39716559648513794, 0.21073152124881744, -0.07301786541938782, -0.2890864908695221, -0.3236616849899292, -0.1458454132080078, 0.06538379937410355, 0.21628229320049286, 0.2608913779258728, 0.18882252275943756, 0.009013939648866653, -0.17235001921653748, -0.27401256561279297, -0.27160385251045227, -0.05192576348781586, 0.20869885385036469, 0.3359720706939697, 0.22550326585769653, -0.03481778874993324, -0.2222740799188614, -0.26520705223083496, -0.14397001266479492, 0.018273046240210533, 0.1185586154460907, 0.18019019067287445, 0.18657155334949493, 0.12053864449262619, -0.051926158368587494, -0.21604381501674652, -0.2498570680618286, -0.14172670245170593, 0.05523049458861351, 0.24291501939296722, 0.22649747133255005, 0.06868951767683029, -0.06790639460086823, -0.170212522149086, -0.16983675956726074, -0.10889454931020737, -0.052487533539533615, 0.0629599392414093, 0.20343273878097534, 0.25327467918395996, 0.15258969366550446, -0.058568812906742096, -0.26697009801864624, -0.308259516954422, -0.14982058107852936, 0.11332012712955475, 0.24209898710250854, 0.24985133111476898, 0.15677542984485626, 0.027836693450808525, -0.17433789372444153, -0.313848614692688, -0.29955965280532837, -0.09977957606315613, 0.19608713686466217, 0.43171900510787964, 0.39123621582984924, 0.08744671195745468, -0.3121411204338074, -0.4910159111022949, -0.37713709473609924, -0.05829343572258949, 0.2550705075263977, 0.4554204046726227, 0.38803985714912415, 0.14142237603664398, -0.18157340586185455, -0.48200875520706177, -0.5246275067329407, -0.2328958660364151, 0.24006719887256622, 0.6298863291740417, 0.6015487909317017, 0.1963142305612564, -0.329696387052536, -0.6586085557937622, -0.5970457196235657, -0.18775349855422974, 0.3070509135723114, 0.609367311000824, 0.5801818370819092, 0.2204577624797821, -0.25459882616996765, -0.6339824795722961, -0.6700650453567505, -0.30341836810112, 0.28579604625701904, 0.7198522090911865, 0.7146952748298645, 0.24834221601486206, -0.37107524275779724, -0.7750828862190247, -0.6213314533233643, -0.15532705187797546, 0.36771464347839355, 0.6880241632461548, 0.5839363932609558, 0.18743042647838593, -0.28910189867019653, -0.6653066873550415, -0.6579185724258423, -0.2247273474931717, 0.3523465096950531, 0.7491560578346252, 0.6843663454055786, 0.15745174884796143, -0.4456465542316437, -0.7173722386360168, -0.5716994404792786, -0.09507427364587784, 0.39481717348098755, 0.6408514380455017, 0.4903956949710846, 0.11291208118200302, -0.3096548914909363, -0.6255418658256531, -0.5611748099327087, -0.1740247756242752, 0.37325090169906616, 0.6998872756958008, 0.5625246167182922, 0.1049811840057373, -0.45276257395744324, -0.6736264824867249, -0.4843834936618805, -0.020081432536244392, 0.440295547246933, 0.557215690612793, 0.4328978657722473, 0.08220577239990234, -0.37272945046424866, -0.5695568919181824, -0.47419705986976624, -0.09382914006710052, 0.3777031898498535, 0.6373617649078369, 0.5074866414070129, 0.026370970532298088, -0.48065897822380066, -0.6466929316520691, -0.4292822778224945, 0.03841984272003174, 0.45422685146331787, 0.5297104120254517, 0.3394073247909546, 0.012873167172074318, -0.34674564003944397, -0.5004039406776428, -0.3918975591659546, -0.07093042135238647, 0.3319322168827057, 0.5529788136482239, 0.3973723351955414, -0.02430650405585766, -0.4121844172477722, -0.49900689721107483, -0.25844186544418335, 0.11922027170658112, 0.37382522225379944, 0.38151252269744873, 0.17507636547088623, -0.09363047778606415, -0.2766425609588623, -0.3065702021121979, -0.18376077711582184, 0.07320528477430344, 0.30184778571128845, 0.3362259566783905, 0.13592451810836792, -0.16033637523651123, -0.3419847786426544, -0.2377461940050125, 0.023634590208530426, 0.2686851918697357, 0.2895618677139282, 0.07847579568624496, -0.12714265286922455, -0.2703757882118225, -0.2081204056739807, -0.0004331841191742569, 0.1749531626701355, 0.2648925185203552, 0.20647431910037994, 0.002957442542538047, -0.24971403181552887, -0.40207865834236145, -0.27686381340026855, 0.046664442867040634, 0.4202856719493866, 0.5473634004592896, 0.2297157645225525, -0.2541983127593994, -0.5961407423019409, -0.5421692132949829, -0.14206938445568085, 0.32023075222969055, 0.6209912896156311, 0.5453777313232422, 0.16391447186470032, -0.3407788872718811, -0.66582852602005, -0.6696475148200989, -0.23148754239082336, 0.39905157685279846, 0.8875123858451843, 0.7843684554100037, 0.20251092314720154, -0.5520718693733215, -1.000422716140747, -0.7964932918548584, -0.10439177602529526, 0.6398608684539795, 1.0086445808410645, 0.8024871349334717, 0.1379060298204422, -0.6233090162277222, -1.037981629371643, -0.9222797155380249, -0.21336516737937927, 0.6779013276100159, 1.1943730115890503, 0.9888349771499634, 0.17881254851818085, -0.7661734223365784, -1.2435463666915894, -0.9753364324569702, -0.12156161665916443, 0.7833911776542664, 1.201822280883789, 0.9507268667221069, 0.16596835851669312, -0.7136818170547485, -1.1884009838104248, -1.012038230895996, -0.27921661734580994, 0.652803897857666, 1.2325987815856934, 1.0822786092758179, 0.24739383161067963, -0.7445026636123657, -1.2723236083984375, -1.0106332302093506, -0.21205291152000427, 0.7305524349212646, 1.1683017015457153, 0.9536886811256409, 0.24010689556598663, -0.5897825956344604, -1.119049072265625, -1.032526969909668, -0.3540457785129547, 0.539920449256897, 1.169898271560669, 1.0740221738815308, 0.33428436517715454, -0.6192878484725952, -1.1423816680908203, -0.9868189692497253, -0.25730615854263306, 0.6110248565673828, 1.0599496364593506, 0.9390466809272766, 0.28843575716018677, -0.46889835596084595, -0.9939836859703064, -0.9535728096961975, -0.34742245078086853, 0.4705300033092499, 1.0211607217788696, 0.9747032523155212, 0.35069650411605835, -0.5042679309844971, -0.9967713952064514, -0.851442277431488, -0.24014727771282196, 0.5038149356842041, 0.915521502494812, 0.781851589679718, 0.27137982845306396, -0.3550035357475281, -0.809417724609375, -0.8151980042457581, -0.33812814950942993, 0.3601376712322235, 0.8136146664619446, 0.7997947931289673, 0.2917081415653229, -0.3721795976161957, -0.7744253873825073, -0.6843332648277283, -0.21216517686843872, 0.3375709056854248, 0.6246867179870605, 0.5716899633407593, 0.25461816787719727, -0.20764926075935364, -0.48878154158592224, -0.5544925928115845, -0.3477315306663513, 0.12742336094379425, 0.48771387338638306, 0.5576438307762146, 0.27512070536613464, -0.12911991775035858, -0.38338223099708557, -0.4040268659591675, -0.21660928428173065, 0.06019387021660805, 0.20949389040470123, 0.26786401867866516, 0.22177913784980774, 0.12378058582544327, -0.03455651178956032, -0.23336395621299744, -0.26332101225852966, -0.20302778482437134, 0.005793292075395584, 0.19277732074260712, 0.2495536506175995, 0.1780652403831482, 0.09190279245376587, -0.01004821714013815, -0.14135423302650452, -0.2502959668636322, -0.260952353477478, -0.1363694965839386, 0.12468469887971878, 0.36131221055984497, 0.4139896631240845, 0.18619289994239807, -0.16919270157814026, -0.439299076795578, -0.4638991057872772, -0.25416484475135803, 0.06943818181753159, 0.3770376443862915, 0.4883161187171936, 0.42297643423080444, 0.07776513695716858, -0.4108988046646118, -0.7074867486953735, -0.5792403817176819, -0.0953856110572815, 0.47704941034317017, 0.7854421138763428, 0.6462629437446594, 0.09739642590284348, -0.4841287434101105, -0.7855071425437927, -0.6452954411506653, -0.16130709648132324, 0.42145633697509766, 0.8110260367393494, 0.7880271673202515, 0.3301764130592346, -0.4193419814109802, -0.9596701860427856, -0.9174323678016663, -0.33131760358810425, 0.5111430287361145, 1.006717324256897, 0.8820447325706482, 0.2577710449695587, -0.4701935648918152, -0.904211163520813, -0.7821449041366577, -0.2883947789669037, 0.3805045485496521, 0.8099329471588135, 0.7806860208511353, 0.30372169613838196, -0.34874245524406433, -0.773485541343689, -0.7045151591300964, -0.21398775279521942, 0.3661985397338867, 0.6649868488311768, 0.523725152015686, 0.043346282094717026, -0.31658798456192017, -0.4117259979248047, -0.24521926045417786, 0.03905852511525154, 0.1862446516752243, 0.17789292335510254, 0.0801515206694603, -0.06324110180139542, -0.11545754224061966, -0.04390029236674309, 0.12279477715492249, 0.2037549763917923, 0.11381658166646957, -0.18836122751235962, -0.4355321228504181, -0.4284634590148926, -0.014027112163603306, 0.5105180740356445, 0.7668086886405945, 0.49386370182037354, -0.15828964114189148, -0.7931163907051086, -0.965593695640564, -0.557310938835144, 0.21530286967754364, 0.9515559077262878, 1.1361302137374878, 0.6667355895042419, -0.2646429240703583, -1.137303352355957, -1.4275206327438354, -0.8885154128074646, 0.3319869041442871, 1.4385288953781128, 1.7330865859985352, 0.9148954153060913, -0.5259204506874084, -1.657321572303772, -1.8450758457183838, -0.9191455245018005, 0.5809125304222107, 1.7904906272888184, 1.9582812786102295, 0.9685823917388916, -0.5963581204414368, -1.902275800704956, -2.131211519241333, -1.0830142498016357, 0.6859851479530334, 2.095473289489746, 2.243256092071533, 1.0576496124267578, -0.8154892921447754, -2.2068464756011963, -2.250332832336426, -0.9751381874084473, 0.8727803230285645, 2.1909852027893066, 2.2281322479248047, 0.9721072912216187, -0.8096086978912354, -2.1666228771209717, -2.2361629009246826, -1.0086076259613037, 0.8614868521690369, 2.235623598098755, 2.252042531967163, 0.9309258460998535, -0.980196475982666, -2.2300970554351807, -2.0832254886627197, -0.7737917304039001, 0.9466105103492737, 2.085479259490967, 1.9365005493164062, 0.7256932258605957, -0.8568152785301208, -1.9332619905471802, -1.824169397354126, -0.7022348046302795, 0.8514733910560608, 1.8796442747116089, 1.740630865097046, 0.562411904335022, -0.8865290284156799, -1.782713770866394, -1.5161017179489136, -0.39105427265167236, 0.8809464573860168, 1.5801597833633423, 1.2943713665008545, 0.33882051706314087, -0.7719765901565552, -1.359226942062378, -1.1736832857131958, -0.29720330238342285, 0.7194606065750122, 1.284498929977417, 1.0700753927230835, 0.20749002695083618, -0.7768980860710144, -1.2079658508300781, -0.8902747631072998, -0.04376165196299553, 0.7195094227790833, 0.981279194355011, 0.676510751247406, 0.003845588071271777, -0.611020028591156, -0.8234938979148865, -0.5854491591453552, -0.049012504518032074, 0.544339656829834, 0.8012269735336304, 0.5616364479064941, -0.038251474499702454, -0.5554153919219971, -0.6999244689941406, -0.3984975218772888, 0.14045608043670654, 0.5059818625450134, 0.543342113494873, 0.2686072587966919, -0.13553477823734283, -0.40674853324890137, -0.4300115406513214, -0.2509738802909851, 0.08426514267921448, 0.36929628252983093, 0.4151570498943329, 0.24442248046398163, -0.13731703162193298, -0.3735414445400238, -0.38865211606025696, -0.11542746424674988, 0.22738026082515717, 0.3501034677028656, 0.24131448566913605, 0.029614750295877457, -0.15697677433490753, -0.19269318878650665, -0.15926513075828552, -0.03348943963646889, 0.09104247391223907, 0.17843519151210785, 0.18068833649158478, 0.09002674371004105, -0.10115315020084381, -0.20227859914302826, -0.14090731739997864, 0.016876334324479103, 0.16151563823223114, 0.15302656590938568, 0.03595886006951332, -0.0889257937669754, -0.11913298815488815, -0.027341768145561218, 0.03907175734639168, 0.03925829380750656, -0.008316156454384327, -0.04880046844482422, -0.0012391925556585193, 0.04696302115917206, -0.013286007568240166, -0.04492884874343872, -0.023600144311785698, 0.035940803587436676, 0.0374518558382988, 0.028253842145204544, -0.08254709839820862, -0.08861875534057617, -0.01139081921428442, 0.08291581273078918, 0.11085005104541779, 0.0013410180108621716, -0.039487287402153015, -0.04055144637823105, -0.0026437072083353996, 0.04989435896277428, 0.00791163370013237, -0.03990377485752106, -0.038931794464588165, -0.012248901650309563, 0.09971779584884644, 0.09580270200967789, 0.020456572994589806, -0.046161968261003494, -0.10703851282596588, -0.03967937454581261, -0.04157698526978493, -0.005743968766182661, 0.04847119003534317, 0.10340072214603424, 0.1133347749710083, 0.05078562721610069, -0.1254240870475769, -0.26916104555130005, -0.21167486906051636, 0.025987913832068443, 0.28366339206695557, 0.32102662324905396, 0.13536112010478973, -0.07240421324968338, -0.25624939799308777, -0.2869117856025696, -0.13627144694328308, 0.0769185796380043, 0.2511073648929596, 0.3379557430744171, 0.2812640070915222, 0.0023257783614099026, -0.3046833276748657, -0.47648897767066956, -0.32354727387428284, 0.04657488316297531, 0.4155478775501251, 0.4924980700016022, 0.2721840739250183, -0.1115870326757431, -0.3986254930496216, -0.4629805386066437, -0.26107513904571533, 0.04764239490032196, 0.34014907479286194, 0.4700298011302948, 0.358458548784256, 0.029609758406877518, -0.39240846037864685, -0.5720506310462952, -0.4061635732650757, 0.047286294400691986, 0.4353048801422119, 0.5696303248405457, 0.360051691532135, -0.0697362869977951, -0.4251660108566284, -0.4925041198730469, -0.33229079842567444, 0.0020978818647563457, 0.2990436553955078, 0.47112539410591125, 0.4232803285121918, 0.08602432906627655, -0.32551950216293335, -0.5601361393928528, -0.46886932849884033, -0.08019890636205673, 0.32901516556739807, 0.5541895031929016, 0.3963914215564728, 0.0701935812830925, -0.274215430021286, -0.418385773897171, -0.3619998097419739, -0.16287113726139069, 0.14741787314414978, 0.3505631685256958, 0.4216051697731018, 0.23988774418830872, -0.11374245584011078, -0.3607071042060852, -0.41260066628456116, -0.20807495713233948, 0.07027582079172134, 0.28958410024642944, 0.3127814531326294, 0.16347432136535645, 0.03313327580690384, -0.10465427488088608, -0.21019242703914642, -0.2711905241012573, -0.20854158699512482, -0.0108384620398283, 0.2015315592288971, 0.3404390811920166, 0.2885008752346039, 0.04446472227573395, -0.19975706934928894, -0.3154166340827942, -0.30287113785743713, -0.15185023844242096, 0.04867174103856087, 0.26106125116348267, 0.410259872674942, 0.37413856387138367, 0.08670482784509659, -0.3340540826320648, -0.6174181699752808, -0.49339839816093445, -0.04455649107694626, 0.418512225151062, 0.6694703698158264, 0.5199442505836487, 0.09802467375993729, -0.3955734372138977, -0.6959049701690674, -0.6305117011070251, -0.23677413165569305, 0.347931444644928, 0.8090529441833496, 0.8165125250816345, 0.3237032890319824, -0.4232616424560547, -0.9293590784072876, -0.8878876566886902, -0.3029245436191559, 0.4941312074661255, 0.9659259915351868, 0.8595166802406311, 0.2887924611568451, -0.45209410786628723, -0.9306103587150574, -0.8893517255783081, -0.4036366045475006, 0.38086608052253723, 0.9957618117332458, 1.0152003765106201, 0.44062432646751404, -0.4511427879333496, -1.0701020956039429, -1.0290275812149048, -0.3901962637901306, 0.4749813377857208, 0.9994030594825745, 0.9423908591270447, 0.37542372941970825, -0.3731519281864166, -0.9226264357566833, -0.9504086375236511, -0.4482728838920593, 0.2750111520290375, 0.9061013460159302, 1.0178555250167847, 0.5201490521430969, -0.30458787083625793, -0.9294026494026184, -0.9446172118186951, -0.4356467127799988, 0.32005271315574646, 0.8571944832801819, 0.866186261177063, 0.4300519824028015, -0.19376996159553528, -0.7013574242591858, -0.7785524725914001, -0.4696587324142456, 0.10844525694847107, 0.6149353384971619, 0.7766901850700378, 0.46425700187683105, -0.11426816880702972, -0.5863772630691528, -0.7099466323852539, -0.3794412612915039, 0.10587841272354126, 0.4314044415950775, 0.5184301137924194, 0.3220027685165405, 0.00015214354789350182, -0.26768794655799866, -0.39493119716644287, -0.3620442748069763, -0.12129123508930206, 0.16456471383571625, 0.3598368465900421, 0.3382987976074219, 0.11568599939346313, -0.1333398073911667, -0.23539917171001434, -0.19923825562000275, -0.10925298184156418, -0.028174500912427902, 0.03559425473213196, 0.10628141462802887, 0.17139655351638794, 0.19500568509101868, 0.11274099349975586, -0.09941552579402924, -0.2722893953323364, -0.27166733145713806, -0.16159017384052277, 0.020397977903485298, 0.22056499123573303, 0.285177618265152, 0.2688790261745453, 0.12608295679092407, -0.1434095948934555, -0.37286853790283203, -0.46345242857933044, -0.2586729824542999, 0.1551111936569214, 0.5081899166107178, 0.5411707758903503, 0.28352591395378113, -0.1683410406112671, -0.501213014125824, -0.5713902115821838, -0.3548773527145386, 0.06794048100709915, 0.447120726108551, 0.6430686712265015, 0.552008867263794, 0.10111090540885925, -0.47427114844322205, -0.8084548115730286, -0.6810800433158875, -0.10266464203596115, 0.5174023509025574, 0.8671655654907227, 0.7126991152763367, 0.17389069497585297, -0.4488967955112457, -0.8462921977043152, -0.7646359205245972, -0.3210347294807434, 0.35061976313591003, 0.8865619897842407, 0.9383224248886108, 0.45038115978240967, -0.3419855237007141, -0.9859941005706787, -1.06729257106781, -0.5135416388511658, 0.35249021649360657, 1.0069289207458496, 1.0692756175994873, 0.5286563038825989, -0.2887548804283142, -0.9071487188339233, -1.0742073059082031, -0.6516544222831726, 0.15270571410655975, 0.9299505352973938, 1.207275629043579, 0.7982607483863831, -0.11711805313825607, -0.9546806812286377, -1.2741367816925049, -0.7825440168380737, 0.15914912521839142, 0.9634328484535217, 1.189982533454895, 0.7360089421272278, -0.09565852582454681, -0.8517075181007385, -1.1238993406295776, -0.8053491115570068, 0.0015957677969709039, 0.8153120875358582, 1.1633903980255127, 0.853789746761322, -0.016690993681550026, -0.8195396661758423, -1.1602548360824585, -0.7705176472663879, 0.05638913810253143, 0.7912165522575378, 0.992346465587616, 0.6765013933181763, -0.006640082225203514, -0.6540139317512512, -0.8703738451004028, -0.6545084118843079, -0.08235295861959457, 0.542131781578064, 0.862258791923523, 0.6522198915481567, 0.07202714681625366, -0.5326424837112427, -0.7873709797859192, -0.5450636148452759, -0.03645437955856323, 0.42971986532211304, 0.6061370968818665, 0.43910542130470276, 0.09762578457593918, -0.244245707988739, -0.4568011462688446, -0.4258666932582855, -0.18428155779838562, 0.15143170952796936, 0.44478869438171387, 0.46502241492271423, 0.1982453614473343, -0.14755971729755402, -0.3342790901660919, -0.3058602809906006, -0.11075711995363235, 0.05496446043252945, 0.17425312101840973, 0.18758437037467957, 0.18174901604652405, 0.10821954160928726, -0.0757785439491272, -0.22226060926914215, -0.26504260301589966, -0.1366809755563736, 0.08617708832025528, 0.24583525955677032, 0.26486364006996155, 0.1310548335313797, -0.07468880712985992, -0.17267228662967682, -0.19016191363334656, -0.14599566161632538, -0.05777645483613014, 0.0776883214712143, 0.21621035039424896, 0.24849574267864227, 0.06852462142705917, -0.14348043501377106, -0.28709325194358826, -0.25700268149375916, -0.04678094759583473, 0.19110150635242462, 0.25565144419670105, 0.17083892226219177, 0.0017121349228546023, -0.11258838325738907, -0.1901654601097107, -0.13930389285087585, -0.07033655047416687, 0.06095403805375099, 0.17148421704769135, 0.1922737956047058, 0.06265673786401749, -0.1392979472875595, -0.254487007856369, -0.19280293583869934, 0.020468467846512794, 0.21775291860103607, 0.21162652969360352, 0.03242230415344238, -0.1291130781173706, -0.19056516885757446, -0.12422177195549011, -0.013925235718488693, 0.07920254021883011, 0.15405070781707764, 0.13780362904071808, 0.03794856742024422, -0.10999955981969833, -0.25575870275497437, -0.2040470987558365, 0.01565084606409073, 0.26037582755088806, 0.3317655622959137, 0.1590253859758377, -0.14739055931568146, -0.36591586470603943, -0.30078399181365967, -0.04797760397195816, 0.2052028775215149, 0.34035706520080566, 0.2851482033729553, 0.07173100858926773, -0.20018132030963898, -0.3826039731502533, -0.4101078510284424, -0.13279235363006592, 0.2896046042442322, 0.5641263723373413, 0.5169587135314941, 0.07132837176322937, -0.4466334283351898, -0.6930270791053772, -0.49891388416290283, 0.0066687618382275105, 0.53214430809021, 0.697970449924469, 0.4515741169452667, -0.009955937042832375, -0.5342769622802734, -0.7443041205406189, -0.5590290427207947, -0.02577262371778488, 0.6064963936805725, 0.8975418210029602, 0.6563986539840698, -0.0348161980509758, -0.7501791715621948, -0.9981901049613953, -0.6316163539886475, 0.11723291873931885, 0.7928317189216614, 1.001851201057434, 0.5988087058067322, -0.10908158868551254, -0.7535476684570312, -0.9817277193069458, -0.6673847436904907, 0.057888180017471313, 0.7901442050933838, 1.1044598817825317, 0.7392408847808838, -0.07024340331554413, -0.8789606094360352, -1.1526581048965454, -0.7087624073028564, 0.15873229503631592, 0.8865681886672974, 1.0725687742233276, 0.6350318193435669, -0.11374695599079132, -0.7859494090080261, -1.0135418176651, -0.7057057023048401, 0.027923576533794403, 0.7519236207008362, 1.0785728693008423, 0.7530367374420166, -0.04215385392308235, -0.8104720115661621, -1.0533875226974487, -0.6622035503387451, 0.10278283804655075, 0.7496433854103088, 0.9433586001396179, 0.6141198873519897, -0.03951707482337952, -0.613025426864624, -0.8558527231216431, -0.6313076019287109, -0.0816032886505127, 0.5425752401351929, 0.8598352074623108, 0.6584885120391846, 0.048542559146881104, -0.583872377872467, -0.8584342002868652, -0.601020336151123, 0.01939457096159458, 0.5694401264190674, 0.7213040590286255, 0.4992465376853943, -0.00462703313678503, -0.47011977434158325, -0.7017336487770081, -0.5204869508743286, -0.030818218365311623, 0.5155159831047058, 0.784203827381134, 0.5332565903663635, -0.1000109389424324, -0.6616446375846863, -0.8162497878074646, -0.3988039195537567, 0.2695014476776123, 0.7723520994186401, 0.7850790023803711, 0.27727964520454407, -0.4139355421066284, -0.8568884134292603, -0.7974124550819397, -0.2395697385072708, 0.5016829371452332, 0.998586118221283, 0.938609778881073, 0.21744732558727264, -0.7407230138778687, -1.2953013181686401, -1.0291553735733032, -0.03777064383029938, 1.0110313892364502, 1.4546270370483398, 0.987311840057373, -0.11342409253120422, -1.1614642143249512, -1.5646637678146362, -1.0171327590942383, 0.1565115749835968, 1.309037208557129, 1.7397000789642334, 1.1383535861968994, -0.16535884141921997, -1.5141633749008179, -1.985271692276001, -1.2140496969223022, 0.35541731119155884, 1.7596256732940674, 2.1344902515411377, 1.1641056537628174, -0.46772050857543945, -1.8803248405456543, -2.1558215618133545, -1.1539669036865234, 0.48494264483451843, 1.8877431154251099, 2.2499728202819824, 1.2773215770721436, -0.4982585608959198, -2.0077028274536133, -2.3786189556121826, -1.2961039543151855, 0.5812600255012512, 2.1326041221618652, 2.389448404312134, 1.2057338953018188, -0.7024816274642944, -2.1483914852142334, -2.306103229522705, -1.1590397357940674, 0.6352486610412598, 2.0113625526428223, 2.2457120418548584, 1.172959566116333, -0.590998113155365, -2.019221544265747, -2.2481820583343506, -1.132627248764038, 0.6445690393447876, 2.016195774078369, 2.143876314163208, 0.9768601655960083, -0.6799140572547913, -1.848592758178711, -1.8837647438049316, -0.8368944525718689, 0.6191267967224121, 1.6379741430282593, 1.707196831703186, 0.8174710273742676, -0.5091441869735718, -1.4866348505020142, -1.586923360824585, -0.7360897064208984, 0.5129117369651794, 1.4074156284332275, 1.4031158685684204, 0.5440592765808105, -0.5489608645439148, -1.1937934160232544, -1.0926753282546997, -0.37761983275413513, 0.44983038306236267, 0.8939176797866821, 0.8692189455032349, 0.3272366523742676, -0.3521203100681305, -0.7480465173721313, -0.7243584394454956, -0.2517715394496918, 0.366894006729126, 0.6485199928283691, 0.504721462726593, 0.041066884994506836, -0.34168726205825806, -0.4341279864311218, -0.2031375914812088, 0.10252217948436737, 0.2421165406703949, 0.1882970780134201, 0.014475982636213303, -0.09529686719179153, -0.12156198918819427, -0.058244913816452026, 0.07470636069774628, 0.17178459465503693, 0.1440807431936264, -0.008684522472321987, -0.22735877335071564, -0.3228107690811157, -0.13815400004386902, 0.19855380058288574, 0.4521920084953308, 0.40048328042030334, 0.04938817396759987, -0.3818390965461731, -0.568772554397583, -0.36747971177101135, 0.09035348892211914, 0.4759490191936493, 0.5574740171432495, 0.36641553044319153, -0.09166517108678818, -0.5213044285774231, -0.6398481726646423, -0.42722392082214355, 0.06621206551790237, 0.6090769171714783, 0.7977911829948425, 0.4499779939651489, -0.20484624803066254, -0.7525327801704407, -0.8167679905891418, -0.3421691060066223, 0.32132282853126526, 0.7812225818634033, 0.7423276305198669, 0.3207535147666931, -0.29154452681541443, -0.7438436150550842, -0.7312544584274292, -0.3169730007648468, 0.2935042977333069, 0.7648887634277344, 0.8106820583343506, 0.3159445524215698, -0.38516345620155334, -0.8659337759017944, -0.7730962634086609, -0.2074778825044632, 0.4725256860256195, 0.8248485326766968, 0.6102763414382935, 0.08010435849428177, -0.4517606198787689, -0.692313551902771, -0.5761547088623047, -0.1185641959309578, 0.4331996738910675, 0.6970301866531372, 0.5750809907913208, 0.08009280264377594, -0.493397057056427, -0.7574490904808044, -0.5040520429611206, 0.07512806355953217, 0.566952645778656, 0.695307195186615, 0.35584697127342224, -0.1693078726530075, -0.529771089553833, -0.5630031228065491, -0.2841935157775879, 0.1291666477918625, 0.4991636276245117, 0.5465385317802429, 0.2826046049594879, -0.20001116394996643, -0.5757434368133545, -0.6219114065170288, -0.2237735390663147, 0.3405044972896576, 0.6632500290870667, 0.5386141538619995, 0.05318506062030792, -0.4378500282764435, -0.62469083070755, -0.4533422291278839, 0.0022715821396559477, 0.4361780881881714, 0.6268770098686218, 0.4470522701740265, 0.023937972262501717, -0.4558594822883606, -0.7050473690032959, -0.5140710473060608, 0.023242369294166565, 0.5694911479949951, 0.7486954927444458, 0.42600736021995544, -0.11950302124023438, -0.5990486741065979, -0.6836005449295044, -0.30471405386924744, 0.19666431844234467, 0.5501515865325928, 0.5993953347206116, 0.29457059502601624, -0.1408052146434784, -0.5369885563850403, -0.5992671251296997, -0.2921651601791382, 0.17832256853580475, 0.5905466079711914, 0.5828421711921692, 0.20423495769500732, -0.3282005190849304, -0.6314899325370789, -0.46724990010261536, -0.05345300957560539, 0.3535839021205902, 0.5056717991828918, 0.34853729605674744, 0.010038317181169987, -0.3213316798210144, -0.4738694429397583, -0.35732489824295044, -0.03296395391225815, 0.3359253406524658, 0.49527859687805176, 0.32705897092819214, -0.09502062946557999, -0.4459173381328583, -0.49578380584716797, -0.2220710963010788, 0.2161320596933365, 0.48320823907852173, 0.39763563871383667, 0.0626899003982544, -0.23392264544963837, -0.39152324199676514, -0.31461063027381897, -0.0631965845823288, 0.2184513360261917, 0.403467059135437, 0.34496572613716125, 0.06032725051045418, -0.3012617528438568, -0.4741710424423218, -0.31761616468429565, 0.09232369065284729, 0.4427323043346405, 0.4628121256828308, 0.171427920460701, -0.19654566049575806, -0.45374226570129395, -0.39562296867370605, -0.12042557448148727, 0.19965298473834991, 0.41370177268981934, 0.37385377287864685, 0.14867445826530457, -0.20203746855258942, -0.45136579871177673, -0.4611673653125763, -0.1412615329027176, 0.33882638812065125, 0.5894700288772583, 0.4609284996986389, 0.02160564996302128, -0.43201327323913574, -0.5778874158859253, -0.35306915640830994, 0.07925942540168762, 0.41472312808036804, 0.5471460819244385, 0.3470492362976074, -0.002474315231665969, -0.3908599317073822, -0.5699474811553955, -0.4144538640975952, 0.038761429488658905, 0.4708903431892395, 0.6453760266304016, 0.4101015627384186, -0.1216806173324585, -0.5463436841964722, -0.6355804800987244, -0.3215292990207672, 0.1684219390153885, 0.4950364828109741, 0.5481860041618347, 0.294929563999176, -0.0859551951289177, -0.45141854882240295, -0.5559008121490479, -0.3406347632408142, 0.08822605758905411, 0.485178142786026, 0.6225041151046753, 0.32718488574028015, -0.16736449301242828, -0.5293270349502563, -0.5484631061553955, -0.24512986838817596, 0.21245454251766205, 0.4761292636394501, 0.4199635982513428, 0.1909870207309723, -0.13259707391262054, -0.3495275378227234, -0.4207696318626404, -0.2532646358013153, 0.11346928775310516, 0.43122363090515137, 0.47526785731315613, 0.22426390647888184, -0.17806419730186462, -0.43956559896469116, -0.4175322651863098, -0.1150222048163414, 0.2183559536933899, 0.3663759231567383, 0.32194820046424866, 0.1093587875366211, -0.15549618005752563, -0.30075159668922424, -0.3135885000228882, -0.13219964504241943, 0.11750315129756927, 0.36231836676597595, 0.37048545479774475, 0.13923831284046173, -0.2070176601409912, -0.40947169065475464, -0.3301868736743927, -0.03280356526374817, 0.24336713552474976, 0.3336767852306366, 0.22997374832630157, -0.025180550292134285, -0.20023924112319946, -0.2638428807258606, -0.2334810495376587, -0.04693757742643356, 0.16446764767169952, 0.3330056071281433, 0.2566814720630646, 0.01713462546467781, -0.3124176561832428, -0.41430938243865967, -0.22943538427352905, 0.11606519669294357, 0.3578992187976837, 0.3426114320755005, 0.11942100524902344, -0.1622593253850937, -0.32027047872543335, -0.29364868998527527, -0.09211335331201553, 0.11272988468408585, 0.30491307377815247, 0.33271750807762146, 0.16600878536701202, -0.1675238162279129, -0.45802542567253113, -0.44018810987472534, -0.09509841352701187, 0.30283501744270325, 0.490482360124588, 0.3660925328731537, -0.012481746263802052, -0.35765036940574646, -0.4645727276802063, -0.29818955063819885, 0.0014635639963671565, 0.33620983362197876, 0.4884748160839081, 0.3721368610858917, 0.06419872492551804, -0.36459416151046753, -0.5705640912055969, -0.4317863881587982, 0.01138208992779255, 0.5143353343009949, 0.6339027285575867, 0.3703562319278717, -0.14084021747112274, -0.5655811429023743, -0.621478259563446, -0.3205660879611969, 0.14819376170635223, 0.5170372724533081, 0.6154813170433044, 0.38216254115104675, -0.11174287647008896, -0.5725659728050232, -0.6968978047370911, -0.43759822845458984, 0.1510104387998581, 0.67914217710495, 0.7704288959503174, 0.36940962076187134, -0.2900882065296173, -0.7263128161430359, -0.72380131483078, -0.3045095205307007, 0.27176016569137573, 0.6411411762237549, 0.6976824998855591, 0.34852156043052673, -0.20505401492118835, -0.6809389591217041, -0.7728374004364014, -0.42159971594810486, 0.2373516708612442, 0.7709259986877441, 0.8188638687133789, 0.3675967752933502, -0.32760703563690186, -0.8144758343696594, -0.7747445106506348, -0.343925803899765, 0.26262447237968445, 0.7098231911659241, 0.7618578672409058, 0.4100133180618286, -0.1906082183122635, -0.70928555727005, -0.8393333554267883, -0.4746706783771515, 0.18469512462615967, 0.7792877554893494, 0.8592332005500793, 0.4255753457546234, -0.25232598185539246, -0.761479377746582, -0.7730391025543213, -0.38869398832321167, 0.18766184151172638, 0.6428281664848328, 0.7629541158676147, 0.48469915986061096, -0.05945659801363945, -0.635952353477478, -0.8249411582946777, -0.5367878079414368, 0.08538024127483368, 0.687385618686676, 0.8690385818481445, 0.5281460881233215, -0.14713169634342194, -0.651437520980835, -0.7846837639808655, -0.4773024320602417, 0.06026391312479973, 0.5655857920646667, 0.7585581541061401, 0.5381402969360352, 0.041048791259527206, -0.5313183665275574, -0.7950931191444397, -0.6230124235153198, -0.014320118352770805, 0.6026713252067566, 0.8172903656959534, 0.5384193062782288, -0.020662594586610794, -0.5861725807189941, -0.7424546480178833, -0.4632675349712372, 0.011034972034394741, 0.478279709815979, 0.6998991966247559, 0.5198721289634705, 0.06415639817714691, -0.4488987326622009, -0.7184288501739502, -0.5400032997131348, -0.028290363028645515, 0.5139556527137756, 0.7046093940734863, 0.45238348841667175, -0.07477863878011703, -0.47546982765197754, -0.5606301426887512, -0.3569509983062744, 0.042282555252313614, 0.3759727478027344, 0.4981258809566498, 0.38652557134628296, 0.02793365716934204, -0.34698736667633057, -0.5678736567497253, -0.4279506206512451, -0.019521253183484077, 0.3771158456802368, 0.5548039078712463, 0.35120707750320435, -0.06715293973684311, -0.38877958059310913, -0.44593313336372375, -0.27584946155548096, 0.03467967361211777, 0.25833287835121155, 0.41188621520996094, 0.31228339672088623, 0.03774812072515488, -0.27263104915618896, -0.4688052237033844, -0.37999364733695984, -0.009746348485350609, 0.36474502086639404, 0.4809688329696655, 0.29528307914733887, -0.06346670538187027, -0.34914249181747437, -0.39950522780418396, -0.2283019870519638, 0.03852883726358414, 0.2649672031402588, 0.36951324343681335, 0.2961733937263489, 0.024325743317604065, -0.2628907263278961, -0.4585723876953125, -0.37646347284317017, 0.012416061945259571, 0.35156527161598206, 0.4694807529449463, 0.2843928635120392, -0.055478326976299286, -0.3449438810348511, -0.4047699272632599, -0.2661620080471039, -0.011021751910448074, 0.2227967530488968, 0.35449737310409546, 0.3396121859550476, 0.09593033045530319, -0.22781793773174286, -0.43857911229133606, -0.37491536140441895, -0.11246908456087112, 0.2589722275733948, 0.4249587655067444, 0.31601229310035706, 0.042041610926389694, -0.21319225430488586, -0.3210318684577942, -0.20081788301467896, -0.06364686042070389, 0.1034732460975647, 0.18254373967647552, 0.1889011412858963, 0.09359928965568542, -0.05247405916452408, -0.17160513997077942, -0.1492702215909958, -0.009485108777880669, 0.10457057505846024, 0.06178821250796318, -0.051746003329753876, -0.12146804481744766, -0.023361044004559517, 0.19226320087909698, 0.2716542184352875, 0.15079261362552643, -0.11751344799995422, -0.3465113043785095, -0.4029528498649597, -0.1889142543077469, 0.16613885760307312, 0.49761417508125305, 0.5506505966186523, 0.32298964262008667, -0.1616036593914032, -0.6320371031761169, -0.7743829488754272, -0.45612508058547974, 0.23178257048130035, 0.8698871731758118, 0.9943837523460388, 0.5152817368507385, -0.3811270594596863, -1.0482765436172485, -1.0902585983276367, -0.49525246024131775, 0.4026221036911011, 1.0997931957244873, 1.2070720195770264, 0.5969821810722351, -0.3676567077636719, -1.2022247314453125, -1.3774645328521729, -0.7465863823890686, 0.4009688198566437, 1.3647220134735107, 1.538954496383667, 0.7569756507873535, -0.5106981992721558, -1.492587685585022, -1.5746854543685913, -0.7145476937294006, 0.49717655777931213, 1.4559757709503174, 1.5779201984405518, 0.7731744050979614, -0.44570106267929077, -1.465933918952942, -1.6745938062667847, -0.9010351896286011, 0.4655047357082367, 1.600144624710083, 1.7709180116653442, 0.895503044128418, -0.504530668258667, -1.6122623682022095, -1.7222257852554321, -0.8311613202095032, 0.5327936410903931, 1.5495573282241821, 1.6673197746276855, 0.8406784534454346, -0.4473382830619812, -1.4973483085632324, -1.727672815322876, -0.9081457257270813, 0.4698902368545532, 1.558167576789856, 1.7425605058670044, 0.8661996126174927, -0.5178492069244385, -1.5537283420562744, -1.634417176246643, -0.7219781279563904, 0.5129075646400452, 1.4196561574935913, 1.498673439025879, 0.7187198400497437, -0.4437803030014038, -1.3505642414093018, -1.4780867099761963, -0.738876461982727, 0.4283250570297241, 1.3550719022750854, 1.4185937643051147, 0.6208231449127197, -0.496037095785141, -1.2606145143508911, -1.2316447496414185, -0.48137006163597107, 0.4687482416629791, 1.0932093858718872, 1.0285676717758179, 0.4409125745296478, -0.37570449709892273, -0.9525512456893921, -0.9454236626625061, -0.43372634053230286, 0.36515215039253235, 0.9193539619445801, 0.8728697896003723, 0.2783898413181305, -0.4082872271537781, -0.817112147808075, -0.6517662405967712, -0.14405280351638794, 0.4095107614994049, 0.6008471846580505, 0.4509247839450836, 0.08357547223567963, -0.28885170817375183, -0.4217621982097626, -0.30820783972740173, -0.05973238870501518, 0.26919859647750854, 0.3966478705406189, 0.21977564692497253, -0.08919954299926758, -0.32672789692878723, -0.27944818139076233, -0.007400290109217167, 0.23789750039577484, 0.2430160641670227, 0.05200944468379021, -0.20776616036891937, -0.30827656388282776, -0.15388396382331848, 0.10056079924106598, 0.2995607554912567, 0.30470162630081177, 0.10826241225004196, -0.14507050812244415, -0.37796449661254883, -0.4033951759338379, -0.16251762211322784, 0.2446678876876831, 0.5982323288917542, 0.5413361191749573, 0.142269566655159, -0.4463862180709839, -0.7526344656944275, -0.5685955882072449, -0.0011255366262048483, 0.5550026893615723, 0.7963685989379883, 0.5749301314353943, -0.0027232456486672163, -0.6075314879417419, -0.8750559687614441, -0.6478246450424194, -0.03974497690796852, 0.6334435343742371, 0.9978137016296387, 0.7665745615959167, 0.0301352646201849, -0.7854072451591492, -1.1332182884216309, -0.7605683207511902, 0.07322754710912704, 0.8820564150810242, 1.144203782081604, 0.7088862061500549, -0.11393146961927414, -0.8574682474136353, -1.0830979347229004, -0.7278252840042114, 0.0526544488966465, 0.857507586479187, 1.210054636001587, 0.8151560425758362, -0.07945004105567932, -0.950995147228241, -1.2379131317138672, -0.7709402441978455, 0.18444277346134186, 1.0250412225723267, 1.209868311882019, 0.6802545189857483, -0.22439022362232208, -0.9514586925506592, -1.1361734867095947, -0.6689721941947937, 0.20606374740600586, 0.954183042049408, 1.1543829441070557, 0.6716889142990112, -0.251206636428833, -1.0379178524017334, -1.1603522300720215, -0.5673765540122986, 0.3743165135383606, 1.05812668800354, 1.0784955024719238, 0.4274331033229828, -0.40746426582336426, -0.9827812314033508, -1.002000093460083, -0.43171948194503784, 0.3386780619621277, 0.9360362887382507, 0.9704759120941162, 0.4588422179222107, -0.3548218607902527, -0.9908483624458313, -0.9967151284217834, -0.35220611095428467, 0.46601882576942444, 0.9554241299629211, 0.8702629804611206, 0.23339030146598816, -0.4741804897785187, -0.8466343283653259, -0.7576112151145935, -0.22392156720161438, 0.3920600414276123, 0.8088864088058472, 0.7637607455253601, 0.28380757570266724, -0.385065495967865, -0.8175190687179565, -0.7514588832855225, -0.21791115403175354, 0.4238586127758026, 0.7974589467048645, 0.6210596561431885, 0.11877649277448654, -0.4274715483188629, -0.641082763671875, -0.5165231227874756, -0.12200263142585754, 0.301871657371521, 0.5617923736572266, 0.5238244533538818, 0.20091065764427185, -0.2323438823223114, -0.5610847473144531, -0.5520965456962585, -0.16260065138339996, 0.2934023141860962, 0.5117903351783752, 0.39659807085990906, 0.07910534739494324, -0.24255415797233582, -0.37197694182395935, -0.3032991886138916, -0.10803965479135513, 0.09901537746191025, 0.2724805176258087, 0.31070801615715027, 0.17533257603645325, -0.02031148411333561, -0.24047105014324188, -0.3148046135902405, -0.17611509561538696, 0.031759824603796005, 0.1851198822259903, 0.1779506802558899, 0.09020113945007324, 0.009102433919906616, -0.03723442554473877, -0.04475441947579384, -0.11636293679475784, -0.17997325956821442, -0.11304441839456558, 0.06715643405914307, 0.22265984117984772, 0.24668172001838684, 0.12714675068855286, -0.06310547888278961, -0.17284023761749268, -0.18876424431800842, -0.17301754653453827, -0.07080639153718948, 0.1315392106771469, 0.2829417586326599, 0.3451332151889801, 0.20083068311214447, -0.15098248422145844, -0.41787290573120117, -0.48119255900382996, -0.19493430852890015, 0.23487238585948944, 0.46837425231933594, 0.4729980230331421, 0.20273806154727936, -0.15752355754375458, -0.42536458373069763, -0.5223919749259949, -0.32281288504600525, 0.09047553688287735, 0.4719487726688385, 0.6494349241256714, 0.4588306248188019, -0.08503720909357071, -0.5783621072769165, -0.7107604742050171, -0.4537462890148163, 0.11585056036710739, 0.5669587254524231, 0.6966202855110168, 0.4538918733596802, -0.0674140453338623, -0.4822268486022949, -0.6913852095603943, -0.5472913980484009, -0.0766020268201828, 0.4674651622772217, 0.7770310640335083, 0.6137612462043762, 0.0866728350520134, -0.5117349028587341, -0.8022811412811279, -0.5859201550483704, -0.0368729792535305, 0.4805886149406433, 0.7211405038833618, 0.5258044004440308, 0.09580837190151215, -0.3719876706600189, -0.6272653341293335, -0.5626363754272461, -0.17716829478740692, 0.3324258029460907, 0.6779765486717224, 0.5758176445960999, 0.13026273250579834, -0.40083158016204834, -0.6421066522598267, -0.4859064221382141, -0.03612847998738289, 0.3617294430732727, 0.5139194130897522, 0.3528226315975189, 0.03834592550992966, -0.28508734703063965, -0.4195924401283264, -0.34659215807914734, -0.03611963614821434, 0.28614193201065063, 0.4227062463760376, 0.30183175206184387, -0.06528192013502121, -0.37144091725349426, -0.392097532749176, -0.128992959856987, 0.21677428483963013, 0.3535005748271942, 0.23846623301506042, -0.024988247081637383, -0.25216904282569885, -0.2998180687427521, -0.14198221266269684, 0.10241995751857758, 0.2816511392593384, 0.30866488814353943, 0.14242134988307953, -0.14157472550868988, -0.3838132619857788, -0.37760406732559204, -0.076457180082798, 0.29829341173171997, 0.4883206784725189, 0.37469491362571716, -0.03514164686203003, -0.4522804319858551, -0.556410551071167, -0.26096683740615845, 0.1657537966966629, 0.4987470209598541, 0.5097775459289551, 0.23729364573955536, -0.15227006375789642, -0.48386019468307495, -0.5979187488555908, -0.3288452625274658, 0.16276168823242188, 0.6325560808181763, 0.6829384565353394, 0.3090771436691284, -0.2659405469894409, -0.7198166251182556, -0.7092617154121399, -0.1956857144832611, 0.3749381899833679, 0.7068385481834412, 0.6244155764579773, 0.19470945000648499, -0.324269562959671, -0.656281054019928, -0.6522900462150574, -0.25720933079719543, 0.3156689703464508, 0.7386983036994934, 0.6999800205230713, 0.24633918702602386, -0.43239349126815796, -0.8166328072547913, -0.6820850968360901, -0.11366184055805206, 0.49521589279174805, 0.7769385576248169, 0.5708589553833008, 0.07749227434396744, -0.42995283007621765, -0.7087639570236206, -0.5813939571380615, -0.12966984510421753, 0.4207621216773987, 0.7617226243019104, 0.6134731769561768, 0.07870107889175415, -0.5289465188980103, -0.7905151844024658, -0.5269622206687927, 0.08437199145555496, 0.5835999250411987, 0.7347649931907654, 0.3968964219093323, -0.11937073618173599, -0.5361258387565613, -0.640278697013855, -0.39422017335891724, 0.11860310286283493, 0.5603374242782593, 0.6792666912078857, 0.38736826181411743, -0.1683393120765686, -0.6675593256950378, -0.7025789022445679, -0.29402095079421997, 0.3167429566383362, 0.6785576939582825, 0.6093751788139343, 0.14410297572612762, -0.3780297338962555, -0.6411616802215576, -0.48260700702667236, -0.07420036196708679, 0.3419864773750305, 0.5739656090736389, 0.47946932911872864, 0.09208372235298157, -0.3812667429447174, -0.6417797207832336, -0.48182496428489685, 0.0029917871579527855, 0.4776425063610077, 0.6238003969192505, 0.338493287563324, -0.12124540656805038, -0.4559250473976135, -0.4732498526573181, -0.2147727757692337, 0.12549801170825958, 0.34686005115509033, 0.4022372364997864, 0.20220614969730377, -0.07993991672992706, -0.3228994309902191, -0.36875343322753906, -0.17578083276748657, 0.1381511688232422, 0.3208160400390625, 0.3212263286113739, 0.05577245354652405, -0.2187197357416153, -0.26648518443107605, -0.11852046847343445, 0.05626772344112396, 0.11080619692802429, 0.10976841300725937, 0.017259759828448296, -0.04343142732977867, -0.0342722162604332, -0.03931199014186859, -0.033141329884529114, 0.027405405417084694, 0.044800881296396255, 0.005514040123671293, -0.0448281429708004, -0.10453420132398605, -0.04249480739235878, 0.10393132269382477, 0.1926364004611969, 0.1264403760433197, -0.07802628725767136, -0.28325051069259644, -0.3239680826663971, -0.07977211475372314, 0.22820666432380676, 0.396804541349411, 0.26438742876052856, 0.0009693671599961817, -0.24057309329509735, -0.39327940344810486, -0.30930885672569275, -0.039502497762441635, 0.2808537781238556, 0.4851624369621277, 0.4019523561000824, 0.06244476139545441, -0.37112122774124146, -0.6283831000328064, -0.456638365983963, 0.01884789951145649, 0.518406093120575, 0.6674511432647705, 0.3851824998855591, -0.12832476198673248, -0.5491036772727966, -0.6013875007629395, -0.3546471893787384, 0.10079039633274078, 0.5113746523857117, 0.643322765827179, 0.38371533155441284, -0.09140866249799728, -0.5871601104736328, -0.7061979174613953, -0.3755839765071869, 0.1858118325471878, 0.6817378997802734, 0.6771814823150635, 0.2297184318304062, -0.3241492509841919, -0.6939538717269897, -0.5580697059631348, -0.10350270569324493, 0.3516537845134735, 0.6142652630805969, 0.520666241645813, 0.10483139008283615, -0.360562264919281, -0.6881402730941772, -0.5573442578315735, -0.029009168967604637, 0.5210323333740234, 0.7731671929359436, 0.5066345930099487, -0.1171954870223999, -0.6498889327049255, -0.7456926107406616, -0.3864629566669464, 0.21318866312503815, 0.6665458083152771, 0.7216522097587585, 0.33625075221061707, -0.2337045818567276, -0.6869008541107178, -0.7566511631011963, -0.35473188757896423, 0.2943583130836487, 0.804802417755127, 0.8487799763679504, 0.31140413880348206, -0.44555985927581787, -0.9458773136138916, -0.8334787487983704, -0.1820896565914154, 0.5450830459594727, 0.9432008266448975, 0.762917160987854, 0.14044241607189178, -0.5309498906135559, -0.9247303009033203, -0.7866682410240173, -0.21422073245048523, 0.5365782380104065, 1.0266838073730469, 0.8627270460128784, 0.16911591589450836, -0.653732180595398, -1.076290488243103, -0.8277748823165894, -0.07933816313743591, 0.6937346458435059, 1.0139355659484863, 0.7407847046852112, 0.04722515866160393, -0.631550133228302, -0.9341794848442078, -0.7236877679824829, -0.08439187705516815, 0.6223565340042114, 0.9727550148963928, 0.7481189370155334, 0.05162451043725014, -0.6424204707145691, -0.9391932487487793, -0.6532509326934814, 0.04749198257923126, 0.6413359642028809, 0.8225354552268982, 0.5054062008857727, -0.0419028215110302, -0.5190591812133789, -0.6398440003395081, -0.4354359209537506, -0.03457197546958923, 0.3626664876937866, 0.5691059231758118, 0.4339302182197571, 0.031195931136608124, -0.3703985810279846, -0.49090540409088135, -0.289090633392334, 0.04941442608833313, 0.32304316759109497, 0.2856033146381378, 0.14508335292339325, -0.04126283526420593, -0.1251363456249237, -0.09241724759340286, -0.03816768527030945, -0.03436291217803955, -0.04412977769970894, 0.0049363914877176285, 0.03881749510765076, 0.08755315840244293, 0.11715621501207352, 0.1076054647564888, 0.058068204671144485, -0.039795611053705215, -0.18769264221191406, -0.2715871036052704, -0.2154250591993332, 0.08171156048774719, 0.4093090891838074, 0.48377394676208496, 0.2056364119052887, -0.2305828183889389, -0.5403069257736206, -0.5146989822387695, -0.18170830607414246, 0.29304376244544983, 0.5723983645439148, 0.5737909078598022, 0.2139362394809723, -0.28661563992500305, -0.6527566909790039, -0.7138465642929077, -0.29097655415534973, 0.3296622931957245, 0.854406476020813, 0.8340342044830322, 0.23654679954051971, -0.49421223998069763, -0.9517204165458679, -0.8131157755851746, -0.1534818559885025, 0.5717369318008423, 0.9235961437225342, 0.7494950890541077, 0.15021216869354248, -0.5741625428199768, -0.9514302015304565, -0.8231788873672485, -0.15563714504241943, 0.6119083166122437, 1.0682711601257324, 0.8479152321815491, 0.06412447243928909, -0.7209845185279846, -1.0811773538589478, -0.7470391988754272, 0.050432510673999786, 0.7631292343139648, 0.9721788763999939, 0.5868956446647644, -0.09853174537420273, -0.6974011063575745, -0.869178831577301, -0.5523658394813538, 0.058477893471717834, 0.6223248243331909, 0.8984468579292297], 'attention_mask': [1, 1, 1, 1, 1, 1, 1, 1, 1, 1, 1, 1, 1, 1, 1, 1, 1, 1, 1, 1, 1, 1, 1, 1, 1, 1, 1, 1, 1, 1, 1, 1, 1, 1, 1, 1, 1, 1, 1, 1, 1, 1, 1, 1, 1, 1, 1, 1, 1, 1, 1, 1, 1, 1, 1, 1, 1, 1, 1, 1, 1, 1, 1, 1, 1, 1, 1, 1, 1, 1, 1, 1, 1, 1, 1, 1, 1, 1, 1, 1, 1, 1, 1, 1, 1, 1, 1, 1, 1, 1, 1, 1, 1, 1, 1, 1, 1, 1, 1, 1, 1, 1, 1, 1, 1, 1, 1, 1, 1, 1, 1, 1, 1, 1, 1, 1, 1, 1, 1, 1, 1, 1, 1, 1, 1, 1, 1, 1, 1, 1, 1, 1, 1, 1, 1, 1, 1, 1, 1, 1, 1, 1, 1, 1, 1, 1, 1, 1, 1, 1, 1, 1, 1, 1, 1, 1, 1, 1, 1, 1, 1, 1, 1, 1, 1, 1, 1, 1, 1, 1, 1, 1, 1, 1, 1, 1, 1, 1, 1, 1, 1, 1, 1, 1, 1, 1, 1, 1, 1, 1, 1, 1, 1, 1, 1, 1, 1, 1, 1, 1, 1, 1, 1, 1, 1, 1, 1, 1, 1, 1, 1, 1, 1, 1, 1, 1, 1, 1, 1, 1, 1, 1, 1, 1, 1, 1, 1, 1, 1, 1, 1, 1, 1, 1, 1, 1, 1, 1, 1, 1, 1, 1, 1, 1, 1, 1, 1, 1, 1, 1, 1, 1, 1, 1, 1, 1, 1, 1, 1, 1, 1, 1, 1, 1, 1, 1, 1, 1, 1, 1, 1, 1, 1, 1, 1, 1, 1, 1, 1, 1, 1, 1, 1, 1, 1, 1, 1, 1, 1, 1, 1, 1, 1, 1, 1, 1, 1, 1, 1, 1, 1, 1, 1, 1, 1, 1, 1, 1, 1, 1, 1, 1, 1, 1, 1, 1, 1, 1, 1, 1, 1, 1, 1, 1, 1, 1, 1, 1, 1, 1, 1, 1, 1, 1, 1, 1, 1, 1, 1, 1, 1, 1, 1, 1, 1, 1, 1, 1, 1, 1, 1, 1, 1, 1, 1, 1, 1, 1, 1, 1, 1, 1, 1, 1, 1, 1, 1, 1, 1, 1, 1, 1, 1, 1, 1, 1, 1, 1, 1, 1, 1, 1, 1, 1, 1, 1, 1, 1, 1, 1, 1, 1, 1, 1, 1, 1, 1, 1, 1, 1, 1, 1, 1, 1, 1, 1, 1, 1, 1, 1, 1, 1, 1, 1, 1, 1, 1, 1, 1, 1, 1, 1, 1, 1, 1, 1, 1, 1, 1, 1, 1, 1, 1, 1, 1, 1, 1, 1, 1, 1, 1, 1, 1, 1, 1, 1, 1, 1, 1, 1, 1, 1, 1, 1, 1, 1, 1, 1, 1, 1, 1, 1, 1, 1, 1, 1, 1, 1, 1, 1, 1, 1, 1, 1, 1, 1, 1, 1, 1, 1, 1, 1, 1, 1, 1, 1, 1, 1, 1, 1, 1, 1, 1, 1, 1, 1, 1, 1, 1, 1, 1, 1, 1, 1, 1, 1, 1, 1, 1, 1, 1, 1, 1, 1, 1, 1, 1, 1, 1, 1, 1, 1, 1, 1, 1, 1, 1, 1, 1, 1, 1, 1, 1, 1, 1, 1, 1, 1, 1, 1, 1, 1, 1, 1, 1, 1, 1, 1, 1, 1, 1, 1, 1, 1, 1, 1, 1, 1, 1, 1, 1, 1, 1, 1, 1, 1, 1, 1, 1, 1, 1, 1, 1, 1, 1, 1, 1, 1, 1, 1, 1, 1, 1, 1, 1, 1, 1, 1, 1, 1, 1, 1, 1, 1, 1, 1, 1, 1, 1, 1, 1, 1, 1, 1, 1, 1, 1, 1, 1, 1, 1, 1, 1, 1, 1, 1, 1, 1, 1, 1, 1, 1, 1, 1, 1, 1, 1, 1, 1, 1, 1, 1, 1, 1, 1, 1, 1, 1, 1, 1, 1, 1, 1, 1, 1, 1, 1, 1, 1, 1, 1, 1, 1, 1, 1, 1, 1, 1, 1, 1, 1, 1, 1, 1, 1, 1, 1, 1, 1, 1, 1, 1, 1, 1, 1, 1, 1, 1, 1, 1, 1, 1, 1, 1, 1, 1, 1, 1, 1, 1, 1, 1, 1, 1, 1, 1, 1, 1, 1, 1, 1, 1, 1, 1, 1, 1, 1, 1, 1, 1, 1, 1, 1, 1, 1, 1, 1, 1, 1, 1, 1, 1, 1, 1, 1, 1, 1, 1, 1, 1, 1, 1, 1, 1, 1, 1, 1, 1, 1, 1, 1, 1, 1, 1, 1, 1, 1, 1, 1, 1, 1, 1, 1, 1, 1, 1, 1, 1, 1, 1, 1, 1, 1, 1, 1, 1, 1, 1, 1, 1, 1, 1, 1, 1, 1, 1, 1, 1, 1, 1, 1, 1, 1, 1, 1, 1, 1, 1, 1, 1, 1, 1, 1, 1, 1, 1, 1, 1, 1, 1, 1, 1, 1, 1, 1, 1, 1, 1, 1, 1, 1, 1, 1, 1, 1, 1, 1, 1, 1, 1, 1, 1, 1, 1, 1, 1, 1, 1, 1, 1, 1, 1, 1, 1, 1, 1, 1, 1, 1, 1, 1, 1, 1, 1, 1, 1, 1, 1, 1, 1, 1, 1, 1, 1, 1, 1, 1, 1, 1, 1, 1, 1, 1, 1, 1, 1, 1, 1, 1, 1, 1, 1, 1, 1, 1, 1, 1, 1, 1, 1, 1, 1, 1, 1, 1, 1, 1, 1, 1, 1, 1, 1, 1, 1, 1, 1, 1, 1, 1, 1, 1, 1, 1, 1, 1, 1, 1, 1, 1, 1, 1, 1, 1, 1, 1, 1, 1, 1, 1, 1, 1, 1, 1, 1, 1, 1, 1, 1, 1, 1, 1, 1, 1, 1, 1, 1, 1, 1, 1, 1, 1, 1, 1, 1, 1, 1, 1, 1, 1, 1, 1, 1, 1, 1, 1, 1, 1, 1, 1, 1, 1, 1, 1, 1, 1, 1, 1, 1, 1, 1, 1, 1, 1, 1, 1, 1, 1, 1, 1, 1, 1, 1, 1, 1, 1, 1, 1, 1, 1, 1, 1, 1, 1, 1, 1, 1, 1, 1, 1, 1, 1, 1, 1, 1, 1, 1, 1, 1, 1, 1, 1, 1, 1, 1, 1, 1, 1, 1, 1, 1, 1, 1, 1, 1, 1, 1, 1, 1, 1, 1, 1, 1, 1, 1, 1, 1, 1, 1, 1, 1, 1, 1, 1, 1, 1, 1, 1, 1, 1, 1, 1, 1, 1, 1, 1, 1, 1, 1, 1, 1, 1, 1, 1, 1, 1, 1, 1, 1, 1, 1, 1, 1, 1, 1, 1, 1, 1, 1, 1, 1, 1, 1, 1, 1, 1, 1, 1, 1, 1, 1, 1, 1, 1, 1, 1, 1, 1, 1, 1, 1, 1, 1, 1, 1, 1, 1, 1, 1, 1, 1, 1, 1, 1, 1, 1, 1, 1, 1, 1, 1, 1, 1, 1, 1, 1, 1, 1, 1, 1, 1, 1, 1, 1, 1, 1, 1, 1, 1, 1, 1, 1, 1, 1, 1, 1, 1, 1, 1, 1, 1, 1, 1, 1, 1, 1, 1, 1, 1, 1, 1, 1, 1, 1, 1, 1, 1, 1, 1, 1, 1, 1, 1, 1, 1, 1, 1, 1, 1, 1, 1, 1, 1, 1, 1, 1, 1, 1, 1, 1, 1, 1, 1, 1, 1, 1, 1, 1, 1, 1, 1, 1, 1, 1, 1, 1, 1, 1, 1, 1, 1, 1, 1, 1, 1, 1, 1, 1, 1, 1, 1, 1, 1, 1, 1, 1, 1, 1, 1, 1, 1, 1, 1, 1, 1, 1, 1, 1, 1, 1, 1, 1, 1, 1, 1, 1, 1, 1, 1, 1, 1, 1, 1, 1, 1, 1, 1, 1, 1, 1, 1, 1, 1, 1, 1, 1, 1, 1, 1, 1, 1, 1, 1, 1, 1, 1, 1, 1, 1, 1, 1, 1, 1, 1, 1, 1, 1, 1, 1, 1, 1, 1, 1, 1, 1, 1, 1, 1, 1, 1, 1, 1, 1, 1, 1, 1, 1, 1, 1, 1, 1, 1, 1, 1, 1, 1, 1, 1, 1, 1, 1, 1, 1, 1, 1, 1, 1, 1, 1, 1, 1, 1, 1, 1, 1, 1, 1, 1, 1, 1, 1, 1, 1, 1, 1, 1, 1, 1, 1, 1, 1, 1, 1, 1, 1, 1, 1, 1, 1, 1, 1, 1, 1, 1, 1, 1, 1, 1, 1, 1, 1, 1, 1, 1, 1, 1, 1, 1, 1, 1, 1, 1, 1, 1, 1, 1, 1, 1, 1, 1, 1, 1, 1, 1, 1, 1, 1, 1, 1, 1, 1, 1, 1, 1, 1, 1, 1, 1, 1, 1, 1, 1, 1, 1, 1, 1, 1, 1, 1, 1, 1, 1, 1, 1, 1, 1, 1, 1, 1, 1, 1, 1, 1, 1, 1, 1, 1, 1, 1, 1, 1, 1, 1, 1, 1, 1, 1, 1, 1, 1, 1, 1, 1, 1, 1, 1, 1, 1, 1, 1, 1, 1, 1, 1, 1, 1, 1, 1, 1, 1, 1, 1, 1, 1, 1, 1, 1, 1, 1, 1, 1, 1, 1, 1, 1, 1, 1, 1, 1, 1, 1, 1, 1, 1, 1, 1, 1, 1, 1, 1, 1, 1, 1, 1, 1, 1, 1, 1, 1, 1, 1, 1, 1, 1, 1, 1, 1, 1, 1, 1, 1, 1, 1, 1, 1, 1, 1, 1, 1, 1, 1, 1, 1, 1, 1, 1, 1, 1, 1, 1, 1, 1, 1, 1, 1, 1, 1, 1, 1, 1, 1, 1, 1, 1, 1, 1, 1, 1, 1, 1, 1, 1, 1, 1, 1, 1, 1, 1, 1, 1, 1, 1, 1, 1, 1, 1, 1, 1, 1, 1, 1, 1, 1, 1, 1, 1, 1, 1, 1, 1, 1, 1, 1, 1, 1, 1, 1, 1, 1, 1, 1, 1, 1, 1, 1, 1, 1, 1, 1, 1, 1, 1, 1, 1, 1, 1, 1, 1, 1, 1, 1, 1, 1, 1, 1, 1, 1, 1, 1, 1, 1, 1, 1, 1, 1, 1, 1, 1, 1, 1, 1, 1, 1, 1, 1, 1, 1, 1, 1, 1, 1, 1, 1, 1, 1, 1, 1, 1, 1, 1, 1, 1, 1, 1, 1, 1, 1, 1, 1, 1, 1, 1, 1, 1, 1, 1, 1, 1, 1, 1, 1, 1, 1, 1, 1, 1, 1, 1, 1, 1, 1, 1, 1, 1, 1, 1, 1, 1, 1, 1, 1, 1, 1, 1, 1, 1, 1, 1, 1, 1, 1, 1, 1, 1, 1, 1, 1, 1, 1, 1, 1, 1, 1, 1, 1, 1, 1, 1, 1, 1, 1, 1, 1, 1, 1, 1, 1, 1, 1, 1, 1, 1, 1, 1, 1, 1, 1, 1, 1, 1, 1, 1, 1, 1, 1, 1, 1, 1, 1, 1, 1, 1, 1, 1, 1, 1, 1, 1, 1, 1, 1, 1, 1, 1, 1, 1, 1, 1, 1, 1, 1, 1, 1, 1, 1, 1, 1, 1, 1, 1, 1, 1, 1, 1, 1, 1, 1, 1, 1, 1, 1, 1, 1, 1, 1, 1, 1, 1, 1, 1, 1, 1, 1, 1, 1, 1, 1, 1, 1, 1, 1, 1, 1, 1, 1, 1, 1, 1, 1, 1, 1, 1, 1, 1, 1, 1, 1, 1, 1, 1, 1, 1, 1, 1, 1, 1, 1, 1, 1, 1, 1, 1, 1, 1, 1, 1, 1, 1, 1, 1, 1, 1, 1, 1, 1, 1, 1, 1, 1, 1, 1, 1, 1, 1, 1, 1, 1, 1, 1, 1, 1, 1, 1, 1, 1, 1, 1, 1, 1, 1, 1, 1, 1, 1, 1, 1, 1, 1, 1, 1, 1, 1, 1, 1, 1, 1, 1, 1, 1, 1, 1, 1, 1, 1, 1, 1, 1, 1, 1, 1, 1, 1, 1, 1, 1, 1, 1, 1, 1, 1, 1, 1, 1, 1, 1, 1, 1, 1, 1, 1, 1, 1, 1, 1, 1, 1, 1, 1, 1, 1, 1, 1, 1, 1, 1, 1, 1, 1, 1, 1, 1, 1, 1, 1, 1, 1, 1, 1, 1, 1, 1, 1, 1, 1, 1, 1, 1, 1, 1, 1, 1, 1, 1, 1, 1, 1, 1, 1, 1, 1, 1, 1, 1, 1, 1, 1, 1, 1, 1, 1, 1, 1, 1, 1, 1, 1, 1, 1, 1, 1, 1, 1, 1, 1, 1, 1, 1, 1, 1, 1, 1, 1, 1, 1, 1, 1, 1, 1, 1, 1, 1, 1, 1, 1, 1, 1, 1, 1, 1, 1, 1, 1, 1, 1, 1, 1, 1, 1, 1, 1, 1, 1, 1, 1, 1, 1, 1, 1, 1, 1, 1, 1, 1, 1, 1, 1, 1, 1, 1, 1, 1, 1, 1, 1, 1, 1, 1, 1, 1, 1, 1, 1, 1, 1, 1, 1, 1, 1, 1, 1, 1, 1, 1, 1, 1, 1, 1, 1, 1, 1, 1, 1, 1, 1, 1, 1, 1, 1, 1, 1, 1, 1, 1, 1, 1, 1, 1, 1, 1, 1, 1, 1, 1, 1, 1, 1, 1, 1, 1, 1, 1, 1, 1, 1, 1, 1, 1, 1, 1, 1, 1, 1, 1, 1, 1, 1, 1, 1, 1, 1, 1, 1, 1, 1, 1, 1, 1, 1, 1, 1, 1, 1, 1, 1, 1, 1, 1, 1, 1, 1, 1, 1, 1, 1, 1, 1, 1, 1, 1, 1, 1, 1, 1, 1, 1, 1, 1, 1, 1, 1, 1, 1, 1, 1, 1, 1, 1, 1, 1, 1, 1, 1, 1, 1, 1, 1, 1, 1, 1, 1, 1, 1, 1, 1, 1, 1, 1, 1, 1, 1, 1, 1, 1, 1, 1, 1, 1, 1, 1, 1, 1, 1, 1, 1, 1, 1, 1, 1, 1, 1, 1, 1, 1, 1, 1, 1, 1, 1, 1, 1, 1, 1, 1, 1, 1, 1, 1, 1, 1, 1, 1, 1, 1, 1, 1, 1, 1, 1, 1, 1, 1, 1, 1, 1, 1, 1, 1, 1, 1, 1, 1, 1, 1, 1, 1, 1, 1, 1, 1, 1, 1, 1, 1, 1, 1, 1, 1, 1, 1, 1, 1, 1, 1, 1, 1, 1, 1, 1, 1, 1, 1, 1, 1, 1, 1, 1, 1, 1, 1, 1, 1, 1, 1, 1, 1, 1, 1, 1, 1, 1, 1, 1, 1, 1, 1, 1, 1, 1, 1, 1, 1, 1, 1, 1, 1, 1, 1, 1, 1, 1, 1, 1, 1, 1, 1, 1, 1, 1, 1, 1, 1, 1, 1, 1, 1, 1, 1, 1, 1, 1, 1, 1, 1, 1, 1, 1, 1, 1, 1, 1, 1, 1, 1, 1, 1, 1, 1, 1, 1, 1, 1, 1, 1, 1, 1, 1, 1, 1, 1, 1, 1, 1, 1, 1, 1, 1, 1, 1, 1, 1, 1, 1, 1, 1, 1, 1, 1, 1, 1, 1, 1, 1, 1, 1, 1, 1, 1, 1, 1, 1, 1, 1, 1, 1, 1, 1, 1, 1, 1, 1, 1, 1, 1, 1, 1, 1, 1, 1, 1, 1, 1, 1, 1, 1, 1, 1, 1, 1, 1, 1, 1, 1, 1, 1, 1, 1, 1, 1, 1, 1, 1, 1, 1, 1, 1, 1, 1, 1, 1, 1, 1, 1, 1, 1, 1, 1, 1, 1, 1, 1, 1, 1, 1, 1, 1, 1, 1, 1, 1, 1, 1, 1, 1, 1, 1, 1, 1, 1, 1, 1, 1, 1, 1, 1, 1, 1, 1, 1, 1, 1, 1, 1, 1, 1, 1, 1, 1, 1, 1, 1, 1, 1, 1, 1, 1, 1, 1, 1, 1, 1, 1, 1, 1, 1, 1, 1, 1, 1, 1, 1, 1, 1, 1, 1, 1, 1, 1, 1, 1, 1, 1, 1, 1, 1, 1, 1, 1, 1, 1, 1, 1, 1, 1, 1, 1, 1, 1, 1, 1, 1, 1, 1, 1, 1, 1, 1, 1, 1, 1, 1, 1, 1, 1, 1, 1, 1, 1, 1, 1, 1, 1, 1, 1, 1, 1, 1, 1, 1, 1, 1, 1, 1, 1, 1, 1, 1, 1, 1, 1, 1, 1, 1, 1, 1, 1, 1, 1, 1, 1, 1, 1, 1, 1, 1, 1, 1, 1, 1, 1, 1, 1, 1, 1, 1, 1, 1, 1, 1, 1, 1, 1, 1, 1, 1, 1, 1, 1, 1, 1, 1, 1, 1, 1, 1, 1, 1, 1, 1, 1, 1, 1, 1, 1, 1, 1, 1, 1, 1, 1, 1, 1, 1, 1, 1, 1, 1, 1, 1, 1, 1, 1, 1, 1, 1, 1, 1, 1, 1, 1, 1, 1, 1, 1, 1, 1, 1, 1, 1, 1, 1, 1, 1, 1, 1, 1, 1, 1, 1, 1, 1, 1, 1, 1, 1, 1, 1, 1, 1, 1, 1, 1, 1, 1, 1, 1, 1, 1, 1, 1, 1, 1, 1, 1, 1, 1, 1, 1, 1, 1, 1, 1, 1, 1, 1, 1, 1, 1, 1, 1, 1, 1, 1, 1, 1, 1, 1, 1, 1, 1, 1, 1, 1, 1, 1, 1, 1, 1, 1, 1, 1, 1, 1, 1, 1, 1, 1, 1, 1, 1, 1, 1, 1, 1, 1, 1, 1, 1, 1, 1, 1, 1, 1, 1, 1, 1, 1, 1, 1, 1, 1, 1, 1, 1, 1, 1, 1, 1, 1, 1, 1, 1, 1, 1, 1, 1, 1, 1, 1, 1, 1, 1, 1, 1, 1, 1, 1, 1, 1, 1, 1, 1, 1, 1, 1, 1, 1, 1, 1, 1, 1, 1, 1, 1, 1, 1, 1, 1, 1, 1, 1, 1, 1, 1, 1, 1, 1, 1, 1, 1, 1, 1, 1, 1, 1, 1, 1, 1, 1, 1, 1, 1, 1, 1, 1, 1, 1, 1, 1, 1, 1, 1, 1, 1, 1, 1, 1, 1, 1, 1, 1, 1, 1, 1, 1, 1, 1, 1, 1, 1, 1, 1, 1, 1, 1, 1, 1, 1, 1, 1, 1, 1, 1, 1, 1, 1, 1, 1, 1, 1, 1, 1, 1, 1, 1, 1, 1, 1, 1, 1, 1, 1, 1, 1, 1, 1, 1, 1, 1, 1, 1, 1, 1, 1, 1, 1, 1, 1, 1, 1, 1, 1, 1, 1, 1, 1, 1, 1, 1, 1, 1, 1, 1, 1, 1, 1, 1, 1, 1, 1, 1, 1, 1, 1, 1, 1, 1, 1, 1, 1, 1, 1, 1, 1, 1, 1, 1, 1, 1, 1, 1, 1, 1, 1, 1, 1, 1, 1, 1, 1, 1, 1, 1, 1, 1, 1, 1, 1, 1, 1, 1, 1, 1, 1, 1, 1, 1, 1, 1, 1, 1, 1, 1, 1, 1, 1, 1, 1, 1, 1, 1, 1, 1, 1, 1, 1, 1, 1, 1, 1, 1, 1, 1, 1, 1, 1, 1, 1, 1, 1, 1, 1, 1, 1, 1, 1, 1, 1, 1, 1, 1, 1, 1, 1, 1, 1, 1, 1, 1, 1, 1, 1, 1, 1, 1, 1, 1, 1, 1, 1, 1, 1, 1, 1, 1, 1, 1, 1, 1, 1, 1, 1, 1, 1, 1, 1, 1, 1, 1, 1, 1, 1, 1, 1, 1, 1, 1, 1, 1, 1, 1, 1, 1, 1, 1, 1, 1, 1, 1, 1, 1, 1, 1, 1, 1, 1, 1, 1, 1, 1, 1, 1, 1, 1, 1, 1, 1, 1, 1, 1, 1, 1, 1, 1, 1, 1, 1, 1, 1, 1, 1, 1, 1, 1, 1, 1, 1, 1, 1, 1, 1, 1, 1, 1, 1, 1, 1, 1, 1, 1, 1, 1, 1, 1, 1, 1, 1, 1, 1, 1, 1, 1, 1, 1, 1, 1, 1, 1, 1, 1, 1, 1, 1, 1, 1, 1, 1, 1, 1, 1, 1, 1, 1, 1, 1, 1, 1, 1, 1, 1, 1, 1, 1, 1, 1, 1, 1, 1, 1, 1, 1, 1, 1, 1, 1, 1, 1, 1, 1, 1, 1, 1, 1, 1, 1, 1, 1, 1, 1, 1, 1, 1, 1, 1, 1, 1, 1, 1, 1, 1, 1, 1, 1, 1, 1, 1, 1, 1, 1, 1, 1, 1, 1, 1, 1, 1, 1, 1, 1, 1, 1, 1, 1, 1, 1, 1, 1, 1, 1, 1, 1, 1, 1, 1, 1, 1, 1, 1, 1, 1, 1, 1, 1, 1, 1, 1, 1, 1, 1, 1, 1, 1, 1, 1, 1, 1, 1, 1, 1, 1, 1, 1, 1, 1, 1, 1, 1, 1, 1, 1, 1, 1, 1, 1, 1, 1, 1, 1, 1, 1, 1, 1, 1, 1, 1, 1, 1, 1, 1, 1, 1, 1, 1, 1, 1, 1, 1, 1, 1, 1, 1, 1, 1, 1, 1, 1, 1, 1, 1, 1, 1, 1, 1, 1, 1, 1, 1, 1, 1, 1, 1, 1, 1, 1, 1, 1, 1, 1, 1, 1, 1, 1, 1, 1, 1, 1, 1, 1, 1, 1, 1, 1, 1, 1, 1, 1, 1, 1, 1, 1, 1, 1, 1, 1, 1, 1, 1, 1, 1, 1, 1, 1, 1, 1, 1, 1, 1, 1, 1, 1, 1, 1, 1, 1, 1, 1, 1, 1, 1, 1, 1, 1, 1, 1, 1, 1, 1, 1, 1, 1, 1, 1, 1, 1, 1, 1, 1, 1, 1, 1, 1, 1, 1, 1, 1, 1, 1, 1, 1, 1, 1, 1, 1, 1, 1, 1, 1, 1, 1, 1, 1, 1, 1, 1, 1, 1, 1, 1, 1, 1, 1, 1, 1, 1, 1, 1, 1, 1, 1, 1, 1, 1, 1, 1, 1, 1, 1, 1, 1, 1, 1, 1, 1, 1, 1, 1, 1, 1, 1, 1, 1, 1, 1, 1, 1, 1, 1, 1, 1, 1, 1, 1, 1, 1, 1, 1, 1, 1, 1, 1, 1, 1, 1, 1, 1, 1, 1, 1, 1, 1, 1, 1, 1, 1, 1, 1, 1, 1, 1, 1, 1, 1, 1, 1, 1, 1, 1, 1, 1, 1, 1, 1, 1, 1, 1, 1, 1, 1, 1, 1, 1, 1, 1, 1, 1, 1, 1, 1, 1, 1, 1, 1, 1, 1, 1, 1, 1, 1, 1, 1, 1, 1, 1, 1, 1, 1, 1, 1, 1, 1, 1, 1, 1, 1, 1, 1, 1, 1, 1, 1, 1, 1, 1, 1, 1, 1, 1, 1, 1, 1, 1, 1, 1, 1, 1, 1, 1, 1, 1, 1, 1, 1, 1, 1, 1, 1, 1, 1, 1, 1, 1, 1, 1, 1, 1, 1, 1, 1, 1, 1, 1, 1, 1, 1, 1, 1, 1, 1, 1, 1, 1, 1, 1, 1, 1, 1, 1, 1, 1, 1, 1, 1, 1, 1, 1, 1, 1, 1, 1, 1, 1, 1, 1, 1, 1, 1, 1, 1, 1, 1, 1, 1, 1, 1, 1, 1, 1, 1, 1, 1, 1, 1, 1, 1, 1, 1, 1, 1, 1, 1, 1, 1, 1, 1, 1, 1, 1, 1, 1, 1, 1, 1, 1, 1, 1, 1, 1, 1, 1, 1, 1, 1, 1, 1, 1, 1, 1, 1, 1, 1, 1, 1, 1, 1, 1, 1, 1, 1, 1, 1, 1, 1, 1, 1, 1, 1, 1, 1, 1, 1, 1, 1, 1, 1, 1, 1, 1, 1, 1, 1, 1, 1, 1, 1, 1, 1, 1, 1, 1, 1, 1, 1, 1, 1, 1, 1, 1, 1, 1, 1, 1, 1, 1, 1, 1, 1, 1, 1, 1, 1, 1, 1, 1, 1, 1, 1, 1, 1, 1, 1, 1, 1, 1, 1, 1, 1, 1, 1, 1, 1, 1, 1, 1, 1, 1, 1, 1, 1, 1, 1, 1, 1, 1, 1, 1, 1, 1, 1, 1, 1, 1, 1, 1, 1, 1, 1, 1, 1, 1, 1, 1, 1, 1, 1, 1, 1, 1, 1, 1, 1, 1, 1, 1, 1, 1, 1, 1, 1, 1, 1, 1, 1, 1, 1, 1, 1, 1, 1, 1, 1, 1, 1, 1, 1, 1, 1, 1, 1, 1, 1, 1, 1, 1, 1, 1, 1, 1, 1, 1, 1, 1, 1, 1, 1, 1, 1, 1, 1, 1, 1, 1, 1, 1, 1, 1, 1, 1, 1, 1, 1, 1, 1, 1, 1, 1, 1, 1, 1, 1, 1, 1, 1, 1, 1, 1, 1, 1, 1, 1, 1, 1, 1, 1, 1, 1, 1, 1, 1, 1, 1, 1, 1, 1, 1, 1, 1, 1, 1, 1, 1, 1, 1, 1, 1, 1, 1, 1, 1, 1, 1, 1, 1, 1, 1, 1, 1, 1, 1, 1, 1, 1, 1, 1, 1, 1, 1, 1, 1, 1, 1, 1, 1, 1, 1, 1, 1, 1, 1, 1, 1, 1, 1, 1, 1, 1, 1, 1, 1, 1, 1, 1, 1, 1, 1, 1, 1, 1, 1, 1, 1, 1, 1, 1, 1, 1, 1, 1, 1, 1, 1, 1, 1, 1, 1, 1, 1, 1, 1, 1, 1, 1, 1, 1, 1, 1, 1, 1, 1, 1, 1, 1, 1, 1, 1, 1, 1, 1, 1, 1, 1, 1, 1, 1, 1, 1, 1, 1, 1, 1, 1, 1, 1, 1, 1, 1, 1, 1, 1, 1, 1, 1, 1, 1, 1, 1, 1, 1, 1, 1, 1, 1, 1, 1, 1, 1, 1, 1, 1, 1, 1, 1, 1, 1, 1, 1, 1, 1, 1, 1, 1, 1, 1, 1, 1, 1, 1, 1, 1, 1, 1, 1, 1, 1, 1, 1, 1, 1, 1, 1, 1, 1, 1, 1, 1, 1, 1, 1, 1, 1, 1, 1, 1, 1, 1, 1, 1, 1, 1, 1, 1, 1, 1, 1, 1, 1, 1, 1, 1, 1, 1, 1, 1, 1, 1, 1, 1, 1, 1, 1, 1, 1, 1, 1, 1, 1, 1, 1, 1, 1, 1, 1, 1, 1, 1, 1, 1, 1, 1, 1, 1, 1, 1, 1, 1, 1, 1, 1, 1, 1, 1, 1, 1, 1, 1, 1, 1, 1, 1, 1, 1, 1, 1, 1, 1, 1, 1, 1, 1, 1, 1, 1, 1, 1, 1, 1, 1, 1, 1, 1, 1, 1, 1, 1, 1, 1, 1, 1, 1, 1, 1, 1, 1, 1, 1, 1, 1, 1, 1, 1, 1, 1, 1, 1, 1, 1, 1, 1, 1, 1, 1, 1, 1, 1, 1, 1, 1, 1, 1, 1, 1, 1, 1, 1, 1, 1, 1, 1, 1, 1, 1, 1, 1, 1, 1, 1, 1, 1, 1, 1, 1, 1, 1, 1, 1, 1, 1, 1, 1, 1, 1, 1, 1, 1, 1, 1, 1, 1, 1, 1, 1, 1, 1, 1, 1, 1, 1, 1, 1, 1, 1, 1, 1, 1, 1, 1, 1, 1, 1, 1, 1, 1, 1, 1, 1, 1, 1, 1, 1, 1, 1, 1, 1, 1, 1, 1, 1, 1, 1, 1, 1, 1, 1, 1, 1, 1, 1, 1, 1, 1, 1, 1, 1, 1, 1, 1, 1, 1, 1, 1, 1, 1, 1, 1, 1, 1, 1, 1, 1, 1, 1, 1, 1, 1, 1, 1, 1, 1, 1, 1, 1, 1, 1, 1, 1, 1, 1, 1, 1, 1, 1, 1, 1, 1, 1, 1, 1, 1, 1, 1, 1, 1, 1, 1, 1, 1, 1, 1, 1, 1, 1, 1, 1, 1, 1, 1, 1, 1, 1, 1, 1, 1, 1, 1, 1, 1, 1, 1, 1, 1, 1, 1, 1, 1, 1, 1, 1, 1, 1, 1, 1, 1, 1, 1, 1, 1, 1, 1, 1, 1, 1, 1, 1, 1, 1, 1, 1, 1, 1, 1, 1, 1, 1, 1, 1, 1, 1, 1, 1, 1, 1, 1, 1, 1, 1, 1, 1, 1, 1, 1, 1, 1, 1, 1, 1, 1, 1, 1, 1, 1, 1, 1, 1, 1, 1, 1, 1, 1, 1, 1, 1, 1, 1, 1, 1, 1, 1, 1, 1, 1, 1, 1, 1, 1, 1, 1, 1, 1, 1, 1, 1, 1, 1, 1, 1, 1, 1, 1, 1, 1, 1, 1, 1, 1, 1, 1, 1, 1, 1, 1, 1, 1, 1, 1, 1, 1, 1, 1, 1, 1, 1, 1, 1, 1, 1, 1, 1, 1, 1, 1, 1, 1, 1, 1, 1, 1, 1, 1, 1, 1, 1, 1, 1, 1, 1, 1, 1, 1, 1, 1, 1, 1, 1, 1, 1, 1, 1, 1, 1, 1, 1, 1, 1, 1, 1, 1, 1, 1, 1, 1, 1, 1, 1, 1, 1, 1, 1, 1, 1, 1, 1, 1, 1, 1, 1, 1, 1, 1, 1, 1, 1, 1, 1, 1, 1, 1, 1, 1, 1, 1, 1, 1, 1, 1, 1, 1, 1, 1, 1, 1, 1, 1, 1, 1, 1, 1, 1, 1, 1, 1, 1, 1, 1, 1, 1, 1, 1, 1, 1, 1, 1, 1, 1, 1, 1, 1, 1, 1, 1, 1, 1, 1, 1, 1, 1, 1, 1, 1, 1, 1, 1, 1, 1, 1, 1, 1, 1, 1, 1, 1, 1, 1, 1, 1, 1, 1, 1, 1, 1, 1, 1, 1, 1, 1, 1, 1, 1, 1, 1, 1, 1, 1, 1, 1, 1, 1, 1, 1, 1, 1, 1, 1, 1, 1, 1, 1, 1, 1, 1, 1, 1, 1, 1, 1, 1, 1, 1, 1, 1, 1, 1, 1, 1, 1, 1, 1, 1, 1, 1, 1, 1, 1, 1, 1, 1, 1, 1, 1, 1, 1, 1, 1, 1, 1, 1, 1, 1, 1, 1, 1, 1, 1, 1, 1, 1, 1, 1, 1, 1, 1, 1, 1, 1, 1, 1, 1, 1, 1, 1, 1, 1, 1, 1, 1, 1, 1, 1, 1, 1, 1, 1, 1, 1, 1, 1, 1, 1, 1, 1, 1, 1, 1, 1, 1, 1, 1, 1, 1, 1, 1, 1, 1, 1, 1, 1, 1, 1, 1, 1, 1, 1, 1, 1, 1, 1, 1, 1, 1, 1, 1, 1, 1, 1, 1, 1, 1, 1, 1, 1, 1, 1, 1, 1, 1, 1, 1, 1, 1, 1, 1, 1, 1, 1, 1, 1, 1, 1, 1, 1, 1, 1, 1, 1, 1, 1, 1, 1, 1, 1, 1, 1, 1, 1, 1, 1, 1, 1, 1, 1, 1, 1, 1, 1, 1, 1, 1, 1, 1, 1, 1, 1, 1, 1, 1, 1, 1, 1, 1, 1, 1, 1, 1, 1, 1, 1, 1, 1, 1, 1, 1, 1, 1, 1, 1, 1, 1, 1, 1, 1, 1, 1, 1, 1, 1, 1, 1, 1, 1, 1, 1, 1, 1, 1, 1, 1, 1, 1, 1, 1, 1, 1, 1, 1, 1, 1, 1, 1, 1, 1, 1, 1, 1, 1, 1, 1, 1, 1, 1, 1, 1, 1, 1, 1, 1, 1, 1, 1, 1, 1, 1, 1, 1, 1, 1, 1, 1, 1, 1, 1, 1, 1, 1, 1, 1, 1, 1, 1, 1, 1, 1, 1, 1, 1, 1, 1, 1, 1, 1, 1, 1, 1, 1, 1, 1, 1, 1, 1, 1, 1, 1, 1, 1, 1, 1, 1, 1, 1, 1, 1, 1, 1, 1, 1, 1, 1, 1, 1, 1, 1, 1, 1, 1, 1, 1, 1, 1, 1, 1, 1, 1, 1, 1, 1, 1, 1, 1, 1, 1, 1, 1, 1, 1, 1, 1, 1, 1, 1, 1, 1, 1, 1, 1, 1, 1, 1, 1, 1, 1, 1, 1, 1, 1, 1, 1, 1, 1, 1, 1, 1, 1, 1, 1, 1, 1, 1, 1, 1, 1, 1, 1, 1, 1, 1, 1, 1, 1, 1, 1, 1, 1, 1, 1, 1, 1, 1, 1, 1, 1, 1, 1, 1, 1, 1, 1, 1, 1, 1, 1, 1, 1, 1, 1, 1, 1, 1, 1, 1, 1, 1, 1, 1, 1, 1, 1, 1, 1, 1, 1, 1, 1, 1, 1, 1, 1, 1, 1, 1, 1, 1, 1, 1, 1, 1, 1, 1, 1, 1, 1, 1, 1, 1, 1, 1, 1, 1, 1, 1, 1, 1, 1, 1, 1, 1, 1, 1, 1, 1, 1, 1, 1, 1, 1, 1, 1, 1, 1, 1, 1, 1, 1, 1, 1, 1, 1, 1, 1, 1, 1, 1, 1, 1, 1, 1, 1, 1, 1, 1, 1, 1, 1, 1, 1, 1, 1, 1, 1, 1, 1, 1, 1, 1, 1, 1, 1, 1, 1, 1, 1, 1, 1, 1, 1, 1, 1, 1, 1, 1, 1, 1, 1, 1, 1, 1, 1, 1, 1, 1, 1, 1, 1, 1, 1, 1, 1, 1, 1, 1, 1, 1, 1, 1, 1, 1, 1, 1, 1, 1, 1, 1, 1, 1, 1, 1, 1, 1, 1, 1, 1, 1, 1, 1, 1, 1, 1, 1, 1, 1, 1, 1, 1, 1, 1, 1, 1, 1, 1, 1, 1, 1, 1, 1, 1, 1, 1, 1, 1, 1, 1, 1, 1, 1, 1, 1, 1, 1, 1, 1, 1, 1, 1, 1, 1, 1, 1, 1, 1, 1, 1, 1, 1, 1, 1, 1, 1, 1, 1, 1, 1, 1, 1, 1, 1, 1, 1, 1, 1, 1, 1, 1, 1, 1, 1, 1, 1, 1, 1, 1, 1, 1, 1, 1, 1, 1, 1, 1, 1, 1, 1, 1, 1, 1, 1, 1, 1, 1, 1, 1, 1, 1, 1, 1, 1, 1, 1, 1, 1, 1, 1, 1, 1, 1, 1, 1, 1, 1, 1, 1, 1, 1, 1, 1, 1, 1, 1, 1, 1, 1, 1, 1, 1, 1, 1, 1, 1, 1, 1, 1, 1, 1, 1, 1, 1, 1, 1, 1, 1, 1, 1, 1, 1, 1, 1, 1, 1, 1, 1, 1, 1, 1, 1, 1, 1, 1, 1, 1, 1, 1, 1, 1, 1, 1, 1, 1, 1, 1, 1, 1, 1, 1, 1, 1, 1, 1, 1, 1, 1, 1, 1, 1, 1, 1, 1, 1, 1, 1, 1, 1, 1, 1, 1, 1, 1, 1, 1, 1, 1, 1, 1, 1, 1, 1, 1, 1, 1, 1, 1, 1, 1, 1, 1, 1, 1, 1, 1, 1, 1, 1, 1, 1, 1, 1, 1, 1, 1, 1, 1, 1, 1, 1, 1, 1, 1, 1, 1, 1, 1, 1, 1, 1, 1, 1, 1, 1, 1, 1, 1, 1, 1, 1, 1, 1, 1, 1, 1, 1, 1, 1, 1, 1, 1, 1, 1, 1, 1, 1, 1, 1, 1, 1, 1, 1, 1, 1, 1, 1, 1, 1, 1, 1, 1, 1, 1, 1, 1, 1, 1, 1, 1, 1, 1, 1, 1, 1, 1, 1, 1, 1, 1, 1, 1, 1, 1, 1, 1, 1, 1, 1, 1, 1, 1, 1, 1, 1, 1, 1, 1, 1, 1, 1, 1, 1, 1, 1, 1, 1, 1, 1, 1, 1, 1, 1, 1, 1, 1, 1, 1, 1, 1, 1, 1, 1, 1, 1, 1, 1, 1, 1, 1, 1, 1, 1, 1, 1, 1, 1, 1, 1, 1, 1, 1, 1, 1, 1, 1, 1, 1, 1, 1, 1, 1, 1, 1, 1, 1, 1, 1, 1, 1, 1, 1, 1, 1, 1, 1, 1, 1, 1, 1, 1, 1, 1, 1, 1, 1, 1, 1, 1, 1, 1, 1, 1, 1, 1, 1, 1, 1, 1, 1, 1, 1, 1, 1, 1, 1, 1, 1, 1, 1, 1, 1, 1, 1, 1, 1, 1, 1, 1, 1, 1, 1, 1, 1, 1, 1, 1, 1, 1, 1, 1, 1, 1, 1, 1, 1, 1, 1, 1, 1, 1, 1, 1, 1, 1, 1, 1, 1, 1, 1, 1, 1, 1, 1, 1, 1, 1, 1, 1, 1, 1, 1, 1, 1, 1, 1, 1, 1, 1, 1, 1, 1, 1, 1, 1, 1, 1, 1, 1, 1, 1, 1, 1, 1, 1, 1, 1, 1, 1, 1, 1, 1, 1, 1, 1, 1, 1, 1, 1, 1, 1, 1, 1, 1, 1, 1, 1, 1, 1, 1, 1, 1, 1, 1, 1, 1, 1, 1, 1, 1, 1, 1, 1, 1, 1, 1, 1, 1, 1, 1, 1, 1, 1, 1, 1, 1, 1, 1, 1, 1, 1, 1, 1, 1, 1, 1, 1, 1, 1, 1, 1, 1, 1, 1, 1, 1, 1, 1, 1, 1, 1, 1, 1, 1, 1, 1, 1, 1, 1, 1, 1, 1, 1, 1, 1, 1, 1, 1, 1, 1, 1, 1, 1, 1, 1, 1, 1, 1, 1, 1, 1, 1, 1, 1, 1, 1, 1, 1, 1, 1, 1, 1, 1, 1, 1, 1, 1, 1, 1, 1, 1, 1, 1, 1, 1, 1, 1, 1, 1, 1, 1, 1, 1, 1, 1, 1, 1, 1, 1, 1, 1, 1, 1, 1, 1, 1, 1, 1, 1, 1, 1, 1, 1, 1, 1, 1, 1, 1, 1, 1, 1, 1, 1, 1, 1, 1, 1, 1, 1, 1, 1, 1, 1, 1, 1, 1, 1, 1, 1, 1, 1, 1, 1, 1, 1, 1, 1, 1, 1, 1, 1, 1, 1, 1, 1, 1, 1, 1, 1, 1, 1, 1, 1, 1, 1, 1, 1, 1, 1, 1, 1, 1, 1, 1, 1, 1, 1, 1, 1, 1, 1, 1, 1, 1, 1, 1, 1, 1, 1, 1, 1, 1, 1, 1, 1, 1, 1, 1, 1, 1, 1, 1, 1, 1, 1, 1, 1, 1, 1, 1, 1, 1, 1, 1, 1, 1, 1, 1, 1, 1, 1, 1, 1, 1, 1, 1, 1, 1, 1, 1, 1, 1, 1, 1, 1, 1, 1, 1, 1, 1, 1, 1, 1, 1, 1, 1, 1, 1, 1, 1, 1, 1, 1, 1, 1, 1, 1, 1, 1, 1, 1, 1, 1, 1, 1, 1, 1, 1, 1, 1, 1, 1, 1, 1, 1, 1, 1, 1, 1, 1, 1, 1, 1, 1, 1, 1, 1, 1, 1, 1, 1, 1, 1, 1, 1, 1, 1, 1, 1, 1, 1, 1, 1, 1, 1, 1, 1, 1, 1, 1, 1, 1, 1, 1, 1, 1, 1, 1, 1, 1, 1, 1, 1, 1, 1, 1, 1, 1, 1, 1, 1, 1, 1, 1, 1, 1, 1, 1, 1, 1, 1, 1, 1, 1, 1, 1, 1, 1, 1, 1, 1, 1, 1, 1, 1, 1, 1, 1, 1, 1, 1, 1, 1, 1, 1, 1, 1, 1, 1, 1, 1, 1, 1, 1, 1, 1, 1, 1, 1, 1, 1, 1, 1, 1, 1, 1, 1, 1, 1, 1, 1, 1, 1, 1, 1, 1, 1, 1, 1, 1, 1, 1, 1, 1, 1, 1, 1, 1, 1, 1, 1, 1, 1, 1, 1, 1, 1, 1, 1, 1, 1, 1, 1, 1, 1, 1, 1, 1, 1, 1, 1, 1, 1, 1, 1, 1, 1, 1, 1, 1, 1, 1, 1, 1, 1, 1, 1, 1, 1, 1, 1, 1, 1, 1, 1, 1, 1, 1, 1, 1, 1, 1, 1, 1, 1, 1, 1, 1, 1, 1, 1, 1, 1, 1, 1, 1, 1, 1, 1, 1, 1, 1, 1, 1, 1, 1, 1, 1, 1, 1, 1, 1, 1, 1, 1, 1, 1, 1, 1, 1, 1, 1, 1, 1, 1, 1, 1, 1, 1, 1, 1, 1, 1, 1, 1, 1, 1, 1, 1, 1, 1, 1, 1, 1, 1, 1, 1, 1, 1, 1, 1, 1, 1, 1, 1, 1, 1, 1, 1, 1, 1, 1, 1, 1, 1, 1, 1, 1, 1, 1, 1, 1, 1, 1, 1, 1, 1, 1, 1, 1, 1, 1, 1, 1, 1, 1, 1, 1, 1, 1, 1, 1, 1, 1, 1, 1, 1, 1, 1, 1, 1, 1, 1, 1, 1, 1, 1, 1, 1, 1, 1, 1, 1, 1, 1, 1, 1, 1, 1, 1, 1, 1, 1, 1, 1, 1, 1, 1, 1, 1, 1, 1, 1, 1, 1, 1, 1, 1, 1, 1, 1, 1, 1, 1, 1, 1, 1, 1, 1, 1, 1, 1, 1, 1, 1, 1, 1, 1, 1, 1, 1, 1, 1, 1, 1, 1, 1, 1, 1, 1, 1, 1, 1, 1, 1, 1, 1, 1, 1, 1, 1, 1, 1, 1, 1, 1, 1, 1, 1, 1, 1, 1, 1, 1, 1, 1, 1, 1, 1, 1, 1, 1, 1, 1, 1, 1, 1, 1, 1, 1, 1, 1, 1, 1, 1, 1, 1, 1, 1, 1, 1, 1, 1, 1, 1, 1, 1, 1, 1, 1, 1, 1, 1, 1, 1, 1, 1, 1, 1, 1, 1, 1, 1, 1, 1, 1, 1, 1, 1, 1, 1, 1, 1, 1, 1, 1, 1, 1, 1, 1, 1, 1, 1, 1, 1, 1, 1, 1, 1, 1, 1, 1, 1, 1, 1, 1, 1, 1, 1, 1, 1, 1, 1, 1, 1, 1, 1, 1, 1, 1, 1, 1, 1, 1, 1, 1, 1, 1, 1, 1, 1, 1, 1, 1, 1, 1, 1, 1, 1, 1, 1, 1, 1, 1, 1, 1, 1, 1, 1, 1, 1, 1, 1, 1, 1, 1, 1, 1, 1, 1, 1, 1, 1, 1, 1, 1, 1, 1, 1, 1, 1, 1, 1, 1, 1, 1, 1, 1, 1, 1, 1, 1, 1, 1, 1, 1, 1, 1, 1, 1, 1, 1, 1, 1, 1, 1, 1, 1, 1, 1, 1, 1, 1, 1, 1, 1, 1, 1, 1, 1, 1, 1, 1, 1, 1, 1, 1, 1, 1, 1, 1, 1, 1, 1, 1, 1, 1, 1, 1, 1, 1, 1, 1, 1, 1, 1, 1, 1, 1, 1, 1, 1, 1, 1, 1, 1, 1, 1, 1, 1, 1, 1, 1, 1, 1, 1, 1, 1, 1, 1, 1, 1, 1, 1, 1, 1, 1, 1, 1, 1, 1, 1, 1, 1, 1, 1, 1, 1, 1, 1, 1, 1, 1, 1, 1, 1, 1, 1, 1, 1, 1, 1, 1, 1, 1, 1, 1, 1, 1, 1, 1, 1, 1, 1, 1, 1, 1, 1, 1, 1, 1, 1, 1, 1, 1, 1, 1, 1, 1, 1, 1, 1, 1, 1, 1, 1, 1, 1, 1, 1, 1, 1, 1, 1, 1, 1, 1, 1, 1, 1, 1, 1, 1, 1, 1, 1, 1, 1, 1, 1, 1, 1, 1, 1, 1, 1, 1, 1, 1, 1, 1, 1, 1, 1, 1, 1, 1, 1, 1, 1, 1, 1, 1, 1, 1, 1, 1, 1, 1, 1, 1, 1, 1, 1, 1, 1, 1, 1, 1, 1, 1, 1, 1, 1, 1, 1, 1, 1, 1, 1, 1, 1, 1, 1, 1, 1, 1, 1, 1, 1, 1, 1, 1, 1, 1, 1, 1, 1, 1, 1, 1, 1, 1, 1, 1, 1, 1, 1, 1, 1, 1, 1, 1, 1, 1, 1, 1, 1, 1, 1, 1, 1, 1, 1, 1, 1, 1, 1, 1, 1, 1, 1, 1, 1, 1, 1, 1, 1, 1, 1, 1, 1, 1, 1, 1, 1, 1, 1, 1, 1, 1, 1, 1, 1, 1, 1, 1, 1, 1, 1, 1, 1, 1, 1, 1, 1, 1, 1, 1, 1, 1, 1, 1, 1, 1, 1, 1, 1, 1, 1, 1, 1, 1, 1, 1, 1, 1, 1, 1, 1, 1, 1, 1, 1, 1, 1, 1, 1, 1, 1, 1, 1, 1, 1, 1, 1, 1, 1, 1, 1, 1, 1, 1, 1, 1, 1, 1, 1, 1, 1, 1, 1, 1, 1, 1, 1, 1, 1, 1, 1, 1, 1, 1, 1, 1, 1, 1, 1, 1, 1, 1, 1, 1, 1, 1, 1, 1, 1, 1, 1, 1, 1, 1, 1, 1, 1, 1, 1, 1, 1, 1, 1, 1, 1, 1, 1, 1, 1, 1, 1, 1, 1, 1, 1, 1, 1, 1, 1, 1, 1, 1, 1, 1, 1, 1, 1, 1, 1, 1, 1, 1, 1, 1, 1, 1, 1, 1, 1, 1, 1, 1, 1, 1, 1, 1, 1, 1, 1, 1, 1, 1, 1, 1, 1, 1, 1, 1, 1, 1, 1, 1, 1, 1, 1, 1, 1, 1, 1, 1, 1, 1, 1, 1, 1, 1, 1, 1, 1, 1, 1, 1, 1, 1, 1, 1, 1, 1, 1, 1, 1, 1, 1, 1, 1, 1, 1, 1, 1, 1, 1, 1, 1, 1, 1, 1, 1, 1, 1, 1, 1, 1, 1, 1, 1, 1, 1, 1, 1, 1, 1, 1, 1, 1, 1, 1, 1, 1, 1, 1, 1, 1, 1, 1, 1, 1, 1, 1, 1, 1, 1, 1, 1, 1, 1, 1, 1, 1, 1, 1, 1, 1, 1, 1, 1, 1, 1, 1, 1, 1, 1, 1, 1, 1, 1, 1, 1, 1, 1, 1, 1, 1, 1, 1, 1, 1, 1, 1, 1, 1, 1, 1, 1, 1, 1, 1, 1, 1, 1, 1, 1, 1, 1, 1, 1, 1, 1, 1, 1, 1, 1, 1, 1, 1, 1, 1, 1, 1, 1, 1, 1, 1, 1, 1, 1, 1, 1, 1, 1, 1, 1, 1, 1, 1, 1, 1, 1, 1, 1, 1, 1, 1, 1, 1, 1, 1, 1, 1, 1, 1, 1, 1, 1, 1, 1, 1, 1, 1, 1, 1, 1, 1, 1, 1, 1, 1, 1, 1, 1, 1, 1, 1, 1, 1, 1, 1, 1, 1, 1, 1, 1, 1, 1, 1, 1, 1, 1, 1, 1, 1, 1, 1, 1, 1, 1, 1, 1, 1, 1, 1, 1, 1, 1, 1, 1, 1, 1, 1, 1, 1, 1, 1, 1, 1, 1, 1, 1, 1, 1, 1, 1, 1, 1, 1, 1, 1, 1, 1, 1, 1, 1, 1, 1, 1, 1, 1, 1, 1, 1, 1, 1, 1, 1, 1, 1, 1, 1, 1, 1, 1, 1, 1, 1, 1, 1, 1, 1, 1, 1, 1, 1, 1, 1, 1, 1, 1, 1, 1, 1, 1, 1, 1, 1, 1, 1, 1, 1, 1, 1, 1, 1, 1, 1, 1, 1, 1, 1, 1, 1, 1, 1, 1, 1, 1, 1, 1, 1, 1, 1, 1, 1, 1, 1, 1, 1, 1, 1, 1, 1, 1, 1, 1, 1, 1, 1, 1, 1, 1, 1, 1, 1, 1, 1, 1, 1, 1, 1, 1, 1, 1, 1, 1, 1, 1, 1, 1, 1, 1, 1, 1, 1, 1, 1, 1, 1, 1, 1, 1, 1, 1, 1, 1, 1, 1, 1, 1, 1, 1, 1, 1, 1, 1, 1, 1, 1, 1, 1, 1, 1, 1, 1, 1, 1, 1, 1, 1, 1, 1, 1, 1, 1, 1, 1, 1, 1, 1, 1, 1, 1, 1, 1, 1, 1, 1, 1, 1, 1, 1, 1, 1, 1, 1, 1, 1, 1, 1, 1, 1, 1, 1, 1, 1, 1, 1, 1, 1, 1, 1, 1, 1, 1, 1, 1, 1, 1, 1, 1, 1, 1, 1, 1, 1, 1, 1, 1, 1, 1, 1, 1, 1, 1, 1, 1, 1, 1, 1, 1, 1, 1, 1, 1, 1, 1, 1, 1, 1, 1, 1, 1, 1, 1, 1, 1, 1, 1, 1, 1, 1, 1, 1, 1, 1, 1, 1, 1, 1, 1, 1, 1, 1, 1, 1, 1, 1, 1, 1, 1, 1, 1, 1, 1, 1, 1, 1, 1, 1, 1, 1, 1, 1, 1, 1, 1, 1, 1, 1, 1, 1, 1, 1, 1, 1, 1, 1, 1, 1, 1, 1, 1, 1, 1, 1, 1, 1, 1, 1, 1, 1, 1, 1, 1, 1, 1, 1, 1, 1, 1, 1, 1, 1, 1, 1, 1, 1, 1, 1, 1, 1, 1, 1, 1, 1, 1, 1, 1, 1, 1, 1, 1, 1, 1, 1, 1, 1, 1, 1, 1, 1, 1, 1, 1, 1, 1, 1, 1, 1, 1, 1, 1, 1, 1, 1, 1, 1, 1, 1, 1, 1, 1, 1, 1, 1, 1, 1, 1, 1, 1, 1, 1, 1, 1, 1, 1, 1, 1, 1, 1, 1, 1, 1, 1, 1, 1, 1, 1, 1, 1, 1, 1, 1, 1, 1, 1, 1, 1, 1, 1, 1, 1, 1, 1, 1, 1, 1, 1, 1, 1, 1, 1, 1, 1, 1, 1, 1, 1, 1, 1, 1, 1, 1, 1, 1, 1, 1, 1, 1, 1, 1, 1, 1, 1, 1, 1, 1, 1, 1, 1, 1, 1, 1, 1, 1, 1, 1, 1, 1, 1, 1, 1, 1, 1, 1, 1, 1, 1, 1, 1, 1, 1, 1, 1, 1, 1, 1, 1, 1, 1, 1, 1, 1, 1, 1, 1, 1, 1, 1, 1, 1, 1, 1, 1, 1, 1, 1, 1, 1, 1, 1, 1, 1, 1, 1, 1, 1, 1, 1, 1, 1, 1, 1, 1, 1, 1, 1, 1, 1, 1, 1, 1, 1, 1, 1, 1, 1, 1, 1, 1, 1, 1, 1, 1, 1, 1, 1, 1, 1, 1, 1, 1, 1, 1, 1, 1, 1, 1, 1, 1, 1, 1, 1, 1, 1, 1, 1, 1, 1, 1, 1, 1, 1, 1, 1, 1, 1, 1, 1, 1, 1, 1, 1, 1, 1, 1, 1, 1, 1, 1, 1, 1, 1, 1, 1, 1, 1, 1, 1, 1, 1, 1, 1, 1, 1, 1, 1, 1, 1, 1, 1, 1, 1, 1, 1, 1, 1, 1, 1, 1, 1, 1, 1, 1, 1, 1, 1, 1, 1, 1, 1, 1, 1, 1, 1, 1, 1, 1, 1, 1, 1, 1, 1, 1, 1, 1, 1, 1, 1, 1, 1, 1, 1, 1, 1, 1, 1, 1, 1, 1, 1, 1, 1, 1, 1, 1, 1, 1, 1, 1, 1, 1, 1, 1, 1, 1, 1, 1, 1, 1, 1, 1, 1, 1, 1, 1, 1, 1, 1, 1, 1, 1, 1, 1, 1, 1, 1, 1, 1, 1, 1, 1, 1, 1, 1, 1, 1, 1, 1, 1, 1, 1, 1, 1, 1, 1, 1, 1, 1, 1, 1, 1, 1, 1, 1, 1, 1, 1, 1, 1, 1, 1, 1, 1, 1, 1, 1, 1, 1, 1, 1, 1, 1, 1, 1, 1, 1, 1, 1, 1, 1, 1, 1, 1, 1, 1, 1, 1, 1, 1, 1, 1, 1, 1, 1, 1, 1, 1, 1, 1, 1, 1, 1, 1, 1, 1, 1, 1, 1, 1, 1, 1, 1, 1, 1, 1, 1, 1, 1, 1, 1, 1, 1, 1, 1, 1, 1, 1, 1, 1, 1, 1, 1, 1, 1, 1, 1, 1, 1, 1, 1, 1, 1, 1, 1, 1, 1, 1, 1, 1, 1, 1, 1, 1, 1, 1, 1, 1, 1, 1, 1, 1, 1, 1, 1, 1, 1, 1, 1, 1, 1, 1, 1, 1, 1, 1, 1, 1, 1, 1, 1, 1, 1, 1, 1, 1, 1, 1, 1, 1, 1, 1, 1, 1, 1, 1, 1, 1, 1, 1, 1, 1, 1, 1, 1, 1, 1, 1, 1, 1, 1, 1, 1, 1, 1, 1, 1, 1, 1, 1, 1, 1, 1, 1, 1, 1, 1, 1, 1, 1, 1, 1, 1, 1, 1, 1, 1, 1, 1, 1, 1, 1, 1, 1, 1, 1, 1, 1, 1, 1, 1, 1, 1, 1, 1, 1, 1, 1, 1, 1, 1, 1, 1, 1, 1, 1, 1, 1, 1, 1, 1, 1, 1, 1, 1, 1, 1, 1, 1, 1, 1, 1, 1, 1, 1, 1, 1, 1, 1, 1, 1, 1, 1, 1, 1, 1, 1, 1, 1, 1, 1, 1, 1, 1, 1, 1, 1, 1, 1, 1, 1, 1, 1, 1, 1, 1, 1, 1, 1, 1, 1, 1, 1, 1, 1, 1, 1, 1, 1, 1, 1, 1, 1, 1, 1, 1, 1, 1, 1, 1, 1, 1, 1, 1, 1, 1, 1, 1, 1, 1, 1, 1, 1, 1, 1, 1, 1, 1, 1, 1, 1, 1, 1, 1, 1, 1, 1, 1, 1, 1, 1, 1, 1, 1, 1, 1, 1, 1, 1, 1, 1, 1, 1, 1, 1, 1, 1, 1, 1, 1, 1, 1, 1, 1, 1, 1, 1, 1, 1, 1, 1, 1, 1, 1, 1, 1, 1, 1, 1, 1, 1, 1, 1, 1, 1, 1, 1, 1, 1, 1, 1, 1, 1, 1, 1, 1, 1, 1, 1, 1, 1, 1, 1, 1, 1, 1, 1, 1, 1, 1, 1, 1, 1, 1, 1, 1, 1, 1, 1, 1, 1, 1, 1, 1, 1, 1, 1, 1, 1, 1, 1, 1, 1, 1, 1, 1, 1, 1, 1, 1, 1, 1, 1, 1, 1, 1, 1, 1, 1, 1, 1, 1, 1, 1, 1, 1, 1, 1, 1, 1, 1, 1, 1, 1, 1, 1, 1, 1, 1, 1, 1, 1, 1, 1, 1, 1, 1, 1, 1, 1, 1, 1, 1, 1, 1, 1, 1, 1, 1, 1, 1, 1, 1, 1, 1, 1, 1, 1, 1, 1, 1, 1, 1, 1, 1, 1, 1, 1, 1, 1, 1, 1, 1, 1, 1, 1, 1, 1, 1, 1, 1, 1, 1, 1, 1, 1, 1, 1, 1, 1, 1, 1, 1, 1, 1, 1, 1, 1, 1, 1, 1, 1, 1, 1, 1, 1, 1, 1, 1, 1, 1, 1, 1, 1, 1, 1, 1, 1, 1, 1, 1, 1, 1, 1, 1, 1, 1, 1, 1, 1, 1, 1, 1, 1, 1, 1, 1, 1, 1, 1, 1, 1, 1, 1, 1, 1, 1, 1, 1, 1, 1, 1, 1, 1, 1, 1, 1, 1, 1, 1, 1, 1, 1, 1, 1, 1, 1, 1, 1, 1, 1, 1, 1, 1, 1, 1, 1, 1, 1, 1, 1, 1, 1, 1, 1, 1, 1, 1, 1, 1, 1, 1, 1, 1, 1, 1, 1, 1, 1, 1, 1, 1, 1, 1, 1, 1, 1, 1, 1, 1, 1, 1, 1, 1, 1, 1, 1, 1, 1, 1, 1, 1, 1, 1, 1, 1, 1, 1, 1, 1, 1, 1, 1, 1, 1, 1, 1, 1, 1, 1, 1, 1, 1, 1, 1, 1, 1, 1, 1, 1, 1, 1, 1, 1, 1, 1, 1, 1, 1, 1, 1, 1, 1, 1, 1, 1, 1, 1, 1, 1, 1, 1, 1, 1, 1, 1, 1, 1, 1, 1, 1, 1, 1, 1, 1, 1, 1, 1, 1, 1, 1, 1, 1, 1, 1, 1, 1, 1, 1, 1, 1, 1, 1, 1, 1, 1, 1, 1, 1, 1, 1, 1, 1, 1, 1, 1, 1, 1, 1, 1, 1, 1, 1, 1, 1, 1, 1, 1, 1, 1, 1, 1, 1, 1, 1, 1, 1, 1, 1, 1, 1, 1, 1, 1, 1, 1, 1, 1, 1, 1, 1, 1, 1, 1, 1, 1, 1, 1, 1, 1, 1, 1, 1, 1, 1, 1, 1, 1, 1, 1, 1, 1, 1, 1, 1, 1, 1, 1, 1, 1, 1, 1, 1, 1, 1, 1, 1, 1, 1, 1, 1, 1, 1, 1, 1, 1, 1, 1, 1, 1, 1, 1, 1, 1, 1, 1, 1, 1, 1, 1, 1, 1, 1, 1, 1, 1, 1, 1, 1, 1, 1, 1, 1, 1, 1, 1, 1, 1, 1, 1, 1, 1, 1, 1, 1, 1, 1, 1, 1, 1, 1, 1, 1, 1, 1, 1, 1, 1, 1, 1, 1, 1, 1, 1, 1, 1, 1, 1, 1, 1, 1, 1, 1, 1, 1, 1, 1, 1, 1, 1, 1, 1, 1, 1, 1, 1, 1, 1, 1, 1, 1, 1, 1, 1, 1, 1, 1, 1, 1, 1, 1, 1, 1, 1, 1, 1, 1, 1, 1, 1, 1, 1, 1, 1, 1, 1, 1, 1, 1, 1, 1, 1, 1, 1, 1, 1, 1, 1, 1, 1, 1, 1, 1, 1, 1, 1, 1, 1, 1, 1, 1, 1, 1, 1, 1, 1, 1, 1, 1, 1, 1, 1, 1, 1, 1, 1, 1, 1, 1, 1, 1, 1, 1, 1, 1, 1, 1, 1, 1, 1, 1, 1, 1, 1, 1, 1, 1, 1, 1, 1, 1, 1, 1, 1, 1, 1, 1, 1, 1, 1, 1, 1, 1, 1, 1, 1, 1, 1, 1, 1, 1, 1, 1, 1, 1, 1, 1, 1, 1, 1, 1, 1, 1, 1, 1, 1, 1, 1, 1, 1, 1, 1, 1, 1, 1, 1, 1, 1, 1, 1, 1, 1, 1, 1, 1, 1, 1, 1, 1, 1, 1, 1, 1, 1, 1, 1, 1, 1, 1, 1, 1, 1, 1, 1, 1, 1, 1, 1, 1, 1, 1, 1, 1, 1, 1, 1, 1, 1, 1, 1, 1, 1, 1, 1, 1, 1, 1, 1, 1, 1, 1, 1, 1, 1, 1, 1, 1, 1, 1, 1, 1, 1, 1, 1, 1, 1, 1, 1, 1, 1, 1, 1, 1, 1, 1, 1, 1, 1, 1, 1, 1, 1, 1, 1, 1, 1, 1, 1, 1, 1, 1, 1, 1, 1, 1, 1, 1, 1, 1, 1, 1, 1, 1, 1, 1, 1, 1, 1, 1, 1, 1, 1, 1, 1, 1, 1, 1, 1, 1, 1, 1, 1, 1, 1, 1, 1, 1, 1, 1, 1, 1, 1, 1, 1, 1, 1, 1, 1, 1, 1, 1, 1, 1, 1, 1, 1, 1, 1, 1, 1, 1, 1, 1, 1, 1, 1, 1, 1, 1, 1, 1, 1, 1, 1, 1, 1, 1, 1, 1, 1, 1, 1, 1, 1, 1, 1, 1, 1, 1, 1, 1, 1, 1, 1, 1, 1, 1, 1, 1, 1, 1, 1, 1, 1, 1, 1, 1, 1, 1, 1, 1, 1, 1, 1, 1, 1, 1, 1, 1, 1, 1, 1, 1, 1, 1, 1, 1, 1, 1, 1, 1, 1, 1, 1, 1, 1, 1, 1, 1, 1, 1, 1, 1, 1, 1, 1, 1, 1, 1, 1, 1, 1, 1, 1, 1, 1, 1, 1, 1, 1, 1, 1, 1, 1, 1, 1, 1, 1, 1, 1, 1, 1, 1, 1, 1, 1, 1, 1, 1, 1, 1, 1, 1, 1, 1, 1, 1, 1, 1, 1, 1, 1, 1, 1, 1, 1, 1, 1, 1, 1, 1, 1, 1, 1, 1, 1, 1, 1, 1, 1, 1, 1, 1, 1, 1, 1, 1, 1, 1, 1, 1, 1, 1, 1, 1, 1, 1, 1, 1, 1, 1, 1, 1, 1, 1, 1, 1, 1, 1, 1, 1, 1, 1, 1, 1, 1, 1, 1, 1, 1, 1, 1, 1, 1, 1, 1, 1, 1, 1, 1, 1, 1, 1, 1, 1, 1, 1, 1, 1, 1, 1, 1, 1, 1, 1, 1, 1, 1, 1, 1, 1, 1, 1, 1, 1, 1, 1, 1, 1, 1, 1, 1, 1, 1, 1, 1, 1, 1, 1, 1, 1, 1, 1, 1, 1, 1, 1, 1, 1, 1, 1, 1, 1, 1, 1, 1, 1, 1, 1, 1, 1, 1, 1, 1, 1, 1, 1, 1, 1, 1, 1, 1, 1, 1, 1, 1, 1, 1, 1, 1, 1, 1, 1, 1, 1, 1, 1, 1, 1, 1, 1, 1, 1, 1, 1, 1, 1, 1, 1, 1, 1, 1, 1, 1, 1, 1, 1, 1, 1, 1, 1, 1, 1, 1, 1, 1, 1, 1, 1, 1, 1, 1, 1, 1, 1, 1, 1, 1, 1, 1, 1, 1, 1, 1, 1, 1, 1, 1, 1, 1, 1, 1, 1, 1, 1, 1, 1, 1, 1, 1, 1, 1, 1, 1, 1, 1, 1, 1, 1, 1, 1, 1, 1, 1, 1, 1, 1, 1, 1, 1, 1, 1, 1, 1, 1, 1, 1, 1, 1, 1, 1, 1, 1, 1, 1, 1, 1, 1, 1, 1, 1, 1, 1, 1, 1, 1, 1, 1, 1, 1, 1, 1, 1, 1, 1, 1, 1, 1, 1, 1, 1, 1, 1, 1, 1, 1, 1, 1, 1, 1, 1, 1, 1, 1, 1, 1, 1, 1, 1, 1, 1, 1, 1, 1, 1, 1, 1, 1, 1, 1, 1, 1, 1, 1, 1, 1, 1, 1, 1, 1, 1, 1, 1, 1, 1, 1, 1, 1, 1, 1, 1, 1, 1, 1, 1, 1, 1, 1, 1, 1, 1, 1, 1, 1, 1, 1, 1, 1, 1, 1, 1, 1, 1, 1, 1, 1, 1, 1, 1, 1, 1, 1, 1, 1, 1, 1, 1, 1, 1, 1, 1, 1, 1, 1, 1, 1, 1, 1, 1, 1, 1, 1, 1, 1, 1, 1, 1, 1, 1, 1, 1, 1, 1, 1, 1, 1, 1, 1, 1, 1, 1, 1, 1, 1, 1, 1, 1, 1, 1, 1, 1, 1, 1, 1, 1, 1, 1, 1, 1, 1, 1, 1, 1, 1, 1, 1, 1, 1, 1, 1, 1, 1, 1, 1, 1, 1, 1, 1, 1, 1, 1, 1, 1, 1, 1, 1, 1, 1, 1, 1, 1, 1, 1, 1, 1, 1, 1, 1, 1, 1, 1, 1, 1, 1, 1, 1, 1, 1, 1, 1, 1, 1, 1, 1, 1, 1, 1, 1, 1, 1, 1, 1, 1, 1, 1, 1, 1, 1, 1, 1, 1, 1, 1, 1, 1, 1, 1, 1, 1, 1, 1, 1, 1, 1, 1, 1, 1, 1, 1, 1, 1, 1, 1, 1, 1, 1, 1, 1, 1, 1, 1, 1, 1, 1, 1, 1, 1, 1, 1, 1, 1, 1, 1, 1, 1, 1, 1, 1, 1, 1, 1, 1, 1, 1, 1, 1, 1, 1, 1, 1, 1, 1, 1, 1, 1, 1, 1, 1, 1, 1, 1, 1, 1, 1, 1, 1, 1, 1, 1, 1, 1, 1, 1, 1, 1, 1, 1, 1, 1, 1, 1, 1, 1, 1, 1, 1, 1, 1, 1, 1, 1, 1, 1, 1, 1, 1, 1, 1, 1, 1, 1, 1, 1, 1, 1, 1, 1, 1, 1, 1, 1, 1, 1, 1, 1, 1, 1, 1, 1, 1, 1, 1, 1, 1, 1, 1, 1, 1, 1, 1, 1, 1, 1, 1, 1, 1, 1, 1, 1, 1, 1, 1, 1, 1, 1, 1, 1, 1, 1, 1, 1, 1, 1, 1, 1, 1, 1, 1, 1, 1, 1, 1, 1, 1, 1, 1, 1, 1, 1, 1, 1, 1, 1, 1, 1, 1, 1, 1, 1, 1, 1, 1, 1, 1, 1, 1, 1, 1, 1, 1, 1, 1, 1, 1, 1, 1, 1, 1, 1, 1, 1, 1, 1, 1, 1, 1, 1, 1, 1, 1, 1, 1, 1, 1, 1, 1, 1, 1, 1, 1, 1, 1, 1, 1, 1, 1, 1, 1, 1, 1, 1, 1, 1, 1, 1, 1, 1, 1, 1, 1, 1, 1, 1, 1, 1, 1, 1, 1, 1, 1, 1, 1, 1, 1, 1, 1, 1, 1, 1, 1, 1, 1, 1, 1, 1, 1, 1, 1, 1, 1, 1, 1, 1, 1, 1, 1, 1, 1, 1, 1, 1, 1, 1, 1, 1, 1, 1, 1, 1, 1, 1, 1, 1, 1, 1, 1, 1, 1, 1, 1, 1, 1, 1, 1, 1, 1, 1, 1, 1, 1, 1, 1, 1, 1, 1, 1, 1, 1, 1, 1, 1, 1, 1, 1, 1, 1, 1, 1, 1, 1, 1, 1, 1, 1, 1, 1, 1, 1, 1, 1, 1, 1, 1, 1, 1, 1, 1, 1, 1, 1, 1, 1, 1, 1, 1, 1, 1, 1, 1, 1, 1, 1, 1, 1, 1, 1, 1, 1, 1, 1, 1, 1, 1, 1, 1, 1, 1, 1, 1, 1, 1, 1, 1, 1, 1, 1, 1, 1, 1, 1, 1, 1, 1, 1, 1, 1, 1, 1, 1, 1, 1, 1, 1, 1, 1, 1, 1, 1, 1, 1, 1, 1, 1, 1, 1, 1, 1, 1, 1, 1, 1, 1, 1, 1, 1, 1, 1, 1, 1, 1, 1, 1, 1, 1, 1, 1, 1, 1, 1, 1, 1, 1, 1, 1, 1, 1, 1, 1, 1, 1, 1, 1, 1, 1, 1, 1, 1, 1, 1, 1, 1, 1, 1, 1, 1, 1, 1, 1, 1, 1, 1, 1, 1, 1, 1, 1, 1, 1, 1, 1, 1, 1, 1, 1, 1, 1, 1, 1, 1, 1, 1, 1, 1, 1, 1, 1, 1, 1, 1, 1, 1, 1, 1, 1, 1, 1, 1, 1, 1, 1, 1, 1, 1, 1, 1, 1, 1, 1, 1, 1, 1, 1, 1, 1, 1, 1, 1, 1, 1, 1, 1, 1, 1, 1, 1, 1, 1, 1, 1, 1, 1, 1, 1, 1, 1, 1, 1, 1, 1, 1, 1, 1, 1, 1, 1, 1, 1, 1, 1, 1, 1, 1, 1, 1, 1, 1, 1, 1, 1, 1, 1, 1, 1, 1, 1, 1, 1, 1, 1, 1, 1, 1, 1, 1, 1, 1, 1, 1, 1, 1, 1, 1, 1, 1, 1, 1, 1, 1, 1, 1, 1, 1, 1, 1, 1, 1, 1, 1, 1, 1, 1, 1, 1, 1, 1, 1, 1, 1, 1, 1, 1, 1, 1, 1, 1, 1, 1, 1, 1, 1, 1, 1, 1, 1, 1, 1, 1, 1, 1, 1, 1, 1, 1, 1, 1, 1, 1, 1, 1, 1, 1, 1, 1, 1, 1, 1, 1, 1, 1, 1, 1, 1, 1, 1, 1, 1, 1, 1, 1, 1, 1, 1, 1, 1, 1, 1, 1, 1, 1, 1, 1, 1, 1, 1, 1, 1, 1, 1, 1, 1, 1, 1, 1, 1, 1, 1, 1, 1, 1, 1, 1, 1, 1, 1, 1, 1, 1, 1, 1, 1, 1, 1, 1, 1, 1, 1, 1, 1, 1, 1, 1, 1, 1, 1, 1, 1, 1, 1, 1, 1, 1, 1, 1, 1, 1, 1, 1, 1, 1, 1, 1, 1, 1, 1, 1, 1, 1, 1, 1, 1, 1, 1, 1, 1, 1, 1, 1, 1, 1, 1, 1, 1, 1, 1, 1, 1, 1, 1, 1, 1, 1, 1, 1, 1, 1, 1, 1, 1, 1, 1, 1, 1, 1, 1, 1, 1, 1, 1, 1, 1, 1, 1, 1, 1, 1, 1, 1, 1, 1, 1, 1, 1, 1, 1, 1, 1, 1, 1, 1, 1, 1, 1, 1, 1, 1, 1, 1, 1, 1, 1, 1, 1, 1, 1, 1, 1, 1, 1, 1, 1, 1, 1, 1, 1, 1, 1, 1, 1, 1, 1, 1, 1, 1, 1, 1, 1, 1, 1, 1, 1, 1, 1, 1, 1, 1, 1, 1, 1, 1, 1, 1, 1, 1, 1, 1, 1, 1, 1, 1, 1, 1, 1, 1, 1, 1, 1, 1, 1, 1, 1, 1, 1, 1, 1, 1, 1, 1, 1, 1, 1, 1, 1, 1, 1, 1, 1, 1, 1, 1, 1, 1, 1, 1, 1, 1, 1, 1, 1, 1, 1, 1, 1, 1, 1, 1, 1, 1, 1, 1, 1, 1, 1, 1, 1, 1, 1, 1, 1, 1, 1, 1, 1, 1, 1, 1, 1, 1, 1, 1, 1, 1, 1, 1, 1, 1, 1, 1, 1, 1, 1, 1, 1, 1, 1, 1, 1, 1, 1, 1, 1, 1, 1, 1, 1, 1, 1, 1, 1, 1, 1, 1, 1, 1, 1, 1, 1, 1, 1, 1, 1, 1, 1, 1, 1, 1, 1, 1, 1, 1, 1, 1, 1, 1, 1, 1, 1, 1, 1, 1, 1, 1, 1, 1, 1, 1, 1, 1, 1, 1, 1, 1, 1, 1, 1, 1, 1, 1, 1, 1, 1, 1, 1, 1, 1, 1, 1, 1, 1, 1, 1, 1, 1, 1, 1, 1, 1, 1, 1, 1, 1, 1, 1, 1, 1, 1, 1, 1, 1, 1, 1, 1, 1, 1, 1, 1, 1, 1, 1, 1, 1, 1, 1, 1, 1, 1, 1, 1, 1, 1, 1, 1, 1, 1, 1, 1, 1, 1, 1, 1, 1, 1, 1, 1, 1, 1, 1, 1, 1, 1, 1, 1, 1, 1, 1, 1, 1, 1, 1, 1, 1, 1, 1, 1, 1, 1, 1, 1, 1, 1, 1, 1, 1, 1, 1, 1, 1, 1, 1, 1, 1, 1, 1, 1, 1, 1, 1, 1, 1, 1, 1, 1, 1, 1, 1, 1, 1, 1, 1, 1, 1, 1, 1, 1, 1, 1, 1, 1, 1, 1, 1, 1, 1, 1, 1, 1, 1, 1, 1, 1, 1, 1, 1, 1, 1, 1, 1, 1, 1, 1, 1, 1, 1, 1, 1, 1, 1, 1, 1, 1, 1, 1, 1, 1, 1, 1, 1, 1, 1, 1, 1, 1, 1, 1, 1, 1, 1, 1, 1, 1, 1, 1, 1, 1, 1, 1, 1, 1, 1, 1, 1, 1, 1, 1, 1, 1, 1, 1, 1, 1, 1, 1, 1, 1, 1, 1, 1, 1, 1, 1, 1, 1, 1, 1, 1, 1, 1, 1, 1, 1, 1, 1, 1, 1, 1, 1, 1, 1, 1, 1, 1, 1, 1, 1, 1, 1, 1, 1, 1, 1, 1, 1, 1, 1, 1, 1, 1, 1, 1, 1, 1, 1, 1, 1, 1, 1, 1, 1, 1, 1, 1, 1, 1, 1, 1, 1, 1, 1, 1, 1, 1, 1, 1, 1, 1, 1, 1, 1, 1, 1, 1, 1, 1, 1, 1, 1, 1, 1, 1, 1, 1, 1, 1, 1, 1, 1, 1, 1, 1, 1, 1, 1, 1, 1, 1, 1, 1, 1, 1, 1, 1, 1, 1, 1, 1, 1, 1, 1, 1, 1, 1, 1, 1, 1, 1, 1, 1, 1, 1, 1, 1, 1, 1, 1, 1, 1, 1, 1, 1, 1, 1, 1, 1, 1, 1, 1, 1, 1, 1, 1, 1, 1, 1, 1, 1, 1, 1, 1, 1, 1, 1, 1, 1, 1, 1, 1, 1, 1, 1, 1, 1, 1, 1, 1, 1, 1, 1, 1, 1, 1, 1, 1, 1, 1, 1, 1, 1, 1, 1, 1, 1, 1, 1, 1, 1, 1, 1, 1, 1, 1, 1, 1, 1, 1, 1, 1, 1, 1, 1, 1, 1, 1, 1, 1, 1, 1, 1, 1, 1, 1, 1, 1, 1, 1, 1, 1, 1, 1, 1, 1, 1, 1, 1, 1, 1, 1, 1, 1, 1, 1, 1, 1, 1, 1, 1, 1, 1, 1, 1, 1, 1, 1, 1, 1, 1, 1, 1, 1, 1, 1, 1, 1, 1, 1, 1, 1, 1, 1, 1, 1, 1, 1, 1, 1, 1, 1, 1, 1, 1, 1, 1, 1, 1, 1, 1, 1, 1, 1, 1, 1, 1, 1, 1, 1, 1, 1, 1, 1, 1, 1, 1, 1, 1, 1, 1, 1, 1, 1, 1, 1, 1, 1, 1, 1, 1, 1, 1, 1, 1, 1, 1, 1, 1, 1, 1, 1, 1, 1, 1, 1, 1, 1, 1, 1, 1, 1, 1, 1, 1, 1, 1, 1, 1, 1, 1, 1, 1, 1, 1, 1, 1, 1, 1, 1, 1, 1, 1, 1, 1, 1, 1, 1, 1, 1, 1, 1, 1, 1, 1, 1, 1, 1, 1, 1, 1, 1, 1, 1, 1, 1, 1, 1, 1, 1, 1, 1, 1, 1, 1, 1, 1, 1, 1, 1, 1, 1, 1, 1, 1, 1, 1, 1, 1, 1, 1, 1, 1, 1, 1, 1, 1, 1, 1, 1, 1, 1, 1, 1, 1, 1, 1, 1, 1, 1, 1, 1, 1, 1, 1, 1, 1, 1, 1, 1, 1, 1, 1, 1, 1, 1, 1, 1, 1, 1, 1, 1, 1, 1, 1, 1, 1, 1, 1, 1, 1, 1, 1, 1, 1, 1, 1, 1, 1, 1, 1, 1, 1, 1, 1, 1, 1, 1, 1, 1, 1, 1, 1, 1, 1, 1, 1, 1, 1, 1, 1, 1, 1, 1, 1, 1, 1, 1, 1, 1, 1, 1, 1, 1, 1, 1, 1, 1, 1, 1, 1, 1, 1, 1, 1, 1, 1, 1, 1, 1, 1, 1, 1, 1, 1, 1, 1, 1, 1, 1, 1, 1, 1, 1, 1, 1, 1, 1, 1, 1, 1, 1, 1, 1, 1, 1, 1, 1, 1, 1, 1, 1, 1, 1, 1, 1, 1, 1, 1, 1, 1, 1, 1, 1, 1, 1, 1, 1, 1, 1, 1, 1, 1, 1, 1, 1, 1, 1, 1, 1, 1, 1, 1, 1, 1, 1, 1, 1, 1, 1, 1, 1, 1, 1, 1, 1, 1, 1, 1, 1, 1, 1, 1, 1, 1, 1, 1, 1, 1, 1, 1, 1, 1, 1, 1, 1, 1, 1, 1, 1, 1, 1, 1, 1, 1, 1, 1, 1, 1, 1, 1, 1, 1, 1, 1, 1, 1, 1, 1, 1, 1, 1, 1, 1, 1, 1, 1, 1, 1, 1, 1, 1, 1, 1, 1, 1, 1, 1, 1, 1, 1, 1, 1, 1, 1, 1, 1, 1, 1, 1, 1, 1, 1, 1, 1, 1, 1, 1, 1, 1, 1, 1, 1, 1, 1, 1, 1, 1, 1, 1, 1, 1, 1, 1, 1, 1, 1, 1, 1, 1, 1, 1, 1, 1, 1, 1, 1, 1, 1, 1, 1, 1, 1, 1, 1, 1, 1, 1, 1, 1, 1, 1, 1, 1, 1, 1, 1, 1, 1, 1, 1, 1, 1, 1, 1, 1, 1, 1, 1, 1, 1, 1, 1, 1, 1, 1, 1, 1, 1, 1, 1, 1, 1, 1, 1, 1, 1, 1, 1, 1, 1, 1, 1, 1, 1, 1, 1, 1, 1, 1, 1, 1, 1, 1, 1, 1, 1, 1, 1, 1, 1, 1, 1, 1, 1, 1, 1, 1, 1, 1, 1, 1, 1, 1, 1, 1, 1, 1, 1, 1, 1, 1, 1, 1, 1, 1, 1, 1, 1, 1, 1, 1, 1, 1, 1, 1, 1, 1, 1, 1, 1, 1, 1, 1, 1, 1, 1, 1, 1, 1, 1, 1, 1, 1, 1, 1, 1, 1, 1, 1, 1, 1, 1, 1, 1, 1, 1, 1, 1, 1, 1, 1, 1, 1, 1, 1, 1, 1, 1, 1, 1, 1, 1, 1, 1, 1, 1, 1, 1, 1, 1, 1, 1, 1, 1, 1, 1, 1, 1, 1, 1, 1, 1, 1, 1, 1, 1, 1, 1, 1, 1, 1, 1, 1, 1, 1, 1, 1, 1, 1, 1, 1, 1, 1, 1, 1, 1, 1, 1, 1, 1, 1, 1, 1, 1, 1, 1, 1, 1, 1, 1, 1, 1, 1, 1, 1, 1, 1, 1, 1, 1, 1, 1, 1, 1, 1, 1, 1, 1, 1, 1, 1, 1, 1, 1, 1, 1, 1, 1, 1, 1, 1, 1, 1, 1, 1, 1, 1, 1, 1, 1, 1, 1, 1, 1, 1, 1, 1, 1, 1, 1, 1, 1, 1, 1, 1, 1, 1, 1, 1, 1, 1, 1, 1, 1, 1, 1, 1, 1, 1, 1, 1, 1, 1, 1, 1, 1, 1, 1, 1, 1, 1, 1, 1, 1, 1, 1, 1, 1, 1, 1, 1, 1, 1, 1, 1, 1, 1, 1, 1, 1, 1, 1, 1, 1, 1, 1, 1, 1, 1, 1, 1, 1, 1, 1, 1, 1, 1, 1, 1, 1, 1, 1, 1, 1, 1, 1, 1, 1, 1, 1, 1, 1, 1, 1, 1, 1, 1, 1, 1, 1, 1, 1, 1, 1, 1, 1, 1, 1, 1, 1, 1, 1, 1, 1, 1, 1, 1, 1, 1, 1, 1, 1, 1, 1, 1, 1, 1, 1, 1, 1, 1, 1, 1, 1, 1, 1, 1, 1, 1, 1, 1, 1, 1, 1, 1, 1, 1, 1, 1, 1, 1, 1, 1, 1, 1, 1, 1, 1, 1, 1, 1, 1, 1, 1, 1, 1, 1, 1, 1, 1, 1, 1, 1, 1, 1, 1, 1, 1, 1, 1, 1, 1, 1, 1, 1, 1, 1, 1, 1, 1, 1, 1, 1, 1, 1, 1, 1, 1, 1, 1, 1, 1, 1, 1, 1, 1, 1, 1, 1, 1, 1, 1, 1, 1, 1, 1, 1, 1, 1, 1, 1, 1, 1, 1, 1, 1, 1, 1, 1, 1, 1, 1, 1, 1, 1, 1, 1, 1, 1, 1, 1, 1, 1, 1, 1, 1, 1, 1, 1, 1, 1, 1, 1, 1, 1, 1, 1, 1, 1, 1, 1, 1, 1, 1, 1, 1, 1, 1, 1, 1, 1, 1, 1, 1, 1, 1, 1, 1, 1, 1, 1, 1, 1, 1, 1, 1, 1, 1, 1, 1, 1, 1, 1, 1, 1, 1, 1, 1, 1, 1, 1, 1, 1, 1, 1, 1, 1, 1, 1, 1, 1, 1, 1, 1, 1, 1, 1, 1, 1, 1, 1, 1, 1, 1, 1, 1, 1, 1, 1, 1, 1, 1, 1, 1, 1, 1, 1, 1, 1, 1, 1, 1, 1, 1, 1, 1, 1, 1, 1, 1, 1, 1, 1, 1, 1, 1, 1, 1, 1, 1, 1, 1, 1, 1, 1, 1, 1, 1, 1, 1, 1, 1, 1, 1, 1, 1, 1, 1, 1, 1, 1, 1, 1, 1, 1, 1, 1, 1, 1, 1, 1, 1, 1, 1, 1, 1, 1, 1, 1, 1, 1, 1, 1, 1, 1, 1, 1, 1, 1, 1, 1, 1, 1, 1, 1, 1, 1, 1, 1, 1, 1, 1, 1, 1, 1, 1, 1, 1, 1, 1, 1, 1, 1, 1, 1, 1, 1, 1, 1, 1, 1, 1, 1, 1, 1, 1, 1, 1, 1, 1, 1, 1, 1, 1, 1, 1, 1, 1, 1, 1, 1, 1, 1, 1, 1, 1, 1, 1, 1, 1, 1, 1, 1, 1, 1, 1, 1, 1, 1, 1, 1, 1, 1, 1, 1, 1, 1, 1, 1, 1, 1, 1, 1, 1, 1, 1, 1, 1, 1, 1, 1, 1, 1, 1, 1, 1, 1, 1, 1, 1, 1, 1, 1, 1, 1, 1, 1, 1, 1, 1, 1, 1, 1, 1, 1, 1, 1, 1, 1, 1, 1, 1, 1, 1, 1, 1, 1, 1, 1, 1, 1, 1, 1, 1, 1, 1, 1, 1, 1, 1, 1, 1, 1, 1, 1, 1, 1, 1, 1, 1, 1, 1, 1, 1, 1, 1, 1, 1, 1, 1, 1, 1, 1, 1, 1, 1, 1, 1, 1, 1, 1, 1, 1, 1, 1, 1, 1, 1, 1, 1, 1, 1, 1, 1, 1, 1, 1, 1, 1, 1, 1, 1, 1, 1, 1, 1, 1, 1, 1, 1, 1, 1, 1, 1, 1, 1, 1, 1, 1, 1, 1, 1, 1, 1, 1, 1, 1, 1, 1, 1, 1, 1, 1, 1, 1, 1, 1, 1, 1, 1, 1, 1, 1, 1, 1, 1, 1, 1, 1, 1, 1, 1, 1, 1, 1, 1, 1, 1, 1, 1, 1, 1, 1, 1, 1, 1, 1, 1, 1, 1, 1, 1, 1, 1, 1, 1, 1, 1, 1, 1, 1, 1, 1, 1, 1, 1, 1, 1, 1, 1, 1, 1, 1, 1, 1, 1, 1, 1, 1, 1, 1, 1, 1, 1, 1], 'labels': 0}\n",
            "\n",
            "Processed eval dataset example:\n",
            "{'path': 'data_1k2k3k_withbandpass_organized_dataset_extrafeatures\\\\case4\\\\E2_case4_5_sample_30_2.wav', 'case': 'case4', 'audio': 'tensor([[0.0000, 0.0000, 0.0000,  ..., 0.0402, 0.0503, 0.0562]])', 'sr': 44100, 'energy_features': [4.3254430978560094], 'energy_features_path': 'data_1k2k3k_withbandpass_organized_dataset_extrafeatures\\\\case4\\\\E2_case4_5_sample_30_2.npy', 'input_values': [0.00041012655128724873, 0.00041348993545398116, 0.0004076048207934946, 0.0004178194503765553, 0.000384491024306044, -0.00027692230651155114, -0.00032618542900308967, -0.00037442869506776333, 0.00018719198124017566, 0.00045552250230684876, 0.00040874831029213965, 0.0003440998843871057, -0.00032799545442685485, -0.0003156170423608273, -0.0003697298525366932, -6.049477815395221e-05, 0.000736147107090801, 0.00119240942876786, 0.0010629493044689298, 2.5882123736664653e-05, -0.0017041651299223304, -0.0025284995790570974, -0.001846922212280333, 0.0005138805136084557, 0.0028398684225976467, 0.004217836074531078, 0.00263723055832088, -0.0010065403766930103, -0.004758970346301794, -0.005712429061532021, -0.003197744954377413, 0.002021315973252058, 0.006854557897895575, 0.008103329688310623, 0.004084611311554909, -0.002861567074432969, -0.009575249627232552, -0.011095382273197174, -0.005542544182389975, 0.004394122865051031, 0.012946764007210732, 0.014689789153635502, 0.007323434576392174, -0.005946577992290258, -0.01745547540485859, -0.019578242674469948, -0.009027938358485699, 0.008792426437139511, 0.023573756217956543, 0.025058424100279808, 0.01018170453608036, -0.013245554640889168, -0.031167373061180115, -0.031129101291298866, -0.011055054143071175, 0.01871451362967491, 0.040474455803632736, 0.03831484913825989, 0.011236030608415604, -0.02606678195297718, -0.05044840648770332, -0.04583834111690521, -0.011097192764282227, 0.03453304246068001, 0.06273919343948364, 0.05396205186843872, 0.01049522403627634, -0.04383590444922447, -0.07611443847417831, -0.06329642236232758, -0.009506018832325935, 0.05490235611796379, 0.09074406325817108, 0.07337932288646698, 0.008676642552018166, -0.06668531149625778, -0.10714086145162582, -0.08440504968166351, -0.0074242958799004555, 0.08042348176240921, 0.12530669569969177, 0.09635409712791443, 0.005574522074311972, -0.09525428712368011, -0.14465370774269104, -0.1087975949048996, -0.0032103562261909246, 0.11178649961948395, 0.16626550257205963, 0.12289448082447052, 0.0012523276964202523, -0.1292600780725479, -0.18915313482284546, -0.13747365772724152, 0.001904396340250969, 0.14889293909072876, 0.21447885036468506, 0.15329357981681824, -0.004682771861553192, -0.16944266855716705, -0.2414085865020752, -0.1706710308790207, 0.007670375984162092, 0.19204109907150269, 0.2706161439418793, 0.18964605033397675, -0.010700133629143238, -0.21622511744499207, -0.30212318897247314, -0.20981909334659576, 0.014547913335263729, 0.24226470291614532, 0.3355667293071747, 0.23103661835193634, -0.018023578450083733, -0.26908642053604126, -0.37047383189201355, -0.2532294690608978, 0.022233622148633003, 0.29761365056037903, 0.4069923460483551, 0.27654486894607544, -0.026322191581130028, -0.3269519805908203, -0.4443357586860657, -0.3002948760986328, 0.030421748757362366, 0.35700294375419617, 0.4826291799545288, 0.3242848217487335, -0.03464961796998978, -0.3871532082557678, -0.5211500525474548, -0.34847989678382874, 0.039116550236940384, 0.4173712432384491, 0.5598518252372742, 0.37299734354019165, -0.04292343929409981, -0.44732239842414856, -0.5985766649246216, -0.39768755435943604, 0.04664961248636246, 0.4775066375732422, 0.6372634768486023, 0.4227939546108246, -0.050099536776542664, -0.5069178938865662, -0.6754652261734009, -0.44746387004852295, 0.05314749479293823, 0.5361542701721191, 0.7136339545249939, 0.47217634320259094, -0.05586603283882141, -0.5646845698356628, -0.7513585090637207, -0.49693888425827026, 0.05854500085115433, 0.5928922295570374, 0.7886250019073486, 0.5221298336982727, -0.06021789833903313, -0.6203954815864563, -0.8256739974021912, -0.5472579598426819, 0.061441536992788315, 0.6476936340332031, 0.8633942604064941, 0.5728605389595032, -0.06266849488019943, -0.6745786666870117, -0.9003860950469971, -0.5979927182197571, 0.06427475810050964, 0.7020520567893982, 0.9370287656784058, 0.6228911876678467, -0.0652131661772728, -0.7287233471870422, -0.9737071394920349, -0.6477303504943848, 0.06745997816324234, 0.7554925680160522, 1.0099693536758423, 0.6720293164253235, -0.06879609078168869, -0.782240092754364, -1.0453261137008667, -0.6953147649765015, 0.07120777666568756, 0.8084768056869507, 1.0803886651992798, 0.7186381816864014, -0.07351868599653244, -0.8347806334495544, -1.1150672435760498, -0.7411856055259705, 0.0761195495724678, 0.8611246943473816, 1.1488884687423706, 0.7626291513442993, -0.07935374975204468, -0.8863438367843628, -1.1814197301864624, -0.783068060874939, 0.08257216215133667, 0.9110106229782104, 1.2128573656082153, 0.802558183670044, -0.08601684868335724, -0.93451327085495, -1.241992712020874, -0.8207639455795288, 0.08908776193857193, 0.9563062191009521, 1.2695354223251343, 0.8381852507591248, -0.09137292206287384, -0.9760333299636841, -1.2948150634765625, -0.8544147610664368, 0.09271326661109924, 0.9939826726913452, 1.318062424659729, 0.8699971437454224, -0.09264115989208221, -1.0089243650436401, -1.3389915227890015, -0.8847498297691345, 0.09248020499944687, 1.0221863985061646, 1.3577500581741333, 0.8984535932540894, -0.0912691280245781, -1.0332980155944824, -1.374137282371521, -0.9108991622924805, 0.08962501585483551, 1.0423036813735962, 1.3885926008224487, 0.9222121834754944, -0.08702774345874786, -1.0496222972869873, -1.4007105827331543, -0.9318374991416931, 0.08460916578769684, 1.0548807382583618, 1.410404920578003, 0.9405215382575989, -0.08185525238513947, -1.0592436790466309, -1.4184268712997437, -0.94770348072052, 0.0796482115983963, 1.0624252557754517, 1.4251257181167603, 0.9532484412193298, -0.07749839872121811, -1.0645304918289185, -1.4298205375671387, -0.9578619003295898, 0.07558656483888626, 1.0658462047576904, 1.4333701133728027, 0.9613491296768188, -0.07411198318004608, -1.0668352842330933, -1.435768723487854, -0.9636195302009583, 0.0727691501379013, 1.0673792362213135, 1.4373456239700317, 0.9656490087509155, -0.07186766713857651, -1.0673390626907349, -1.4383398294448853, -0.9668694138526917, 0.07115970551967621, 1.0675086975097656, 1.4388518333435059, 0.9677811861038208, -0.07039882242679596, -1.06722092628479, -1.439089298248291, -0.9683574438095093, 0.07016682624816895, 1.0673476457595825, 1.4396260976791382, 0.968417227268219, -0.06980336457490921, -1.0668933391571045, -1.4392998218536377, -0.9684320688247681, 0.06946444511413574, 1.0667452812194824, 1.4389033317565918, 0.9680905938148499, -0.06965364515781403, -1.0663095712661743, -1.4381530284881592, -0.9676290154457092, 0.07010789215564728, 1.0662440061569214, 1.4377624988555908, 0.9662741422653198, -0.0712822675704956, -1.0666470527648926, -1.4365170001983643, -0.9644326567649841, 0.07338456809520721, 1.0672848224639893, 1.4350539445877075, 0.9615529179573059, -0.07548727840185165, -1.0679603815078735, -1.4335646629333496, -0.9580338001251221, 0.07865186035633087, 1.0684770345687866, 1.431382179260254, 0.9545575976371765, -0.08194435387849808, -1.0691314935684204, -1.4286211729049683, -0.9500421285629272, 0.08515771478414536, 1.069294810295105, 1.425899624824524, 0.9461396336555481, -0.0879061222076416, -1.0691879987716675, -1.4225660562515259, -0.94234299659729, 0.09036172926425934, 1.0691088438034058, 1.4199291467666626, 0.9387666583061218, -0.09208346158266068, -1.06795072555542, -1.4174225330352783, -0.9361613392829895, 0.09316569566726685, 1.0672602653503418, 1.4155417680740356, 0.9339674115180969, -0.09434781223535538, -1.066713809967041, -1.4136950969696045, -0.9322423338890076, 0.09505618363618851, 1.0662198066711426, 1.4123713970184326, 0.9312400817871094, -0.09535455703735352, -1.0656641721725464, -1.4111971855163574, -0.9301398396492004, 0.09584246575832367, 1.065632939338684, 1.4112088680267334, 0.9300621151924133, -0.0963459312915802, -1.0664246082305908, -1.411752700805664, -0.9300016760826111, 0.09693153947591782, 1.0676661729812622, 1.412901759147644, 0.9304677248001099, -0.09743048995733261, -1.0686578750610352, -1.4137494564056396, -0.9307510852813721, 0.09805546700954437, 1.0699081420898438, 1.4150859117507935, 0.9311898946762085, -0.09806758165359497, -1.0704118013381958, -1.4158380031585693, -0.931827187538147, 0.09825050830841064, 1.0710030794143677, 1.4164098501205444, 0.9326278567314148, -0.09732691943645477, -1.0700501203536987, -1.4161734580993652, -0.9328342080116272, 0.09677574783563614, 1.0692532062530518, 1.4158105850219727, 0.9332569241523743, -0.09561159461736679, -1.068044900894165, -1.4146279096603394, -0.9329713582992554, 0.09482301026582718, 1.0666728019714355, 1.413487434387207, 0.9325557351112366, -0.0943530946969986, -1.065454363822937, -1.4125524759292603, -0.9321467876434326, 0.09390141069889069, 1.064345121383667, 1.4113849401474, 0.9313107132911682, -0.09393089264631271, -1.0636540651321411, -1.4103477001190186, -0.9304897785186768, 0.09434948861598969, 1.063943862915039, 1.409487247467041, 0.9295320510864258, -0.09523895382881165, -1.0643329620361328, -1.4093445539474487, -0.9285470247268677, 0.09649775177240372, 1.064856767654419, 1.4097524881362915, 0.9280830025672913, -0.09748601913452148, -1.0661275386810303, -1.4106754064559937, -0.928514301776886, 0.09829909354448318, 1.0681426525115967, 1.412736415863037, 0.9297776818275452, -0.09873369336128235, -1.070190191268921, -1.415495753288269, -0.9315787553787231, 0.0987992137670517, 1.0728365182876587, 1.4192512035369873, 0.9349625110626221, -0.09789828956127167, -1.0750360488891602, -1.423667073249817, -0.9388033747673035, 0.09679055213928223, 1.0775043964385986, 1.4287976026535034, 0.943812906742096, -0.09502158313989639, -1.0798505544662476, -1.4337238073349, -0.9483526945114136, 0.09333900362253189, 1.0819177627563477, 1.4384350776672363, 0.952829122543335, -0.0915353074669838, -1.083606243133545, -1.4421342611312866, -0.956136167049408, 0.09032861143350601, 1.0849004983901978, 1.4447872638702393, 0.958398699760437, -0.08953451365232468, -1.0856767892837524, -1.4464645385742188, -0.9594590067863464, 0.08947505801916122, 1.0863760709762573, 1.4470120668411255, 0.9596000909805298, -0.08944407850503922, -1.0859686136245728, -1.4462006092071533, -0.9586809873580933, 0.09013447165489197, 1.0856091976165771, 1.4447638988494873, 0.9576141834259033, -0.09017849713563919, -1.0841591358184814, -1.4428460597991943, -0.955610454082489, 0.09052012115716934, 1.0828160047531128, 1.4403644800186157, 0.9538401961326599, -0.09024925529956818, -1.0808836221694946, -1.437491536140442, -0.9521999955177307, 0.09027359634637833, 1.079063057899475, 1.4354480504989624, 0.9511159062385559, -0.0895637571811676, -1.0770505666732788, -1.4328911304473877, -0.9501104950904846, 0.08846406638622284, 1.0746647119522095, 1.431257963180542, 0.9499891996383667, -0.08698149770498276, -1.072706937789917, -1.4302011728286743, -0.9508547782897949, 0.08498222380876541, 1.0707308053970337, 1.430069088935852, 0.9523981213569641, -0.08317838609218597, -1.0699286460876465, -1.4300471544265747, -0.9532844424247742, 0.08161059021949768, 1.069081425666809, 1.4302935600280762, 0.9538310766220093, -0.08108378946781158, -1.0684218406677246, -1.4303289651870728, -0.9543085694313049, 0.08062225580215454, 1.068176507949829, 1.4298535585403442, 0.9538088440895081, -0.08050590008497238, -1.067358136177063, -1.428815484046936, -0.952872633934021, 0.08069819211959839, 1.0667660236358643, 1.4272284507751465, 0.9515885710716248, -0.08113406598567963, -1.0654360055923462, -1.4250363111495972, -0.9497650265693665, 0.08178697526454926, 1.0648113489151, 1.4229700565338135, 0.9471499919891357, -0.0829518660902977, -1.0635805130004883, -1.420545220375061, -0.9443756341934204, 0.08478386700153351, 1.0630167722702026, 1.4177056550979614, 0.9411342144012451, -0.08637580275535583, -1.0622271299362183, -1.4147224426269531, -0.9375173449516296, 0.08872967958450317, 1.0616507530212402, 1.411442756652832, 0.9335726499557495, -0.09060093760490417, -1.0604710578918457, -1.408171534538269, -0.9303268790245056, 0.09208837151527405, 1.0595263242721558, 1.4051722288131714, 0.9272555112838745, -0.09286904335021973, -1.05782151222229, -1.402184009552002, -0.92481929063797, 0.0933447927236557, 1.056554913520813, 1.4003174304962158, 0.9233028292655945, -0.09354769438505173, -1.054964542388916, -1.3982681035995483, -0.9225452542304993, 0.09334820508956909, 1.0545339584350586, 1.3974227905273438, 0.9220820069313049, -0.09326590597629547, -1.0537289381027222, -1.397051453590393, -0.9216776490211487, 0.09371840208768845, 1.0542595386505127, 1.397534966468811, 0.9218886494636536, -0.09406248480081558, -1.055307388305664, -1.3987834453582764, -0.9225084185600281, 0.094754658639431, 1.0571470260620117, 1.4003714323043823, 0.9232227206230164, -0.09538042545318604, -1.0592927932739258, -1.4030485153198242, -0.9246168732643127, 0.0962863340973854, 1.0614746809005737, 1.4054394960403442, 0.9258183836936951, -0.09683149307966232, -1.0632787942886353, -1.4075146913528442, -0.9264605045318604, 0.09744869917631149, 1.0647642612457275, 1.408706545829773, 0.9277232885360718, -0.09702661633491516, -1.0649394989013672, -1.4091572761535645, -0.9284718036651611, 0.09619661420583725, 1.0644371509552002, 1.409583568572998, 0.9296433329582214, -0.09478723257780075, -1.0634222030639648, -1.4098386764526367, -0.9307026267051697, 0.0929730236530304, 1.0624053478240967, 1.41010320186615, 0.9324992299079895, -0.09118537604808807, -1.0613477230072021, -1.4107425212860107, -0.9341339468955994, 0.08925920724868774, 1.060804009437561, 1.4116665124893188, 0.9364373683929443, -0.08716455847024918, -1.0601521730422974, -1.4124865531921387, -0.9382724165916443, 0.08521630614995956, 1.0596033334732056, 1.4136674404144287, 0.9405744671821594, -0.08328783512115479, -1.0588840246200562, -1.4150227308273315, -0.9430556893348694, 0.08156003057956696, 1.0586798191070557, 1.4163273572921753, 0.9445960521697998, -0.08018667995929718, -1.0583559274673462, -1.4170399904251099, -0.945964515209198, 0.07946355640888214, 1.058716058731079, 1.4182779788970947, 0.947283148765564, -0.07851441949605942, -1.0590109825134277, -1.4190897941589355, -0.948173463344574, 0.07865921407938004, 1.0599080324172974, 1.4202743768692017, 0.9489502310752869, -0.07900779694318771, -1.060703158378601, -1.4212291240692139, -0.9488818049430847, 0.07978832721710205, 1.0620782375335693, 1.4228620529174805, 0.9493942856788635, -0.08047189563512802, -1.0640451908111572, -1.4244105815887451, -0.9500201940536499, 0.08201585710048676, 1.066353678703308, 1.426184892654419, 0.950553297996521, -0.08286462724208832, -1.0682621002197266, -1.4281636476516724, -0.9510939717292786, 0.08368182927370071, 1.0702730417251587, 1.4303926229476929, 0.9521299600601196, -0.08396949619054794, -1.0718973875045776, -1.4323921203613281, -0.953417181968689, 0.08459513634443283, 1.0738223791122437, 1.4344077110290527, 0.9549304842948914, -0.08412613719701767, -1.07453453540802, -1.4356399774551392, -0.9558433890342712, 0.08386769890785217, 1.075037956237793, 1.436727523803711, 0.9573468565940857, -0.08280225098133087, -1.0744643211364746, -1.4372904300689697, -0.9585500955581665, 0.08125153183937073, 1.0737106800079346, 1.4377673864364624, 0.9605346322059631, -0.07889959216117859, -1.0721263885498047, -1.4382466077804565, -0.9622174501419067, 0.07666061818599701, 1.0710489749908447, 1.438928246498108, 0.9642741680145264, -0.07450876384973526, -1.069773554801941, -1.4389073848724365, -0.9655397534370422, 0.07314635068178177, 1.068992018699646, 1.4394043684005737, 0.9666942358016968, -0.07175583392381668, -1.068499207496643, -1.4393291473388672, -0.9673483371734619, 0.07144337147474289, 1.0680551528930664, 1.4393316507339478, 0.9674432277679443, -0.07133472710847855, -1.068068027496338, -1.4392075538635254, -0.9670572876930237, 0.07203737646341324, 1.0686461925506592, 1.4391719102859497, 0.9662180542945862, -0.07254291325807571, -1.0689228773117065, -1.4388878345489502, -0.9655038118362427, 0.07343549281358719, 1.0692230463027954, 1.4384679794311523, 0.9648007750511169, -0.07449521869421005, -1.0697022676467896, -1.4384419918060303, -0.9642138481140137, 0.07523313909769058, 1.0705029964447021, 1.4384734630584717, 0.9635496735572815, -0.07599259912967682, -1.0711333751678467, -1.4385013580322266, -0.9632238745689392, 0.07671742886304855, 1.0717318058013916, 1.4385418891906738, 0.9628726840019226, -0.0771297886967659, -1.0717878341674805, -1.438376784324646, -0.9621629118919373, 0.0778266116976738, 1.0723620653152466, 1.4388312101364136, 0.962035596370697, -0.07802467048168182, -1.0723719596862793, -1.4382858276367188, -0.9613527059555054, 0.07900647073984146, 1.072778582572937, 1.4373674392700195, 0.9604604244232178, -0.07901974022388458, -1.0717670917510986, -1.4366099834442139, -0.9596166610717773, 0.07896773517131805, 1.0709339380264282, 1.4353435039520264, 0.959100067615509, -0.07857220619916916, -1.0700163841247559, -1.4340351819992065, -0.9582653641700745, 0.07831510901451111, 1.0686289072036743, 1.4328241348266602, 0.9576134085655212, -0.07751791924238205, -1.0667603015899658, -1.4308993816375732, -0.9568852782249451, 0.07724575698375702, 1.0653562545776367, 1.4292043447494507, 0.955890417098999, -0.07687381654977798, -1.0641649961471558, -1.4275155067443848, -0.9543362855911255, 0.07775434851646423, 1.0638560056686401, 1.426003336906433, 0.9528249502182007, -0.07898444682359695, -1.0639019012451172, -1.4248183965682983, -0.9506070613861084, 0.08051872998476028, 1.0645828247070312, 1.4240927696228027, 0.9490109086036682, -0.08287255465984344, -1.0655332803726196, -1.4236938953399658, -0.9466896057128906, 0.08540899306535721, 1.067784309387207, 1.423949122428894, 0.9449747204780579, -0.08830749243497849, -1.0693790912628174, -1.4235044717788696, -0.9425780773162842, 0.09091989696025848, 1.0710172653198242, 1.4231621026992798, 0.9404410123825073, -0.09308367967605591, -1.0718573331832886, -1.4220165014266968, -0.938193678855896, 0.09500031918287277, 1.0723050832748413, 1.420935034751892, 0.9364195466041565, -0.09635721147060394, -1.0720019340515137, -1.418797492980957, -0.9341902136802673, 0.09761244803667068, 1.0714750289916992, 1.4171292781829834, 0.9320951104164124, -0.09842479974031448, -1.0703405141830444, -1.414772629737854, -0.9298951029777527, 0.09891532361507416, 1.0690951347351074, 1.4120482206344604, 0.928087055683136, -0.09894939512014389, -1.0670855045318604, -1.4094066619873047, -0.9263386726379395, 0.09836912155151367, 1.064595103263855, 1.4068269729614258, 0.9254120588302612, -0.09715594351291656, -1.0626720190048218, -1.4050625562667847, -0.9249886274337769, 0.09608341008424759, 1.0608277320861816, 1.404556393623352, 0.92595374584198, -0.0948714166879654, -1.0602384805679321, -1.4048110246658325, -0.9268069267272949, 0.09412475675344467, 1.060495376586914, 1.4063009023666382, 0.9282664656639099, -0.09362836927175522, -1.0617663860321045, -1.4082638025283813, -0.9298585057258606, 0.09373614192008972, 1.0637965202331543, 1.4110392332077026, 0.9316353797912598, -0.09448310732841492, -1.0658262968063354, -1.4136754274368286, -0.9329100251197815, 0.0953858271241188, 1.068759560585022, 1.416634440422058, 0.9343270063400269, -0.09618999809026718, -1.0714478492736816, -1.418962001800537, -0.9351814985275269, 0.097466379404068, 1.0735403299331665, 1.4213389158248901, 0.9367409348487854, -0.09776986390352249, -1.0751497745513916, -1.4230364561080933, -0.9372265934944153, 0.09818997234106064, 1.0766737461090088, 1.4246504306793213, 0.9383133053779602, -0.09800320863723755, -1.0775129795074463, -1.4256891012191772, -0.9385519623756409, 0.09779560565948486, 1.0772944688796997, 1.426077127456665, 0.9393266439437866, -0.09713464230298996, -1.0765774250030518, -1.4256422519683838, -0.9401136040687561, 0.09629008173942566, 1.0760748386383057, 1.4258984327316284, 0.9408178329467773, -0.09519726783037186, -1.0751352310180664, -1.4256678819656372, -0.9412593245506287, 0.09422417730093002, 1.0747042894363403, 1.4256902933120728, 0.9417881369590759, -0.09352386742830276, -1.0741479396820068, -1.4258134365081787, -0.9422425627708435, 0.0932917594909668, 1.074047327041626, 1.4258733987808228, 0.9426417946815491, -0.09312461316585541, -1.0742441415786743, -1.426458477973938, -0.9429889917373657, 0.09277824312448502, 1.0750925540924072, 1.4275559186935425, 0.9438009858131409, -0.09289852529764175, -1.0757817029953003, -1.4284566640853882, -0.9444949626922607, 0.09306669235229492, 1.076500415802002, 1.4296621084213257, 0.9450687766075134, -0.09350542724132538, -1.0777696371078491, -1.4306432008743286, -0.945159375667572, 0.09405336529016495, 1.0780096054077148, 1.4306552410125732, 0.9447142481803894, -0.09437992423772812, -1.0780832767486572, -1.4301272630691528, -0.9441284537315369, 0.09490314871072769, 1.078102707862854, 1.4294555187225342, 0.9430338740348816, -0.0956178680062294, -1.077444076538086, -1.4277523756027222, -0.941359281539917, 0.09671764820814133, 1.0772322416305542, 1.4260486364364624, 0.9390969276428223, -0.09739241003990173, -1.0760526657104492, -1.4234622716903687, -0.9367143511772156, 0.0983305424451828, 1.0752536058425903, 1.421633243560791, 0.9350904226303101, -0.09905311465263367, -1.0744538307189941, -1.4195783138275146, -0.9331197142601013, 0.09967341274023056, 1.0737438201904297, 1.4180978536605835, 0.9318221211433411, -0.1002710610628128, -1.0729765892028809, -1.4168751239776611, -0.9309741258621216, 0.10053801536560059, 1.0724623203277588, 1.4167267084121704, 0.9312530159950256, -0.09955306351184845, -1.0721863508224487, -1.417230486869812, -0.9320597052574158, 0.09880158305168152, 1.0722428560256958, 1.4182713031768799, 0.9343742728233337, -0.09732715785503387, -1.0726351737976074, -1.4203104972839355, -0.9369337558746338, 0.09570131450891495, 1.073386549949646, 1.4231971502304077, 0.9400070905685425, -0.09410569071769714, -1.074204921722412, -1.4260414838790894, -0.9427033066749573, 0.09285791963338852, 1.0757482051849365, 1.4291051626205444, 0.9452134370803833, -0.092459537088871, -1.0767922401428223, -1.431139349937439, -0.9468134641647339, 0.09254752099514008, 1.0781476497650146, 1.432350993156433, 0.9471355676651001, -0.09251295030117035, -1.0783920288085938, -1.4325566291809082, -0.9473548531532288, 0.09275604784488678, 1.0783870220184326, 1.4323461055755615, 0.9473909735679626, -0.09212931990623474, -1.0772151947021484, -1.4306917190551758, -0.9464863538742065, 0.09189386665821075, 1.0758140087127686, 1.4290956258773804, 0.9459733963012695, -0.09078410267829895, -1.073469877243042, -1.427123785018921, -0.9454177618026733, 0.08978704363107681, 1.0715727806091309, 1.425934910774231, 0.945368230342865, -0.08831530064344406, -1.069785237312317, -1.4246875047683716, -0.9457017183303833, 0.08681708574295044, 1.0683797597885132, 1.424486517906189, 0.9466128945350647, -0.08561471849679947, -1.0674532651901245, -1.4242674112319946, -0.9472734928131104, 0.08480869233608246, 1.0673859119415283, 1.4252382516860962, 0.9484950304031372, -0.08394192159175873, -1.0671675205230713, -1.425743818283081, -0.9490788578987122, 0.08378304541110992, 1.0674035549163818, 1.426384687423706, 0.9498327374458313, -0.08302401751279831, -1.0671837329864502, -1.4263627529144287, -0.9503340125083923, 0.08264865726232529, 1.0672928094863892, 1.4264510869979858, 0.9503820538520813, -0.08224992454051971, -1.0665028095245361, -1.4257068634033203, -0.9500738978385925, 0.08210265636444092, 1.0657074451446533, 1.4249111413955688, 0.9495236873626709, -0.08211681246757507, -1.0647517442703247, -1.4235519170761108, -0.9480257034301758, 0.08231094479560852, 1.0639073848724365, 1.4219553470611572, 0.9467117190361023, -0.08275618404150009, -1.0628472566604614, -1.4198062419891357, -0.9441549777984619, 0.08434665203094482, 1.0627268552780151, 1.4179757833480835, 0.9419021606445312, -0.08601151406764984, -1.0624412298202515, -1.4155423641204834, -0.9390683174133301, 0.0878872349858284, 1.062368392944336, 1.4135158061981201, 0.9364091157913208, -0.08979249000549316, -1.0627610683441162, -1.4123340845108032, -0.9337718486785889, 0.09178528934717178, 1.0636776685714722, 1.4117907285690308, 0.9322413802146912, -0.09380452334880829, -1.0649172067642212, -1.4112359285354614, -0.9301138520240784, 0.09581861644983292, 1.066270351409912, 1.4114729166030884, 0.9294865131378174, -0.09709233045578003, -1.067206621170044, -1.4118551015853882, -0.9292356967926025, 0.09765580296516418, 1.0677906274795532, 1.4128473997116089, 0.9306425452232361, -0.09712105244398117, -1.0686283111572266, -1.4152084589004517, -0.9332603216171265, 0.09595382958650589, 1.0696619749069214, 1.4182602167129517, 0.9368295073509216, -0.09400877356529236, -1.0709336996078491, -1.421852946281433, -0.9402543306350708, 0.0928843691945076, 1.0728847980499268, 1.4255328178405762, 0.9440823197364807, -0.09104685485363007, -1.0741486549377441, -1.4290473461151123, -0.9470142722129822, 0.09010980278253555, 1.0757404565811157, 1.4319140911102295, 0.949448823928833, -0.08976998925209045, -1.0770634412765503, -1.4335308074951172, -0.9506356716156006, 0.0896352007985115, 1.077702522277832, 1.4346623420715332, 0.9508302211761475, -0.09014735370874405, -1.0780977010726929, -1.4345368146896362, -0.9504945874214172, 0.0902591198682785, 1.078091025352478, 1.4340792894363403, 0.9498939514160156, -0.09043785184621811, -1.0775482654571533, -1.4326685667037964, -0.9482830166816711, 0.09106823056936264, 1.0766419172286987, 1.430987000465393, 0.9470200538635254, -0.09132060408592224, -1.0754040479660034, -1.4288089275360107, -0.9456758499145508, 0.09127146750688553, 1.0739974975585938, 1.4270902872085571, 0.9447148442268372, -0.09094900637865067, -1.072452187538147, -1.4258618354797363, -0.9442437291145325, 0.09012862294912338, 1.0714268684387207, 1.4251282215118408, 0.9443843364715576, -0.08918501436710358, -1.070446252822876, -1.4249541759490967, -0.9449918270111084, 0.08815819770097733, 1.0700074434280396, 1.4252607822418213, 0.9464066624641418, -0.08678765594959259, -1.069253921508789, -1.4258806705474854, -0.9477529525756836, 0.0853995606303215, 1.068799376487732, 1.4270780086517334, 0.9500844478607178, -0.08324188739061356, -1.0680797100067139, -1.42790949344635, -0.9521573781967163, 0.08146164566278458, 1.0677043199539185, 1.428929090499878, 0.9542213678359985, -0.07915563136339188, -1.066611886024475, -1.4295430183410645, -0.9555395245552063, 0.07775676995515823, 1.0654423236846924, 1.4291843175888062, 0.9563612341880798, -0.07638674229383469, -1.0639572143554688, -1.428251028060913, -0.9558785557746887, 0.0758642628788948, 1.062800645828247, 1.4263519048690796, 0.9549857378005981, -0.07541370391845703, -1.0610015392303467, -1.4241117238998413, -0.9528931975364685, 0.07592766731977463, 1.0598469972610474, 1.42190682888031, 0.9506706595420837, -0.07701675593852997, -1.05866277217865, -1.4192696809768677, -0.9477430582046509, 0.07895984500646591, 1.0582002401351929, 1.4165852069854736, 0.9443708062171936, -0.08029387891292572, -1.0575928688049316, -1.4143577814102173, -0.941544771194458, 0.08219186961650848, 1.0574772357940674, 1.4125423431396484, 0.9393000602722168, -0.0842052772641182, -1.0579347610473633, -1.4115335941314697, -0.9373455047607422, 0.08569890260696411, 1.0585097074508667, 1.411054015159607, 0.9360847473144531, -0.08768162131309509, -1.0599591732025146, -1.411113977432251, -0.9349419474601746, 0.08916448801755905, 1.061270833015442, 1.4115486145019531, 0.9342182874679565, -0.09083086997270584, -1.0628724098205566, -1.4122577905654907, -0.9339799880981445, 0.09168119728565216, 1.0637242794036865, 1.4127956628799438, 0.9345451593399048, -0.09110172092914581, -1.0635948181152344, -1.413408637046814, -0.9355610609054565, 0.09020973742008209, 1.063326120376587, 1.4143235683441162, 0.9373341202735901, -0.08825785666704178, -1.0624573230743408, -1.4149231910705566, -0.9394456744194031, 0.08632446825504303, 1.0614789724349976, 1.415561556816101, 0.9417005777359009, -0.08380773663520813, -1.0602068901062012, -1.4164167642593384, -0.9437160491943359, 0.08112264424562454, 1.0591753721237183, 1.4170604944229126, 0.9453762173652649, -0.07996442914009094, -1.0582128763198853, -1.4167438745498657, -0.946095883846283, 0.07870899140834808, 1.0573725700378418, 1.4168164730072021, 0.9466439485549927, -0.0780482068657875, -1.056476354598999, -1.416337251663208, -0.9467341899871826, 0.07772460579872131, 1.056422233581543, 1.416261076927185, 0.9465265274047852, -0.07731947302818298, -1.05597984790802, -1.4161943197250366, -0.9465683698654175, 0.07754209637641907, 1.0563137531280518, 1.4164279699325562, 0.9469673037528992, -0.07746146619319916, -1.0569239854812622, -1.417119026184082, -0.9472570419311523, 0.07765772193670273, 1.0577656030654907, 1.4185221195220947, 0.948307454586029, -0.07772982120513916, -1.0584304332733154, -1.4196189641952515, -0.9488816261291504, 0.07763028144836426, 1.059191107749939, 1.4206197261810303, 0.949938178062439, -0.07710768282413483, -1.0595706701278687, -1.4216482639312744, -0.9512706995010376, 0.07668568193912506, 1.0599323511123657, 1.4225893020629883, 0.9525334239006042, -0.07619421184062958, -1.060068964958191, -1.4234161376953125, -0.9531647562980652, 0.07550758123397827, 1.0603046417236328, 1.4242677688598633, 0.9536195993423462, -0.07515095174312592, -1.060258150100708, -1.4244393110275269, -0.954271674156189, 0.0748784989118576, 1.0607450008392334, 1.4249237775802612, 0.9547362923622131, -0.07531224936246872, -1.0615648031234741, -1.4258511066436768, -0.9546420574188232, 0.07613734155893326, 1.0625470876693726, 1.4267513751983643, 0.9547505974769592, -0.07693701237440109, -1.0636407136917114, -1.4277147054672241, -0.9544666409492493, 0.07812311500310898, 1.0653724670410156, 1.4283312559127808, 0.9539816379547119, -0.07916674762964249, -1.0665980577468872, -1.4289968013763428, -0.9539169669151306, 0.08027307689189911, 1.067794919013977, 1.4298466444015503, 0.9538570642471313, -0.08107614517211914, -1.0687977075576782, -1.4306504726409912, -0.9537393450737, 0.08188463747501373, 1.0698413848876953, 1.4312554597854614, 0.9538255333900452, -0.08261219412088394, -1.0710660219192505, -1.4317069053649902, -0.9535220861434937, 0.08326296508312225, 1.0712987184524536, 1.4320282936096191, 0.9533151388168335, -0.08369813114404678, -1.0711606740951538, -1.4315041303634644, -0.9528470635414124, 0.08339458703994751, 1.0706645250320435, 1.4306652545928955, 0.9528027772903442, -0.08295336365699768, -1.0698646306991577, -1.4301570653915405, -0.9527156949043274, 0.08260104060173035, 1.069110631942749, 1.4293911457061768, 0.9523555636405945, -0.08231684565544128, -1.0681910514831543, -1.4283398389816284, -0.951656699180603, 0.0825042724609375, 1.0679773092269897, 1.4277998208999634, 0.950627326965332, -0.08273489773273468, -1.0674101114273071, -1.4267456531524658, -0.9496110081672668, 0.08342506736516953, 1.0676649808883667, 1.426135540008545, 0.9488103985786438, -0.08415160328149796, -1.067660927772522, -1.4257053136825562, -0.9482554793357849, 0.08515847474336624, 1.068276047706604, 1.4256110191345215, 0.9476698040962219, -0.0854511708021164, -1.0686490535736084, -1.425324559211731, -0.9469831585884094, 0.08608326315879822, 1.0689592361450195, 1.4250975847244263, 0.9467482566833496, -0.08620184659957886, -1.068642020225525, -1.4246983528137207, -0.9459086060523987, 0.08707289397716522, 1.068154215812683, 1.4238073825836182, 0.945328414440155, -0.08706380426883698, -1.0675305128097534, -1.4224317073822021, -0.944279670715332, 0.08704765886068344, 1.0664974451065063, 1.421088457107544, 0.9432374238967896, -0.08639179915189743, -1.0648748874664307, -1.4195767641067505, -0.9424457550048828, 0.0856982171535492, 1.0627539157867432, 1.4174613952636719, 0.9419947862625122, -0.08428716659545898, -1.060674786567688, -1.4157668352127075, -0.9419651627540588, 0.08303410559892654, 1.058861255645752, 1.414599061012268, 0.9420375227928162, -0.08170002698898315, -1.0564899444580078, -1.41266667842865, -0.9419876337051392, 0.08022215962409973, 1.0550755262374878, 1.4117990732192993, 0.9420661926269531, -0.07898709923028946, -1.0538808107376099, -1.4117013216018677, -0.9428452253341675, 0.07869723439216614, 1.0542546510696411, 1.41252863407135, 0.9435070157051086, -0.07883693277835846, -1.05535089969635, -1.413764238357544, -0.9439939856529236, 0.07966534048318863, 1.057639241218567, 1.4163668155670166, 0.9450754523277283, -0.08061064779758453, -1.0602329969406128, -1.4192240238189697, -0.9464514255523682, 0.08195842802524567, 1.0640617609024048, 1.4232163429260254, 0.9483451843261719, -0.08344392478466034, -1.0679759979248047, -1.427309513092041, -0.9500487446784973, 0.08563879132270813, 1.0724965333938599, 1.4314169883728027, 0.9510896801948547, -0.0873415619134903, -1.0760053396224976, -1.4345877170562744, -0.9522309899330139, 0.08925994485616684, 1.0795215368270874, 1.4373884201049805, 0.9528700113296509, -0.09093335270881653, -1.0821245908737183, -1.4394946098327637, -0.9524125456809998, 0.09318216890096664, 1.0846575498580933, 1.4401508569717407, 0.9516193866729736, -0.09498497098684311, -1.0858376026153564, -1.4399008750915527, -0.9498563408851624, 0.09635163843631744, 1.0860974788665771, 1.438655138015747, 0.9484665393829346, -0.09743640571832657, -1.085597038269043, -1.4369761943817139, -0.9466676115989685, 0.09816394746303558, 1.0847444534301758, 1.435309886932373, 0.9456053972244263, -0.09801025688648224, -1.0830047130584717, -1.4338024854660034, -0.9449219107627869, 0.09725036472082138, 1.0822336673736572, 1.4330705404281616, 0.944932222366333, -0.09645235538482666, -1.0806114673614502, -1.4319933652877808, -0.9452297687530518, 0.09463237971067429, 1.0790389776229858, 1.4316513538360596, 0.9462741017341614, -0.09270981699228287, -1.0774226188659668, -1.4316432476043701, -0.9480704665184021, 0.09034694731235504, 1.0759830474853516, 1.431881070137024, 0.950109601020813, -0.08762611448764801, -1.074131727218628, -1.4325506687164307, -0.9523752331733704, 0.08520723134279251, 1.0727617740631104, 1.4328292608261108, 0.9543582797050476, -0.08288117498159409, -1.071828007698059, -1.433172345161438, -0.9555012583732605, 0.08126315474510193, 1.0706866979599, 1.4332343339920044, 0.9565872550010681, -0.08009923249483109, -1.0696467161178589, -1.4326074123382568, -0.9565281271934509, 0.07950329780578613, 1.0682129859924316, 1.4309253692626953, 0.955621063709259, -0.07906270027160645, -1.0664721727371216, -1.4287216663360596, -0.9541589617729187, 0.07918894290924072, 1.0652668476104736, 1.4263739585876465, 0.9521543383598328, -0.07948140054941177, -1.0631253719329834, -1.4236576557159424, -0.9496376514434814, 0.07974511384963989, 1.06137216091156, 1.4202638864517212, 0.9473188519477844, -0.07987562566995621, -1.059224009513855, -1.417579174041748, -0.9454156160354614, 0.07997738569974899, 1.0572656393051147, 1.415365219116211, 0.9442980885505676, -0.07956328988075256, -1.0559918880462646, -1.4134358167648315, -0.9430407285690308, 0.07925998419523239, 1.055232286453247, 1.4126955270767212, 0.9428454041481018, -0.07886621356010437, -1.0546001195907593, -1.412307620048523, -0.942690372467041, 0.07931496948003769, 1.0545859336853027, 1.4122940301895142, 0.942518949508667, -0.07917474210262299, -1.0546725988388062, -1.4122588634490967, -0.9426052570343018, 0.07938147336244583, 1.0547112226486206, 1.4127315282821655, 0.943231999874115, -0.07844149321317673, -1.0541058778762817, -1.412771463394165, -0.9438524842262268, 0.07793053984642029, 1.053998351097107, 1.4132152795791626, 0.9449154734611511, -0.07681141048669815, -1.0535646677017212, -1.4134763479232788, -0.945850133895874, 0.07606294751167297, 1.0533877611160278, 1.4134403467178345, 0.9459560513496399, -0.07554543018341064, -1.0528017282485962, -1.4131972789764404, -0.9460580945014954, 0.07540907710790634, 1.0522464513778687, 1.4129282236099243, 0.9457502961158752, -0.0753653421998024, -1.052064061164856, -1.4120115041732788, -0.9449628591537476, 0.07592462748289108, 1.0522992610931396, 1.4115208387374878, 0.9439427256584167, -0.0766204223036766, -1.0524799823760986, -1.41134774684906, -0.9429013133049011, 0.07837804406881332, 1.0534911155700684, 1.4110816717147827, 0.94156414270401, -0.08029429614543915, -1.0548715591430664, -1.4109388589859009, -0.9397536516189575, 0.0828041210770607, 1.0568366050720215, 1.411510705947876, 0.9384244680404663, -0.08512416481971741, -1.059022307395935, -1.412075400352478, -0.9372252225875854, 0.08760515600442886, 1.0617940425872803, 1.4136778116226196, 0.9366496205329895, -0.08991531282663345, -1.0641918182373047, -1.4150639772415161, -0.9360617399215698, 0.09205683320760727, 1.066623330116272, 1.4168001413345337, 0.936078667640686, -0.09352974593639374, -1.0688583850860596, -1.4181376695632935, -0.936179518699646, 0.0946778804063797, 1.0707097053527832, 1.4199001789093018, 0.9369303584098816, -0.09533977508544922, -1.0721379518508911, -1.4212076663970947, -0.9377132058143616, 0.09546992927789688, 1.0732982158660889, 1.4227728843688965, 0.9389480948448181, -0.09501788765192032, -1.0736415386199951, -1.4238221645355225, -0.9399522542953491, 0.09453561156988144, 1.0744634866714478, 1.4252378940582275, 0.941132128238678, -0.09456080198287964, -1.0748287439346313, -1.425733208656311, -0.9414040446281433, 0.09442966431379318, 1.0751975774765015, 1.4262038469314575, 0.9417002201080322, -0.0942206010222435, -1.0751553773880005, -1.426059603691101, -0.9413958191871643, 0.09451671689748764, 1.0752637386322021, 1.425588846206665, 0.9411225318908691, -0.09464379400014877, -1.0748238563537598, -1.4250961542129517, -0.940479576587677, 0.09487815946340561, 1.074575424194336, 1.4245551824569702, 0.9399402141571045, -0.0951659232378006, -1.0737078189849854, -1.4234637022018433, -0.9391788244247437, 0.0951705351471901, 1.0734124183654785, 1.422784447669983, 0.9387263655662537, -0.09457989037036896, -1.072288990020752, -1.4215997457504272, -0.9386040568351746, 0.09372061491012573, 1.0708885192871094, 1.4212204217910767, 0.9395808577537537, -0.09162263572216034, -1.0688594579696655, -1.420668363571167, -0.9410327076911926, 0.08893601596355438, 1.0669316053390503, 1.420249342918396, 0.9431241154670715, -0.08562678098678589, -1.0642499923706055, -1.4205836057662964, -0.9456601738929749, 0.08213366568088531, 1.0618137121200562, 1.4205342531204224, 0.9487568736076355, -0.07784541696310043, -1.0588818788528442, -1.4205836057662964, -0.9513891339302063, 0.07429345697164536, 1.0567597150802612, 1.4213027954101562, 0.9544118642807007, -0.07088626176118851, -1.0545583963394165, -1.4213614463806152, -0.9565485119819641, 0.06794656068086624, 1.052549123764038, 1.4208647012710571, 0.9579609632492065, -0.06569873541593552, -1.0504014492034912, -1.4199306964874268, -0.9584282040596008, 0.06367310136556625, 1.048344612121582, 1.418869137763977, 0.9587194323539734, -0.06153470277786255, -1.0453122854232788, -1.4172025918960571, -0.9588720202445984, 0.0601358488202095, 1.0429919958114624, 1.415303349494934, 0.9587622880935669, -0.05854625627398491, -1.0412436723709106, -1.4139189720153809, -0.9584165215492249, 0.05774418264627457, 1.0397984981536865, 1.41273033618927, 0.9581537842750549, -0.05719734728336334, -1.0388953685760498, -1.411888599395752, -0.9577071666717529, 0.05772847309708595, 1.0389236211776733, 1.4114112854003906, 0.9572416543960571, -0.05791391432285309, -1.0391464233398438, -1.4117904901504517, -0.9568225145339966, 0.05886026844382286, 1.0401428937911987, 1.412162184715271, 0.9567793011665344, -0.05939836800098419, -1.0410306453704834, -1.4123342037200928, -0.9565271139144897, 0.06045189127326012, 1.0420335531234741, 1.4129921197891235, 0.9562339186668396, -0.06042133644223213, -1.0422790050506592, -1.4135501384735107, -0.9565222263336182, 0.06104300543665886, 1.0429868698120117, 1.4141697883605957, 0.9567211270332336, -0.062065597623586655, -1.0441851615905762, -1.4149136543273926, -0.9561532139778137, 0.06322924047708511, 1.0454559326171875, 1.4153560400009155, 0.9551974534988403, -0.06500475108623505, -1.0472862720489502, -1.4155840873718262, -0.9540084600448608, 0.06755324453115463, 1.049731969833374, 1.4165263175964355, 0.9522228837013245, -0.07026124000549316, -1.0523346662521362, -1.41715669631958, -0.9504805207252502, 0.07367076724767685, 1.055172324180603, 1.4181278944015503, 0.9487138986587524, -0.07703667134046555, -1.058260202407837, -1.419236183166504, -0.9476222395896912, 0.08013936877250671, 1.0611767768859863, 1.4205039739608765, 0.9464291930198669, -0.0830862820148468, -1.0641987323760986, -1.4217275381088257, -0.9455482363700867, 0.08519486337900162, 1.0668836832046509, 1.4233756065368652, 0.945316731929779, -0.08689091354608536, -1.069332480430603, -1.425290584564209, -0.94566810131073, 0.08836733549833298, 1.0711339712142944, 1.4265763759613037, 0.9460296630859375, -0.08930060267448425, -1.0726767778396606, -1.4280977249145508, -0.9465093016624451, 0.08991032838821411, 1.073862075805664, 1.4293181896209717, 0.9471104741096497, -0.09038782119750977, -1.0750428438186646, -1.4299899339675903, -0.9474005699157715, 0.09046108275651932, 1.0757416486740112, 1.4311660528182983, 0.948052704334259, -0.09063559770584106, -1.0760552883148193, -1.4315840005874634, -0.9486770629882812, 0.09063150733709335, 1.076940894126892, 1.4328314065933228, 0.9492666125297546, -0.09076027572154999, -1.0777215957641602, -1.4334657192230225, -0.9493619203567505, 0.09081272035837173, 1.0781694650650024, 1.434563398361206, 0.9502354860305786, -0.09072228521108627, -1.0790256261825562, -1.4357075691223145, -0.9515676498413086, 0.09037674963474274, 1.0800690650939941, 1.4374041557312012, 0.9532844424247742, -0.08981142193078995, -1.0807881355285645, -1.4390758275985718, -0.954841673374176, 0.08900085091590881, 1.081231713294983, 1.4413115978240967, 0.9572739005088806, -0.08750060200691223, -1.0820436477661133, -1.4428269863128662, -0.9593136310577393, 0.08618075400590897, 1.0819947719573975, 1.4446402788162231, 0.9617679119110107, -0.08427226543426514, -1.0813261270523071, -1.4457039833068848, -0.9638953804969788, 0.08249008655548096, 1.0806246995925903, 1.44645357131958, 0.9658493399620056, -0.08088216185569763, -1.0797902345657349, -1.4467159509658813, -0.9666826725006104, 0.07963597774505615, 1.0787208080291748, 1.4462690353393555, 0.9668875932693481, -0.07833358645439148, -1.0776166915893555, -1.44533371925354, -0.9666849374771118, 0.0781550407409668, 1.0766284465789795, 1.444405198097229, 0.9661635160446167, -0.07792368531227112, -1.076060175895691, -1.4435051679611206, -0.965644121170044, 0.0778714045882225, 1.0757070779800415, 1.4429471492767334, 0.9649654030799866, -0.07813902199268341, -1.0757440328598022, -1.4425654411315918, -0.9644545912742615, 0.07858958095312119, 1.0761992931365967, 1.4430814981460571, 0.9646908044815063, -0.07928355783224106, -1.0766561031341553, -1.443289875984192, -0.9641996026039124, 0.07994893193244934, 1.077772617340088, 1.4443258047103882, 0.964239776134491, -0.08077167719602585, -1.0784497261047363, -1.444230079650879, -0.9640229344367981, 0.08135110884904861, 1.0789979696273804, 1.4442802667617798, 0.963379442691803, -0.0816570520401001, -1.078735113143921, -1.444137692451477, -0.9632723331451416, 0.08165193349123001, 1.0785927772521973, 1.443704605102539, 0.9634237289428711, -0.08113931864500046, -1.0780293941497803, -1.4435824155807495, -0.9637598991394043, 0.08077719062566757, 1.0776888132095337, 1.4432244300842285, 0.9635311365127563, -0.08066526800394058, -1.0772297382354736, -1.4425760507583618, -0.9627931118011475, 0.0810237005352974, 1.077187180519104, 1.4419407844543457, 0.9618639945983887, -0.08179932832717896, -1.0772300958633423, -1.4412155151367188, -0.9606482982635498, 0.08279816806316376, 1.0771684646606445, 1.439918875694275, 0.9590680599212646, -0.08372946828603745, -1.0772242546081543, -1.4388585090637207, -0.957410454750061, 0.08465039730072021, 1.0768165588378906, 1.4371360540390015, 0.9559205174446106, -0.08501823991537094, -1.075187087059021, -1.4352293014526367, -0.9543067216873169, 0.08479008823633194, 1.073439121246338, 1.433123230934143, 0.953327476978302, -0.0838724747300148, -1.0710129737854004, -1.4308146238327026, -0.9530254602432251, 0.08240073174238205, 1.0690016746520996, 1.4289175271987915, 0.952216625213623, -0.08157958090305328, -1.067577838897705, -1.4273858070373535, -0.9515916705131531, 0.08118628710508347, 1.0660327672958374, 1.425908088684082, 0.9506625533103943, -0.08110387623310089, -1.065503716468811, -1.4248647689819336, -0.9493345022201538, 0.08188023418188095, 1.065138578414917, 1.423642635345459, 0.9479992985725403, -0.08287518471479416, -1.0647774934768677, -1.4223997592926025, -0.9465131759643555, 0.0842733234167099, 1.0648114681243896, 1.4214448928833008, 0.9453945755958557, -0.0846342146396637, -1.0644848346710205, -1.4205915927886963, -0.9440315365791321, 0.08539257943630219, 1.064697265625, 1.4197427034378052, 0.9431696534156799, -0.08573480695486069, -1.0643694400787354, -1.4189164638519287, -0.9424593448638916, 0.08575532585382462, 1.0639207363128662, 1.418677806854248, 0.9423748850822449, -0.08528468757867813, -1.0630121231079102, -1.418504238128662, -0.9431527853012085, 0.0845985934138298, 1.0626593828201294, 1.4184775352478027, 0.9437464475631714, -0.08345068246126175, -1.0617214441299438, -1.4183062314987183, -0.9443398118019104, 0.08222775906324387, 1.0609290599822998, 1.4184675216674805, 0.9457457065582275, -0.08081294596195221, -1.0597602128982544, -1.418344259262085, -0.9467195272445679, 0.07935214042663574, 1.0589367151260376, 1.4182900190353394, 0.9473286271095276, -0.07865095883607864, -1.0581470727920532, -1.4183051586151123, -0.9476345181465149, 0.07799176871776581, 1.0578360557556152, 1.4177743196487427, 0.947857141494751, -0.07751740515232086, -1.057399034500122, -1.4177554845809937, -0.9474449157714844, 0.07727237045764923, 1.0569097995758057, 1.4170759916305542, 0.9473212957382202, -0.07710513472557068, -1.0563875436782837, -1.4164501428604126, -0.9465136528015137, 0.07752495259046555, 1.0564509630203247, 1.4163271188735962, 0.94633948802948, -0.0781237930059433, -1.056726098060608, -1.415838360786438, -0.9453240633010864, 0.07875235378742218, 1.0568822622299194, 1.4158622026443481, 0.9450080394744873, -0.07951027899980545, -1.057517647743225, -1.4157170057296753, -0.9443737268447876, 0.08054408431053162, 1.058374285697937, 1.4160462617874146, 0.9440171122550964, -0.08140575140714645, -1.0593421459197998, -1.4165966510772705, -0.9438402652740479, 0.08218041807413101, 1.0600512027740479, 1.4174344539642334, 0.9442006945610046, -0.08197920024394989, -1.060491681098938, -1.4176067113876343, -0.9448124170303345, 0.08196590095758438, 1.060907006263733, 1.4185017347335815, 0.945492684841156, -0.08084763586521149, -1.0602264404296875, -1.4184391498565674, -0.9461389780044556, 0.0803653672337532, 1.0594780445098877, 1.418372631072998, 0.9464917182922363, -0.0794336199760437, -1.0588325262069702, -1.4177491664886475, -0.9459966421127319, 0.0792529359459877, 1.0578802824020386, 1.416461706161499, 0.9453318119049072, -0.07936032116413116, -1.0570659637451172, -1.4150469303131104, -0.9438009858131409, 0.07998283952474594, 1.0564123392105103, 1.4137475490570068, 0.9420731663703918, -0.08116317540407181, -1.056138515472412, -1.4121471643447876, -0.93990159034729, 0.08284942060709, 1.0565177202224731, 1.4111778736114502, 0.9385653734207153, -0.0837777778506279, -1.0572785139083862, -1.410788655281067, -0.9374637603759766, 0.08528738468885422, 1.0587494373321533, 1.4118162393569946, 0.9377004504203796, -0.08649399131536484, -1.0601929426193237, -1.4133189916610718, -0.9375156164169312, 0.08791612088680267, 1.062248706817627, 1.4148849248886108, 0.938281238079071, -0.08830409497022629, -1.0642468929290771, -1.4168916940689087, -0.939464271068573, 0.08852963149547577, 1.0656766891479492, 1.419063925743103, 0.9413545727729797, -0.08801306784152985, -1.0668675899505615, -1.421010136604309, -0.9434044361114502, 0.08720085769891739, 1.0676722526550293, 1.422950267791748, 0.9454024434089661, -0.08661771565675735, -1.0680181980133057, -1.4242360591888428, -0.9467036724090576, 0.08586427569389343, 1.0682063102722168, 1.4252313375473022, 0.9478369355201721, -0.0850207582116127, -1.0684540271759033, -1.4260966777801514, -0.9485211968421936, 0.08488944172859192, 1.0686713457107544, 1.4265061616897583, 0.9488425850868225, -0.0850377306342125, -1.0687541961669922, -1.4265046119689941, -0.9485604166984558, 0.0850813090801239, 1.0689269304275513, 1.4267576932907104, 0.9487312436103821, -0.08479868620634079, -1.0686691999435425, -1.4265305995941162, -0.9486300349235535, 0.08490339666604996, 1.0686393976211548, 1.4264034032821655, 0.9490981698036194, -0.0843263491988182, -1.0684455633163452, -1.4269801378250122, -0.9499611854553223, 0.08340822160243988, 1.0685467720031738, 1.4278173446655273, 0.9514210224151611, -0.082555390894413, -1.068301796913147, -1.4286928176879883, -0.9524369239807129, 0.08161626011133194, 1.0682677030563354, 1.4299346208572388, 0.9540067315101624, -0.08066770434379578, -1.068365216255188, -1.4304403066635132, -0.9548399448394775, 0.08003457635641098, 1.068202018737793, 1.4305955171585083, 0.9549381732940674, -0.07977047562599182, -1.0676605701446533, -1.4299079179763794, -0.9538254141807556, 0.08034475147724152, 1.0670033693313599, 1.4281798601150513, 0.9528067708015442, -0.08037375658750534, -1.0655368566513062, -1.4257999658584595, -0.950640857219696, 0.080817811191082, 1.0645369291305542, 1.4240219593048096, 0.9491007328033447, -0.08076635748147964, -1.0631119012832642, -1.4219690561294556, -0.947681188583374, 0.08124276995658875, 1.0623400211334229, 1.4203847646713257, 0.9463815689086914, -0.08216343075037003, -1.0619902610778809, -1.4195308685302734, -0.9453907012939453, 0.08258694410324097, 1.0618062019348145, 1.4190642833709717, 0.9450841546058655, -0.08298289030790329, -1.0623986721038818, -1.4192394018173218, -0.9445329308509827, 0.08338715881109238, 1.0629209280014038, 1.4195475578308105, 0.9444324374198914, -0.08401889353990555, -1.063637137413025, -1.4203568696975708, -0.9446301460266113, 0.08467590808868408, 1.064390778541565, 1.420838475227356, 0.9447261095046997, -0.08495085686445236, -1.065466284751892, -1.4217636585235596, -0.9447398781776428, 0.08579765260219574, 1.0669193267822266, 1.4227333068847656, 0.9449369311332703, -0.08696422725915909, -1.0683575868606567, -1.4235576391220093, -0.9444637894630432, 0.08811618387699127, 1.069512963294983, 1.4242156744003296, 0.9439692497253418, -0.08962715417146683, -1.0711712837219238, -1.425101637840271, -0.9436100125312805, 0.09099976718425751, 1.0724986791610718, 1.4256739616394043, 0.9431977272033691, -0.09249548614025116, -1.074022650718689, -1.426626205444336, -0.943178117275238, 0.09362416714429855, 1.0762091875076294, 1.428226351737976, 0.9434683322906494, -0.09475843608379364, -1.0781959295272827, -1.4301095008850098, -0.9442474246025085, 0.09593832492828369, 1.0804404020309448, 1.4321708679199219, 0.944923996925354, -0.09689230471849442, -1.0824308395385742, -1.43415367603302, -0.9456189274787903, 0.09759079664945602, 1.0843453407287598, 1.435824990272522, 0.9462898373603821, -0.09814781695604324, -1.0851963758468628, -1.43695867061615, -0.9467474222183228, 0.0982351154088974, 1.0854096412658691, 1.4368906021118164, 0.9470665454864502, -0.09762957692146301, -1.084093451499939, -1.4357532262802124, -0.9465993642807007, 0.09611378610134125, 1.0814467668533325, 1.433120846748352, 0.9463099837303162, -0.093708336353302, -1.0776591300964355, -1.4298628568649292, -0.945491373538971, 0.09054934233427048, 1.0722452402114868, 1.4254448413848877, 0.9450474977493286, -0.08708842098712921, -1.0665782690048218, -1.420764446258545, -0.9435375928878784, 0.08394263684749603, 1.0605509281158447, 1.4157243967056274, 0.9421858787536621, -0.08110515028238297, -1.054892897605896, -1.4101969003677368, -0.9401046633720398, 0.07875656336545944, 1.0500379800796509, 1.4052082300186157, 0.938010036945343, -0.07716954499483109, -1.045716643333435, -1.4008824825286865, -0.9362143874168396, 0.07608658075332642, 1.042712926864624, 1.3981000185012817, 0.9347435832023621, -0.07534229755401611, -1.040271520614624, -1.3958020210266113, -0.9338842034339905, 0.07487805187702179, 1.0395787954330444, 1.3952863216400146, 0.9341296553611755, -0.074093297123909, -1.0394976139068604, -1.3955971002578735, -0.9345059394836426, 0.07392850518226624, 1.0394107103347778, 1.3964767456054688, 0.9357162714004517, -0.07357922941446304, -1.0400447845458984, -1.3974272012710571, -0.936430037021637, 0.07351722568273544, 1.0405848026275635, 1.398768424987793, 0.937190055847168, -0.0731775090098381, -1.0408378839492798, -1.3991801738739014, -0.9375696778297424, 0.07334915548563004, 1.04132080078125, 1.3993711471557617, 0.9374493956565857, -0.0734485313296318, -1.0416520833969116, -1.399500846862793, -0.9372966289520264, 0.07395243644714355, 1.0419787168502808, 1.3994791507720947, 0.9370189905166626, -0.07427103817462921, -1.0420265197753906, -1.399464726448059, -0.9367673993110657, 0.07474780082702637, 1.0425631999969482, 1.399495005607605, 0.9362921714782715, -0.07545304298400879, -1.0431206226348877, -1.3998650312423706, -0.9363479614257812, 0.07615245133638382, 1.044267177581787, 1.4003336429595947, 0.9363514184951782, -0.07670942693948746, -1.044914960861206, -1.4011425971984863, -0.9363749623298645, 0.07760981470346451, 1.0463802814483643, 1.4024814367294312, 0.9369701743125916, -0.07771856337785721, -1.0474748611450195, -1.404363989830017, -0.9380762577056885, 0.07832017540931702, 1.0497276782989502, 1.406581997871399, 0.9394803047180176, -0.07875925302505493, -1.0516583919525146, -1.4093314409255981, -0.9408928155899048, 0.07967804372310638, 1.0547724962234497, 1.412562608718872, 0.942512571811676, -0.08052878826856613, -1.057656168937683, -1.4159656763076782, -0.9440841674804688, 0.0816950872540474, 1.0610816478729248, 1.4192025661468506, 0.9452182650566101, -0.08359802514314651, -1.0646201372146606, -1.4222067594528198, -0.9460999369621277, 0.08570180088281631, 1.0682411193847656, 1.4251428842544556, 0.9461276531219482, -0.08781036734580994, -1.0711252689361572, -1.4272041320800781, -0.9458886384963989, 0.09028811007738113, 1.0740500688552856, 1.4283357858657837, 0.9452663660049438, -0.09261351823806763, -1.076469898223877, -1.429080843925476, -0.9435915946960449, 0.0947912409901619, 1.0778398513793945, 1.4290103912353516, 0.9422460198402405, -0.09658651053905487, -1.0782804489135742, -1.4278404712677002, -0.9404509663581848, 0.09806935489177704, 1.0784368515014648, 1.4268447160720825, 0.9386650919914246, -0.09895984828472137, -1.0779088735580444, -1.4245452880859375, -0.9363331198692322, 0.09998007863759995, 1.076831579208374, 1.4222755432128906, 0.9346649646759033, -0.10034994035959244, -1.0749541521072388, -1.4195582866668701, -0.9323544502258301, 0.10030461847782135, 1.073111653327942, 1.416873812675476, 0.9305619597434998, -0.10007572174072266, -1.071142315864563, -1.4140849113464355, -0.9287599921226501, 0.09952542185783386, 1.0688265562057495, 1.4118183851242065, 0.9280967116355896, -0.09838607162237167, -1.0666462182998657, -1.4098035097122192, -0.927376925945282, 0.097808338701725, 1.0650177001953125, 1.4086475372314453, 0.9271342754364014, -0.09660156071186066, -1.0636265277862549, -1.408004879951477, -0.9275877475738525, 0.09575401246547699, 1.0633174180984497, 1.4079657793045044, 0.9282558560371399, -0.09539138525724411, -1.0633821487426758, -1.408823847770691, -0.9292147755622864, 0.0951574519276619, 1.064167857170105, 1.4105209112167358, 0.9306912422180176, -0.0948638767004013, -1.0656365156173706, -1.4124466180801392, -0.9318075180053711, 0.09513073414564133, 1.0670713186264038, 1.4145349264144897, 0.9332498908042908, -0.09560458362102509, -1.0686746835708618, -1.4158610105514526, -0.9335495829582214, 0.09611476957798004, 1.0699268579483032, 1.4170875549316406, 0.9342174530029297, -0.09640751034021378, -1.0705827474594116, -1.4179388284683228, -0.9343137145042419, 0.09704873710870743, 1.0714969635009766, 1.4185302257537842, 0.9342004060745239, -0.09748051315546036, -1.071654200553894, -1.4182772636413574, -0.9337639212608337, 0.09796888381242752, 1.0720946788787842, 1.4182837009429932, 0.9334592819213867, -0.09830550104379654, -1.0724126100540161, -1.4179835319519043, -0.9328172206878662, 0.09876559674739838, 1.0721498727798462, 1.4173142910003662, 0.9322288632392883, -0.09874492883682251, -1.0719211101531982, -1.4167835712432861, -0.9313942193984985, 0.09878499805927277, 1.0712891817092896, 1.4162681102752686, 0.9315783977508545, -0.09838809072971344, -1.0707565546035767, -1.415714144706726, -0.9316235780715942, 0.09802274405956268, 1.070570468902588, 1.41636323928833, 0.9324982166290283, -0.09781545400619507, -1.0711920261383057, -1.4171812534332275, -0.933217465877533, 0.09801515936851501, 1.0723810195922852, 1.4185136556625366, 0.934144914150238, -0.09834526479244232, -1.073840856552124, -1.4201982021331787, -0.9346527457237244, 0.09914811700582504, 1.0749096870422363, 1.4215550422668457, 0.9349557161331177, -0.09959584474563599, -1.0761371850967407, -1.4221497774124146, -0.9347171783447266, 0.10030198842287064, 1.0774195194244385, 1.4229127168655396, 0.934838593006134, -0.10110371559858322, -1.0778658390045166, -1.4230198860168457, -0.9344177842140198, 0.10208369046449661, 1.078673243522644, 1.423404574394226, 0.933661937713623, -0.10320611298084259, -1.0795413255691528, -1.4229263067245483, -0.9324283599853516, 0.10454217344522476, 1.080104112625122, 1.4225918054580688, 0.9313801527023315, -0.10568469017744064, -1.08060622215271, -1.4217798709869385, -0.9298945069313049, 0.1071990430355072, 1.0811139345169067, 1.4210628271102905, 0.928154468536377, -0.10813561081886292, -1.0804553031921387, -1.4191726446151733, -0.9265456199645996, 0.1081598773598671, 1.0792673826217651, 1.4177166223526, 0.925988495349884, -0.10756734013557434, -1.0774832963943481, -1.416707992553711, -0.9261634349822998, 0.1060447096824646, 1.0759165287017822, 1.4155704975128174, 0.9266325831413269, -0.10437899827957153, -1.0740108489990234, -1.4146919250488281, -0.9279575943946838, 0.1019647866487503, 1.0724256038665771, 1.414734959602356, 0.9298487901687622, -0.09937065094709396, -1.0703282356262207, -1.4150986671447754, -0.9317472577095032, 0.09681691229343414, 1.0687711238861084, 1.4153860807418823, 0.9339704513549805, -0.0940929725766182, -1.0670998096466064, -1.416016697883606, -0.9358074069023132, 0.09231054782867432, 1.0662091970443726, 1.4167033433914185, 0.9378325343132019, -0.09041325747966766, -1.0656962394714355, -1.417554497718811, -0.939212441444397, 0.0889015793800354, 1.0656471252441406, 1.4183801412582397, 0.9399682283401489, -0.08863240480422974, -1.0657767057418823, -1.4183861017227173, -0.9400517344474792, 0.08886657655239105, 1.0659416913986206, 1.4184669256210327, 0.9396059513092041, -0.08952275663614273, -1.0659923553466797, -1.417348861694336, -0.9383962750434875, 0.09055135399103165, 1.0657631158828735, 1.416342854499817, 0.9367608428001404, -0.09105291217565536, -1.064779281616211, -1.4141483306884766, -0.9353539943695068, 0.09103810042142868, 1.0635687112808228, 1.4118300676345825, 0.9334630966186523, -0.09055829048156738, -1.060869574546814, -1.40886652469635, -0.9320858120918274, 0.08944020420312881, 1.057314157485962, 1.4058173894882202, 0.9314625859260559, -0.08701352775096893, -1.0531624555587769, -1.4025954008102417, -0.9314374327659607, 0.0838463231921196, 1.0488423109054565, 1.399699091911316, 0.9320942759513855, -0.08025351911783218, -1.0447059869766235, -1.3976167440414429, -0.933373212814331, 0.07652360200881958, 1.041563630104065, 1.3969329595565796, 0.9352509379386902, -0.07351900637149811, -1.0391980409622192, -1.3973805904388428, -0.9374755620956421, 0.07115446031093597, 1.0392205715179443, 1.3996562957763672, 0.9404863119125366, -0.07015085965394974, -1.040568470954895, -1.4023451805114746, -0.9424595832824707, 0.07026846706867218, 1.0431537628173828, 1.405923843383789, 0.9447691440582275, -0.07099511474370956, -1.0467536449432373, -1.4100075960159302, -0.9468042850494385, 0.07273388653993607, 1.0512850284576416, 1.4145056009292603, 0.9482170343399048, -0.07530645281076431, -1.0562562942504883, -1.4185394048690796, -0.9491710066795349, 0.07813739776611328, 1.0610255002975464, 1.4227935075759888, 0.949916422367096, -0.08072598278522491, -1.0654213428497314, -1.4262290000915527, -0.950469970703125, 0.08322574943304062, 1.06955885887146, 1.429274320602417, 0.9508944153785706, -0.0853484645485878, -1.0725606679916382, -1.4314669370651245, -0.9512766003608704, 0.08681759983301163, 1.0746121406555176, 1.43291175365448, 0.9515685439109802, -0.08711777627468109, -1.0751450061798096, -1.4333665370941162, -0.9518751502037048, 0.0872303694486618, 1.0751347541809082, 1.4329400062561035, 0.951852023601532, -0.08618217706680298, -1.0739192962646484, -1.4321870803833008, -0.9520893692970276, 0.08526819199323654, 1.0723743438720703, 1.4312586784362793, 0.9521850347518921, -0.08418349921703339, -1.0706355571746826, -1.429699420928955, -0.9520209431648254, 0.08279724419116974, 1.0686044692993164, 1.4285937547683716, 0.9524005651473999, -0.08147355169057846, -1.0670406818389893, -1.4276762008666992, -0.9522751569747925, 0.08044576644897461, 1.0658427476882935, 1.4271739721298218, 0.9525125026702881, -0.07994826138019562, -1.0653855800628662, -1.4269341230392456, -0.9528132081031799, 0.07957106083631516, 1.0650973320007324, 1.4269723892211914, 0.9527156949043274, -0.07991994172334671, -1.0660885572433472, -1.4272205829620361, -0.9523416757583618, 0.08061343431472778, 1.0667699575424194, 1.4275915622711182, 0.9520753026008606, -0.08176127821207047, -1.0683151483535767, -1.4285987615585327, -0.9516150951385498, 0.08372087776660919, 1.0702614784240723, 1.4295490980148315, 0.9507277011871338, -0.08570538461208344, -1.0720632076263428, -1.430132508277893, -0.9498571157455444, 0.08761673420667648, 1.073738932609558, 1.4305206537246704, 0.948739767074585, -0.08933165669441223, -1.0747588872909546, -1.430189847946167, -0.9475767016410828, 0.08992845565080643, 1.0749391317367554, 1.4298642873764038, 0.9471330046653748, -0.09006433188915253, -1.0744813680648804, -1.4292839765548706, -0.946897566318512, 0.08963221311569214, 1.073211908340454, 1.4284297227859497, 0.9471005201339722, -0.08857129514217377, -1.0717864036560059, -1.4273778200149536, -0.9477152824401855, 0.08670523762702942, 1.0704612731933594, 1.4275498390197754, 0.949123740196228, -0.08459150791168213, -1.0687893629074097, -1.4274195432662964, -0.9505590796470642, 0.08256249129772186, 1.0670243501663208, 1.4272916316986084, 0.9523857831954956, -0.07988449931144714, -1.0652333498001099, -1.4277982711791992, -0.9546946883201599, 0.077029287815094, 1.06367826461792, 1.4281458854675293, 0.9573512673377991, -0.0736088678240776, -1.0616477727890015, -1.4285814762115479, -0.9597730040550232, 0.07051640748977661, 1.0599427223205566, 1.4291881322860718, 0.9626031517982483, -0.06735818833112717, -1.0578246116638184, -1.4294159412384033, -0.9646235704421997, 0.06475048512220383, 1.0563809871673584, 1.4299970865249634, 0.9668781757354736, -0.06211622804403305, -1.05460524559021, -1.4301784038543701, -0.9687901735305786, 0.06009141355752945, 1.053739309310913, 1.4304273128509521, 0.9696362018585205, -0.05857406556606293, -1.052528738975525, -1.4300569295883179, -0.9701563119888306, 0.057598672807216644, 1.0517055988311768, 1.4296907186508179, 0.970122754573822, -0.05720967426896095, -1.05031418800354, -1.4282594919204712, -0.9698407053947449, 0.0560532808303833, 1.0487996339797974, 1.4271399974822998, 0.9698370695114136, -0.05519179627299309, -1.0473376512527466, -1.4257327318191528, -0.9694239497184753, 0.054994676262140274, 1.0464664697647095, 1.4246318340301514, 0.9688290953636169, -0.05467626079916954, -1.045727252960205, -1.4235326051712036, -0.9677714705467224, 0.05521606281399727, 1.0455735921859741, 1.4228732585906982, 0.9667696356773376, -0.05567776411771774, -1.0449950695037842, -1.4219350814819336, -0.9652906656265259, 0.05672468617558479, 1.045455813407898, 1.4208179712295532, 0.963651716709137, -0.05784640088677406, -1.0451618432998657, -1.4193601608276367, -0.9617822766304016, 0.05938013643026352, 1.0451005697250366, 1.4178169965744019, 0.9592901468276978, -0.060932282358407974, -1.0447617769241333, -1.415932297706604, -0.9569605588912964, 0.06249857693910599, 1.0443471670150757, 1.4136289358139038, 0.9540218710899353, -0.06409706175327301, -1.0438549518585205, -1.41110098361969, -0.9506660103797913, 0.0661400631070137, 1.043604850769043, 1.408278226852417, 0.9473828077316284, -0.06822586804628372, -1.0431503057479858, -1.4057958126068115, -0.9442189931869507, 0.07060837000608444, 1.0432138442993164, 1.403320550918579, 0.9405639171600342, -0.07286826521158218, -1.0430867671966553, -1.4012762308120728, -0.9376444220542908, 0.07560472935438156, 1.0440943241119385, 1.4000518321990967, 0.9350067377090454, -0.07781578600406647, -1.0453332662582397, -1.3996399641036987, -0.933239221572876, 0.08046603202819824, 1.047582983970642, 1.4003593921661377, 0.9321867227554321, -0.08315187692642212, -1.0501879453659058, -1.4016742706298828, -0.931247889995575, 0.0858997255563736, 1.053600549697876, 1.4039416313171387, 0.9312177896499634, -0.08838088810443878, -1.0567280054092407, -1.4063760042190552, -0.9318106770515442, 0.09004087001085281, 1.0603668689727783, 1.4097142219543457, 0.9326370358467102, -0.09175547957420349, -1.0636920928955078, -1.4129774570465088, -0.9337635040283203, 0.0934094488620758, 1.067168951034546, 1.4160270690917969, 0.9347637891769409, -0.09491100907325745, -1.0698528289794922, -1.4181206226348877, -0.9354483485221863, 0.09597834199666977, 1.0716983079910278, 1.4193661212921143, 0.9361401796340942, -0.09614340215921402, -1.0722559690475464, -1.4202511310577393, -0.9361739754676819, 0.09598444402217865, 1.0722702741622925, 1.4206504821777344, 0.9367052316665649, -0.09557893127202988, -1.0721062421798706, -1.4206598997116089, -0.9371564388275146, 0.09480804204940796, 1.0716880559921265, 1.4208263158798218, 0.9379631876945496, -0.09418628364801407, -1.071164608001709, -1.4209648370742798, -0.938636839389801, 0.09359919279813766, 1.0712347030639648, 1.4214236736297607, 0.9390667080879211, -0.09356227517127991, -1.0713260173797607, -1.4218802452087402, -0.9393358826637268, 0.09355343878269196, 1.0719748735427856, 1.4224196672439575, 0.9398106336593628, -0.0936037227511406, -1.072858214378357, -1.4234362840652466, -0.940151035785675, 0.09395311027765274, 1.0735905170440674, 1.4243284463882446, 0.9404100775718689, -0.09427625685930252, -1.074344277381897, -1.4254006147384644, -0.9408003091812134, 0.09501653909683228, 1.0754454135894775, 1.4261068105697632, 0.9413434267044067, -0.09522834420204163, -1.0762288570404053, -1.4269917011260986, -0.9416516423225403, 0.09558793157339096, 1.0770100355148315, 1.4276065826416016, 0.9420343637466431, -0.09535197168588638, -1.0768214464187622, -1.4277523756027222, -0.9423529505729675, 0.09485814720392227, 1.0770317316055298, 1.4284136295318604, 0.943186342716217, -0.09420141577720642, -1.076592206954956, -1.4284428358078003, -0.9438344240188599, 0.0931820496916771, 1.0756269693374634, 1.4282584190368652, 0.9448069930076599, -0.09135007113218307, -1.0744374990463257, -1.4284104108810425, -0.9463121294975281, 0.0895456001162529, 1.0732518434524536, 1.4288679361343384, 0.9482900500297546, -0.08756307512521744, -1.0720994472503662, -1.429361343383789, -0.9500840306282043, 0.08537256717681885, 1.0713273286819458, 1.4301315546035767, 0.9518498778343201, -0.08350483328104019, -1.0702455043792725, -1.430572748184204, -0.9530959725379944, 0.08243733644485474, 1.0697437524795532, 1.4307630062103271, 0.954100489616394, -0.0811443030834198, -1.0690810680389404, -1.431021809577942, -0.954853892326355, 0.08050096780061722, 1.0687224864959717, 1.4310410022735596, 0.9552536606788635, -0.08020266145467758, -1.0682252645492554, -1.4304217100143433, -0.9548521637916565, 0.08011484891176224, 1.067852258682251, 1.4299116134643555, 0.9540224075317383, -0.08071666955947876, -1.0680835247039795, -1.429466962814331, -0.9532679319381714, 0.08130517601966858, 1.067995309829712, 1.4288033246994019, 0.9520208239555359, -0.08201971650123596, -1.0677943229675293, -1.4278188943862915, -0.9509281516075134, 0.08313809335231781, 1.0678963661193848, 1.427131175994873, 0.9498660564422607, -0.08379293978214264, -1.0678380727767944, -1.4260599613189697, -0.948434054851532, 0.08431651443243027, 1.0673961639404297, 1.4246954917907715, 0.9476794600486755, -0.08439796417951584, -1.0665160417556763, -1.4238684177398682, -0.9471858739852905, 0.08446086943149567, 1.0659736394882202, 1.4232463836669922, 0.9469298124313354, -0.08353299647569656, -1.0649325847625732, -1.4227608442306519, -0.9476121664047241, 0.08272982388734818, 1.0642869472503662, 1.4231926202774048, 0.9489917159080505, -0.08116846531629562, -1.0639500617980957, -1.424002766609192, -0.9505190849304199, 0.08007834106683731, 1.0642093420028687, 1.426008939743042, 0.952529788017273, -0.07889844477176666, -1.0647541284561157, -1.4277067184448242, -0.9545197486877441, 0.07843732833862305, 1.0659575462341309, 1.4297722578048706, 0.956065833568573, -0.07810519635677338, -1.06690514087677, -1.4311281442642212, -0.957095742225647, 0.0784488096833229, 1.0682483911514282, 1.4322199821472168, 0.957440972328186, -0.07879612594842911, -1.069304347038269, -1.4328056573867798, -0.9571436047554016, 0.07994690537452698, 1.0700701475143433, 1.4333142042160034, 0.9566670060157776, -0.08087660372257233, -1.070663332939148, -1.4332112073898315, -0.9558489322662354, 0.08174935728311539, 1.0714572668075562, 1.4333010911941528, 0.9553037881851196, -0.08237003535032272, -1.0717686414718628, -1.4330519437789917, -0.9548972845077515, 0.08307132124900818, 1.0722662210464478, 1.4328150749206543, 0.954474925994873, -0.08349581807851791, -1.0719996690750122, -1.4323927164077759, -0.9539527297019958, 0.08337356150150299, 1.071524977684021, 1.432132601737976, 0.954138457775116, -0.08252836763858795, -1.0703232288360596, -1.4317795038223267, -0.954730749130249, 0.0815582126379013, 1.0696135759353638, 1.4317739009857178, 0.9557496309280396, -0.08006368577480316, -1.068863868713379, -1.4317755699157715, -0.9563299417495728, 0.07904376834630966, 1.0679004192352295, 1.431804895401001, 0.9571778774261475, -0.07785066217184067, -1.0671048164367676, -1.4312676191329956, -0.9573575854301453, 0.07718680799007416, 1.066468358039856, 1.4309264421463013, 0.9573466777801514, -0.07690063863992691, -1.0661331415176392, -1.4304258823394775, -0.9569171667098999, 0.0769210085272789, 1.0654722452163696, 1.4297243356704712, 0.9567285180091858, -0.07667874544858932, -1.064836025238037, -1.4291287660598755, -0.9562292098999023, 0.07701308280229568, 1.0647790431976318, 1.4285379648208618, 0.9555867910385132, -0.07720950245857239, -1.0646743774414062, -1.4279835224151611, -0.9545624256134033, 0.07795701920986176, 1.0645946264266968, 1.427294373512268, 0.9535675644874573, -0.07860803604125977, -1.064178705215454, -1.425878643989563, -0.9523093104362488, 0.07904838770627975, 1.0634337663650513, 1.4245966672897339, 0.9514480233192444, -0.07871241867542267, -1.0624011754989624, -1.4233638048171997, -0.9509592056274414, 0.07847385108470917, 1.0614724159240723, 1.4224684238433838, 0.9502039551734924, -0.07780031114816666, -1.0600852966308594, -1.4215737581253052, -0.9496908187866211, 0.07808157056570053, 1.059725046157837, 1.4206894636154175, 0.9496260285377502, -0.07795143872499466, -1.059507131576538, -1.4203389883041382, -0.9491089582443237, 0.0782865658402443, 1.0596858263015747, 1.4202436208724976, 0.9483053088188171, -0.07947169989347458, -1.0604212284088135, -1.4202884435653687, -0.9475054144859314, 0.08110321313142776, 1.0619628429412842, 1.4207979440689087, 0.946748673915863, -0.08301874995231628, -1.0639740228652954, -1.421842098236084, -0.9456661343574524, 0.08563178777694702, 1.0667040348052979, 1.4227885007858276, 0.9443119168281555, -0.08820001780986786, -1.0699076652526855, -1.4240862131118774, -0.9433236122131348, 0.09125234186649323, 1.072906732559204, 1.4255694150924683, 0.9422860741615295, -0.09408993273973465, -1.0753469467163086, -1.4262827634811401, -0.9408555030822754, 0.09647120535373688, 1.077135682106018, 1.4265176057815552, 0.9400102496147156, -0.09754032641649246, -1.077851414680481, -1.4263012409210205, -0.9394790530204773, 0.09797428548336029, 1.0777677297592163, 1.4259629249572754, 0.9392207860946655, -0.09755425900220871, -1.0767709016799927, -1.4251545667648315, -0.9394123554229736, 0.09647728502750397, 1.0754225254058838, 1.4248682260513306, 0.9395594596862793, -0.09550569951534271, -1.074164867401123, -1.4239461421966553, -0.9397094249725342, 0.09446693956851959, 1.0730715990066528, 1.4234023094177246, 0.9403715133666992, -0.09315408021211624, -1.0716896057128906, -1.4226791858673096, -0.9405417442321777, 0.09244994074106216, 1.0714390277862549, 1.4224779605865479, 0.9407703280448914, -0.09173808246850967, -1.0705788135528564, -1.4226765632629395, -0.9415978193283081, 0.09101402014493942, 1.070310354232788, 1.4231535196304321, 0.9426100254058838, -0.09055472910404205, -1.0709569454193115, -1.4242055416107178, -0.9436383843421936, 0.09005382657051086, 1.0720243453979492, 1.426195502281189, 0.9451998472213745, -0.09023182094097137, -1.073664903640747, -1.4284014701843262, -0.9464776515960693, 0.090449757874012, 1.0757356882095337, 1.4307796955108643, 0.947624683380127, -0.0911991223692894, -1.0773919820785522, -1.4325822591781616, -0.9486138820648193, 0.0916428342461586, 1.0786887407302856, 1.4339864253997803, 0.9492570757865906, -0.09170294553041458, -1.0792547464370728, -1.4349433183670044, -0.9498379826545715, 0.09176942706108093, 1.0798327922821045, 1.4355942010879517, 0.9501716494560242, -0.0914120227098465, -1.0792168378829956, -1.4351667165756226, -0.9503783583641052, 0.09077157825231552, 1.078405499458313, 1.4341847896575928, 0.9505138993263245, -0.08976282924413681, -1.0772011280059814, -1.4331238269805908, -0.9501222968101501, 0.08934536576271057, 1.0758717060089111, 1.4322149753570557, 0.9497688412666321, -0.08874695748090744, -1.0750489234924316, -1.4311482906341553, -0.9487307071685791, 0.08940628916025162, 1.0745811462402344, 1.4297904968261719, 0.9471461772918701, -0.09012073278427124, -1.0741811990737915, -1.4284288883209229, -0.9455242156982422, 0.09122222661972046, 1.073959469795227, 1.4268139600753784, 0.9434958696365356, -0.09249290823936462, -1.0740201473236084, -1.4253051280975342, -0.9413459300994873, 0.09400281310081482, 1.0738542079925537, 1.4236481189727783, 0.9392603039741516, -0.09493517130613327, -1.0729796886444092, -1.4223026037216187, -0.9380263686180115, 0.09548408538103104, 1.0724722146987915, 1.4213045835494995, 0.9375534057617188, -0.0952073335647583, -1.0719990730285645, -1.4207146167755127, -0.9371244311332703, 0.09480635076761246, 1.071304440498352, 1.4206918478012085, 0.9379816651344299, -0.09389597922563553, -1.0710368156433105, -1.4212303161621094, -0.9391036629676819, 0.09334367513656616, 1.0715041160583496, 1.4222159385681152, 0.94008868932724, -0.09295795857906342, -1.071428894996643, -1.4229506254196167, -0.9405492544174194, 0.09308254718780518, 1.0720272064208984, 1.4230315685272217, 0.940392255783081, -0.09292005002498627, -1.0718539953231812, -1.4228062629699707, -0.940565824508667, 0.09302572906017303, 1.0718635320663452, 1.4228349924087524, 0.9402916431427002, -0.09313954412937164, -1.0717092752456665, -1.4223936796188354, -0.9395069479942322, 0.09373849630355835, 1.0722635984420776, 1.4223675727844238, 0.9391213059425354, -0.09455255419015884, -1.0727859735488892, -1.4221147298812866, -0.9376118183135986, 0.09593570232391357, 1.0735599994659424, 1.422184705734253, 0.9372040033340454, -0.09720948338508606, -1.0747599601745605, -1.4222350120544434, -0.9362596273422241, 0.09876038134098053, 1.076025366783142, 1.4226858615875244, 0.9354108572006226, -0.09994374215602875, -1.0770728588104248, -1.4231157302856445, -0.9347130060195923, 0.10223036259412766, 1.0789715051651, 1.4235832691192627, 0.9335963726043701, -0.10392460972070694, -1.080196738243103, -1.4235657453536987, -0.9325442314147949, 0.10525435954332352, 1.081554889678955, 1.4243258237838745, 0.9318020343780518, -0.1067972183227539, -1.0827630758285522, -1.4241609573364258, -0.9310219883918762, 0.10787931829690933, 1.0838935375213623, 1.424128532409668, 0.930274486541748, -0.10846326500177383, -1.0839062929153442, -1.4243637323379517, -0.9298811554908752, 0.1095019280910492, 1.0844448804855347, 1.4243147373199463, 0.9296654462814331, -0.10915756970643997, -1.084496259689331, -1.4242130517959595, -0.9295209050178528, 0.10948704183101654, 1.0839234590530396, 1.4241302013397217, 0.9298601746559143, -0.10899904370307922, -1.0833853483200073, -1.4235633611679077, -0.929629921913147, 0.10819100588560104, 1.0828487873077393, 1.4231147766113281, 0.9303751587867737, -0.10681962966918945, -1.081397533416748, -1.422656774520874, -0.9312852621078491, 0.10550769418478012, 1.0803301334381104, 1.4226807355880737, 0.9324377775192261, -0.10355724394321442, -1.0788182020187378, -1.4223781824111938, -0.9334595203399658, 0.10168906301259995, 1.0773011445999146, 1.4223214387893677, 0.9347964525222778, -0.09980697929859161, -1.0755503177642822, -1.4217529296875, -0.9362809062004089, 0.0972905382514, 1.0734695196151733, 1.4211645126342773, 0.9374085664749146, -0.09474141895771027, -1.0708911418914795, -1.420355200767517, -0.9388555884361267, 0.09183543175458908, 1.0685410499572754, 1.4195951223373413, 0.9398836493492126, -0.08919163793325424, -1.066145896911621, -1.4190068244934082, -0.9409897923469543, 0.08744153380393982, 1.0646370649337769, 1.4187359809875488, 0.9422838091850281, -0.08532728999853134, -1.0631247758865356, -1.418648600578308, -0.9435693025588989, 0.08422208577394485, 1.0625677108764648, 1.4190354347229004, 0.9443141222000122, -0.0835513174533844, -1.0626990795135498, -1.4193167686462402, -0.9451778531074524, 0.08313868939876556, 1.062692642211914, 1.4203662872314453, 0.9457573890686035, -0.08243897557258606, -1.0629068613052368, -1.420943260192871, -0.9464411735534668, 0.08223559707403183, 1.0633784532546997, 1.4216387271881104, 0.9470174312591553, -0.08248431235551834, -1.0632338523864746, -1.4212595224380493, -0.9467864632606506, 0.08212632685899734, 1.0625360012054443, 1.420534372329712, 0.9463577270507812, -0.08165886253118515, -1.0614514350891113, -1.4191014766693115, -0.945686399936676, 0.08100380748510361, 1.0594422817230225, 1.4169647693634033, 0.9448843598365784, -0.07989685982465744, -1.0572048425674438, -1.4149473905563354, -0.9442291855812073, 0.0784439966082573, 1.054586410522461, 1.4128587245941162, 0.9440077543258667, -0.07664846628904343, -1.0524280071258545, -1.411550521850586, -0.944359302520752, 0.07533837109804153, 1.0506011247634888, 1.410871982574463, 0.9446520805358887, -0.07408998161554337, -1.0493037700653076, -1.410274863243103, -0.9452615976333618, 0.073610320687294, 1.0495997667312622, 1.4105594158172607, 0.9455921649932861, -0.07344468683004379, -1.0496631860733032, -1.4107102155685425, -0.9455461502075195, 0.07396376132965088, 1.050215244293213, 1.4113516807556152, 0.9453331232070923, -0.07467182725667953, -1.0514402389526367, -1.4114631414413452, -0.9447697401046753, 0.07615682482719421, 1.0521814823150635, 1.4118993282318115, 0.9441934823989868, -0.07689771056175232, -1.0526938438415527, -1.4118396043777466, -0.9431542754173279, 0.07825001329183578, 1.053798794746399, 1.4119967222213745, 0.9431982040405273, -0.07843541353940964, -1.0542773008346558, -1.4125897884368896, -0.9428816437721252, 0.07944932579994202, 1.055320143699646, 1.4133856296539307, 0.9433935284614563, -0.08016751706600189, -1.0565727949142456, -1.4140045642852783, -0.9429982304573059, 0.08136522769927979, 1.057568907737732, 1.414612054824829, 0.942237138748169, -0.08191397786140442, -1.0580122470855713, -1.4137722253799438, -0.9412751197814941, 0.08276034891605377, 1.057862639427185, 1.4130903482437134, 0.9406090378761292, -0.08266675472259521, -1.0569368600845337, -1.4119871854782104, -0.9397218227386475, 0.08211574703454971, 1.0558727979660034, 1.4109245538711548, 0.9398452639579773, -0.08160728216171265, -1.0549510717391968, -1.409989833831787, -0.93946373462677, 0.0815003365278244, 1.054278016090393, 1.4096906185150146, 0.9395054578781128, -0.08102583885192871, -1.0539333820343018, -1.4096193313598633, -0.9397096037864685, 0.08141115307807922, 1.054704189300537, 1.4104411602020264, 0.940008819103241, -0.08160675317049026, -1.05568265914917, -1.4115664958953857, -0.9401528835296631, 0.08253461867570877, 1.0575172901153564, 1.413529396057129, 0.9409406781196594, -0.0835428386926651, -1.0599870681762695, -1.4157706499099731, -0.9416214823722839, 0.08503183722496033, 1.062259554862976, 1.4177385568618774, 0.9428045153617859, -0.0851452648639679, -1.0637575387954712, -1.4199223518371582, -0.9441568851470947, 0.08519504964351654, 1.065516710281372, 1.422249674797058, 0.9462049603462219, -0.08416744321584702, -1.0659685134887695, -1.4238929748535156, -0.9484441876411438, 0.08243683725595474, 1.0660160779953003, 1.4258649349212646, 0.9511950016021729, -0.08038140833377838, -1.0653084516525269, -1.427470326423645, -0.9539715647697449, 0.07764150947332382, 1.0649595260620117, 1.4293850660324097, 0.957118034362793, -0.0756746158003807, -1.064710259437561, -1.430683970451355, -0.959639310836792, 0.07382778078317642, 1.0639374256134033, 1.431774377822876, 0.961712658405304, -0.0720435082912445, -1.0636167526245117, -1.432470679283142, -0.9627787470817566, 0.07080166786909103, 1.063055157661438, 1.4333248138427734, 0.963599443435669, -0.07038504630327225, -1.0633666515350342, -1.4334452152252197, -0.9637355208396912, 0.070838063955307, 1.0639264583587646, 1.4335665702819824, 0.9630398750305176, -0.07183480262756348, -1.0641530752182007, -1.4324661493301392, -0.9612905979156494, 0.07317496091127396, 1.0642666816711426, 1.431172490119934, 0.959589421749115, -0.07435352355241776, -1.0639135837554932, -1.429799199104309, -0.9580715894699097, 0.07506266236305237, 1.063894271850586, 1.4289289712905884, 0.9563835859298706, -0.0761694386601448, -1.0636297464370728, -1.4269815683364868, -0.9545029997825623, 0.07726570218801498, 1.0634104013442993, 1.425728440284729, 0.9528970122337341, -0.0780109167098999, -1.0627504587173462, -1.424309253692627, -0.9509857892990112, 0.07919128239154816, 1.0622835159301758, 1.4226486682891846, 0.9494771957397461, -0.0796235203742981, -1.0613744258880615, -1.4210631847381592, -0.9483952522277832, 0.07979351282119751, 1.0607073307037354, 1.4200727939605713, 0.9472848773002625, -0.08019395172595978, -1.06047785282135, -1.4191778898239136, -0.9462511539459229, 0.08107689023017883, 1.0607560873031616, 1.4182829856872559, 0.9445942640304565, -0.08229703456163406, -1.0606175661087036, -1.4169100522994995, -0.9426700472831726, 0.08386188745498657, 1.0605897903442383, 1.4157265424728394, 0.9409360289573669, -0.08469478785991669, -1.0607094764709473, -1.4143378734588623, -0.9389142990112305, 0.0862576812505722, 1.0605450868606567, 1.4129513502120972, 0.9375999569892883, -0.08717246353626251, -1.0605409145355225, -1.412380576133728, -0.9366909861564636, 0.08790861815214157, 1.0610556602478027, 1.412543773651123, 0.9362582564353943, -0.08866774290800095, -1.0618430376052856, -1.4126453399658203, -0.9356212019920349, 0.08971992135047913, 1.0629194974899292, 1.413238525390625, 0.9352513551712036, -0.09077423810958862, -1.0635857582092285, -1.413387656211853, -0.9346137642860413, 0.09180397540330887, 1.0643856525421143, 1.4132609367370605, 0.933777928352356, -0.09236977994441986, -1.0639203786849976, -1.4127533435821533, -0.9336184859275818, 0.09190741926431656, 1.063522219657898, 1.4118491411209106, 0.9336488842964172, -0.09114618599414825, -1.0621198415756226, -1.4112478494644165, -0.9339205622673035, 0.0896056741476059, 1.060533046722412, 1.4100607633590698, 0.9346786737442017, -0.08776874095201492, -1.0581516027450562, -1.4094129800796509, -0.9358454942703247, 0.08541824668645859, 1.0563933849334717, 1.409356713294983, 0.9370301365852356, -0.08337625861167908, -1.054923415184021, -1.4088650941848755, -0.9382363557815552, 0.08161944150924683, 1.0541247129440308, 1.40915048122406, 0.9393430352210999, -0.0806175023317337, -1.0536339282989502, -1.4101381301879883, -0.940434992313385, 0.08005299419164658, 1.0544910430908203, 1.4121129512786865, 0.9423616528511047, -0.07987064123153687, -1.0562759637832642, -1.4146077632904053, -0.9439171552658081, 0.08068519085645676, 1.0595703125, 1.4186817407608032, 0.9460482001304626, -0.08222418278455734, -1.0636030435562134, -1.4225817918777466, -0.9474828839302063, 0.08449320495128632, 1.0685327053070068, 1.4272871017456055, 0.9491204023361206, -0.0868464931845665, -1.0728449821472168, -1.4309083223342896, -0.9497172236442566, 0.0895562395453453, 1.0772334337234497, 1.4340944290161133, 0.9498856067657471, -0.0919506847858429, -1.0807698965072632, -1.4365439414978027, -0.9496011137962341, 0.09420870244503021, 1.0838027000427246, 1.4382246732711792, 0.9493566751480103, -0.09607145190238953, -1.0855196714401245, -1.4384456872940063, -0.9479790329933167, 0.09762557595968246, 1.0859546661376953, 1.4375102519989014, 0.9467068314552307, -0.09885243326425552, -1.0857821702957153, -1.4361742734909058, -0.9454097747802734, 0.09906987845897675, 1.0846291780471802, 1.434559941291809, 0.9437444806098938, -0.09906702488660812, -1.0834022760391235, -1.43244206905365, -0.9423698782920837, 0.09928208589553833, 1.0819214582443237, 1.4304312467575073, 0.9408885836601257, -0.09929247945547104, -1.080665111541748, -1.428179383277893, -0.939281165599823, 0.09952618926763535, 1.0794340372085571, 1.4264878034591675, 0.9379384517669678, -0.0996289923787117, -1.0783964395523071, -1.4247956275939941, -0.9364577531814575, 0.09995073080062866, 1.077520489692688, 1.4236605167388916, 0.9355058073997498, -0.10041219741106033, -1.0768922567367554, -1.4218751192092896, -0.9340106248855591, 0.10042782872915268, 1.0759706497192383, 1.4206093549728394, 0.9335563778877258, -0.09987176954746246, -1.074792742729187, -1.4197202920913696, -0.9331327080726624, 0.09952566772699356, 1.0735821723937988, 1.4185292720794678, 0.9330136775970459, -0.09796041250228882, -1.0715864896774292, -1.41765296459198, -0.9337481260299683, 0.09624951332807541, 1.0697696208953857, 1.416993260383606, 0.9350719451904297, -0.09417615085840225, -1.0679124593734741, -1.416556715965271, -0.9358667731285095, 0.09238995611667633, 1.066497564315796, 1.416113257408142, 0.9365876913070679, -0.09080382436513901, -1.0648912191390991, -1.415374994277954, -0.9371201992034912, 0.08949116617441177, 1.0635665655136108, 1.4144890308380127, 0.9373487234115601, -0.08823952823877335, -1.0617303848266602, -1.4127763509750366, -0.9366200566291809, 0.08739664405584335, 1.0593552589416504, 1.4107108116149902, 0.9363247752189636, -0.08545812964439392, -1.0567071437835693, -1.408733606338501, -0.9357206225395203, 0.08444967120885849, 1.0546079874038696, 1.4070411920547485, 0.9353606104850769, -0.08348493278026581, -1.0527578592300415, -1.4049121141433716, -0.9346931576728821, 0.08243606984615326, 1.0507619380950928, 1.4038705825805664, 0.9347119927406311, -0.08127216249704361, -1.0494894981384277, -1.402956247329712, -0.9347838163375854, 0.08052265644073486, 1.0483790636062622, 1.4025691747665405, 0.9355226159095764, -0.07974840700626373, -1.0481877326965332, -1.4026039838790894, -0.9362372159957886, 0.07902875542640686, 1.0481184720993042, 1.403517246246338, 0.9370037913322449, -0.0787290409207344, -1.0486407279968262, -1.404891014099121, -0.9381296634674072, 0.07846619933843613, 1.0496383905410767, 1.4062597751617432, 0.9391425251960754, -0.07854781299829483, -1.050973653793335, -1.4077848196029663, -0.9395529627799988, 0.07951807230710983, 1.0525041818618774, 1.409043312072754, 0.9401088953018188, -0.07984166592359543, -1.0535238981246948, -1.4097188711166382, -0.9397408962249756, 0.08103684335947037, 1.05474853515625, 1.410347580909729, 0.9391052722930908, -0.08201498538255692, -1.0550875663757324, -1.4096829891204834, -0.9384352564811707, 0.08265378326177597, 1.0553395748138428, 1.409747838973999, 0.9379190802574158, -0.08299663662910461, -1.0552260875701904, -1.4092121124267578, -0.9376818537712097, 0.0831788033246994, 1.0557678937911987, 1.409828782081604, 0.9381065964698792, -0.08308638632297516, -1.0559744834899902, -1.4106998443603516, -0.9391626119613647, 0.08287592232227325, 1.0572468042373657, 1.412597894668579, 0.9402738213539124, -0.08313310891389847, -1.0590204000473022, -1.4145351648330688, -0.9408463835716248, 0.08434922248125076, 1.0608159303665161, 1.4158278703689575, 0.9410999417304993, -0.08536884188652039, -1.0618164539337158, -1.416296124458313, -0.940654456615448, 0.085960753262043, 1.0620828866958618, 1.4160348176956177, 0.9402405023574829, -0.08586230874061584, -1.0610493421554565, -1.4147729873657227, -0.9400372505187988, 0.0848826989531517, 1.0597416162490845, 1.4138586521148682, 0.9402382373809814, -0.08355704694986343, -1.05799400806427, -1.4129679203033447, -0.9406124949455261, 0.08236811310052872, 1.056911826133728, 1.4129383563995361, 0.9415993094444275, -0.08143460750579834, -1.056565523147583, -1.4130460023880005, -0.9417253136634827, 0.08115740120410919, 1.0567823648452759, 1.4134784936904907, 0.9418904185295105, -0.08177799731492996, -1.057481288909912, -1.4139668941497803, -0.9416216015815735, 0.08297667652368546, 1.0590664148330688, 1.4144846200942993, 0.9414175152778625, -0.08391129225492477, -1.0599985122680664, -1.415077567100525, -0.9408807158470154, 0.08494770526885986, 1.0615161657333374, 1.416480541229248, 0.9414311051368713, -0.08574362844228745, -1.0635162591934204, -1.4180618524551392, -0.9418284296989441, 0.08676537126302719, 1.0656614303588867, 1.4205279350280762, 0.943023681640625, -0.08778079599142075, -1.0682049989700317, -1.4229425191879272, -0.9436765313148499, 0.08944474905729294, 1.0714571475982666, 1.426052212715149, 0.9449424743652344, -0.09034018218517303, -1.074053168296814, -1.4287874698638916, -0.9461938142776489, 0.0919361487030983, 1.0770061016082764, 1.4313971996307373, 0.9468202590942383, -0.0933058112859726, -1.079508900642395, -1.4335662126541138, -0.9472453594207764, 0.0943453311920166, 1.0812795162200928, 1.434808611869812, 0.947108268737793, -0.09543386846780777, -1.0825492143630981, -1.4350031614303589, -0.9463143944740295, 0.09657245129346848, 1.0829031467437744, 1.435011386871338, 0.9463915824890137, -0.09656893461942673, -1.0828471183776855, -1.4351131916046143, -0.9466117024421692, 0.09642820805311203, 1.0833253860473633, 1.4354885816574097, 0.9466298818588257, -0.09641480445861816, -1.0831516981124878, -1.4356410503387451, -0.9467658996582031, 0.09677432477474213, 1.0838710069656372, 1.4361810684204102, 0.947357177734375, -0.09673486649990082, -1.084254264831543, -1.4370249509811401, -0.9475834369659424, 0.0974014401435852, 1.085453987121582, 1.4379551410675049, 0.9470506906509399, -0.09865377843379974, -1.0870113372802734, -1.4380780458450317, -0.9461753368377686, 0.10042055696249008, 1.0884790420532227, 1.4377398490905762, 0.9445726275444031, -0.10272129625082016, -1.0892601013183594, -1.4366517066955566, -0.9417110681533813, 0.10481604188680649, 1.0890955924987793, 1.4343539476394653, 0.9386767745018005, -0.10621196776628494, -1.0874742269515991, -1.4306505918502808, -0.9360218048095703, 0.105961374938488, 1.0848404169082642, 1.4272568225860596, 0.9344838261604309, -0.10463085770606995, -1.080657958984375, -1.4233628511428833, -0.9335992336273193, 0.10183712095022202, 1.0766711235046387, 1.4209227561950684, 0.93422532081604, -0.09849322587251663, -1.0723100900650024, -1.4185985326766968, -0.9350506663322449, 0.09486166387796402, 1.0689319372177124, 1.4174407720565796, 0.9366982579231262, -0.09155206382274628, -1.065835952758789, -1.4164977073669434, -0.938480019569397, 0.08874265849590302, 1.0638338327407837, 1.416190266609192, 0.9398251175880432, -0.08682476729154587, -1.0623117685317993, -1.4162012338638306, -0.9408173561096191, 0.0855773538351059, 1.062016248703003, 1.4162288904190063, 0.9410848021507263, -0.08546909689903259, -1.0615930557250977, -1.4160246849060059, -0.940805971622467, 0.08585711568593979, 1.0618956089019775, 1.4158679246902466, 0.9401385188102722, -0.08643090724945068, -1.061876654624939, -1.4150586128234863, -0.9388058185577393, 0.08743546158075333, 1.0620017051696777, 1.414536952972412, 0.9377525448799133, -0.08827672153711319, -1.0623466968536377, -1.4138232469558716, -0.9367338418960571, 0.08897809684276581, 1.0624884366989136, 1.4133061170578003, 0.9362539052963257, -0.08949080854654312, -1.0625598430633545, -1.413049578666687, -0.9358888864517212, 0.09003069251775742, 1.0628328323364258, 1.4131397008895874, 0.9355540871620178, -0.09000691771507263, -1.062890887260437, -1.413097858428955, -0.9357618093490601, 0.08987654745578766, 1.0628697872161865, 1.4135874509811401, 0.9363653659820557, -0.08973690867424011, -1.0631003379821777, -1.4147571325302124, -0.9375360608100891, 0.08896415680646896, 1.0640064477920532, 1.41633939743042, 0.9393287897109985, -0.08810925483703613, -1.0650626420974731, -1.4187729358673096, -0.9413617253303528, 0.08758872002363205, 1.0661901235580444, 1.4208202362060547, 0.9436692595481873, -0.0868481993675232, -1.066744327545166, -1.4224159717559814, -0.9451902508735657, 0.08515615016222, 1.0662510395050049, 1.4236648082733154, 0.9477611184120178, -0.0830439105629921, -1.0657920837402344, -1.4250640869140625, -0.9498978853225708, 0.08147937804460526, 1.0660263299942017, 1.427075982093811, 0.951636016368866, -0.08126382529735565, -1.0673896074295044, -1.4286566972732544, -0.9520168304443359, 0.08319265395402908, 1.0705032348632812, 1.430483341217041, 0.9512441754341125, -0.08634252101182938, -1.074081540107727, -1.4312732219696045, -0.9481534957885742, 0.09141552448272705, 1.0771763324737549, 1.4309138059616089, 0.9448667764663696, -0.09541045129299164, -1.0789904594421387, -1.429699420928955, -0.9415082931518555, 0.09863314777612686, 1.0803416967391968, 1.4282245635986328, 0.938704252243042, -0.1005597710609436, -1.0799673795700073, -1.4257880449295044, -0.936019778251648, 0.10170960426330566, 1.079012393951416, 1.4232150316238403, 0.9339714050292969, -0.10200433433055878, -1.0771645307540894, -1.4204195737838745, -0.9318506717681885, 0.10209651291370392, 1.075145959854126, 1.4173239469528198, 0.929742693901062, -0.10150086879730225, -1.071804404258728, -1.4135708808898926, -0.9278473258018494, 0.10032188892364502, 1.0685869455337524, 1.410603404045105, 0.9272298812866211, -0.09819892048835754, -1.0655497312545776, -1.408176064491272, -0.9265536069869995, 0.09690824896097183, 1.063039779663086, 1.4064569473266602, 0.926828920841217, -0.09532660245895386, -1.061122179031372, -1.4055126905441284, -0.9269483685493469, 0.0942210853099823, 1.0600675344467163, 1.4053046703338623, 0.9277116060256958, -0.09359656274318695, -1.0603580474853516, -1.4065302610397339, -0.92869633436203, 0.09354368597269058, 1.0617122650146484, 1.4086287021636963, 0.9302269220352173, -0.09428632259368896, -1.0641236305236816, -1.4114075899124146, -0.9317381978034973, 0.09481155872344971, 1.0670239925384521, 1.4145349264144897, 0.9329267144203186, -0.0956619456410408, -1.0695394277572632, -1.4169811010360718, -0.9339714646339417, 0.09637870639562607, 1.0712116956710815, 1.418853521347046, 0.9353140592575073, -0.0959145575761795, -1.0710129737854004, -1.4192695617675781, -0.9363207221031189, 0.09434645622968674, 1.0699151754379272, 1.41845703125, 0.9371172785758972, -0.0923382043838501, -1.0672519207000732, -1.4167561531066895, -0.937620222568512, 0.08945245295763016, 1.063513994216919, 1.4147028923034668, 0.9382784962654114, -0.08637925237417221, -1.0594158172607422, -1.4117393493652344, -0.9386044144630432, 0.08276131749153137, 1.0547984838485718, 1.4095783233642578, 0.9397053718566895, -0.078981913626194, -1.0513486862182617, -1.4084911346435547, -0.9413355588912964, 0.07669388502836227, 1.0504554510116577, 1.4090800285339355, 0.9422976970672607, -0.07618959993124008, -1.0501327514648438, -1.4090830087661743, -0.94269859790802, 0.07585632801055908, 1.0498422384262085, 1.4090043306350708, 0.9433881044387817, -0.07420176267623901, -1.048752784729004, -1.409502387046814, -0.9455349445343018, 0.07193268835544586, 1.0475836992263794, 1.4103989601135254, 0.9487199187278748, -0.06815275549888611, -1.0455729961395264, -1.411730170249939, -0.953029453754425, 0.06353552639484406, 1.0437705516815186, 1.4144518375396729, 0.957710862159729, -0.05965171381831169, -1.042979121208191, -1.4166415929794312, -0.9612873792648315, 0.05735872685909271, 1.0431997776031494, 1.4181517362594604, 0.963053286075592, -0.05615629255771637, -1.042399287223816, -1.4186757802963257, -0.9637882709503174, 0.05588434264063835, 1.0429853200912476, 1.4193238019943237, 0.9640495777130127, -0.05637822672724724, -1.043766975402832, -1.4194797277450562, -0.9633927941322327, 0.057914067059755325, 1.0456238985061646, 1.420562505722046, 0.9623005390167236, -0.060181308537721634, -1.0479164123535156, -1.4212161302566528, -0.9607983827590942, 0.06334007531404495, 1.0504796504974365, 1.4212697744369507, 0.9587316513061523, -0.06582300364971161, -1.0516471862792969, -1.4209007024765015, -0.9566126465797424, 0.06810658425092697, 1.0528639554977417, 1.419826865196228, 0.9545899629592896, -0.06993969529867172, -1.052484154701233, -1.4179118871688843, -0.9522977471351624, 0.07056408375501633, 1.0510468482971191, 1.4157341718673706, 0.9512081146240234, -0.06980964541435242, -1.048927664756775, -1.413216233253479, -0.9500448107719421, 0.06891727447509766, 1.046556830406189, 1.4108679294586182, 0.9491946697235107, -0.06747432798147202, -1.04398512840271, -1.4084733724594116, -0.9486051201820374, 0.06662899255752563, 1.0417979955673218, 1.406460165977478, 0.9473179578781128, -0.0660698264837265, -1.0400776863098145, -1.4044760465621948, -0.9459264278411865, 0.06657814234495163, 1.0396554470062256, 1.403359055519104, 0.9444610476493835, -0.06842507421970367, -1.0404136180877686, -1.4025506973266602, -0.9418744444847107, 0.07135196775197983, 1.042600154876709, 1.4022526741027832, 0.9390290975570679, -0.07575564086437225, -1.0462539196014404, -1.4023547172546387, -0.93519526720047, 0.08098530769348145, 1.050216555595398, 1.4030952453613281, 0.931879460811615, -0.08663923293352127, -1.0543124675750732, -1.4031559228897095, -0.9278396368026733, 0.09224210679531097, 1.0590932369232178, 1.4045735597610474, 0.9260032176971436, -0.09710890799760818, -1.0644809007644653, -1.4077496528625488, -0.924319863319397, 0.10340077430009842, 1.071622371673584, 1.4112802743911743, 0.9221023321151733, -0.1096336618065834, -1.0779634714126587, -1.4141526222229004, -0.919975996017456, 0.1142236664891243, 1.08250892162323, 1.4162993431091309, 0.9197622537612915, -0.11646278202533722, -1.084803581237793, -1.4174935817718506, -0.9198049902915955, 0.11611507833003998, 1.0845144987106323, 1.418067216873169, 0.9221205115318298, -0.11266667395830154, -1.0814636945724487, -1.4173762798309326, -0.9253262281417847, 0.10762427747249603, 1.0773394107818604, 1.4176212549209595, 0.9291524887084961, -0.10202119499444962, -1.0733332633972168, -1.4166532754898071, -0.9322895407676697, 0.09711980074644089, 1.0691237449645996, 1.4161498546600342, 0.9347855448722839, -0.09297022968530655, -1.0663230419158936, -1.4157533645629883, -0.9365562796592712, 0.09085313975811005, 1.0658451318740845, 1.4164681434631348, 0.9376720786094666, -0.09082607924938202, -1.0665489435195923, -1.4175777435302734, -0.9376938343048096, 0.09222602099180222, 1.0689074993133545, 1.4194406270980835, 0.9374745488166809, -0.09441374987363815, -1.071845531463623, -1.4210388660430908, -0.9370026588439941, 0.09718986600637436, 1.0755949020385742, 1.423926830291748, 0.9371705055236816, -0.09944277256727219, -1.0788795948028564, -1.4265389442443848, -0.9378331899642944, 0.1011124774813652, 1.081817388534546, 1.4292311668395996, 0.9393255114555359, -0.10169190168380737, -1.0840060710906982, -1.4319833517074585, -0.9410342574119568, 0.10127082467079163, 1.0845221281051636, 1.4335086345672607, 0.9442469477653503, -0.09806766360998154, -1.0832513570785522, -1.4349193572998047, -0.9473576545715332, 0.09411658346652985, 1.0809575319290161, 1.4359050989151, 0.9516571760177612, -0.0893167033791542, -1.0779310464859009, -1.4367161989212036, -0.9552245736122131, 0.084475576877594, 1.0745726823806763, 1.4363491535186768, 0.9584053754806519, -0.08012343943119049, -1.071090579032898, -1.4354777336120605, -0.9605977535247803, 0.07601622492074966, 1.0677685737609863, 1.4346222877502441, 0.9623916745185852, -0.07285231351852417, -1.0654857158660889, -1.433746576309204, -0.962786078453064, 0.0714053064584732, 1.0637630224227905, 1.433107852935791, 0.9631426930427551, -0.07065283507108688, -1.063220739364624, -1.4327325820922852, -0.962979793548584, 0.07102080434560776, 1.0632967948913574, 1.4319640398025513, 0.9615843892097473, -0.07195517420768738, -1.0632520914077759, -1.4312783479690552, -0.9610273241996765, 0.07283418625593185, 1.0644655227661133, 1.432225227355957, 0.9606679677963257, -0.07499929517507553, -1.0666967630386353, -1.4330313205718994, -0.9585736989974976, 0.07874748855829239, 1.069764256477356, 1.4328480958938599, 0.9553573727607727, -0.08213767409324646, -1.0710394382476807, -1.431969404220581, -0.953399658203125, 0.08355829864740372, 1.0714954137802124, 1.4316397905349731, 0.952999472618103, -0.08371110260486603, -1.0713728666305542, -1.431778073310852, -0.9537439942359924, 0.08274415880441666, 1.0708695650100708, 1.4326270818710327, 0.9556673765182495, -0.08043712377548218, -1.069624662399292, -1.4326149225234985, -0.9575228691101074, 0.07784753292798996, 1.0673086643218994, 1.4320224523544312, 0.9588144421577454, -0.07536296546459198, -1.0644229650497437, -1.43060302734375, -0.9593225717544556, 0.07309238612651825, 1.0620466470718384, 1.4288922548294067, 0.9591034650802612, -0.0720909833908081, -1.0607004165649414, -1.426936388015747, -0.9570408463478088, 0.07360517978668213, 1.0600336790084839, 1.4247092008590698, 0.9534910321235657, -0.07602940499782562, -1.0600289106369019, -1.421623706817627, -0.9491748213768005, 0.07927025109529495, 1.0605764389038086, 1.4191193580627441, 0.9450571537017822, -0.08292256295681, -1.0612975358963013, -1.4168901443481445, -0.941271185874939, 0.08653774857521057, 1.0632812976837158, 1.4162331819534302, 0.9385570287704468, -0.08983170241117477, -1.0654432773590088, -1.4159939289093018, -0.9361255168914795, 0.09306473284959793, 1.0677886009216309, 1.4167859554290771, 0.9351691007614136, -0.09488316625356674, -1.0693401098251343, -1.417704463005066, -0.9355353116989136, 0.09509311616420746, 1.070595383644104, 1.4199076890945435, 0.9374378323554993, -0.09404876083135605, -1.0708000659942627, -1.421495795249939, -0.9403978586196899, 0.09143822640180588, 1.069972276687622, 1.4228553771972656, 0.9436479806900024, -0.0877133309841156, -1.0677359104156494, -1.42366623878479, -0.9473984837532043, 0.08295879513025284, 1.0645062923431396, 1.423989176750183, 0.9510204792022705, -0.07799500226974487, -1.0613020658493042, -1.4235955476760864, -0.9536724090576172, 0.07390326261520386, 1.0578910112380981, 1.4231520891189575, 0.9554043412208557, -0.07083087414503098, -1.055214285850525, -1.4221768379211426, -0.9561575651168823, 0.06972198188304901, 1.0538957118988037, 1.4206656217575073, 0.9553130269050598, -0.06962201744318008, -1.0534743070602417, -1.4196295738220215, -0.9535516500473022, 0.0714021623134613, 1.0546132326126099, 1.4190086126327515, 0.9508683681488037, -0.07460731267929077, -1.0558465719223022, -1.4170687198638916, -0.9469042420387268, 0.0782809928059578, 1.05649733543396, 1.415199875831604, 0.9444478154182434, -0.07936301827430725, -1.0570341348648071, -1.415432095527649, -0.944333016872406, 0.08085881918668747, 1.0594912767410278, 1.4173595905303955, 0.9439588189125061, -0.08357829600572586, -1.0627093315124512, -1.418407917022705, -0.9424013495445251, 0.08669260889291763, 1.065514087677002, 1.4197511672973633, 0.9411301612854004, -0.08947880566120148, -1.0679705142974854, -1.420299768447876, -0.9399325847625732, 0.09228111803531647, 1.0701649188995361, 1.421006441116333, 0.9391084313392639, -0.09354638308286667, -1.0713951587677002, -1.421894907951355, -0.939725935459137, 0.09309595823287964, 1.0719283819198608, 1.4226202964782715, 0.940937876701355, -0.09175291657447815, -1.07079017162323, -1.4224320650100708, -0.94231778383255, 0.08893534541130066, 1.0678119659423828, 1.421979546546936, 0.9451332092285156, -0.08413206040859222, -1.0637767314910889, -1.421034574508667, -0.9478956460952759, 0.07927964627742767, 1.0596061944961548, 1.4199734926223755, 0.9504390358924866, -0.07415228337049484, -1.0551499128341675, -1.418574571609497, -0.9526219367980957, 0.0697195827960968, 1.051069974899292, 1.4171355962753296, 0.9544289708137512, -0.06648064404726028, -1.048099160194397, -1.4158250093460083, -0.9550691843032837, 0.0644526407122612, 1.0453962087631226, 1.41390061378479, 0.9546409845352173, -0.063740074634552, -1.0440670251846313, -1.4125211238861084, -0.9534040093421936, 0.06420283019542694, 1.044560194015503, 1.4123475551605225, 0.9520149827003479, -0.06635016947984695, -1.0461797714233398, -1.4124044179916382, -0.950236976146698, 0.0697772428393364, 1.049281358718872, 1.4133979082107544, 0.9481846690177917, -0.0737404152750969, -1.0535398721694946, -1.4152636528015137, -0.9465264081954956, 0.0780913233757019, 1.058333396911621, 1.4180923700332642, 0.9455102682113647, -0.08245678246021271, -1.0633519887924194, -1.4208284616470337, -0.9446965456008911, 0.08664870262145996, 1.0682659149169922, 1.424088478088379, 0.9447131156921387, -0.08958127349615097, -1.0725659132003784, -1.4270721673965454, -0.9446797966957092, 0.0920233353972435, 1.0758072137832642, 1.4296625852584839, 0.945072591304779, -0.0935196727514267, -1.0777324438095093, -1.430860161781311, -0.9461624622344971, 0.09320688247680664, 1.0778337717056274, 1.4314287900924683, 0.9474561214447021, -0.09094184637069702, -1.0762238502502441, -1.4317368268966675, -0.950116753578186, 0.08748532831668854, 1.0745573043823242, 1.4329777956008911, 0.9529443979263306, -0.08528464287519455, -1.073594331741333, -1.4335225820541382, -0.953354001045227, 0.08444859087467194, 1.0722720623016357, 1.4315980672836304, 0.9532390236854553, -0.08252841979265213, -1.069250226020813, -1.4299153089523315, -0.9540666937828064, 0.07986285537481308, 1.0668951272964478, 1.4294006824493408, 0.9553167223930359, -0.0777554139494896, -1.065022587776184, -1.4289149045944214, -0.9564425945281982, 0.0757596343755722, 1.0631983280181885, 1.428451418876648, 0.9574950337409973, -0.07442790269851685, -1.0627800226211548, -1.4286375045776367, -0.9572892785072327, 0.074966199696064, 1.063284158706665, 1.4281539916992188, 0.9561816453933716, -0.07646447420120239, -1.0638737678527832, -1.4276103973388672, -0.9541240930557251, 0.07897228002548218, 1.0661516189575195, 1.4278218746185303, 0.9516492486000061, -0.08343996852636337, -1.0697040557861328, -1.427839994430542, -0.9479760527610779, 0.08857858926057816, 1.0734636783599854, 1.4280897378921509, 0.9448989629745483, -0.09335608780384064, -1.0769803524017334, -1.4286327362060547, -0.9412558674812317, 0.09861525893211365, 1.0807240009307861, 1.428807020187378, 0.9382664561271667, -0.10234744846820831, -1.083251953125, -1.4282132387161255, -0.9354625940322876, 0.10580219328403473, 1.0846465826034546, 1.4276678562164307, 0.933989405632019, -0.10692374408245087, -1.0847814083099365, -1.426924705505371, -0.933236837387085, 0.10669674724340439, 1.0831965208053589, 1.425034761428833, 0.9328396320343018, -0.10420991480350494, -1.079304575920105, -1.4225988388061523, -0.9339228272438049, 0.0998426303267479, 1.0738757848739624, 1.4198087453842163, 0.9361531734466553, -0.09366632997989655, -1.0673748254776, -1.4168384075164795, -0.9388807415962219, 0.08655977249145508, 1.0604196786880493, 1.4137471914291382, 0.9414780735969543, -0.07919403165578842, -1.0525163412094116, -1.4103093147277832, -0.9446092247962952, 0.07214600592851639, 1.0457103252410889, 1.4073749780654907, 0.9470477104187012, -0.0661076083779335, -1.0399510860443115, -1.4046071767807007, -0.948390007019043, 0.06223120540380478, 1.0356040000915527, 1.4028156995773315, 0.9486300349235535, -0.06003085896372795, -1.0330498218536377, -1.4006456136703491, -0.948188304901123, 0.0600123405456543, 1.0323920249938965, 1.3997383117675781, 0.9465013146400452, -0.061801645904779434, -1.034014344215393, -1.3991061449050903, -0.9428457617759705, 0.06694778800010681, 1.0373947620391846, 1.3979355096817017, 0.9377598762512207, -0.07266861200332642, -1.0397223234176636, -1.3957029581069946, -0.9331664443016052, 0.07651928812265396, 1.0410149097442627, 1.395134449005127, 0.9315787553787231, -0.07912292331457138, -1.043771505355835, -1.3966580629348755, -0.9304523468017578, 0.08257967233657837, 1.0473428964614868, 1.3979995250701904, 0.9289824366569519, -0.08538810163736343, -1.0501863956451416, -1.3994269371032715, -0.9279826879501343, 0.08788654953241348, 1.0530469417572021, 1.4009180068969727, 0.9276058077812195, -0.08997751027345657, -1.0553210973739624, -1.402421236038208, -0.9274013042449951, 0.09086179733276367, 1.056917667388916, 1.4047553539276123, 0.9299893379211426, -0.09048529714345932, -1.059125304222107, -1.4084581136703491, -0.9331355690956116, 0.08938078582286835, 1.06092369556427, 1.4120131731033325, 0.9370077848434448, -0.08704131841659546, -1.0614038705825806, -1.4159622192382812, -0.9422984719276428, 0.0833461806178093, 1.0620402097702026, 1.4213554859161377, 0.9488807916641235, -0.07966253906488419, -1.0639429092407227, -1.4267257452011108, -0.9544057846069336, 0.07746756821870804, 1.0661009550094604, 1.4318060874938965, 0.9594767689704895, -0.07600652426481247, -1.0686486959457397, -1.4357246160507202, -0.9617241024971008, 0.07585882395505905, 1.0701497793197632, 1.437719464302063, 0.9632558822631836, -0.07598210126161575, -1.0708627700805664, -1.4386677742004395, -0.9633457660675049, 0.07619510591030121, 1.0715161561965942, 1.4396164417266846, 0.9633897542953491, -0.07753413170576096, -1.073156476020813, -1.4399232864379883, -0.9623333811759949, 0.08022404462099075, 1.0759800672531128, 1.4404876232147217, 0.9597349166870117, -0.0843394547700882, -1.0790187120437622, -1.44041907787323, -0.9565256834030151, 0.08860920369625092, 1.0816799402236938, 1.4402607679367065, 0.953558087348938, -0.09269840270280838, -1.0847464799880981, -1.4404062032699585, -0.9511523842811584, 0.0967775210738182, 1.088155746459961, 1.4416626691818237, 0.9493314027786255, -0.10027199983596802, -1.0914182662963867, -1.442747712135315, -0.9478709101676941, 0.1033230796456337, 1.0943354368209839, 1.4441698789596558, 0.9475029706954956, -0.10469531267881393, -1.0959761142730713, -1.4452112913131714, -0.9479625225067139, 0.10465002059936523, 1.0966005325317383, 1.446263313293457, 0.9491720199584961, -0.10330795496702194, -1.095155119895935, -1.4461743831634521, -0.9514356255531311, 0.09987004101276398, 1.0928624868392944, 1.4469670057296753, 0.9556560516357422, -0.09484728425741196, -1.0898698568344116, -1.4476431608200073, -0.9585252404212952, 0.09157602488994598, 1.0871003866195679, 1.4457248449325562, 0.9582797288894653, -0.08813180029392242, -1.0802444219589233, -1.439302682876587, -0.9574986100196838, 0.08162000775337219, 1.0709234476089478, 1.4333949089050293, 0.9590088129043579, -0.07412731647491455, -1.0626522302627563, -1.4290921688079834, -0.9603102803230286, 0.06883606314659119, 1.0565425157546997, 1.4255976676940918, 0.9614869952201843, -0.06437074393033981, -1.0520687103271484, -1.4243000745773315, -0.9629673957824707, 0.06221215799450874, 1.0514991283416748, 1.4247316122055054, 0.9631989598274231, -0.06352473050355911, -1.0527805089950562, -1.4245277643203735, -0.961081326007843, 0.06690175086259842, 1.0551681518554688, 1.4243719577789307, 0.9573066234588623, -0.07160021364688873, -1.0580437183380127, -1.4227577447891235, -0.9520444273948669, 0.07728946954011917, 1.060076117515564, 1.4196889400482178, 0.9458210468292236, -0.08217831701040268, -1.060589075088501, -1.4156827926635742, -0.9404531121253967, 0.08562780916690826, 1.0601460933685303, 1.4118635654449463, 0.9355828166007996, -0.08841440081596375, -1.0586549043655396, -1.4069067239761353, -0.9311200976371765, 0.0895504578948021, 1.0562307834625244, 1.4030135869979858, 0.9280375838279724, -0.08982166647911072, -1.054168939590454, -1.4001309871673584, -0.9264404773712158, 0.0898030623793602, 1.0524795055389404, 1.3986366987228394, 0.9257473945617676, -0.08907350897789001, -1.0515602827072144, -1.3982583284378052, -0.9260278940200806, 0.08866064995527267, 1.051558494567871, 1.3989704847335815, 0.926974356174469, -0.08821970969438553, -1.0522197484970093, -1.4007632732391357, -0.9293062686920166, 0.08709721267223358, 1.0538240671157837, 1.4046777486801147, 0.9332577586174011, -0.08576320111751556, -1.0570553541183472, -1.4103890657424927, -0.9374807476997375, 0.08627602458000183, 1.0618095397949219, 1.41642427444458, 0.9407690763473511, -0.08801277726888657, -1.0671181678771973, -1.4212716817855835, -0.9416897296905518, 0.09093382209539413, 1.0714287757873535, 1.423897385597229, 0.9410743117332458, -0.09389031678438187, -1.0733469724655151, -1.4228229522705078, -0.9380262494087219, 0.09585850685834885, 1.0727028846740723, 1.4199700355529785, 0.9345661997795105, -0.09707805514335632, -1.0700358152389526, -1.4149330854415894, -0.9305770993232727, 0.09770825505256653, 1.0665134191513062, 1.408919095993042, 0.9261633157730103, -0.09743902087211609, -1.0620478391647339, -1.403405785560608, -0.922609806060791, 0.09727254509925842, 1.059300184249878, 1.399086594581604, 0.9187667369842529, -0.09951584041118622, -1.0574736595153809, -1.3942269086837769, -0.913276195526123, 0.10193456709384918, 1.055436372756958, 1.3901622295379639, 0.9102460145950317, -0.10249835252761841, -1.05503511428833, -1.3896418809890747, -0.9100871682167053, 0.10353536903858185, 1.0573911666870117, 1.3917075395584106, 0.9099236130714417, -0.10582901537418365, -1.060555100440979, -1.3943449258804321, -0.9111055731773376, 0.10650823265314102, 1.0632500648498535, 1.3983662128448486, 0.9146762490272522, -0.10584823787212372, -1.0661399364471436, -1.4032891988754272, -0.9189968705177307, 0.10443738847970963, 1.0686657428741455, 1.4091465473175049, 0.9253014326095581, -0.10158545523881912, -1.0713086128234863, -1.4166669845581055, -0.9324641823768616, 0.09967927634716034, 1.076253890991211, 1.4242827892303467, 0.9376097321510315, -0.10010980069637299, -1.0804997682571411, -1.4286243915557861, -0.9389558434486389, 0.10167916119098663, 1.082555890083313, 1.4288369417190552, 0.9373418092727661, -0.10313563793897629, -1.0818305015563965, -1.425459623336792, -0.9342703819274902, 0.10271505266427994, 1.0774712562561035, 1.420127511024475, 0.932000458240509, -0.09943266212940216, -1.0711365938186646, -1.4154167175292969, -0.931967556476593, 0.09578867256641388, 1.066668152809143, 1.4133907556533813, 0.9336621165275574, -0.0923503041267395, -1.063766598701477, -1.4128435850143433, -0.935465931892395, 0.08952915668487549, 1.062475562095642, 1.413945198059082, 0.9379764199256897, -0.08751045912504196, -1.0625550746917725, -1.4162347316741943, -0.9408067464828491, 0.08609838038682938, 1.0638258457183838, 1.4191079139709473, 0.9436765313148499, -0.0853930413722992, -1.0653431415557861, -1.422215461730957, -0.9465871453285217, 0.0842236801981926, 1.067275047302246, 1.4259532690048218, 0.9492567181587219, -0.08385790139436722, -1.0688977241516113, -1.428790807723999, -0.9517936706542969, 0.083951435983181, 1.0706533193588257, 1.4306974411010742, 0.952637255191803, -0.08387213945388794, -1.0718826055526733, -1.4314883947372437, -0.9527719020843506, 0.08436655253171921, 1.0719635486602783, 1.431470274925232, 0.9524520635604858, -0.08434490859508514, -1.0712995529174805, -1.430204153060913, -0.9516984820365906, 0.08441133797168732, 1.0702112913131714, 1.428945779800415, 0.9504154324531555, -0.08436103910207748, -1.0696083307266235, -1.427473783493042, -0.9486429691314697, 0.08627945929765701, 1.0700440406799316, 1.4258660078048706, 0.9450139403343201, -0.08961362391710281, -1.0701098442077637, -1.4217859506607056, -0.9394620060920715, 0.0921144112944603, 1.0676121711730957, 1.4171054363250732, 0.9371821880340576, -0.09047847241163254, -1.0645408630371094, -1.4163883924484253, -0.9394901990890503, 0.08774368464946747, 1.06493079662323, 1.4204356670379639, 0.9438323378562927, -0.08673938363790512, -1.0684908628463745, -1.4254376888275146, -0.9472569823265076, 0.08756100386381149, 1.0730218887329102, 1.43032968044281, 0.9488641619682312, -0.08968216925859451, -1.0766597986221313, -1.4327389001846313, -0.9484121799468994, 0.09208367019891739, 1.0785146951675415, 1.4323844909667969, 0.9467265605926514, -0.09345194697380066, -1.0778443813323975, -1.430367350578308, -0.9447616338729858, 0.09405706822872162, 1.07681405544281, 1.4275927543640137, 0.9419974088668823, -0.09446170926094055, -1.074416995048523, -1.424156665802002, -0.9393062591552734, 0.09452132135629654, 1.071717619895935, 1.4207239151000977, 0.9372777342796326, -0.0941065326333046, -1.0696946382522583, -1.4179823398590088, -0.936039388179779, 0.09420953691005707, 1.0685679912567139, 1.4171196222305298, 0.9354551434516907, -0.09403669834136963, -1.0686438083648682, -1.4179991483688354, -0.936559796333313, 0.09446104615926743, 1.070505976676941, 1.4202393293380737, 0.937591552734375, -0.09528259187936783, -1.0732401609420776, -1.4234200716018677, -0.9393910765647888, 0.09664188325405121, 1.0768742561340332, 1.4273878335952759, 0.9412609934806824, -0.09791333973407745, -1.0808298587799072, -1.4310086965560913, -0.9428684711456299, 0.09910882264375687, 1.0834486484527588, 1.433969259262085, 0.9442849159240723, -0.09890875965356827, -1.0847409963607788, -1.43635094165802, -0.9468727111816406, 0.09767212718725204, 1.0856083631515503, 1.4382210969924927, 0.9482360482215881, -0.09736141562461853, -1.085835337638855, -1.4376933574676514, -0.9469195604324341, 0.09789685159921646, 1.083966612815857, 1.4337575435638428, 0.9433315992355347, -0.0978841781616211, -1.0786312818527222, -1.4261282682418823, -0.939472496509552, 0.0944950133562088, 1.070278286933899, 1.4183751344680786, 0.9374468326568604, -0.0889698788523674, -1.0613677501678467, -1.4121298789978027, -0.9380454421043396, 0.08267299085855484, 1.0543076992034912, 1.4093519449234009, 0.9410173296928406, -0.07688017189502716, -1.050425410270691, -1.4103343486785889, -0.9446997046470642, 0.07479066401720047, 1.0522079467773438, 1.4137378931045532, 0.9464415311813354, -0.07675319910049438, -1.0558737516403198, -1.4159324169158936, -0.9454905390739441, 0.08039568364620209, 1.0600261688232422, 1.4188088178634644, 0.9450200796127319, -0.08416823297739029, -1.0654898881912231, -1.4224741458892822, -0.9441986083984375, 0.08998354524374008, 1.0727039575576782, 1.4260088205337524, 0.9421758055686951, -0.09521020203828812, -1.0773390531539917, -1.4276562929153442, -0.9403383135795593, 0.09872068464756012, 1.0797910690307617, 1.4280688762664795, 0.9389521479606628, -0.10061313211917877, -1.0804033279418945, -1.4267857074737549, -0.9370465278625488, 0.10062836110591888, 1.0786328315734863, 1.4245117902755737, 0.9361249804496765, -0.09901747107505798, -1.0749367475509644, -1.4209449291229248, -0.9353265762329102, 0.09688771516084671, 1.070770025253296, 1.4170074462890625, 0.9336646795272827, -0.0942307561635971, -1.0653952360153198, -1.4123097658157349, -0.9327959418296814, 0.09185095131397247, 1.0615195035934448, 1.4087392091751099, 0.9309209585189819, -0.09078256040811539, -1.0571324825286865, -1.4037933349609375, -0.9286252856254578, 0.08861566334962845, 1.0525541305541992, 1.4002310037612915, 0.9288780093193054, -0.08525165170431137, -1.0489084720611572, -1.399491310119629, -0.9319528937339783, 0.0809694454073906, 1.0478087663650513, 1.4032238721847534, 0.9381797313690186, -0.07755443453788757, -1.0508675575256348, -1.4106069803237915, -0.9445066452026367, 0.07769026607275009, 1.058266282081604, 1.420236349105835, 0.9493889212608337, -0.08152477443218231, -1.0672211647033691, -1.4282358884811401, -0.9504048824310303, 0.08714457601308823, 1.07533860206604, 1.432815670967102, 0.9494478106498718, -0.09214382618665695, -1.0803996324539185, -1.4351691007614136, -0.947840690612793, 0.09536711871623993, 1.0823312997817993, 1.4343069791793823, 0.9461390972137451, -0.09584125876426697, -1.0810788869857788, -1.4321179389953613, -0.9450780749320984, 0.09473573416471481, 1.077567219734192, 1.4292150735855103, 0.9451776742935181, -0.09127164632081985, -1.072440505027771, -1.4255298376083374, -0.9459152221679688, 0.0860220268368721, 1.0659900903701782, 1.4225066900253296, 0.9484950304031372, -0.07886514812707901, -1.0593080520629883, -1.4203073978424072, -0.9521174430847168, 0.07188925892114639, 1.0531712770462036, 1.4197043180465698, 0.957040011882782, -0.06486771255731583, -1.0488440990447998, -1.4200078248977661, -0.9612073302268982, 0.059538740664720535, 1.0447956323623657, 1.4192368984222412, 0.9640805721282959, -0.054241959005594254, -1.0406132936477661, -1.4187825918197632, -0.96751868724823, 0.05003693327307701, 1.038559079170227, 1.419675350189209, 0.9699379205703735, -0.04834797605872154, -1.0389668941497803, -1.4207099676132202, -0.9696868658065796, 0.050161536782979965, 1.0400973558425903, 1.4204051494598389, 0.9682954549789429, -0.05129092186689377, -1.041187047958374, -1.4209282398223877, -0.9676851034164429, 0.053429629653692245, 1.0438858270645142, 1.422749638557434, 0.9675523042678833, -0.05557222291827202, -1.0472108125686646, -1.425398588180542, -0.9667797088623047, 0.05966180935502052, 1.052573800086975, 1.4275845289230347, 0.9647997617721558, -0.06490529328584671, -1.056598424911499, -1.4274224042892456, -0.9601872563362122, 0.06966602057218552, 1.0576671361923218, 1.4242243766784668, 0.9554060697555542, -0.07192466408014297, -1.0544757843017578, -1.417651653289795, -0.9510398507118225, 0.07006699591875076, 1.0475726127624512, 1.410171627998352, 0.9487762451171875, -0.06451234966516495, -1.037345051765442, -1.402535080909729, -0.9491897821426392, 0.05635318532586098, 1.0267587900161743, 1.3971573114395142, 0.9523935317993164, -0.04687463492155075, -1.0178842544555664, -1.3945143222808838, -0.9573317766189575, 0.03811817616224289, 1.0117371082305908, 1.3950018882751465, 0.9636799097061157, -0.031813643872737885, -1.0099161863327026, -1.3986326456069946, -0.9690878987312317, 0.028737885877490044, 1.0122326612472534, 1.4043495655059814, 0.9736519455909729, -0.029416605830192566, -1.0179870128631592, -1.411188006401062, -0.9765665531158447, 0.033531554043293, 1.0268135070800781, 1.4193856716156006, 0.9778145551681519, -0.04068124666810036, -1.0379644632339478, -1.4264715909957886, -0.9761460423469543, 0.05033858120441437, 1.0500242710113525, 1.4330480098724365, 0.9724370241165161, -0.06158601492643356, -1.0611741542816162, -1.4367796182632446, -0.9662373065948486, 0.07360519468784332, 1.0706627368927002, 1.437543272972107, 0.9583950638771057, -0.08490452915430069, -1.0770200490951538, -1.4346232414245605, -0.9487767219543457, 0.0934547707438469, 1.0786455869674683, 1.429087519645691, 0.9411948323249817, -0.09772522747516632, -1.0769765377044678, -1.4232738018035889, -0.9357781410217285, 0.09907332062721252, 1.0737041234970093, 1.4182063341140747, 0.9321863651275635, -0.09803460538387299, -1.0690383911132812, -1.4128801822662354, -0.9298027753829956, 0.09566204994916916, 1.0636065006256104, 1.4083808660507202, 0.9290120005607605, -0.09223228693008423, -1.057428002357483, -1.4024714231491089, -0.9272578358650208, 0.08796980232000351, 1.0487717390060425, 1.3946545124053955, 0.9266585111618042, -0.07964261621236801, -1.03709876537323, -1.3882131576538086, -0.9304978251457214, 0.06853051483631134, 1.0273096561431885, 1.3868794441223145, 0.9380280375480652, -0.05821976438164711, -1.0209252834320068, -1.3892470598220825, -0.9469271898269653, 0.04941730201244354, 1.0193567276000977, 1.3960751295089722, 0.9571527242660522, -0.043349094688892365, -1.0221668481826782, -1.4056518077850342, -0.9663695096969604, 0.041743312031030655, 1.029426097869873, 1.417321801185608, 0.9745106101036072, -0.04287261515855789, -1.0396769046783447, -1.4297230243682861, -0.9802916049957275, 0.0482327938079834, 1.0526890754699707, 1.441536784172058, 0.9832808971405029, -0.05592052638530731, -1.0656226873397827, -1.4509680271148682, -0.9830215573310852, 0.06537459045648575, 1.0780069828033447, 1.4578801393508911, 0.9801632165908813, -0.07577502727508545, -1.0880675315856934, -1.4604480266571045, -0.9734402298927307, 0.0858512595295906, 1.0941969156265259, 1.4580128192901611, 0.964765191078186, -0.09402722865343094, -1.0953047275543213, -1.451055884361267, -0.9544509053230286, 0.09999857097864151, 1.0921506881713867, 1.4397978782653809, 0.9433826208114624, -0.10238134115934372, -1.0826889276504517, -1.4245696067810059, -0.9334138631820679, 0.09925757348537445, 1.0679669380187988, 1.409511923789978, 0.9284409880638123, -0.09088719636201859, -1.0531225204467773, -1.398130178451538, -0.9277917742729187, 0.08166718482971191, 1.0410360097885132, 1.3912107944488525, 0.929531991481781, -0.07391539216041565, -1.033023476600647, -1.3879237174987793, -0.9313714504241943, 0.069654680788517, 1.0290392637252808, 1.3860905170440674, 0.932016134262085, -0.06707357615232468, -1.0263279676437378, -1.3845700025558472, -0.932502269744873, 0.06540780514478683, 1.0251030921936035, 1.3851969242095947, 0.9353798627853394, -0.06226956844329834, -1.0248409509658813, -1.3894543647766113, -0.9410710334777832, 0.059627171605825424, 1.028331995010376, 1.3978663682937622, 0.9489866495132446, -0.0585453175008297, -1.0359622240066528, -1.409071445465088, -0.956864058971405, 0.05999691039323807, 1.0466567277908325, 1.423059105873108, 0.9648199677467346, -0.06378135830163956, -1.060376763343811, -1.4378440380096436, -0.9704470634460449, 0.07183273881673813, 1.0768840312957764, 1.4514461755752563, 0.9714647531509399, -0.0829446092247963, -1.0918177366256714, -1.4593605995178223, -0.9680702686309814, 0.09449345618486404, 1.1027209758758545, 1.4626758098602295, 0.9623864889144897, -0.1047828271985054, -1.109818458557129, -1.461197853088379, -0.9530732035636902, 0.11437611281871796, 1.1117408275604248, 1.4535863399505615, 0.9417222142219543, -0.12086278945207596, -1.1080656051635742, -1.4420506954193115, -0.9297219514846802, 0.123923160135746, 1.0998969078063965, 1.4276896715164185, 0.9190611243247986, -0.12328773736953735, -1.0874946117401123, -1.4113104343414307, -0.9101693630218506, 0.1188521459698677, 1.0725947618484497, 1.3960304260253906, 0.9048037528991699, -0.11087415367364883, -1.05657160282135, -1.3825058937072754, -0.9032994508743286, 0.09846142679452896, 1.0391693115234375, 1.3734303712844849, 0.9092225432395935, -0.08226954936981201, -1.0249654054641724, -1.3722411394119263, -0.9218434691429138, 0.06611496955156326, 1.0180275440216064, 1.3795362710952759, 0.9380072951316833, -0.05294039100408554, -1.0178571939468384, -1.392642617225647, -0.9540720582008362, 0.04552042484283447, 1.0243364572525024, 1.4079768657684326, 0.967648983001709, -0.0432082936167717, -1.0336580276489258, -1.421730637550354, -0.9766656160354614, 0.04448341950774193, 1.0438477993011475, 1.4334204196929932, 0.9822372198104858, -0.04750533774495125, -1.0525233745574951, -1.44206964969635, -0.985421359539032, 0.05124879628419876, 1.0603148937225342, 1.448652982711792, 0.9865819215774536, -0.05631605535745621, -1.0670181512832642, -1.4521793127059937, -0.9848873615264893, 0.06165093928575516, 1.0723240375518799, 1.4540537595748901, 0.9815111756324768, -0.06769966334104538, -1.0775305032730103, -1.454116702079773, -0.9762815833091736, 0.07510016858577728, 1.0818086862564087, 1.4527875185012817, 0.9694119095802307, -0.083008773624897, -1.0855512619018555, -1.4495701789855957, -0.9611194729804993, 0.09130686521530151, 1.088464617729187, 1.4450186491012573, 0.9521347284317017, -0.0993630439043045, -1.0908410549163818, -1.439839482307434, -0.9428290724754333, 0.10635152459144592, 1.0911026000976562, 1.4333586692810059, 0.9343527555465698, -0.1116914302110672, -1.0898182392120361, -1.4268630743026733, -0.9269358515739441, 0.1153605654835701, 1.087793231010437, 1.4206494092941284, 0.9202231168746948, -0.11764539778232574, -1.083540678024292, -1.4127213954925537, -0.9149007797241211, 0.11636198312044144, 1.076755404472351, 1.4057596921920776, 0.9137142300605774, -0.11075965315103531, -1.0693163871765137, -1.4025659561157227, -0.9168976545333862, 0.10378338396549225, 1.0630106925964355, 1.4013584852218628, 0.921913206577301, -0.09502990543842316, -1.0562822818756104, -1.4017112255096436, -0.930361270904541, 0.08410947024822235, 1.0506644248962402, 1.4063117504119873, 0.9416190385818481, -0.07349395751953125, -1.0484591722488403, -1.4138506650924683, -0.9536961317062378, 0.06593398004770279, 1.0508732795715332, 1.4242037534713745, 0.96416175365448, -0.06308884173631668, -1.0569334030151367, -1.4339946508407593, -0.9694309234619141, 0.06559168547391891, 1.0647835731506348, 1.4404197931289673, 0.9698091745376587, -0.07170768082141876, -1.0724451541900635, -1.4432437419891357, -0.9653376340866089, 0.0802680179476738, 1.078599214553833, 1.4420371055603027, 0.956924319267273, -0.09000550955533981, -1.0826987028121948, -1.4373743534088135, -0.9468374848365784, 0.09841104596853256, 1.08384108543396, 1.4303770065307617, 0.9369146227836609, -0.10544544458389282, -1.083025574684143, -1.4231178760528564, -0.9280157089233398, 0.11014951020479202, 1.081282138824463, 1.4163947105407715, 0.9211991429328918, -0.11278107762336731, -1.0785330533981323, -1.4110153913497925, -0.9167183637619019, 0.11373439431190491, 1.0763715505599976, 1.4078829288482666, 0.9149831533432007, -0.11302120238542557, -1.074134349822998, -1.4058887958526611, -0.9149078726768494, 0.11092133820056915, 1.0717530250549316, 1.4054994583129883, 0.917418897151947, -0.10705604404211044, -1.069151520729065, -1.4057875871658325, -0.920727014541626, 0.10297579318284988, 1.0665334463119507, 1.4070605039596558, 0.925413966178894, -0.09690488874912262, -1.0627065896987915, -1.4078987836837769, -0.9308046102523804, 0.09045623987913132, 1.058840274810791, 1.4094642400741577, 0.9369823932647705, -0.08312381058931351, -1.0549544095993042, -1.410736322402954, -0.9428550601005554, 0.07621689885854721, 1.051265001296997, 1.4123730659484863, 0.9488007426261902, -0.06974748522043228, -1.048115611076355, -1.4144641160964966, -0.9540440440177917, 0.06488721072673798, 1.0462692975997925, 1.4167639017105103, 0.9578690528869629, -0.06225217133760452, -1.0460652112960815, -1.4179346561431885, -0.9595873355865479, 0.06126149371266365, 1.0465573072433472, 1.4185020923614502, 0.9599119424819946, -0.06126983091235161, -1.0474371910095215, -1.4200506210327148, -0.9602447748184204, 0.06335493177175522, 1.0512174367904663, 1.422858476638794, 0.9588420987129211, -0.06942254304885864, -1.0579941272735596, -1.4252541065216064, -0.9547116756439209, 0.07824011892080307, 1.0657029151916504, 1.4274736642837524, 0.949508011341095, -0.08729096502065659, -1.073930025100708, -1.428999662399292, -0.9432929158210754, 0.09740248322486877, 1.0808453559875488, 1.4289945363998413, 0.9368250966072083, -0.10599663853645325, -1.0859761238098145, -1.4279155731201172, -0.9311503767967224, 0.11181734502315521, 1.0889544486999512, 1.4260097742080688, 0.92665696144104, -0.11543364822864532, -1.088969111442566, -1.4235572814941406, -0.9244421124458313, 0.1156700849533081, 1.0867178440093994, 1.4212853908538818, 0.9239906072616577, -0.11277737468481064, -1.0828710794448853, -1.4190082550048828, -0.9251971244812012, 0.10825800895690918, 1.0771794319152832, 1.416343092918396, 0.9281021952629089, -0.10164542496204376, -1.071226716041565, -1.414675235748291, -0.932062566280365, 0.09465304762125015, 1.0658491849899292, 1.4140321016311646, 0.9361110329627991, -0.08852836489677429, -1.0615118741989136, -1.4137918949127197, -0.9399081468582153, 0.08393663913011551, 1.0586514472961426, 1.4142107963562012, 0.9427414536476135, -0.08045318722724915, -1.0568630695343018, -1.4147781133651733, -0.9441866278648376, 0.07922601699829102, 1.0565155744552612, 1.4149079322814941, 0.9443369507789612, -0.07936326414346695, -1.0571659803390503, -1.4154642820358276, -0.9438323378562927, 0.0814172625541687, 1.059421420097351, 1.415850043296814, 0.9419125914573669, -0.08468060940504074, -1.0619255304336548, -1.415878415107727, -0.9390780925750732, 0.08885477483272552, 1.064464807510376, 1.4151893854141235, 0.9352549910545349, -0.09276247769594193, -1.0660971403121948, -1.4137012958526611, -0.9320024251937866, 0.09635692834854126, 1.0677285194396973, 1.4122827053070068, 0.9288374781608582, -0.09897483885288239, -1.068318247795105, -1.4109195470809937, -0.9263783693313599, 0.10077495872974396, 1.0684025287628174, 1.4099193811416626, 0.9253612756729126, -0.1013554185628891, -1.0682775974273682, -1.4087319374084473, -0.924311637878418, 0.10154236108064651, 1.0680516958236694, 1.4081834554672241, 0.9238175749778748, -0.10105302929878235, -1.0659421682357788, -1.406583309173584, -0.9243203997612, 0.09778327494859695, 1.0620015859603882, 1.4056507349014282, 0.9277047514915466, -0.09271185845136642, -1.0590598583221436, -1.406745195388794, -0.9314491152763367, 0.08918999880552292, 1.0583046674728394, 1.4083240032196045, 0.9346102476119995, -0.08615632355213165, -1.0567516088485718, -1.409693717956543, -0.9371517300605774, 0.08439449220895767, 1.057445764541626, 1.4121431112289429, 0.9392217993736267, -0.0842166319489479, -1.0593795776367188, -1.4143444299697876, -0.9400522112846375, 0.08609133958816528, 1.0627098083496094, 1.4159188270568848, 0.9390445947647095, -0.0887819454073906, -1.0652903318405151, -1.4169172048568726, -0.9373058676719666, 0.09240533411502838, 1.067534327507019, 1.417131781578064, 0.9356786608695984, -0.09461545944213867, -1.069361925125122, -1.417295217514038, -0.9349231719970703, 0.09615472704172134, 1.0711239576339722, 1.4183437824249268, 0.9343123435974121, -0.09756318479776382, -1.072034239768982, -1.4187517166137695, -0.9343829154968262, 0.09759063273668289, 1.0723711252212524, 1.4193073511123657, 0.935498833656311, -0.09640643000602722, -1.0720843076705933, -1.4199720621109009, -0.936750590801239, 0.09505102783441544, 1.0711883306503296, 1.420619249343872, 0.9387567043304443, -0.09297966957092285, -1.0703824758529663, -1.4217008352279663, -0.9406764507293701, 0.09075642377138138, 1.069756031036377, 1.4226751327514648, 0.9427409172058105, -0.08900822699069977, -1.0692940950393677, -1.423579454421997, -0.9445073008537292, 0.08785109966993332, 1.0690547227859497, 1.4242987632751465, 0.9454715251922607, -0.08708364516496658, -1.0693069696426392, -1.4254441261291504, -0.9464979767799377, 0.08709762245416641, 1.0701335668563843, 1.4263629913330078, 0.9470947980880737, -0.08743095397949219, -1.071180820465088, -1.42727530002594, -0.9469649791717529, 0.08865063637495041, 1.0727547407150269, 1.4284968376159668, 0.946846604347229, -0.08982719480991364, -1.0742847919464111, -1.4287784099578857, -0.9461706280708313, 0.0910191535949707, 1.0753055810928345, 1.4296926259994507, 0.9463233947753906, -0.09169881790876389, -1.0762968063354492, -1.4305311441421509, -0.9463594555854797, 0.09275559335947037, 1.0782066583633423, 1.4320300817489624, 0.9466768503189087, -0.09400168806314468, -1.0800023078918457, -1.4336239099502563, -0.9468442797660828, 0.09557289630174637, 1.0821624994277954, 1.434639811515808, 0.9457964897155762, -0.09742850065231323, -1.0832898616790771, -1.433727502822876, -0.9444653987884521, 0.09765957295894623, 1.0819638967514038, 1.4327950477600098, 0.9448414444923401, -0.09573108702898026, -1.080290675163269, -1.432243824005127, -0.9454079866409302, 0.09477549046278, 1.079101800918579, 1.4314606189727783, 0.9452409148216248, -0.0936666876077652, -1.076988697052002, -1.429520606994629, -0.9453907608985901, 0.09207809716463089, 1.0754334926605225, 1.4290945529937744, 0.945316731929779, -0.09157392382621765, -1.0745946168899536, -1.4277522563934326, -0.9445918202400208, 0.09188434481620789, 1.0737098455429077, 1.426706075668335, 0.9440028667449951, -0.09152241796255112, -1.0726319551467896, -1.425248146057129, -0.9429247379302979, 0.09116456657648087, 1.07144033908844, 1.4240586757659912, 0.9425724744796753, -0.09025674313306808, -1.0699515342712402, -1.4230149984359741, -0.9431546330451965, 0.08870096504688263, 1.0691086053848267, 1.4229072332382202, 0.9436293244361877, -0.08777505159378052, -1.0676618814468384, -1.422458291053772, -0.9441132545471191, 0.08662167191505432, 1.0662201642990112, 1.4212480783462524, 0.9443961977958679, -0.08553452789783478, -1.064553141593933, -1.41977858543396, -0.9436482191085815, 0.0847892314195633, 1.0627086162567139, 1.4178802967071533, 0.9424984455108643, -0.0844130888581276, -1.060890555381775, -1.4150290489196777, -0.9402369260787964, 0.08447540551424026, 1.0585312843322754, 1.4117999076843262, 0.9380559921264648, -0.08427374064922333, -1.0564637184143066, -1.4085361957550049, -0.9350475668907166, 0.08543045073747635, 1.054925560951233, 1.405274748802185, 0.9320616722106934, -0.08679128438234329, -1.0537397861480713, -1.4026647806167603, -0.9292696714401245, 0.08835786581039429, 1.0532453060150146, 1.4008079767227173, 0.927016019821167, -0.09005443751811981, -1.0537813901901245, -1.3998111486434937, -0.9246515035629272, 0.09248636662960052, 1.055113673210144, 1.399341344833374, 0.9228275418281555, -0.09450176358222961, -1.0562180280685425, -1.39883553981781, -0.921566367149353, 0.09599626809358597, 1.0575220584869385, 1.3994349241256714, 0.9213191866874695, -0.09668158739805222, -1.058330774307251, -1.4001740217208862, -0.9214311242103577, 0.09687963873147964, 1.058859944343567, 1.4010423421859741, 0.9227340221405029, -0.09628504514694214, -1.0591609477996826, -1.4024372100830078, -0.9243023991584778, 0.0952187180519104, 1.0593433380126953, 1.4040433168411255, 0.9264799356460571, -0.09365075081586838, -1.0594674348831177, -1.4050331115722656, -0.9276445508003235, 0.09280865639448166, 1.0589396953582764, 1.4044300317764282, 0.9281306862831116, -0.09071578830480576, -1.0559148788452148, -1.4028260707855225, -0.9291995167732239, 0.08832604438066483, 1.0537657737731934, 1.4020458459854126, 0.9295958280563354, -0.08706122636795044, -1.0522434711456299, -1.4008592367172241, -0.9286926984786987, 0.08736325055360794, 1.0512826442718506, 1.3996611833572388, 0.9277389645576477, -0.0874527096748352, -1.0510191917419434, -1.3989542722702026, -0.9269508719444275, 0.08851487934589386, 1.051966667175293, 1.3991410732269287, 0.9262241125106812, -0.08991821110248566, -1.0538504123687744, -1.400253176689148, -0.9257970452308655, 0.0924902856349945, 1.0566935539245605, 1.4021745920181274, 0.9256342053413391, -0.09452886879444122, -1.0594757795333862, -1.4043612480163574, -0.9260838031768799, 0.09610721468925476, 1.062886357307434, 1.407792568206787, 0.927466869354248, -0.09701237082481384, -1.0660048723220825, -1.4109232425689697, -0.9288371205329895, 0.09827722609043121, 1.0685268640518188, 1.4136501550674438, 0.9307882189750671, -0.09809830784797668, -1.0702242851257324, -1.4161320924758911, -0.9323275089263916, 0.09795553982257843, 1.0716220140457153, 1.4180399179458618, 0.934099018573761, -0.09709455072879791, -1.0717822313308716, -1.4192070960998535, -0.9350959062576294, 0.09650703519582748, 1.071587324142456, 1.4193131923675537, 0.9357444643974304, -0.09535732865333557, -1.0705647468566895, -1.4186482429504395, -0.9362014532089233, 0.0939047709107399, 1.0688395500183105, 1.4176396131515503, 0.9368505477905273, -0.09217972308397293, -1.0669115781784058, -1.4169464111328125, -0.9377413988113403, 0.09010539203882217, 1.0651590824127197, 1.416411280632019, 0.9385079145431519, -0.08844853192567825, -1.0634896755218506, -1.416028618812561, -0.939616322517395, 0.08664126694202423, 1.0623465776443481, 1.4163247346878052, 0.9416303634643555, -0.08463714271783829, -1.0613291263580322, -1.416730284690857, -0.9428721070289612, 0.08312969654798508, 1.0608378648757935, 1.4174777269363403, 0.944521427154541, -0.08170557767152786, -1.0606321096420288, -1.4185987710952759, -0.9459187388420105, 0.08080394566059113, 1.0603488683700562, 1.419550895690918, 0.947543203830719, -0.07920552790164948, -1.0599154233932495, -1.4204320907592773, -0.9494935870170593, 0.07784727215766907, 1.0597233772277832, 1.4210002422332764, 0.951021671295166, -0.07607291638851166, -1.058576226234436, -1.421755075454712, -0.9526987671852112, 0.07418683916330338, 1.0577788352966309, 1.4226044416427612, 0.954434871673584, -0.07308568060398102, -1.0578155517578125, -1.4231818914413452, -0.9551013708114624, 0.07251282781362534, 1.057268738746643, 1.4229151010513306, 0.9556812047958374, -0.07114127278327942, -1.0563830137252808, -1.4233801364898682, -0.9572671055793762, 0.06966888904571533, 1.0562348365783691, 1.4246803522109985, 0.9593326449394226, -0.06868049502372742, -1.0565370321273804, -1.4258543252944946, -0.9604079723358154, 0.06792569160461426, 1.0565844774246216, 1.426772117614746, 0.9615410566329956, -0.0669790655374527, -1.0570179224014282, -1.428161859512329, -0.9623040556907654, 0.06746398657560349, 1.05776846408844, 1.4290597438812256, 0.9625584483146667, -0.06830716133117676, -1.059351921081543, -1.4297049045562744, -0.9616376161575317, 0.07053352892398834, 1.0610922574996948, 1.4294222593307495, 0.9595028162002563, -0.07287857681512833, -1.0617293119430542, -1.4279359579086304, -0.9569010734558105, 0.07478658109903336, 1.0618282556533813, 1.4263015985488892, 0.9545029997825623, -0.0766322985291481, -1.062022089958191, -1.4243801832199097, -0.9517662525177002, 0.0782279372215271, 1.0619280338287354, 1.4223722219467163, 0.9491949677467346, -0.07926329970359802, -1.0609039068222046, -1.419816493988037, -0.9474349021911621, 0.07964753359556198, 1.0594635009765625, 1.4186609983444214, 0.947092592716217, -0.07862704992294312, -1.0579322576522827, -1.4176537990570068, -0.947486400604248, 0.07749731093645096, 1.0572232007980347, 1.4183672666549683, 0.9492689967155457, -0.07541750371456146, -1.0561403036117554, -1.419363021850586, -0.9520925283432007, 0.07321136444807053, 1.056206226348877, 1.4215407371520996, 0.9553225040435791, -0.07054753601551056, -1.0561021566390991, -1.4240103960037231, -0.958859384059906, 0.06847662478685379, 1.0571649074554443, 1.4273380041122437, 0.9619705080986023, -0.06749042868614197, -1.0581810474395752, -1.429545521736145, -0.9636156558990479, 0.06744470447301865, 1.0596405267715454, 1.4311962127685547, 0.9640363454818726, -0.06856442242860794, -1.061432123184204, -1.4318925142288208, -0.9626575112342834, 0.0707540512084961, 1.0628622770309448, 1.430901288986206, 0.959646463394165, -0.07408618181943893, -1.0638809204101562, -1.429145097732544, -0.9557138681411743, 0.07772154361009598, 1.064851999282837, 1.4260722398757935, 0.9507301449775696, -0.08190476149320602, -1.0647705793380737, -1.4221200942993164, -0.9451050758361816, 0.08555920422077179, 1.0646578073501587, 1.4185330867767334, 0.9402041435241699, -0.08826769143342972, -1.0631446838378906, -1.4143041372299194, -0.9366649985313416, 0.08852502703666687, 1.0611532926559448, 1.4118804931640625, 0.9359598159790039, -0.0872388705611229, -1.0595808029174805, -1.41105318069458, -0.9364376664161682, 0.0864030048251152, 1.0584770441055298, 1.411001205444336, 0.9373109936714172, -0.08469575643539429, -1.057176947593689, -1.41067636013031, -0.9388787746429443, 0.08243350684642792, 1.0559935569763184, 1.4118837118148804, 0.9414970874786377, -0.07998744398355484, -1.0555733442306519, -1.4135727882385254, -0.9442778825759888, 0.07818973064422607, 1.0556386709213257, 1.4159259796142578, 0.9471940994262695, -0.076559878885746, -1.0560569763183594, -1.4178439378738403, -0.9491934180259705, 0.07544126361608505, 1.0563586950302124, 1.419304370880127, 0.9512384533882141, -0.0744643360376358, -1.0567556619644165, -1.4209225177764893, -0.9531652927398682, 0.07354380190372467, 1.057332158088684, 1.422235131263733, 0.9540331959724426, -0.07331573218107224, -1.0576714277267456, -1.4227428436279297, -0.9543367028236389, 0.07338326424360275, 1.0575634241104126, 1.4219858646392822, 0.9529616236686707, -0.07426590472459793, -1.0574498176574707, -1.4204380512237549, -0.9510234594345093, 0.0754612386226654, 1.0572607517242432, 1.4183820486068726, 0.9482412934303284, -0.07788129150867462, -1.0572426319122314, -1.4159560203552246, -0.9442784190177917, 0.08040700852870941, 1.057091236114502, 1.4130209684371948, 0.9398473501205444, -0.08332666754722595, -1.0562019348144531, -1.409061312675476, -0.9353581666946411, 0.08570244908332825, 1.0554249286651611, 1.4055078029632568, 0.9321122169494629, -0.08704220503568649, -1.0540887117385864, -1.4026201963424683, -0.9292715787887573, 0.08789229393005371, 1.0529866218566895, 1.400686264038086, 0.9280903339385986, -0.087853342294693, -1.0518748760223389, -1.3995133638381958, -0.927848219871521, 0.0872582420706749, 1.051347255706787, 1.3998804092407227, 0.9288824200630188, -0.08594444394111633, -1.0512278079986572, -1.4012563228607178, -0.930919885635376, 0.08448797464370728, 1.051518440246582, 1.4037631750106812, 0.9336793422698975, -0.08342164754867554, -1.0530258417129517, -1.4067455530166626, -0.9367825984954834, 0.08269769698381424, 1.054718017578125, 1.409986138343811, 0.9392942190170288, -0.08229882270097733, -1.0565451383590698, -1.4127975702285767, -0.9410459399223328, 0.08197622746229172, 1.0581278800964355, 1.4153032302856445, 0.9431478977203369, -0.08206145465373993, -1.059574007987976, -1.4168518781661987, -0.9443383812904358, 0.08179792016744614, 1.0608960390090942, 1.419541597366333, 0.9465720057487488, -0.08162947744131088, -1.0632494688034058, -1.4228485822677612, -0.9478079676628113, 0.08315735310316086, 1.0666946172714233, 1.4253294467926025, 0.9484100937843323, -0.08467673510313034, -1.0687373876571655, -1.427209734916687, -0.9491870403289795, 0.08563888818025589, 1.0708065032958984, 1.4288268089294434, 0.9497264623641968, -0.08580221980810165, -1.0714672803878784, -1.4298863410949707, -0.9504280090332031, 0.08582717180252075, 1.071541428565979, 1.4297239780426025, 0.9507771730422974, -0.08499404042959213, -1.0710468292236328, -1.4291737079620361, -0.9505306482315063, 0.0846019759774208, 1.0695931911468506, 1.4280730485916138, 0.950318455696106, -0.08331320434808731, -1.0672134160995483, -1.4261598587036133, -0.9498146176338196, 0.08237594366073608, 1.0655735731124878, 1.4247791767120361, 0.9498133063316345, -0.08085876703262329, -1.0638784170150757, -1.4235602617263794, -0.9496214389801025, 0.0800393745303154, 1.062718391418457, 1.4228328466415405, 0.9499839544296265, -0.07918710261583328, -1.062004566192627, -1.4231561422348022, -0.9505794048309326, 0.07887720316648483, 1.0621999502182007, 1.424120545387268, 0.9519218802452087, -0.07801659405231476, -1.0632290840148926, -1.4260191917419434, -0.9535441994667053, 0.07795540243387222, 1.0649076700210571, 1.4280942678451538, 0.9548026323318481, -0.07866252958774567, -1.0666046142578125, -1.4302823543548584, -0.955927848815918, 0.07927920669317245, 1.068926215171814, 1.4326072931289673, 0.9568504095077515, -0.0797242671251297, -1.0705195665359497, -1.434370517730713, -0.95750892162323, 0.08046948909759521, 1.0720772743225098, 1.435891032218933, 0.9579280614852905, -0.08105511218309402, -1.0735095739364624, -1.4364491701126099, -0.9574479460716248, 0.0826430544257164, 1.0744726657867432, 1.4363237619400024, 0.9562995433807373, -0.0839373916387558, -1.0748271942138672, -1.4347504377365112, -0.9538990259170532, 0.08622036874294281, 1.074998378753662, 1.4330419301986694, 0.9507583379745483, -0.08834826946258545, -1.0747090578079224, -1.4300196170806885, -0.9467857480049133, 0.09088152647018433, 1.074271559715271, 1.4269227981567383, 0.9429804682731628, -0.09303280711174011, -1.0737100839614868, -1.4237090349197388, -0.9389442801475525, 0.09553597122430801, 1.0729440450668335, 1.4203649759292603, 0.9353496432304382, -0.09725899994373322, -1.0717027187347412, -1.4172347784042358, -0.9320715665817261, 0.09885232895612717, 1.070552110671997, 1.4144959449768066, 0.9293219447135925, -0.09959513694047928, -1.0694496631622314, -1.4122670888900757, -0.9279356002807617, 0.09979812800884247, 1.0689212083816528, 1.4111484289169312, 0.9269537925720215, -0.10087653994560242, -1.0695750713348389, -1.4110006093978882, -0.9251071810722351, 0.10263676196336746, 1.0702581405639648, 1.410292148590088, 0.9238620400428772, -0.10361725091934204, -1.0704628229141235, -1.4100157022476196, -0.9240807890892029, 0.10339058935642242, 1.070535659790039, 1.410538673400879, 0.9251694679260254, -0.10203804820775986, -1.0699255466461182, -1.4116146564483643, -0.9269630908966064, 0.10034246742725372, 1.0692580938339233, 1.4128941297531128, 0.9298256039619446, -0.0981006994843483, -1.068658709526062, -1.4141182899475098, -0.9319446086883545, 0.09561330080032349, 1.0675272941589355, 1.4148528575897217, 0.9345514178276062, -0.09319708496332169, -1.0666909217834473, -1.416047215461731, -0.9365644454956055, 0.09152597934007645, 1.0666943788528442, 1.417420744895935, 0.9380922317504883, -0.0907687246799469, -1.067059874534607, -1.4183331727981567, -0.9386817216873169, 0.0913640707731247, 1.068411946296692, 1.418981671333313, 0.9377875924110413, -0.09307898581027985, -1.0691308975219727, -1.41852867603302, -0.9362440705299377, 0.09512621909379959, 1.0707108974456787, 1.4180629253387451, 0.9342179298400879, -0.09723209589719772, -1.0716689825057983, -1.417098879814148, -0.9318286180496216, 0.09976297616958618, 1.0725926160812378, 1.4160387516021729, 0.9299458861351013, -0.10144972801208496, -1.072771430015564, -1.4149856567382812, -0.9279983043670654, 0.10243510454893112, 1.0722811222076416, 1.4137898683547974, 0.927590012550354, -0.10179009288549423, -1.070839285850525, -1.4132864475250244, -0.9284005761146545, 0.09992600977420807, 1.0695186853408813, 1.4135215282440186, 0.9305819272994995, -0.09646429121494293, -1.0671074390411377, -1.4137566089630127, -0.9336432218551636, 0.09258678555488586, 1.0650711059570312, 1.41483736038208, 0.937480092048645, -0.08864807337522507, -1.0630056858062744, -1.416058897972107, -0.9405255317687988, 0.08522035926580429, 1.0614250898361206, 1.417001485824585, 0.9436132907867432, -0.0823328047990799, -1.0601003170013428, -1.4177873134613037, -0.9455283284187317, 0.08058039844036102, 1.0596450567245483, 1.4188789129257202, 0.9469289779663086, -0.07939570397138596, -1.059645414352417, -1.4194262027740479, -0.9474785327911377, 0.07955430448055267, 1.0600354671478271, 1.4199036359786987, 0.9476706981658936, -0.08006007224321365, -1.0611493587493896, -1.4202884435653687, -0.9467051029205322, 0.08160349726676941, 1.0621922016143799, 1.4202475547790527, 0.9461023807525635, -0.08307091891765594, -1.063173770904541, -1.4201477766036987, -0.9448439478874207, 0.08433712273836136, 1.0645253658294678, 1.4209425449371338, 0.9443109631538391, -0.08586832880973816, -1.0662931203842163, -1.4222255945205688, -0.9438591003417969, 0.08870799094438553, 1.069002628326416, 1.423010230064392, 0.942474901676178, -0.09055041521787643, -1.0703750848770142, -1.4235674142837524, -0.9418470859527588, 0.09139145910739899, 1.0708940029144287, 1.4235448837280273, 0.9425730109214783, -0.09089301526546478, -1.0706138610839844, -1.4233542680740356, -0.9429129958152771, 0.08915574848651886, 1.0689513683319092, 1.4228510856628418, 0.9439517855644226, -0.08718158304691315, -1.0665357112884521, -1.4219149351119995, -0.9450773000717163, 0.08462802320718765, 1.064387559890747, 1.4211244583129883, 0.9461236596107483, -0.08233270794153214, -1.0621024370193481, -1.4200366735458374, -0.9469857811927795, 0.08014360815286636, 1.0603609085083008, 1.4195817708969116, 0.947819709777832, -0.07885035127401352, -1.0591050386428833, -1.4191542863845825, -0.9480679035186768, 0.07830249518156052, 1.0588531494140625, 1.4185495376586914, 0.9475077986717224, -0.07886497676372528, -1.0586979389190674, -1.4178014993667603, -0.9461495280265808, 0.08001703768968582, 1.058842420578003, 1.41679048538208, 0.944652259349823, -0.08142685145139694, -1.0595453977584839, -1.4163204431533813, -0.9426909685134888, 0.08345367014408112, 1.0607819557189941, 1.415866494178772, 0.9403802156448364, -0.08607659488916397, -1.0619854927062988, -1.415006399154663, -0.9381906390190125, 0.0892944484949112, 1.064321517944336, 1.415037751197815, 0.9358498454093933, -0.09222181141376495, -1.0662431716918945, -1.4148333072662354, -0.933542013168335, 0.09516840428113937, 1.0682295560836792, 1.4150769710540771, 0.9319510459899902, -0.09737131744623184, -1.0695159435272217, -1.4148614406585693, -0.9303405284881592, 0.09927070140838623, 1.0709646940231323, 1.4146572351455688, 0.9290044903755188, -0.10088283568620682, -1.0717568397521973, -1.4142006635665894, -0.9278006553649902, 0.10207477957010269, 1.072114109992981, 1.4137159585952759, 0.9271880984306335, -0.1026710644364357, -1.072312593460083, -1.413691520690918, -0.9272778034210205, 0.10264357924461365, 1.0727664232254028, 1.4144340753555298, 0.9281107187271118, -0.10224859416484833, -1.0730667114257812, -1.4151802062988281, -0.9290207624435425, 0.1017388328909874, 1.0735951662063599, 1.4168694019317627, 0.9304144978523254, -0.10118139535188675, -1.073825478553772, -1.4177777767181396, -0.9316226840019226, 0.1006208285689354, 1.074276328086853, 1.4189465045928955, 0.9328806400299072, -0.09954726696014404, -1.0740864276885986, -1.4196159839630127, -0.9337258338928223, 0.09903519600629807, 1.0736849308013916, 1.4197545051574707, 0.9344024658203125, -0.09712188690900803, -1.0715359449386597, -1.4189128875732422, -0.9362716674804688, 0.09349489957094193, 1.0686824321746826, 1.4193309545516968, 0.9395217895507812, -0.08935999125242233, -1.0660369396209717, -1.4194445610046387, -0.9423537850379944, 0.08557993173599243, 1.063349962234497, 1.4196114540100098, 0.9453604221343994, -0.08142370730638504, -1.0603187084197998, -1.4188203811645508, -0.9473620653152466, 0.07795259356498718, 1.057328224182129, 1.4176626205444336, 0.9486629962921143, -0.07492564618587494, -1.0538614988327026, -1.4156934022903442, -0.9495035409927368, 0.07202795147895813, 1.0505925416946411, 1.4143654108047485, 0.9507724046707153, -0.06918354332447052, -1.0478707551956177, -1.4133082628250122, -0.9518786668777466, 0.06642871350049973, 1.0454692840576172, 1.4128473997116089, 0.9532903432846069, -0.06379632651805878, -1.043645977973938, -1.4125512838363647, -0.9544461965560913, 0.062181152403354645, 1.0426781177520752, 1.4129103422164917, 0.9561809301376343, -0.060351066291332245, -1.0419384241104126, -1.413550853729248, -0.957814633846283, 0.059452902525663376, 1.0423307418823242, 1.4152250289916992, 0.9592791795730591, -0.058658063411712646, -1.0431766510009766, -1.4168654680252075, -0.9604688286781311, 0.058683767914772034, 1.0443578958511353, 1.4181747436523438, 0.9614501595497131, -0.05896585062146187, -1.0452430248260498, -1.4195812940597534, -0.9619612097740173, 0.059279363602399826, 1.0462418794631958, 1.420605182647705, 0.9623433947563171, -0.05975819751620293, -1.0474824905395508, -1.4213674068450928, -0.9621832966804504, 0.06063546612858772, 1.047997236251831, 1.421542763710022, 0.9620584845542908, -0.06138116866350174, -1.0486524105072021, -1.4211301803588867, -0.9609694480895996, 0.06242641806602478, 1.0489821434020996, 1.4208192825317383, 0.9598422050476074, -0.0639706626534462, -1.0501139163970947, -1.4208091497421265, -0.9583127498626709, 0.06598275154829025, 1.0517246723175049, 1.4209822416305542, 0.9568179845809937, -0.06909029930830002, -1.054666519165039, -1.4214204549789429, -0.9542720317840576, 0.07315772771835327, 1.057716965675354, 1.4215930700302124, 0.9513629674911499, -0.07730739563703537, -1.0608333349227905, -1.4213069677352905, -0.9476397633552551, 0.08231049031019211, 1.0644512176513672, 1.4212937355041504, 0.9440444707870483, -0.08685918897390366, -1.0670571327209473, -1.4209402799606323, -0.941053032875061, 0.09089739620685577, 1.0694897174835205, 1.4206463098526, 0.9389936327934265, -0.09324168413877487, -1.0708396434783936, -1.4208887815475464, -0.9379459619522095, 0.09462054818868637, 1.0718817710876465, 1.4214205741882324, 0.9384481310844421, -0.09418811649084091, -1.0718761682510376, -1.4222127199172974, -0.9400585293769836, 0.09249867498874664, 1.071677803993225, 1.4241619110107422, 0.9432809948921204, -0.0906454399228096, -1.0719763040542603, -1.4261932373046875, -0.9456411004066467, 0.08973245322704315, 1.0726120471954346, 1.427807092666626, 0.947050929069519, -0.08833678811788559, -1.072211742401123, -1.4280813932418823, -0.9478880763053894, 0.08717187494039536, 1.071205735206604, 1.427975058555603, 0.9487248659133911, -0.0855821967124939, -1.069206714630127, -1.4264870882034302, -0.9491908550262451, 0.08387304842472076, 1.0670775175094604, 1.4252780675888062, 0.9488070011138916, -0.08294625580310822, -1.0653051137924194, -1.4225345849990845, -0.9463680386543274, 0.08366785943508148, 1.0636357069015503, 1.419597864151001, 0.943254292011261, -0.08530982583761215, -1.0626709461212158, -1.4162189960479736, -0.9388259649276733, 0.08830391615629196, 1.0625559091567993, 1.4126757383346558, 0.9341395497322083, -0.09195481985807419, -1.0632942914962769, -1.4102329015731812, -0.9298072457313538, 0.09581547975540161, 1.0648866891860962, 1.4087607860565186, 0.9258871674537659, -0.10019192844629288, -1.0669684410095215, -1.407852292060852, -0.9225332140922546, 0.10434909909963608, 1.0698753595352173, 1.4079160690307617, 0.920350193977356, -0.10755050927400589, -1.072658658027649, -1.408984661102295, -0.9189168810844421, 0.11035491526126862, 1.075505018234253, 1.4110816717147827, 0.9197394847869873, -0.11097856611013412, -1.077738881111145, -1.4135926961898804, -0.921414315700531, 0.11091133952140808, 1.0795576572418213, 1.4164949655532837, 0.9240772128105164, -0.10976261645555496, -1.080147385597229, -1.4184813499450684, -0.9268621206283569, 0.10813086479902267, 1.0799733400344849, 1.4200685024261475, 0.9290684461593628, -0.10554242879152298, -1.079045057296753, -1.4205293655395508, -0.9309725165367126, 0.10330549627542496, 1.0773528814315796, 1.4207205772399902, 0.9327180981636047, -0.10150852799415588, -1.0756714344024658, -1.4193342924118042, -0.9324100613594055, 0.10032378137111664, 1.0736383199691772, 1.4180773496627808, 0.9320691823959351, -0.09940782189369202, -1.071431040763855, -1.415792465209961, -0.9311143755912781, 0.09862998872995377, 1.0697016716003418, 1.4140230417251587, 0.9304706454277039, -0.09800305217504501, -1.0681301355361938, -1.4124897718429565, -0.9294885993003845, 0.09770767390727997, 1.0674675703048706, 1.4114551544189453, 0.9292529821395874, -0.09794224053621292, -1.0674951076507568, -1.4115443229675293, -0.9289104342460632, 0.09834647923707962, 1.0681836605072021, 1.4122883081436157, 0.9292769432067871, -0.09873547405004501, -1.069482445716858, -1.413858413696289, -0.929889976978302, 0.09929198771715164, 1.0712839365005493, 1.4166579246520996, 0.9322344660758972, -0.09936222434043884, -1.0744929313659668, -1.4209505319595337, -0.9344860911369324, 0.10087448358535767, 1.0783884525299072, 1.424831509590149, 0.9360431432723999, -0.10173455625772476, -1.0805532932281494, -1.4274157285690308, -0.9375206828117371, 0.10167069733142853, 1.0821385383605957, 1.4302083253860474, 0.9405823349952698, -0.10066962987184525, -1.0837243795394897, -1.432974934577942, -0.9431788325309753, 0.09920752793550491, 1.0846081972122192, 1.436217188835144, 0.9473851919174194, -0.09703422337770462, -1.0862016677856445, -1.4402439594268799, -0.9515789747238159, 0.09541577100753784, 1.0871237516403198, 1.4435203075408936, 0.9551571011543274, -0.09263691306114197, -1.0869218111038208, -1.4456826448440552, -0.9585602879524231, 0.08970028907060623, 1.0854640007019043, 1.4464770555496216, 0.9612590074539185, -0.0861712396144867, -1.0825889110565186, -1.4454922676086426, -0.9625564813613892, 0.08278213441371918, 1.0789704322814941, 1.4433574676513672, 0.9628458619117737, -0.07996268570423126, -1.0748144388198853, -1.440032720565796, -0.9621304273605347, 0.07801979035139084, 1.070818543434143, 1.4358001947402954, 0.9602484703063965, -0.07624180614948273, -1.0664589405059814, -1.431516408920288, -0.9582916498184204, 0.07538333535194397, 1.0632129907608032, 1.4276857376098633, 0.9560559988021851, -0.07430177927017212, -1.0602895021438599, -1.424627661705017, -0.9542770385742188, 0.07451742142438889, 1.0596238374710083, 1.4235337972640991, 0.9527503848075867, -0.07644398510456085, -1.0601822137832642, -1.422554612159729, -0.9505855441093445, 0.07876322418451309, 1.0620518922805786, 1.422949194908142, 0.9490301609039307, -0.08122418820858002, -1.0644603967666626, -1.423444151878357, -0.9481545090675354, 0.08394446223974228, 1.0672307014465332, 1.425516963005066, 0.9479973316192627, -0.08590323477983475, -1.0700854063034058, -1.4274811744689941, -0.947961688041687, 0.08768665045499802, 1.0727747678756714, 1.4296413660049438, 0.9483959674835205, -0.08917248249053955, -1.0747040510177612, -1.4313684701919556, -0.948905348777771, 0.08997335284948349, 1.0767184495925903, 1.4329584836959839, 0.9496796131134033, -0.09004485607147217, -1.0774508714675903, -1.4336756467819214, -0.9501579999923706, 0.09019500017166138, 1.0779876708984375, 1.4345812797546387, 0.9506973028182983, -0.08969443291425705, -1.0776638984680176, -1.4346493482589722, -0.9508771300315857, 0.08919718116521835, 1.076927900314331, 1.434209942817688, 0.9508014917373657, -0.08861876279115677, -1.0758802890777588, -1.4323558807373047, -0.9501649737358093, 0.0882047787308693, 1.0740885734558105, 1.4303549528121948, 0.9486626982688904, -0.08794187754392624, -1.0718040466308594, -1.4274314641952515, -0.9467267394065857, 0.08794313669204712, 1.0698330402374268, 1.4247632026672363, 0.9445537328720093, -0.08894851058721542, -1.068666934967041, -1.42122483253479, -0.9407259225845337, 0.0902637392282486, 1.066890835762024, 1.416882872581482, 0.9373148083686829, -0.09075537323951721, -1.0648022890090942, -1.4146021604537964, -0.935454785823822, 0.09180671721696854, 1.0648839473724365, 1.4137452840805054, 0.9340109825134277, -0.09272198379039764, -1.065830111503601, -1.4139405488967896, -0.9335324764251709, 0.09505259245634079, 1.0685135126113892, 1.4160847663879395, 0.9330034255981445, -0.09832953661680222, -1.072875738143921, -1.418238878250122, -0.931837797164917, 0.10207825899124146, 1.0767658948898315, 1.4208009243011475, 0.9317372441291809, -0.10478256642818451, -1.0806121826171875, -1.423566460609436, -0.9321684837341309, 0.10622898489236832, 1.0835472345352173, 1.4266682863235474, 0.9338620901107788, -0.10655611753463745, -1.0855963230133057, -1.4300159215927124, -0.9367268681526184, 0.10562098771333694, 1.0869956016540527, 1.4330073595046997, 0.9402557015419006, -0.10316011309623718, -1.086915135383606, -1.4346266984939575, -0.9431843161582947, 0.10057883709669113, 1.0857584476470947, 1.4358510971069336, 0.9459957480430603, -0.09723087400197983, -1.08356511592865, -1.4361554384231567, -0.9480058550834656, 0.09425783902406693, 1.08097505569458, 1.4352458715438843, 0.9500388503074646, -0.09099045395851135, -1.0782885551452637, -1.4343855381011963, -0.9512032270431519, 0.08825655281543732, 1.0762490034103394, 1.4337674379348755, 0.9522051215171814, -0.0862075462937355, -1.0739409923553467, -1.4324355125427246, -0.9527812004089355, 0.08448630571365356, 1.0715950727462769, 1.4312723875045776, 0.952869713306427, -0.08320292085409164, -1.0699259042739868, -1.4296989440917969, -0.9523127675056458, 0.0825880691409111, 1.0685410499572754, 1.4285004138946533, 0.9515610933303833, -0.08255210518836975, -1.0675349235534668, -1.427321195602417, -0.9506731033325195, 0.08297654241323471, 1.0677603483200073, 1.427052617073059, 0.9502002000808716, -0.08359383046627045, -1.0683274269104004, -1.4273017644882202, -0.9499995112419128, 0.08446803689002991, 1.0696945190429688, 1.4284939765930176, 0.9503496885299683, -0.08499407023191452, -1.071171522140503, -1.430302619934082, -0.9514778256416321, 0.08540380001068115, 1.0730252265930176, 1.4326342344284058, 0.9534987211227417, -0.08482204377651215, -1.0745222568511963, -1.4352940320968628, -0.955673336982727, 0.0841195210814476, 1.0753740072250366, 1.437743067741394, 0.9584682583808899, -0.08254383504390717, -1.075482726097107, -1.439497470855713, -0.9612865447998047, 0.08005324006080627, 1.0751556158065796, 1.4413342475891113, 0.9642065167427063, -0.07739377021789551, -1.0735818147659302, -1.4423829317092896, -0.9670499563217163, 0.07444066554307938, 1.0721746683120728, 1.442694067955017, 0.9688100814819336, -0.07188732177019119, -1.0708184242248535, -1.442160964012146, -0.9691962599754333, 0.07096870243549347, 1.0688326358795166, 1.4398117065429688, 0.9673399329185486, -0.0702265128493309, -1.0655326843261719, -1.4358365535736084, -0.9651462435722351, 0.06954663246870041, 1.0619473457336426, 1.4310930967330933, 0.962329626083374, -0.06921380758285522, -1.0583584308624268, -1.4262410402297974, -0.9588662981987, 0.06935244798660278, 1.055528998374939, 1.4225229024887085, 0.9561026096343994, -0.07042677700519562, -1.0550788640975952, -1.4207408428192139, -0.9531506299972534, 0.07339049875736237, 1.0568227767944336, 1.4199901819229126, 0.9500893354415894, -0.0771692618727684, -1.0593260526657104, -1.4199589490890503, -0.9475308060646057, 0.08146625012159348, 1.0631126165390015, 1.4211465120315552, 0.9455143809318542, -0.08489054441452026, -1.0658572912216187, -1.4223078489303589, -0.9447354078292847, 0.08685252070426941, 1.0684067010879517, 1.4243712425231934, 0.9463838338851929, -0.08701377362012863, -1.0698322057724, -1.426827311515808, -0.9482065439224243, 0.0862325131893158, 1.0708177089691162, 1.4294604063034058, 0.9514442086219788, -0.08393889665603638, -1.0703654289245605, -1.4313626289367676, -0.9545264840126038, 0.08147493749856949, 1.0701193809509277, 1.4326608180999756, 0.9571950435638428, -0.07854454219341278, -1.0686986446380615, -1.4334603548049927, -0.9592817425727844, 0.07587933540344238, 1.0668054819107056, 1.4332082271575928, 0.9609782099723816, -0.07338248938322067, -1.0647499561309814, -1.4323539733886719, -0.9612394571304321, 0.07190031558275223, 1.0629644393920898, 1.4306286573410034, 0.9608990550041199, -0.07077434659004211, -1.0606112480163574, -1.428537368774414, -0.9594364762306213, 0.07113923877477646, 1.0594441890716553, 1.426694631576538, 0.9579696655273438, -0.07118812203407288, -1.0582373142242432, -1.4247828722000122, -0.9559834599494934, 0.07211615145206451, 1.0576550960540771, 1.4237463474273682, 0.955508828163147, -0.07252560555934906, -1.0579874515533447, -1.42362642288208, -0.9551423788070679, 0.07335500419139862, 1.0592321157455444, 1.4249870777130127, 0.9557861685752869, -0.07407551258802414, -1.0611634254455566, -1.4268484115600586, -0.9568544030189514, 0.07476314902305603, 1.0635910034179688, 1.4296492338180542, 0.9578943848609924, -0.07585513591766357, -1.0659246444702148, -1.4322781562805176, -0.9593178629875183, 0.07668794691562653, 1.0685060024261475, 1.4347400665283203, 0.9604514241218567, -0.07774344086647034, -1.0714174509048462, -1.4378204345703125, -0.9615760445594788, 0.07923991233110428, 1.074584722518921, 1.4407932758331299, 0.9620005488395691, -0.08160366863012314, -1.078068494796753, -1.443173885345459, -0.9618021845817566, 0.08469342440366745, 1.0823302268981934, 1.4457287788391113, 0.9608292579650879, -0.08843600004911423, -1.0862398147583008, -1.4475793838500977, -0.9593155384063721, 0.09233346581459045, 1.0901015996932983, 1.448747158050537, 0.9581137299537659, -0.09480299055576324, -1.0930544137954712, -1.4508848190307617, -0.9578731656074524, 0.09796953946352005, 1.0970181226730347, 1.4531517028808594, 0.9575421810150146, -0.1006099209189415, -1.1001852750778198, -1.4551934003829956, -0.9568130970001221, 0.1028023287653923, 1.1029987335205078, 1.4567744731903076, 0.9565483331680298, -0.10433471202850342, -1.1044126749038696, -1.4569604396820068, -0.9551460146903992, 0.10557471960783005, 1.1037793159484863, 1.4555450677871704, 0.9547556638717651, -0.10429580509662628, -1.1013565063476562, -1.4531482458114624, -0.9546536803245544, 0.1018463596701622, 1.0977295637130737, 1.450284481048584, 0.9546459913253784, -0.09905997663736343, -1.0936777591705322, -1.4476265907287598, -0.9551568627357483, 0.09592113643884659, 1.089837670326233, 1.4460793733596802, 0.9556923508644104, -0.09370774775743484, -1.0877580642700195, -1.4448457956314087, -0.9556224346160889, 0.09357753396034241, 1.0876933336257935, 1.4447641372680664, 0.9552460312843323, -0.09470204263925552, -1.0892995595932007, -1.445417046546936, -0.9534549713134766, 0.09806396067142487, 1.0922317504882812, 1.445969581604004, 0.9507582783699036, -0.10228689759969711, -1.0952357053756714, -1.4461687803268433, -0.9485084414482117, 0.1054917573928833, 1.0982496738433838, 1.4464752674102783, 0.9464845061302185, -0.10811670869588852, -1.099089503288269, -1.4455748796463013, -0.9454988837242126, 0.10854390263557434, 1.0986244678497314, 1.4450960159301758, 0.9455727338790894, -0.10705942660570145, -1.0964910984039307, -1.443812608718872, -0.94636070728302, 0.10408348590135574, 1.092638373374939, 1.4418580532073975, 0.9478168487548828, -0.09910815954208374, -1.0871978998184204, -1.4384671449661255, -0.9494109749794006, 0.0936412662267685, 1.0806397199630737, 1.4346445798873901, 0.9506876468658447, -0.08732977509498596, -1.072351098060608, -1.4292948246002197, -0.9512121677398682, 0.08136161416769028, 1.0640426874160767, 1.4234204292297363, 0.9509668946266174, -0.07563453912734985, -1.0555613040924072, -1.4167959690093994, -0.9496505260467529, 0.07061472535133362, 1.047629952430725, 1.4105356931686401, 0.9485612511634827, -0.06644047051668167, -1.0409846305847168, -1.4052739143371582, -0.9471005201339722, 0.06368996202945709, 1.036503791809082, 1.4016211032867432, 0.946211040019989, -0.06236701458692551, -1.0340205430984497, -1.4000611305236816, -0.9454928040504456, 0.06266357004642487, 1.0345768928527832, 1.400382399559021, 0.945556104183197, -0.0640130564570427, -1.0370770692825317, -1.4026758670806885, -0.945646345615387, 0.0665590763092041, 1.0408735275268555, 1.4055730104446411, 0.9458884596824646, -0.06947203725576401, -1.0453848838806152, -1.408755898475647, -0.9460615515708923, 0.07262373715639114, 1.0498919486999512, 1.41212797164917, 0.9465799927711487, -0.0749504491686821, -1.0536645650863647, -1.4149773120880127, -0.947230339050293, 0.07673198729753494, 1.057213544845581, 1.4181586503982544, 0.9476520419120789, -0.07933171838521957, -1.0601609945297241, -1.4195077419281006, -0.9466965198516846, 0.08145347237586975, 1.061722993850708, 1.4193845987319946, 0.9454079270362854, -0.08277499675750732, -1.0618369579315186, -1.4182714223861694, -0.9429582953453064, 0.08443740755319595, 1.0613799095153809, 1.4152470827102661, 0.9398456811904907, -0.08484077453613281, -1.058376431465149, -1.4115198850631714, -0.9375555515289307, 0.08489538729190826, 1.0563337802886963, 1.4090079069137573, 0.9363251328468323, -0.08423329889774323, -1.0548971891403198, -1.407647967338562, -0.9360762238502502, 0.08375892788171768, 1.0545964241027832, 1.4086560010910034, 0.9372060894966125, -0.08381376415491104, -1.0566623210906982, -1.4110774993896484, -0.9386072158813477, 0.08494710922241211, 1.0596951246261597, 1.4144231081008911, 0.9398235082626343, -0.0866657942533493, -1.0634833574295044, -1.4172497987747192, -0.9398992657661438, 0.08972269296646118, 1.0677350759506226, 1.4200884103775024, 0.939006507396698, -0.09299801290035248, -1.0710335969924927, -1.4208507537841797, -0.9368985891342163, 0.09688352793455124, 1.073547124862671, 1.4205695390701294, 0.933911144733429, -0.10013653337955475, -1.0750186443328857, -1.4187555313110352, -0.9301738142967224, 0.10334665328264236, 1.0754891633987427, 1.4166926145553589, 0.9271905422210693, -0.1052754670381546, -1.0753746032714844, -1.414676547050476, -0.9245225787162781, 0.10712370276451111, 1.0759345293045044, 1.4140479564666748, 0.9235912561416626, -0.10816803574562073, -1.0764786005020142, -1.4146833419799805, -0.9238066673278809, 0.10873871296644211, 1.0780609846115112, 1.4165129661560059, 0.9251443147659302, -0.10875475406646729, -1.080253005027771, -1.4200029373168945, -0.9278014898300171, 0.10833453387022018, 1.0826427936553955, 1.4244455099105835, 0.9320576786994934, -0.10689176619052887, -1.084865689277649, -1.4291517734527588, -0.9365956783294678, 0.10454746335744858, 1.0866762399673462, 1.433685541152954, 0.9419113397598267, -0.10155981034040451, -1.0867533683776855, -1.4370620250701904, -0.9463796615600586, 0.09792329370975494, 1.0858296155929565, 1.4392623901367188, 0.951073408126831, -0.09329600632190704, -1.0834150314331055, -1.4400901794433594, -0.9549984931945801, 0.08890103548765182, 1.0804753303527832, 1.439727544784546, 0.9571855664253235, -0.08481507003307343, -1.0763531923294067, -1.4377506971359253, -0.9580321907997131, 0.08215726912021637, 1.0728495121002197, 1.4350990056991577, 0.9573010802268982, -0.08065517246723175, -1.0698163509368896, -1.4314796924591064, -0.9543313980102539, 0.08118323981761932, 1.0678685903549194, 1.4276607036590576, 0.9502245187759399, -0.08335394412279129, -1.0667548179626465, -1.4234381914138794, -0.945114254951477, 0.08677379786968231, 1.0665847063064575, 1.4198447465896606, 0.9404903650283813, -0.08987415581941605, -1.0664781332015991, -1.417313814163208, -0.9371581673622131, 0.09261713176965714, 1.0677886009216309, 1.416732907295227, 0.9352002739906311, -0.09498386830091476, -1.0689852237701416, -1.4160640239715576, -0.9334242343902588, 0.09615565836429596, 1.0692607164382935, 1.416103482246399, 0.9329043030738831, -0.09651121497154236, -1.0689882040023804, -1.4150934219360352, -0.9323508143424988, 0.09638752788305283, 1.068163514137268, 1.4140931367874146, 0.9321163892745972, -0.09540222585201263, -1.0663589239120483, -1.4128139019012451, -0.9320073127746582, 0.09423395991325378, 1.0649619102478027, 1.412376046180725, 0.9329546093940735, -0.09278848022222519, -1.0643080472946167, -1.4127472639083862, -0.9341909289360046, 0.09212278574705124, 1.0645179748535156, 1.4140853881835938, 0.9359514117240906, -0.09107503294944763, -1.0651824474334717, -1.4165724515914917, -0.9383031725883484, 0.08996923267841339, 1.0666217803955078, 1.418904423713684, 0.9407307505607605, -0.089075468480587, -1.0674726963043213, -1.4211548566818237, -0.9422922134399414, 0.08876004815101624, 1.0681828260421753, 1.4219632148742676, 0.9429118037223816, -0.08867766708135605, -1.0677893161773682, -1.4209052324295044, -0.9415765404701233, 0.0887240618467331, 1.0663858652114868, 1.4184226989746094, 0.9396808743476868, -0.0889841690659523, -1.0645471811294556, -1.4150422811508179, -0.9364081025123596, 0.08995708078145981, 1.0619245767593384, 1.4104421138763428, 0.9325699806213379, -0.09047514200210571, -1.0589045286178589, -1.406194806098938, -0.9296869039535522, 0.09067682921886444, 1.0564216375350952, 1.4024274349212646, 0.9270533919334412, -0.0904061570763588, -1.053809404373169, -1.3990970849990845, -0.9251296520233154, 0.09024984389543533, 1.0522438287734985, 1.3976095914840698, 0.9244439005851746, -0.0895034596323967, -1.0511698722839355, -1.3975286483764648, -0.9249699115753174, 0.08918839693069458, 1.0516996383666992, 1.3987454175949097, 0.926464855670929, -0.08862439543008804, -1.0529557466506958, -1.4014592170715332, -0.929020345211029, 0.087980717420578, 1.0551170110702515, 1.4054129123687744, 0.9331924319267273, -0.08683350682258606, -1.0576609373092651, -1.4105409383773804, -0.9373939037322998, 0.08588192611932755, 1.0608004331588745, 1.4156620502471924, 0.9421851634979248, -0.08435656875371933, -1.0629127025604248, -1.4200525283813477, -0.946402907371521, 0.0824204832315445, 1.0638972520828247, 1.4236996173858643, 0.9503381252288818, -0.07972759753465652, -1.0639278888702393, -1.426286220550537, -0.9539358019828796, 0.07744339853525162, 1.0636940002441406, 1.4277387857437134, 0.9559313654899597, -0.07567283511161804, -1.0623646974563599, -1.4274810552597046, -0.9567622542381287, 0.07365623861551285, 1.0604853630065918, 1.4259546995162964, 0.9562726020812988, -0.0723273903131485, -1.0577144622802734, -1.4224042892456055, -0.9550630450248718, 0.07107675075531006, 1.0539668798446655, 1.418860673904419, 0.9527085423469543, -0.07016335427761078, -1.050415277481079, -1.4143770933151245, -0.949882984161377, 0.07033416628837585, 1.0474858283996582, 1.4102028608322144, 0.9462581276893616, -0.0712890774011612, -1.0452830791473389, -1.4059116840362549, -0.9415972232818604, 0.07312650233507156, 1.043619990348816, 1.401540994644165, 0.9372276663780212, -0.07548268139362335, -1.0426511764526367, -1.3983638286590576, -0.9336150288581848, 0.07828103750944138, 1.0434455871582031, 1.3960533142089844, 0.9298525452613831, -0.08139847964048386, -1.0441725254058838, -1.3942489624023438, -0.9267452955245972, 0.08391495048999786, 1.0447328090667725, 1.393255352973938, 0.9251322746276855, -0.08479738235473633, -1.0455620288848877, -1.394060730934143, -0.9257279634475708, 0.08525708317756653, 1.047001838684082, 1.3968074321746826, 0.928416907787323, -0.08426818251609802, -1.0493531227111816, -1.4011523723602295, -0.9328746795654297, 0.08276938647031784, 1.0515167713165283, 1.4059584140777588, 0.9375626444816589, -0.08077162504196167, -1.0537810325622559, -1.4114807844161987, -0.9428210854530334, 0.07925350219011307, 1.056295394897461, 1.4162107706069946, 0.9469283819198608, -0.07805579900741577, -1.0582700967788696, -1.4194223880767822, -0.9488215446472168, 0.07808110862970352, 1.0597026348114014, 1.4208885431289673, 0.949460506439209, -0.07833147794008255, -1.060165286064148, -1.420422077178955, -0.9482644200325012, 0.07964731007814407, 1.0603957176208496, 1.4189600944519043, 0.9450194835662842, -0.08193381875753403, -1.059720516204834, -1.415436029434204, -0.9409340620040894, 0.08421992510557175, 1.058653473854065, 1.4114124774932861, 0.9362824559211731, -0.08677394688129425, -1.0571542978286743, -1.4062436819076538, -0.9310099482536316, 0.08873248100280762, 1.0547590255737305, 1.4010076522827148, 0.9260380268096924, -0.09067732095718384, -1.052565574645996, -1.3964532613754272, -0.9221863150596619, 0.09162978082895279, 1.0504075288772583, 1.393001675605774, 0.9197922348976135, -0.09193521738052368, -1.0494076013565063, -1.3917245864868164, -0.9191720485687256, 0.09170613437891006, 1.0487309694290161, 1.3922841548919678, 0.9206560850143433, -0.09014400094747543, -1.049143671989441, -1.394767165184021, -0.9243988990783691, 0.08771371096372604, 1.0500590801239014, 1.3994948863983154, 0.9303223490715027, -0.08464686572551727, -1.0518805980682373, -1.405121922492981, -0.9367384910583496, 0.08081410825252533, 1.0535160303115845, 1.4114614725112915, 0.9437263607978821, -0.07686659693717957, -1.0543638467788696, -1.416627049446106, -0.9501862525939941, 0.0726606547832489, 1.0546910762786865, 1.4208914041519165, 0.9564218521118164, -0.06850496679544449, -1.0540056228637695, -1.4236040115356445, -0.9601442813873291, 0.06614691019058228, 1.0537512302398682, 1.4246840476989746, 0.9617546200752258, -0.06432487070560455, -1.0519359111785889, -1.4234583377838135, -0.9614117741584778, 0.06268815696239471, 1.049755334854126, 1.4209864139556885, 0.9599308967590332, -0.06229564547538757, -1.046813726425171, -1.416990876197815, -0.9571905136108398, 0.06276462972164154, 1.0443803071975708, 1.412935495376587, 0.9532677531242371, -0.06390808522701263, -1.04172945022583, -1.4078015089035034, -0.9485675692558289, 0.06543341279029846, 1.0389102697372437, 1.4027069807052612, 0.9451161623001099, -0.06552066653966904, -1.0363378524780273, -1.3993866443634033, -0.9425480365753174, 0.0655660554766655, 1.034920573234558, 1.3977413177490234, 0.9419545531272888, -0.06497397273778915, -1.0340734720230103, -1.3981541395187378, -0.9435104131698608, 0.06385017186403275, 1.0347869396209717, 1.4006683826446533, 0.9467893838882446, -0.061992693692445755, -1.036306381225586, -1.4053252935409546, -0.951522171497345, 0.06143881380558014, 1.0401369333267212, 1.4114724397659302, 0.9557627439498901, -0.061780381947755814, -1.0450217723846436, -1.4167379140853882, -0.9577468633651733, 0.06396995484828949, 1.0493894815444946, 1.4199362993240356, 0.9580756425857544, -0.06596023589372635, -1.0514187812805176, -1.4209082126617432, -0.956915020942688, 0.06740391254425049, 1.0518304109573364, 1.4199566841125488, 0.955980658531189, -0.06741025298833847, -1.0502698421478271, -1.4179421663284302, -0.9554281830787659, 0.0658644586801529, 1.0480115413665771, 1.41646146774292, 0.9558090567588806, -0.06340499967336655, -1.0452791452407837, -1.4154926538467407, -0.957452118396759, 0.06074995547533035, 1.0436588525772095, 1.416060447692871, 0.9594743251800537, -0.058415576815605164, -1.0426479578018188, -1.4167386293411255, -0.9614037275314331, 0.057596828788518906, 1.043272614479065, 1.4180186986923218, 0.9624213576316833, -0.05724184215068817, -1.0435701608657837, -1.4184269905090332, -0.9619347453117371, 0.05870164930820465, 1.0449045896530151, 1.4175692796707153, 0.9592753052711487, -0.061922814697027206, -1.0461490154266357, -1.4156078100204468, -0.9539991021156311, 0.0673319473862648, 1.0476819276809692, 1.4121955633163452, 0.9469708204269409, -0.07393352687358856, -1.049543023109436, -1.4076098203659058, -0.9382914304733276, 0.08177538216114044, 1.0523438453674316, 1.402761459350586, 0.9286820888519287, -0.09042729437351227, -1.0551223754882812, -1.3988367319107056, -0.9202386140823364, 0.09859003126621246, 1.0590426921844482, 1.3964461088180542, 0.9131096005439758, -0.10641515254974365, -1.0634617805480957, -1.395250916481018, -0.907696545124054, 0.11265671998262405, 1.0670390129089355, 1.3956156969070435, 0.9055989384651184, -0.11506126075983047, -1.069097638130188, -1.3975458145141602, -0.907767653465271, 0.11402509361505508, 1.070465087890625, 1.402720332145691, 0.9145380854606628, -0.10964932292699814, -1.071763277053833, -1.4098929166793823, -0.9239616990089417, 0.10367010533809662, 1.0736664533615112, 1.418826699256897, 0.9349055886268616, -0.09799399226903915, -1.0763576030731201, -1.4281013011932373, -0.944581925868988, 0.0934571847319603, 1.0801485776901245, 1.4367719888687134, 0.9525676369667053, -0.09100779891014099, -1.0840283632278442, -1.4436472654342651, -0.9575632810592651, 0.09059221297502518, 1.0875412225723267, 1.448035478591919, 0.9604397416114807, -0.0910877212882042, -1.0897518396377563, -1.4495307207107544, -0.9597209692001343, 0.09261526167392731, 1.0903124809265137, 1.4479445219039917, 0.9573547840118408, -0.09334125369787216, -1.0877666473388672, -1.4435750246047974, -0.9539828896522522, 0.09250272810459137, 1.0831115245819092, 1.4380470514297485, 0.951276421546936, -0.09098055213689804, -1.0775543451309204, -1.431645154953003, -0.9478447437286377, 0.08860445767641068, 1.0708003044128418, 1.4247609376907349, 0.9452382922172546, -0.0857284888625145, -1.0643723011016846, -1.4188059568405151, -0.943126916885376, 0.08314202725887299, 1.0589700937271118, 1.4140392541885376, 0.9413713216781616, -0.08157864212989807, -1.055614709854126, -1.4103502035140991, -0.9391627311706543, 0.08190738409757614, 1.0548020601272583, 1.4087461233139038, 0.9372835755348206, -0.0833989754319191, -1.0553168058395386, -1.4084991216659546, -0.9357355833053589, 0.08591227233409882, 1.0581576824188232, 1.4105967283248901, 0.935999870300293, -0.08819575607776642, -1.0623230934143066, -1.41450035572052, -0.9371187686920166, 0.09105320274829865, 1.0682170391082764, 1.4203009605407715, 0.9400002956390381, -0.09344200789928436, -1.0746175050735474, -1.4272044897079468, -0.9428086876869202, 0.09615270048379898, 1.081488847732544, 1.434478759765625, 0.9465447068214417, -0.0983070582151413, -1.0876301527023315, -1.4411180019378662, -0.9496217966079712, 0.10002695769071579, 1.092409372329712, 1.445556640625, 0.9519404768943787, -0.10038356482982635, -1.0945649147033691, -1.4481441974639893, -0.953410804271698, 0.09949882328510284, 1.093849539756775, 1.4481923580169678, 0.9548655152320862, -0.09627456963062286, -1.0902966260910034, -1.4461495876312256, -0.9563987255096436, 0.09129658341407776, 1.084409475326538, 1.442816138267517, 0.957908570766449, -0.0851050466299057, -1.0768204927444458, -1.4383268356323242, -0.9594918489456177, 0.07796183973550797, 1.0676560401916504, 1.4324060678482056, 0.9607126712799072, -0.06996720284223557, -1.0572820901870728, -1.4260640144348145, -0.9621039032936096, 0.06190476566553116, 1.0471781492233276, 1.4198062419891357, 0.9629664421081543, -0.05458906292915344, -1.0384398698806763, -1.4142807722091675, -0.9631778597831726, 0.049168895930051804, 1.031445860862732, 1.409185767173767, 0.9623082280158997, -0.04653312638401985, -1.02675199508667, -1.4044647216796875, -0.9593673348426819, 0.04677318409085274, 1.0247374773025513, 1.4008558988571167, 0.9552763104438782, -0.05029982700943947, -1.0251067876815796, -1.3977824449539185, -0.9498918652534485, 0.05534164607524872, 1.027662754058838, 1.3957449197769165, 0.9441258907318115, -0.06217102333903313, -1.0318539142608643, -1.3953874111175537, -0.9384759068489075, 0.07033561915159225, 1.0381453037261963, 1.3961647748947144, 0.933948278427124, -0.07743717730045319, -1.0447756052017212, -1.399143099784851, -0.9320107698440552, 0.08389768749475479, 1.0525861978530884, 1.4055057764053345, 0.9332296848297119, -0.08851628750562668, -1.0615198612213135, -1.413702368736267, -0.9365041851997375, 0.09269823133945465, 1.071014404296875, 1.4236899614334106, 0.9414256811141968, -0.09552677720785141, -1.0798622369766235, -1.4331490993499756, -0.9465458989143372, 0.09663985669612885, 1.08635675907135, 1.4413114786148071, 0.9526922106742859, -0.09574992209672928, -1.0902451276779175, -1.4480388164520264, -0.9587658047676086, 0.09323782473802567, 1.0923572778701782, 1.4534767866134644, 0.9639530777931213, -0.09011415392160416, -1.0922681093215942, -1.4559259414672852, -0.967788577079773, 0.08650882542133331, 1.089712142944336, 1.45534348487854, 0.9699091911315918, -0.08211185783147812, -1.0851467847824097, -1.4525437355041504, -0.9703568816184998, 0.07779597491025925, 1.078518033027649, 1.4471542835235596, 0.9696261882781982, -0.07292214781045914, -1.070255160331726, -1.4398106336593628, -0.967602550983429, 0.06791778653860092, 1.0608490705490112, 1.4315160512924194, 0.9655529260635376, -0.06294990330934525, -1.0512456893920898, -1.4234579801559448, -0.962997555732727, 0.05830531194806099, 1.0431079864501953, 1.4162178039550781, 0.9611908793449402, -0.05473605543375015, -1.0372314453125, -1.4115148782730103, -0.9594460725784302, 0.054023660719394684, 1.035148024559021, 1.4093879461288452, 0.9572359919548035, -0.055481813848018646, -1.0362331867218018, -1.408818244934082, -0.9549278616905212, 0.059806812554597855, 1.0400125980377197, 1.41010320186615, 0.9522928595542908, -0.06541099399328232, -1.0462236404418945, -1.4134851694107056, -0.9499202370643616, 0.072852224111557, 1.0547667741775513, 1.4188135862350464, 0.9485845565795898, -0.08065583556890488, -1.0651131868362427, -1.424812912940979, -0.9467095136642456, 0.08922109752893448, 1.0751012563705444, 1.4307891130447388, 0.9453226327896118, -0.09692753851413727, -1.0842249393463135, -1.435925841331482, -0.9442605376243591, 0.10339169949293137, 1.0921670198440552, 1.4410347938537598, 0.9439214468002319, -0.10799529403448105, -1.0977274179458618, -1.4441030025482178, -0.9438291788101196, 0.11041583865880966, 1.100540280342102, 1.4459657669067383, 0.9442620277404785, -0.11015544831752777, -1.1002602577209473, -1.4457961320877075, -0.9452727437019348, 0.10785399377346039, 1.0969303846359253, 1.444146990776062, 0.9471088647842407, -0.10291542112827301, -1.0913058519363403, -1.440736174583435, -0.9483240246772766, 0.09678686410188675, 1.0842214822769165, 1.4370747804641724, 0.9501246213912964, -0.09021180123090744, -1.0766773223876953, -1.4327409267425537, -0.9519743919372559, 0.08390996605157852, 1.0694682598114014, 1.4288833141326904, 0.9527818560600281, -0.07901421934366226, -1.0630906820297241, -1.4244312047958374, -0.9528472423553467, 0.07530748844146729, 1.0576714277267456, 1.4199259281158447, 0.951444685459137, -0.07319166511297226, -1.0538522005081177, -1.416325569152832, -0.9497497081756592, 0.07308226078748703, 1.0526297092437744, 1.415077567100525, 0.9476466774940491, -0.07561232894659042, -1.0549954175949097, -1.415460467338562, -0.9449160099029541, 0.08115068078041077, 1.0610640048980713, 1.4180678129196167, 0.941881537437439, -0.08892108500003815, -1.0691615343093872, -1.4213563203811646, -0.9381880760192871, 0.09825374186038971, 1.0786477327346802, 1.4259779453277588, 0.9348487257957458, -0.10729210078716278, -1.088036060333252, -1.4303444623947144, -0.932061493396759, 0.11510299146175385, 1.0966522693634033, 1.4352266788482666, 0.93120276927948, -0.1208961084485054, -1.1038862466812134, -1.4402378797531128, -0.931891679763794, 0.1242642030119896, 1.1093438863754272, 1.4449779987335205, 0.9339621663093567, -0.12546972930431366, -1.112207055091858, -1.4486377239227295, -0.9367465376853943, 0.12386272102594376, 1.1127948760986328, 1.451245665550232, 0.9403480887413025, -0.12064987421035767, -1.1110447645187378, -1.4520715475082397, -0.9438868761062622, 0.11581156402826309, 1.1079189777374268, 1.4522106647491455, 0.9480518698692322, -0.11027649790048599, -1.103440523147583, -1.4513742923736572, -0.9510822892189026, 0.10487516224384308, 1.098410725593567, 1.449390172958374, 0.9528229832649231, -0.09992143511772156, -1.0931487083435059, -1.445867657661438, -0.9528988003730774, 0.09620382636785507, 1.087496042251587, 1.441137671470642, 0.9515218138694763, -0.09335563331842422, -1.0815587043762207, -1.4350696802139282, -0.948952853679657, 0.09128880500793457, 1.076012372970581, 1.429324984550476, 0.9465823173522949, -0.08948212116956711, -1.071684718132019, -1.425125241279602, -0.9435326457023621, 0.0897996723651886, 1.0695217847824097, 1.4223777055740356, 0.9417575597763062, -0.09009131044149399, -1.0693798065185547, -1.4216493368148804, -0.9405627846717834, 0.09235947579145432, 1.0720518827438354, 1.423688530921936, 0.9405419826507568, -0.09521373361349106, -1.0766947269439697, -1.4273971319198608, -0.9408819675445557, 0.09924837946891785, 1.082740068435669, 1.4322128295898438, 0.9412315487861633, -0.10316488146781921, -1.0887560844421387, -1.4364159107208252, -0.9411020278930664, 0.10704111307859421, 1.0932557582855225, 1.4389636516571045, 0.940513014793396, -0.10952049493789673, -1.095219373703003, -1.4388232231140137, -0.9396149516105652, 0.10971976071596146, 1.094008207321167, 1.437504768371582, 0.9395961761474609, -0.10714970529079437, -1.089816689491272, -1.434428095817566, -0.9402165412902832, 0.10245928913354874, 1.084172010421753, 1.4317774772644043, 0.9427053332328796, -0.09611620008945465, -1.0777149200439453, -1.4292473793029785, -0.946251630783081, 0.08875330537557602, 1.0714703798294067, 1.4278863668441772, 0.9504004716873169, -0.08228132873773575, -1.0662239789962769, -1.4268085956573486, -0.9536004662513733, 0.07726923376321793, 1.06228506565094, 1.4256514310836792, 0.9554750323295593, -0.07377874851226807, -1.0594276189804077, -1.4242842197418213, -0.9554848074913025, 0.0722995325922966, 1.0572117567062378, 1.4221675395965576, 0.9545188546180725, -0.0720461830496788, -1.0554581880569458, -1.4200760126113892, -0.9518702626228333, 0.07350105047225952, 1.0553652048110962, 1.4174293279647827, 0.9484928250312805, -0.07605381309986115, -1.0551517009735107, -1.41464364528656, -0.9439748525619507, 0.07967405021190643, 1.0562814474105835, 1.412204384803772, 0.9394224882125854, -0.08388835191726685, -1.0573924779891968, -1.4094785451889038, -0.9341670870780945, 0.08885946869850159, 1.0589513778686523, 1.4072506427764893, 0.929573118686676, -0.0931335911154747, -1.0604349374771118, -1.4052565097808838, -0.9254451394081116, 0.0973205491900444, 1.062283992767334, 1.4036030769348145, 0.9217699766159058, -0.09998390823602676, -1.063246250152588, -1.4032011032104492, -0.9208597540855408, 0.10109500586986542, 1.0642762184143066, 1.4037405252456665, 0.92095947265625, -0.10145542025566101, -1.0649200677871704, -1.4050922393798828, -0.9225237965583801, 0.10032033920288086, 1.065071702003479, 1.407271146774292, 0.9256277084350586, -0.09748636186122894, -1.0646158456802368, -1.4095996618270874, -0.929693341255188, 0.09430067241191864, 1.0643088817596436, 1.4128397703170776, 0.9351173639297485, -0.09015630185604095, -1.0642131567001343, -1.4165029525756836, -0.9403970241546631, 0.08728591352701187, 1.065211296081543, 1.4211111068725586, 0.9448919892311096, -0.08540225774049759, -1.0669127702713013, -1.4246488809585571, -0.9475139379501343, 0.08527527004480362, 1.0688483715057373, 1.4271936416625977, 0.9490935802459717, -0.08522427827119827, -1.0700349807739258, -1.4285539388656616, -0.9498141407966614, 0.08559569716453552, 1.0712264776229858, 1.4294791221618652, 0.9498493075370789, -0.08634167164564133, -1.0722185373306274, -1.429734468460083, -0.9486412405967712, 0.08851312845945358, 1.0733462572097778, 1.4284077882766724, 0.945560097694397, -0.09126189351081848, -1.0731525421142578, -1.4248822927474976, -0.9409380555152893, 0.09374845772981644, 1.0718176364898682, 1.4203038215637207, 0.9362677931785583, -0.09507685154676437, -1.0685304403305054, -1.414828896522522, -0.9321475028991699, 0.09539572149515152, 1.0650265216827393, 1.4099701642990112, 0.9291184544563293, -0.09411083906888962, -1.0603492259979248, -1.4049760103225708, -0.9275579452514648, 0.09162818640470505, 1.0554077625274658, 1.4012130498886108, 0.9274888038635254, -0.08781421184539795, -1.0507442951202393, -1.3987994194030762, -0.9290021061897278, 0.08357109129428864, 1.0470300912857056, 1.3977972269058228, 0.9314958453178406, -0.07948413491249084, -1.0442408323287964, -1.3983690738677979, -0.9346824288368225, 0.07635320723056793, 1.043295979499817, 1.4003312587738037, 0.9380944967269897, -0.07407020777463913, -1.0440410375595093, -1.4029874801635742, -0.9408156275749207, 0.07317356020212173, 1.045913577079773, 1.4068115949630737, 0.9436814188957214, -0.0733286440372467, -1.0486230850219727, -1.410286784172058, -0.945197343826294, 0.07478774338960648, 1.0522372722625732, 1.4135674238204956, 0.9460140466690063, -0.0765955001115799, -1.0552080869674683, -1.4156211614608765, -0.9456332325935364, 0.07885412126779556, 1.0577861070632935, 1.4165858030319214, 0.9449731111526489, -0.08083303272724152, -1.0591977834701538, -1.4163191318511963, -0.943344235420227, 0.08215439319610596, 1.0589219331741333, 1.4148157835006714, 0.9413312077522278, -0.08285074681043625, -1.0579010248184204, -1.4122779369354248, -0.939279317855835, 0.0830153301358223, 1.0561155080795288, 1.4096344709396362, 0.9376945495605469, -0.08255181461572647, -1.0534791946411133, -1.406949520111084, -0.9365026354789734, 0.08153721690177917, 1.0511101484298706, 1.404758334159851, 0.9356005787849426, -0.08017880469560623, -1.0485903024673462, -1.4028003215789795, -0.9359073638916016, 0.0789898931980133, 1.0472240447998047, 1.4023185968399048, 0.9360728859901428, -0.07795048505067825, -1.0462367534637451, -1.401694655418396, -0.9361805319786072, 0.07818689197301865, 1.0466300249099731, 1.4020575284957886, 0.9360876679420471, -0.0793418437242508, -1.0484755039215088, -1.4028736352920532, -0.9345285892486572, 0.08247741311788559, 1.0516947507858276, 1.4037091732025146, 0.9317077994346619, -0.08722716569900513, -1.0554404258728027, -1.4043346643447876, -0.9288200736045837, 0.09191107004880905, 1.0594496726989746, 1.4053479433059692, 0.926500678062439, -0.09670163691043854, -1.06342351436615, -1.406287431716919, -0.9244058728218079, 0.1006765216588974, 1.0678489208221436, 1.4089661836624146, 0.9233613610267639, -0.10450071096420288, -1.0720292329788208, -1.411130428314209, -0.9228466153144836, 0.10740767419338226, 1.0755563974380493, 1.4138174057006836, 0.9237298369407654, -0.10851823538541794, -1.078142523765564, -1.4167476892471313, -0.9257053136825562, 0.10851551592350006, 1.0803449153900146, 1.4204928874969482, 0.9290820956230164, -0.10704527050256729, -1.0820395946502686, -1.4247725009918213, -0.9334247708320618, 0.10512033104896545, 1.0835942029953003, 1.4290424585342407, 0.9383737444877625, -0.10247967392206192, -1.084560513496399, -1.4331550598144531, -0.9431445598602295, 0.0998823493719101, 1.0856677293777466, 1.4367598295211792, 0.9471504092216492, -0.09690944850444794, -1.0854071378707886, -1.4392917156219482, -0.9508889317512512, 0.09444886445999146, 1.0849543809890747, 1.4411438703536987, 0.9539145231246948, -0.09200260788202286, -1.0837364196777344, -1.4411863088607788, -0.9551435708999634, 0.08989325165748596, 1.0817354917526245, 1.4401988983154297, 0.9560886025428772, -0.08724930882453918, -1.079119324684143, -1.4391252994537354, -0.9569946527481079, 0.08480452001094818, 1.076610803604126, 1.4380974769592285, 0.9581966996192932, -0.08277443796396255, -1.0748497247695923, -1.4377142190933228, -0.9589414000511169, 0.0815550684928894, 1.0738801956176758, 1.437782883644104, 0.9594187140464783, -0.08059527724981308, -1.0736497640609741, -1.4375797510147095, -0.9593943357467651, 0.0807819813489914, 1.0738139152526855, 1.438128113746643, 0.9600934386253357, -0.08034851402044296, -1.073838233947754, -1.4385396242141724, -0.9603766202926636, 0.08044635504484177, 1.0748361349105835, 1.4394745826721191, 0.9606820344924927, -0.08083130419254303, -1.0756568908691406, -1.441019892692566, -0.9615471363067627, 0.08132269978523254, 1.0774024724960327, 1.4428191184997559, 0.96258544921875, -0.08239821344614029, -1.0795767307281494, -1.4444451332092285, -0.9626472592353821, 0.08417476713657379, 1.0820343494415283, 1.4454774856567383, 0.9615987539291382, -0.0861269012093544, -1.083150863647461, -1.4455126523971558, -0.9601393938064575, 0.0879545584321022, 1.08371901512146, 1.4443708658218384, 0.9582080245018005, -0.08896999806165695, -1.0834870338439941, -1.4424384832382202, -0.955894947052002, 0.08986629545688629, 1.0821759700775146, 1.4397165775299072, 0.9537643790245056, -0.0903724804520607, -1.0803104639053345, -1.4365335702896118, -0.9515656232833862, 0.08997669070959091, 1.0775048732757568, 1.4332921504974365, 0.9499158263206482, -0.08898711949586868, -1.0746411085128784, -1.4305282831192017, -0.9489977955818176, 0.08758456259965897, 1.0720438957214355, 1.4284147024154663, 0.9489601254463196, -0.08584582805633545, -1.0699522495269775, -1.42725670337677, -0.9490387439727783, 0.08485601097345352, 1.0683823823928833, 1.4267393350601196, 0.9499312043190002, -0.08322712779045105, -1.067204236984253, -1.4268923997879028, -0.9510495662689209, 0.08146817237138748, 1.0666813850402832, 1.4278010129928589, 0.9528949856758118, -0.0797203779220581, -1.0661897659301758, -1.429246187210083, -0.9551580548286438, 0.07822232693433762, 1.0664077997207642, 1.4307000637054443, 0.9573559165000916, -0.07683029025793076, -1.0664036273956299, -1.431950569152832, -0.9589194655418396, 0.07609806954860687, 1.0670944452285767, 1.4332870244979858, 0.9598965644836426, -0.07609911262989044, -1.0677927732467651, -1.4338001012802124, -0.9593185186386108, 0.07696396857500076, 1.0680595636367798, 1.4333199262619019, 0.9581926465034485, -0.07824960350990295, -1.0681957006454468, -1.431450366973877, -0.9556764960289001, 0.07960764318704605, 1.0672073364257812, 1.4291632175445557, 0.9532233476638794, -0.08075839281082153, -1.0656709671020508, -1.4256764650344849, -0.950055718421936, 0.0811208114027977, 1.063651204109192, 1.4221251010894775, 0.9476524591445923, -0.08134476840496063, -1.0611611604690552, -1.4188036918640137, -0.9452793598175049, 0.08110761642456055, 1.058945655822754, 1.415708303451538, 0.9438574314117432, -0.08020484447479248, -1.0566604137420654, -1.4136631488800049, -0.9431422352790833, 0.0795585960149765, 1.0549002885818481, 1.4122371673583984, 0.9427632093429565, -0.07852087169885635, -1.0536528825759888, -1.4121075868606567, -0.9431291818618774, 0.07777834683656693, 1.0535509586334229, 1.4123426675796509, 0.9441773891448975, -0.07765235006809235, -1.054283618927002, -1.4135761260986328, -0.9450243711471558, 0.07804747670888901, 1.0559260845184326, 1.415554404258728, 0.9458262920379639, -0.07847937941551208, -1.0576279163360596, -1.417289137840271, -0.9471880197525024, 0.07899432629346848, 1.0593092441558838, 1.4196032285690308, 0.9482448697090149, -0.0795595571398735, -1.0611612796783447, -1.4218991994857788, -0.9490976333618164, 0.08044788986444473, 1.0632039308547974, 1.4234721660614014, 0.9494578838348389, -0.08112452179193497, -1.0642911195755005, -1.4241952896118164, -0.9492460489273071, 0.08234285563230515, 1.0654304027557373, 1.4244866371154785, 0.9489122629165649, -0.08248639851808548, -1.0656605958938599, -1.4245134592056274, -0.9487138390541077, 0.08327314257621765, 1.0662250518798828, 1.424392819404602, 0.9480847716331482, -0.08372016996145248, -1.0669535398483276, -1.4245693683624268, -0.9475101232528687, 0.08503106981515884, 1.0676405429840088, 1.424696445465088, 0.9465692639350891, -0.08652830868959427, -1.0688414573669434, -1.4248523712158203, -0.9454107880592346, 0.08840057998895645, 1.0704400539398193, 1.4253318309783936, 0.9445033669471741, -0.09035515785217285, -1.0726900100708008, -1.426335096359253, -0.9434908628463745, 0.09269990026950836, 1.0750421285629272, 1.4274235963821411, 0.943166971206665, -0.09468062222003937, -1.0771450996398926, -1.4284355640411377, -0.9422174096107483, 0.09639604389667511, 1.0789042711257935, 1.4293339252471924, 0.942392885684967, -0.09676964581012726, -1.0796481370925903, -1.429725170135498, -0.9423109889030457, 0.09716320037841797, 1.0801258087158203, 1.4304897785186768, 0.9429311752319336, -0.09655383229255676, -1.079725980758667, -1.4305800199508667, -0.9440904259681702, 0.09578906744718552, 1.0795129537582397, 1.4310939311981201, 0.9451998472213745, -0.09413857758045197, -1.0786960124969482, -1.4314628839492798, -0.9466242790222168, 0.09239378571510315, 1.0777676105499268, 1.4323676824569702, 0.9482124447822571, -0.09079281985759735, -1.0772355794906616, -1.4331178665161133, -0.9498404264450073, 0.08930521458387375, 1.0759989023208618, 1.4331918954849243, 0.9510979652404785, -0.08746445178985596, -1.0746891498565674, -1.4327268600463867, -0.9520912766456604, 0.08583647757768631, 1.0729153156280518, 1.4319400787353516, 0.9531318545341492, -0.0836956724524498, -1.0711970329284668, -1.4318740367889404, -0.9537901282310486, 0.08234637975692749, 1.0702875852584839, 1.431258201599121, 0.9539456963539124, -0.08194049447774887, -1.0696969032287598, -1.4306840896606445, -0.9531541466712952, 0.08336402475833893, 1.070815086364746, 1.4302617311477661, 0.9509619474411011, -0.08589115738868713, -1.0721958875656128, -1.428917407989502, -0.9477934837341309, 0.08982416987419128, 1.0745385885238647, 1.428375244140625, 0.9438779950141907, -0.09435498714447021, -1.0766398906707764, -1.4264318943023682, -0.9391118884086609, 0.09941615164279938, 1.0792080163955688, 1.4256519079208374, 0.9358716607093811, -0.10302913188934326, -1.0812253952026367, -1.4249491691589355, -0.932580292224884, 0.10646528005599976, 1.0836684703826904, 1.4251919984817505, 0.9307129979133606, -0.10907387733459473, -1.0852845907211304, -1.4251939058303833, -0.9296532869338989, 0.11047463119029999, 1.0861419439315796, 1.4256510734558105, 0.9303138852119446, -0.10998165607452393, -1.085539698600769, -1.4258229732513428, -0.9311630725860596, 0.108034648001194, 1.0838689804077148, 1.4251079559326172, 0.9332267642021179, -0.10442087799310684, -1.0804675817489624, -1.4243544340133667, -0.9351372122764587, 0.10042676329612732, 1.076888918876648, 1.4230307340621948, 0.9372341632843018, -0.09629712998867035, -1.0724129676818848, -1.4208208322525024, -0.9385465979576111, 0.0923362448811531, 1.0685908794403076, 1.4190325736999512, 0.9396466612815857, -0.08916396647691727, -1.0650591850280762, -1.4175527095794678, -0.940419614315033, 0.08736197650432587, 1.0637012720108032, 1.417417049407959, 0.9406464099884033, -0.08719390630722046, -1.0639241933822632, -1.4173277616500854, -0.9399914741516113, 0.08857587724924088, 1.065906047821045, 1.4183719158172607, 0.9392947554588318, -0.09115512669086456, -1.06856107711792, -1.419534683227539, -0.9378137588500977, 0.09439948946237564, 1.0722975730895996, 1.4215701818466187, 0.9366917014122009, -0.09811746329069138, -1.0764036178588867, -1.4236305952072144, -0.9359527230262756, 0.10134653747081757, 1.0800292491912842, 1.425583839416504, 0.9355107545852661, -0.10346163809299469, -1.0825250148773193, -1.4279214143753052, -0.9364092946052551, 0.1036384105682373, 1.0839170217514038, 1.4299598932266235, 0.9389488697052002, -0.10215090960264206, -1.084241509437561, -1.4314801692962646, -0.9413743019104004, 0.09954638034105301, 1.0826640129089355, 1.4327772855758667, 0.9448760151863098, -0.09509825706481934, -1.080034852027893, -1.433180570602417, -0.9481365084648132, 0.09064267575740814, 1.0761134624481201, 1.432088017463684, 0.9510214924812317, -0.08565770834684372, -1.0711289644241333, -1.429365873336792, -0.9522386789321899, 0.08105303347110748, 1.0657124519348145, 1.4265135526657104, 0.9527772068977356, -0.07740766555070877, -1.060455322265625, -1.4222475290298462, -0.9515969753265381, 0.07429574429988861, 1.0550004243850708, 1.4173563718795776, 0.9501884579658508, -0.0719398632645607, -1.050599217414856, -1.4126588106155396, -0.9483375549316406, 0.07091547548770905, 1.047414779663086, 1.4095866680145264, 0.946394681930542, -0.07075712829828262, -1.0461913347244263, -1.4079606533050537, -0.9443584084510803, 0.07255690544843674, 1.0472158193588257, 1.4081494808197021, 0.9433932900428772, -0.07526062428951263, -1.0500463247299194, -1.409759283065796, -0.9426285028457642, 0.07848421484231949, 1.054626703262329, 1.413435459136963, 0.9427175521850586, -0.08205847442150116, -1.0604913234710693, -1.418076992034912, -0.9438422322273254, 0.08545166999101639, 1.0667208433151245, 1.4238697290420532, 0.9458487033843994, -0.08845574408769608, -1.0728529691696167, -1.4290838241577148, -0.9471687078475952, 0.0910201296210289, 1.0777881145477295, 1.4334416389465332, 0.9490725994110107, -0.09237979352474213, -1.0805639028549194, -1.4360089302062988, -0.9504431486129761, 0.09231656789779663, 1.0810608863830566, 1.437277913093567, 0.9517404437065125, -0.09086646884679794, -1.0800771713256836, -1.436580777168274, -0.9523090720176697, 0.08921506255865097, 1.0780071020126343, 1.434731364250183, 0.9513164758682251, -0.08774425089359283, -1.0741558074951172, -1.430809497833252, -0.9498294591903687, 0.0863601490855217, 1.070121169090271, 1.426289677619934, 0.9472773671150208, -0.0849325954914093, -1.0658657550811768, -1.4213120937347412, -0.9441174268722534, 0.08467275649309158, 1.0621333122253418, 1.416434407234192, 0.9407683610916138, -0.08509977161884308, -1.0596028566360474, -1.4118874073028564, -0.9368862509727478, 0.08671099692583084, 1.0582739114761353, 1.4084123373031616, 0.933153510093689, -0.08878877758979797, -1.0576025247573853, -1.4058629274368286, -0.9295273423194885, 0.0916358083486557, 1.0585321187973022, 1.4043068885803223, 0.9270431995391846, -0.09390965849161148, -1.0595117807388306, -1.4041216373443604, -0.9250706434249878, 0.09649546444416046, 1.061952829360962, 1.4055538177490234, 0.9253519773483276, -0.09839801490306854, -1.0650715827941895, -1.4079926013946533, -0.9258860945701599, 0.10003266483545303, 1.068658471107483, 1.4117058515548706, 0.9275882244110107, -0.1010211855173111, -1.071507453918457, -1.4155389070510864, -0.9303749799728394, 0.10086383670568466, 1.0739662647247314, 1.4194960594177246, 0.93416428565979, -0.0992174819111824, -1.075474500656128, -1.4229737520217896, -0.9375141263008118, 0.09740865230560303, 1.0761306285858154, 1.4254878759384155, 0.9409809708595276, -0.09466490149497986, -1.075435996055603, -1.4271405935287476, -0.9435278177261353, 0.09203647077083588, 1.0743515491485596, 1.4276211261749268, 0.9455247521400452, -0.08998268842697144, -1.0723185539245605, -1.4272456169128418, -0.9465274214744568, 0.08810068666934967, 1.0708128213882446, 1.4265519380569458, 0.9470518231391907, -0.08680585026741028, -1.0693612098693848, -1.4252398014068604, -0.9458798766136169, 0.0872337594628334, 1.0685805082321167, 1.4232897758483887, 0.9434579014778137, -0.08860138803720474, -1.0679513216018677, -1.4203542470932007, -0.939588725566864, 0.0914175808429718, 1.0674611330032349, 1.4168730974197388, 0.9356521964073181, -0.09374229609966278, -1.0668737888336182, -1.4137297868728638, -0.9319604635238647, 0.09607823193073273, 1.0669000148773193, 1.4117909669876099, 0.9293132424354553, -0.09738621860742569, -1.0670435428619385, -1.4112340211868286, -0.9281004071235657, 0.09912902861833572, 1.0682562589645386, 1.4125020503997803, 0.928458034992218, -0.09964660555124283, -1.070281982421875, -1.4149460792541504, -0.9303398132324219, 0.10000745207071304, 1.073691725730896, 1.419363260269165, 0.9340301156044006, -0.0994921550154686, -1.076562762260437, -1.4246410131454468, -0.938830554485321, 0.09845417737960815, 1.0800174474716187, 1.430546522140503, 0.9442277550697327, -0.09665150940418243, -1.0827021598815918, -1.4365839958190918, -0.9493421912193298, 0.09428686648607254, 1.0842872858047485, 1.4411706924438477, 0.9546915292739868, -0.09128926694393158, -1.0852916240692139, -1.4448306560516357, -0.9591984748840332, 0.08832000941038132, 1.0849460363388062, 1.4472979307174683, 0.9629979729652405, -0.08511486649513245, -1.0838268995285034, -1.448346734046936, -0.9651814103126526, 0.08255869895219803, 1.0817043781280518, 1.447782039642334, 0.9666319489479065, -0.07963432371616364, -1.0783435106277466, -1.4451442956924438, -0.9662480354309082, 0.07747253030538559, 1.0744907855987549, 1.4418343305587769, 0.9651325941085815, -0.07491708546876907, -1.0694787502288818, -1.4371508359909058, -0.9633753895759583, 0.07300455123186111, 1.0649666786193848, 1.4323029518127441, 0.9613332152366638, -0.071398064494133, -1.0605366230010986, -1.4272935390472412, -0.9583794474601746, 0.07025017589330673, 1.0562695264816284, 1.4229681491851807, 0.9562328457832336, -0.06906375288963318, -1.0526659488677979, -1.4192943572998047, -0.9549403190612793, 0.06804629415273666, 1.0500034093856812, 1.416888952255249, 0.9544113874435425, -0.06687124818563461, -1.0485385656356812, -1.4161280393600464, -0.9544214606285095, 0.06608841568231583, 1.048099160194397, 1.4169104099273682, 0.9555854797363281, -0.06590551137924194, -1.0487803220748901, -1.4176620244979858, -0.9561502933502197, 0.06583230197429657, 1.0495907068252563, 1.4191774129867554, 0.9575815796852112, -0.06504488736391068, -1.0499162673950195, -1.420275330543518, -0.9587764739990234, 0.06477250903844833, 1.0504815578460693, 1.4213377237319946, 0.9598389267921448, -0.06397710740566254, -1.0507851839065552, -1.4221614599227905, -0.9604228138923645, 0.06427378952503204, 1.0509920120239258, 1.4220556020736694, 0.960078775882721, -0.06434033811092377, -1.0508601665496826, -1.4209836721420288, -0.9587691426277161, 0.0650530681014061, 1.049893856048584, 1.4190778732299805, 0.9570903182029724, -0.06525622308254242, -1.0483778715133667, -1.4165290594100952, -0.9540608525276184, 0.06680873036384583, 1.047385811805725, 1.4129575490951538, 0.9502578377723694, -0.06913092732429504, -1.0461901426315308, -1.4083609580993652, -0.9447876811027527, 0.07153507322072983, 1.0443589687347412, 1.4031753540039062, 0.9392918348312378, -0.07436908781528473, -1.0427860021591187, -1.3980742692947388, -0.9332838654518127, 0.07757196575403214, 1.0417718887329102, 1.393734335899353, 0.9280065298080444, -0.08081542700529099, -1.0414789915084839, -1.3900411128997803, -0.9235321283340454, 0.08402086049318314, 1.0417287349700928, 1.3878309726715088, 0.9206627011299133, -0.0859932079911232, -1.042311668395996, -1.3877100944519043, -0.9196141958236694, 0.08760488033294678, 1.043774127960205, 1.3890260457992554, 0.9202367067337036, -0.08773433417081833, -1.0454165935516357, -1.3914152383804321, -0.9222537875175476, 0.08793163299560547, 1.047500729560852, 1.3945294618606567, 0.9251675009727478, -0.08679631352424622, -1.049164891242981, -1.3980712890625, -0.928718090057373, 0.08534040302038193, 1.0504025220870972, 1.401829481124878, 0.9328767657279968, -0.08270131051540375, -1.051206111907959, -1.4051916599273682, -0.9366399049758911, 0.0808633491396904, 1.0520133972167969, 1.4079817533493042, 0.9395904541015625, -0.07908618450164795, -1.052142858505249, -1.4095675945281982, -0.9413812160491943, 0.0780126079916954, 1.0521920919418335, 1.4102915525436401, 0.9427102208137512, -0.0773778185248375, -1.0521361827850342, -1.4103275537490845, -0.9421133995056152, 0.07786380499601364, 1.052146553993225, 1.4094998836517334, 0.9408906698226929, -0.07910049706697464, -1.052008867263794, -1.4079818725585938, -0.9383337497711182, 0.08107420057058334, 1.0523624420166016, 1.4061070680618286, 0.9354042410850525, -0.08324570953845978, -1.0524054765701294, -1.4039719104766846, -0.9322984218597412, 0.08520829677581787, 1.05243718624115, 1.401944637298584, 0.9292816519737244, -0.08747135102748871, -1.052211880683899, -1.3999640941619873, -0.9271679520606995, 0.08921221643686295, 1.0525245666503906, 1.3992408514022827, 0.9259509444236755, -0.09021510928869247, -1.053499698638916, -1.399685025215149, -0.92609041929245, 0.09092583507299423, 1.0553661584854126, 1.4020662307739258, 0.9271115064620972, -0.09163022041320801, -1.0580016374588013, -1.4051685333251953, -0.9289810657501221, 0.09243427217006683, 1.0616217851638794, 1.4097814559936523, 0.931718647480011, -0.09324875473976135, -1.0651565790176392, -1.414000153541565, -0.9345799684524536, 0.09368256479501724, 1.0684651136398315, 1.4182811975479126, 0.9372076392173767, -0.09400660544633865, -1.0711159706115723, -1.4217990636825562, -0.9396346211433411, 0.0942453071475029, 1.073693037033081, 1.4250156879425049, 0.9413864612579346, -0.09416723996400833, -1.07489812374115, -1.4268447160720825, -0.9428494572639465, 0.0936032235622406, 1.0756951570510864, 1.428480625152588, 0.9444699287414551, -0.09274328500032425, -1.0758854150772095, -1.4292796850204468, -0.9450421929359436, 0.09266764670610428, 1.0761843919754028, 1.4290357828140259, 0.9451093673706055, -0.09219736605882645, -1.075559139251709, -1.4286222457885742, -0.9446563124656677, 0.09275968372821808, 1.0753858089447021, 1.427951693534851, 0.9434409141540527, -0.09387730062007904, -1.0753788948059082, -1.4262617826461792, -0.9409924149513245, 0.0953345000743866, 1.0751508474349976, 1.4244751930236816, 0.9382879137992859, -0.09707286953926086, -1.0750058889389038, -1.422462821006775, -0.9357068538665771, 0.09884755313396454, 1.0750402212142944, 1.4207159280776978, 0.9333204030990601, -0.10057517886161804, -1.075286865234375, -1.419183611869812, -0.9311859607696533, 0.10209313035011292, 1.0757253170013428, 1.4183998107910156, 0.9299812912940979, -0.10331535339355469, -1.0759357213974, -1.4182252883911133, -0.9294087290763855, 0.10419350117444992, 1.076606273651123, 1.4184056520462036, 0.929304838180542, -0.10451804101467133, -1.0772403478622437, -1.4189609289169312, -0.929735004901886, 0.10441530495882034, 1.0774511098861694, 1.4198156595230103, 0.9304352402687073, -0.10369902104139328, -1.0771719217300415, -1.4204660654067993, -0.9318112730979919, 0.10216077417135239, 1.0766496658325195, 1.4210518598556519, 0.9335394501686096, -0.10024183988571167, -1.075387716293335, -1.4209558963775635, -0.9351876974105835, 0.09793032705783844, 1.0735721588134766, 1.42119562625885, 0.9368412494659424, -0.09564980864524841, -1.071958303451538, -1.4207098484039307, -0.9377560615539551, 0.09408743679523468, 1.0706846714019775, 1.4207271337509155, 0.9383583068847656, -0.09365314990282059, -1.0699924230575562, -1.4193729162216187, -0.9376527667045593, 0.09400606900453568, 1.0696858167648315, 1.4181450605392456, 0.9358038902282715, -0.09531405568122864, -1.0697360038757324, -1.4167108535766602, -0.9328529238700867, 0.09756644815206528, 1.070503830909729, 1.4152175188064575, 0.9300377368927002, -0.09993241727352142, -1.0712631940841675, -1.414261817932129, -0.9280298948287964, 0.10241204500198364, 1.072937250137329, 1.4143195152282715, 0.9264103174209595, -0.10479751229286194, -1.0749835968017578, -1.4150280952453613, -0.9256225824356079, 0.10674414038658142, 1.077040433883667, 1.4163596630096436, 0.926141083240509, -0.10712757706642151, -1.078372597694397, -1.4182676076889038, -0.9274387359619141, 0.10680694133043289, 1.0791642665863037, 1.4202048778533936, 0.9302449226379395, -0.10464520752429962, -1.079224944114685, -1.42252516746521, -0.9338258504867554, 0.10220179706811905, 1.0788987874984741, 1.4248692989349365, 0.9379015564918518, -0.09871454536914825, -1.0782705545425415, -1.4275091886520386, -0.9418246150016785, 0.0956811010837555, 1.077901005744934, 1.430180311203003, 0.9457269310951233, -0.09335822612047195, -1.0784376859664917, -1.4328089952468872, -0.9482682943344116, 0.0919269546866417, 1.079516053199768, 1.4352059364318848, 0.9500333070755005, -0.09167568385601044, -1.0805253982543945, -1.4365156888961792, -0.9508267641067505, 0.09219568967819214, 1.0819002389907837, 1.4375739097595215, 0.9507483839988708, -0.09365402162075043, -1.0829110145568848, -1.4377949237823486, -0.950127899646759, 0.0950232446193695, 1.083754301071167, 1.4376648664474487, 0.9489930868148804, -0.09594661742448807, -1.0846915245056152, -1.437634825706482, -0.9480456113815308, 0.09684786200523376, 1.085038185119629, 1.4371782541275024, 0.9473956823348999, -0.0972106009721756, -1.0850040912628174, -1.437082052230835, -0.947318434715271, 0.09658655524253845, 1.0842286348342896, 1.4369683265686035, 0.9487637281417847, -0.09480711072683334, -1.0830539464950562, -1.4373611211776733, -0.9506196975708008, 0.09244586527347565, 1.08205246925354, 1.4388054609298706, 0.9534046053886414, -0.0898265466094017, -1.081043004989624, -1.4399961233139038, -0.9560837149620056, 0.08754463493824005, 1.0804845094680786, 1.441650152206421, 0.9588633179664612, -0.08555595576763153, -1.080331802368164, -1.4429837465286255, -0.9606844782829285, 0.08429882675409317, 1.0804166793823242, 1.4437458515167236, 0.9619486927986145, -0.08342635631561279, -1.080173134803772, -1.4438122510910034, -0.9616013765335083, 0.08394727110862732, 1.079594612121582, 1.4428672790527344, 0.9609595537185669, -0.08350912481546402, -1.0778777599334717, -1.4404950141906738, -0.9592543244361877, 0.08323924988508224, 1.0759347677230835, 1.4377247095108032, 0.9571824669837952, -0.08293762803077698, -1.072941541671753, -1.4334934949874878, -0.9549000859260559, 0.0822896882891655, 1.0695890188217163, 1.4293185472488403, 0.9521431922912598, -0.08142407238483429, -1.0657163858413696, -1.4246833324432373, -0.9492171406745911, 0.08116380125284195, 1.0624037981033325, 1.420992374420166, 0.947158694267273, -0.08087108284235, -1.0602433681488037, -1.4178869724273682, -0.9452003836631775, 0.08134306222200394, 1.0595941543579102, 1.4168003797531128, 0.9440103769302368, -0.08271685242652893, -1.0606502294540405, -1.4172004461288452, -0.9428876042366028, 0.08476527780294418, 1.0631035566329956, 1.418988585472107, 0.9429324865341187, -0.0869394987821579, -1.066728949546814, -1.421746015548706, -0.9429508447647095, 0.0898033007979393, 1.0709590911865234, 1.425076961517334, 0.9438453912734985, -0.09207817167043686, -1.0746822357177734, -1.428487777709961, -0.9449163675308228, 0.093698650598526, 1.0781726837158203, 1.4315621852874756, 0.9461215138435364, -0.09425384551286697, -1.080181360244751, -1.4342632293701172, -0.9481999278068542, 0.09368859231472015, 1.081534743309021, 1.4365434646606445, 0.9505469799041748, -0.09196139127016068, -1.0816981792449951, -1.438177466392517, -0.9528198838233948, 0.09043402969837189, 1.0811713933944702, 1.439449667930603, 0.9551243782043457, -0.0880875289440155, -1.0797405242919922, -1.4394334554672241, -0.9567853212356567, 0.08591428399085999, 1.0782227516174316, 1.4389286041259766, 0.9574838876724243, -0.08406145870685577, -1.076425313949585, -1.4378973245620728, -0.9570665955543518, 0.08370368927717209, 1.0750499963760376, 1.4359201192855835, 0.9558762907981873, -0.08395365625619888, -1.073897361755371, -1.4338836669921875, -0.9533132314682007, 0.08546318858861923, 1.0735441446304321, 1.431742548942566, 0.9502490758895874, -0.08768980205059052, -1.073527216911316, -1.429425597190857, -0.9465408325195312, 0.09112941473722458, 1.0744850635528564, 1.427471399307251, 0.9430506229400635, -0.09397032111883163, -1.0751765966415405, -1.4253259897232056, -0.9405699372291565, 0.09582750499248505, 1.075539469718933, 1.424829363822937, 0.9391801953315735, -0.09661989659070969, -1.0760014057159424, -1.425134301185608, -0.9396299719810486, 0.09666138142347336, 1.0767937898635864, 1.4267133474349976, 0.9410830140113831, -0.0957174077630043, -1.0768682956695557, -1.4277652502059937, -0.9431087970733643, 0.09423253685235977, 1.0768325328826904, 1.4296715259552002, 0.9457734227180481, -0.09209099411964417, -1.0763747692108154, -1.4310823678970337, -0.9482152462005615, 0.09011082351207733, 1.0761101245880127, 1.4322675466537476, 0.9504724740982056, -0.08778270334005356, -1.0749080181121826, -1.4329291582107544, -0.9525056481361389, 0.08567360788583755, 1.0734561681747437, 1.4327754974365234, 0.9534935355186462, -0.08384492248296738, -1.0714974403381348, -1.4313017129898071, -0.9532736539840698, 0.08251377195119858, 1.0693529844284058, 1.4292187690734863, 0.9522498250007629, -0.08129970729351044, -1.0665918588638306, -1.4262970685958862, -0.9507089853286743, 0.0804348960518837, 1.063732385635376, 1.423132300376892, 0.9492605328559875, -0.07993826270103455, -1.061461329460144, -1.420398473739624, -0.9474287033081055, 0.08009064942598343, 1.0598474740982056, 1.418039321899414, 0.9457502961158752, -0.08062135428190231, -1.059238314628601, -1.4166747331619263, -0.9439087510108948, 0.08203544467687607, 1.059401035308838, 1.4157902002334595, 0.9420571327209473, -0.0835069864988327, -1.0600841045379639, -1.41476309299469, -0.940304160118103, 0.08527141809463501, 1.0607843399047852, 1.4146463871002197, 0.9396085739135742, -0.08622192591428757, -1.0613596439361572, -1.4149583578109741, -0.9388892650604248, 0.0872073769569397, 1.0621308088302612, 1.4153094291687012, 0.9391956329345703, -0.08725858479738235, -1.062903642654419, -1.4163843393325806, -0.939911961555481, 0.0874890387058258, 1.0640908479690552, 1.4176833629608154, 0.9409764409065247, -0.08731744438409805, -1.0651603937149048, -1.418837070465088, -0.941419780254364, 0.0879482850432396, 1.0658314228057861, 1.4191689491271973, 0.941038966178894, -0.08838658034801483, -1.0654141902923584, -1.4184355735778809, -0.9405348300933838, 0.08813822269439697, 1.0647884607315063, 1.4172382354736328, 0.9397581815719604, -0.0876394510269165, -1.0633747577667236, -1.4155677556991577, -0.9390185475349426, 0.0870489776134491, 1.061431646347046, 1.4141219854354858, 0.9387093186378479, -0.08607541024684906, -1.0597610473632812, -1.4127204418182373, -0.9385464191436768, 0.08526257425546646, 1.0586459636688232, 1.411564588546753, 0.9382079243659973, -0.08437302708625793, -1.0570820569992065, -1.410980463027954, -0.9384933114051819, 0.08363998681306839, 1.0565236806869507, 1.410107970237732, 0.9382227063179016, -0.08304169774055481, -1.0553843975067139, -1.409366488456726, -0.9379363059997559, 0.0827389508485794, 1.0549132823944092, 1.4090648889541626, 0.937946081161499, -0.08252356946468353, -1.0548558235168457, -1.4090874195098877, -0.9382795095443726, 0.08217567205429077, 1.0550882816314697, 1.4100946187973022, 0.9388867616653442, -0.08258382976055145, -1.0562019348144531, -1.4114794731140137, -0.9395279288291931, 0.08324431627988815, 1.0577985048294067, 1.4128453731536865, 0.9399955868721008, -0.08379921317100525, -1.0595828294754028, -1.4146161079406738, -0.9407633543014526, 0.08540058135986328, 1.0620595216751099, 1.4165940284729004, 0.940771222114563, -0.08707321435213089, -1.0641602277755737, -1.4178928136825562, -0.9402539134025574, 0.08877343684434891, 1.0666017532348633, 1.4195270538330078, 0.9401754140853882, -0.09085343778133392, -1.0687497854232788, -1.4204939603805542, -0.9393637776374817, 0.09254372119903564, 1.0705556869506836, 1.4213751554489136, 0.9387078881263733, -0.09398078918457031, -1.071956992149353, -1.4217294454574585, -0.9383108615875244, 0.09478414803743362, 1.0730490684509277, 1.4221453666687012, 0.937890887260437, -0.09577317535877228, -1.0734584331512451, -1.4217534065246582, -0.937473475933075, 0.096284881234169, 1.073419213294983, 1.4213874340057373, 0.9371612668037415, -0.09588644653558731, -1.0724236965179443, -1.4203286170959473, -0.9367443919181824, 0.09528212994337082, 1.070873737335205, 1.4190551042556763, 0.9368526339530945, -0.09378136694431305, -1.0689115524291992, -1.4180506467819214, -0.9372628331184387, 0.09192477911710739, 1.066960096359253, 1.417183518409729, 0.9379457235336304, -0.09017345309257507, -1.0650769472122192, -1.4161839485168457, -0.9383277893066406, 0.08873365074396133, 1.0638447999954224, 1.4156780242919922, 0.9382211565971375, -0.0881008431315422, -1.0627291202545166, -1.4143548011779785, -0.9374111294746399, 0.08849678188562393, 1.0617210865020752, 1.4121720790863037, 0.9349337816238403, -0.08962993323802948, -1.061078429222107, -1.409656286239624, -0.9318390488624573, 0.09211479872465134, 1.0609397888183594, 1.4066439867019653, 0.927492082118988, -0.0952283963561058, -1.0608081817626953, -1.4038118124008179, -0.9230498671531677, 0.0984419584274292, 1.0614782571792603, 1.4017400741577148, 0.9192410707473755, -0.10188357532024384, -1.0629383325576782, -1.399871826171875, -0.915912389755249, 0.10513605177402496, 1.064371109008789, 1.3995447158813477, 0.9136768579483032, -0.10787045210599899, -1.0661351680755615, -1.399278998374939, -0.9121122360229492, 0.11002388596534729, 1.0683420896530151, 1.400598168373108, 0.9116597175598145, -0.11197785288095474, -1.0699245929718018, -1.4009878635406494, -0.9106069803237915, 0.11347892135381699, 1.0710760354995728, 1.4007329940795898, 0.9101371169090271, -0.11414914578199387, -1.0709656476974487, -1.3999590873718262, -0.9094223976135254, 0.1139938235282898, 1.0701067447662354, 1.3995380401611328, 0.9091922640800476, -0.11294803768396378, -1.0685781240463257, -1.3984651565551758, -0.909772515296936, 0.11146529018878937, 1.0669951438903809, 1.3978818655014038, 0.9109480977058411, -0.10871937870979309, -1.0646846294403076, -1.3976043462753296, -0.9129836559295654, 0.1061820462346077, 1.0630356073379517, 1.3982489109039307, 0.9155914783477783, -0.10282409191131592, -1.061283826828003, -1.39898681640625, -0.9184256196022034, 0.09955410659313202, 1.0593059062957764, 1.399929165840149, 0.9215755462646484, -0.09600316733121872, -1.0573805570602417, -1.4009788036346436, -0.9250583052635193, 0.09243674576282501, 1.0563156604766846, 1.4027786254882812, 0.9290714263916016, -0.08842572569847107, -1.0546292066574097, -1.4042794704437256, -0.9327508211135864, 0.08493117243051529, 1.0538297891616821, 1.4073132276535034, 0.9374640583992004, -0.08147566020488739, -1.054442286491394, -1.4111727476119995, -0.9416777491569519, 0.07998967915773392, 1.0566309690475464, 1.4152413606643677, 0.9449273943901062, -0.0794752985239029, -1.058709740638733, -1.4184730052947998, -0.9472397565841675, 0.07994906604290009, 1.0620055198669434, 1.4224486351013184, 0.9488131999969482, -0.08148209750652313, -1.0648659467697144, -1.424948811531067, -0.9488365054130554, 0.08386556804180145, 1.0679577589035034, 1.426231026649475, 0.9480236172676086, -0.08621306717395782, -1.0699512958526611, -1.4262439012527466, -0.9464318156242371, 0.08823928982019424, 1.0707300901412964, 1.425196886062622, 0.9444822072982788, -0.08954132348299026, -1.0703011751174927, -1.423904538154602, -0.9430607557296753, 0.09011783450841904, 1.0699503421783447, 1.4227770566940308, 0.9417667984962463, -0.09007688611745834, -1.0689018964767456, -1.4211294651031494, -0.9412809014320374, 0.08906783163547516, 1.0670461654663086, 1.4198286533355713, 0.941806972026825, -0.08665761351585388, -1.0642788410186768, -1.4185727834701538, -0.9431727528572083, 0.0833931416273117, 1.060844898223877, 1.417914867401123, 0.9457643628120422, -0.07896652072668076, -1.0569618940353394, -1.417094111442566, -0.9487645626068115, 0.07403849810361862, 1.0534402132034302, 1.4169044494628906, 0.9520500302314758, -0.06930714100599289, -1.0501452684402466, -1.4169648885726929, -0.95498126745224, 0.0658155083656311, 1.0484180450439453, 1.4178435802459717, 0.9573633074760437, -0.0638413205742836, -1.048014760017395, -1.418684482574463, -0.9582260847091675, 0.06361164152622223, 1.0485725402832031, 1.4192860126495361, 0.9580841660499573, -0.06450898200273514, -1.0501441955566406, -1.4200578927993774, -0.957505464553833, 0.06653236597776413, 1.0522189140319824, 1.420795202255249, 0.9563013315200806, -0.06946404278278351, -1.0550382137298584, -1.4217830896377563, -0.9544786214828491, 0.07285039126873016, 1.0577105283737183, 1.4224239587783813, 0.952802300453186, -0.07577582448720932, -1.0600206851959229, -1.4225205183029175, -0.9506043791770935, 0.07891000062227249, 1.0620486736297607, 1.422461748123169, 0.9482219219207764, -0.0819026306271553, -1.0634684562683105, -1.4208526611328125, -0.9450448155403137, 0.0849163830280304, 1.0640603303909302, 1.4185528755187988, 0.941530704498291, -0.08697959780693054, -1.0627857446670532, -1.414642095565796, -0.9374818801879883, 0.08782204985618591, 1.0604511499404907, 1.4108675718307495, 0.9350748658180237, -0.0870760902762413, -1.0572761297225952, -1.4071993827819824, -0.9340567588806152, 0.08531130850315094, 1.0543315410614014, 1.4054445028305054, 0.9338539242744446, -0.08344608545303345, -1.051393747329712, -1.4039775133132935, -0.9348238706588745, 0.08151895552873611, 1.0500596761703491, 1.4045097827911377, 0.9368879795074463, -0.07951699942350388, -1.0500588417053223, -1.406535267829895, -0.9389101266860962, 0.07897930592298508, 1.051930546760559, 1.4094665050506592, 0.9408537745475769, -0.08009795099496841, -1.0544769763946533, -1.4116647243499756, -0.9412049055099487, 0.08167510479688644, 1.0575048923492432, 1.4138530492782593, 0.9408318400382996, -0.08366043120622635, -1.0598585605621338, -1.4145896434783936, -0.9401211738586426, 0.08582528680562973, 1.0617176294326782, 1.4153467416763306, 0.9389218091964722, -0.08773355185985565, -1.0635615587234497, -1.4161341190338135, -0.9382354021072388, 0.08987698704004288, 1.0659191608428955, 1.4176263809204102, 0.9378847479820251, -0.0920802429318428, -1.0685173273086548, -1.4188870191574097, -0.9371941089630127, 0.09401413798332214, 1.0709140300750732, 1.4205150604248047, 0.9375626444816589, -0.0951165109872818, -1.072727084159851, -1.4222962856292725, -0.9380083084106445, 0.09565062075853348, 1.0740630626678467, 1.423434853553772, 0.9390898942947388, -0.09550056606531143, -1.0740998983383179, -1.4237459897994995, -0.9399580359458923, 0.09441667795181274, 1.0731086730957031, 1.423708200454712, 0.9409736394882202, -0.09251036494970322, -1.0711662769317627, -1.4225562810897827, -0.9410842657089233, 0.09056789427995682, 1.0687319040298462, 1.4213122129440308, 0.9411678314208984, -0.08904751390218735, -1.0665571689605713, -1.4192384481430054, -0.9408082365989685, 0.08826605975627899, 1.0647026300430298, 1.4171912670135498, 0.9391700625419617, -0.08893914520740509, -1.0639489889144897, -1.4145382642745972, -0.9359882473945618, 0.09011361747980118, 1.062139868736267, 1.4110593795776367, 0.9329560399055481, -0.0908118486404419, -1.059740424156189, -1.4073883295059204, -0.9308366775512695, 0.09006477147340775, 1.0575151443481445, 1.4054244756698608, 0.9307654500007629, -0.08861928433179855, -1.055932879447937, -1.4051448106765747, -0.9316937327384949, 0.08762330561876297, 1.0559560060501099, 1.4061464071273804, 0.9333527088165283, -0.08633730560541153, -1.0558421611785889, -1.4077961444854736, -0.9360735416412354, 0.08437426388263702, 1.0564762353897095, 1.4111415147781372, 0.9401938319206238, -0.08249437063932419, -1.0582654476165771, -1.4157371520996094, -0.9442312717437744, 0.08154314756393433, 1.061155080795288, 1.420923113822937, 0.9482346773147583, -0.08106718957424164, -1.0639876127243042, -1.425010085105896, -0.9513790607452393, 0.08012420684099197, 1.0663179159164429, 1.4287419319152832, 0.9545895457267761, -0.07924498617649078, -1.0681185722351074, -1.431997537612915, -0.9572699666023254, 0.07918893545866013, 1.070692777633667, 1.4355695247650146, 0.9589729309082031, -0.08017631620168686, -1.0733510255813599, -1.4379544258117676, -0.9590111374855042, 0.08209047466516495, 1.0754477977752686, 1.438106656074524, 0.9575669765472412, -0.08459579199552536, -1.0765128135681152, -1.4372142553329468, -0.9549105167388916, 0.08638128638267517, 1.0769410133361816, 1.435497522354126, 0.9530670046806335, -0.08756384998559952, -1.0765128135681152, -1.434091329574585, -0.9514486789703369, 0.08816742897033691, 1.0757123231887817, 1.4326995611190796, 0.950685977935791, -0.08782593905925751, -1.0744493007659912, -1.431758165359497, -0.9512049555778503, 0.0860661119222641, 1.0732016563415527, 1.4326809644699097, 0.9539976716041565, -0.08253863453865051, -1.0719083547592163, -1.4344241619110107, -0.9578902125358582, 0.0793142169713974, 1.0711259841918945, 1.4368253946304321, 0.9622606635093689, -0.07538361102342606, -1.0696892738342285, -1.4384483098983765, -0.9659463763237, 0.0717385858297348, 1.0676684379577637, 1.439401626586914, 0.9689729809761047, -0.0679929256439209, -1.065834403038025, -1.4400646686553955, -0.9710824489593506, 0.06628933548927307, 1.064859390258789, 1.439971685409546, 0.9712132811546326, -0.06664659082889557, -1.0652849674224854, -1.4389327764511108, -0.9681897759437561, 0.06961548328399658, 1.065638780593872, 1.4359362125396729, 0.963711678981781, -0.07321000099182129, -1.0657494068145752, -1.4317879676818848, -0.9585309624671936, 0.07603084295988083, 1.0646722316741943, 1.4284989833831787, 0.9552608132362366, -0.07786301523447037, -1.0649991035461426, -1.4277626276016235, -0.9537543058395386, 0.08025604486465454, 1.0674241781234741, 1.4290422201156616, 0.9522271752357483, -0.08385305106639862, -1.0714582204818726, -1.4306690692901611, -0.9498988389968872, 0.0885934978723526, 1.075716495513916, 1.4313316345214844, 0.9475679397583008, -0.09188244491815567, -1.0776809453964233, -1.4317002296447754, -0.9465621113777161, 0.09431056678295135, 1.0799416303634644, 1.4325741529464722, 0.9454413056373596, -0.09598486870527267, -1.080957055091858, -1.431985855102539, -0.943156898021698, 0.0975257083773613, 1.079813838005066, 1.4281069040298462, 0.939741849899292, -0.09734499454498291, -1.0748997926712036, -1.4213918447494507, -0.935825526714325, 0.09543652832508087, 1.068790316581726, 1.4146274328231812, 0.9336540699005127, -0.09220335632562637, -1.0627058744430542, -1.4097696542739868, -0.9318353533744812, 0.09061706811189651, 1.058298110961914, 1.4060825109481812, 0.9303239583969116, -0.0896771103143692, -1.0563292503356934, -1.4033159017562866, -0.928131639957428, 0.09032562375068665, 1.055206537246704, 1.4020354747772217, 0.9270451068878174, -0.09074915200471878, -1.0555628538131714, -1.4020406007766724, -0.9268258810043335, 0.0919356718659401, 1.0573914051055908, 1.4032412767410278, 0.9268336296081543, -0.0936211422085762, -1.0598618984222412, -1.4055854082107544, -0.9273310899734497, 0.09506861865520477, 1.0629515647888184, 1.4088060855865479, 0.9295738339424133, -0.0953725203871727, -1.0661026239395142, -1.4134488105773926, -0.9330708384513855, 0.09579819440841675, 1.071312665939331, 1.4209576845169067, 0.9377537965774536, -0.09705951809883118, -1.0778307914733887, -1.4283545017242432, -0.9413555860519409, 0.09983557462692261, 1.0851023197174072, 1.4357502460479736, 0.9441242814064026, -0.1025572195649147, -1.0909905433654785, -1.4404462575912476, -0.945305585861206, 0.10529077053070068, 1.0952212810516357, 1.4434311389923096, 0.9452886581420898, -0.107648104429245, -1.097701907157898, -1.44380521774292, -0.9430052042007446, 0.11053407937288284, 1.0983980894088745, 1.4406588077545166, 0.9385361671447754, -0.11218314617872238, -1.0952855348587036, -1.4346081018447876, -0.9335623979568481, 0.11219026893377304, 1.0893824100494385, 1.42689049243927, 0.9295304417610168, -0.10934682935476303, -1.080965518951416, -1.419062852859497, -0.927190899848938, 0.10444212704896927, 1.0727249383926392, 1.4123762845993042, 0.9264085292816162, -0.09993822127580643, -1.0655410289764404, -1.406302571296692, -0.9252806901931763, 0.09543143212795258, 1.0580734014511108, 1.4009612798690796, 0.9246371984481812, -0.09078603237867355, -1.0519260168075562, -1.39755380153656, -0.9259830117225647, 0.08688485622406006, 1.0484755039215088, 1.396832823753357, 0.9276931285858154, -0.08490271121263504, -1.0477087497711182, -1.3971940279006958, -0.9284799695014954, 0.08438793569803238, 1.0477895736694336, 1.397400975227356, 0.9293377995491028, -0.0832655131816864, -1.0474733114242554, -1.398681640625, -0.9315118789672852, 0.08181092143058777, 1.0484544038772583, 1.4026802778244019, 0.9360175132751465, -0.08025108277797699, -1.0513485670089722, -1.408032774925232, -0.9413980841636658, 0.07850384712219238, 1.0551695823669434, 1.4157631397247314, 0.9478595852851868, -0.07692044973373413, -1.059276819229126, -1.4234719276428223, -0.9544228315353394, 0.07528056204319, 1.0634384155273438, 1.4307725429534912, 0.9603075385093689, -0.07373696565628052, -1.066044807434082, -1.4350377321243286, -0.9640653133392334, 0.07166274636983871, 1.066243052482605, 1.4368466138839722, 0.9661511778831482, -0.06930997222661972, -1.06338632106781, -1.4343208074569702, -0.9656897187232971, 0.06682497262954712, 1.0582157373428345, 1.428741693496704, 0.9639734625816345, -0.06298580765724182, -1.0502194166183472, -1.421586513519287, -0.9615316987037659, 0.058692000806331635, 1.0419647693634033, 1.4146524667739868, 0.9598482847213745, -0.0545516237616539, -1.0349385738372803, -1.4083914756774902, -0.9578186273574829, 0.05158333480358124, 1.0290991067886353, 1.4032224416732788, 0.9558609127998352, -0.05023668333888054, -1.0258091688156128, -1.399876356124878, -0.9537580013275146, 0.051411110907793045, 1.0251985788345337, 1.3971292972564697, 0.9497942924499512, -0.05390449985861778, -1.0250242948532104, -1.3943443298339844, -0.9461686015129089, 0.05595559626817703, 1.0250812768936157, 1.3934223651885986, 0.9451306462287903, -0.05701896920800209, -1.0269125699996948, -1.3956266641616821, -0.9467236995697021, 0.05853228643536568, 1.0317004919052124, 1.4015896320343018, 0.949452817440033, -0.06123880296945572, -1.039237380027771, -1.4090291261672974, -0.9525306820869446, 0.06513114273548126, 1.0476102828979492, 1.417720079421997, 0.9561282992362976, -0.06858097016811371, -1.0565818548202515, -1.4270153045654297, -0.9599829912185669, 0.07222104072570801, 1.0651273727416992, 1.4357925653457642, 0.9641661047935486, -0.07473050057888031, -1.0726723670959473, -1.4430679082870483, -0.9674084782600403, 0.07713983207941055, 1.0779093503952026, 1.4480892419815063, 0.9694418907165527, -0.07810991257429123, -1.0799636840820312, -1.4490607976913452, -0.9691934585571289, 0.07733993977308273, 1.078511118888855, 1.4472081661224365, 0.9690560698509216, -0.07472606003284454, -1.0732682943344116, -1.442645788192749, -0.9682257771492004, 0.07140497863292694, 1.0673869848251343, 1.4370180368423462, 0.9660745859146118, -0.06899002939462662, -1.0607125759124756, -1.4295895099639893, -0.961100161075592, 0.06792451441287994, 1.0542443990707397, 1.4210566282272339, 0.9560850262641907, -0.06722591817378998, -1.0483702421188354, -1.4131412506103516, -0.9500352144241333, 0.06863836944103241, 1.0445743799209595, 1.4066216945648193, 0.9437330365180969, -0.07070627808570862, -1.0425550937652588, -1.4015753269195557, -0.9389460682868958, 0.07351896166801453, 1.0420528650283813, 1.399657130241394, 0.9366315603256226, -0.07562334090471268, -1.0438884496688843, -1.4008948802947998, -0.93635493516922, 0.07839559763669968, 1.0487682819366455, 1.4056224822998047, 0.9380539059638977, -0.08136573433876038, -1.0557373762130737, -1.4127484560012817, -0.9406534433364868, 0.08538410067558289, 1.063286304473877, 1.419180154800415, 0.9432809352874756, -0.0871586725115776, -1.067972183227539, -1.4249305725097656, -0.947455883026123, 0.08601825684309006, 1.0710749626159668, 1.4309642314910889, 0.9541431069374084, -0.0817723423242569, -1.0722647905349731, -1.4369653463363647, -0.9613130688667297, 0.07715721428394318, 1.0723278522491455, 1.4414641857147217, 0.9679813385009766, -0.07248564809560776, -1.0710400342941284, -1.4436695575714111, -0.972557783126831, 0.06745696812868118, 1.0681036710739136, 1.4443809986114502, 0.9759355187416077, -0.0626542791724205, -1.0647183656692505, -1.4433892965316772, -0.977372944355011, 0.059935055673122406, 1.061368703842163, 1.440653681755066, 0.976518452167511, -0.058732252568006516, -1.0585657358169556, -1.4370304346084595, -0.9735203981399536, 0.05992225185036659, 1.0564863681793213, 1.4327051639556885, 0.9684139490127563, -0.06303709745407104, -1.0559300184249878, -1.4285392761230469, -0.9620417356491089, 0.06886228173971176, 1.0576822757720947, 1.4241896867752075, 0.9537202715873718, -0.07644642144441605, -1.060524821281433, -1.4199934005737305, -0.9442606568336487, 0.08548115938901901, 1.063156008720398, 1.4152153730392456, 0.9352643489837646, -0.09287198632955551, -1.0652482509613037, -1.410860300064087, -0.9282063245773315, 0.09854219108819962, 1.0668044090270996, 1.4086641073226929, 0.924161970615387, -0.10187080502510071, -1.0681641101837158, -1.4076484441757202, -0.9224586486816406, 0.10278742760419846, 1.0680689811706543, 1.4079017639160156, 0.9239046573638916, -0.10037554055452347, -1.066114068031311, -1.4091601371765137, -0.928934633731842, 0.0941067487001419, 1.0628057718276978, 1.4122768640518188, 0.9375745058059692, -0.08477383852005005, -1.0596095323562622, -1.417567491531372, -0.9484695792198181, 0.07560243457555771, 1.0581012964248657, 1.424554467201233, 0.9594037532806396, -0.06781461834907532, -1.0577548742294312, -1.4315977096557617, -0.9685379862785339, 0.0625535249710083, 1.0592862367630005, 1.437738299369812, 0.9747682213783264, -0.06016440689563751, -1.0612155199050903, -1.4419875144958496, -0.9779094457626343, 0.0602838359773159, 1.0644789934158325, 1.444750428199768, 0.9773826599121094, -0.06376052647829056, -1.0681570768356323, -1.4456013441085815, -0.9738917946815491, 0.06992120295763016, 1.0726215839385986, 1.4447803497314453, 0.9676401019096375, -0.07778424769639969, -1.0770046710968018, -1.4420415163040161, -0.9587758779525757, 0.08730487525463104, 1.0809803009033203, 1.4376416206359863, 0.9483961462974548, -0.09778118133544922, -1.0844240188598633, -1.430845022201538, -0.9353741407394409, 0.1084604561328888, 1.0848309993743896, 1.421062707901001, 0.922081470489502, -0.11572602391242981, -1.0818347930908203, -1.4101808071136475, -0.9111332893371582, 0.11955852806568146, 1.0764076709747314, 1.400808334350586, 0.9042307734489441, -0.11984314024448395, -1.0709253549575806, -1.3938535451889038, -0.901265561580658, 0.1172453910112381, 1.0656154155731201, 1.3910465240478516, 0.9030963182449341, -0.1121046170592308, -1.0618034601211548, -1.3922662734985352, -0.9096333384513855, 0.10470332205295563, 1.059973120689392, 1.3984026908874512, 0.9202404618263245, -0.09717243164777756, -1.0609248876571655, -1.4076176881790161, -0.9324615001678467, 0.0896051749587059, 1.0634219646453857, 1.4187543392181396, 0.9454184770584106, -0.08331681787967682, -1.0677846670150757, -1.4306442737579346, -0.9570354223251343, 0.07886194437742233, 1.073428988456726, 1.4429155588150024, 0.9675273895263672, -0.07747222483158112, -1.0806739330291748, -1.4532723426818848, -0.9741464853286743, 0.0782710611820221, 1.0880458354949951, 1.461159348487854, 0.9774063229560852, -0.08146960288286209, -1.093990683555603, -1.465742826461792, -0.9771556854248047, 0.08588048815727234, 1.0990090370178223, 1.467611312866211, 0.9746253490447998, -0.09056778252124786, -1.1023240089416504, -1.466830849647522, -0.9697772264480591, 0.09617719054222107, 1.1044607162475586, 1.4629732370376587, 0.9619864821434021, -0.1017688512802124, -1.1033505201339722, -1.455045461654663, -0.9529625773429871, 0.10595980286598206, 1.0988609790802002, 1.4446557760238647, 0.9434394240379333, -0.10756143927574158, -1.0910717248916626, -1.4327000379562378, -0.9354079365730286, 0.106678307056427, 1.0821688175201416, 1.4222562313079834, 0.9297928214073181, -0.10387598723173141, -1.0731914043426514, -1.413110613822937, -0.9261912703514099, 0.10025292634963989, 1.0655038356781006, 1.4059808254241943, 0.9249727725982666, -0.0955238863825798, -1.058398962020874, -1.4011398553848267, -0.9252725839614868, 0.09040800482034683, 1.0524502992630005, 1.3991777896881104, 0.9283831715583801, -0.08451053500175476, -1.0480964183807373, -1.3997197151184082, -0.9337756037712097, 0.0786680206656456, 1.0467302799224854, 1.404123067855835, 0.9404229521751404, -0.07459171116352081, -1.0480892658233643, -1.4098789691925049, -0.946696937084198, 0.07229680567979813, 1.0514647960662842, 1.4165986776351929, 0.9519681930541992, -0.07206866145133972, -1.0561670064926147, -1.4231688976287842, -0.9563437104225159, 0.07258328795433044, 1.061196208000183, 1.4290552139282227, 0.9588983654975891, -0.07448017597198486, -1.0654693841934204, -1.432526707649231, -0.9596338272094727, 0.07651039958000183, 1.0683339834213257, 1.4340866804122925, 0.9590654373168945, -0.07857105880975723, -1.0699338912963867, -1.4340319633483887, -0.9570840001106262, 0.08073708415031433, 1.0702286958694458, 1.4324543476104736, 0.9542827010154724, -0.08240678161382675, -1.0698360204696655, -1.429585337638855, -0.9508816599845886, 0.08389488607645035, 1.0682226419448853, 1.4259939193725586, 0.9479870796203613, -0.08444370329380035, -1.0663648843765259, -1.4228253364562988, -0.9456595182418823, 0.0853927806019783, 1.065474510192871, 1.4202765226364136, 0.942898690700531, -0.08622626215219498, -1.0638411045074463, -1.4172230958938599, -0.9400774836540222, 0.08736152946949005, 1.0626208782196045, 1.414728045463562, 0.937556803226471, -0.08823709189891815, -1.060955286026001, -1.411363959312439, -0.9347018599510193, 0.08929375559091568, 1.0595180988311768, 1.407731056213379, 0.9317979216575623, -0.08911725878715515, -1.0563254356384277, -1.4038606882095337, -0.9293602705001831, 0.08845177292823792, 1.0529567003250122, 1.4009162187576294, 0.928533136844635, -0.08651619404554367, -1.0502854585647583, -1.3992818593978882, -0.9291263222694397, 0.08457683771848679, 1.0489193201065063, 1.3996293544769287, 0.930584192276001, -0.08363476395606995, -1.0487195253372192, -1.4001903533935547, -0.9317842721939087, 0.0827183723449707, 1.0495518445968628, 1.401995301246643, 0.9341108202934265, -0.08161291480064392, -1.0503257513046265, -1.4050475358963013, -0.9371253848075867, 0.08084322512149811, 1.0531774759292603, 1.4100788831710815, 0.9419752359390259, -0.07979531586170197, -1.057264804840088, -1.4172570705413818, -0.9472118616104126, 0.07988407462835312, 1.0628656148910522, 1.4255422353744507, 0.9530104398727417, -0.0797775611281395, -1.0693563222885132, -1.4346827268600464, -0.959253191947937, 0.08009323477745056, 1.0762604475021362, 1.443941593170166, 0.9652664661407471, -0.0810319036245346, -1.0833748579025269, -1.4523837566375732, -0.9699597954750061, 0.08291462808847427, 1.0895452499389648, 1.4583853483200073, 0.9721713662147522, -0.08536636084318161, -1.0940839052200317, -1.4615073204040527, -0.9720830321311951, 0.0880466103553772, 1.0967683792114258, 1.4616403579711914, 0.9692989587783813, -0.09119486808776855, -1.0971437692642212, -1.4587762355804443, -0.9646303653717041, 0.09447294473648071, 1.0964444875717163, 1.4537334442138672, 0.9582686424255371, -0.09779275208711624, -1.0942747592926025, -1.4473819732666016, -0.9510295391082764, 0.10098320990800858, 1.0915323495864868, 1.440093755722046, 0.9441341757774353, -0.10339459776878357, -1.0876061916351318, -1.4329887628555298, -0.9385587573051453, 0.10409034043550491, 1.083601713180542, 1.4274741411209106, 0.9352273344993591, -0.10364392399787903, -1.080268144607544, -1.4235451221466064, -0.9337446093559265, 0.10192038863897324, 1.077104926109314, 1.4217416048049927, 0.934769868850708, -0.09846650809049606, -1.074168086051941, -1.4211692810058594, -0.9371738433837891, 0.09443151950836182, 1.0711143016815186, 1.4222402572631836, 0.9415188431739807, -0.08980204164981842, -1.069101095199585, -1.423738956451416, -0.9458011388778687, 0.08527115732431412, 1.066908836364746, 1.425257682800293, 0.9504496455192566, -0.08059372007846832, -1.065346598625183, -1.4274882078170776, -0.9544782638549805, 0.077422596514225, 1.0653223991394043, 1.4300944805145264, 0.9573605060577393, -0.07636044174432755, -1.066329002380371, -1.4321482181549072, -0.9585461616516113, 0.07714392244815826, 1.0684207677841187, 1.4334428310394287, 0.9583520889282227, -0.07964592427015305, -1.0711414813995361, -1.4348605871200562, -0.9568989872932434, 0.08372894674539566, 1.0753095149993896, 1.436149001121521, 0.9538605213165283, -0.08915428072214127, -1.0796232223510742, -1.436152458190918, -0.9490523338317871, 0.09566555917263031, 1.0840073823928833, 1.4350354671478271, 0.9428936839103699, -0.10229654610157013, -1.0868375301361084, -1.431828260421753, -0.9357835054397583, 0.10929418355226517, 1.0880773067474365, 1.4263988733291626, 0.9271696209907532, -0.11437243968248367, -1.0863686800003052, -1.4191874265670776, -0.9193564057350159, 0.11761046946048737, 1.0830167531967163, 1.4112833738327026, 0.9127183556556702, -0.11851702630519867, -1.0775234699249268, -1.4035820960998535, -0.9079189896583557, 0.11696849763393402, 1.070923924446106, 1.3964827060699463, 0.905903160572052, -0.11347582936286926, -1.0643959045410156, -1.3919696807861328, -0.9065194725990295, 0.10819447785615921, 1.0590840578079224, 1.390756607055664, 0.9097126126289368, -0.10258836299180984, -1.055803656578064, -1.3931492567062378, -0.9159525632858276, 0.09776812046766281, 1.0557018518447876, 1.398398995399475, 0.9232491254806519, -0.09410200268030167, -1.058889627456665, -1.406374454498291, -0.9305086135864258, 0.09267064929008484, 1.0646429061889648, 1.4152613878250122, 0.9365752935409546, -0.09304202347993851, -1.071524977684021, -1.4240087270736694, -0.9415509700775146, 0.09466519951820374, 1.0790847539901733, 1.4327229261398315, 0.9458292126655579, -0.09754140675067902, -1.0870389938354492, -1.4401458501815796, -0.9485254883766174, 0.10165879875421524, 1.0950772762298584, 1.446467638015747, 0.9490256309509277, -0.10677853971719742, -1.1013778448104858, -1.4499748945236206, -0.9477009773254395, 0.11190833151340485, 1.1058833599090576, 1.450914740562439, 0.9448367953300476, -0.11601383984088898, -1.1079334020614624, -1.449745774269104, -0.9414557814598083, 0.11826612055301666, 1.1073222160339355, 1.4463614225387573, 0.9385021924972534, -0.11784271895885468, -1.1034960746765137, -1.4425712823867798, -0.9375724196434021, 0.1145252212882042, 1.0980708599090576, 1.4387973546981812, 0.9381756782531738, -0.10978329926729202, -1.0917596817016602, -1.4346321821212769, -0.9392161965370178, 0.1035255566239357, 1.0838664770126343, 1.4302977323532104, 0.941490650177002, -0.09540005028247833, -1.0745024681091309, -1.425579309463501, -0.9452666640281677, 0.08565137535333633, 1.0653178691864014, 1.4233331680297852, 0.9513896703720093, -0.0754995048046112, -1.0582377910614014, -1.4236942529678345, -0.957561731338501, 0.06842037290334702, 1.0552164316177368, 1.4250649213790894, 0.9612014889717102, -0.06552805006504059, -1.0538408756256104, -1.4254156351089478, -0.9626203775405884, 0.06422992795705795, 1.053553581237793, 1.426392674446106, 0.9634590148925781, -0.06438854336738586, -1.0550744533538818, -1.427849531173706, -0.9633373022079468, 0.06697797030210495, 1.059118628501892, 1.4304925203323364, 0.9623053073883057, -0.0714852437376976, -1.0639944076538086, -1.4328442811965942, -0.9604695439338684, 0.0762624591588974, 1.0696229934692383, 1.436131477355957, 0.9595632553100586, -0.0808793306350708, -1.07461678981781, -1.4387438297271729, -0.9585024118423462, 0.08473625779151917, 1.0791704654693604, 1.4410728216171265, 0.9577525854110718, -0.08706040680408478, -1.0807886123657227, -1.4413726329803467, -0.9576012492179871, 0.08700332790613174, 1.0803146362304688, 1.4409691095352173, 0.9576796889305115, -0.0857371911406517, -1.0779818296432495, -1.4388258457183838, -0.9572568535804749, 0.0837363600730896, 1.0748014450073242, 1.4356000423431396, 0.9561349153518677, -0.08169679343700409, -1.0698342323303223, -1.4301072359085083, -0.9529397487640381, 0.08020509779453278, 1.0637338161468506, 1.4223443269729614, 0.9489582180976868, -0.07763136923313141, -1.0558828115463257, -1.4147202968597412, -0.9455210566520691, 0.07503174245357513, 1.0494499206542969, 1.4086607694625854, 0.9430702924728394, -0.07360296696424484, -1.0450527667999268, -1.4035648107528687, -0.9396735429763794, 0.07368100434541702, 1.0425621271133423, 1.3991373777389526, 0.9359084367752075, -0.07500054687261581, -1.040041208267212, -1.395076870918274, -0.9325966835021973, 0.07518604397773743, 1.0385522842407227, 1.3934338092803955, 0.9323880672454834, -0.07474454492330551, -1.0388559103012085, -1.3954380750656128, -0.934497594833374, 0.07557989656925201, 1.043386697769165, 1.4010670185089111, 0.936168909072876, -0.08014529198408127, -1.0510332584381104, -1.4056671857833862, -0.9345404505729675, 0.085873082280159, 1.0575865507125854, 1.4092271327972412, 0.9335910081863403, -0.09082085639238358, -1.0631242990493774, -1.4122737646102905, -0.9331429600715637, 0.09455851465463638, 1.0681354999542236, 1.4163492918014526, 0.9342303276062012, -0.09686587005853653, -1.0729708671569824, -1.4216172695159912, -0.9366766810417175, 0.09899214655160904, 1.0784097909927368, 1.4273405075073242, 0.9393578767776489, -0.1008540615439415, -1.0833253860473633, -1.431815505027771, -0.9408178329467773, 0.10203809291124344, 1.0860517024993896, 1.4350992441177368, 0.94404536485672, -0.10039627552032471, -1.087092638015747, -1.4386777877807617, -0.9484910368919373, 0.09769318997859955, 1.0880545377731323, 1.4420710802078247, 0.9524030089378357, -0.09497454762458801, -1.0871176719665527, -1.4425644874572754, -0.9538805484771729, 0.09245790541172028, 1.0832509994506836, 1.439151644706726, 0.9537776708602905, -0.08772967755794525, -1.0753400325775146, -1.4318994283676147, -0.9515119791030884, 0.08281239122152328, 1.0648770332336426, 1.4215842485427856, 0.9470515847206116, -0.0777786523103714, -1.052886962890625, -1.4086034297943115, -0.940532386302948, 0.07423795759677887, 1.0411179065704346, 1.396039366722107, 0.9343153238296509, -0.07271753251552582, -1.0342789888381958, -1.3875187635421753, -0.9262365698814392, 0.07796438783407211, 1.0341639518737793, 1.3807779550552368, 0.9156104326248169, -0.08683829009532928, -1.036800742149353, -1.3761852979660034, -0.9057627320289612, 0.0969477966427803, 1.042615532875061, 1.3751277923583984, 0.8994860649108887, -0.10579308867454529, -1.0502235889434814, -1.3791236877441406, -0.8977578282356262, 0.11285969614982605, 1.0598258972167969, 1.3873590230941772, 0.9000237584114075, -0.11750396341085434, -1.069807529449463, -1.3976171016693115, -0.9057118892669678, 0.11984959989786148, 1.07906973361969, 1.4087984561920166, 0.9137967824935913, -0.11839510500431061, -1.0848242044448853, -1.4194931983947754, -0.9246312975883484, 0.11259792745113373, 1.0874987840652466, 1.4302903413772583, 0.9391159415245056, -0.10288703441619873, -1.0881075859069824, -1.4404209852218628, -0.9528905749320984, 0.09225215762853622, 1.085455060005188, 1.4464948177337646, 0.9645779132843018, -0.07987019419670105, -1.0777066946029663, -1.4474648237228394, -0.9737236499786377, 0.0663319081068039, 1.066403865814209, 1.443084478378296, 0.9791392087936401, -0.053964655846357346, -1.0526503324508667, -1.4346638917922974, -0.9788869023323059, 0.04624329134821892, 1.03935968875885, 1.4207876920700073, 0.9711068272590637, -0.04301731660962105, -1.0263887643814087, -1.4040089845657349, -0.9581958055496216, 0.045788127928972244, 1.0179972648620605, 1.388067364692688, 0.9421411156654358, -0.054681334644556046, -1.0152485370635986, -1.3757922649383545, -0.9255751967430115, 0.0683874860405922, 1.0207147598266602, 1.3700339794158936, 0.910552442073822, -0.08670604228973389, -1.0339667797088623, -1.3717538118362427, -0.899771511554718, 0.10644271224737167, 1.0539562702178955, 1.3819799423217773, 0.8937467336654663, -0.12608051300048828, -1.077426791191101, -1.3976755142211914, -0.8942162394523621, 0.14052754640579224, 1.0997782945632935, 1.4182366132736206, 0.9039333462715149, -0.1464090645313263, -1.1197021007537842, -1.4429415464401245, -0.9216936826705933, 0.14506906270980835, 1.135376214981079, 1.4680233001708984, 0.9434002637863159, -0.13641728460788727, -1.1433900594711304, -1.487932562828064, -0.9666154980659485, 0.12084251642227173, 1.1416730880737305, 1.5004401206970215, 0.9875589609146118, -0.09966059029102325, -1.128725528717041, -1.5022023916244507, -1.0036896467208862, 0.07548032701015472, 1.1072006225585938, 1.4928778409957886, 1.012444019317627, -0.05153143033385277, -1.078338384628296, -1.473278522491455, -1.012160301208496, 0.031145107001066208, 1.0475387573242188, 1.4472756385803223, 1.003371238708496, -0.018329789862036705, -1.0191549062728882, -1.4174067974090576, -0.9860339760780334, 0.015548627823591232, 0.998116135597229, 1.3878566026687622, 0.9621520042419434, -0.022727835923433304, -0.9850732684135437, -1.3615443706512451, -0.93595951795578, 0.036567553877830505, 0.9817451238632202, 1.3443089723587036, 0.91377192735672, -0.054780371487140656, -0.9895785450935364, -1.3393474817276, -0.8975449204444885, 0.07652100920677185, 1.008666753768921, 1.3478978872299194, 0.8904656171798706, -0.09791519492864609, -1.0364874601364136, -1.368760347366333, -0.8929922580718994, 0.11755073070526123, 1.0696240663528442, 1.3995648622512817, 0.9042535424232483, -0.13255858421325684, -1.103426218032837, -1.4341398477554321, -0.9221076369285583, 0.14022676646709442, 1.1319186687469482, 1.4689723253250122, 0.9457219243049622, -0.13854289054870605, -1.1522101163864136, -1.5001604557037354, -0.9720654487609863, 0.12894941866397858, 1.163372278213501, 1.5247448682785034, 0.9975986480712891, -0.1145632416009903, -1.1640537977218628, -1.5375516414642334, -1.0155969858169556, 0.09822018444538116, 1.15350341796875, 1.5352708101272583, 1.023521900177002, -0.08060229569673538, -1.1305105686187744, -1.5168143510818481, -1.0203747749328613, 0.06310369074344635, 1.0982221364974976, 1.4855314493179321, 1.0079727172851562, -0.04755335673689842, -1.061301827430725, -1.4464638233184814, -0.9879565238952637, 0.037409842014312744, 1.0266070365905762, 1.405465841293335, 0.9614914059638977, -0.03619513288140297, -0.9991578459739685, -1.365425944328308, -0.9295321702957153, 0.04400826618075371, 0.9797042608261108, 1.330588698387146, 0.8975564241409302, -0.05718260258436203, -0.969491183757782, -1.3050191402435303, -0.8708054423332214, 0.0736471638083458, 0.9709774851799011, 1.2942372560501099, 0.853717565536499, -0.09074048697948456, -0.9834822416305542, -1.2989732027053833, -0.8480892181396484, 0.10792168974876404, 1.0072089433670044, 1.3191726207733154, 0.8534339070320129, -0.12299492955207825, -1.038131833076477, -1.35000479221344, -0.8675664067268372, 0.13450095057487488, 1.0707588195800781, 1.3871368169784546, 0.8897884488105774, -0.13897138833999634, -1.0998719930648804, -1.426447868347168, -0.9186668395996094, 0.13531263172626495, 1.1228901147842407, 1.4639041423797607, 0.9513353109359741, -0.12413723021745682, -1.1383169889450073, -1.4965312480926514, -0.9834225177764893, 0.10889163613319397, 1.1458289623260498, 1.5201787948608398, 1.0091508626937866, -0.0930154025554657, -1.1444989442825317, -1.5302586555480957, -1.0244126319885254, 0.07852162420749664, 1.1341814994812012, 1.5263941287994385, 1.0288043022155762, -0.06594283133745193, -1.116448998451233, -1.5099647045135498, -1.021247386932373, 0.05828322842717171, 1.0944900512695312, 1.4830535650253296, 1.0033644437789917, -0.05574328452348709, -1.0704649686813354, -1.4491078853607178, -0.9783172607421875, 0.05756011977791786, 1.047836184501648, 1.4140037298202515, 0.9497594833374023, -0.06458490341901779, -1.0304899215698242, -1.3825109004974365, -0.9203291535377502, 0.07799098640680313, 1.0214970111846924, 1.3566614389419556, 0.8915351033210754, -0.09492581337690353, -1.0194010734558105, -1.338750958442688, -0.867918848991394, 0.11262523382902145, 1.0241185426712036, 1.3312125205993652, 0.8538025617599487, -0.12678192555904388, -1.0346498489379883, -1.335490345954895, -0.8508473038673401, 0.13755939900875092, 1.0508772134780884, 1.3513010740280151, 0.859245777130127, -0.14207759499549866, -1.0682158470153809, -1.3756129741668701, -0.8783610463142395, 0.1397399604320526, 1.086226463317871, 1.4062011241912842, 0.9056141376495361, -0.1308380514383316, -1.1016006469726562, -1.4376858472824097, -0.9365327954292297, 0.11644910275936127, 1.1118720769882202, 1.4669325351715088, 0.9687579870223999, -0.09855876863002777, -1.116075038909912, -1.4893815517425537, -0.9964343905448914, 0.07940257340669632, 1.113586664199829, 1.5022550821304321, 1.0177018642425537, -0.060131534934043884, -1.1032127141952515, -1.5043456554412842, -1.0299681425094604, 0.04239802435040474, 1.0873044729232788, 1.4968937635421753, 1.0335875749588013, -0.029170973226428032, -1.0693622827529907, -1.4809166193008423, -1.0266056060791016, 0.023434806615114212, 1.0524431467056274, 1.4589412212371826, 1.0099468231201172, -0.026229199022054672, -1.0383338928222656, -1.4334616661071777, -0.9849462509155273, 0.03749862685799599, 1.0294809341430664, 1.408159852027893, 0.9551390409469604, -0.0566280335187912, -1.0278373956680298, -1.385622262954712, -0.9231017827987671, 0.08216559886932373, 1.0331745147705078, 1.368353009223938, 0.8931271433830261, -0.1093805655837059, -1.0441826581954956, -1.358940839767456, -0.8690831065177917, 0.1354324221611023, 1.0600630044937134, 1.3584353923797607, 0.8533757328987122, -0.15704886615276337, -1.077689290046692, -1.3641506433486938, -0.8467814326286316, 0.17100103199481964, 1.0921621322631836, 1.3751236200332642, 0.8522892594337463, -0.17224489152431488, -1.1016781330108643, -1.391782283782959, -0.8701794743537903, 0.16254514455795288, 1.106662631034851, 1.4113644361495972, 0.895408034324646, -0.14454342424869537, -1.1058320999145508, -1.4288973808288574, -0.9233222007751465, 0.12011576443910599, 1.0972248315811157, 1.4416942596435547, 0.9516110420227051, -0.09092815965414047, -1.082361102104187, -1.448731780052185, -0.9772809743881226, 0.06007568538188934, 1.0632938146591187, 1.450740933418274, 0.9982258677482605, -0.03216679394245148, -1.0431032180786133, -1.4481685161590576, -1.0122456550598145, 0.010963323526084423, 1.0259971618652344, 1.4418538808822632, 1.0170087814331055, 0.0006742797559127212, -1.0129715204238892, -1.4318095445632935, -1.0121231079101562, -0.001692816847935319, 1.0058459043502808, 1.4201914072036743, 1.0000240802764893, -0.0059528169222176075, -1.0049015283584595, -1.4094640016555786, -0.9832456707954407, 0.021352604031562805, 1.011616587638855, 1.4027858972549438, 0.9646288752555847, -0.04346948862075806, -1.0254666805267334, -1.4069569110870361, -0.9254324436187744, 0.027792029082775116, 1.148683786392212], 'attention_mask': [1, 1, 1, 1, 1, 1, 1, 1, 1, 1, 1, 1, 1, 1, 1, 1, 1, 1, 1, 1, 1, 1, 1, 1, 1, 1, 1, 1, 1, 1, 1, 1, 1, 1, 1, 1, 1, 1, 1, 1, 1, 1, 1, 1, 1, 1, 1, 1, 1, 1, 1, 1, 1, 1, 1, 1, 1, 1, 1, 1, 1, 1, 1, 1, 1, 1, 1, 1, 1, 1, 1, 1, 1, 1, 1, 1, 1, 1, 1, 1, 1, 1, 1, 1, 1, 1, 1, 1, 1, 1, 1, 1, 1, 1, 1, 1, 1, 1, 1, 1, 1, 1, 1, 1, 1, 1, 1, 1, 1, 1, 1, 1, 1, 1, 1, 1, 1, 1, 1, 1, 1, 1, 1, 1, 1, 1, 1, 1, 1, 1, 1, 1, 1, 1, 1, 1, 1, 1, 1, 1, 1, 1, 1, 1, 1, 1, 1, 1, 1, 1, 1, 1, 1, 1, 1, 1, 1, 1, 1, 1, 1, 1, 1, 1, 1, 1, 1, 1, 1, 1, 1, 1, 1, 1, 1, 1, 1, 1, 1, 1, 1, 1, 1, 1, 1, 1, 1, 1, 1, 1, 1, 1, 1, 1, 1, 1, 1, 1, 1, 1, 1, 1, 1, 1, 1, 1, 1, 1, 1, 1, 1, 1, 1, 1, 1, 1, 1, 1, 1, 1, 1, 1, 1, 1, 1, 1, 1, 1, 1, 1, 1, 1, 1, 1, 1, 1, 1, 1, 1, 1, 1, 1, 1, 1, 1, 1, 1, 1, 1, 1, 1, 1, 1, 1, 1, 1, 1, 1, 1, 1, 1, 1, 1, 1, 1, 1, 1, 1, 1, 1, 1, 1, 1, 1, 1, 1, 1, 1, 1, 1, 1, 1, 1, 1, 1, 1, 1, 1, 1, 1, 1, 1, 1, 1, 1, 1, 1, 1, 1, 1, 1, 1, 1, 1, 1, 1, 1, 1, 1, 1, 1, 1, 1, 1, 1, 1, 1, 1, 1, 1, 1, 1, 1, 1, 1, 1, 1, 1, 1, 1, 1, 1, 1, 1, 1, 1, 1, 1, 1, 1, 1, 1, 1, 1, 1, 1, 1, 1, 1, 1, 1, 1, 1, 1, 1, 1, 1, 1, 1, 1, 1, 1, 1, 1, 1, 1, 1, 1, 1, 1, 1, 1, 1, 1, 1, 1, 1, 1, 1, 1, 1, 1, 1, 1, 1, 1, 1, 1, 1, 1, 1, 1, 1, 1, 1, 1, 1, 1, 1, 1, 1, 1, 1, 1, 1, 1, 1, 1, 1, 1, 1, 1, 1, 1, 1, 1, 1, 1, 1, 1, 1, 1, 1, 1, 1, 1, 1, 1, 1, 1, 1, 1, 1, 1, 1, 1, 1, 1, 1, 1, 1, 1, 1, 1, 1, 1, 1, 1, 1, 1, 1, 1, 1, 1, 1, 1, 1, 1, 1, 1, 1, 1, 1, 1, 1, 1, 1, 1, 1, 1, 1, 1, 1, 1, 1, 1, 1, 1, 1, 1, 1, 1, 1, 1, 1, 1, 1, 1, 1, 1, 1, 1, 1, 1, 1, 1, 1, 1, 1, 1, 1, 1, 1, 1, 1, 1, 1, 1, 1, 1, 1, 1, 1, 1, 1, 1, 1, 1, 1, 1, 1, 1, 1, 1, 1, 1, 1, 1, 1, 1, 1, 1, 1, 1, 1, 1, 1, 1, 1, 1, 1, 1, 1, 1, 1, 1, 1, 1, 1, 1, 1, 1, 1, 1, 1, 1, 1, 1, 1, 1, 1, 1, 1, 1, 1, 1, 1, 1, 1, 1, 1, 1, 1, 1, 1, 1, 1, 1, 1, 1, 1, 1, 1, 1, 1, 1, 1, 1, 1, 1, 1, 1, 1, 1, 1, 1, 1, 1, 1, 1, 1, 1, 1, 1, 1, 1, 1, 1, 1, 1, 1, 1, 1, 1, 1, 1, 1, 1, 1, 1, 1, 1, 1, 1, 1, 1, 1, 1, 1, 1, 1, 1, 1, 1, 1, 1, 1, 1, 1, 1, 1, 1, 1, 1, 1, 1, 1, 1, 1, 1, 1, 1, 1, 1, 1, 1, 1, 1, 1, 1, 1, 1, 1, 1, 1, 1, 1, 1, 1, 1, 1, 1, 1, 1, 1, 1, 1, 1, 1, 1, 1, 1, 1, 1, 1, 1, 1, 1, 1, 1, 1, 1, 1, 1, 1, 1, 1, 1, 1, 1, 1, 1, 1, 1, 1, 1, 1, 1, 1, 1, 1, 1, 1, 1, 1, 1, 1, 1, 1, 1, 1, 1, 1, 1, 1, 1, 1, 1, 1, 1, 1, 1, 1, 1, 1, 1, 1, 1, 1, 1, 1, 1, 1, 1, 1, 1, 1, 1, 1, 1, 1, 1, 1, 1, 1, 1, 1, 1, 1, 1, 1, 1, 1, 1, 1, 1, 1, 1, 1, 1, 1, 1, 1, 1, 1, 1, 1, 1, 1, 1, 1, 1, 1, 1, 1, 1, 1, 1, 1, 1, 1, 1, 1, 1, 1, 1, 1, 1, 1, 1, 1, 1, 1, 1, 1, 1, 1, 1, 1, 1, 1, 1, 1, 1, 1, 1, 1, 1, 1, 1, 1, 1, 1, 1, 1, 1, 1, 1, 1, 1, 1, 1, 1, 1, 1, 1, 1, 1, 1, 1, 1, 1, 1, 1, 1, 1, 1, 1, 1, 1, 1, 1, 1, 1, 1, 1, 1, 1, 1, 1, 1, 1, 1, 1, 1, 1, 1, 1, 1, 1, 1, 1, 1, 1, 1, 1, 1, 1, 1, 1, 1, 1, 1, 1, 1, 1, 1, 1, 1, 1, 1, 1, 1, 1, 1, 1, 1, 1, 1, 1, 1, 1, 1, 1, 1, 1, 1, 1, 1, 1, 1, 1, 1, 1, 1, 1, 1, 1, 1, 1, 1, 1, 1, 1, 1, 1, 1, 1, 1, 1, 1, 1, 1, 1, 1, 1, 1, 1, 1, 1, 1, 1, 1, 1, 1, 1, 1, 1, 1, 1, 1, 1, 1, 1, 1, 1, 1, 1, 1, 1, 1, 1, 1, 1, 1, 1, 1, 1, 1, 1, 1, 1, 1, 1, 1, 1, 1, 1, 1, 1, 1, 1, 1, 1, 1, 1, 1, 1, 1, 1, 1, 1, 1, 1, 1, 1, 1, 1, 1, 1, 1, 1, 1, 1, 1, 1, 1, 1, 1, 1, 1, 1, 1, 1, 1, 1, 1, 1, 1, 1, 1, 1, 1, 1, 1, 1, 1, 1, 1, 1, 1, 1, 1, 1, 1, 1, 1, 1, 1, 1, 1, 1, 1, 1, 1, 1, 1, 1, 1, 1, 1, 1, 1, 1, 1, 1, 1, 1, 1, 1, 1, 1, 1, 1, 1, 1, 1, 1, 1, 1, 1, 1, 1, 1, 1, 1, 1, 1, 1, 1, 1, 1, 1, 1, 1, 1, 1, 1, 1, 1, 1, 1, 1, 1, 1, 1, 1, 1, 1, 1, 1, 1, 1, 1, 1, 1, 1, 1, 1, 1, 1, 1, 1, 1, 1, 1, 1, 1, 1, 1, 1, 1, 1, 1, 1, 1, 1, 1, 1, 1, 1, 1, 1, 1, 1, 1, 1, 1, 1, 1, 1, 1, 1, 1, 1, 1, 1, 1, 1, 1, 1, 1, 1, 1, 1, 1, 1, 1, 1, 1, 1, 1, 1, 1, 1, 1, 1, 1, 1, 1, 1, 1, 1, 1, 1, 1, 1, 1, 1, 1, 1, 1, 1, 1, 1, 1, 1, 1, 1, 1, 1, 1, 1, 1, 1, 1, 1, 1, 1, 1, 1, 1, 1, 1, 1, 1, 1, 1, 1, 1, 1, 1, 1, 1, 1, 1, 1, 1, 1, 1, 1, 1, 1, 1, 1, 1, 1, 1, 1, 1, 1, 1, 1, 1, 1, 1, 1, 1, 1, 1, 1, 1, 1, 1, 1, 1, 1, 1, 1, 1, 1, 1, 1, 1, 1, 1, 1, 1, 1, 1, 1, 1, 1, 1, 1, 1, 1, 1, 1, 1, 1, 1, 1, 1, 1, 1, 1, 1, 1, 1, 1, 1, 1, 1, 1, 1, 1, 1, 1, 1, 1, 1, 1, 1, 1, 1, 1, 1, 1, 1, 1, 1, 1, 1, 1, 1, 1, 1, 1, 1, 1, 1, 1, 1, 1, 1, 1, 1, 1, 1, 1, 1, 1, 1, 1, 1, 1, 1, 1, 1, 1, 1, 1, 1, 1, 1, 1, 1, 1, 1, 1, 1, 1, 1, 1, 1, 1, 1, 1, 1, 1, 1, 1, 1, 1, 1, 1, 1, 1, 1, 1, 1, 1, 1, 1, 1, 1, 1, 1, 1, 1, 1, 1, 1, 1, 1, 1, 1, 1, 1, 1, 1, 1, 1, 1, 1, 1, 1, 1, 1, 1, 1, 1, 1, 1, 1, 1, 1, 1, 1, 1, 1, 1, 1, 1, 1, 1, 1, 1, 1, 1, 1, 1, 1, 1, 1, 1, 1, 1, 1, 1, 1, 1, 1, 1, 1, 1, 1, 1, 1, 1, 1, 1, 1, 1, 1, 1, 1, 1, 1, 1, 1, 1, 1, 1, 1, 1, 1, 1, 1, 1, 1, 1, 1, 1, 1, 1, 1, 1, 1, 1, 1, 1, 1, 1, 1, 1, 1, 1, 1, 1, 1, 1, 1, 1, 1, 1, 1, 1, 1, 1, 1, 1, 1, 1, 1, 1, 1, 1, 1, 1, 1, 1, 1, 1, 1, 1, 1, 1, 1, 1, 1, 1, 1, 1, 1, 1, 1, 1, 1, 1, 1, 1, 1, 1, 1, 1, 1, 1, 1, 1, 1, 1, 1, 1, 1, 1, 1, 1, 1, 1, 1, 1, 1, 1, 1, 1, 1, 1, 1, 1, 1, 1, 1, 1, 1, 1, 1, 1, 1, 1, 1, 1, 1, 1, 1, 1, 1, 1, 1, 1, 1, 1, 1, 1, 1, 1, 1, 1, 1, 1, 1, 1, 1, 1, 1, 1, 1, 1, 1, 1, 1, 1, 1, 1, 1, 1, 1, 1, 1, 1, 1, 1, 1, 1, 1, 1, 1, 1, 1, 1, 1, 1, 1, 1, 1, 1, 1, 1, 1, 1, 1, 1, 1, 1, 1, 1, 1, 1, 1, 1, 1, 1, 1, 1, 1, 1, 1, 1, 1, 1, 1, 1, 1, 1, 1, 1, 1, 1, 1, 1, 1, 1, 1, 1, 1, 1, 1, 1, 1, 1, 1, 1, 1, 1, 1, 1, 1, 1, 1, 1, 1, 1, 1, 1, 1, 1, 1, 1, 1, 1, 1, 1, 1, 1, 1, 1, 1, 1, 1, 1, 1, 1, 1, 1, 1, 1, 1, 1, 1, 1, 1, 1, 1, 1, 1, 1, 1, 1, 1, 1, 1, 1, 1, 1, 1, 1, 1, 1, 1, 1, 1, 1, 1, 1, 1, 1, 1, 1, 1, 1, 1, 1, 1, 1, 1, 1, 1, 1, 1, 1, 1, 1, 1, 1, 1, 1, 1, 1, 1, 1, 1, 1, 1, 1, 1, 1, 1, 1, 1, 1, 1, 1, 1, 1, 1, 1, 1, 1, 1, 1, 1, 1, 1, 1, 1, 1, 1, 1, 1, 1, 1, 1, 1, 1, 1, 1, 1, 1, 1, 1, 1, 1, 1, 1, 1, 1, 1, 1, 1, 1, 1, 1, 1, 1, 1, 1, 1, 1, 1, 1, 1, 1, 1, 1, 1, 1, 1, 1, 1, 1, 1, 1, 1, 1, 1, 1, 1, 1, 1, 1, 1, 1, 1, 1, 1, 1, 1, 1, 1, 1, 1, 1, 1, 1, 1, 1, 1, 1, 1, 1, 1, 1, 1, 1, 1, 1, 1, 1, 1, 1, 1, 1, 1, 1, 1, 1, 1, 1, 1, 1, 1, 1, 1, 1, 1, 1, 1, 1, 1, 1, 1, 1, 1, 1, 1, 1, 1, 1, 1, 1, 1, 1, 1, 1, 1, 1, 1, 1, 1, 1, 1, 1, 1, 1, 1, 1, 1, 1, 1, 1, 1, 1, 1, 1, 1, 1, 1, 1, 1, 1, 1, 1, 1, 1, 1, 1, 1, 1, 1, 1, 1, 1, 1, 1, 1, 1, 1, 1, 1, 1, 1, 1, 1, 1, 1, 1, 1, 1, 1, 1, 1, 1, 1, 1, 1, 1, 1, 1, 1, 1, 1, 1, 1, 1, 1, 1, 1, 1, 1, 1, 1, 1, 1, 1, 1, 1, 1, 1, 1, 1, 1, 1, 1, 1, 1, 1, 1, 1, 1, 1, 1, 1, 1, 1, 1, 1, 1, 1, 1, 1, 1, 1, 1, 1, 1, 1, 1, 1, 1, 1, 1, 1, 1, 1, 1, 1, 1, 1, 1, 1, 1, 1, 1, 1, 1, 1, 1, 1, 1, 1, 1, 1, 1, 1, 1, 1, 1, 1, 1, 1, 1, 1, 1, 1, 1, 1, 1, 1, 1, 1, 1, 1, 1, 1, 1, 1, 1, 1, 1, 1, 1, 1, 1, 1, 1, 1, 1, 1, 1, 1, 1, 1, 1, 1, 1, 1, 1, 1, 1, 1, 1, 1, 1, 1, 1, 1, 1, 1, 1, 1, 1, 1, 1, 1, 1, 1, 1, 1, 1, 1, 1, 1, 1, 1, 1, 1, 1, 1, 1, 1, 1, 1, 1, 1, 1, 1, 1, 1, 1, 1, 1, 1, 1, 1, 1, 1, 1, 1, 1, 1, 1, 1, 1, 1, 1, 1, 1, 1, 1, 1, 1, 1, 1, 1, 1, 1, 1, 1, 1, 1, 1, 1, 1, 1, 1, 1, 1, 1, 1, 1, 1, 1, 1, 1, 1, 1, 1, 1, 1, 1, 1, 1, 1, 1, 1, 1, 1, 1, 1, 1, 1, 1, 1, 1, 1, 1, 1, 1, 1, 1, 1, 1, 1, 1, 1, 1, 1, 1, 1, 1, 1, 1, 1, 1, 1, 1, 1, 1, 1, 1, 1, 1, 1, 1, 1, 1, 1, 1, 1, 1, 1, 1, 1, 1, 1, 1, 1, 1, 1, 1, 1, 1, 1, 1, 1, 1, 1, 1, 1, 1, 1, 1, 1, 1, 1, 1, 1, 1, 1, 1, 1, 1, 1, 1, 1, 1, 1, 1, 1, 1, 1, 1, 1, 1, 1, 1, 1, 1, 1, 1, 1, 1, 1, 1, 1, 1, 1, 1, 1, 1, 1, 1, 1, 1, 1, 1, 1, 1, 1, 1, 1, 1, 1, 1, 1, 1, 1, 1, 1, 1, 1, 1, 1, 1, 1, 1, 1, 1, 1, 1, 1, 1, 1, 1, 1, 1, 1, 1, 1, 1, 1, 1, 1, 1, 1, 1, 1, 1, 1, 1, 1, 1, 1, 1, 1, 1, 1, 1, 1, 1, 1, 1, 1, 1, 1, 1, 1, 1, 1, 1, 1, 1, 1, 1, 1, 1, 1, 1, 1, 1, 1, 1, 1, 1, 1, 1, 1, 1, 1, 1, 1, 1, 1, 1, 1, 1, 1, 1, 1, 1, 1, 1, 1, 1, 1, 1, 1, 1, 1, 1, 1, 1, 1, 1, 1, 1, 1, 1, 1, 1, 1, 1, 1, 1, 1, 1, 1, 1, 1, 1, 1, 1, 1, 1, 1, 1, 1, 1, 1, 1, 1, 1, 1, 1, 1, 1, 1, 1, 1, 1, 1, 1, 1, 1, 1, 1, 1, 1, 1, 1, 1, 1, 1, 1, 1, 1, 1, 1, 1, 1, 1, 1, 1, 1, 1, 1, 1, 1, 1, 1, 1, 1, 1, 1, 1, 1, 1, 1, 1, 1, 1, 1, 1, 1, 1, 1, 1, 1, 1, 1, 1, 1, 1, 1, 1, 1, 1, 1, 1, 1, 1, 1, 1, 1, 1, 1, 1, 1, 1, 1, 1, 1, 1, 1, 1, 1, 1, 1, 1, 1, 1, 1, 1, 1, 1, 1, 1, 1, 1, 1, 1, 1, 1, 1, 1, 1, 1, 1, 1, 1, 1, 1, 1, 1, 1, 1, 1, 1, 1, 1, 1, 1, 1, 1, 1, 1, 1, 1, 1, 1, 1, 1, 1, 1, 1, 1, 1, 1, 1, 1, 1, 1, 1, 1, 1, 1, 1, 1, 1, 1, 1, 1, 1, 1, 1, 1, 1, 1, 1, 1, 1, 1, 1, 1, 1, 1, 1, 1, 1, 1, 1, 1, 1, 1, 1, 1, 1, 1, 1, 1, 1, 1, 1, 1, 1, 1, 1, 1, 1, 1, 1, 1, 1, 1, 1, 1, 1, 1, 1, 1, 1, 1, 1, 1, 1, 1, 1, 1, 1, 1, 1, 1, 1, 1, 1, 1, 1, 1, 1, 1, 1, 1, 1, 1, 1, 1, 1, 1, 1, 1, 1, 1, 1, 1, 1, 1, 1, 1, 1, 1, 1, 1, 1, 1, 1, 1, 1, 1, 1, 1, 1, 1, 1, 1, 1, 1, 1, 1, 1, 1, 1, 1, 1, 1, 1, 1, 1, 1, 1, 1, 1, 1, 1, 1, 1, 1, 1, 1, 1, 1, 1, 1, 1, 1, 1, 1, 1, 1, 1, 1, 1, 1, 1, 1, 1, 1, 1, 1, 1, 1, 1, 1, 1, 1, 1, 1, 1, 1, 1, 1, 1, 1, 1, 1, 1, 1, 1, 1, 1, 1, 1, 1, 1, 1, 1, 1, 1, 1, 1, 1, 1, 1, 1, 1, 1, 1, 1, 1, 1, 1, 1, 1, 1, 1, 1, 1, 1, 1, 1, 1, 1, 1, 1, 1, 1, 1, 1, 1, 1, 1, 1, 1, 1, 1, 1, 1, 1, 1, 1, 1, 1, 1, 1, 1, 1, 1, 1, 1, 1, 1, 1, 1, 1, 1, 1, 1, 1, 1, 1, 1, 1, 1, 1, 1, 1, 1, 1, 1, 1, 1, 1, 1, 1, 1, 1, 1, 1, 1, 1, 1, 1, 1, 1, 1, 1, 1, 1, 1, 1, 1, 1, 1, 1, 1, 1, 1, 1, 1, 1, 1, 1, 1, 1, 1, 1, 1, 1, 1, 1, 1, 1, 1, 1, 1, 1, 1, 1, 1, 1, 1, 1, 1, 1, 1, 1, 1, 1, 1, 1, 1, 1, 1, 1, 1, 1, 1, 1, 1, 1, 1, 1, 1, 1, 1, 1, 1, 1, 1, 1, 1, 1, 1, 1, 1, 1, 1, 1, 1, 1, 1, 1, 1, 1, 1, 1, 1, 1, 1, 1, 1, 1, 1, 1, 1, 1, 1, 1, 1, 1, 1, 1, 1, 1, 1, 1, 1, 1, 1, 1, 1, 1, 1, 1, 1, 1, 1, 1, 1, 1, 1, 1, 1, 1, 1, 1, 1, 1, 1, 1, 1, 1, 1, 1, 1, 1, 1, 1, 1, 1, 1, 1, 1, 1, 1, 1, 1, 1, 1, 1, 1, 1, 1, 1, 1, 1, 1, 1, 1, 1, 1, 1, 1, 1, 1, 1, 1, 1, 1, 1, 1, 1, 1, 1, 1, 1, 1, 1, 1, 1, 1, 1, 1, 1, 1, 1, 1, 1, 1, 1, 1, 1, 1, 1, 1, 1, 1, 1, 1, 1, 1, 1, 1, 1, 1, 1, 1, 1, 1, 1, 1, 1, 1, 1, 1, 1, 1, 1, 1, 1, 1, 1, 1, 1, 1, 1, 1, 1, 1, 1, 1, 1, 1, 1, 1, 1, 1, 1, 1, 1, 1, 1, 1, 1, 1, 1, 1, 1, 1, 1, 1, 1, 1, 1, 1, 1, 1, 1, 1, 1, 1, 1, 1, 1, 1, 1, 1, 1, 1, 1, 1, 1, 1, 1, 1, 1, 1, 1, 1, 1, 1, 1, 1, 1, 1, 1, 1, 1, 1, 1, 1, 1, 1, 1, 1, 1, 1, 1, 1, 1, 1, 1, 1, 1, 1, 1, 1, 1, 1, 1, 1, 1, 1, 1, 1, 1, 1, 1, 1, 1, 1, 1, 1, 1, 1, 1, 1, 1, 1, 1, 1, 1, 1, 1, 1, 1, 1, 1, 1, 1, 1, 1, 1, 1, 1, 1, 1, 1, 1, 1, 1, 1, 1, 1, 1, 1, 1, 1, 1, 1, 1, 1, 1, 1, 1, 1, 1, 1, 1, 1, 1, 1, 1, 1, 1, 1, 1, 1, 1, 1, 1, 1, 1, 1, 1, 1, 1, 1, 1, 1, 1, 1, 1, 1, 1, 1, 1, 1, 1, 1, 1, 1, 1, 1, 1, 1, 1, 1, 1, 1, 1, 1, 1, 1, 1, 1, 1, 1, 1, 1, 1, 1, 1, 1, 1, 1, 1, 1, 1, 1, 1, 1, 1, 1, 1, 1, 1, 1, 1, 1, 1, 1, 1, 1, 1, 1, 1, 1, 1, 1, 1, 1, 1, 1, 1, 1, 1, 1, 1, 1, 1, 1, 1, 1, 1, 1, 1, 1, 1, 1, 1, 1, 1, 1, 1, 1, 1, 1, 1, 1, 1, 1, 1, 1, 1, 1, 1, 1, 1, 1, 1, 1, 1, 1, 1, 1, 1, 1, 1, 1, 1, 1, 1, 1, 1, 1, 1, 1, 1, 1, 1, 1, 1, 1, 1, 1, 1, 1, 1, 1, 1, 1, 1, 1, 1, 1, 1, 1, 1, 1, 1, 1, 1, 1, 1, 1, 1, 1, 1, 1, 1, 1, 1, 1, 1, 1, 1, 1, 1, 1, 1, 1, 1, 1, 1, 1, 1, 1, 1, 1, 1, 1, 1, 1, 1, 1, 1, 1, 1, 1, 1, 1, 1, 1, 1, 1, 1, 1, 1, 1, 1, 1, 1, 1, 1, 1, 1, 1, 1, 1, 1, 1, 1, 1, 1, 1, 1, 1, 1, 1, 1, 1, 1, 1, 1, 1, 1, 1, 1, 1, 1, 1, 1, 1, 1, 1, 1, 1, 1, 1, 1, 1, 1, 1, 1, 1, 1, 1, 1, 1, 1, 1, 1, 1, 1, 1, 1, 1, 1, 1, 1, 1, 1, 1, 1, 1, 1, 1, 1, 1, 1, 1, 1, 1, 1, 1, 1, 1, 1, 1, 1, 1, 1, 1, 1, 1, 1, 1, 1, 1, 1, 1, 1, 1, 1, 1, 1, 1, 1, 1, 1, 1, 1, 1, 1, 1, 1, 1, 1, 1, 1, 1, 1, 1, 1, 1, 1, 1, 1, 1, 1, 1, 1, 1, 1, 1, 1, 1, 1, 1, 1, 1, 1, 1, 1, 1, 1, 1, 1, 1, 1, 1, 1, 1, 1, 1, 1, 1, 1, 1, 1, 1, 1, 1, 1, 1, 1, 1, 1, 1, 1, 1, 1, 1, 1, 1, 1, 1, 1, 1, 1, 1, 1, 1, 1, 1, 1, 1, 1, 1, 1, 1, 1, 1, 1, 1, 1, 1, 1, 1, 1, 1, 1, 1, 1, 1, 1, 1, 1, 1, 1, 1, 1, 1, 1, 1, 1, 1, 1, 1, 1, 1, 1, 1, 1, 1, 1, 1, 1, 1, 1, 1, 1, 1, 1, 1, 1, 1, 1, 1, 1, 1, 1, 1, 1, 1, 1, 1, 1, 1, 1, 1, 1, 1, 1, 1, 1, 1, 1, 1, 1, 1, 1, 1, 1, 1, 1, 1, 1, 1, 1, 1, 1, 1, 1, 1, 1, 1, 1, 1, 1, 1, 1, 1, 1, 1, 1, 1, 1, 1, 1, 1, 1, 1, 1, 1, 1, 1, 1, 1, 1, 1, 1, 1, 1, 1, 1, 1, 1, 1, 1, 1, 1, 1, 1, 1, 1, 1, 1, 1, 1, 1, 1, 1, 1, 1, 1, 1, 1, 1, 1, 1, 1, 1, 1, 1, 1, 1, 1, 1, 1, 1, 1, 1, 1, 1, 1, 1, 1, 1, 1, 1, 1, 1, 1, 1, 1, 1, 1, 1, 1, 1, 1, 1, 1, 1, 1, 1, 1, 1, 1, 1, 1, 1, 1, 1, 1, 1, 1, 1, 1, 1, 1, 1, 1, 1, 1, 1, 1, 1, 1, 1, 1, 1, 1, 1, 1, 1, 1, 1, 1, 1, 1, 1, 1, 1, 1, 1, 1, 1, 1, 1, 1, 1, 1, 1, 1, 1, 1, 1, 1, 1, 1, 1, 1, 1, 1, 1, 1, 1, 1, 1, 1, 1, 1, 1, 1, 1, 1, 1, 1, 1, 1, 1, 1, 1, 1, 1, 1, 1, 1, 1, 1, 1, 1, 1, 1, 1, 1, 1, 1, 1, 1, 1, 1, 1, 1, 1, 1, 1, 1, 1, 1, 1, 1, 1, 1, 1, 1, 1, 1, 1, 1, 1, 1, 1, 1, 1, 1, 1, 1, 1, 1, 1, 1, 1, 1, 1, 1, 1, 1, 1, 1, 1, 1, 1, 1, 1, 1, 1, 1, 1, 1, 1, 1, 1, 1, 1, 1, 1, 1, 1, 1, 1, 1, 1, 1, 1, 1, 1, 1, 1, 1, 1, 1, 1, 1, 1, 1, 1, 1, 1, 1, 1, 1, 1, 1, 1, 1, 1, 1, 1, 1, 1, 1, 1, 1, 1, 1, 1, 1, 1, 1, 1, 1, 1, 1, 1, 1, 1, 1, 1, 1, 1, 1, 1, 1, 1, 1, 1, 1, 1, 1, 1, 1, 1, 1, 1, 1, 1, 1, 1, 1, 1, 1, 1, 1, 1, 1, 1, 1, 1, 1, 1, 1, 1, 1, 1, 1, 1, 1, 1, 1, 1, 1, 1, 1, 1, 1, 1, 1, 1, 1, 1, 1, 1, 1, 1, 1, 1, 1, 1, 1, 1, 1, 1, 1, 1, 1, 1, 1, 1, 1, 1, 1, 1, 1, 1, 1, 1, 1, 1, 1, 1, 1, 1, 1, 1, 1, 1, 1, 1, 1, 1, 1, 1, 1, 1, 1, 1, 1, 1, 1, 1, 1, 1, 1, 1, 1, 1, 1, 1, 1, 1, 1, 1, 1, 1, 1, 1, 1, 1, 1, 1, 1, 1, 1, 1, 1, 1, 1, 1, 1, 1, 1, 1, 1, 1, 1, 1, 1, 1, 1, 1, 1, 1, 1, 1, 1, 1, 1, 1, 1, 1, 1, 1, 1, 1, 1, 1, 1, 1, 1, 1, 1, 1, 1, 1, 1, 1, 1, 1, 1, 1, 1, 1, 1, 1, 1, 1, 1, 1, 1, 1, 1, 1, 1, 1, 1, 1, 1, 1, 1, 1, 1, 1, 1, 1, 1, 1, 1, 1, 1, 1, 1, 1, 1, 1, 1, 1, 1, 1, 1, 1, 1, 1, 1, 1, 1, 1, 1, 1, 1, 1, 1, 1, 1, 1, 1, 1, 1, 1, 1, 1, 1, 1, 1, 1, 1, 1, 1, 1, 1, 1, 1, 1, 1, 1, 1, 1, 1, 1, 1, 1, 1, 1, 1, 1, 1, 1, 1, 1, 1, 1, 1, 1, 1, 1, 1, 1, 1, 1, 1, 1, 1, 1, 1, 1, 1, 1, 1, 1, 1, 1, 1, 1, 1, 1, 1, 1, 1, 1, 1, 1, 1, 1, 1, 1, 1, 1, 1, 1, 1, 1, 1, 1, 1, 1, 1, 1, 1, 1, 1, 1, 1, 1, 1, 1, 1, 1, 1, 1, 1, 1, 1, 1, 1, 1, 1, 1, 1, 1, 1, 1, 1, 1, 1, 1, 1, 1, 1, 1, 1, 1, 1, 1, 1, 1, 1, 1, 1, 1, 1, 1, 1, 1, 1, 1, 1, 1, 1, 1, 1, 1, 1, 1, 1, 1, 1, 1, 1, 1, 1, 1, 1, 1, 1, 1, 1, 1, 1, 1, 1, 1, 1, 1, 1, 1, 1, 1, 1, 1, 1, 1, 1, 1, 1, 1, 1, 1, 1, 1, 1, 1, 1, 1, 1, 1, 1, 1, 1, 1, 1, 1, 1, 1, 1, 1, 1, 1, 1, 1, 1, 1, 1, 1, 1, 1, 1, 1, 1, 1, 1, 1, 1, 1, 1, 1, 1, 1, 1, 1, 1, 1, 1, 1, 1, 1, 1, 1, 1, 1, 1, 1, 1, 1, 1, 1, 1, 1, 1, 1, 1, 1, 1, 1, 1, 1, 1, 1, 1, 1, 1, 1, 1, 1, 1, 1, 1, 1, 1, 1, 1, 1, 1, 1, 1, 1, 1, 1, 1, 1, 1, 1, 1, 1, 1, 1, 1, 1, 1, 1, 1, 1, 1, 1, 1, 1, 1, 1, 1, 1, 1, 1, 1, 1, 1, 1, 1, 1, 1, 1, 1, 1, 1, 1, 1, 1, 1, 1, 1, 1, 1, 1, 1, 1, 1, 1, 1, 1, 1, 1, 1, 1, 1, 1, 1, 1, 1, 1, 1, 1, 1, 1, 1, 1, 1, 1, 1, 1, 1, 1, 1, 1, 1, 1, 1, 1, 1, 1, 1, 1, 1, 1, 1, 1, 1, 1, 1, 1, 1, 1, 1, 1, 1, 1, 1, 1, 1, 1, 1, 1, 1, 1, 1, 1, 1, 1, 1, 1, 1, 1, 1, 1, 1, 1, 1, 1, 1, 1, 1, 1, 1, 1, 1, 1, 1, 1, 1, 1, 1, 1, 1, 1, 1, 1, 1, 1, 1, 1, 1, 1, 1, 1, 1, 1, 1, 1, 1, 1, 1, 1, 1, 1, 1, 1, 1, 1, 1, 1, 1, 1, 1, 1, 1, 1, 1, 1, 1, 1, 1, 1, 1, 1, 1, 1, 1, 1, 1, 1, 1, 1, 1, 1, 1, 1, 1, 1, 1, 1, 1, 1, 1, 1, 1, 1, 1, 1, 1, 1, 1, 1, 1, 1, 1, 1, 1, 1, 1, 1, 1, 1, 1, 1, 1, 1, 1, 1, 1, 1, 1, 1, 1, 1, 1, 1, 1, 1, 1, 1, 1, 1, 1, 1, 1, 1, 1, 1, 1, 1, 1, 1, 1, 1, 1, 1, 1, 1, 1, 1, 1, 1, 1, 1, 1, 1, 1, 1, 1, 1, 1, 1, 1, 1, 1, 1, 1, 1, 1, 1, 1, 1, 1, 1, 1, 1, 1, 1, 1, 1, 1, 1, 1, 1, 1, 1, 1, 1, 1, 1, 1, 1, 1, 1, 1, 1, 1, 1, 1, 1, 1, 1, 1, 1, 1, 1, 1, 1, 1, 1, 1, 1, 1, 1, 1, 1, 1, 1, 1, 1, 1, 1, 1, 1, 1, 1, 1, 1, 1, 1, 1, 1, 1, 1, 1, 1, 1, 1, 1, 1, 1, 1, 1, 1, 1, 1, 1, 1, 1, 1, 1, 1, 1, 1, 1, 1, 1, 1, 1, 1, 1, 1, 1, 1, 1, 1, 1, 1, 1, 1, 1, 1, 1, 1, 1, 1, 1, 1, 1, 1, 1, 1, 1, 1, 1, 1, 1, 1, 1, 1, 1, 1, 1, 1, 1, 1, 1, 1, 1, 1, 1, 1, 1, 1, 1, 1, 1, 1, 1, 1, 1, 1, 1, 1, 1, 1, 1, 1, 1, 1, 1, 1, 1, 1, 1, 1, 1, 1, 1, 1, 1, 1, 1, 1, 1, 1, 1, 1, 1, 1, 1, 1, 1, 1, 1, 1, 1, 1, 1, 1, 1, 1, 1, 1, 1, 1, 1, 1, 1, 1, 1, 1, 1, 1, 1, 1, 1, 1, 1, 1, 1, 1, 1, 1, 1, 1, 1, 1, 1, 1, 1, 1, 1, 1, 1, 1, 1, 1, 1, 1, 1, 1, 1, 1, 1, 1, 1, 1, 1, 1, 1, 1, 1, 1, 1, 1, 1, 1, 1, 1, 1, 1, 1, 1, 1, 1, 1, 1, 1, 1, 1, 1, 1, 1, 1, 1, 1, 1, 1, 1, 1, 1, 1, 1, 1, 1, 1, 1, 1, 1, 1, 1, 1, 1, 1, 1, 1, 1, 1, 1, 1, 1, 1, 1, 1, 1, 1, 1, 1, 1, 1, 1, 1, 1, 1, 1, 1, 1, 1, 1, 1, 1, 1, 1, 1, 1, 1, 1, 1, 1, 1, 1, 1, 1, 1, 1, 1, 1, 1, 1, 1, 1, 1, 1, 1, 1, 1, 1, 1, 1, 1, 1, 1, 1, 1, 1, 1, 1, 1, 1, 1, 1, 1, 1, 1, 1, 1, 1, 1, 1, 1, 1, 1, 1, 1, 1, 1, 1, 1, 1, 1, 1, 1, 1, 1, 1, 1, 1, 1, 1, 1, 1, 1, 1, 1, 1, 1, 1, 1, 1, 1, 1, 1, 1, 1, 1, 1, 1, 1, 1, 1, 1, 1, 1, 1, 1, 1, 1, 1, 1, 1, 1, 1, 1, 1, 1, 1, 1, 1, 1, 1, 1, 1, 1, 1, 1, 1, 1, 1, 1, 1, 1, 1, 1, 1, 1, 1, 1, 1, 1, 1, 1, 1, 1, 1, 1, 1, 1, 1, 1, 1, 1, 1, 1, 1, 1, 1, 1, 1, 1, 1, 1, 1, 1, 1, 1, 1, 1, 1, 1, 1, 1, 1, 1, 1, 1, 1, 1, 1, 1, 1, 1, 1, 1, 1, 1, 1, 1, 1, 1, 1, 1, 1, 1, 1, 1, 1, 1, 1, 1, 1, 1, 1, 1, 1, 1, 1, 1, 1, 1, 1, 1, 1, 1, 1, 1, 1, 1, 1, 1, 1, 1, 1, 1, 1, 1, 1, 1, 1, 1, 1, 1, 1, 1, 1, 1, 1, 1, 1, 1, 1, 1, 1, 1, 1, 1, 1, 1, 1, 1, 1, 1, 1, 1, 1, 1, 1, 1, 1, 1, 1, 1, 1, 1, 1, 1, 1, 1, 1, 1, 1, 1, 1, 1, 1, 1, 1, 1, 1, 1, 1, 1, 1, 1, 1, 1, 1, 1, 1, 1, 1, 1, 1, 1, 1, 1, 1, 1, 1, 1, 1, 1, 1, 1, 1, 1, 1, 1, 1, 1, 1, 1, 1, 1, 1, 1, 1, 1, 1, 1, 1, 1, 1, 1, 1, 1, 1, 1, 1, 1, 1, 1, 1, 1, 1, 1, 1, 1, 1, 1, 1, 1, 1, 1, 1, 1, 1, 1, 1, 1, 1, 1, 1, 1, 1, 1, 1, 1, 1, 1, 1, 1, 1, 1, 1, 1, 1, 1, 1, 1, 1, 1, 1, 1, 1, 1, 1, 1, 1, 1, 1, 1, 1, 1, 1, 1, 1, 1, 1, 1, 1, 1, 1, 1, 1, 1, 1, 1, 1, 1, 1, 1, 1, 1, 1, 1, 1, 1, 1, 1, 1, 1, 1, 1, 1, 1, 1, 1, 1, 1, 1, 1, 1, 1, 1, 1, 1, 1, 1, 1, 1, 1, 1, 1, 1, 1, 1, 1, 1, 1, 1, 1, 1, 1, 1, 1, 1, 1, 1, 1, 1, 1, 1, 1, 1, 1, 1, 1, 1, 1, 1, 1, 1, 1, 1, 1, 1, 1, 1, 1, 1, 1, 1, 1, 1, 1, 1, 1, 1, 1, 1, 1, 1, 1, 1, 1, 1, 1, 1, 1, 1, 1, 1, 1, 1, 1, 1, 1, 1, 1, 1, 1, 1, 1, 1, 1, 1, 1, 1, 1, 1, 1, 1, 1, 1, 1, 1, 1, 1, 1, 1, 1, 1, 1, 1, 1, 1, 1, 1, 1, 1, 1, 1, 1, 1, 1, 1, 1, 1, 1, 1, 1, 1, 1, 1, 1, 1, 1, 1, 1, 1, 1, 1, 1, 1, 1, 1, 1, 1, 1, 1, 1, 1, 1, 1, 1, 1, 1, 1, 1, 1, 1, 1, 1, 1, 1, 1, 1, 1, 1, 1, 1, 1, 1, 1, 1, 1, 1, 1, 1, 1, 1, 1, 1, 1, 1, 1, 1, 1, 1, 1, 1, 1, 1, 1, 1, 1, 1, 1, 1, 1, 1, 1, 1, 1, 1, 1, 1, 1, 1, 1, 1, 1, 1, 1, 1, 1, 1, 1, 1, 1, 1, 1, 1, 1, 1, 1, 1, 1, 1, 1, 1, 1, 1, 1, 1, 1, 1, 1, 1, 1, 1, 1, 1, 1, 1, 1, 1, 1, 1, 1, 1, 1, 1, 1, 1, 1, 1, 1, 1, 1, 1, 1, 1, 1, 1, 1, 1, 1, 1, 1, 1, 1, 1, 1, 1, 1, 1, 1, 1, 1, 1, 1, 1, 1, 1, 1, 1, 1, 1, 1, 1, 1, 1, 1, 1, 1, 1, 1, 1, 1, 1, 1, 1, 1, 1, 1, 1, 1, 1, 1, 1, 1, 1, 1, 1, 1, 1, 1, 1, 1, 1, 1, 1, 1, 1, 1, 1, 1, 1, 1, 1, 1, 1, 1, 1, 1, 1, 1, 1, 1, 1, 1, 1, 1, 1, 1, 1, 1, 1, 1, 1, 1, 1, 1, 1, 1, 1, 1, 1, 1, 1, 1, 1, 1, 1, 1, 1, 1, 1, 1, 1, 1, 1, 1, 1, 1, 1, 1, 1, 1, 1, 1, 1, 1, 1, 1, 1, 1, 1, 1, 1, 1, 1, 1, 1, 1, 1, 1, 1, 1, 1, 1, 1, 1, 1, 1, 1, 1, 1, 1, 1, 1, 1, 1, 1, 1, 1, 1, 1, 1, 1, 1, 1, 1, 1, 1, 1, 1, 1, 1, 1, 1, 1, 1, 1, 1, 1, 1, 1, 1, 1, 1, 1, 1, 1, 1, 1, 1, 1, 1, 1, 1, 1, 1, 1, 1, 1, 1, 1, 1, 1, 1, 1, 1, 1, 1, 1, 1, 1, 1, 1, 1, 1, 1, 1, 1, 1, 1, 1, 1, 1, 1, 1, 1, 1, 1, 1, 1, 1, 1, 1, 1, 1, 1, 1, 1, 1, 1, 1, 1, 1, 1, 1, 1, 1, 1, 1, 1, 1, 1, 1, 1, 1, 1, 1, 1, 1, 1, 1, 1, 1, 1, 1, 1, 1, 1, 1, 1, 1, 1, 1, 1, 1, 1, 1, 1, 1, 1, 1, 1, 1, 1, 1, 1, 1, 1, 1, 1, 1, 1, 1, 1, 1, 1, 1, 1, 1, 1, 1, 1, 1, 1, 1, 1, 1, 1, 1, 1, 1, 1, 1, 1, 1, 1, 1, 1, 1, 1, 1, 1, 1, 1, 1, 1, 1, 1, 1, 1, 1, 1, 1, 1, 1, 1, 1, 1, 1, 1, 1, 1, 1, 1, 1, 1, 1, 1, 1, 1, 1, 1, 1, 1, 1, 1, 1, 1, 1, 1, 1, 1, 1, 1, 1, 1, 1, 1, 1, 1, 1, 1, 1, 1, 1, 1, 1, 1, 1, 1, 1, 1, 1, 1, 1, 1, 1, 1, 1, 1, 1, 1, 1, 1, 1, 1, 1, 1, 1, 1, 1, 1, 1, 1, 1, 1, 1, 1, 1, 1, 1, 1, 1, 1, 1, 1, 1, 1, 1, 1, 1, 1, 1, 1, 1, 1, 1, 1, 1, 1, 1, 1, 1, 1, 1, 1, 1, 1, 1, 1, 1, 1, 1, 1, 1, 1, 1, 1, 1, 1, 1, 1, 1, 1, 1, 1, 1, 1, 1, 1, 1, 1, 1, 1, 1, 1, 1, 1, 1, 1, 1, 1, 1, 1, 1, 1, 1, 1, 1, 1, 1, 1, 1, 1, 1, 1, 1, 1, 1, 1, 1, 1, 1, 1, 1, 1, 1, 1, 1, 1, 1, 1, 1, 1, 1, 1, 1, 1, 1, 1, 1, 1, 1, 1, 1, 1, 1, 1, 1, 1, 1, 1, 1, 1, 1, 1, 1, 1, 1, 1, 1, 1, 1, 1, 1, 1, 1, 1, 1, 1, 1, 1, 1, 1, 1, 1, 1, 1, 1, 1, 1, 1, 1, 1, 1, 1, 1, 1, 1, 1, 1, 1, 1, 1, 1, 1, 1, 1, 1, 1, 1, 1, 1, 1, 1, 1, 1, 1, 1, 1, 1, 1, 1, 1, 1, 1, 1, 1, 1, 1, 1, 1, 1, 1, 1, 1, 1, 1, 1, 1, 1, 1, 1, 1, 1, 1, 1, 1, 1, 1, 1, 1, 1, 1, 1, 1, 1, 1, 1, 1, 1, 1, 1, 1, 1, 1, 1, 1, 1, 1, 1, 1, 1, 1, 1, 1, 1, 1, 1, 1, 1, 1, 1, 1, 1, 1, 1, 1, 1, 1, 1, 1, 1, 1, 1, 1, 1, 1, 1, 1, 1, 1, 1, 1, 1, 1, 1, 1, 1, 1, 1, 1, 1, 1, 1, 1, 1, 1, 1, 1, 1, 1, 1, 1, 1, 1, 1, 1, 1, 1, 1, 1, 1, 1, 1, 1, 1, 1, 1, 1, 1, 1, 1, 1, 1, 1, 1, 1, 1, 1, 1, 1, 1, 1, 1, 1, 1, 1, 1, 1, 1, 1, 1, 1, 1, 1, 1, 1, 1, 1, 1, 1, 1, 1, 1, 1, 1, 1, 1, 1, 1, 1, 1, 1, 1, 1, 1, 1, 1, 1, 1, 1, 1, 1, 1, 1, 1, 1, 1, 1, 1, 1, 1, 1, 1, 1, 1, 1, 1, 1, 1, 1, 1, 1, 1, 1, 1, 1, 1, 1, 1, 1, 1, 1, 1, 1, 1, 1, 1, 1, 1, 1, 1, 1, 1, 1, 1, 1, 1, 1, 1, 1, 1, 1, 1, 1, 1, 1, 1, 1, 1, 1, 1, 1, 1, 1, 1, 1, 1, 1, 1, 1, 1, 1, 1, 1, 1, 1, 1, 1, 1, 1, 1, 1, 1, 1, 1, 1, 1, 1, 1, 1, 1, 1, 1, 1, 1, 1, 1, 1, 1, 1, 1, 1, 1, 1, 1, 1, 1, 1, 1, 1, 1, 1, 1, 1, 1, 1, 1, 1, 1, 1, 1, 1, 1, 1, 1, 1, 1, 1, 1, 1, 1, 1, 1, 1, 1, 1, 1, 1, 1, 1, 1, 1, 1, 1, 1, 1, 1, 1, 1, 1, 1, 1, 1, 1, 1, 1, 1, 1, 1, 1, 1, 1, 1, 1, 1, 1, 1, 1, 1, 1, 1, 1, 1, 1, 1, 1, 1, 1, 1, 1, 1, 1, 1, 1, 1, 1, 1, 1, 1, 1, 1, 1, 1, 1, 1, 1, 1, 1, 1, 1, 1, 1, 1, 1, 1, 1, 1, 1, 1, 1, 1, 1, 1, 1, 1, 1, 1, 1, 1, 1, 1, 1, 1, 1, 1, 1, 1, 1, 1, 1, 1, 1, 1, 1, 1, 1, 1, 1, 1, 1, 1, 1, 1, 1, 1, 1, 1, 1, 1, 1, 1, 1, 1, 1, 1, 1, 1, 1, 1, 1, 1, 1, 1, 1, 1, 1, 1, 1, 1, 1, 1, 1, 1, 1, 1, 1, 1, 1, 1, 1, 1, 1, 1, 1, 1, 1, 1, 1, 1, 1, 1, 1, 1, 1, 1, 1, 1, 1, 1, 1, 1, 1, 1, 1, 1, 1, 1, 1, 1, 1, 1, 1, 1, 1, 1, 1, 1, 1, 1, 1, 1, 1, 1, 1, 1, 1, 1, 1, 1, 1, 1, 1, 1, 1, 1, 1, 1, 1, 1, 1, 1, 1, 1, 1, 1, 1, 1, 1, 1, 1, 1, 1, 1, 1, 1, 1, 1, 1, 1, 1, 1, 1, 1, 1, 1, 1, 1, 1, 1, 1, 1, 1, 1, 1, 1, 1, 1, 1, 1, 1, 1, 1, 1, 1, 1, 1, 1, 1, 1, 1, 1, 1, 1, 1, 1, 1, 1, 1, 1, 1, 1, 1, 1, 1, 1, 1, 1, 1, 1, 1, 1, 1, 1, 1, 1, 1, 1, 1, 1, 1, 1, 1, 1, 1, 1, 1, 1, 1, 1, 1, 1, 1, 1, 1, 1, 1, 1, 1, 1, 1, 1, 1, 1, 1, 1, 1, 1, 1, 1, 1, 1, 1, 1, 1, 1, 1, 1, 1, 1, 1, 1, 1, 1, 1, 1, 1, 1, 1, 1, 1, 1, 1, 1, 1, 1, 1, 1, 1, 1, 1, 1, 1, 1, 1, 1, 1, 1, 1, 1, 1, 1, 1, 1, 1, 1, 1, 1, 1, 1, 1, 1, 1, 1, 1, 1, 1, 1, 1, 1, 1, 1, 1, 1, 1, 1, 1, 1, 1, 1, 1, 1, 1, 1, 1, 1, 1, 1, 1, 1, 1, 1, 1, 1, 1, 1, 1, 1, 1, 1, 1, 1, 1, 1, 1, 1, 1, 1, 1, 1, 1, 1, 1, 1, 1, 1, 1, 1, 1, 1, 1, 1, 1, 1, 1, 1, 1, 1, 1, 1, 1, 1, 1, 1, 1, 1, 1, 1, 1, 1, 1, 1, 1, 1, 1, 1, 1, 1, 1, 1, 1, 1, 1, 1, 1, 1, 1, 1, 1, 1, 1, 1, 1, 1, 1, 1, 1, 1, 1, 1, 1, 1, 1, 1, 1, 1, 1, 1, 1, 1, 1, 1, 1, 1, 1, 1, 1, 1, 1, 1, 1, 1, 1, 1, 1, 1, 1, 1, 1, 1, 1, 1, 1, 1, 1, 1, 1, 1, 1, 1, 1, 1, 1, 1, 1, 1, 1, 1, 1, 1, 1, 1, 1, 1, 1, 1, 1, 1, 1, 1, 1, 1, 1, 1, 1, 1, 1, 1, 1, 1, 1, 1, 1, 1, 1, 1, 1, 1, 1, 1, 1, 1, 1, 1, 1, 1, 1, 1, 1, 1, 1, 1, 1, 1, 1, 1, 1, 1, 1, 1, 1, 1, 1, 1, 1, 1, 1, 1, 1, 1, 1, 1, 1, 1, 1, 1, 1, 1, 1, 1, 1, 1, 1, 1, 1, 1, 1, 1, 1, 1, 1, 1, 1, 1, 1, 1, 1, 1, 1, 1, 1, 1, 1, 1, 1, 1, 1, 1, 1, 1, 1, 1, 1, 1, 1, 1, 1, 1, 1, 1, 1, 1, 1, 1, 1, 1, 1, 1, 1, 1, 1, 1, 1, 1, 1, 1, 1, 1, 1, 1, 1, 1, 1, 1, 1, 1, 1, 1, 1, 1, 1, 1, 1, 1, 1, 1, 1, 1, 1, 1, 1, 1, 1, 1, 1, 1, 1, 1, 1, 1, 1, 1, 1, 1, 1, 1, 1, 1, 1, 1, 1, 1, 1, 1, 1, 1, 1, 1, 1, 1, 1, 1, 1, 1, 1, 1, 1, 1, 1, 1, 1, 1, 1, 1, 1, 1, 1, 1, 1, 1, 1, 1, 1, 1, 1, 1, 1, 1, 1, 1, 1, 1, 1, 1, 1, 1, 1, 1, 1, 1, 1, 1, 1, 1, 1, 1, 1, 1, 1, 1, 1, 1, 1, 1, 1, 1, 1, 1, 1, 1, 1, 1, 1, 1, 1, 1, 1, 1, 1, 1, 1, 1, 1, 1, 1, 1, 1, 1, 1, 1, 1, 1, 1, 1, 1, 1, 1, 1, 1, 1, 1, 1, 1, 1, 1, 1, 1, 1, 1, 1, 1, 1, 1, 1, 1, 1, 1, 1, 1, 1, 1, 1, 1, 1, 1, 1, 1, 1, 1, 1, 1, 1, 1, 1, 1, 1, 1, 1, 1, 1, 1, 1, 1, 1, 1, 1, 1, 1, 1, 1, 1, 1, 1, 1, 1, 1, 1, 1, 1, 1, 1, 1, 1, 1, 1, 1, 1, 1, 1, 1, 1, 1, 1, 1, 1, 1, 1, 1, 1, 1, 1, 1, 1, 1, 1, 1, 1, 1, 1, 1, 1, 1, 1, 1, 1, 1, 1, 1, 1, 1, 1, 1, 1, 1, 1, 1, 1, 1, 1, 1, 1, 1, 1, 1, 1, 1, 1, 1, 1, 1, 1, 1, 1, 1, 1, 1, 1, 1, 1, 1, 1, 1, 1, 1, 1, 1, 1, 1, 1, 1, 1, 1, 1, 1, 1, 1, 1, 1, 1, 1, 1, 1, 1, 1, 1, 1, 1, 1, 1, 1, 1, 1, 1, 1, 1, 1, 1, 1, 1, 1, 1, 1, 1, 1, 1, 1, 1, 1, 1, 1, 1, 1, 1, 1, 1, 1, 1, 1, 1, 1, 1, 1, 1, 1, 1, 1, 1, 1, 1, 1, 1, 1, 1, 1, 1, 1, 1, 1, 1, 1, 1, 1, 1, 1, 1, 1, 1, 1, 1, 1, 1, 1, 1, 1, 1, 1, 1, 1, 1, 1, 1, 1, 1, 1, 1, 1, 1, 1, 1, 1, 1, 1, 1, 1, 1, 1, 1, 1, 1, 1, 1, 1, 1, 1, 1, 1, 1, 1, 1, 1, 1, 1, 1, 1, 1, 1, 1, 1, 1, 1, 1, 1, 1, 1, 1, 1, 1, 1, 1, 1, 1, 1, 1, 1, 1, 1, 1, 1, 1, 1, 1, 1, 1, 1, 1, 1, 1, 1, 1, 1, 1, 1, 1, 1, 1, 1, 1, 1, 1, 1, 1, 1, 1, 1, 1, 1, 1, 1, 1, 1, 1, 1, 1, 1, 1, 1, 1, 1, 1, 1, 1, 1, 1, 1, 1, 1, 1, 1, 1, 1, 1, 1, 1, 1, 1, 1, 1, 1, 1, 1, 1, 1, 1, 1, 1, 1, 1, 1, 1, 1, 1, 1, 1, 1, 1, 1, 1, 1, 1, 1, 1, 1, 1, 1, 1, 1, 1, 1, 1, 1, 1, 1, 1, 1, 1, 1, 1, 1, 1, 1, 1, 1, 1, 1, 1, 1, 1, 1, 1, 1, 1, 1, 1, 1, 1, 1, 1, 1, 1, 1, 1, 1, 1, 1, 1, 1, 1, 1, 1, 1, 1, 1, 1, 1, 1, 1, 1, 1, 1, 1, 1, 1, 1, 1, 1, 1, 1, 1, 1, 1, 1, 1, 1, 1, 1, 1, 1, 1, 1, 1, 1, 1, 1, 1, 1, 1, 1, 1, 1, 1, 1, 1, 1, 1, 1, 1, 1, 1, 1, 1, 1, 1, 1, 1, 1, 1, 1, 1, 1, 1, 1, 1, 1, 1, 1, 1, 1, 1, 1, 1, 1, 1, 1, 1, 1, 1, 1, 1, 1, 1, 1, 1, 1, 1, 1, 1, 1, 1, 1, 1, 1, 1, 1, 1, 1, 1, 1, 1, 1, 1, 1, 1, 1, 1, 1, 1, 1, 1, 1, 1, 1, 1, 1, 1, 1, 1, 1, 1, 1, 1, 1, 1, 1, 1, 1, 1, 1, 1, 1, 1, 1, 1, 1, 1, 1, 1, 1, 1, 1, 1, 1, 1, 1, 1, 1, 1, 1, 1, 1, 1, 1, 1, 1, 1, 1, 1, 1, 1, 1, 1, 1, 1, 1, 1, 1, 1, 1, 1, 1, 1, 1, 1, 1, 1, 1, 1, 1, 1, 1, 1, 1, 1, 1, 1, 1, 1, 1, 1, 1, 1, 1, 1, 1, 1, 1, 1, 1, 1, 1, 1, 1, 1, 1, 1, 1, 1, 1, 1, 1, 1, 1, 1, 1, 1, 1, 1, 1, 1, 1, 1, 1, 1, 1, 1, 1, 1, 1, 1, 1, 1, 1, 1, 1, 1, 1, 1, 1, 1, 1, 1, 1, 1, 1, 1, 1, 1, 1, 1, 1, 1, 1, 1, 1, 1, 1, 1, 1, 1, 1, 1, 1, 1, 1, 1, 1, 1, 1, 1, 1, 1, 1, 1, 1, 1, 1, 1, 1, 1, 1, 1, 1, 1, 1, 1, 1, 1, 1, 1, 1, 1, 1, 1, 1, 1, 1, 1, 1, 1, 1, 1, 1, 1, 1, 1, 1, 1, 1, 1, 1, 1, 1, 1, 1, 1, 1, 1, 1, 1, 1, 1, 1, 1, 1, 1, 1, 1, 1, 1, 1, 1, 1, 1, 1, 1, 1, 1, 1, 1, 1, 1, 1, 1, 1, 1, 1, 1, 1, 1, 1, 1, 1, 1, 1, 1, 1, 1, 1, 1, 1, 1, 1, 1, 1, 1, 1, 1, 1, 1, 1, 1, 1, 1, 1, 1, 1, 1, 1, 1, 1, 1, 1, 1, 1, 1, 1, 1, 1, 1, 1, 1, 1, 1, 1, 1, 1, 1, 1, 1, 1, 1, 1, 1, 1, 1, 1, 1, 1, 1, 1, 1, 1, 1, 1, 1, 1, 1, 1, 1, 1, 1, 1, 1, 1, 1, 1, 1, 1, 1, 1, 1, 1, 1, 1, 1, 1, 1, 1, 1, 1, 1, 1, 1, 1, 1, 1, 1, 1, 1, 1, 1, 1, 1, 1, 1, 1, 1, 1, 1, 1, 1, 1, 1, 1, 1, 1, 1, 1, 1, 1, 1, 1, 1, 1, 1, 1, 1, 1, 1, 1, 1, 1, 1, 1, 1, 1, 1, 1, 1, 1, 1, 1, 1, 1, 1, 1, 1, 1, 1, 1, 1, 1, 1, 1, 1, 1, 1, 1, 1, 1, 1, 1, 1, 1, 1, 1, 1, 1, 1, 1, 1, 1, 1, 1, 1, 1, 1, 1, 1, 1, 1, 1, 1, 1, 1, 1, 1, 1, 1, 1, 1, 1, 1, 1, 1, 1, 1, 1, 1, 1, 1, 1, 1, 1, 1, 1, 1, 1, 1, 1, 1, 1, 1, 1, 1, 1, 1, 1, 1, 1, 1, 1, 1, 1, 1, 1, 1, 1, 1, 1, 1, 1, 1, 1, 1, 1, 1, 1, 1, 1, 1, 1, 1, 1, 1, 1, 1, 1, 1, 1, 1, 1, 1, 1, 1, 1, 1, 1, 1, 1, 1, 1, 1, 1, 1, 1, 1, 1, 1, 1, 1, 1, 1, 1, 1, 1, 1, 1, 1, 1, 1, 1, 1, 1, 1, 1, 1, 1, 1, 1, 1, 1, 1, 1, 1, 1, 1, 1, 1, 1, 1, 1, 1, 1, 1, 1, 1, 1, 1, 1, 1, 1, 1, 1, 1, 1, 1, 1, 1, 1, 1, 1, 1, 1, 1, 1, 1, 1, 1, 1, 1, 1, 1, 1, 1, 1, 1, 1, 1, 1, 1, 1, 1, 1, 1, 1, 1, 1, 1, 1, 1, 1, 1, 1, 1, 1, 1, 1, 1, 1, 1, 1, 1, 1, 1, 1, 1, 1, 1, 1, 1, 1, 1, 1, 1, 1, 1, 1, 1, 1, 1, 1, 1, 1, 1, 1, 1, 1, 1, 1, 1, 1, 1, 1, 1, 1, 1, 1, 1, 1, 1, 1, 1, 1, 1, 1, 1, 1, 1, 1, 1, 1, 1, 1, 1, 1, 1, 1, 1, 1, 1, 1, 1, 1, 1, 1, 1, 1, 1, 1, 1, 1, 1, 1, 1, 1, 1, 1, 1, 1, 1, 1, 1, 1, 1, 1, 1, 1, 1, 1, 1, 1, 1, 1, 1, 1, 1, 1, 1, 1, 1, 1, 1, 1, 1, 1, 1, 1, 1, 1, 1, 1, 1, 1, 1, 1, 1, 1, 1, 1, 1, 1, 1, 1, 1, 1, 1, 1, 1, 1, 1, 1, 1, 1, 1, 1, 1, 1, 1, 1, 1, 1, 1, 1, 1, 1, 1, 1, 1, 1, 1, 1, 1, 1, 1, 1, 1, 1, 1, 1, 1, 1, 1, 1, 1, 1, 1, 1, 1, 1, 1, 1, 1, 1, 1, 1, 1, 1, 1, 1, 1, 1, 1, 1, 1, 1, 1, 1, 1, 1, 1, 1, 1, 1, 1, 1, 1, 1, 1, 1, 1, 1, 1, 1, 1, 1, 1, 1, 1, 1, 1, 1, 1, 1, 1, 1, 1, 1, 1, 1, 1, 1, 1, 1, 1, 1, 1, 1, 1, 1, 1, 1, 1, 1, 1, 1, 1, 1, 1, 1, 1, 1, 1, 1, 1, 1, 1, 1, 1, 1, 1, 1, 1, 1, 1, 1, 1, 1, 1, 1, 1, 1, 1, 1, 1, 1, 1, 1, 1, 1, 1, 1, 1, 1, 1, 1, 1, 1, 1, 1, 1, 1, 1, 1, 1, 1, 1, 1, 1, 1, 1, 1, 1, 1, 1, 1, 1, 1, 1, 1, 1, 1, 1, 1, 1, 1, 1, 1, 1, 1, 1, 1, 1, 1, 1, 1, 1, 1, 1, 1, 1, 1, 1, 1, 1, 1, 1, 1, 1, 1, 1, 1, 1, 1, 1, 1, 1, 1, 1, 1, 1, 1, 1, 1, 1, 1, 1, 1, 1, 1, 1, 1, 1, 1, 1, 1, 1, 1, 1, 1, 1, 1, 1, 1, 1, 1, 1, 1, 1, 1, 1, 1, 1, 1, 1, 1, 1, 1, 1, 1, 1, 1, 1, 1, 1, 1, 1, 1, 1, 1, 1, 1, 1, 1, 1, 1, 1, 1, 1, 1, 1, 1, 1, 1, 1, 1, 1, 1, 1, 1, 1, 1, 1, 1, 1, 1, 1, 1, 1, 1, 1, 1, 1, 1, 1, 1, 1, 1, 1, 1, 1, 1, 1, 1, 1, 1, 1, 1, 1, 1, 1, 1, 1, 1, 1, 1, 1, 1, 1, 1, 1, 1, 1, 1, 1, 1, 1, 1, 1, 1, 1, 1, 1, 1, 1, 1, 1, 1, 1, 1, 1, 1, 1, 1, 1, 1, 1, 1, 1, 1, 1, 1, 1, 1, 1, 1, 1, 1, 1, 1, 1, 1, 1, 1, 1, 1, 1, 1, 1, 1, 1, 1, 1, 1, 1, 1, 1, 1, 1, 1, 1, 1, 1, 1, 1, 1, 1, 1, 1, 1, 1, 1, 1, 1, 1, 1, 1, 1, 1, 1, 1, 1, 1, 1, 1, 1, 1, 1, 1, 1, 1, 1, 1, 1, 1, 1, 1, 1, 1, 1, 1, 1, 1, 1, 1, 1, 1, 1, 1, 1, 1, 1, 1, 1, 1, 1, 1, 1, 1, 1, 1, 1, 1, 1, 1, 1, 1, 1, 1, 1, 1, 1, 1, 1, 1, 1, 1, 1, 1, 1, 1, 1, 1, 1, 1, 1, 1, 1, 1, 1, 1, 1, 1, 1, 1, 1, 1, 1, 1, 1, 1, 1, 1, 1, 1, 1, 1, 1, 1, 1, 1, 1, 1, 1, 1, 1, 1, 1, 1, 1, 1, 1, 1, 1, 1, 1, 1, 1, 1, 1, 1, 1, 1, 1, 1, 1, 1, 1, 1, 1, 1, 1, 1, 1, 1, 1, 1, 1, 1, 1, 1, 1, 1, 1, 1, 1, 1, 1, 1, 1, 1, 1, 1, 1, 1, 1, 1, 1, 1, 1, 1, 1, 1, 1, 1, 1, 1, 1, 1, 1, 1, 1, 1, 1, 1, 1, 1, 1, 1, 1, 1, 1, 1, 1, 1, 1, 1, 1, 1, 1, 1, 1, 1, 1, 1, 1, 1, 1, 1, 1, 1, 1, 1, 1, 1, 1, 1, 1, 1, 1, 1, 1, 1, 1, 1, 1, 1, 1, 1, 1, 1, 1, 1, 1, 1, 1, 1, 1, 1, 1, 1, 1, 1, 1, 1, 1, 1, 1, 1, 1, 1, 1, 1, 1, 1, 1, 1, 1, 1, 1, 1, 1, 1, 1, 1, 1, 1, 1, 1, 1, 1, 1, 1, 1, 1, 1, 1, 1, 1, 1, 1, 1, 1, 1, 1, 1, 1, 1, 1, 1, 1, 1, 1, 1, 1, 1, 1, 1, 1, 1, 1, 1, 1, 1, 1, 1, 1, 1, 1, 1, 1, 1, 1, 1, 1, 1, 1, 1, 1, 1, 1, 1, 1, 1, 1, 1, 1, 1, 1, 1, 1, 1, 1, 1, 1, 1, 1, 1, 1, 1, 1, 1, 1, 1, 1, 1, 1, 1, 1, 1, 1, 1, 1, 1, 1, 1, 1, 1, 1, 1, 1, 1, 1, 1, 1, 1, 1, 1, 1, 1, 1, 1, 1, 1, 1, 1, 1, 1, 1, 1, 1, 1, 1, 1, 1, 1, 1, 1, 1, 1, 1, 1, 1, 1, 1, 1, 1, 1, 1, 1, 1, 1, 1, 1, 1, 1, 1, 1, 1, 1, 1, 1, 1, 1, 1, 1, 1, 1, 1, 1, 1, 1, 1, 1, 1, 1, 1, 1, 1, 1, 1, 1, 1, 1, 1, 1, 1, 1, 1, 1, 1, 1, 1, 1, 1, 1, 1, 1, 1, 1, 1, 1, 1, 1, 1, 1, 1, 1, 1, 1, 1, 1, 1, 1, 1, 1, 1, 1, 1, 1, 1, 1, 1, 1, 1, 1, 1, 1, 1, 1, 1, 1, 1, 1, 1, 1, 1, 1, 1, 1, 1, 1, 1, 1, 1, 1, 1, 1, 1, 1, 1, 1, 1, 1, 1, 1, 1, 1, 1, 1, 1, 1, 1, 1, 1, 1, 1, 1, 1, 1, 1, 1, 1, 1, 1, 1, 1, 1, 1, 1, 1, 1, 1, 1, 1, 1, 1, 1, 1, 1, 1, 1, 1, 1, 1, 1, 1, 1, 1, 1, 1, 1, 1, 1, 1, 1, 1, 1, 1, 1, 1, 1, 1, 1, 1, 1, 1, 1, 1, 1, 1, 1, 1, 1, 1, 1, 1, 1, 1, 1, 1, 1, 1, 1, 1, 1, 1, 1, 1, 1, 1, 1, 1, 1, 1, 1, 1, 1, 1, 1, 1, 1, 1, 1, 1, 1, 1, 1, 1, 1, 1, 1, 1, 1, 1, 1, 1, 1, 1, 1, 1, 1, 1, 1, 1, 1, 1, 1, 1, 1, 1, 1, 1, 1, 1, 1, 1, 1, 1, 1, 1, 1, 1, 1, 1, 1, 1, 1, 1, 1, 1, 1, 1, 1, 1, 1, 1, 1, 1, 1, 1, 1, 1, 1, 1, 1, 1, 1, 1, 1, 1, 1, 1, 1, 1, 1, 1, 1, 1, 1, 1, 1, 1, 1, 1, 1, 1, 1, 1, 1, 1, 1, 1, 1, 1, 1, 1, 1, 1, 1, 1, 1, 1, 1, 1, 1, 1, 1, 1, 1, 1, 1, 1, 1, 1, 1, 1, 1, 1, 1, 1, 1, 1, 1, 1, 1, 1, 1, 1, 1, 1, 1, 1, 1, 1, 1, 1, 1, 1, 1, 1, 1, 1, 1, 1, 1, 1, 1, 1, 1, 1, 1, 1, 1, 1, 1, 1, 1, 1, 1, 1, 1, 1, 1, 1, 1, 1, 1, 1, 1, 1, 1, 1, 1, 1, 1, 1, 1, 1, 1, 1, 1, 1, 1, 1, 1, 1, 1, 1, 1, 1, 1, 1, 1, 1, 1, 1, 1, 1, 1, 1, 1, 1, 1, 1, 1, 1, 1, 1, 1, 1, 1, 1, 1, 1, 1, 1, 1, 1, 1, 1, 1, 1, 1, 1, 1, 1, 1, 1, 1, 1, 1, 1, 1, 1, 1, 1, 1, 1, 1, 1, 1, 1, 1, 1, 1, 1, 1, 1, 1, 1, 1, 1, 1, 1, 1, 1, 1, 1, 1, 1, 1, 1, 1, 1, 1, 1, 1, 1, 1, 1, 1, 1, 1, 1, 1, 1, 1, 1, 1, 1, 1, 1, 1, 1, 1, 1, 1, 1, 1, 1, 1, 1, 1, 1, 1, 1, 1, 1, 1, 1, 1, 1, 1, 1, 1, 1, 1, 1, 1, 1, 1, 1, 1, 1, 1, 1, 1, 1, 1, 1, 1, 1, 1, 1, 1, 1, 1, 1, 1, 1, 1, 1, 1, 1, 1, 1, 1, 1, 1, 1, 1, 1, 1, 1, 1, 1, 1, 1, 1, 1, 1, 1, 1, 1, 1, 1, 1, 1, 1, 1, 1, 1, 1, 1, 1, 1, 1, 1, 1, 1, 1, 1, 1, 1, 1, 1, 1, 1, 1, 1, 1, 1, 1, 1, 1, 1, 1, 1, 1, 1, 1, 1, 1, 1, 1, 1, 1, 1, 1, 1, 1, 1, 1, 1, 1, 1, 1, 1, 1, 1, 1, 1, 1, 1, 1, 1, 1, 1, 1, 1, 1, 1, 1, 1, 1, 1, 1, 1, 1, 1, 1, 1, 1, 1, 1, 1, 1, 1, 1, 1, 1, 1, 1, 1, 1, 1, 1, 1, 1, 1, 1, 1, 1, 1, 1, 1, 1, 1, 1, 1, 1, 1, 1, 1, 1, 1, 1, 1, 1, 1, 1, 1, 1, 1, 1, 1, 1, 1, 1, 1, 1, 1, 1, 1, 1, 1, 1, 1, 1, 1, 1, 1, 1, 1, 1, 1, 1, 1, 1, 1, 1, 1, 1, 1, 1, 1, 1, 1, 1, 1, 1, 1, 1, 1, 1, 1, 1, 1, 1, 1, 1, 1, 1, 1, 1, 1, 1, 1, 1, 1, 1, 1, 1, 1, 1, 1, 1, 1, 1, 1, 1, 1, 1, 1, 1, 1, 1, 1, 1, 1, 1, 1, 1, 1, 1, 1, 1, 1, 1, 1, 1, 1, 1, 1, 1, 1, 1, 1, 1, 1, 1, 1, 1, 1, 1, 1, 1, 1, 1, 1, 1, 1, 1, 1, 1, 1, 1, 1, 1, 1, 1, 1, 1, 1, 1, 1, 1, 1, 1, 1, 1, 1, 1, 1, 1, 1, 1, 1, 1, 1, 1, 1, 1, 1, 1, 1, 1, 1, 1, 1, 1, 1, 1, 1, 1, 1, 1, 1, 1, 1, 1, 1, 1, 1, 1, 1, 1, 1, 1, 1, 1, 1, 1, 1, 1, 1, 1, 1, 1, 1, 1, 1, 1, 1, 1, 1, 1, 1, 1, 1, 1, 1, 1, 1, 1, 1, 1, 1, 1, 1, 1, 1, 1, 1, 1, 1, 1, 1, 1, 1, 1, 1, 1, 1, 1, 1, 1, 1, 1, 1, 1, 1, 1, 1, 1, 1, 1, 1, 1, 1, 1, 1, 1, 1, 1, 1, 1, 1, 1, 1, 1, 1, 1, 1, 1, 1, 1, 1, 1, 1, 1, 1, 1, 1, 1, 1, 1, 1, 1, 1, 1, 1, 1, 1, 1, 1, 1, 1, 1, 1, 1, 1, 1, 1, 1, 1, 1, 1, 1, 1, 1, 1, 1, 1, 1, 1, 1, 1, 1, 1, 1, 1, 1, 1, 1, 1, 1, 1, 1, 1, 1, 1, 1, 1, 1, 1, 1, 1, 1, 1, 1, 1, 1, 1, 1, 1, 1, 1, 1, 1, 1, 1, 1, 1, 1, 1, 1, 1, 1, 1, 1, 1, 1, 1, 1, 1, 1, 1, 1, 1, 1, 1, 1, 1, 1, 1, 1, 1, 1, 1, 1, 1, 1, 1, 1, 1, 1, 1, 1, 1, 1, 1, 1, 1, 1, 1, 1, 1, 1, 1, 1, 1, 1, 1, 1, 1, 1, 1, 1, 1, 1, 1, 1, 1, 1, 1, 1, 1, 1, 1, 1, 1, 1, 1, 1, 1, 1, 1, 1, 1, 1, 1, 1, 1, 1, 1, 1, 1, 1, 1, 1, 1, 1, 1, 1, 1, 1, 1, 1, 1, 1, 1, 1, 1, 1, 1, 1, 1, 1, 1, 1, 1, 1, 1, 1, 1, 1, 1, 1, 1, 1, 1, 1, 1, 1, 1, 1, 1, 1, 1, 1, 1, 1, 1, 1, 1, 1, 1, 1, 1, 1, 1, 1, 1, 1, 1, 1, 1, 1, 1, 1, 1, 1, 1, 1, 1, 1, 1, 1, 1, 1, 1, 1, 1, 1, 1, 1, 1, 1, 1, 1, 1, 1, 1, 1, 1, 1, 1, 1, 1, 1, 1, 1, 1, 1, 1, 1, 1, 1, 1, 1, 1, 1, 1, 1, 1, 1, 1, 1, 1, 1, 1, 1, 1, 1, 1, 1, 1, 1, 1, 1, 1, 1, 1, 1, 1, 1, 1, 1, 1, 1, 1, 1, 1, 1, 1, 1, 1, 1, 1, 1, 1, 1, 1, 1, 1, 1, 1, 1, 1, 1, 1, 1, 1, 1, 1, 1, 1, 1, 1, 1, 1, 1, 1, 1, 1, 1, 1, 1, 1, 1, 1, 1, 1, 1, 1, 1, 1, 1, 1, 1, 1, 1, 1, 1, 1, 1, 1, 1, 1, 1, 1, 1, 1, 1, 1, 1, 1, 1, 1, 1, 1, 1, 1, 1, 1, 1, 1, 1, 1, 1, 1, 1, 1, 1, 1, 1, 1, 1, 1, 1, 1, 1, 1, 1, 1, 1, 1, 1, 1, 1, 1, 1, 1, 1, 1, 1, 1, 1, 1, 1, 1, 1, 1, 1, 1, 1, 1, 1, 1, 1, 1, 1, 1, 1, 1, 1, 1, 1, 1, 1, 1, 1, 1, 1, 1, 1, 1, 1, 1, 1, 1, 1, 1, 1, 1, 1, 1, 1, 1, 1, 1, 1, 1, 1, 1, 1, 1, 1, 1, 1, 1, 1, 1, 1, 1, 1, 1, 1, 1, 1, 1, 1, 1, 1, 1, 1, 1, 1, 1, 1, 1, 1, 1, 1, 1, 1, 1, 1, 1, 1, 1, 1, 1, 1, 1, 1, 1, 1, 1, 1, 1, 1, 1, 1, 1, 1, 1, 1, 1, 1, 1, 1, 1, 1, 1, 1, 1, 1, 1, 1, 1, 1, 1, 1, 1, 1, 1, 1, 1, 1, 1, 1, 1, 1, 1, 1, 1, 1, 1, 1, 1, 1, 1, 1, 1, 1, 1, 1, 1, 1, 1, 1, 1, 1, 1, 1, 1, 1, 1, 1, 1, 1, 1, 1, 1, 1, 1, 1, 1, 1, 1, 1, 1, 1, 1, 1, 1, 1, 1, 1, 1, 1, 1, 1, 1, 1, 1, 1, 1, 1, 1, 1, 1, 1, 1, 1, 1, 1, 1, 1, 1, 1, 1, 1, 1, 1, 1, 1, 1, 1, 1, 1, 1, 1, 1, 1, 1, 1, 1, 1, 1, 1, 1, 1, 1, 1, 1, 1, 1, 1, 1, 1, 1, 1, 1, 1, 1, 1, 1, 1, 1, 1, 1, 1, 1, 1, 1, 1, 1, 1, 1, 1, 1, 1, 1, 1, 1, 1, 1, 1, 1, 1, 1, 1, 1, 1, 1, 1, 1, 1, 1, 1, 1, 1, 1, 1, 1, 1, 1, 1, 1, 1, 1, 1, 1, 1, 1, 1, 1, 1, 1, 1, 1, 1, 1, 1, 1, 1, 1, 1, 1, 1, 1, 1, 1, 1, 1, 1, 1, 1, 1, 1, 1, 1, 1, 1, 1, 1, 1, 1, 1, 1, 1, 1, 1, 1, 1, 1, 1, 1, 1, 1, 1, 1, 1, 1, 1, 1, 1, 1, 1, 1, 1, 1, 1, 1, 1, 1, 1, 1, 1, 1, 1, 1, 1, 1, 1, 1, 1, 1, 1, 1, 1, 1, 1, 1, 1, 1, 1, 1, 1, 1, 1, 1, 1, 1, 1, 1, 1, 1, 1, 1, 1, 1, 1, 1, 1, 1, 1, 1, 1, 1, 1, 1, 1, 1, 1, 1, 1, 1, 1, 1, 1, 1, 1, 1, 1, 1, 1, 1, 1, 1, 1, 1, 1, 1, 1, 1, 1, 1, 1, 1, 1, 1, 1, 1, 1, 1, 1, 1, 1, 1, 1, 1, 1, 1, 1, 1, 1, 1, 1, 1, 1, 1, 1, 1, 1, 1, 1, 1, 1, 1, 1, 1, 1, 1, 1, 1, 1, 1, 1, 1, 1, 1, 1, 1, 1, 1, 1, 1, 1, 1, 1, 1, 1, 1, 1, 1, 1, 1, 1, 1, 1, 1, 1, 1, 1, 1, 1, 1, 1, 1, 1, 1, 1, 1, 1, 1, 1, 1, 1, 1, 1, 1, 1, 1, 1, 1, 1, 1, 1, 1, 1, 1, 1, 1, 1, 1, 1, 1, 1, 1, 1, 1, 1, 1, 1, 1, 1, 1, 1, 1, 1, 1, 1, 1, 1, 1, 1, 1, 1, 1, 1, 1, 1, 1, 1, 1, 1, 1, 1, 1, 1, 1, 1, 1, 1, 1, 1, 1, 1, 1, 1, 1, 1, 1, 1, 1, 1, 1, 1, 1, 1, 1, 1, 1, 1, 1, 1, 1, 1, 1, 1, 1, 1, 1, 1, 1, 1, 1, 1, 1, 1, 1, 1, 1, 1, 1, 1, 1, 1, 1, 1, 1, 1, 1, 1, 1, 1, 1, 1, 1, 1, 1, 1, 1, 1, 1, 1, 1, 1, 1, 1, 1, 1, 1, 1, 1, 1, 1, 1, 1, 1, 1, 1, 1, 1, 1, 1, 1, 1, 1, 1, 1, 1, 1, 1, 1, 1, 1, 1, 1, 1, 1, 1, 1, 1, 1, 1, 1, 1, 1, 1, 1, 1, 1, 1, 1, 1, 1, 1, 1, 1, 1, 1, 1, 1, 1, 1, 1, 1, 1, 1, 1, 1, 1, 1, 1, 1, 1, 1, 1, 1, 1, 1, 1, 1, 1, 1, 1, 1, 1, 1, 1, 1, 1, 1, 1, 1, 1, 1, 1, 1, 1, 1, 1, 1, 1, 1, 1, 1, 1, 1, 1, 1, 1, 1, 1, 1, 1, 1, 1, 1, 1, 1, 1, 1, 1, 1, 1, 1, 1, 1, 1, 1, 1, 1, 1, 1, 1, 1, 1, 1, 1, 1, 1, 1, 1, 1, 1, 1, 1, 1, 1, 1, 1, 1, 1, 1, 1, 1, 1, 1, 1, 1, 1, 1, 1, 1, 1, 1, 1, 1, 1, 1, 1, 1, 1, 1, 1, 1, 1, 1, 1, 1, 1, 1, 1, 1, 1, 1, 1, 1, 1, 1, 1, 1, 1, 1, 1, 1, 1, 1, 1, 1, 1, 1, 1, 1, 1, 1, 1, 1, 1, 1, 1, 1, 1, 1, 1, 1, 1, 1, 1, 1, 1, 1, 1, 1, 1, 1, 1, 1, 1, 1, 1, 1, 1, 1, 1, 1, 1, 1, 1, 1, 1, 1, 1, 1, 1, 1, 1, 1, 1, 1, 1, 1, 1, 1, 1, 1, 1, 1, 1, 1, 1, 1, 1, 1, 1, 1, 1, 1, 1, 1, 1, 1, 1, 1, 1, 1, 1, 1, 1, 1, 1, 1, 1, 1, 1, 1, 1, 1, 1, 1, 1, 1, 1, 1, 1, 1, 1, 1, 1, 1, 1, 1, 1, 1, 1, 1, 1, 1, 1, 1, 1, 1, 1, 1, 1, 1, 1, 1, 1, 1, 1, 1, 1, 1, 1, 1, 1, 1, 1, 1, 1, 1, 1, 1, 1, 1, 1, 1, 1, 1, 1, 1, 1, 1, 1, 1, 1, 1, 1, 1, 1, 1, 1, 1, 1, 1, 1, 1, 1, 1, 1, 1, 1, 1, 1, 1, 1, 1, 1, 1, 1, 1, 1, 1, 1, 1, 1, 1, 1, 1, 1, 1, 1, 1, 1, 1, 1, 1, 1, 1, 1, 1, 1, 1, 1, 1, 1, 1, 1, 1, 1, 1, 1, 1, 1, 1, 1, 1, 1, 1, 1, 1, 1, 1, 1, 1, 1, 1, 1, 1, 1, 1, 1, 1, 1, 1, 1, 1, 1, 1, 1, 1, 1, 1, 1, 1, 1, 1, 1, 1, 1, 1, 1, 1, 1, 1, 1, 1, 1, 1, 1, 1, 1, 1, 1, 1, 1, 1, 1, 1, 1, 1, 1, 1, 1, 1, 1, 1, 1, 1, 1, 1, 1, 1, 1, 1, 1, 1, 1, 1, 1, 1, 1, 1, 1, 1, 1, 1, 1, 1, 1, 1, 1, 1, 1, 1, 1, 1, 1, 1, 1, 1, 1, 1, 1, 1, 1, 1, 1, 1, 1, 1, 1, 1, 1, 1, 1, 1, 1, 1, 1, 1, 1, 1, 1, 1, 1, 1, 1, 1, 1, 1, 1, 1, 1, 1, 1, 1, 1, 1, 1, 1, 1, 1, 1, 1, 1, 1, 1, 1, 1, 1, 1, 1, 1, 1, 1, 1, 1, 1, 1, 1, 1, 1, 1, 1, 1, 1, 1, 1, 1, 1, 1, 1, 1, 1, 1, 1, 1, 1, 1, 1, 1, 1, 1, 1, 1, 1, 1, 1, 1, 1, 1, 1, 1, 1, 1, 1, 1, 1, 1, 1, 1, 1, 1, 1, 1, 1, 1, 1, 1, 1, 1, 1, 1, 1, 1, 1, 1, 1, 1, 1, 1, 1, 1, 1, 1, 1, 1, 1, 1, 1, 1, 1, 1, 1, 1, 1, 1, 1, 1, 1, 1, 1, 1, 1, 1, 1, 1, 1, 1, 1, 1, 1, 1, 1, 1, 1, 1, 1, 1, 1, 1, 1, 1, 1, 1, 1, 1, 1, 1, 1, 1, 1, 1, 1, 1, 1, 1, 1, 1, 1, 1, 1, 1, 1, 1, 1, 1, 1, 1, 1, 1, 1, 1, 1, 1, 1, 1, 1, 1, 1, 1, 1, 1, 1, 1, 1, 1, 1, 1, 1, 1, 1, 1, 1, 1, 1, 1, 1, 1, 1, 1, 1, 1, 1, 1, 1, 1, 1, 1, 1, 1, 1, 1, 1, 1, 1, 1, 1, 1, 1, 1, 1, 1, 1, 1, 1, 1, 1, 1, 1, 1, 1, 1, 1, 1, 1, 1, 1, 1, 1, 1, 1, 1, 1, 1, 1, 1, 1, 1, 1, 1, 1, 1, 1, 1, 1, 1, 1, 1, 1, 1, 1, 1, 1, 1, 1, 1, 1, 1, 1, 1, 1, 1, 1, 1, 1, 1, 1, 1, 1, 1, 1, 1, 1, 1, 1, 1, 1, 1, 1, 1, 1, 1, 1, 1, 1, 1, 1, 1, 1, 1, 1, 1, 1, 1, 1, 1, 1, 1, 1, 1, 1, 1, 1, 1, 1, 1, 1, 1, 1, 1, 1, 1, 1, 1, 1, 1, 1, 1, 1, 1, 1, 1, 1, 1, 1, 1, 1, 1, 1, 1, 1, 1, 1, 1, 1, 1, 1, 1, 1, 1, 1, 1, 1, 1, 1, 1, 1, 1, 1, 1, 1, 1, 1, 1, 1, 1, 1, 1, 1, 1, 1, 1, 1, 1, 1, 1, 1, 1, 1, 1, 1, 1, 1, 1, 1, 1, 1, 1, 1, 1, 1, 1, 1, 1, 1, 1, 1, 1, 1, 1, 1, 1, 1, 1, 1, 1, 1, 1, 1, 1, 1, 1, 1, 1, 1, 1, 1, 1, 1, 1, 1, 1, 1, 1, 1, 1, 1, 1, 1, 1, 1, 1, 1, 1, 1, 1, 1, 1, 1, 1, 1, 1, 1, 1, 1, 1, 1, 1, 1, 1, 1, 1, 1, 1, 1, 1, 1, 1, 1, 1, 1, 1, 1, 1, 1, 1, 1, 1, 1, 1, 1, 1, 1, 1, 1, 1, 1, 1, 1, 1, 1, 1, 1, 1, 1, 1, 1, 1, 1, 1, 1, 1, 1, 1, 1, 1, 1, 1, 1, 1, 1, 1, 1, 1, 1, 1, 1, 1, 1, 1, 1, 1, 1, 1, 1, 1, 1, 1, 1, 1, 1, 1, 1, 1, 1, 1, 1, 1, 1, 1, 1, 1, 1, 1, 1, 1, 1, 1, 1, 1, 1, 1, 1, 1, 1, 1, 1, 1, 1, 1, 1, 1, 1, 1, 1, 1, 1, 1, 1, 1, 1, 1, 1, 1, 1, 1, 1, 1, 1, 1, 1, 1, 1, 1, 1, 1, 1, 1, 1, 1, 1, 1, 1, 1, 1, 1, 1, 1, 1, 1, 1, 1, 1, 1, 1, 1, 1, 1, 1, 1, 1, 1, 1, 1, 1, 1, 1, 1, 1, 1, 1, 1, 1, 1, 1, 1, 1, 1, 1, 1, 1, 1, 1, 1, 1, 1, 1, 1, 1, 1, 1, 1, 1, 1, 1, 1, 1, 1, 1, 1, 1, 1, 1, 1, 1, 1, 1, 1, 1, 1, 1, 1, 1, 1, 1, 1, 1, 1, 1, 1, 1, 1, 1, 1, 1, 1, 1, 1, 1, 1, 1, 1, 1, 1, 1, 1, 1, 1, 1, 1, 1, 1, 1, 1, 1, 1, 1, 1, 1, 1, 1, 1, 1, 1, 1, 1, 1, 1, 1, 1, 1, 1, 1, 1, 1, 1, 1, 1, 1, 1, 1, 1, 1, 1, 1, 1, 1, 1, 1, 1, 1, 1, 1, 1, 1, 1, 1, 1, 1, 1, 1, 1, 1, 1, 1, 1, 1, 1, 1, 1, 1, 1, 1, 1, 1, 1, 1, 1, 1, 1, 1, 1, 1, 1, 1, 1, 1, 1, 1, 1, 1, 1, 1, 1, 1, 1, 1, 1, 1, 1, 1, 1, 1, 1, 1, 1, 1, 1, 1, 1, 1, 1, 1, 1, 1, 1, 1, 1, 1, 1, 1, 1, 1, 1, 1, 1, 1, 1, 1, 1, 1, 1, 1, 1, 1, 1, 1, 1, 1, 1, 1, 1, 1, 1, 1, 1, 1, 1, 1, 1, 1, 1, 1, 1, 1, 1, 1, 1, 1, 1, 1, 1, 1, 1, 1, 1, 1, 1, 1, 1, 1, 1, 1, 1, 1, 1, 1, 1, 1, 1, 1, 1, 1, 1, 1, 1, 1, 1, 1, 1, 1, 1, 1, 1, 1, 1, 1, 1, 1, 1, 1, 1, 1, 1, 1, 1, 1, 1, 1, 1, 1, 1, 1, 1, 1, 1, 1, 1, 1, 1, 1, 1, 1, 1, 1, 1, 1, 1, 1, 1, 1, 1, 1, 1, 1, 1, 1, 1, 1, 1, 1, 1, 1, 1, 1, 1, 1, 1, 1, 1, 1, 1, 1, 1, 1, 1, 1, 1, 1, 1, 1, 1, 1, 1, 1, 1, 1, 1, 1, 1, 1, 1, 1, 1, 1, 1, 1, 1, 1, 1, 1], 'labels': 3}\n",
            "\n",
            "Train samples with energy features: 3283 out of 3283\n",
            "Validation samples with energy features: 821 out of 821\n"
          ]
        }
      ],
      "source": [
        "from transformers import Wav2Vec2FeatureExtractor\n",
        "from datasets import load_dataset\n",
        "import torchaudio\n",
        "import numpy as np\n",
        "\n",
        "# 确保 model_name_or_path 已定义\n",
        "model_name_or_path = \"c3f9d884181a224a6ac87bf8885c84d1cff3384f\"\n",
        "processor = Wav2Vec2FeatureExtractor.from_pretrained(model_name_or_path)\n",
        "\n",
        "# 定义输入和输出列\n",
        "input_column = \"path\"\n",
        "output_column = \"case\"\n",
        "\n",
        "# 定义预处理函数\n",
        "def preprocess_function(examples):\n",
        "    audio = [speech_file_to_array_fn(path) for path in examples[\"path\"]]\n",
        "    result = processor(audio, sampling_rate=16000, return_tensors=\"pt\", padding=True)\n",
        "    result[\"labels\"] = [label_to_id(label, label_list) for label in examples[\"case\"]]\n",
        "    \n",
        "    # 加载能量特征\n",
        "    energy_features = []\n",
        "    for path in examples[\"energy_features_path\"]:\n",
        "        if path:\n",
        "            features = load_energy_features(path)\n",
        "            if features is not None:\n",
        "                features = np.array(features)\n",
        "            energy_features.append(features)\n",
        "        else:\n",
        "            energy_features.append(None)\n",
        "            \n",
        "    result[\"energy_features\"] = energy_features\n",
        "    \n",
        "    return result\n",
        "\n",
        "# 加载数据集\n",
        "data_files = {\n",
        "    \"train\": \"data_1k2k3k_withbandpass_organized_dataset_extrafeatures/train.csv\",\n",
        "    \"validation\": \"data_1k2k3k_withbandpass_organized_dataset_extrafeatures/test.csv\",\n",
        "}\n",
        "dataset = load_dataset(\"csv\", data_files=data_files, delimiter=\"\\t\")\n",
        "train_dataset = dataset[\"train\"]\n",
        "eval_dataset = dataset[\"validation\"]\n",
        "\n",
        "# 获取独特的标签\n",
        "label_list = train_dataset.unique(\"case\")\n",
        "label_list.sort()  # 排序以确保确定性\n",
        "num_labels = len(label_list)\n",
        "print(f\"A classification problem with {num_labels} classes: {label_list}\")\n",
        "\n",
        "# 预处理和映射数据集\n",
        "train_dataset = train_dataset.map(\n",
        "    preprocess_function,\n",
        "    batch_size=100,\n",
        "    batched=True,\n",
        "    num_proc=1,\n",
        "    remove_columns=[\"name\", \"prefix\", \"case_id\", \"sample_set\"]\n",
        ")\n",
        "eval_dataset = eval_dataset.map(\n",
        "    preprocess_function,\n",
        "    batch_size=100,\n",
        "    batched=True,\n",
        "    num_proc=1,\n",
        "    remove_columns=[\"name\", \"prefix\", \"case_id\", \"sample_set\"]\n",
        ")\n",
        "\n",
        "print(train_dataset)\n",
        "print(eval_dataset)\n",
        "\n",
        "# 检查处理后的数据集\n",
        "print(\"\\nProcessed train dataset example:\")\n",
        "print(train_dataset[0])\n",
        "print(\"\\nProcessed eval dataset example:\")\n",
        "print(eval_dataset[0])\n",
        "\n",
        "# 统计包含能量特征的样本数\n",
        "train_with_features = sum(1 for item in train_dataset if item['energy_features'] is not None)\n",
        "eval_with_features = sum(1 for item in eval_dataset if item['energy_features'] is not None)\n",
        "print(f\"\\nTrain samples with energy features: {train_with_features} out of {len(train_dataset)}\")\n",
        "print(f\"Validation samples with energy features: {eval_with_features} out of {len(eval_dataset)}\")"
      ]
    },
    {
      "cell_type": "code",
      "execution_count": 67,
      "metadata": {
        "colab": {
          "base_uri": "https://localhost:8080/"
        },
        "id": "eu1qcRucHk6d",
        "outputId": "c6a96e85-67d7-4936-b142-db334273eb7f"
      },
      "outputs": [
        {
          "ename": "KeyError",
          "evalue": "'input_values'",
          "output_type": "error",
          "traceback": [
            "\u001b[1;31m---------------------------------------------------------------------------\u001b[0m",
            "\u001b[1;31mKeyError\u001b[0m                                  Traceback (most recent call last)",
            "Cell \u001b[1;32mIn[67], line 2\u001b[0m\n\u001b[0;32m      1\u001b[0m idx \u001b[38;5;241m=\u001b[39m \u001b[38;5;241m4\u001b[39m\n\u001b[1;32m----> 2\u001b[0m \u001b[38;5;28mprint\u001b[39m(\u001b[38;5;124mf\u001b[39m\u001b[38;5;124m\"\u001b[39m\u001b[38;5;124mTraining input_values: \u001b[39m\u001b[38;5;132;01m{\u001b[39;00mtrain_dataset[idx][\u001b[38;5;124m'\u001b[39m\u001b[38;5;124minput_values\u001b[39m\u001b[38;5;124m'\u001b[39m]\u001b[38;5;132;01m}\u001b[39;00m\u001b[38;5;124m\"\u001b[39m)\n\u001b[0;32m      3\u001b[0m \u001b[38;5;28mprint\u001b[39m(\u001b[38;5;124mf\u001b[39m\u001b[38;5;124m\"\u001b[39m\u001b[38;5;124mTraining attention_mask: \u001b[39m\u001b[38;5;132;01m{\u001b[39;00mtrain_dataset[idx][\u001b[38;5;124m'\u001b[39m\u001b[38;5;124mattention_mask\u001b[39m\u001b[38;5;124m'\u001b[39m]\u001b[38;5;132;01m}\u001b[39;00m\u001b[38;5;124m\"\u001b[39m)\n\u001b[0;32m      4\u001b[0m \u001b[38;5;28mprint\u001b[39m(\u001b[38;5;124mf\u001b[39m\u001b[38;5;124m\"\u001b[39m\u001b[38;5;124mTraining labels: \u001b[39m\u001b[38;5;132;01m{\u001b[39;00mtrain_dataset[idx][\u001b[38;5;124m'\u001b[39m\u001b[38;5;124mlabels\u001b[39m\u001b[38;5;124m'\u001b[39m]\u001b[38;5;132;01m}\u001b[39;00m\u001b[38;5;124m - \u001b[39m\u001b[38;5;132;01m{\u001b[39;00mtrain_dataset[idx][\u001b[38;5;124m'\u001b[39m\u001b[38;5;124mcase\u001b[39m\u001b[38;5;124m'\u001b[39m]\u001b[38;5;132;01m}\u001b[39;00m\u001b[38;5;124m\"\u001b[39m)\n",
            "\u001b[1;31mKeyError\u001b[0m: 'input_values'"
          ]
        }
      ],
      "source": [
        "idx = 4\n",
        "print(f\"Training input_values: {train_dataset[idx]['input_values']}\")\n",
        "print(f\"Training attention_mask: {train_dataset[idx]['attention_mask']}\")\n",
        "print(f\"Training labels: {train_dataset[idx]['labels']} - {train_dataset[idx]['case']}\")"
      ]
    },
    {
      "cell_type": "markdown",
      "metadata": {
        "id": "HcrEgJO9Hmx7"
      },
      "source": [
        "Great, now we've successfully read all the audio files, resampled the audio files to 16kHz, and mapped each audio to the corresponding label."
      ]
    },
    {
      "cell_type": "markdown",
      "metadata": {
        "id": "QL7q6DfcH0Fs"
      },
      "source": [
        "## Model\n",
        "\n",
        "Before diving into the training part, we need to build our classification model based on the merge strategy."
      ]
    },
    {
      "cell_type": "code",
      "execution_count": 49,
      "metadata": {
        "id": "uJZoC4T5HpuP"
      },
      "outputs": [],
      "source": [
        "from dataclasses import dataclass\n",
        "from typing import Optional, Tuple\n",
        "import torch\n",
        "from transformers.file_utils import ModelOutput\n",
        "\n",
        "\n",
        "@dataclass\n",
        "class SpeechClassifierOutput(ModelOutput):\n",
        "    loss: Optional[torch.FloatTensor] = None\n",
        "    logits: torch.FloatTensor = None\n",
        "    hidden_states: Optional[Tuple[torch.FloatTensor]] = None\n",
        "    attentions: Optional[Tuple[torch.FloatTensor]] = None\n"
      ]
    },
    {
      "cell_type": "code",
      "execution_count": 50,
      "metadata": {
        "id": "Fv62ShDsH5DZ"
      },
      "outputs": [],
      "source": [
        "import torch\n",
        "import torch.nn as nn\n",
        "from torch.nn import BCEWithLogitsLoss, CrossEntropyLoss, MSELoss\n",
        "\n",
        "from transformers.models.wav2vec2.modeling_wav2vec2 import (\n",
        "    Wav2Vec2PreTrainedModel,\n",
        "    Wav2Vec2Model\n",
        ")\n",
        "\n",
        "class Wav2Vec2ClassificationHead(nn.Module):\n",
        "    \"\"\"Head for wav2vec classification task.\"\"\"\n",
        "\n",
        "    def __init__(self, config):\n",
        "        super().__init__()\n",
        "        self.dense = nn.Linear(config.hidden_size + config.energy_feature_dim, config.hidden_size)\n",
        "        self.dropout = nn.Dropout(config.final_dropout)\n",
        "        self.out_proj = nn.Linear(config.hidden_size, config.num_labels)\n",
        "\n",
        "    def forward(self, features, energy_features=None, **kwargs):\n",
        "        x = features\n",
        "        if energy_features is not None:\n",
        "            x = torch.cat([x, energy_features], dim=-1)\n",
        "        x = self.dropout(x)\n",
        "        x = self.dense(x)\n",
        "        x = torch.tanh(x)\n",
        "        x = self.dropout(x)\n",
        "        x = self.out_proj(x)\n",
        "        return x\n",
        "\n",
        "class Wav2Vec2ForSpeechClassification(Wav2Vec2PreTrainedModel):\n",
        "    def __init__(self, config):\n",
        "        super().__init__(config)\n",
        "        self.num_labels = config.num_labels\n",
        "        self.pooling_mode = config.pooling_mode\n",
        "        self.config = config\n",
        "\n",
        "        self.wav2vec2 = Wav2Vec2Model(config)\n",
        "        self.classifier = Wav2Vec2ClassificationHead(config)\n",
        "\n",
        "        self.init_weights()\n",
        "\n",
        "    def freeze_feature_extractor(self):\n",
        "        self.wav2vec2.feature_extractor._freeze_parameters()\n",
        "\n",
        "    def merged_strategy(self, hidden_states, mode=\"mean\"):\n",
        "        if mode == \"mean\":\n",
        "            outputs = torch.mean(hidden_states, dim=1)\n",
        "        elif mode == \"sum\":\n",
        "            outputs = torch.sum(hidden_states, dim=1)\n",
        "        elif mode == \"max\":\n",
        "            outputs = torch.max(hidden_states, dim=1)[0]\n",
        "        else:\n",
        "            raise Exception(\n",
        "                \"The pooling method hasn't been defined! Your pooling mode must be one of these ['mean', 'sum', 'max']\")\n",
        "        return outputs\n",
        "\n",
        "    def forward(\n",
        "            self,\n",
        "            input_values,\n",
        "            attention_mask=None,\n",
        "            energy_features=None,\n",
        "            output_attentions=None,\n",
        "            output_hidden_states=None,\n",
        "            return_dict=None,\n",
        "            labels=None,\n",
        "    ):\n",
        "        return_dict = return_dict if return_dict is not None else self.config.use_return_dict\n",
        "        outputs = self.wav2vec2(\n",
        "            input_values,\n",
        "            attention_mask=attention_mask,\n",
        "            output_attentions=output_attentions,\n",
        "            output_hidden_states=output_hidden_states,\n",
        "            return_dict=return_dict,\n",
        "        )\n",
        "        hidden_states = outputs[0]\n",
        "        # print(f\"Hidden states shape before: {hidden_states.shape}\")\n",
        "        hidden_states = self.merged_strategy(hidden_states, mode=self.pooling_mode)\n",
        "        # print(f\"Hidden states shape after: {hidden_states.shape}\")\n",
        "\n",
        "        logits = self.classifier(hidden_states, energy_features)\n",
        "\n",
        "        loss = None\n",
        "        if labels is not None:\n",
        "            if self.config.problem_type is None:\n",
        "                if self.num_labels == 1:\n",
        "                    self.config.problem_type = \"regression\"\n",
        "                elif self.num_labels > 1 and (labels.dtype == torch.long or labels.dtype == torch.int):\n",
        "                    self.config.problem_type = \"single_label_classification\"\n",
        "                else:\n",
        "                    self.config.problem_type = \"multi_label_classification\"\n",
        "\n",
        "            if self.config.problem_type == \"regression\":\n",
        "                loss_fct = MSELoss()\n",
        "                loss = loss_fct(logits.view(-1, self.num_labels), labels)\n",
        "            elif self.config.problem_type == \"single_label_classification\":\n",
        "                loss_fct = CrossEntropyLoss()\n",
        "                loss = loss_fct(logits.view(-1, self.num_labels), labels.view(-1))\n",
        "            elif self.config.problem_type == \"multi_label_classification\":\n",
        "                loss_fct = BCEWithLogitsLoss()\n",
        "                loss = loss_fct(logits, labels)\n",
        "\n",
        "        if not return_dict:\n",
        "            output = (logits,) + outputs[2:]\n",
        "            return ((loss,) + output) if loss is not None else output\n",
        "\n",
        "        return SpeechClassifierOutput(\n",
        "            loss=loss,\n",
        "            logits=logits,\n",
        "            hidden_states=outputs.hidden_states,\n",
        "            attentions=outputs.attentions,\n",
        "        )"
      ]
    },
    {
      "cell_type": "markdown",
      "metadata": {
        "id": "OrBrR1b7zvUL"
      },
      "source": [
        "## Training\n",
        "\n",
        "The data is processed so that we are ready to start setting up the training pipeline. We will make use of 🤗's [Trainer](https://huggingface.co/transformers/master/main_classes/trainer.html?highlight=trainer) for which we essentially need to do the following:\n",
        "\n",
        "- Define a data collator. In contrast to most NLP models, XLSR-Wav2Vec2 has a much larger input length than output length. *E.g.*, a sample of input length 50000 has an output length of no more than 100. Given the large input sizes, it is much more efficient to pad the training batches dynamically meaning that all training samples should only be padded to the longest sample in their batch and not the overall longest sample. Therefore, fine-tuning XLSR-Wav2Vec2 requires a special padding data collator, which we will define below\n",
        "\n",
        "- Evaluation metric. During training, the model should be evaluated on the word error rate. We should define a `compute_metrics` function accordingly\n",
        "\n",
        "- Load a pretrained checkpoint. We need to load a pretrained checkpoint and configure it correctly for training.\n",
        "\n",
        "- Define the training configuration.\n",
        "\n",
        "After having fine-tuned the model, we will correctly evaluate it on the test data and verify that it has indeed learned to correctly transcribe speech."
      ]
    },
    {
      "cell_type": "markdown",
      "metadata": {
        "id": "Ji9-n1eUIKZc"
      },
      "source": [
        "### Set-up Trainer\n",
        "\n",
        "Let's start by defining the data collator. The code for the data collator was copied from [this example](https://github.com/huggingface/transformers/blob/9a06b6b11bdfc42eea08fa91d0c737d1863c99e3/examples/research_projects/wav2vec2/run_asr.py#L81).\n",
        "\n",
        "Without going into too many details, in contrast to the common data collators, this data collator treats the `input_values` and `labels` differently and thus applies to separate padding functions on them (again making use of XLSR-Wav2Vec2's context manager). This is necessary because in speech input and output are of different modalities meaning that they should not be treated by the same padding function.\n",
        "Analogous to the common data collators, the padding tokens in the labels with `-100` so that those tokens are **not** taken into account when computing the loss."
      ]
    },
    {
      "cell_type": "code",
      "execution_count": 51,
      "metadata": {
        "id": "rkM0VLIwy903"
      },
      "outputs": [],
      "source": [
        "from dataclasses import dataclass\n",
        "from typing import Dict, List, Optional, Union\n",
        "import torch\n",
        "import numpy as np\n",
        "\n",
        "import transformers\n",
        "from transformers import Wav2Vec2Processor\n",
        "\n",
        "\n",
        "@dataclass\n",
        "class DataCollatorCTCWithPadding:\n",
        "    \"\"\"\n",
        "    Data collator that will dynamically pad the inputs received.\n",
        "    Args:\n",
        "        processor (:class:`~transformers.Wav2Vec2Processor`)\n",
        "            The processor used for processing the data.\n",
        "        padding (:obj:`bool`, :obj:`str` or :class:`~transformers.tokenization_utils_base.PaddingStrategy`, `optional`, defaults to :obj:`True`):\n",
        "            Select a strategy to pad the returned sequences (according to the model's padding side and padding index)\n",
        "            among:\n",
        "            * :obj:`True` or :obj:`'longest'`: Pad to the longest sequence in the batch (or no padding if only a single\n",
        "              sequence if provided).\n",
        "            * :obj:`'max_length'`: Pad to a maximum length specified with the argument :obj:`max_length` or to the\n",
        "              maximum acceptable input length for the model if that argument is not provided.\n",
        "            * :obj:`False` or :obj:`'do_not_pad'` (default): No padding (i.e., can output a batch with sequences of\n",
        "              different lengths).\n",
        "        max_length (:obj:`int`, `optional`):\n",
        "            Maximum length of the ``input_values`` of the returned list and optionally padding length (see above).\n",
        "        max_length_labels (:obj:`int`, `optional`):\n",
        "            Maximum length of the ``labels`` returned list and optionally padding length (see above).\n",
        "        pad_to_multiple_of (:obj:`int`, `optional`):\n",
        "            If set will pad the sequence to a multiple of the provided value.\n",
        "            This is especially useful to enable the use of Tensor Cores on NVIDIA hardware with compute capability >=\n",
        "            7.5 (Volta).\n",
        "    \"\"\"\n",
        "\n",
        "    processor: Wav2Vec2Processor\n",
        "    padding: Union[bool, str] = True\n",
        "    max_length: Optional[int] = None\n",
        "    max_length_labels: Optional[int] = None\n",
        "    pad_to_multiple_of: Optional[int] = None\n",
        "    pad_to_multiple_of_labels: Optional[int] = None\n",
        "\n",
        "    def __call__(self, features: List[Dict[str, Union[List[int], torch.Tensor, np.ndarray]]]) -> Dict[str, torch.Tensor]:\n",
        "        input_features = [{\"input_values\": feature[\"input_values\"]} for feature in features]\n",
        "        label_features = [feature[\"labels\"] for feature in features]\n",
        "        energy_features = [feature.get(\"energy_features\") for feature in features]\n",
        "\n",
        "        d_type = torch.long if isinstance(label_features[0], int) else torch.float\n",
        "\n",
        "        batch = self.processor.pad(\n",
        "            input_features,\n",
        "            padding=self.padding,\n",
        "            max_length=self.max_length,\n",
        "            pad_to_multiple_of=self.pad_to_multiple_of,\n",
        "            return_tensors=\"pt\",\n",
        "        )\n",
        "\n",
        "        batch[\"labels\"] = torch.tensor(label_features, dtype=d_type)\n",
        "\n",
        "        if all(ef is not None for ef in energy_features):\n",
        "            # 如果所有样本都有能量特征\n",
        "            batch[\"energy_features\"] = torch.tensor(np.array(energy_features), dtype=torch.float)\n",
        "        else:\n",
        "            print(\"Warning: Some samples are missing energy features. Using zero padding.\")\n",
        "            max_length = max(ef.shape[0] if ef is not None else 0 for ef in energy_features)\n",
        "            padded_energy_features = []\n",
        "            for ef in energy_features:\n",
        "                if ef is not None:\n",
        "                    padded_ef = np.pad(ef, ((0, max_length - ef.shape[0]), (0, 0)), mode='constant')\n",
        "                padded_energy_features.append(padded_ef)\n",
        "            batch[\"energy_features\"] = torch.tensor(np.array(padded_energy_features), dtype=torch.float)\n",
        "\n",
        "        return batch"
      ]
    },
    {
      "cell_type": "code",
      "execution_count": 52,
      "metadata": {
        "id": "-YhJ0OA4RxQe"
      },
      "outputs": [],
      "source": [
        "from transformers import Wav2Vec2FeatureExtractor\n",
        "\n",
        "processor = Wav2Vec2FeatureExtractor.from_pretrained('c3f9d884181a224a6ac87bf8885c84d1cff3384f')\n",
        "data_collator = DataCollatorCTCWithPadding(processor=processor, padding=True)\n",
        "\n",
        "config.energy_feature_dim = 1"
      ]
    },
    {
      "cell_type": "markdown",
      "metadata": {
        "id": "mYxy2IR-KcU2"
      },
      "source": [
        "Next, the evaluation metric is defined. There are many pre-defined metrics for classification/regression problems, but in this case, we would continue with just **Accuracy** for classification and **MSE** for regression. You can define other metrics on your own."
      ]
    },
    {
      "cell_type": "code",
      "execution_count": 53,
      "metadata": {
        "id": "LL8I5MKvPnth"
      },
      "outputs": [],
      "source": [
        "is_regression = False"
      ]
    },
    {
      "cell_type": "code",
      "execution_count": 54,
      "metadata": {
        "id": "XK26Z6IfR36K"
      },
      "outputs": [],
      "source": [
        "import numpy as np\n",
        "from transformers import EvalPrediction\n",
        "\n",
        "\n",
        "def compute_metrics(p: EvalPrediction):\n",
        "    preds = p.predictions[0] if isinstance(p.predictions, tuple) else p.predictions\n",
        "    preds = np.squeeze(preds) if is_regression else np.argmax(preds, axis=1)\n",
        "\n",
        "    if is_regression:\n",
        "        return {\"mse\": ((preds - p.label_ids) ** 2).mean().item()}\n",
        "    else:\n",
        "        return {\"accuracy\": (preds == p.label_ids).astype(np.float32).mean().item()}"
      ]
    },
    {
      "cell_type": "markdown",
      "metadata": {
        "id": "ZsH_nKJdK28o"
      },
      "source": [
        "Now, we can load the pretrained XLSR-Wav2Vec2 checkpoint into our classification model with a pooling strategy."
      ]
    },
    {
      "cell_type": "code",
      "execution_count": 55,
      "metadata": {
        "colab": {
          "base_uri": "https://localhost:8080/",
          "height": 105,
          "referenced_widgets": [
            "d9016606c6d3483e8a48d8bdd1c9cca5",
            "7133f68258ad45c99368033a26bea133",
            "186aaef493c94b89b01b3573dad29da4",
            "fe63bedbce924346bfa082344678ea32",
            "184c7c132bc7449e8d3ac27ffa609c94",
            "4290806b83dd406d83224999af168cb0",
            "2f54998c726745e18a54cea63178d3c4",
            "e0a50e46b3d64db88024c43f04cd4c83",
            "bf57c3f360214fd28caa375a048e95b0",
            "edb5bf54b8c74c7c8d23c347bb6f40c0",
            "a07cfab0d06a4a45b387dc37dfc2671a"
          ]
        },
        "id": "0Tl6iKAUR4EL",
        "outputId": "241185a7-d380-43f5-c5a3-3d862ea556c2"
      },
      "outputs": [
        {
          "name": "stderr",
          "output_type": "stream",
          "text": [
            "Some weights of Wav2Vec2ForSpeechClassification were not initialized from the model checkpoint at c3f9d884181a224a6ac87bf8885c84d1cff3384f and are newly initialized: ['classifier.dense.bias', 'classifier.dense.weight', 'classifier.out_proj.bias', 'classifier.out_proj.weight', 'wav2vec2.encoder.pos_conv_embed.conv.parametrizations.weight.original0', 'wav2vec2.encoder.pos_conv_embed.conv.parametrizations.weight.original1']\n",
            "You should probably TRAIN this model on a down-stream task to be able to use it for predictions and inference.\n"
          ]
        }
      ],
      "source": [
        "model = Wav2Vec2ForSpeechClassification.from_pretrained(\n",
        "    model_name_or_path,\n",
        "    config=config,\n",
        ")"
      ]
    },
    {
      "cell_type": "markdown",
      "metadata": {
        "id": "bqF4rNMzI1M5"
      },
      "source": [
        "The first component of XLSR-Wav2Vec2 consists of a stack of CNN layers that are used to extract acoustically meaningful - but contextually independent - features from the raw speech signal. This part of the model has already been sufficiently trained during pretraining and as stated in the [paper](https://arxiv.org/pdf/2006.13979.pdf) does not need to be fine-tuned anymore.\n",
        "Thus, we can set the `requires_grad` to `False` for all parameters of the *feature extraction* part."
      ]
    },
    {
      "cell_type": "code",
      "execution_count": 56,
      "metadata": {
        "id": "KHMhxFGoR4Hb"
      },
      "outputs": [],
      "source": [
        "model.freeze_feature_extractor()"
      ]
    },
    {
      "cell_type": "markdown",
      "metadata": {
        "id": "n0HzBneBK84G"
      },
      "source": [
        "In a final step, we define all parameters related to training.\n",
        "To give more explanation on some of the parameters:\n",
        "- `learning_rate` and `weight_decay` were heuristically tuned until fine-tuning has become stable. Note that those parameters strongly depend on the Common Voice dataset and might be suboptimal for other speech datasets.\n",
        "\n",
        "For more explanations on other parameters, one can take a look at the [docs](https://huggingface.co/transformers/master/main_classes/trainer.html?highlight=trainer#trainingarguments).\n",
        "\n",
        "**Note**: If one wants to save the trained models in his/her google drive the commented-out `output_dir` can be used instead."
      ]
    },
    {
      "cell_type": "code",
      "execution_count": 57,
      "metadata": {
        "id": "3tPqZ12BLCJk"
      },
      "outputs": [],
      "source": [
        "# from google.colab import drive\n",
        "\n",
        "# drive.mount('/gdrive')"
      ]
    },
    {
      "cell_type": "code",
      "execution_count": 58,
      "metadata": {
        "colab": {
          "base_uri": "https://localhost:8080/"
        },
        "id": "vUtWjldAI9-H",
        "outputId": "a91b7b1f-3635-4ec0-a652-fa3085b2bfec"
      },
      "outputs": [
        {
          "name": "stderr",
          "output_type": "stream",
          "text": [
            "c:\\Users\\81951\\miniconda3\\envs\\eeg\\lib\\site-packages\\transformers\\training_args.py:1525: FutureWarning: `evaluation_strategy` is deprecated and will be removed in version 4.46 of 🤗 Transformers. Use `eval_strategy` instead\n",
            "  warnings.warn(\n"
          ]
        }
      ],
      "source": [
        "from transformers import TrainingArguments\n",
        "\n",
        "training_args = TrainingArguments(\n",
        "    output_dir=\"train_result/audio_with_energyfeature_2k3k\",\n",
        "    per_device_train_batch_size=4,\n",
        "    per_device_eval_batch_size=4,\n",
        "    gradient_accumulation_steps=2,\n",
        "    evaluation_strategy=\"steps\",\n",
        "    num_train_epochs=1,\n",
        "    fp16=True,\n",
        "    save_steps=10,\n",
        "    eval_steps=10,\n",
        "    logging_steps=10,\n",
        "    learning_rate=1e-4,\n",
        "    save_total_limit=2,\n",
        "    seed=2003,\n",
        ")"
      ]
    },
    {
      "cell_type": "code",
      "execution_count": 59,
      "metadata": {
        "colab": {
          "base_uri": "https://localhost:8080/",
          "height": 966
        },
        "id": "g73HhtGcFU92",
        "outputId": "68a91159-0975-49f9-a6ae-da13a483f365"
      },
      "outputs": [],
      "source": [
        "# !pip uninstall transformers[torch] -y\n",
        "# !pip install transformers[torch]"
      ]
    },
    {
      "cell_type": "code",
      "execution_count": 60,
      "metadata": {
        "colab": {
          "base_uri": "https://localhost:8080/",
          "height": 566
        },
        "id": "X4aLrkCOYldh",
        "outputId": "73738c22-c41b-4dc0-a74a-dbc064830e86"
      },
      "outputs": [],
      "source": [
        "# !pip uninstall transformers -y\n",
        "# !pip install transformers\n"
      ]
    },
    {
      "cell_type": "markdown",
      "metadata": {
        "id": "XAtuL0APLZSs"
      },
      "source": [
        "For future use we can create our training script, we do it in a simple way. You can add more on you own."
      ]
    },
    {
      "cell_type": "code",
      "execution_count": 61,
      "metadata": {
        "id": "KfW6uDolJYZv"
      },
      "outputs": [],
      "source": [
        "from typing import Any, Dict, Union\n",
        "\n",
        "import torch\n",
        "from packaging import version\n",
        "from torch import nn\n",
        "\n",
        "from transformers import (\n",
        "    Trainer,\n",
        "    is_apex_available,\n",
        ")\n",
        "\n",
        "if is_apex_available():\n",
        "    from apex import amp\n",
        "\n",
        "if version.parse(torch.__version__) >= version.parse(\"1.6\"):\n",
        "    _is_native_amp_available = True\n",
        "    from torch.cuda.amp import autocast\n",
        "\n",
        "\n",
        "class CTCTrainer(Trainer):\n",
        "    def training_step(self, model: nn.Module, inputs: Dict[str, Union[torch.Tensor, Any]]) -> torch.Tensor:\n",
        "        \"\"\"\n",
        "        Perform a training step on a batch of inputs.\n",
        "\n",
        "        Subclass and override to inject custom behavior.\n",
        "\n",
        "        Args:\n",
        "            model (:obj:`nn.Module`):\n",
        "                The model to train.\n",
        "            inputs (:obj:`Dict[str, Union[torch.Tensor, Any]]`):\n",
        "                The inputs and targets of the model.\n",
        "\n",
        "                The dictionary will be unpacked before being fed to the model. Most models expect the targets under the\n",
        "                argument :obj:`labels`. Check your model's documentation for all accepted arguments.\n",
        "\n",
        "        Return:\n",
        "            :obj:`torch.Tensor`: The tensor with training loss on this batch.\n",
        "        \"\"\"\n",
        "\n",
        "        model.train()\n",
        "        inputs = self._prepare_inputs(inputs)\n",
        "\n",
        "        if self.use_cuda_amq:\n",
        "            with autocast():\n",
        "                loss = self.compute_loss(model, inputs)\n",
        "        else:\n",
        "            loss = self.compute_loss(model, inputs)\n",
        "\n",
        "        if self.args.gradient_accumulation_steps > 1:\n",
        "            loss = loss / self.args.gradient_accumulation_steps\n",
        "\n",
        "        if self.use_cuda_amq:\n",
        "            self.scaler.scale(loss).backward()\n",
        "        elif self.use_apex:\n",
        "            with amp.scale_loss(loss, self.optimizer) as scaled_loss:\n",
        "                scaled_loss.backward()\n",
        "        elif self.deepspeed:\n",
        "            self.deepspeed.backward(loss)\n",
        "        else:\n",
        "            loss.backward()\n",
        "\n",
        "        return loss.detach()\n"
      ]
    },
    {
      "cell_type": "markdown",
      "metadata": {
        "id": "Qv7Ju3qYJeJn"
      },
      "source": [
        "Now, all instances can be passed to Trainer and we are ready to start training!"
      ]
    },
    {
      "cell_type": "code",
      "execution_count": 62,
      "metadata": {
        "id": "nEFkfK45JYiZ"
      },
      "outputs": [
        {
          "name": "stderr",
          "output_type": "stream",
          "text": [
            " 10%|▉         | 40/410 [1:50:03<16:58:06, 165.10s/it]\n"
          ]
        }
      ],
      "source": [
        "from transformers import Trainer\n",
        "\n",
        "trainer = Trainer(\n",
        "    model=model,\n",
        "    data_collator=data_collator,\n",
        "    args=training_args,\n",
        "    compute_metrics=compute_metrics,\n",
        "    train_dataset=train_dataset,\n",
        "    eval_dataset=eval_dataset,\n",
        "    # tokenizer=processor.feature_extractor,\n",
        ")\n"
      ]
    },
    {
      "cell_type": "markdown",
      "metadata": {
        "id": "0gGLwJAOLtDg"
      },
      "source": [
        "### Training"
      ]
    },
    {
      "cell_type": "markdown",
      "metadata": {
        "id": "UpN6xlWCLxJ7"
      },
      "source": [
        "Training will take between 10 and 60 minutes depending on the GPU allocated to this notebook.\n",
        "\n",
        "In case you want to use this google colab to fine-tune your model, you should make sure that your training doesn't stop due to inactivity. A simple hack to prevent this is to paste the following code into the console of this tab (right mouse click -> inspect -> Console tab and insert code)."
      ]
    },
    {
      "cell_type": "markdown",
      "metadata": {
        "id": "zyYZH7YZL8a9"
      },
      "source": [
        "\\\\```javascript\n",
        "function ConnectButton(){\n",
        "    console.log(\"Connect pushed\");\n",
        "    document.querySelector(\"#top-toolbar > colab-connect-button\").shadowRoot.querySelector(\"#connect\").click()\n",
        "}\n",
        "setInterval(ConnectButton,60000);\n",
        "```"
      ]
    },
    {
      "cell_type": "code",
      "execution_count": 63,
      "metadata": {
        "colab": {
          "base_uri": "https://localhost:8080/",
          "height": 1000
        },
        "id": "6M8bNvLLJnG1",
        "outputId": "e68f00df-b6df-4036-f52c-23ce1624fa33"
      },
      "outputs": [
        {
          "name": "stderr",
          "output_type": "stream",
          "text": [
            "  2%|▏         | 10/410 [00:03<01:51,  3.60it/s]"
          ]
        },
        {
          "name": "stdout",
          "output_type": "stream",
          "text": [
            "{'loss': 1.4221, 'grad_norm': 9.248023986816406, 'learning_rate': 9.878048780487805e-05, 'epoch': 0.02}\n"
          ]
        },
        {
          "name": "stderr",
          "output_type": "stream",
          "text": [
            "\n",
            "  2%|▏         | 10/410 [00:23<01:51,  3.60it/s] "
          ]
        },
        {
          "name": "stdout",
          "output_type": "stream",
          "text": [
            "{'eval_loss': 1.3618265390396118, 'eval_accuracy': 0.35444578528404236, 'eval_runtime': 20.8722, 'eval_samples_per_second': 39.335, 'eval_steps_per_second': 9.87, 'epoch': 0.02}\n"
          ]
        },
        {
          "name": "stderr",
          "output_type": "stream",
          "text": [
            "  5%|▍         | 20/410 [00:29<03:46,  1.72it/s]"
          ]
        },
        {
          "name": "stdout",
          "output_type": "stream",
          "text": [
            "{'loss': 1.2998, 'grad_norm': 7.916337490081787, 'learning_rate': 9.658536585365854e-05, 'epoch': 0.05}\n"
          ]
        },
        {
          "name": "stderr",
          "output_type": "stream",
          "text": [
            "\n",
            "  5%|▍         | 20/410 [00:51<03:46,  1.72it/s] "
          ]
        },
        {
          "name": "stdout",
          "output_type": "stream",
          "text": [
            "{'eval_loss': 1.3369349241256714, 'eval_accuracy': 0.3471376299858093, 'eval_runtime': 21.2686, 'eval_samples_per_second': 38.602, 'eval_steps_per_second': 9.686, 'epoch': 0.05}\n"
          ]
        },
        {
          "name": "stderr",
          "output_type": "stream",
          "text": [
            "  7%|▋         | 30/410 [00:57<03:49,  1.65it/s]"
          ]
        },
        {
          "name": "stdout",
          "output_type": "stream",
          "text": [
            "{'loss': 1.3768, 'grad_norm': 7.439564228057861, 'learning_rate': 9.414634146341463e-05, 'epoch': 0.07}\n"
          ]
        },
        {
          "name": "stderr",
          "output_type": "stream",
          "text": [
            "\n",
            "  7%|▋         | 30/410 [01:18<03:49,  1.65it/s] "
          ]
        },
        {
          "name": "stdout",
          "output_type": "stream",
          "text": [
            "{'eval_loss': 1.3228585720062256, 'eval_accuracy': 0.35566383600234985, 'eval_runtime': 20.9703, 'eval_samples_per_second': 39.151, 'eval_steps_per_second': 9.823, 'epoch': 0.07}\n"
          ]
        },
        {
          "name": "stderr",
          "output_type": "stream",
          "text": [
            " 10%|▉         | 40/410 [01:24<03:45,  1.64it/s]"
          ]
        },
        {
          "name": "stdout",
          "output_type": "stream",
          "text": [
            "{'loss': 1.2979, 'grad_norm': 4.821277141571045, 'learning_rate': 9.170731707317075e-05, 'epoch': 0.1}\n"
          ]
        },
        {
          "name": "stderr",
          "output_type": "stream",
          "text": [
            "\n",
            " 10%|▉         | 40/410 [01:46<03:45,  1.64it/s] "
          ]
        },
        {
          "name": "stdout",
          "output_type": "stream",
          "text": [
            "{'eval_loss': 1.322854995727539, 'eval_accuracy': 0.3605359196662903, 'eval_runtime': 21.7032, 'eval_samples_per_second': 37.829, 'eval_steps_per_second': 9.492, 'epoch': 0.1}\n"
          ]
        },
        {
          "name": "stderr",
          "output_type": "stream",
          "text": [
            " 12%|█▏        | 50/410 [01:52<03:42,  1.62it/s]"
          ]
        },
        {
          "name": "stdout",
          "output_type": "stream",
          "text": [
            "{'loss': 1.3698, 'grad_norm': 24.63819122314453, 'learning_rate': 8.926829268292683e-05, 'epoch': 0.12}\n"
          ]
        },
        {
          "name": "stderr",
          "output_type": "stream",
          "text": [
            "\n",
            " 12%|█▏        | 50/410 [02:13<03:42,  1.62it/s] "
          ]
        },
        {
          "name": "stdout",
          "output_type": "stream",
          "text": [
            "{'eval_loss': 1.338775634765625, 'eval_accuracy': 0.3447015881538391, 'eval_runtime': 21.5082, 'eval_samples_per_second': 38.172, 'eval_steps_per_second': 9.578, 'epoch': 0.12}\n"
          ]
        },
        {
          "name": "stderr",
          "output_type": "stream",
          "text": [
            " 15%|█▍        | 60/410 [02:19<03:37,  1.61it/s]"
          ]
        },
        {
          "name": "stdout",
          "output_type": "stream",
          "text": [
            "{'loss': 1.3164, 'grad_norm': 25.850486755371094, 'learning_rate': 8.682926829268293e-05, 'epoch': 0.15}\n"
          ]
        },
        {
          "name": "stderr",
          "output_type": "stream",
          "text": [
            "\n",
            " 15%|█▍        | 60/410 [02:41<03:37,  1.61it/s] "
          ]
        },
        {
          "name": "stdout",
          "output_type": "stream",
          "text": [
            "{'eval_loss': 1.3398003578186035, 'eval_accuracy': 0.33008524775505066, 'eval_runtime': 21.4825, 'eval_samples_per_second': 38.217, 'eval_steps_per_second': 9.589, 'epoch': 0.15}\n"
          ]
        },
        {
          "name": "stderr",
          "output_type": "stream",
          "text": [
            " 17%|█▋        | 70/410 [02:47<03:19,  1.70it/s]"
          ]
        },
        {
          "name": "stdout",
          "output_type": "stream",
          "text": [
            "{'loss': 1.3113, 'grad_norm': 7.808360576629639, 'learning_rate': 8.439024390243903e-05, 'epoch': 0.17}\n"
          ]
        },
        {
          "name": "stderr",
          "output_type": "stream",
          "text": [
            "\n",
            " 17%|█▋        | 70/410 [03:08<03:19,  1.70it/s] "
          ]
        },
        {
          "name": "stdout",
          "output_type": "stream",
          "text": [
            "{'eval_loss': 1.308058500289917, 'eval_accuracy': 0.37515226006507874, 'eval_runtime': 21.5835, 'eval_samples_per_second': 38.038, 'eval_steps_per_second': 9.544, 'epoch': 0.17}\n"
          ]
        },
        {
          "name": "stderr",
          "output_type": "stream",
          "text": [
            " 20%|█▉        | 80/410 [03:14<03:23,  1.62it/s]"
          ]
        },
        {
          "name": "stdout",
          "output_type": "stream",
          "text": [
            "{'loss': 1.2319, 'grad_norm': 13.255661964416504, 'learning_rate': 8.195121951219513e-05, 'epoch': 0.19}\n"
          ]
        },
        {
          "name": "stderr",
          "output_type": "stream",
          "text": [
            "\n",
            " 20%|█▉        | 80/410 [03:36<03:23,  1.62it/s] "
          ]
        },
        {
          "name": "stdout",
          "output_type": "stream",
          "text": [
            "{'eval_loss': 1.3049792051315308, 'eval_accuracy': 0.37393423914909363, 'eval_runtime': 21.1764, 'eval_samples_per_second': 38.77, 'eval_steps_per_second': 9.728, 'epoch': 0.19}\n"
          ]
        },
        {
          "name": "stderr",
          "output_type": "stream",
          "text": [
            " 22%|██▏       | 90/410 [03:42<03:08,  1.70it/s]"
          ]
        },
        {
          "name": "stdout",
          "output_type": "stream",
          "text": [
            "{'loss': 1.2399, 'grad_norm': 7.874008655548096, 'learning_rate': 7.951219512195122e-05, 'epoch': 0.22}\n"
          ]
        },
        {
          "name": "stderr",
          "output_type": "stream",
          "text": [
            "\n",
            " 22%|██▏       | 90/410 [04:03<03:08,  1.70it/s] "
          ]
        },
        {
          "name": "stdout",
          "output_type": "stream",
          "text": [
            "{'eval_loss': 1.3061457872390747, 'eval_accuracy': 0.35688185691833496, 'eval_runtime': 21.0165, 'eval_samples_per_second': 39.065, 'eval_steps_per_second': 9.802, 'epoch': 0.22}\n"
          ]
        },
        {
          "name": "stderr",
          "output_type": "stream",
          "text": [
            " 24%|██▍       | 100/410 [04:09<03:04,  1.68it/s]"
          ]
        },
        {
          "name": "stdout",
          "output_type": "stream",
          "text": [
            "{'loss': 1.1401, 'grad_norm': 7.380764484405518, 'learning_rate': 7.707317073170732e-05, 'epoch': 0.24}\n"
          ]
        },
        {
          "name": "stderr",
          "output_type": "stream",
          "text": [
            "\n",
            " 24%|██▍       | 100/410 [04:29<03:04,  1.68it/s]"
          ]
        },
        {
          "name": "stdout",
          "output_type": "stream",
          "text": [
            "{'eval_loss': 1.3132274150848389, 'eval_accuracy': 0.3605359196662903, 'eval_runtime': 20.891, 'eval_samples_per_second': 39.299, 'eval_steps_per_second': 9.861, 'epoch': 0.24}\n"
          ]
        },
        {
          "name": "stderr",
          "output_type": "stream",
          "text": [
            " 27%|██▋       | 110/410 [04:36<02:58,  1.68it/s]"
          ]
        },
        {
          "name": "stdout",
          "output_type": "stream",
          "text": [
            "{'loss': 1.2526, 'grad_norm': 10.438709259033203, 'learning_rate': 7.463414634146342e-05, 'epoch': 0.27}\n"
          ]
        },
        {
          "name": "stderr",
          "output_type": "stream",
          "text": [
            "\n",
            " 27%|██▋       | 110/410 [04:57<02:58,  1.68it/s]"
          ]
        },
        {
          "name": "stdout",
          "output_type": "stream",
          "text": [
            "{'eval_loss': 1.3278181552886963, 'eval_accuracy': 0.37515226006507874, 'eval_runtime': 21.4408, 'eval_samples_per_second': 38.292, 'eval_steps_per_second': 9.608, 'epoch': 0.27}\n"
          ]
        },
        {
          "name": "stderr",
          "output_type": "stream",
          "text": [
            " 29%|██▉       | 120/410 [05:03<02:50,  1.70it/s]"
          ]
        },
        {
          "name": "stdout",
          "output_type": "stream",
          "text": [
            "{'loss': 1.3278, 'grad_norm': 26.6452693939209, 'learning_rate': 7.219512195121952e-05, 'epoch': 0.29}\n"
          ]
        },
        {
          "name": "stderr",
          "output_type": "stream",
          "text": [
            "\n",
            " 29%|██▉       | 120/410 [05:24<02:50,  1.70it/s]"
          ]
        },
        {
          "name": "stdout",
          "output_type": "stream",
          "text": [
            "{'eval_loss': 1.3161388635635376, 'eval_accuracy': 0.37271618843078613, 'eval_runtime': 20.9982, 'eval_samples_per_second': 39.099, 'eval_steps_per_second': 9.81, 'epoch': 0.29}\n"
          ]
        },
        {
          "name": "stderr",
          "output_type": "stream",
          "text": [
            " 32%|███▏      | 130/410 [05:30<02:44,  1.71it/s]"
          ]
        },
        {
          "name": "stdout",
          "output_type": "stream",
          "text": [
            "{'loss': 1.1819, 'grad_norm': 6.512029647827148, 'learning_rate': 6.97560975609756e-05, 'epoch': 0.32}\n"
          ]
        },
        {
          "name": "stderr",
          "output_type": "stream",
          "text": [
            "\n",
            " 32%|███▏      | 130/410 [05:51<02:44,  1.71it/s]"
          ]
        },
        {
          "name": "stdout",
          "output_type": "stream",
          "text": [
            "{'eval_loss': 1.3165932893753052, 'eval_accuracy': 0.35809987783432007, 'eval_runtime': 21.7292, 'eval_samples_per_second': 37.783, 'eval_steps_per_second': 9.48, 'epoch': 0.32}\n"
          ]
        },
        {
          "name": "stderr",
          "output_type": "stream",
          "text": [
            " 34%|███▍      | 140/410 [05:57<02:42,  1.66it/s]"
          ]
        },
        {
          "name": "stdout",
          "output_type": "stream",
          "text": [
            "{'loss': 1.1898, 'grad_norm': 7.036329746246338, 'learning_rate': 6.731707317073171e-05, 'epoch': 0.34}\n"
          ]
        },
        {
          "name": "stderr",
          "output_type": "stream",
          "text": [
            "\n",
            " 34%|███▍      | 140/410 [06:19<02:42,  1.66it/s]"
          ]
        },
        {
          "name": "stdout",
          "output_type": "stream",
          "text": [
            "{'eval_loss': 1.3058974742889404, 'eval_accuracy': 0.38002437353134155, 'eval_runtime': 21.2549, 'eval_samples_per_second': 38.626, 'eval_steps_per_second': 9.692, 'epoch': 0.34}\n"
          ]
        },
        {
          "name": "stderr",
          "output_type": "stream",
          "text": [
            " 37%|███▋      | 150/410 [06:24<02:31,  1.71it/s]"
          ]
        },
        {
          "name": "stdout",
          "output_type": "stream",
          "text": [
            "{'loss': 1.1318, 'grad_norm': 10.390758514404297, 'learning_rate': 6.487804878048781e-05, 'epoch': 0.37}\n"
          ]
        },
        {
          "name": "stderr",
          "output_type": "stream",
          "text": [
            "\n",
            " 37%|███▋      | 150/410 [06:46<02:31,  1.71it/s]"
          ]
        },
        {
          "name": "stdout",
          "output_type": "stream",
          "text": [
            "{'eval_loss': 1.3038718700408936, 'eval_accuracy': 0.35079172253608704, 'eval_runtime': 21.3137, 'eval_samples_per_second': 38.52, 'eval_steps_per_second': 9.665, 'epoch': 0.37}\n"
          ]
        },
        {
          "name": "stderr",
          "output_type": "stream",
          "text": [
            " 39%|███▉      | 160/410 [06:52<02:28,  1.69it/s]"
          ]
        },
        {
          "name": "stdout",
          "output_type": "stream",
          "text": [
            "{'loss': 1.1552, 'grad_norm': 3.013401508331299, 'learning_rate': 6.243902439024391e-05, 'epoch': 0.39}\n"
          ]
        },
        {
          "name": "stderr",
          "output_type": "stream",
          "text": [
            "\n",
            " 39%|███▉      | 160/410 [07:13<02:28,  1.69it/s]"
          ]
        },
        {
          "name": "stdout",
          "output_type": "stream",
          "text": [
            "{'eval_loss': 1.3078004121780396, 'eval_accuracy': 0.37271618843078613, 'eval_runtime': 21.3857, 'eval_samples_per_second': 38.39, 'eval_steps_per_second': 9.633, 'epoch': 0.39}\n"
          ]
        },
        {
          "name": "stderr",
          "output_type": "stream",
          "text": [
            " 41%|████▏     | 170/410 [07:19<02:22,  1.68it/s]"
          ]
        },
        {
          "name": "stdout",
          "output_type": "stream",
          "text": [
            "{'loss': 1.1997, 'grad_norm': 14.85284423828125, 'learning_rate': 6e-05, 'epoch': 0.41}\n"
          ]
        },
        {
          "name": "stderr",
          "output_type": "stream",
          "text": [
            "\n",
            " 41%|████▏     | 170/410 [07:40<02:22,  1.68it/s]"
          ]
        },
        {
          "name": "stdout",
          "output_type": "stream",
          "text": [
            "{'eval_loss': 1.3255884647369385, 'eval_accuracy': 0.371498167514801, 'eval_runtime': 20.9849, 'eval_samples_per_second': 39.123, 'eval_steps_per_second': 9.817, 'epoch': 0.41}\n"
          ]
        },
        {
          "name": "stderr",
          "output_type": "stream",
          "text": [
            " 44%|████▍     | 180/410 [07:46<02:16,  1.69it/s]"
          ]
        },
        {
          "name": "stdout",
          "output_type": "stream",
          "text": [
            "{'loss': 1.1989, 'grad_norm': 57.29296112060547, 'learning_rate': 5.756097560975609e-05, 'epoch': 0.44}\n"
          ]
        },
        {
          "name": "stderr",
          "output_type": "stream",
          "text": [
            "\n",
            " 44%|████▍     | 180/410 [08:07<02:16,  1.69it/s]"
          ]
        },
        {
          "name": "stdout",
          "output_type": "stream",
          "text": [
            "{'eval_loss': 1.3284741640090942, 'eval_accuracy': 0.38124239444732666, 'eval_runtime': 20.8271, 'eval_samples_per_second': 39.42, 'eval_steps_per_second': 9.891, 'epoch': 0.44}\n"
          ]
        },
        {
          "name": "stderr",
          "output_type": "stream",
          "text": [
            " 46%|████▋     | 190/410 [08:13<02:09,  1.70it/s]"
          ]
        },
        {
          "name": "stdout",
          "output_type": "stream",
          "text": [
            "{'loss': 1.256, 'grad_norm': 5.173374652862549, 'learning_rate': 5.5121951219512205e-05, 'epoch': 0.46}\n"
          ]
        },
        {
          "name": "stderr",
          "output_type": "stream",
          "text": [
            "\n",
            " 46%|████▋     | 190/410 [08:34<02:09,  1.70it/s]"
          ]
        },
        {
          "name": "stdout",
          "output_type": "stream",
          "text": [
            "{'eval_loss': 1.4392657279968262, 'eval_accuracy': 0.35688185691833496, 'eval_runtime': 21.4111, 'eval_samples_per_second': 38.345, 'eval_steps_per_second': 9.621, 'epoch': 0.46}\n"
          ]
        },
        {
          "name": "stderr",
          "output_type": "stream",
          "text": [
            " 49%|████▉     | 200/410 [08:40<02:02,  1.71it/s]"
          ]
        },
        {
          "name": "stdout",
          "output_type": "stream",
          "text": [
            "{'loss': 1.1474, 'grad_norm': 4.674905300140381, 'learning_rate': 5.2682926829268296e-05, 'epoch': 0.49}\n"
          ]
        },
        {
          "name": "stderr",
          "output_type": "stream",
          "text": [
            "\n",
            " 49%|████▉     | 200/410 [09:01<02:02,  1.71it/s]"
          ]
        },
        {
          "name": "stdout",
          "output_type": "stream",
          "text": [
            "{'eval_loss': 1.4192968606948853, 'eval_accuracy': 0.3118148744106293, 'eval_runtime': 21.2512, 'eval_samples_per_second': 38.633, 'eval_steps_per_second': 9.694, 'epoch': 0.49}\n"
          ]
        },
        {
          "name": "stderr",
          "output_type": "stream",
          "text": [
            " 51%|█████     | 210/410 [09:08<02:00,  1.66it/s]"
          ]
        },
        {
          "name": "stdout",
          "output_type": "stream",
          "text": [
            "{'loss': 1.1771, 'grad_norm': 6.368856430053711, 'learning_rate': 5.0243902439024394e-05, 'epoch': 0.51}\n"
          ]
        },
        {
          "name": "stderr",
          "output_type": "stream",
          "text": [
            "\n",
            " 51%|█████     | 210/410 [09:29<02:00,  1.66it/s]"
          ]
        },
        {
          "name": "stdout",
          "output_type": "stream",
          "text": [
            "{'eval_loss': 1.1807336807250977, 'eval_accuracy': 0.4348355531692505, 'eval_runtime': 21.3688, 'eval_samples_per_second': 38.42, 'eval_steps_per_second': 9.64, 'epoch': 0.51}\n"
          ]
        },
        {
          "name": "stderr",
          "output_type": "stream",
          "text": [
            " 54%|█████▎    | 220/410 [09:35<01:51,  1.70it/s]"
          ]
        },
        {
          "name": "stdout",
          "output_type": "stream",
          "text": [
            "{'loss': 1.1374, 'grad_norm': 11.942632675170898, 'learning_rate': 4.7804878048780485e-05, 'epoch': 0.54}\n"
          ]
        },
        {
          "name": "stderr",
          "output_type": "stream",
          "text": [
            "\n",
            " 54%|█████▎    | 220/410 [09:56<01:51,  1.70it/s]"
          ]
        },
        {
          "name": "stdout",
          "output_type": "stream",
          "text": [
            "{'eval_loss': 1.1413990259170532, 'eval_accuracy': 0.4323995113372803, 'eval_runtime': 21.1231, 'eval_samples_per_second': 38.867, 'eval_steps_per_second': 9.752, 'epoch': 0.54}\n"
          ]
        },
        {
          "name": "stderr",
          "output_type": "stream",
          "text": [
            " 56%|█████▌    | 230/410 [10:02<01:47,  1.68it/s]"
          ]
        },
        {
          "name": "stdout",
          "output_type": "stream",
          "text": [
            "{'loss': 1.1962, 'grad_norm': 15.971943855285645, 'learning_rate': 4.536585365853659e-05, 'epoch': 0.56}\n"
          ]
        },
        {
          "name": "stderr",
          "output_type": "stream",
          "text": [
            "\n",
            " 56%|█████▌    | 230/410 [10:23<01:47,  1.68it/s]"
          ]
        },
        {
          "name": "stdout",
          "output_type": "stream",
          "text": [
            "{'eval_loss': 1.1463515758514404, 'eval_accuracy': 0.443361759185791, 'eval_runtime': 21.3527, 'eval_samples_per_second': 38.449, 'eval_steps_per_second': 9.647, 'epoch': 0.56}\n"
          ]
        },
        {
          "name": "stderr",
          "output_type": "stream",
          "text": [
            " 59%|█████▊    | 240/410 [10:29<01:41,  1.68it/s]"
          ]
        },
        {
          "name": "stdout",
          "output_type": "stream",
          "text": [
            "{'loss': 1.0408, 'grad_norm': 8.297393798828125, 'learning_rate': 4.292682926829268e-05, 'epoch': 0.58}\n"
          ]
        },
        {
          "name": "stderr",
          "output_type": "stream",
          "text": [
            "\n",
            " 59%|█████▊    | 240/410 [10:51<01:41,  1.68it/s]"
          ]
        },
        {
          "name": "stdout",
          "output_type": "stream",
          "text": [
            "{'eval_loss': 1.2076020240783691, 'eval_accuracy': 0.4165651500225067, 'eval_runtime': 21.6532, 'eval_samples_per_second': 37.916, 'eval_steps_per_second': 9.514, 'epoch': 0.58}\n"
          ]
        },
        {
          "name": "stderr",
          "output_type": "stream",
          "text": [
            " 61%|██████    | 250/410 [10:57<01:33,  1.71it/s]"
          ]
        },
        {
          "name": "stdout",
          "output_type": "stream",
          "text": [
            "{'loss': 1.122, 'grad_norm': 5.705637454986572, 'learning_rate': 4.073170731707317e-05, 'epoch': 0.61}\n"
          ]
        },
        {
          "name": "stderr",
          "output_type": "stream",
          "text": [
            "\n",
            " 61%|██████    | 250/410 [11:18<01:33,  1.71it/s]"
          ]
        },
        {
          "name": "stdout",
          "output_type": "stream",
          "text": [
            "{'eval_loss': 1.1037209033966064, 'eval_accuracy': 0.47503045201301575, 'eval_runtime': 21.3594, 'eval_samples_per_second': 38.437, 'eval_steps_per_second': 9.644, 'epoch': 0.61}\n"
          ]
        },
        {
          "name": "stderr",
          "output_type": "stream",
          "text": [
            " 63%|██████▎   | 260/410 [11:24<01:28,  1.70it/s]"
          ]
        },
        {
          "name": "stdout",
          "output_type": "stream",
          "text": [
            "{'loss': 1.0495, 'grad_norm': 4.363576412200928, 'learning_rate': 3.829268292682927e-05, 'epoch': 0.63}\n"
          ]
        },
        {
          "name": "stderr",
          "output_type": "stream",
          "text": [
            "\n",
            " 63%|██████▎   | 260/410 [11:54<01:28,  1.70it/s]"
          ]
        },
        {
          "name": "stdout",
          "output_type": "stream",
          "text": [
            "{'eval_loss': 1.1548802852630615, 'eval_accuracy': 0.4080389738082886, 'eval_runtime': 29.3522, 'eval_samples_per_second': 27.971, 'eval_steps_per_second': 7.018, 'epoch': 0.63}\n"
          ]
        },
        {
          "name": "stderr",
          "output_type": "stream",
          "text": [
            " 66%|██████▌   | 270/410 [11:59<01:39,  1.41it/s]"
          ]
        },
        {
          "name": "stdout",
          "output_type": "stream",
          "text": [
            "{'loss': 1.2311, 'grad_norm': 13.511316299438477, 'learning_rate': 3.585365853658537e-05, 'epoch': 0.66}\n"
          ]
        },
        {
          "name": "stderr",
          "output_type": "stream",
          "text": [
            "\n",
            " 66%|██████▌   | 270/410 [12:20<01:39,  1.41it/s]"
          ]
        },
        {
          "name": "stdout",
          "output_type": "stream",
          "text": [
            "{'eval_loss': 1.2281932830810547, 'eval_accuracy': 0.35566383600234985, 'eval_runtime': 21.2204, 'eval_samples_per_second': 38.689, 'eval_steps_per_second': 9.708, 'epoch': 0.66}\n"
          ]
        },
        {
          "name": "stderr",
          "output_type": "stream",
          "text": [
            " 68%|██████▊   | 280/410 [12:26<01:17,  1.69it/s]"
          ]
        },
        {
          "name": "stdout",
          "output_type": "stream",
          "text": [
            "{'loss': 1.1275, 'grad_norm': 5.477839469909668, 'learning_rate': 3.3414634146341465e-05, 'epoch': 0.68}\n"
          ]
        },
        {
          "name": "stderr",
          "output_type": "stream",
          "text": [
            "\n",
            " 68%|██████▊   | 280/410 [12:48<01:17,  1.69it/s]"
          ]
        },
        {
          "name": "stdout",
          "output_type": "stream",
          "text": [
            "{'eval_loss': 1.1297390460968018, 'eval_accuracy': 0.4153471291065216, 'eval_runtime': 21.6647, 'eval_samples_per_second': 37.896, 'eval_steps_per_second': 9.509, 'epoch': 0.68}\n"
          ]
        },
        {
          "name": "stderr",
          "output_type": "stream",
          "text": [
            " 71%|███████   | 290/410 [12:54<01:11,  1.67it/s]"
          ]
        },
        {
          "name": "stdout",
          "output_type": "stream",
          "text": [
            "{'loss': 1.0767, 'grad_norm': 12.535469055175781, 'learning_rate': 3.0975609756097564e-05, 'epoch': 0.71}\n"
          ]
        },
        {
          "name": "stderr",
          "output_type": "stream",
          "text": [
            "\n",
            " 71%|███████   | 290/410 [13:15<01:11,  1.67it/s]"
          ]
        },
        {
          "name": "stdout",
          "output_type": "stream",
          "text": [
            "{'eval_loss': 1.1317138671875, 'eval_accuracy': 0.42265528440475464, 'eval_runtime': 21.2179, 'eval_samples_per_second': 38.694, 'eval_steps_per_second': 9.709, 'epoch': 0.71}\n"
          ]
        },
        {
          "name": "stderr",
          "output_type": "stream",
          "text": [
            " 73%|███████▎  | 300/410 [13:21<01:05,  1.67it/s]"
          ]
        },
        {
          "name": "stdout",
          "output_type": "stream",
          "text": [
            "{'loss': 1.1628, 'grad_norm': 13.768705368041992, 'learning_rate': 2.8536585365853658e-05, 'epoch': 0.73}\n"
          ]
        },
        {
          "name": "stderr",
          "output_type": "stream",
          "text": [
            "\n",
            " 73%|███████▎  | 300/410 [13:43<01:05,  1.67it/s]"
          ]
        },
        {
          "name": "stdout",
          "output_type": "stream",
          "text": [
            "{'eval_loss': 1.1149749755859375, 'eval_accuracy': 0.4604141414165497, 'eval_runtime': 22.1581, 'eval_samples_per_second': 37.052, 'eval_steps_per_second': 9.297, 'epoch': 0.73}\n"
          ]
        },
        {
          "name": "stderr",
          "output_type": "stream",
          "text": [
            " 76%|███████▌  | 310/410 [13:50<01:02,  1.59it/s]"
          ]
        },
        {
          "name": "stdout",
          "output_type": "stream",
          "text": [
            "{'loss': 1.065, 'grad_norm': 12.381609916687012, 'learning_rate': 2.609756097560976e-05, 'epoch': 0.76}\n"
          ]
        },
        {
          "name": "stderr",
          "output_type": "stream",
          "text": [
            "\n",
            " 76%|███████▌  | 310/410 [14:15<01:02,  1.59it/s]"
          ]
        },
        {
          "name": "stdout",
          "output_type": "stream",
          "text": [
            "{'eval_loss': 1.1037911176681519, 'eval_accuracy': 0.45554202795028687, 'eval_runtime': 24.658, 'eval_samples_per_second': 33.296, 'eval_steps_per_second': 8.354, 'epoch': 0.76}\n"
          ]
        },
        {
          "name": "stderr",
          "output_type": "stream",
          "text": [
            " 78%|███████▊  | 320/410 [14:22<01:04,  1.40it/s]"
          ]
        },
        {
          "name": "stdout",
          "output_type": "stream",
          "text": [
            "{'loss': 1.1827, 'grad_norm': 4.97536039352417, 'learning_rate': 2.3658536585365854e-05, 'epoch': 0.78}\n"
          ]
        },
        {
          "name": "stderr",
          "output_type": "stream",
          "text": [
            "\n",
            " 78%|███████▊  | 320/410 [14:53<01:04,  1.40it/s]"
          ]
        },
        {
          "name": "stdout",
          "output_type": "stream",
          "text": [
            "{'eval_loss': 1.0890579223632812, 'eval_accuracy': 0.45554202795028687, 'eval_runtime': 30.515, 'eval_samples_per_second': 26.905, 'eval_steps_per_second': 6.751, 'epoch': 0.78}\n"
          ]
        },
        {
          "name": "stderr",
          "output_type": "stream",
          "text": [
            " 80%|████████  | 330/410 [15:00<01:02,  1.28it/s]"
          ]
        },
        {
          "name": "stdout",
          "output_type": "stream",
          "text": [
            "{'loss': 1.1534, 'grad_norm': 12.266209602355957, 'learning_rate': 2.1219512195121953e-05, 'epoch': 0.8}\n"
          ]
        },
        {
          "name": "stderr",
          "output_type": "stream",
          "text": [
            "\n",
            " 80%|████████  | 330/410 [15:29<01:02,  1.28it/s]"
          ]
        },
        {
          "name": "stdout",
          "output_type": "stream",
          "text": [
            "{'eval_loss': 1.1062958240509033, 'eval_accuracy': 0.4421437382698059, 'eval_runtime': 29.731, 'eval_samples_per_second': 27.614, 'eval_steps_per_second': 6.929, 'epoch': 0.8}\n"
          ]
        },
        {
          "name": "stderr",
          "output_type": "stream",
          "text": [
            " 83%|████████▎ | 340/410 [15:36<00:50,  1.39it/s]"
          ]
        },
        {
          "name": "stdout",
          "output_type": "stream",
          "text": [
            "{'loss': 1.0623, 'grad_norm': 9.629590034484863, 'learning_rate': 1.878048780487805e-05, 'epoch': 0.83}\n"
          ]
        },
        {
          "name": "stderr",
          "output_type": "stream",
          "text": [
            "\n",
            " 83%|████████▎ | 340/410 [16:02<00:50,  1.39it/s]"
          ]
        },
        {
          "name": "stdout",
          "output_type": "stream",
          "text": [
            "{'eval_loss': 1.0833098888397217, 'eval_accuracy': 0.47746649384498596, 'eval_runtime': 26.24, 'eval_samples_per_second': 31.288, 'eval_steps_per_second': 7.851, 'epoch': 0.83}\n"
          ]
        },
        {
          "name": "stderr",
          "output_type": "stream",
          "text": [
            " 85%|████████▌ | 350/410 [16:10<00:44,  1.34it/s]"
          ]
        },
        {
          "name": "stdout",
          "output_type": "stream",
          "text": [
            "{'loss': 1.1399, 'grad_norm': 7.187005996704102, 'learning_rate': 1.634146341463415e-05, 'epoch': 0.85}\n"
          ]
        },
        {
          "name": "stderr",
          "output_type": "stream",
          "text": [
            "\n",
            " 85%|████████▌ | 350/410 [16:40<00:44,  1.34it/s]"
          ]
        },
        {
          "name": "stdout",
          "output_type": "stream",
          "text": [
            "{'eval_loss': 1.0722897052764893, 'eval_accuracy': 0.4823386073112488, 'eval_runtime': 29.3366, 'eval_samples_per_second': 27.986, 'eval_steps_per_second': 7.022, 'epoch': 0.85}\n"
          ]
        },
        {
          "name": "stderr",
          "output_type": "stream",
          "text": [
            " 88%|████████▊ | 360/410 [16:47<00:39,  1.25it/s]"
          ]
        },
        {
          "name": "stdout",
          "output_type": "stream",
          "text": [
            "{'loss': 1.0872, 'grad_norm': 7.156260967254639, 'learning_rate': 1.3902439024390245e-05, 'epoch': 0.88}\n"
          ]
        },
        {
          "name": "stderr",
          "output_type": "stream",
          "text": [
            "\n",
            " 88%|████████▊ | 360/410 [17:19<00:39,  1.25it/s]"
          ]
        },
        {
          "name": "stdout",
          "output_type": "stream",
          "text": [
            "{'eval_loss': 1.0789532661437988, 'eval_accuracy': 0.47746649384498596, 'eval_runtime': 31.8266, 'eval_samples_per_second': 25.796, 'eval_steps_per_second': 6.473, 'epoch': 0.88}\n"
          ]
        },
        {
          "name": "stderr",
          "output_type": "stream",
          "text": [
            " 90%|█████████ | 370/410 [17:27<00:33,  1.20it/s]"
          ]
        },
        {
          "name": "stdout",
          "output_type": "stream",
          "text": [
            "{'loss': 1.0208, 'grad_norm': 33.75118637084961, 'learning_rate': 1.1463414634146343e-05, 'epoch': 0.9}\n"
          ]
        },
        {
          "name": "stderr",
          "output_type": "stream",
          "text": [
            "\n",
            " 90%|█████████ | 370/410 [17:49<00:33,  1.20it/s]"
          ]
        },
        {
          "name": "stdout",
          "output_type": "stream",
          "text": [
            "{'eval_loss': 1.0857750177383423, 'eval_accuracy': 0.464068204164505, 'eval_runtime': 22.0411, 'eval_samples_per_second': 37.249, 'eval_steps_per_second': 9.346, 'epoch': 0.9}\n"
          ]
        },
        {
          "name": "stderr",
          "output_type": "stream",
          "text": [
            " 93%|█████████▎| 380/410 [17:55<00:18,  1.62it/s]"
          ]
        },
        {
          "name": "stdout",
          "output_type": "stream",
          "text": [
            "{'loss': 1.1086, 'grad_norm': 6.6056084632873535, 'learning_rate': 9.02439024390244e-06, 'epoch': 0.93}\n"
          ]
        },
        {
          "name": "stderr",
          "output_type": "stream",
          "text": [
            "\n",
            " 93%|█████████▎| 380/410 [18:22<00:18,  1.62it/s]"
          ]
        },
        {
          "name": "stdout",
          "output_type": "stream",
          "text": [
            "{'eval_loss': 1.1047356128692627, 'eval_accuracy': 0.4628501832485199, 'eval_runtime': 26.7467, 'eval_samples_per_second': 30.695, 'eval_steps_per_second': 7.702, 'epoch': 0.93}\n"
          ]
        },
        {
          "name": "stderr",
          "output_type": "stream",
          "text": [
            " 95%|█████████▌| 390/410 [18:28<00:13,  1.48it/s]"
          ]
        },
        {
          "name": "stdout",
          "output_type": "stream",
          "text": [
            "{'loss': 1.1286, 'grad_norm': 11.760956764221191, 'learning_rate': 6.585365853658537e-06, 'epoch': 0.95}\n"
          ]
        },
        {
          "name": "stderr",
          "output_type": "stream",
          "text": [
            "\n",
            " 95%|█████████▌| 390/410 [18:50<00:13,  1.48it/s]"
          ]
        },
        {
          "name": "stdout",
          "output_type": "stream",
          "text": [
            "{'eval_loss': 1.1411746740341187, 'eval_accuracy': 0.4397076666355133, 'eval_runtime': 22.3494, 'eval_samples_per_second': 36.735, 'eval_steps_per_second': 9.217, 'epoch': 0.95}\n"
          ]
        },
        {
          "name": "stderr",
          "output_type": "stream",
          "text": [
            " 98%|█████████▊| 400/410 [18:57<00:07,  1.40it/s]"
          ]
        },
        {
          "name": "stdout",
          "output_type": "stream",
          "text": [
            "{'loss': 0.977, 'grad_norm': 6.3667988777160645, 'learning_rate': 4.146341463414634e-06, 'epoch': 0.97}\n"
          ]
        },
        {
          "name": "stderr",
          "output_type": "stream",
          "text": [
            "\n",
            " 98%|█████████▊| 400/410 [19:21<00:07,  1.40it/s]"
          ]
        },
        {
          "name": "stdout",
          "output_type": "stream",
          "text": [
            "{'eval_loss': 1.1568602323532104, 'eval_accuracy': 0.42143726348876953, 'eval_runtime': 23.879, 'eval_samples_per_second': 34.382, 'eval_steps_per_second': 8.627, 'epoch': 0.97}\n"
          ]
        },
        {
          "name": "stderr",
          "output_type": "stream",
          "text": [
            "100%|██████████| 410/410 [19:27<00:00,  1.57it/s]"
          ]
        },
        {
          "name": "stdout",
          "output_type": "stream",
          "text": [
            "{'loss': 1.0908, 'grad_norm': 7.564713001251221, 'learning_rate': 1.707317073170732e-06, 'epoch': 1.0}\n"
          ]
        },
        {
          "name": "stderr",
          "output_type": "stream",
          "text": [
            "\n",
            "100%|██████████| 410/410 [19:49<00:00,  1.57it/s]"
          ]
        },
        {
          "name": "stdout",
          "output_type": "stream",
          "text": [
            "{'eval_loss': 1.1483161449432373, 'eval_accuracy': 0.42509135603904724, 'eval_runtime': 22.309, 'eval_samples_per_second': 36.801, 'eval_steps_per_second': 9.234, 'epoch': 1.0}\n"
          ]
        },
        {
          "name": "stderr",
          "output_type": "stream",
          "text": [
            "100%|██████████| 410/410 [19:52<00:00,  2.91s/it]"
          ]
        },
        {
          "name": "stdout",
          "output_type": "stream",
          "text": [
            "{'train_runtime': 1192.6794, 'train_samples_per_second': 2.753, 'train_steps_per_second': 0.344, 'train_loss': 1.1801067352294923, 'epoch': 1.0}\n"
          ]
        },
        {
          "name": "stderr",
          "output_type": "stream",
          "text": [
            "\n"
          ]
        },
        {
          "data": {
            "text/plain": [
              "TrainOutput(global_step=410, training_loss=1.1801067352294923, metrics={'train_runtime': 1192.6794, 'train_samples_per_second': 2.753, 'train_steps_per_second': 0.344, 'total_flos': 7.9725964517376e+16, 'train_loss': 1.1801067352294923, 'epoch': 0.9987819732034104})"
            ]
          },
          "execution_count": 63,
          "metadata": {},
          "output_type": "execute_result"
        }
      ],
      "source": [
        "trainer.train()"
      ]
    },
    {
      "cell_type": "code",
      "execution_count": 64,
      "metadata": {
        "colab": {
          "base_uri": "https://localhost:8080/",
          "height": 144
        },
        "id": "vnTNSOyQQM6I",
        "outputId": "5786dcf9-5cac-4d6e-df0b-31e785f3ed9b"
      },
      "outputs": [
        {
          "name": "stderr",
          "output_type": "stream",
          "text": [
            "100%|██████████| 206/206 [00:21<00:00,  9.64it/s]\n"
          ]
        },
        {
          "data": {
            "text/plain": [
              "{'eval_loss': 1.1483161449432373,\n",
              " 'eval_accuracy': 0.42509135603904724,\n",
              " 'eval_runtime': 21.6362,\n",
              " 'eval_samples_per_second': 37.946,\n",
              " 'eval_steps_per_second': 9.521,\n",
              " 'epoch': 0.9987819732034104}"
            ]
          },
          "execution_count": 64,
          "metadata": {},
          "output_type": "execute_result"
        }
      ],
      "source": [
        "# trainer.evaluate()\n",
        "trainer.evaluate(eval_dataset=eval_dataset)"
      ]
    },
    {
      "cell_type": "code",
      "execution_count": 65,
      "metadata": {},
      "outputs": [
        {
          "name": "stderr",
          "output_type": "stream",
          "text": [
            "100%|██████████| 821/821 [01:34<00:00,  8.72it/s]\n"
          ]
        },
        {
          "data": {
            "text/plain": [
              "{'eval_loss': 1.1303541660308838,\n",
              " 'eval_accuracy': 0.43710020184516907,\n",
              " 'eval_runtime': 94.2955,\n",
              " 'eval_samples_per_second': 34.816,\n",
              " 'eval_steps_per_second': 8.707,\n",
              " 'epoch': 0.9987819732034104}"
            ]
          },
          "execution_count": 65,
          "metadata": {},
          "output_type": "execute_result"
        }
      ],
      "source": [
        "trainer.evaluate(eval_dataset=train_dataset)"
      ]
    }
  ],
  "metadata": {
    "accelerator": "GPU",
    "colab": {
      "gpuType": "T4",
      "provenance": []
    },
    "kernelspec": {
      "display_name": "Python 3",
      "name": "python3"
    },
    "language_info": {
      "codemirror_mode": {
        "name": "ipython",
        "version": 3
      },
      "file_extension": ".py",
      "mimetype": "text/x-python",
      "name": "python",
      "nbconvert_exporter": "python",
      "pygments_lexer": "ipython3",
      "version": "3.8.19"
    },
    "widgets": {
      "application/vnd.jupyter.widget-state+json": {
        "002fefb1d9054f79a8635ddd3a1faa68": {
          "model_module": "@jupyter-widgets/base",
          "model_module_version": "1.2.0",
          "model_name": "LayoutModel",
          "state": {
            "_model_module": "@jupyter-widgets/base",
            "_model_module_version": "1.2.0",
            "_model_name": "LayoutModel",
            "_view_count": null,
            "_view_module": "@jupyter-widgets/base",
            "_view_module_version": "1.2.0",
            "_view_name": "LayoutView",
            "align_content": null,
            "align_items": null,
            "align_self": null,
            "border": null,
            "bottom": null,
            "display": null,
            "flex": null,
            "flex_flow": null,
            "grid_area": null,
            "grid_auto_columns": null,
            "grid_auto_flow": null,
            "grid_auto_rows": null,
            "grid_column": null,
            "grid_gap": null,
            "grid_row": null,
            "grid_template_areas": null,
            "grid_template_columns": null,
            "grid_template_rows": null,
            "height": null,
            "justify_content": null,
            "justify_items": null,
            "left": null,
            "margin": null,
            "max_height": null,
            "max_width": null,
            "min_height": null,
            "min_width": null,
            "object_fit": null,
            "object_position": null,
            "order": null,
            "overflow": null,
            "overflow_x": null,
            "overflow_y": null,
            "padding": null,
            "right": null,
            "top": null,
            "visibility": null,
            "width": null
          }
        },
        "02466142c6c24bb3a76bfe582e2c98d7": {
          "model_module": "@jupyter-widgets/controls",
          "model_module_version": "1.5.0",
          "model_name": "HTMLModel",
          "state": {
            "_dom_classes": [],
            "_model_module": "@jupyter-widgets/controls",
            "_model_module_version": "1.5.0",
            "_model_name": "HTMLModel",
            "_view_count": null,
            "_view_module": "@jupyter-widgets/controls",
            "_view_module_version": "1.5.0",
            "_view_name": "HTMLView",
            "description": "",
            "description_tooltip": null,
            "layout": "IPY_MODEL_cdb05b93e52b42a0bd8bb3cf793273b8",
            "placeholder": "​",
            "style": "IPY_MODEL_125bf3d9cbae4b36ae8d08ad88419eac",
            "value": "Generating train split: "
          }
        },
        "03955f8da28241dfa158a9afaecbe02b": {
          "model_module": "@jupyter-widgets/base",
          "model_module_version": "1.2.0",
          "model_name": "LayoutModel",
          "state": {
            "_model_module": "@jupyter-widgets/base",
            "_model_module_version": "1.2.0",
            "_model_name": "LayoutModel",
            "_view_count": null,
            "_view_module": "@jupyter-widgets/base",
            "_view_module_version": "1.2.0",
            "_view_name": "LayoutView",
            "align_content": null,
            "align_items": null,
            "align_self": null,
            "border": null,
            "bottom": null,
            "display": null,
            "flex": null,
            "flex_flow": null,
            "grid_area": null,
            "grid_auto_columns": null,
            "grid_auto_flow": null,
            "grid_auto_rows": null,
            "grid_column": null,
            "grid_gap": null,
            "grid_row": null,
            "grid_template_areas": null,
            "grid_template_columns": null,
            "grid_template_rows": null,
            "height": null,
            "justify_content": null,
            "justify_items": null,
            "left": null,
            "margin": null,
            "max_height": null,
            "max_width": null,
            "min_height": null,
            "min_width": null,
            "object_fit": null,
            "object_position": null,
            "order": null,
            "overflow": null,
            "overflow_x": null,
            "overflow_y": null,
            "padding": null,
            "right": null,
            "top": null,
            "visibility": null,
            "width": null
          }
        },
        "0436f4ba0a344253a944b70f249361a9": {
          "model_module": "@jupyter-widgets/controls",
          "model_module_version": "1.5.0",
          "model_name": "HTMLModel",
          "state": {
            "_dom_classes": [],
            "_model_module": "@jupyter-widgets/controls",
            "_model_module_version": "1.5.0",
            "_model_name": "HTMLModel",
            "_view_count": null,
            "_view_module": "@jupyter-widgets/controls",
            "_view_module_version": "1.5.0",
            "_view_name": "HTMLView",
            "description": "",
            "description_tooltip": null,
            "layout": "IPY_MODEL_5f905354208a4e9896ecfc3f13679baf",
            "placeholder": "​",
            "style": "IPY_MODEL_c8d3126fbda14474aad4d9712a3cfe50",
            "value": " 212/212 [00:00&lt;00:00, 15.6kB/s]"
          }
        },
        "070519028e4e4e939e848791c8fba4f8": {
          "model_module": "@jupyter-widgets/base",
          "model_module_version": "1.2.0",
          "model_name": "LayoutModel",
          "state": {
            "_model_module": "@jupyter-widgets/base",
            "_model_module_version": "1.2.0",
            "_model_name": "LayoutModel",
            "_view_count": null,
            "_view_module": "@jupyter-widgets/base",
            "_view_module_version": "1.2.0",
            "_view_name": "LayoutView",
            "align_content": null,
            "align_items": null,
            "align_self": null,
            "border": null,
            "bottom": null,
            "display": null,
            "flex": null,
            "flex_flow": null,
            "grid_area": null,
            "grid_auto_columns": null,
            "grid_auto_flow": null,
            "grid_auto_rows": null,
            "grid_column": null,
            "grid_gap": null,
            "grid_row": null,
            "grid_template_areas": null,
            "grid_template_columns": null,
            "grid_template_rows": null,
            "height": null,
            "justify_content": null,
            "justify_items": null,
            "left": null,
            "margin": null,
            "max_height": null,
            "max_width": null,
            "min_height": null,
            "min_width": null,
            "object_fit": null,
            "object_position": null,
            "order": null,
            "overflow": null,
            "overflow_x": null,
            "overflow_y": null,
            "padding": null,
            "right": null,
            "top": null,
            "visibility": null,
            "width": null
          }
        },
        "08446a145df74417a74adf87504850eb": {
          "model_module": "@jupyter-widgets/base",
          "model_module_version": "1.2.0",
          "model_name": "LayoutModel",
          "state": {
            "_model_module": "@jupyter-widgets/base",
            "_model_module_version": "1.2.0",
            "_model_name": "LayoutModel",
            "_view_count": null,
            "_view_module": "@jupyter-widgets/base",
            "_view_module_version": "1.2.0",
            "_view_name": "LayoutView",
            "align_content": null,
            "align_items": null,
            "align_self": null,
            "border": null,
            "bottom": null,
            "display": null,
            "flex": null,
            "flex_flow": null,
            "grid_area": null,
            "grid_auto_columns": null,
            "grid_auto_flow": null,
            "grid_auto_rows": null,
            "grid_column": null,
            "grid_gap": null,
            "grid_row": null,
            "grid_template_areas": null,
            "grid_template_columns": null,
            "grid_template_rows": null,
            "height": null,
            "justify_content": null,
            "justify_items": null,
            "left": null,
            "margin": null,
            "max_height": null,
            "max_width": null,
            "min_height": null,
            "min_width": null,
            "object_fit": null,
            "object_position": null,
            "order": null,
            "overflow": null,
            "overflow_x": null,
            "overflow_y": null,
            "padding": null,
            "right": null,
            "top": null,
            "visibility": null,
            "width": null
          }
        },
        "0b3835ef7e0644fbbae707024d11aee8": {
          "model_module": "@jupyter-widgets/controls",
          "model_module_version": "1.5.0",
          "model_name": "DescriptionStyleModel",
          "state": {
            "_model_module": "@jupyter-widgets/controls",
            "_model_module_version": "1.5.0",
            "_model_name": "DescriptionStyleModel",
            "_view_count": null,
            "_view_module": "@jupyter-widgets/base",
            "_view_module_version": "1.2.0",
            "_view_name": "StyleView",
            "description_width": ""
          }
        },
        "125bf3d9cbae4b36ae8d08ad88419eac": {
          "model_module": "@jupyter-widgets/controls",
          "model_module_version": "1.5.0",
          "model_name": "DescriptionStyleModel",
          "state": {
            "_model_module": "@jupyter-widgets/controls",
            "_model_module_version": "1.5.0",
            "_model_name": "DescriptionStyleModel",
            "_view_count": null,
            "_view_module": "@jupyter-widgets/base",
            "_view_module_version": "1.2.0",
            "_view_name": "StyleView",
            "description_width": ""
          }
        },
        "184c7c132bc7449e8d3ac27ffa609c94": {
          "model_module": "@jupyter-widgets/base",
          "model_module_version": "1.2.0",
          "model_name": "LayoutModel",
          "state": {
            "_model_module": "@jupyter-widgets/base",
            "_model_module_version": "1.2.0",
            "_model_name": "LayoutModel",
            "_view_count": null,
            "_view_module": "@jupyter-widgets/base",
            "_view_module_version": "1.2.0",
            "_view_name": "LayoutView",
            "align_content": null,
            "align_items": null,
            "align_self": null,
            "border": null,
            "bottom": null,
            "display": null,
            "flex": null,
            "flex_flow": null,
            "grid_area": null,
            "grid_auto_columns": null,
            "grid_auto_flow": null,
            "grid_auto_rows": null,
            "grid_column": null,
            "grid_gap": null,
            "grid_row": null,
            "grid_template_areas": null,
            "grid_template_columns": null,
            "grid_template_rows": null,
            "height": null,
            "justify_content": null,
            "justify_items": null,
            "left": null,
            "margin": null,
            "max_height": null,
            "max_width": null,
            "min_height": null,
            "min_width": null,
            "object_fit": null,
            "object_position": null,
            "order": null,
            "overflow": null,
            "overflow_x": null,
            "overflow_y": null,
            "padding": null,
            "right": null,
            "top": null,
            "visibility": null,
            "width": null
          }
        },
        "186aaef493c94b89b01b3573dad29da4": {
          "model_module": "@jupyter-widgets/controls",
          "model_module_version": "1.5.0",
          "model_name": "FloatProgressModel",
          "state": {
            "_dom_classes": [],
            "_model_module": "@jupyter-widgets/controls",
            "_model_module_version": "1.5.0",
            "_model_name": "FloatProgressModel",
            "_view_count": null,
            "_view_module": "@jupyter-widgets/controls",
            "_view_module_version": "1.5.0",
            "_view_name": "ProgressView",
            "bar_style": "success",
            "description": "",
            "description_tooltip": null,
            "layout": "IPY_MODEL_e0a50e46b3d64db88024c43f04cd4c83",
            "max": 1269737156,
            "min": 0,
            "orientation": "horizontal",
            "style": "IPY_MODEL_bf57c3f360214fd28caa375a048e95b0",
            "value": 1269737156
          }
        },
        "1bb9aa9295424199b91ecc09cade6f54": {
          "model_module": "@jupyter-widgets/controls",
          "model_module_version": "1.5.0",
          "model_name": "HTMLModel",
          "state": {
            "_dom_classes": [],
            "_model_module": "@jupyter-widgets/controls",
            "_model_module_version": "1.5.0",
            "_model_name": "HTMLModel",
            "_view_count": null,
            "_view_module": "@jupyter-widgets/controls",
            "_view_module_version": "1.5.0",
            "_view_name": "HTMLView",
            "description": "",
            "description_tooltip": null,
            "layout": "IPY_MODEL_6609441304d7482bb49e92f293f4d4dc",
            "placeholder": "​",
            "style": "IPY_MODEL_7729c08261484537851400243a9f7686",
            "value": ""
          }
        },
        "1d7b73b315704b3ca070d2034c0a18be": {
          "model_module": "@jupyter-widgets/controls",
          "model_module_version": "1.5.0",
          "model_name": "DescriptionStyleModel",
          "state": {
            "_model_module": "@jupyter-widgets/controls",
            "_model_module_version": "1.5.0",
            "_model_name": "DescriptionStyleModel",
            "_view_count": null,
            "_view_module": "@jupyter-widgets/base",
            "_view_module_version": "1.2.0",
            "_view_name": "StyleView",
            "description_width": ""
          }
        },
        "2375620c24ce43a5a7cdc67a7195ba62": {
          "model_module": "@jupyter-widgets/controls",
          "model_module_version": "1.5.0",
          "model_name": "FloatProgressModel",
          "state": {
            "_dom_classes": [],
            "_model_module": "@jupyter-widgets/controls",
            "_model_module_version": "1.5.0",
            "_model_name": "FloatProgressModel",
            "_view_count": null,
            "_view_module": "@jupyter-widgets/controls",
            "_view_module_version": "1.5.0",
            "_view_name": "ProgressView",
            "bar_style": "success",
            "description": "",
            "description_tooltip": null,
            "layout": "IPY_MODEL_8f24bd1dd65f47f797e016586877ce78",
            "max": 1,
            "min": 0,
            "orientation": "horizontal",
            "style": "IPY_MODEL_b6e672714fc5455fbaf2a6e7044f6046",
            "value": 1
          }
        },
        "2521434905d5469b8d56f2166302e58f": {
          "model_module": "@jupyter-widgets/controls",
          "model_module_version": "1.5.0",
          "model_name": "ProgressStyleModel",
          "state": {
            "_model_module": "@jupyter-widgets/controls",
            "_model_module_version": "1.5.0",
            "_model_name": "ProgressStyleModel",
            "_view_count": null,
            "_view_module": "@jupyter-widgets/base",
            "_view_module_version": "1.2.0",
            "_view_name": "StyleView",
            "bar_color": null,
            "description_width": ""
          }
        },
        "2571030dc32442098ba7caddbbbaea1d": {
          "model_module": "@jupyter-widgets/base",
          "model_module_version": "1.2.0",
          "model_name": "LayoutModel",
          "state": {
            "_model_module": "@jupyter-widgets/base",
            "_model_module_version": "1.2.0",
            "_model_name": "LayoutModel",
            "_view_count": null,
            "_view_module": "@jupyter-widgets/base",
            "_view_module_version": "1.2.0",
            "_view_name": "LayoutView",
            "align_content": null,
            "align_items": null,
            "align_self": null,
            "border": null,
            "bottom": null,
            "display": null,
            "flex": null,
            "flex_flow": null,
            "grid_area": null,
            "grid_auto_columns": null,
            "grid_auto_flow": null,
            "grid_auto_rows": null,
            "grid_column": null,
            "grid_gap": null,
            "grid_row": null,
            "grid_template_areas": null,
            "grid_template_columns": null,
            "grid_template_rows": null,
            "height": null,
            "justify_content": null,
            "justify_items": null,
            "left": null,
            "margin": null,
            "max_height": null,
            "max_width": null,
            "min_height": null,
            "min_width": null,
            "object_fit": null,
            "object_position": null,
            "order": null,
            "overflow": null,
            "overflow_x": null,
            "overflow_y": null,
            "padding": null,
            "right": null,
            "top": null,
            "visibility": null,
            "width": null
          }
        },
        "27f27cd583a949e59109bbe0e94dc701": {
          "model_module": "@jupyter-widgets/base",
          "model_module_version": "1.2.0",
          "model_name": "LayoutModel",
          "state": {
            "_model_module": "@jupyter-widgets/base",
            "_model_module_version": "1.2.0",
            "_model_name": "LayoutModel",
            "_view_count": null,
            "_view_module": "@jupyter-widgets/base",
            "_view_module_version": "1.2.0",
            "_view_name": "LayoutView",
            "align_content": null,
            "align_items": null,
            "align_self": null,
            "border": null,
            "bottom": null,
            "display": null,
            "flex": null,
            "flex_flow": null,
            "grid_area": null,
            "grid_auto_columns": null,
            "grid_auto_flow": null,
            "grid_auto_rows": null,
            "grid_column": null,
            "grid_gap": null,
            "grid_row": null,
            "grid_template_areas": null,
            "grid_template_columns": null,
            "grid_template_rows": null,
            "height": null,
            "justify_content": null,
            "justify_items": null,
            "left": null,
            "margin": null,
            "max_height": null,
            "max_width": null,
            "min_height": null,
            "min_width": null,
            "object_fit": null,
            "object_position": null,
            "order": null,
            "overflow": null,
            "overflow_x": null,
            "overflow_y": null,
            "padding": null,
            "right": null,
            "top": null,
            "visibility": null,
            "width": null
          }
        },
        "2e4ba782559a447a8570f0cb58593e6a": {
          "model_module": "@jupyter-widgets/controls",
          "model_module_version": "1.5.0",
          "model_name": "HBoxModel",
          "state": {
            "_dom_classes": [],
            "_model_module": "@jupyter-widgets/controls",
            "_model_module_version": "1.5.0",
            "_model_name": "HBoxModel",
            "_view_count": null,
            "_view_module": "@jupyter-widgets/controls",
            "_view_module_version": "1.5.0",
            "_view_name": "HBoxView",
            "box_style": "",
            "children": [
              "IPY_MODEL_7a811ac4270b46f18711a2e2ffcd6b14",
              "IPY_MODEL_9cd90d97577c4e41b13f32567f2a313a",
              "IPY_MODEL_f4a32c227a044ee6ba3977a5d0988ab0"
            ],
            "layout": "IPY_MODEL_a3eede0e854a4ae393cc9cec3970f5aa"
          }
        },
        "2f54998c726745e18a54cea63178d3c4": {
          "model_module": "@jupyter-widgets/controls",
          "model_module_version": "1.5.0",
          "model_name": "DescriptionStyleModel",
          "state": {
            "_model_module": "@jupyter-widgets/controls",
            "_model_module_version": "1.5.0",
            "_model_name": "DescriptionStyleModel",
            "_view_count": null,
            "_view_module": "@jupyter-widgets/base",
            "_view_module_version": "1.2.0",
            "_view_name": "StyleView",
            "description_width": ""
          }
        },
        "33a66026aa494e3d8c9f889ea8ac2fc9": {
          "model_module": "@jupyter-widgets/controls",
          "model_module_version": "1.5.0",
          "model_name": "HBoxModel",
          "state": {
            "_dom_classes": [],
            "_model_module": "@jupyter-widgets/controls",
            "_model_module_version": "1.5.0",
            "_model_name": "HBoxModel",
            "_view_count": null,
            "_view_module": "@jupyter-widgets/controls",
            "_view_module_version": "1.5.0",
            "_view_name": "HBoxView",
            "box_style": "",
            "children": [
              "IPY_MODEL_eee58ce2ae4a4cdf89d9d24e4ab47960",
              "IPY_MODEL_40cb9b63e74c4513900c859974370ac7",
              "IPY_MODEL_f84e80019ca4415587d16d23b3282f0d"
            ],
            "layout": "IPY_MODEL_a2489033e6194d2a877e75bce3351217"
          }
        },
        "3ee888a18f6b4979a54eb7b4ad4c735f": {
          "model_module": "@jupyter-widgets/base",
          "model_module_version": "1.2.0",
          "model_name": "LayoutModel",
          "state": {
            "_model_module": "@jupyter-widgets/base",
            "_model_module_version": "1.2.0",
            "_model_name": "LayoutModel",
            "_view_count": null,
            "_view_module": "@jupyter-widgets/base",
            "_view_module_version": "1.2.0",
            "_view_name": "LayoutView",
            "align_content": null,
            "align_items": null,
            "align_self": null,
            "border": null,
            "bottom": null,
            "display": null,
            "flex": null,
            "flex_flow": null,
            "grid_area": null,
            "grid_auto_columns": null,
            "grid_auto_flow": null,
            "grid_auto_rows": null,
            "grid_column": null,
            "grid_gap": null,
            "grid_row": null,
            "grid_template_areas": null,
            "grid_template_columns": null,
            "grid_template_rows": null,
            "height": null,
            "justify_content": null,
            "justify_items": null,
            "left": null,
            "margin": null,
            "max_height": null,
            "max_width": null,
            "min_height": null,
            "min_width": null,
            "object_fit": null,
            "object_position": null,
            "order": null,
            "overflow": null,
            "overflow_x": null,
            "overflow_y": null,
            "padding": null,
            "right": null,
            "top": null,
            "visibility": null,
            "width": null
          }
        },
        "40cb9b63e74c4513900c859974370ac7": {
          "model_module": "@jupyter-widgets/controls",
          "model_module_version": "1.5.0",
          "model_name": "FloatProgressModel",
          "state": {
            "_dom_classes": [],
            "_model_module": "@jupyter-widgets/controls",
            "_model_module_version": "1.5.0",
            "_model_name": "FloatProgressModel",
            "_view_count": null,
            "_view_module": "@jupyter-widgets/controls",
            "_view_module_version": "1.5.0",
            "_view_name": "ProgressView",
            "bar_style": "success",
            "description": "",
            "description_tooltip": null,
            "layout": "IPY_MODEL_27f27cd583a949e59109bbe0e94dc701",
            "max": 821,
            "min": 0,
            "orientation": "horizontal",
            "style": "IPY_MODEL_b2919f1f580c435aa58a24605077b5df",
            "value": 821
          }
        },
        "414b962a3115441da7ea56525e11565c": {
          "model_module": "@jupyter-widgets/base",
          "model_module_version": "1.2.0",
          "model_name": "LayoutModel",
          "state": {
            "_model_module": "@jupyter-widgets/base",
            "_model_module_version": "1.2.0",
            "_model_name": "LayoutModel",
            "_view_count": null,
            "_view_module": "@jupyter-widgets/base",
            "_view_module_version": "1.2.0",
            "_view_name": "LayoutView",
            "align_content": null,
            "align_items": null,
            "align_self": null,
            "border": null,
            "bottom": null,
            "display": null,
            "flex": null,
            "flex_flow": null,
            "grid_area": null,
            "grid_auto_columns": null,
            "grid_auto_flow": null,
            "grid_auto_rows": null,
            "grid_column": null,
            "grid_gap": null,
            "grid_row": null,
            "grid_template_areas": null,
            "grid_template_columns": null,
            "grid_template_rows": null,
            "height": null,
            "justify_content": null,
            "justify_items": null,
            "left": null,
            "margin": null,
            "max_height": null,
            "max_width": null,
            "min_height": null,
            "min_width": null,
            "object_fit": null,
            "object_position": null,
            "order": null,
            "overflow": null,
            "overflow_x": null,
            "overflow_y": null,
            "padding": null,
            "right": null,
            "top": null,
            "visibility": null,
            "width": null
          }
        },
        "4290806b83dd406d83224999af168cb0": {
          "model_module": "@jupyter-widgets/base",
          "model_module_version": "1.2.0",
          "model_name": "LayoutModel",
          "state": {
            "_model_module": "@jupyter-widgets/base",
            "_model_module_version": "1.2.0",
            "_model_name": "LayoutModel",
            "_view_count": null,
            "_view_module": "@jupyter-widgets/base",
            "_view_module_version": "1.2.0",
            "_view_name": "LayoutView",
            "align_content": null,
            "align_items": null,
            "align_self": null,
            "border": null,
            "bottom": null,
            "display": null,
            "flex": null,
            "flex_flow": null,
            "grid_area": null,
            "grid_auto_columns": null,
            "grid_auto_flow": null,
            "grid_auto_rows": null,
            "grid_column": null,
            "grid_gap": null,
            "grid_row": null,
            "grid_template_areas": null,
            "grid_template_columns": null,
            "grid_template_rows": null,
            "height": null,
            "justify_content": null,
            "justify_items": null,
            "left": null,
            "margin": null,
            "max_height": null,
            "max_width": null,
            "min_height": null,
            "min_width": null,
            "object_fit": null,
            "object_position": null,
            "order": null,
            "overflow": null,
            "overflow_x": null,
            "overflow_y": null,
            "padding": null,
            "right": null,
            "top": null,
            "visibility": null,
            "width": null
          }
        },
        "45212ee9f7dc486fadc535e9a90f1420": {
          "model_module": "@jupyter-widgets/controls",
          "model_module_version": "1.5.0",
          "model_name": "ProgressStyleModel",
          "state": {
            "_model_module": "@jupyter-widgets/controls",
            "_model_module_version": "1.5.0",
            "_model_name": "ProgressStyleModel",
            "_view_count": null,
            "_view_module": "@jupyter-widgets/base",
            "_view_module_version": "1.2.0",
            "_view_name": "StyleView",
            "bar_color": null,
            "description_width": ""
          }
        },
        "459041ab9f7e4815b8f0e6e45b83f531": {
          "model_module": "@jupyter-widgets/controls",
          "model_module_version": "1.5.0",
          "model_name": "HTMLModel",
          "state": {
            "_dom_classes": [],
            "_model_module": "@jupyter-widgets/controls",
            "_model_module_version": "1.5.0",
            "_model_name": "HTMLModel",
            "_view_count": null,
            "_view_module": "@jupyter-widgets/controls",
            "_view_module_version": "1.5.0",
            "_view_name": "HTMLView",
            "description": "",
            "description_tooltip": null,
            "layout": "IPY_MODEL_8c22c60cc98e4929986af14fdd91624f",
            "placeholder": "​",
            "style": "IPY_MODEL_87fb489932754d7d98353a1619621499",
            "value": " 3283/3283 [00:27&lt;00:00, 248.98 examples/s]"
          }
        },
        "47089d15d93f410ab5e8b9e3033cd463": {
          "model_module": "@jupyter-widgets/controls",
          "model_module_version": "1.5.0",
          "model_name": "HBoxModel",
          "state": {
            "_dom_classes": [],
            "_model_module": "@jupyter-widgets/controls",
            "_model_module_version": "1.5.0",
            "_model_name": "HBoxModel",
            "_view_count": null,
            "_view_module": "@jupyter-widgets/controls",
            "_view_module_version": "1.5.0",
            "_view_name": "HBoxView",
            "box_style": "",
            "children": [
              "IPY_MODEL_82c261d0020449e88f80f5d76faed453",
              "IPY_MODEL_c4cfee75c9d14d2bafcfbf871ce3fbc8",
              "IPY_MODEL_87c56116531948338d5f2dde995cc9ac"
            ],
            "layout": "IPY_MODEL_5d8332f417304126b6c759c059639431"
          }
        },
        "5646d6b3cf974c3d9b2571d8556cc92a": {
          "model_module": "@jupyter-widgets/controls",
          "model_module_version": "1.5.0",
          "model_name": "FloatProgressModel",
          "state": {
            "_dom_classes": [],
            "_model_module": "@jupyter-widgets/controls",
            "_model_module_version": "1.5.0",
            "_model_name": "FloatProgressModel",
            "_view_count": null,
            "_view_module": "@jupyter-widgets/controls",
            "_view_module_version": "1.5.0",
            "_view_name": "ProgressView",
            "bar_style": "success",
            "description": "",
            "description_tooltip": null,
            "layout": "IPY_MODEL_2571030dc32442098ba7caddbbbaea1d",
            "max": 212,
            "min": 0,
            "orientation": "horizontal",
            "style": "IPY_MODEL_c174b22e20fe4b2692b26e6ce60e97e8",
            "value": 212
          }
        },
        "596907c3e3e24e5490ed6982b955cfe9": {
          "model_module": "@jupyter-widgets/controls",
          "model_module_version": "1.5.0",
          "model_name": "DescriptionStyleModel",
          "state": {
            "_model_module": "@jupyter-widgets/controls",
            "_model_module_version": "1.5.0",
            "_model_name": "DescriptionStyleModel",
            "_view_count": null,
            "_view_module": "@jupyter-widgets/base",
            "_view_module_version": "1.2.0",
            "_view_name": "StyleView",
            "description_width": ""
          }
        },
        "5b3ce0832b12432db3be3d125fe6c1e1": {
          "model_module": "@jupyter-widgets/controls",
          "model_module_version": "1.5.0",
          "model_name": "DescriptionStyleModel",
          "state": {
            "_model_module": "@jupyter-widgets/controls",
            "_model_module_version": "1.5.0",
            "_model_name": "DescriptionStyleModel",
            "_view_count": null,
            "_view_module": "@jupyter-widgets/base",
            "_view_module_version": "1.2.0",
            "_view_name": "StyleView",
            "description_width": ""
          }
        },
        "5d8332f417304126b6c759c059639431": {
          "model_module": "@jupyter-widgets/base",
          "model_module_version": "1.2.0",
          "model_name": "LayoutModel",
          "state": {
            "_model_module": "@jupyter-widgets/base",
            "_model_module_version": "1.2.0",
            "_model_name": "LayoutModel",
            "_view_count": null,
            "_view_module": "@jupyter-widgets/base",
            "_view_module_version": "1.2.0",
            "_view_name": "LayoutView",
            "align_content": null,
            "align_items": null,
            "align_self": null,
            "border": null,
            "bottom": null,
            "display": null,
            "flex": null,
            "flex_flow": null,
            "grid_area": null,
            "grid_auto_columns": null,
            "grid_auto_flow": null,
            "grid_auto_rows": null,
            "grid_column": null,
            "grid_gap": null,
            "grid_row": null,
            "grid_template_areas": null,
            "grid_template_columns": null,
            "grid_template_rows": null,
            "height": null,
            "justify_content": null,
            "justify_items": null,
            "left": null,
            "margin": null,
            "max_height": null,
            "max_width": null,
            "min_height": null,
            "min_width": null,
            "object_fit": null,
            "object_position": null,
            "order": null,
            "overflow": null,
            "overflow_x": null,
            "overflow_y": null,
            "padding": null,
            "right": null,
            "top": null,
            "visibility": null,
            "width": null
          }
        },
        "5f905354208a4e9896ecfc3f13679baf": {
          "model_module": "@jupyter-widgets/base",
          "model_module_version": "1.2.0",
          "model_name": "LayoutModel",
          "state": {
            "_model_module": "@jupyter-widgets/base",
            "_model_module_version": "1.2.0",
            "_model_name": "LayoutModel",
            "_view_count": null,
            "_view_module": "@jupyter-widgets/base",
            "_view_module_version": "1.2.0",
            "_view_name": "LayoutView",
            "align_content": null,
            "align_items": null,
            "align_self": null,
            "border": null,
            "bottom": null,
            "display": null,
            "flex": null,
            "flex_flow": null,
            "grid_area": null,
            "grid_auto_columns": null,
            "grid_auto_flow": null,
            "grid_auto_rows": null,
            "grid_column": null,
            "grid_gap": null,
            "grid_row": null,
            "grid_template_areas": null,
            "grid_template_columns": null,
            "grid_template_rows": null,
            "height": null,
            "justify_content": null,
            "justify_items": null,
            "left": null,
            "margin": null,
            "max_height": null,
            "max_width": null,
            "min_height": null,
            "min_width": null,
            "object_fit": null,
            "object_position": null,
            "order": null,
            "overflow": null,
            "overflow_x": null,
            "overflow_y": null,
            "padding": null,
            "right": null,
            "top": null,
            "visibility": null,
            "width": null
          }
        },
        "60258d4042104391b1d42a4685c0225d": {
          "model_module": "@jupyter-widgets/controls",
          "model_module_version": "1.5.0",
          "model_name": "HBoxModel",
          "state": {
            "_dom_classes": [],
            "_model_module": "@jupyter-widgets/controls",
            "_model_module_version": "1.5.0",
            "_model_name": "HBoxModel",
            "_view_count": null,
            "_view_module": "@jupyter-widgets/controls",
            "_view_module_version": "1.5.0",
            "_view_name": "HBoxView",
            "box_style": "",
            "children": [
              "IPY_MODEL_1bb9aa9295424199b91ecc09cade6f54",
              "IPY_MODEL_68d9fd60ec964e2db65959db15cab40f",
              "IPY_MODEL_a7fc064c52654dc2981760a2e3e0f2d7"
            ],
            "layout": "IPY_MODEL_84df066719e341d6a99a9a7524c19fe6"
          }
        },
        "61af082e366c4e88bd0a39f6a474efff": {
          "model_module": "@jupyter-widgets/base",
          "model_module_version": "1.2.0",
          "model_name": "LayoutModel",
          "state": {
            "_model_module": "@jupyter-widgets/base",
            "_model_module_version": "1.2.0",
            "_model_name": "LayoutModel",
            "_view_count": null,
            "_view_module": "@jupyter-widgets/base",
            "_view_module_version": "1.2.0",
            "_view_name": "LayoutView",
            "align_content": null,
            "align_items": null,
            "align_self": null,
            "border": null,
            "bottom": null,
            "display": null,
            "flex": null,
            "flex_flow": null,
            "grid_area": null,
            "grid_auto_columns": null,
            "grid_auto_flow": null,
            "grid_auto_rows": null,
            "grid_column": null,
            "grid_gap": null,
            "grid_row": null,
            "grid_template_areas": null,
            "grid_template_columns": null,
            "grid_template_rows": null,
            "height": null,
            "justify_content": null,
            "justify_items": null,
            "left": null,
            "margin": null,
            "max_height": null,
            "max_width": null,
            "min_height": null,
            "min_width": null,
            "object_fit": null,
            "object_position": null,
            "order": null,
            "overflow": null,
            "overflow_x": null,
            "overflow_y": null,
            "padding": null,
            "right": null,
            "top": null,
            "visibility": null,
            "width": null
          }
        },
        "6609441304d7482bb49e92f293f4d4dc": {
          "model_module": "@jupyter-widgets/base",
          "model_module_version": "1.2.0",
          "model_name": "LayoutModel",
          "state": {
            "_model_module": "@jupyter-widgets/base",
            "_model_module_version": "1.2.0",
            "_model_name": "LayoutModel",
            "_view_count": null,
            "_view_module": "@jupyter-widgets/base",
            "_view_module_version": "1.2.0",
            "_view_name": "LayoutView",
            "align_content": null,
            "align_items": null,
            "align_self": null,
            "border": null,
            "bottom": null,
            "display": null,
            "flex": null,
            "flex_flow": null,
            "grid_area": null,
            "grid_auto_columns": null,
            "grid_auto_flow": null,
            "grid_auto_rows": null,
            "grid_column": null,
            "grid_gap": null,
            "grid_row": null,
            "grid_template_areas": null,
            "grid_template_columns": null,
            "grid_template_rows": null,
            "height": null,
            "justify_content": null,
            "justify_items": null,
            "left": null,
            "margin": null,
            "max_height": null,
            "max_width": null,
            "min_height": null,
            "min_width": null,
            "object_fit": null,
            "object_position": null,
            "order": null,
            "overflow": null,
            "overflow_x": null,
            "overflow_y": null,
            "padding": null,
            "right": null,
            "top": null,
            "visibility": null,
            "width": null
          }
        },
        "66cf60d1131d41789f2ac6dd40433f51": {
          "model_module": "@jupyter-widgets/controls",
          "model_module_version": "1.5.0",
          "model_name": "DescriptionStyleModel",
          "state": {
            "_model_module": "@jupyter-widgets/controls",
            "_model_module_version": "1.5.0",
            "_model_name": "DescriptionStyleModel",
            "_view_count": null,
            "_view_module": "@jupyter-widgets/base",
            "_view_module_version": "1.2.0",
            "_view_name": "StyleView",
            "description_width": ""
          }
        },
        "68d9fd60ec964e2db65959db15cab40f": {
          "model_module": "@jupyter-widgets/controls",
          "model_module_version": "1.5.0",
          "model_name": "FloatProgressModel",
          "state": {
            "_dom_classes": [],
            "_model_module": "@jupyter-widgets/controls",
            "_model_module_version": "1.5.0",
            "_model_name": "FloatProgressModel",
            "_view_count": null,
            "_view_module": "@jupyter-widgets/controls",
            "_view_module_version": "1.5.0",
            "_view_name": "ProgressView",
            "bar_style": "success",
            "description": "",
            "description_tooltip": null,
            "layout": "IPY_MODEL_c3420f433c4d447593e7e579380acb9b",
            "max": 1,
            "min": 0,
            "orientation": "horizontal",
            "style": "IPY_MODEL_fabba6c7e45a4f1a90934107c9384cfd",
            "value": 0
          }
        },
        "69be6584725c4c8eb3c67f6a88f0ba0d": {
          "model_module": "@jupyter-widgets/base",
          "model_module_version": "1.2.0",
          "model_name": "LayoutModel",
          "state": {
            "_model_module": "@jupyter-widgets/base",
            "_model_module_version": "1.2.0",
            "_model_name": "LayoutModel",
            "_view_count": null,
            "_view_module": "@jupyter-widgets/base",
            "_view_module_version": "1.2.0",
            "_view_name": "LayoutView",
            "align_content": null,
            "align_items": null,
            "align_self": null,
            "border": null,
            "bottom": null,
            "display": null,
            "flex": null,
            "flex_flow": null,
            "grid_area": null,
            "grid_auto_columns": null,
            "grid_auto_flow": null,
            "grid_auto_rows": null,
            "grid_column": null,
            "grid_gap": null,
            "grid_row": null,
            "grid_template_areas": null,
            "grid_template_columns": null,
            "grid_template_rows": null,
            "height": null,
            "justify_content": null,
            "justify_items": null,
            "left": null,
            "margin": null,
            "max_height": null,
            "max_width": null,
            "min_height": null,
            "min_width": null,
            "object_fit": null,
            "object_position": null,
            "order": null,
            "overflow": null,
            "overflow_x": null,
            "overflow_y": null,
            "padding": null,
            "right": null,
            "top": null,
            "visibility": null,
            "width": null
          }
        },
        "6bc9503574d646bbb4af755e3cd3e3bd": {
          "model_module": "@jupyter-widgets/controls",
          "model_module_version": "1.5.0",
          "model_name": "HBoxModel",
          "state": {
            "_dom_classes": [],
            "_model_module": "@jupyter-widgets/controls",
            "_model_module_version": "1.5.0",
            "_model_name": "HBoxModel",
            "_view_count": null,
            "_view_module": "@jupyter-widgets/controls",
            "_view_module_version": "1.5.0",
            "_view_name": "HBoxView",
            "box_style": "",
            "children": [
              "IPY_MODEL_02466142c6c24bb3a76bfe582e2c98d7",
              "IPY_MODEL_2375620c24ce43a5a7cdc67a7195ba62",
              "IPY_MODEL_97696705d820421facb0f6b00c317f89"
            ],
            "layout": "IPY_MODEL_070519028e4e4e939e848791c8fba4f8"
          }
        },
        "7133f68258ad45c99368033a26bea133": {
          "model_module": "@jupyter-widgets/controls",
          "model_module_version": "1.5.0",
          "model_name": "HTMLModel",
          "state": {
            "_dom_classes": [],
            "_model_module": "@jupyter-widgets/controls",
            "_model_module_version": "1.5.0",
            "_model_name": "HTMLModel",
            "_view_count": null,
            "_view_module": "@jupyter-widgets/controls",
            "_view_module_version": "1.5.0",
            "_view_name": "HTMLView",
            "description": "",
            "description_tooltip": null,
            "layout": "IPY_MODEL_4290806b83dd406d83224999af168cb0",
            "placeholder": "​",
            "style": "IPY_MODEL_2f54998c726745e18a54cea63178d3c4",
            "value": "pytorch_model.bin: 100%"
          }
        },
        "72394a869e404ef58467494a8c5d9d8e": {
          "model_module": "@jupyter-widgets/base",
          "model_module_version": "1.2.0",
          "model_name": "LayoutModel",
          "state": {
            "_model_module": "@jupyter-widgets/base",
            "_model_module_version": "1.2.0",
            "_model_name": "LayoutModel",
            "_view_count": null,
            "_view_module": "@jupyter-widgets/base",
            "_view_module_version": "1.2.0",
            "_view_name": "LayoutView",
            "align_content": null,
            "align_items": null,
            "align_self": null,
            "border": null,
            "bottom": null,
            "display": null,
            "flex": null,
            "flex_flow": null,
            "grid_area": null,
            "grid_auto_columns": null,
            "grid_auto_flow": null,
            "grid_auto_rows": null,
            "grid_column": null,
            "grid_gap": null,
            "grid_row": null,
            "grid_template_areas": null,
            "grid_template_columns": null,
            "grid_template_rows": null,
            "height": null,
            "justify_content": null,
            "justify_items": null,
            "left": null,
            "margin": null,
            "max_height": null,
            "max_width": null,
            "min_height": null,
            "min_width": null,
            "object_fit": null,
            "object_position": null,
            "order": null,
            "overflow": null,
            "overflow_x": null,
            "overflow_y": null,
            "padding": null,
            "right": null,
            "top": null,
            "visibility": null,
            "width": null
          }
        },
        "7729c08261484537851400243a9f7686": {
          "model_module": "@jupyter-widgets/controls",
          "model_module_version": "1.5.0",
          "model_name": "DescriptionStyleModel",
          "state": {
            "_model_module": "@jupyter-widgets/controls",
            "_model_module_version": "1.5.0",
            "_model_name": "DescriptionStyleModel",
            "_view_count": null,
            "_view_module": "@jupyter-widgets/base",
            "_view_module_version": "1.2.0",
            "_view_name": "StyleView",
            "description_width": ""
          }
        },
        "7a811ac4270b46f18711a2e2ffcd6b14": {
          "model_module": "@jupyter-widgets/controls",
          "model_module_version": "1.5.0",
          "model_name": "HTMLModel",
          "state": {
            "_dom_classes": [],
            "_model_module": "@jupyter-widgets/controls",
            "_model_module_version": "1.5.0",
            "_model_name": "HTMLModel",
            "_view_count": null,
            "_view_module": "@jupyter-widgets/controls",
            "_view_module_version": "1.5.0",
            "_view_name": "HTMLView",
            "description": "",
            "description_tooltip": null,
            "layout": "IPY_MODEL_3ee888a18f6b4979a54eb7b4ad4c735f",
            "placeholder": "​",
            "style": "IPY_MODEL_66cf60d1131d41789f2ac6dd40433f51",
            "value": "config.json: 100%"
          }
        },
        "7b00c09231b64e20837efdce39fe3088": {
          "model_module": "@jupyter-widgets/controls",
          "model_module_version": "1.5.0",
          "model_name": "HBoxModel",
          "state": {
            "_dom_classes": [],
            "_model_module": "@jupyter-widgets/controls",
            "_model_module_version": "1.5.0",
            "_model_name": "HBoxModel",
            "_view_count": null,
            "_view_module": "@jupyter-widgets/controls",
            "_view_module_version": "1.5.0",
            "_view_name": "HBoxView",
            "box_style": "",
            "children": [
              "IPY_MODEL_e976ae9e526e4836b5836b0d71378fc5",
              "IPY_MODEL_e61fe41284004f9b81adba7b5640d80a",
              "IPY_MODEL_459041ab9f7e4815b8f0e6e45b83f531"
            ],
            "layout": "IPY_MODEL_a01f3a32e906444cb59299ca89aef75c"
          }
        },
        "7be10ad736f346e59b64b8761e70a4e4": {
          "model_module": "@jupyter-widgets/controls",
          "model_module_version": "1.5.0",
          "model_name": "DescriptionStyleModel",
          "state": {
            "_model_module": "@jupyter-widgets/controls",
            "_model_module_version": "1.5.0",
            "_model_name": "DescriptionStyleModel",
            "_view_count": null,
            "_view_module": "@jupyter-widgets/base",
            "_view_module_version": "1.2.0",
            "_view_name": "StyleView",
            "description_width": ""
          }
        },
        "82c261d0020449e88f80f5d76faed453": {
          "model_module": "@jupyter-widgets/controls",
          "model_module_version": "1.5.0",
          "model_name": "HTMLModel",
          "state": {
            "_dom_classes": [],
            "_model_module": "@jupyter-widgets/controls",
            "_model_module_version": "1.5.0",
            "_model_name": "HTMLModel",
            "_view_count": null,
            "_view_module": "@jupyter-widgets/controls",
            "_view_module_version": "1.5.0",
            "_view_name": "HTMLView",
            "description": "",
            "description_tooltip": null,
            "layout": "IPY_MODEL_cdc8ec639d354fe88cdb118dbe155a29",
            "placeholder": "​",
            "style": "IPY_MODEL_e1c94b90d50948f0977e923b1c4eae6e",
            "value": "Generating validation split: "
          }
        },
        "84162b58ebd44a1fa2563dd67cd4dec0": {
          "model_module": "@jupyter-widgets/base",
          "model_module_version": "1.2.0",
          "model_name": "LayoutModel",
          "state": {
            "_model_module": "@jupyter-widgets/base",
            "_model_module_version": "1.2.0",
            "_model_name": "LayoutModel",
            "_view_count": null,
            "_view_module": "@jupyter-widgets/base",
            "_view_module_version": "1.2.0",
            "_view_name": "LayoutView",
            "align_content": null,
            "align_items": null,
            "align_self": null,
            "border": null,
            "bottom": null,
            "display": null,
            "flex": null,
            "flex_flow": null,
            "grid_area": null,
            "grid_auto_columns": null,
            "grid_auto_flow": null,
            "grid_auto_rows": null,
            "grid_column": null,
            "grid_gap": null,
            "grid_row": null,
            "grid_template_areas": null,
            "grid_template_columns": null,
            "grid_template_rows": null,
            "height": null,
            "justify_content": null,
            "justify_items": null,
            "left": null,
            "margin": null,
            "max_height": null,
            "max_width": null,
            "min_height": null,
            "min_width": null,
            "object_fit": null,
            "object_position": null,
            "order": null,
            "overflow": null,
            "overflow_x": null,
            "overflow_y": null,
            "padding": null,
            "right": null,
            "top": null,
            "visibility": null,
            "width": null
          }
        },
        "84df066719e341d6a99a9a7524c19fe6": {
          "model_module": "@jupyter-widgets/base",
          "model_module_version": "1.2.0",
          "model_name": "LayoutModel",
          "state": {
            "_model_module": "@jupyter-widgets/base",
            "_model_module_version": "1.2.0",
            "_model_name": "LayoutModel",
            "_view_count": null,
            "_view_module": "@jupyter-widgets/base",
            "_view_module_version": "1.2.0",
            "_view_name": "LayoutView",
            "align_content": null,
            "align_items": null,
            "align_self": null,
            "border": null,
            "bottom": null,
            "display": null,
            "flex": null,
            "flex_flow": null,
            "grid_area": null,
            "grid_auto_columns": null,
            "grid_auto_flow": null,
            "grid_auto_rows": null,
            "grid_column": null,
            "grid_gap": null,
            "grid_row": null,
            "grid_template_areas": null,
            "grid_template_columns": null,
            "grid_template_rows": null,
            "height": null,
            "justify_content": null,
            "justify_items": null,
            "left": null,
            "margin": null,
            "max_height": null,
            "max_width": null,
            "min_height": null,
            "min_width": null,
            "object_fit": null,
            "object_position": null,
            "order": null,
            "overflow": null,
            "overflow_x": null,
            "overflow_y": null,
            "padding": null,
            "right": null,
            "top": null,
            "visibility": null,
            "width": null
          }
        },
        "87c56116531948338d5f2dde995cc9ac": {
          "model_module": "@jupyter-widgets/controls",
          "model_module_version": "1.5.0",
          "model_name": "HTMLModel",
          "state": {
            "_dom_classes": [],
            "_model_module": "@jupyter-widgets/controls",
            "_model_module_version": "1.5.0",
            "_model_name": "HTMLModel",
            "_view_count": null,
            "_view_module": "@jupyter-widgets/controls",
            "_view_module_version": "1.5.0",
            "_view_name": "HTMLView",
            "description": "",
            "description_tooltip": null,
            "layout": "IPY_MODEL_61af082e366c4e88bd0a39f6a474efff",
            "placeholder": "​",
            "style": "IPY_MODEL_9c0ba2b7274a4d379fbe0ae75edd8819",
            "value": " 821/0 [00:00&lt;00:00, 28553.50 examples/s]"
          }
        },
        "87fb489932754d7d98353a1619621499": {
          "model_module": "@jupyter-widgets/controls",
          "model_module_version": "1.5.0",
          "model_name": "DescriptionStyleModel",
          "state": {
            "_model_module": "@jupyter-widgets/controls",
            "_model_module_version": "1.5.0",
            "_model_name": "DescriptionStyleModel",
            "_view_count": null,
            "_view_module": "@jupyter-widgets/base",
            "_view_module_version": "1.2.0",
            "_view_name": "StyleView",
            "description_width": ""
          }
        },
        "8c22c60cc98e4929986af14fdd91624f": {
          "model_module": "@jupyter-widgets/base",
          "model_module_version": "1.2.0",
          "model_name": "LayoutModel",
          "state": {
            "_model_module": "@jupyter-widgets/base",
            "_model_module_version": "1.2.0",
            "_model_name": "LayoutModel",
            "_view_count": null,
            "_view_module": "@jupyter-widgets/base",
            "_view_module_version": "1.2.0",
            "_view_name": "LayoutView",
            "align_content": null,
            "align_items": null,
            "align_self": null,
            "border": null,
            "bottom": null,
            "display": null,
            "flex": null,
            "flex_flow": null,
            "grid_area": null,
            "grid_auto_columns": null,
            "grid_auto_flow": null,
            "grid_auto_rows": null,
            "grid_column": null,
            "grid_gap": null,
            "grid_row": null,
            "grid_template_areas": null,
            "grid_template_columns": null,
            "grid_template_rows": null,
            "height": null,
            "justify_content": null,
            "justify_items": null,
            "left": null,
            "margin": null,
            "max_height": null,
            "max_width": null,
            "min_height": null,
            "min_width": null,
            "object_fit": null,
            "object_position": null,
            "order": null,
            "overflow": null,
            "overflow_x": null,
            "overflow_y": null,
            "padding": null,
            "right": null,
            "top": null,
            "visibility": null,
            "width": null
          }
        },
        "8f24bd1dd65f47f797e016586877ce78": {
          "model_module": "@jupyter-widgets/base",
          "model_module_version": "1.2.0",
          "model_name": "LayoutModel",
          "state": {
            "_model_module": "@jupyter-widgets/base",
            "_model_module_version": "1.2.0",
            "_model_name": "LayoutModel",
            "_view_count": null,
            "_view_module": "@jupyter-widgets/base",
            "_view_module_version": "1.2.0",
            "_view_name": "LayoutView",
            "align_content": null,
            "align_items": null,
            "align_self": null,
            "border": null,
            "bottom": null,
            "display": null,
            "flex": null,
            "flex_flow": null,
            "grid_area": null,
            "grid_auto_columns": null,
            "grid_auto_flow": null,
            "grid_auto_rows": null,
            "grid_column": null,
            "grid_gap": null,
            "grid_row": null,
            "grid_template_areas": null,
            "grid_template_columns": null,
            "grid_template_rows": null,
            "height": null,
            "justify_content": null,
            "justify_items": null,
            "left": null,
            "margin": null,
            "max_height": null,
            "max_width": null,
            "min_height": null,
            "min_width": null,
            "object_fit": null,
            "object_position": null,
            "order": null,
            "overflow": null,
            "overflow_x": null,
            "overflow_y": null,
            "padding": null,
            "right": null,
            "top": null,
            "visibility": null,
            "width": "20px"
          }
        },
        "97696705d820421facb0f6b00c317f89": {
          "model_module": "@jupyter-widgets/controls",
          "model_module_version": "1.5.0",
          "model_name": "HTMLModel",
          "state": {
            "_dom_classes": [],
            "_model_module": "@jupyter-widgets/controls",
            "_model_module_version": "1.5.0",
            "_model_name": "HTMLModel",
            "_view_count": null,
            "_view_module": "@jupyter-widgets/controls",
            "_view_module_version": "1.5.0",
            "_view_name": "HTMLView",
            "description": "",
            "description_tooltip": null,
            "layout": "IPY_MODEL_b814dee7fda444d586722ed29f88b054",
            "placeholder": "​",
            "style": "IPY_MODEL_b7846c0e8e0a4d1897ac0e87159f6899",
            "value": " 3283/0 [00:00&lt;00:00, 46050.71 examples/s]"
          }
        },
        "9c0ba2b7274a4d379fbe0ae75edd8819": {
          "model_module": "@jupyter-widgets/controls",
          "model_module_version": "1.5.0",
          "model_name": "DescriptionStyleModel",
          "state": {
            "_model_module": "@jupyter-widgets/controls",
            "_model_module_version": "1.5.0",
            "_model_name": "DescriptionStyleModel",
            "_view_count": null,
            "_view_module": "@jupyter-widgets/base",
            "_view_module_version": "1.2.0",
            "_view_name": "StyleView",
            "description_width": ""
          }
        },
        "9cd90d97577c4e41b13f32567f2a313a": {
          "model_module": "@jupyter-widgets/controls",
          "model_module_version": "1.5.0",
          "model_name": "FloatProgressModel",
          "state": {
            "_dom_classes": [],
            "_model_module": "@jupyter-widgets/controls",
            "_model_module_version": "1.5.0",
            "_model_name": "FloatProgressModel",
            "_view_count": null,
            "_view_module": "@jupyter-widgets/controls",
            "_view_module_version": "1.5.0",
            "_view_name": "ProgressView",
            "bar_style": "success",
            "description": "",
            "description_tooltip": null,
            "layout": "IPY_MODEL_08446a145df74417a74adf87504850eb",
            "max": 1768,
            "min": 0,
            "orientation": "horizontal",
            "style": "IPY_MODEL_be773d9d20c344b2922ff4f72a58009b",
            "value": 1768
          }
        },
        "9d50a81a41e244889a1df24351cb7e2c": {
          "model_module": "@jupyter-widgets/base",
          "model_module_version": "1.2.0",
          "model_name": "LayoutModel",
          "state": {
            "_model_module": "@jupyter-widgets/base",
            "_model_module_version": "1.2.0",
            "_model_name": "LayoutModel",
            "_view_count": null,
            "_view_module": "@jupyter-widgets/base",
            "_view_module_version": "1.2.0",
            "_view_name": "LayoutView",
            "align_content": null,
            "align_items": null,
            "align_self": null,
            "border": null,
            "bottom": null,
            "display": null,
            "flex": null,
            "flex_flow": null,
            "grid_area": null,
            "grid_auto_columns": null,
            "grid_auto_flow": null,
            "grid_auto_rows": null,
            "grid_column": null,
            "grid_gap": null,
            "grid_row": null,
            "grid_template_areas": null,
            "grid_template_columns": null,
            "grid_template_rows": null,
            "height": null,
            "justify_content": null,
            "justify_items": null,
            "left": null,
            "margin": null,
            "max_height": null,
            "max_width": null,
            "min_height": null,
            "min_width": null,
            "object_fit": null,
            "object_position": null,
            "order": null,
            "overflow": null,
            "overflow_x": null,
            "overflow_y": null,
            "padding": null,
            "right": null,
            "top": null,
            "visibility": null,
            "width": null
          }
        },
        "a01f3a32e906444cb59299ca89aef75c": {
          "model_module": "@jupyter-widgets/base",
          "model_module_version": "1.2.0",
          "model_name": "LayoutModel",
          "state": {
            "_model_module": "@jupyter-widgets/base",
            "_model_module_version": "1.2.0",
            "_model_name": "LayoutModel",
            "_view_count": null,
            "_view_module": "@jupyter-widgets/base",
            "_view_module_version": "1.2.0",
            "_view_name": "LayoutView",
            "align_content": null,
            "align_items": null,
            "align_self": null,
            "border": null,
            "bottom": null,
            "display": null,
            "flex": null,
            "flex_flow": null,
            "grid_area": null,
            "grid_auto_columns": null,
            "grid_auto_flow": null,
            "grid_auto_rows": null,
            "grid_column": null,
            "grid_gap": null,
            "grid_row": null,
            "grid_template_areas": null,
            "grid_template_columns": null,
            "grid_template_rows": null,
            "height": null,
            "justify_content": null,
            "justify_items": null,
            "left": null,
            "margin": null,
            "max_height": null,
            "max_width": null,
            "min_height": null,
            "min_width": null,
            "object_fit": null,
            "object_position": null,
            "order": null,
            "overflow": null,
            "overflow_x": null,
            "overflow_y": null,
            "padding": null,
            "right": null,
            "top": null,
            "visibility": null,
            "width": null
          }
        },
        "a07cfab0d06a4a45b387dc37dfc2671a": {
          "model_module": "@jupyter-widgets/controls",
          "model_module_version": "1.5.0",
          "model_name": "DescriptionStyleModel",
          "state": {
            "_model_module": "@jupyter-widgets/controls",
            "_model_module_version": "1.5.0",
            "_model_name": "DescriptionStyleModel",
            "_view_count": null,
            "_view_module": "@jupyter-widgets/base",
            "_view_module_version": "1.2.0",
            "_view_name": "StyleView",
            "description_width": ""
          }
        },
        "a113ecbb240a4a30a0b3e346f01e12dd": {
          "model_module": "@jupyter-widgets/base",
          "model_module_version": "1.2.0",
          "model_name": "LayoutModel",
          "state": {
            "_model_module": "@jupyter-widgets/base",
            "_model_module_version": "1.2.0",
            "_model_name": "LayoutModel",
            "_view_count": null,
            "_view_module": "@jupyter-widgets/base",
            "_view_module_version": "1.2.0",
            "_view_name": "LayoutView",
            "align_content": null,
            "align_items": null,
            "align_self": null,
            "border": null,
            "bottom": null,
            "display": null,
            "flex": null,
            "flex_flow": null,
            "grid_area": null,
            "grid_auto_columns": null,
            "grid_auto_flow": null,
            "grid_auto_rows": null,
            "grid_column": null,
            "grid_gap": null,
            "grid_row": null,
            "grid_template_areas": null,
            "grid_template_columns": null,
            "grid_template_rows": null,
            "height": null,
            "justify_content": null,
            "justify_items": null,
            "left": null,
            "margin": null,
            "max_height": null,
            "max_width": null,
            "min_height": null,
            "min_width": null,
            "object_fit": null,
            "object_position": null,
            "order": null,
            "overflow": null,
            "overflow_x": null,
            "overflow_y": null,
            "padding": null,
            "right": null,
            "top": null,
            "visibility": null,
            "width": "20px"
          }
        },
        "a146d1bd9344405a8131c42e0e8d70e7": {
          "model_module": "@jupyter-widgets/controls",
          "model_module_version": "1.5.0",
          "model_name": "HTMLModel",
          "state": {
            "_dom_classes": [],
            "_model_module": "@jupyter-widgets/controls",
            "_model_module_version": "1.5.0",
            "_model_name": "HTMLModel",
            "_view_count": null,
            "_view_module": "@jupyter-widgets/controls",
            "_view_module_version": "1.5.0",
            "_view_name": "HTMLView",
            "description": "",
            "description_tooltip": null,
            "layout": "IPY_MODEL_414b962a3115441da7ea56525e11565c",
            "placeholder": "​",
            "style": "IPY_MODEL_e0f08ac478154dfd88d58b30096cf6c0",
            "value": "preprocessor_config.json: 100%"
          }
        },
        "a2489033e6194d2a877e75bce3351217": {
          "model_module": "@jupyter-widgets/base",
          "model_module_version": "1.2.0",
          "model_name": "LayoutModel",
          "state": {
            "_model_module": "@jupyter-widgets/base",
            "_model_module_version": "1.2.0",
            "_model_name": "LayoutModel",
            "_view_count": null,
            "_view_module": "@jupyter-widgets/base",
            "_view_module_version": "1.2.0",
            "_view_name": "LayoutView",
            "align_content": null,
            "align_items": null,
            "align_self": null,
            "border": null,
            "bottom": null,
            "display": null,
            "flex": null,
            "flex_flow": null,
            "grid_area": null,
            "grid_auto_columns": null,
            "grid_auto_flow": null,
            "grid_auto_rows": null,
            "grid_column": null,
            "grid_gap": null,
            "grid_row": null,
            "grid_template_areas": null,
            "grid_template_columns": null,
            "grid_template_rows": null,
            "height": null,
            "justify_content": null,
            "justify_items": null,
            "left": null,
            "margin": null,
            "max_height": null,
            "max_width": null,
            "min_height": null,
            "min_width": null,
            "object_fit": null,
            "object_position": null,
            "order": null,
            "overflow": null,
            "overflow_x": null,
            "overflow_y": null,
            "padding": null,
            "right": null,
            "top": null,
            "visibility": null,
            "width": null
          }
        },
        "a386b101bf804f0f9a0f71412072e0d4": {
          "model_module": "@jupyter-widgets/controls",
          "model_module_version": "1.5.0",
          "model_name": "HBoxModel",
          "state": {
            "_dom_classes": [],
            "_model_module": "@jupyter-widgets/controls",
            "_model_module_version": "1.5.0",
            "_model_name": "HBoxModel",
            "_view_count": null,
            "_view_module": "@jupyter-widgets/controls",
            "_view_module_version": "1.5.0",
            "_view_name": "HBoxView",
            "box_style": "",
            "children": [
              "IPY_MODEL_a146d1bd9344405a8131c42e0e8d70e7",
              "IPY_MODEL_5646d6b3cf974c3d9b2571d8556cc92a",
              "IPY_MODEL_0436f4ba0a344253a944b70f249361a9"
            ],
            "layout": "IPY_MODEL_03955f8da28241dfa158a9afaecbe02b"
          }
        },
        "a3eede0e854a4ae393cc9cec3970f5aa": {
          "model_module": "@jupyter-widgets/base",
          "model_module_version": "1.2.0",
          "model_name": "LayoutModel",
          "state": {
            "_model_module": "@jupyter-widgets/base",
            "_model_module_version": "1.2.0",
            "_model_name": "LayoutModel",
            "_view_count": null,
            "_view_module": "@jupyter-widgets/base",
            "_view_module_version": "1.2.0",
            "_view_name": "LayoutView",
            "align_content": null,
            "align_items": null,
            "align_self": null,
            "border": null,
            "bottom": null,
            "display": null,
            "flex": null,
            "flex_flow": null,
            "grid_area": null,
            "grid_auto_columns": null,
            "grid_auto_flow": null,
            "grid_auto_rows": null,
            "grid_column": null,
            "grid_gap": null,
            "grid_row": null,
            "grid_template_areas": null,
            "grid_template_columns": null,
            "grid_template_rows": null,
            "height": null,
            "justify_content": null,
            "justify_items": null,
            "left": null,
            "margin": null,
            "max_height": null,
            "max_width": null,
            "min_height": null,
            "min_width": null,
            "object_fit": null,
            "object_position": null,
            "order": null,
            "overflow": null,
            "overflow_x": null,
            "overflow_y": null,
            "padding": null,
            "right": null,
            "top": null,
            "visibility": null,
            "width": null
          }
        },
        "a7fc064c52654dc2981760a2e3e0f2d7": {
          "model_module": "@jupyter-widgets/controls",
          "model_module_version": "1.5.0",
          "model_name": "HTMLModel",
          "state": {
            "_dom_classes": [],
            "_model_module": "@jupyter-widgets/controls",
            "_model_module_version": "1.5.0",
            "_model_name": "HTMLModel",
            "_view_count": null,
            "_view_module": "@jupyter-widgets/controls",
            "_view_module_version": "1.5.0",
            "_view_name": "HTMLView",
            "description": "",
            "description_tooltip": null,
            "layout": "IPY_MODEL_faeaeb0489604dd19390c80d03bf42e0",
            "placeholder": "​",
            "style": "IPY_MODEL_1d7b73b315704b3ca070d2034c0a18be",
            "value": " 0/0 [00:00&lt;?, ?it/s]"
          }
        },
        "b2919f1f580c435aa58a24605077b5df": {
          "model_module": "@jupyter-widgets/controls",
          "model_module_version": "1.5.0",
          "model_name": "ProgressStyleModel",
          "state": {
            "_model_module": "@jupyter-widgets/controls",
            "_model_module_version": "1.5.0",
            "_model_name": "ProgressStyleModel",
            "_view_count": null,
            "_view_module": "@jupyter-widgets/base",
            "_view_module_version": "1.2.0",
            "_view_name": "StyleView",
            "bar_color": null,
            "description_width": ""
          }
        },
        "b6e672714fc5455fbaf2a6e7044f6046": {
          "model_module": "@jupyter-widgets/controls",
          "model_module_version": "1.5.0",
          "model_name": "ProgressStyleModel",
          "state": {
            "_model_module": "@jupyter-widgets/controls",
            "_model_module_version": "1.5.0",
            "_model_name": "ProgressStyleModel",
            "_view_count": null,
            "_view_module": "@jupyter-widgets/base",
            "_view_module_version": "1.2.0",
            "_view_name": "StyleView",
            "bar_color": null,
            "description_width": ""
          }
        },
        "b7846c0e8e0a4d1897ac0e87159f6899": {
          "model_module": "@jupyter-widgets/controls",
          "model_module_version": "1.5.0",
          "model_name": "DescriptionStyleModel",
          "state": {
            "_model_module": "@jupyter-widgets/controls",
            "_model_module_version": "1.5.0",
            "_model_name": "DescriptionStyleModel",
            "_view_count": null,
            "_view_module": "@jupyter-widgets/base",
            "_view_module_version": "1.2.0",
            "_view_name": "StyleView",
            "description_width": ""
          }
        },
        "b814dee7fda444d586722ed29f88b054": {
          "model_module": "@jupyter-widgets/base",
          "model_module_version": "1.2.0",
          "model_name": "LayoutModel",
          "state": {
            "_model_module": "@jupyter-widgets/base",
            "_model_module_version": "1.2.0",
            "_model_name": "LayoutModel",
            "_view_count": null,
            "_view_module": "@jupyter-widgets/base",
            "_view_module_version": "1.2.0",
            "_view_name": "LayoutView",
            "align_content": null,
            "align_items": null,
            "align_self": null,
            "border": null,
            "bottom": null,
            "display": null,
            "flex": null,
            "flex_flow": null,
            "grid_area": null,
            "grid_auto_columns": null,
            "grid_auto_flow": null,
            "grid_auto_rows": null,
            "grid_column": null,
            "grid_gap": null,
            "grid_row": null,
            "grid_template_areas": null,
            "grid_template_columns": null,
            "grid_template_rows": null,
            "height": null,
            "justify_content": null,
            "justify_items": null,
            "left": null,
            "margin": null,
            "max_height": null,
            "max_width": null,
            "min_height": null,
            "min_width": null,
            "object_fit": null,
            "object_position": null,
            "order": null,
            "overflow": null,
            "overflow_x": null,
            "overflow_y": null,
            "padding": null,
            "right": null,
            "top": null,
            "visibility": null,
            "width": null
          }
        },
        "be773d9d20c344b2922ff4f72a58009b": {
          "model_module": "@jupyter-widgets/controls",
          "model_module_version": "1.5.0",
          "model_name": "ProgressStyleModel",
          "state": {
            "_model_module": "@jupyter-widgets/controls",
            "_model_module_version": "1.5.0",
            "_model_name": "ProgressStyleModel",
            "_view_count": null,
            "_view_module": "@jupyter-widgets/base",
            "_view_module_version": "1.2.0",
            "_view_name": "StyleView",
            "bar_color": null,
            "description_width": ""
          }
        },
        "bf57c3f360214fd28caa375a048e95b0": {
          "model_module": "@jupyter-widgets/controls",
          "model_module_version": "1.5.0",
          "model_name": "ProgressStyleModel",
          "state": {
            "_model_module": "@jupyter-widgets/controls",
            "_model_module_version": "1.5.0",
            "_model_name": "ProgressStyleModel",
            "_view_count": null,
            "_view_module": "@jupyter-widgets/base",
            "_view_module_version": "1.2.0",
            "_view_name": "StyleView",
            "bar_color": null,
            "description_width": ""
          }
        },
        "c174b22e20fe4b2692b26e6ce60e97e8": {
          "model_module": "@jupyter-widgets/controls",
          "model_module_version": "1.5.0",
          "model_name": "ProgressStyleModel",
          "state": {
            "_model_module": "@jupyter-widgets/controls",
            "_model_module_version": "1.5.0",
            "_model_name": "ProgressStyleModel",
            "_view_count": null,
            "_view_module": "@jupyter-widgets/base",
            "_view_module_version": "1.2.0",
            "_view_name": "StyleView",
            "bar_color": null,
            "description_width": ""
          }
        },
        "c3420f433c4d447593e7e579380acb9b": {
          "model_module": "@jupyter-widgets/base",
          "model_module_version": "1.2.0",
          "model_name": "LayoutModel",
          "state": {
            "_model_module": "@jupyter-widgets/base",
            "_model_module_version": "1.2.0",
            "_model_name": "LayoutModel",
            "_view_count": null,
            "_view_module": "@jupyter-widgets/base",
            "_view_module_version": "1.2.0",
            "_view_name": "LayoutView",
            "align_content": null,
            "align_items": null,
            "align_self": null,
            "border": null,
            "bottom": null,
            "display": null,
            "flex": null,
            "flex_flow": null,
            "grid_area": null,
            "grid_auto_columns": null,
            "grid_auto_flow": null,
            "grid_auto_rows": null,
            "grid_column": null,
            "grid_gap": null,
            "grid_row": null,
            "grid_template_areas": null,
            "grid_template_columns": null,
            "grid_template_rows": null,
            "height": null,
            "justify_content": null,
            "justify_items": null,
            "left": null,
            "margin": null,
            "max_height": null,
            "max_width": null,
            "min_height": null,
            "min_width": null,
            "object_fit": null,
            "object_position": null,
            "order": null,
            "overflow": null,
            "overflow_x": null,
            "overflow_y": null,
            "padding": null,
            "right": null,
            "top": null,
            "visibility": null,
            "width": "20px"
          }
        },
        "c4cfee75c9d14d2bafcfbf871ce3fbc8": {
          "model_module": "@jupyter-widgets/controls",
          "model_module_version": "1.5.0",
          "model_name": "FloatProgressModel",
          "state": {
            "_dom_classes": [],
            "_model_module": "@jupyter-widgets/controls",
            "_model_module_version": "1.5.0",
            "_model_name": "FloatProgressModel",
            "_view_count": null,
            "_view_module": "@jupyter-widgets/controls",
            "_view_module_version": "1.5.0",
            "_view_name": "ProgressView",
            "bar_style": "success",
            "description": "",
            "description_tooltip": null,
            "layout": "IPY_MODEL_a113ecbb240a4a30a0b3e346f01e12dd",
            "max": 1,
            "min": 0,
            "orientation": "horizontal",
            "style": "IPY_MODEL_45212ee9f7dc486fadc535e9a90f1420",
            "value": 1
          }
        },
        "c8d3126fbda14474aad4d9712a3cfe50": {
          "model_module": "@jupyter-widgets/controls",
          "model_module_version": "1.5.0",
          "model_name": "DescriptionStyleModel",
          "state": {
            "_model_module": "@jupyter-widgets/controls",
            "_model_module_version": "1.5.0",
            "_model_name": "DescriptionStyleModel",
            "_view_count": null,
            "_view_module": "@jupyter-widgets/base",
            "_view_module_version": "1.2.0",
            "_view_name": "StyleView",
            "description_width": ""
          }
        },
        "cdb05b93e52b42a0bd8bb3cf793273b8": {
          "model_module": "@jupyter-widgets/base",
          "model_module_version": "1.2.0",
          "model_name": "LayoutModel",
          "state": {
            "_model_module": "@jupyter-widgets/base",
            "_model_module_version": "1.2.0",
            "_model_name": "LayoutModel",
            "_view_count": null,
            "_view_module": "@jupyter-widgets/base",
            "_view_module_version": "1.2.0",
            "_view_name": "LayoutView",
            "align_content": null,
            "align_items": null,
            "align_self": null,
            "border": null,
            "bottom": null,
            "display": null,
            "flex": null,
            "flex_flow": null,
            "grid_area": null,
            "grid_auto_columns": null,
            "grid_auto_flow": null,
            "grid_auto_rows": null,
            "grid_column": null,
            "grid_gap": null,
            "grid_row": null,
            "grid_template_areas": null,
            "grid_template_columns": null,
            "grid_template_rows": null,
            "height": null,
            "justify_content": null,
            "justify_items": null,
            "left": null,
            "margin": null,
            "max_height": null,
            "max_width": null,
            "min_height": null,
            "min_width": null,
            "object_fit": null,
            "object_position": null,
            "order": null,
            "overflow": null,
            "overflow_x": null,
            "overflow_y": null,
            "padding": null,
            "right": null,
            "top": null,
            "visibility": null,
            "width": null
          }
        },
        "cdc8ec639d354fe88cdb118dbe155a29": {
          "model_module": "@jupyter-widgets/base",
          "model_module_version": "1.2.0",
          "model_name": "LayoutModel",
          "state": {
            "_model_module": "@jupyter-widgets/base",
            "_model_module_version": "1.2.0",
            "_model_name": "LayoutModel",
            "_view_count": null,
            "_view_module": "@jupyter-widgets/base",
            "_view_module_version": "1.2.0",
            "_view_name": "LayoutView",
            "align_content": null,
            "align_items": null,
            "align_self": null,
            "border": null,
            "bottom": null,
            "display": null,
            "flex": null,
            "flex_flow": null,
            "grid_area": null,
            "grid_auto_columns": null,
            "grid_auto_flow": null,
            "grid_auto_rows": null,
            "grid_column": null,
            "grid_gap": null,
            "grid_row": null,
            "grid_template_areas": null,
            "grid_template_columns": null,
            "grid_template_rows": null,
            "height": null,
            "justify_content": null,
            "justify_items": null,
            "left": null,
            "margin": null,
            "max_height": null,
            "max_width": null,
            "min_height": null,
            "min_width": null,
            "object_fit": null,
            "object_position": null,
            "order": null,
            "overflow": null,
            "overflow_x": null,
            "overflow_y": null,
            "padding": null,
            "right": null,
            "top": null,
            "visibility": null,
            "width": null
          }
        },
        "d9016606c6d3483e8a48d8bdd1c9cca5": {
          "model_module": "@jupyter-widgets/controls",
          "model_module_version": "1.5.0",
          "model_name": "HBoxModel",
          "state": {
            "_dom_classes": [],
            "_model_module": "@jupyter-widgets/controls",
            "_model_module_version": "1.5.0",
            "_model_name": "HBoxModel",
            "_view_count": null,
            "_view_module": "@jupyter-widgets/controls",
            "_view_module_version": "1.5.0",
            "_view_name": "HBoxView",
            "box_style": "",
            "children": [
              "IPY_MODEL_7133f68258ad45c99368033a26bea133",
              "IPY_MODEL_186aaef493c94b89b01b3573dad29da4",
              "IPY_MODEL_fe63bedbce924346bfa082344678ea32"
            ],
            "layout": "IPY_MODEL_184c7c132bc7449e8d3ac27ffa609c94"
          }
        },
        "e0a50e46b3d64db88024c43f04cd4c83": {
          "model_module": "@jupyter-widgets/base",
          "model_module_version": "1.2.0",
          "model_name": "LayoutModel",
          "state": {
            "_model_module": "@jupyter-widgets/base",
            "_model_module_version": "1.2.0",
            "_model_name": "LayoutModel",
            "_view_count": null,
            "_view_module": "@jupyter-widgets/base",
            "_view_module_version": "1.2.0",
            "_view_name": "LayoutView",
            "align_content": null,
            "align_items": null,
            "align_self": null,
            "border": null,
            "bottom": null,
            "display": null,
            "flex": null,
            "flex_flow": null,
            "grid_area": null,
            "grid_auto_columns": null,
            "grid_auto_flow": null,
            "grid_auto_rows": null,
            "grid_column": null,
            "grid_gap": null,
            "grid_row": null,
            "grid_template_areas": null,
            "grid_template_columns": null,
            "grid_template_rows": null,
            "height": null,
            "justify_content": null,
            "justify_items": null,
            "left": null,
            "margin": null,
            "max_height": null,
            "max_width": null,
            "min_height": null,
            "min_width": null,
            "object_fit": null,
            "object_position": null,
            "order": null,
            "overflow": null,
            "overflow_x": null,
            "overflow_y": null,
            "padding": null,
            "right": null,
            "top": null,
            "visibility": null,
            "width": null
          }
        },
        "e0f08ac478154dfd88d58b30096cf6c0": {
          "model_module": "@jupyter-widgets/controls",
          "model_module_version": "1.5.0",
          "model_name": "DescriptionStyleModel",
          "state": {
            "_model_module": "@jupyter-widgets/controls",
            "_model_module_version": "1.5.0",
            "_model_name": "DescriptionStyleModel",
            "_view_count": null,
            "_view_module": "@jupyter-widgets/base",
            "_view_module_version": "1.2.0",
            "_view_name": "StyleView",
            "description_width": ""
          }
        },
        "e1c94b90d50948f0977e923b1c4eae6e": {
          "model_module": "@jupyter-widgets/controls",
          "model_module_version": "1.5.0",
          "model_name": "DescriptionStyleModel",
          "state": {
            "_model_module": "@jupyter-widgets/controls",
            "_model_module_version": "1.5.0",
            "_model_name": "DescriptionStyleModel",
            "_view_count": null,
            "_view_module": "@jupyter-widgets/base",
            "_view_module_version": "1.2.0",
            "_view_name": "StyleView",
            "description_width": ""
          }
        },
        "e61fe41284004f9b81adba7b5640d80a": {
          "model_module": "@jupyter-widgets/controls",
          "model_module_version": "1.5.0",
          "model_name": "FloatProgressModel",
          "state": {
            "_dom_classes": [],
            "_model_module": "@jupyter-widgets/controls",
            "_model_module_version": "1.5.0",
            "_model_name": "FloatProgressModel",
            "_view_count": null,
            "_view_module": "@jupyter-widgets/controls",
            "_view_module_version": "1.5.0",
            "_view_name": "ProgressView",
            "bar_style": "success",
            "description": "",
            "description_tooltip": null,
            "layout": "IPY_MODEL_9d50a81a41e244889a1df24351cb7e2c",
            "max": 3283,
            "min": 0,
            "orientation": "horizontal",
            "style": "IPY_MODEL_2521434905d5469b8d56f2166302e58f",
            "value": 3283
          }
        },
        "e976ae9e526e4836b5836b0d71378fc5": {
          "model_module": "@jupyter-widgets/controls",
          "model_module_version": "1.5.0",
          "model_name": "HTMLModel",
          "state": {
            "_dom_classes": [],
            "_model_module": "@jupyter-widgets/controls",
            "_model_module_version": "1.5.0",
            "_model_name": "HTMLModel",
            "_view_count": null,
            "_view_module": "@jupyter-widgets/controls",
            "_view_module_version": "1.5.0",
            "_view_name": "HTMLView",
            "description": "",
            "description_tooltip": null,
            "layout": "IPY_MODEL_84162b58ebd44a1fa2563dd67cd4dec0",
            "placeholder": "​",
            "style": "IPY_MODEL_0b3835ef7e0644fbbae707024d11aee8",
            "value": "Map (num_proc=4): 100%"
          }
        },
        "edb5bf54b8c74c7c8d23c347bb6f40c0": {
          "model_module": "@jupyter-widgets/base",
          "model_module_version": "1.2.0",
          "model_name": "LayoutModel",
          "state": {
            "_model_module": "@jupyter-widgets/base",
            "_model_module_version": "1.2.0",
            "_model_name": "LayoutModel",
            "_view_count": null,
            "_view_module": "@jupyter-widgets/base",
            "_view_module_version": "1.2.0",
            "_view_name": "LayoutView",
            "align_content": null,
            "align_items": null,
            "align_self": null,
            "border": null,
            "bottom": null,
            "display": null,
            "flex": null,
            "flex_flow": null,
            "grid_area": null,
            "grid_auto_columns": null,
            "grid_auto_flow": null,
            "grid_auto_rows": null,
            "grid_column": null,
            "grid_gap": null,
            "grid_row": null,
            "grid_template_areas": null,
            "grid_template_columns": null,
            "grid_template_rows": null,
            "height": null,
            "justify_content": null,
            "justify_items": null,
            "left": null,
            "margin": null,
            "max_height": null,
            "max_width": null,
            "min_height": null,
            "min_width": null,
            "object_fit": null,
            "object_position": null,
            "order": null,
            "overflow": null,
            "overflow_x": null,
            "overflow_y": null,
            "padding": null,
            "right": null,
            "top": null,
            "visibility": null,
            "width": null
          }
        },
        "eee58ce2ae4a4cdf89d9d24e4ab47960": {
          "model_module": "@jupyter-widgets/controls",
          "model_module_version": "1.5.0",
          "model_name": "HTMLModel",
          "state": {
            "_dom_classes": [],
            "_model_module": "@jupyter-widgets/controls",
            "_model_module_version": "1.5.0",
            "_model_name": "HTMLModel",
            "_view_count": null,
            "_view_module": "@jupyter-widgets/controls",
            "_view_module_version": "1.5.0",
            "_view_name": "HTMLView",
            "description": "",
            "description_tooltip": null,
            "layout": "IPY_MODEL_002fefb1d9054f79a8635ddd3a1faa68",
            "placeholder": "​",
            "style": "IPY_MODEL_5b3ce0832b12432db3be3d125fe6c1e1",
            "value": "Map (num_proc=4): 100%"
          }
        },
        "f4a32c227a044ee6ba3977a5d0988ab0": {
          "model_module": "@jupyter-widgets/controls",
          "model_module_version": "1.5.0",
          "model_name": "HTMLModel",
          "state": {
            "_dom_classes": [],
            "_model_module": "@jupyter-widgets/controls",
            "_model_module_version": "1.5.0",
            "_model_name": "HTMLModel",
            "_view_count": null,
            "_view_module": "@jupyter-widgets/controls",
            "_view_module_version": "1.5.0",
            "_view_name": "HTMLView",
            "description": "",
            "description_tooltip": null,
            "layout": "IPY_MODEL_72394a869e404ef58467494a8c5d9d8e",
            "placeholder": "​",
            "style": "IPY_MODEL_7be10ad736f346e59b64b8761e70a4e4",
            "value": " 1.77k/1.77k [00:00&lt;00:00, 78.4kB/s]"
          }
        },
        "f84e80019ca4415587d16d23b3282f0d": {
          "model_module": "@jupyter-widgets/controls",
          "model_module_version": "1.5.0",
          "model_name": "HTMLModel",
          "state": {
            "_dom_classes": [],
            "_model_module": "@jupyter-widgets/controls",
            "_model_module_version": "1.5.0",
            "_model_name": "HTMLModel",
            "_view_count": null,
            "_view_module": "@jupyter-widgets/controls",
            "_view_module_version": "1.5.0",
            "_view_name": "HTMLView",
            "description": "",
            "description_tooltip": null,
            "layout": "IPY_MODEL_69be6584725c4c8eb3c67f6a88f0ba0d",
            "placeholder": "​",
            "style": "IPY_MODEL_596907c3e3e24e5490ed6982b955cfe9",
            "value": " 821/821 [00:12&lt;00:00, 151.91 examples/s]"
          }
        },
        "fabba6c7e45a4f1a90934107c9384cfd": {
          "model_module": "@jupyter-widgets/controls",
          "model_module_version": "1.5.0",
          "model_name": "ProgressStyleModel",
          "state": {
            "_model_module": "@jupyter-widgets/controls",
            "_model_module_version": "1.5.0",
            "_model_name": "ProgressStyleModel",
            "_view_count": null,
            "_view_module": "@jupyter-widgets/base",
            "_view_module_version": "1.2.0",
            "_view_name": "StyleView",
            "bar_color": null,
            "description_width": ""
          }
        },
        "faeaeb0489604dd19390c80d03bf42e0": {
          "model_module": "@jupyter-widgets/base",
          "model_module_version": "1.2.0",
          "model_name": "LayoutModel",
          "state": {
            "_model_module": "@jupyter-widgets/base",
            "_model_module_version": "1.2.0",
            "_model_name": "LayoutModel",
            "_view_count": null,
            "_view_module": "@jupyter-widgets/base",
            "_view_module_version": "1.2.0",
            "_view_name": "LayoutView",
            "align_content": null,
            "align_items": null,
            "align_self": null,
            "border": null,
            "bottom": null,
            "display": null,
            "flex": null,
            "flex_flow": null,
            "grid_area": null,
            "grid_auto_columns": null,
            "grid_auto_flow": null,
            "grid_auto_rows": null,
            "grid_column": null,
            "grid_gap": null,
            "grid_row": null,
            "grid_template_areas": null,
            "grid_template_columns": null,
            "grid_template_rows": null,
            "height": null,
            "justify_content": null,
            "justify_items": null,
            "left": null,
            "margin": null,
            "max_height": null,
            "max_width": null,
            "min_height": null,
            "min_width": null,
            "object_fit": null,
            "object_position": null,
            "order": null,
            "overflow": null,
            "overflow_x": null,
            "overflow_y": null,
            "padding": null,
            "right": null,
            "top": null,
            "visibility": null,
            "width": null
          }
        },
        "fe63bedbce924346bfa082344678ea32": {
          "model_module": "@jupyter-widgets/controls",
          "model_module_version": "1.5.0",
          "model_name": "HTMLModel",
          "state": {
            "_dom_classes": [],
            "_model_module": "@jupyter-widgets/controls",
            "_model_module_version": "1.5.0",
            "_model_name": "HTMLModel",
            "_view_count": null,
            "_view_module": "@jupyter-widgets/controls",
            "_view_module_version": "1.5.0",
            "_view_name": "HTMLView",
            "description": "",
            "description_tooltip": null,
            "layout": "IPY_MODEL_edb5bf54b8c74c7c8d23c347bb6f40c0",
            "placeholder": "​",
            "style": "IPY_MODEL_a07cfab0d06a4a45b387dc37dfc2671a",
            "value": " 1.27G/1.27G [00:05&lt;00:00, 259MB/s]"
          }
        }
      }
    }
  },
  "nbformat": 4,
  "nbformat_minor": 0
}
